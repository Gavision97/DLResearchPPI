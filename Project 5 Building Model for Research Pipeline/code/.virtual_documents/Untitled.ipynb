def PRINT() -> None: print(f"{'-'*80}\nDone\n{'-'*80}")
def PRINTM(M) -> None: print(f"{'-'*80}\n{M}\n{'-'*80}")





import os
import pandas as pd


pt_dataset_path = os.path.join('datasets', 'final_dataset_2_0.75.csv')
pt_dataset = pd.read_csv(pt_dataset_path)

PRINTM('Loaded the dataset successfully')


pt_dataset.head()






