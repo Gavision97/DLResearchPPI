





from rdkit import Chem
from rdkit.Chem import AllChem
from rdkit.Chem import Descriptors
from rdkit.Chem import Draw
from rdkit.Chem.rdMolDescriptors import CalcNumAtomStereoCenters
from rdkit.Chem.rdchem import BondType
from rdkit.Chem.AllChem import GetMorganFingerprintAsBitVect


def PRINT() -> None: print(f"{'-'*80}\nDone\n{'-'*80}")
def PRINTM(M) -> None: print(f"{'-'*80}\n{M}\n{'-'*80}")





import os
import pandas as pd


pt_dataset_path = os.path.join('datasets', 'output_file.csv')
pt_dataset = pd.read_csv(pt_dataset_path)

PRINTM('Loaded the dataset successfully')


pt_dataset.head()


pt_dataset.drop(columns=['Name'], inplace=True)
PRINT()


pt_dataset


PRINTM(f'The shape of the dateset -> {pt_dataset.shape}')


sample_smiles = pt_dataset['SMILES'].head(15)
molecules = [Chem.MolFromSmiles(smile) for smile in sample_smiles]

# Visualize the molecules
img = Draw.MolsToGridImage(molecules, molsPerRow=5, subImgSize=(300, 200))
img





initial_descriptor_names = [
    "NumAtomStereoCenters",
    "NumAminoBonds",
    "MolWt",
    "NumValenceElectrons",
    "TPSA",
    "MolLogP",
    "NumHeteroatoms",
    "NumRotatableBonds",
    "HeavyAtomCount",
    "FractionCSP3",
    "NumAtomStereoCenters",
    "NumAminoBonds"
]


def generate_descriptors(smiles):
    mol = Chem.MolFromSmiles(smiles)
    if mol is not None:
        initial_descriptors = [
            AllChem.CalcNumAtomStereoCenters(mol),
            AllChem.CalcNumAmideBonds(mol),
            Descriptors.MolWt(mol),
            Descriptors.NumValenceElectrons(mol),
            Descriptors.TPSA(mol),
            Descriptors.MolLogP(mol),
            Descriptors.NumHeteroatoms(mol),
            Descriptors.NumRotatableBonds(mol),
            Descriptors.HeavyAtomCount(mol),
            Descriptors.FractionCSP3(mol)
        ]
        
        all_descriptors = []
        descriptor_names = []
        for name, func in Descriptors.descList:
            all_descriptors.append(func(mol))
            descriptor_names.append(name)
        
        # Compute Morgan fingerprints of size=100 and radius=2 in order to learn better representation of the molecules
        morgan_fp = GetMorganFingerprintAsBitVect(mol, radius=2, nBits=1024)
        morgan_fp_list = list(morgan_fp)
        morgan_fp_names = [f"MorganFP_{i}" for i in range(1024)]
        
        # Ensure we have at least 200 descriptors by padding if necessary
        if len(all_descriptors) < 200:
            all_descriptors.extend([None] * (200 - len(all_descriptors)))
            descriptor_names.extend([None] * (200 - len(descriptor_names)))
        
        # Replace the first 10 descriptors with the initial ones
        all_descriptors[:10] = initial_descriptors
        descriptor_names[:10] = initial_descriptor_names
        
        # Combine descriptors and Morgan fingerprints
        combined_descriptors = all_descriptors[:200] + morgan_fp_list
        combined_names = descriptor_names[:200] + morgan_fp_names
        
        return [smiles] + combined_descriptors, ["SMILES"] + combined_names
    else:
        return [smiles] + [None] * (200 + 1024), ["SMILES"] + [None] * (200 + 1024)


def generate_descriptors_df(df) -> pd.DataFrame:
    """
    Helper function that takes a list of molecule's SMILES values and generates a DataFrame
    with SMILES and 200 features, including specified descriptors.

    Params:
    - smiles_list (list of str): List of molecule's SMILES values as strings.

    Returns:
    - DataFrame: A DataFrame with the first column as SMILES and the other 200 columns as features.
    """
    data = []
    column_names = None
    for smiles in df['SMILES']:
        descriptors, names = generate_descriptors(smiles)
        data.append(descriptors)
        if column_names is None:
            column_names = names
    
    # Create DataFrame in the format of (SMILES, |<descriptors>| = 1224)
    df = pd.DataFrame(data, columns=column_names)
    
    return df


pt_dataset.head()





pt_dataset_final = generate_descriptors_df(pt_dataset)
PRINTM('Generated new data frame with descriptors and morgan fingerprints successfully !')


pt_dataset_final


pt_dataset_final.to_csv(os.path.join('datasets', 'pt_dataset.csv'), index=False)
PRINT()


pt_dataset_final = pd.read_csv(os.path.join('datasets', 'pt_dataset.csv'))
PRINT()





pt_dataset_final = pd.read_csv(os.path.join('datasets', 'pt_dataset.csv'))
PRINT()


rows_with_null = pt_dataset_final[pt_dataset_final.isnull().any(axis=1)]

PRINTM(f'There are -> {rows_with_null.shape[0]} rows that contains missing values in some of their column values (can be in more than one)')


def find_nan_columns(row):
    nan_columns = row[row.isna()].index.tolist()
    return nan_columns


pt_dataset_final['missing values columns'] = pt_dataset_final.apply(find_nan_columns, axis=1)
result_df = pt_dataset_final[pt_dataset_final['missing values columns'].apply(lambda x: len(x) > 0)]
result_df = result_df[['SMILES', 'missing values columns']]

PRINTM(f'The next data frame holds SMILES and their descriptor name that holds Nan values:')
result_df





smiles_to_drop = 'O=C([O-])Cc1csc(Cc2cccc(Cl)c2)n1.[Na+]'
pt_dataset_final = pt_dataset_final[pt_dataset_final['SMILES'] != smiles_to_drop]
PRINTM(f'Dropped single row that represents the molecule SMILES:\nO=C([O-])Cc1csc(Cc2cccc(Cl)c2)n1.[Na+] successfully !')


rows_with_null = pt_dataset_final[pt_dataset_final.isnull().any(axis=1)]
PRINTM(f'There are -> {rows_with_null.shape[0]} rows that contains missing values in some of their column values (can be in more than one)')





from sklearn.preprocessing import StandardScaler
import numpy as np


smiles_column = 'SMILES'
descriptor_columns = pt_dataset_final.columns[1:201]
morgan_fp_columns = pt_dataset_final.columns[201:]  


smiles = pt_dataset_final[smiles_column].reset_index(drop=True)
descriptors = pt_dataset_final[descriptor_columns].reset_index(drop=True)
morgan_fps = pt_dataset_final[morgan_fp_columns].reset_index(drop=True)

scaler = StandardScaler()
scaled_descriptors = scaler.fit_transform(descriptors)
scaled_descriptors_df = pd.DataFrame(scaled_descriptors, columns=descriptor_columns)

# Combine the SMILES, scaled descriptors, and Morgan fingerprints back into a single df
scaled_pt_dataset_final = pd.concat([smiles, scaled_descriptors_df, morgan_fps], axis=1)


scaled_pt_dataset_final


scaled_pt_dataset_final.drop(columns=['missing values columns'], inplace=True)
PRINT()


PRINTM(f'First 50 descriptors of the dataset:\n\n{scaled_pt_dataset_final.columns.tolist()[:50]}')


scaled_pt_dataset_final.to_csv(os.path.join('datasets', 'pt_dataset_final_scaled.csv'), index=False)
PRINTM('Saved')


scaled_pt_dataset_final



