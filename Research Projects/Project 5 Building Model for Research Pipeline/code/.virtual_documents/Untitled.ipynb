# Final PPI Dataset generation


import os
import pandas as pd


esm_features_path = r"C:\Users\gavvi\Desktop\Programming\GitHub\DeepLearningResearchStarship\Research Projects\Project 5 Building Model for Research Pipeline\datasets\esm_features.csv"
custom_sequence_features_path = r"C:\Users\gavvi\Desktop\Programming\GitHub\DeepLearningResearchStarship\Research Projects\Project 5 Building Model for Research Pipeline\datasets\custom_sequence_features.csv"


esm_features_df = pd.read_csv(esm_features_path)
custom_features_df = pd.read_csv(custom_sequence_features_path)


esm_features_df.head()


custom_features_df.head()


esm_features_df.columns


custom_features_df.columns


custom_features_df[['4700']].head()


# Convert uniprots column name & make it the first column in the data frame
custom_features_df.rename(columns={'4700': 'UniProt_ID'}, inplace=True)

cols = ['UniProt_ID'] + [col for col in custom_features_df if col != 'UniProt_ID']
custom_features_df = custom_features_df[cols]


custom_features_df.head()


custom_features_uniprots = custom_features_df[['UniProt_ID']]
esm_features_uniprots = esm_features_df[['UniProt_ID']]


custom_features_uniprots.shape , esm_features_uniprots.shape


unique_custom_uniprots = custom_features_uniprots['UniProt_ID'].nunique()
unique_esm_uniprots = esm_features_uniprots['UniProt_ID'].nunique()

print(f"Number of unique UniProt IDs in custom_features_df: {unique_custom_uniprots}")
print(f"Number of unique UniProt IDs in esm_features_df: {unique_esm_uniprots}")


final_ds_path = r"C:\Users\gavvi\Desktop\Programming\GitHub\DeepLearningResearchStarship\Research Projects\Project 5 Building Model for Research Pipeline\datasets\final_dataset_2_0.75.csv"
final_df = pd.read_csv(final_ds_path)


from sklearn.preprocessing import StandardScaler

scaler = StandardScaler()


# Scale the values of custom_features_df by standard scaler
columns_to_scale = custom_features_df.columns.difference(['UniProt_ID'])
custom_features_df[columns_to_scale] = scaler.fit_transform(custom_features_df[columns_to_scale])


custom_features_df


combined_uniprots = pd.concat([final_df['uniprot_id1'], final_df['uniprot_id2']])
unique_uniprots = combined_uniprots.nunique()

print(f"Number of unique UniProt IDs in both in final_dataset_2_0.75: {unique_uniprots}")


merged_uniprots = pd.merge(custom_features_df, esm_features_df, on='UniProt_ID', how='inner')


merged_uniprots


merged_uniprots.isnull().sum().sum()


custom_features_df[custom_features_df['UniProt_ID'] == 'Q16695']


esm_features_df[esm_features_df['UniProt_ID'] == 'Q16695']



