{
 "cells": [
  {
   "cell_type": "markdown",
   "id": "74fb9951-2259-4897-b6a5-9a3fff3cd0c5",
   "metadata": {},
   "source": [
    "# Adding Target Pref Name Column To Our Predictions #"
   ]
  },
  {
   "cell_type": "markdown",
   "id": "72d72016-264c-4852-8b53-fd559abbc734",
   "metadata": {},
   "source": [
    "## Imports ##"
   ]
  },
  {
   "cell_type": "code",
   "execution_count": 2,
   "id": "5def706c-a212-4d00-91eb-be9ec6dcb419",
   "metadata": {},
   "outputs": [],
   "source": [
    "import os \n",
    "import pandas as pd\n",
    "\n",
    "def PRINT(text) -> None: print(f\"{80*'-'}\\n{text}\\n{80*'-'}\")"
   ]
  },
  {
   "cell_type": "markdown",
   "id": "46117586-f475-4422-9292-4b30c63f140e",
   "metadata": {},
   "source": [
    "## Load the Datasets ##"
   ]
  },
  {
   "cell_type": "code",
   "execution_count": 3,
   "id": "adff2d8c-bb64-4972-9be7-0e38d2a78f77",
   "metadata": {},
   "outputs": [
    {
     "name": "stdout",
     "output_type": "stream",
     "text": [
      "--------------------------------------------------------------------------------\n",
      "Loaded Timbal dataset csv file to pandas data frame successfully\n",
      "--------------------------------------------------------------------------------\n"
     ]
    }
   ],
   "source": [
    "timbal_dataset_df = pd.read_csv(os.path.join('data', 'timbal_triplets.csv'))\n",
    "\n",
    "PRINT(f'Loaded Timbal dataset csv file to pandas data frame successfully')"
   ]
  },
  {
   "cell_type": "code",
   "execution_count": 4,
   "id": "021f4fcd-37cf-445a-9073-d9e55750f467",
   "metadata": {},
   "outputs": [
    {
     "data": {
      "text/html": [
       "<div>\n",
       "<style scoped>\n",
       "    .dataframe tbody tr th:only-of-type {\n",
       "        vertical-align: middle;\n",
       "    }\n",
       "\n",
       "    .dataframe tbody tr th {\n",
       "        vertical-align: top;\n",
       "    }\n",
       "\n",
       "    .dataframe thead th {\n",
       "        text-align: right;\n",
       "    }\n",
       "</style>\n",
       "<table border=\"1\" class=\"dataframe\">\n",
       "  <thead>\n",
       "    <tr style=\"text-align: right;\">\n",
       "      <th></th>\n",
       "      <th>timbal_v2_id</th>\n",
       "      <th>smiles</th>\n",
       "      <th>target_name</th>\n",
       "      <th>uniprot_target</th>\n",
       "    </tr>\n",
       "  </thead>\n",
       "  <tbody>\n",
       "    <tr>\n",
       "      <th>0</th>\n",
       "      <td>11821</td>\n",
       "      <td>CC(O)CN1C(C(=C(O)C1=O)C(=O)c2ccc(C)cc2)c3ccc(c...</td>\n",
       "      <td>Annexin A2</td>\n",
       "      <td>P60903</td>\n",
       "    </tr>\n",
       "    <tr>\n",
       "      <th>1</th>\n",
       "      <td>11864</td>\n",
       "      <td>COCCCN1C(C(=C(O)C1=O)C(=O)c2ccc(C)nc2)c3ccc(cc...</td>\n",
       "      <td>Annexin A2</td>\n",
       "      <td>P60903</td>\n",
       "    </tr>\n",
       "    <tr>\n",
       "      <th>2</th>\n",
       "      <td>16986</td>\n",
       "      <td>CC(O)CN1C(C(=C(O)C1=O)C(=O)c2ccc(C)cc2)c3ccc4c...</td>\n",
       "      <td>Annexin A2</td>\n",
       "      <td>P07355</td>\n",
       "    </tr>\n",
       "    <tr>\n",
       "      <th>3</th>\n",
       "      <td>16973</td>\n",
       "      <td>CCOc1ccccc1C(=O)C2=C(O)C(=O)N(CCCOC)C2c3ccc(cc...</td>\n",
       "      <td>Annexin A2</td>\n",
       "      <td>P07355</td>\n",
       "    </tr>\n",
       "    <tr>\n",
       "      <th>4</th>\n",
       "      <td>11861</td>\n",
       "      <td>COCCCN1C(C(=C(O)C1=O)C(=O)c2ccc(C)nc2)c3ccc(c(...</td>\n",
       "      <td>Annexin A2</td>\n",
       "      <td>P60903</td>\n",
       "    </tr>\n",
       "  </tbody>\n",
       "</table>\n",
       "</div>"
      ],
      "text/plain": [
       "   timbal_v2_id                                             smiles  \\\n",
       "0         11821  CC(O)CN1C(C(=C(O)C1=O)C(=O)c2ccc(C)cc2)c3ccc(c...   \n",
       "1         11864  COCCCN1C(C(=C(O)C1=O)C(=O)c2ccc(C)nc2)c3ccc(cc...   \n",
       "2         16986  CC(O)CN1C(C(=C(O)C1=O)C(=O)c2ccc(C)cc2)c3ccc4c...   \n",
       "3         16973  CCOc1ccccc1C(=O)C2=C(O)C(=O)N(CCCOC)C2c3ccc(cc...   \n",
       "4         11861  COCCCN1C(C(=C(O)C1=O)C(=O)c2ccc(C)nc2)c3ccc(c(...   \n",
       "\n",
       "  target_name uniprot_target  \n",
       "0  Annexin A2         P60903  \n",
       "1  Annexin A2         P60903  \n",
       "2  Annexin A2         P07355  \n",
       "3  Annexin A2         P07355  \n",
       "4  Annexin A2         P60903  "
      ]
     },
     "execution_count": 4,
     "metadata": {},
     "output_type": "execute_result"
    }
   ],
   "source": [
    "timbal_dataset_df.head()"
   ]
  },
  {
   "cell_type": "code",
   "execution_count": 14,
   "id": "b1b64fa9-fcdf-449d-bc4f-95cbd0ddb7b2",
   "metadata": {},
   "outputs": [],
   "source": [
    "temp_timbal = timbal_dataset_df[['smiles', 'target_name', 'uniprot_target']]"
   ]
  },
  {
   "cell_type": "code",
   "execution_count": 22,
   "id": "a75fc4f8-8c92-42ea-a37f-ea2bb3d0ca3a",
   "metadata": {},
   "outputs": [
    {
     "name": "stderr",
     "output_type": "stream",
     "text": [
      "C:\\Users\\gavvi\\AppData\\Local\\Temp\\ipykernel_28788\\3313701805.py:1: SettingWithCopyWarning: \n",
      "A value is trying to be set on a copy of a slice from a DataFrame\n",
      "\n",
      "See the caveats in the documentation: https://pandas.pydata.org/pandas-docs/stable/user_guide/indexing.html#returning-a-view-versus-a-copy\n",
      "  temp_timbal.drop_duplicates(inplace=True)\n"
     ]
    }
   ],
   "source": [
    "temp_timbal.drop_duplicates(inplace=True)"
   ]
  },
  {
   "cell_type": "code",
   "execution_count": 23,
   "id": "80d5388b-3f59-4702-b676-5984c8fa0cea",
   "metadata": {},
   "outputs": [
    {
     "name": "stdout",
     "output_type": "stream",
     "text": [
      "--------------------------------------------------------------------------------\n",
      "Timbal data frame shape after dropping -> (8703, 3)\n",
      "--------------------------------------------------------------------------------\n"
     ]
    }
   ],
   "source": [
    "PRINT(f'Timbal data frame shape after dropping -> {temp_timbal.shape}')"
   ]
  },
  {
   "cell_type": "code",
   "execution_count": 24,
   "id": "0d80f86f-4083-4390-bfe1-6fbcd95591e5",
   "metadata": {},
   "outputs": [
    {
     "name": "stdout",
     "output_type": "stream",
     "text": [
      "--------------------------------------------------------------------------------\n",
      "Loaded predictions csv file into pandas data frame successfully !\n",
      "--------------------------------------------------------------------------------\n"
     ]
    }
   ],
   "source": [
    "predictions_df = pd.read_csv('predictions.csv')\n",
    "\n",
    "PRINT(f'Loaded predictions csv file into pandas data frame successfully !')"
   ]
  },
  {
   "cell_type": "code",
   "execution_count": 25,
   "id": "5084f112-e5ab-4079-acc8-7abfb21d133e",
   "metadata": {},
   "outputs": [
    {
     "data": {
      "text/html": [
       "<div>\n",
       "<style scoped>\n",
       "    .dataframe tbody tr th:only-of-type {\n",
       "        vertical-align: middle;\n",
       "    }\n",
       "\n",
       "    .dataframe tbody tr th {\n",
       "        vertical-align: top;\n",
       "    }\n",
       "\n",
       "    .dataframe thead th {\n",
       "        text-align: right;\n",
       "    }\n",
       "</style>\n",
       "<table border=\"1\" class=\"dataframe\">\n",
       "  <thead>\n",
       "    <tr style=\"text-align: right;\">\n",
       "      <th></th>\n",
       "      <th>SMILES</th>\n",
       "      <th>UniProtTarget</th>\n",
       "      <th>PredictedUniProtPartner</th>\n",
       "    </tr>\n",
       "  </thead>\n",
       "  <tbody>\n",
       "    <tr>\n",
       "      <th>0</th>\n",
       "      <td>OC(=O)[C@H](Cc1ccc(NC(=O)c2c(Cl)cccc2Cl)cc1)NC...</td>\n",
       "      <td>P13612</td>\n",
       "      <td>P05556</td>\n",
       "    </tr>\n",
       "    <tr>\n",
       "      <th>1</th>\n",
       "      <td>CC1CCC(C[C@H](NC(=O)[C@@H]2CCC(=O)N2Cc3ccccc3)...</td>\n",
       "      <td>P13612</td>\n",
       "      <td>P05556</td>\n",
       "    </tr>\n",
       "    <tr>\n",
       "      <th>2</th>\n",
       "      <td>CC(C)CCNC(=O)[C@@H]1OCO[C@H]1C(=O)N[C@@H](Cc2c...</td>\n",
       "      <td>P13612</td>\n",
       "      <td>P05556</td>\n",
       "    </tr>\n",
       "    <tr>\n",
       "      <th>3</th>\n",
       "      <td>OC(=O)CN(CC(=O)N[C@@H](Cc1ccc(OCc2c(Cl)cccc2Cl...</td>\n",
       "      <td>P13612</td>\n",
       "      <td>P05556</td>\n",
       "    </tr>\n",
       "    <tr>\n",
       "      <th>4</th>\n",
       "      <td>CCC\\N=C/1\\C(\\C(=C1O)O)=N\\[C@@H](Cc2ccc(OCc3c(C...</td>\n",
       "      <td>P13612</td>\n",
       "      <td>P05556</td>\n",
       "    </tr>\n",
       "  </tbody>\n",
       "</table>\n",
       "</div>"
      ],
      "text/plain": [
       "                                              SMILES UniProtTarget  \\\n",
       "0  OC(=O)[C@H](Cc1ccc(NC(=O)c2c(Cl)cccc2Cl)cc1)NC...        P13612   \n",
       "1  CC1CCC(C[C@H](NC(=O)[C@@H]2CCC(=O)N2Cc3ccccc3)...        P13612   \n",
       "2  CC(C)CCNC(=O)[C@@H]1OCO[C@H]1C(=O)N[C@@H](Cc2c...        P13612   \n",
       "3  OC(=O)CN(CC(=O)N[C@@H](Cc1ccc(OCc2c(Cl)cccc2Cl...        P13612   \n",
       "4  CCC\\N=C/1\\C(\\C(=C1O)O)=N\\[C@@H](Cc2ccc(OCc3c(C...        P13612   \n",
       "\n",
       "  PredictedUniProtPartner  \n",
       "0                  P05556  \n",
       "1                  P05556  \n",
       "2                  P05556  \n",
       "3                  P05556  \n",
       "4                  P05556  "
      ]
     },
     "execution_count": 25,
     "metadata": {},
     "output_type": "execute_result"
    }
   ],
   "source": [
    "predictions_df.head()"
   ]
  },
  {
   "cell_type": "markdown",
   "id": "b30cd73b-667e-4cfe-b6c7-cb109ca5646c",
   "metadata": {},
   "source": [
    "## Merge the Data Frames In Order to Extract Target Pref Name ##"
   ]
  },
  {
   "cell_type": "code",
   "execution_count": 26,
   "id": "ae57aab8-3751-4e19-81af-5bf7a0e9bb65",
   "metadata": {},
   "outputs": [],
   "source": [
    "timbal_columns = list(temp_timbal.columns)\n",
    "predictions_columns = list(predictions_df.columns)"
   ]
  },
  {
   "cell_type": "code",
   "execution_count": 27,
   "id": "6b05c189-d762-4f9f-9b6b-07b55df1ed6b",
   "metadata": {},
   "outputs": [
    {
     "name": "stdout",
     "output_type": "stream",
     "text": [
      "--------------------------------------------------------------------------------\n",
      "Timbal data frame columns -> ['smiles', 'target_name', 'uniprot_target']\n",
      "\n",
      "Predictions data frame columns -> ['SMILES', 'UniProtTarget', 'PredictedUniProtPartner']\n",
      "--------------------------------------------------------------------------------\n"
     ]
    }
   ],
   "source": [
    "PRINT(f'Timbal data frame columns -> {timbal_columns}\\n\\nPredictions data frame columns -> {predictions_columns}')"
   ]
  },
  {
   "cell_type": "code",
   "execution_count": 28,
   "id": "c3f25190-94e2-4609-8f82-0397b16ec373",
   "metadata": {},
   "outputs": [
    {
     "name": "stdout",
     "output_type": "stream",
     "text": [
      "--------------------------------------------------------------------------------\n",
      "Merged the data frames by molecule SMILES value successfully !\n",
      "--------------------------------------------------------------------------------\n"
     ]
    }
   ],
   "source": [
    "merged_df = pd.merge(predictions_df, temp_timbal, left_on=['SMILES', 'UniProtTarget'], right_on=['smiles', 'uniprot_target'], how='left')\n",
    "\n",
    "PRINT(f'Merged the data frames by molecule SMILES value successfully !')"
   ]
  },
  {
   "cell_type": "code",
   "execution_count": 34,
   "id": "a0284c2b-aa52-4a27-99b9-c57fb4028199",
   "metadata": {},
   "outputs": [
    {
     "name": "stdout",
     "output_type": "stream",
     "text": [
      "--------------------------------------------------------------------------------\n",
      "Verify that number of samples of predictions data frame and our merged data frame equal:\n",
      "\n",
      "Predictions -> 4192, Merged -> 4192\n",
      "--------------------------------------------------------------------------------\n"
     ]
    }
   ],
   "source": [
    "PRINT(f'Verify that number of samples of predictions data frame and our merged data frame equal:\\n\\nPredictions -> {predictions_df.shape[0]}, Merged -> {merged_df.shape[0]}')"
   ]
  },
  {
   "cell_type": "code",
   "execution_count": 35,
   "id": "3e2d8505-5a4e-40cf-b4f6-0bcbc0794487",
   "metadata": {},
   "outputs": [],
   "source": [
    "merged_df.rename(columns={'target_name': 'Target Pref Name'}, inplace=True)"
   ]
  },
  {
   "cell_type": "code",
   "execution_count": 36,
   "id": "a04b3cb4-e2a9-451c-84f3-6da0468a8d5b",
   "metadata": {},
   "outputs": [
    {
     "data": {
      "text/html": [
       "<div>\n",
       "<style scoped>\n",
       "    .dataframe tbody tr th:only-of-type {\n",
       "        vertical-align: middle;\n",
       "    }\n",
       "\n",
       "    .dataframe tbody tr th {\n",
       "        vertical-align: top;\n",
       "    }\n",
       "\n",
       "    .dataframe thead th {\n",
       "        text-align: right;\n",
       "    }\n",
       "</style>\n",
       "<table border=\"1\" class=\"dataframe\">\n",
       "  <thead>\n",
       "    <tr style=\"text-align: right;\">\n",
       "      <th></th>\n",
       "      <th>SMILES</th>\n",
       "      <th>UniProtTarget</th>\n",
       "      <th>PredictedUniProtPartner</th>\n",
       "      <th>smiles</th>\n",
       "      <th>Target Pref Name</th>\n",
       "      <th>uniprot_target</th>\n",
       "    </tr>\n",
       "  </thead>\n",
       "  <tbody>\n",
       "    <tr>\n",
       "      <th>0</th>\n",
       "      <td>OC(=O)[C@H](Cc1ccc(NC(=O)c2c(Cl)cccc2Cl)cc1)NC...</td>\n",
       "      <td>P13612</td>\n",
       "      <td>P05556</td>\n",
       "      <td>OC(=O)[C@H](Cc1ccc(NC(=O)c2c(Cl)cccc2Cl)cc1)NC...</td>\n",
       "      <td>Integrins</td>\n",
       "      <td>P13612</td>\n",
       "    </tr>\n",
       "    <tr>\n",
       "      <th>1</th>\n",
       "      <td>CC1CCC(C[C@H](NC(=O)[C@@H]2CCC(=O)N2Cc3ccccc3)...</td>\n",
       "      <td>P13612</td>\n",
       "      <td>P05556</td>\n",
       "      <td>CC1CCC(C[C@H](NC(=O)[C@@H]2CCC(=O)N2Cc3ccccc3)...</td>\n",
       "      <td>Integrins</td>\n",
       "      <td>P13612</td>\n",
       "    </tr>\n",
       "    <tr>\n",
       "      <th>2</th>\n",
       "      <td>CC(C)CCNC(=O)[C@@H]1OCO[C@H]1C(=O)N[C@@H](Cc2c...</td>\n",
       "      <td>P13612</td>\n",
       "      <td>P05556</td>\n",
       "      <td>CC(C)CCNC(=O)[C@@H]1OCO[C@H]1C(=O)N[C@@H](Cc2c...</td>\n",
       "      <td>Integrins</td>\n",
       "      <td>P13612</td>\n",
       "    </tr>\n",
       "    <tr>\n",
       "      <th>3</th>\n",
       "      <td>OC(=O)CN(CC(=O)N[C@@H](Cc1ccc(OCc2c(Cl)cccc2Cl...</td>\n",
       "      <td>P13612</td>\n",
       "      <td>P05556</td>\n",
       "      <td>OC(=O)CN(CC(=O)N[C@@H](Cc1ccc(OCc2c(Cl)cccc2Cl...</td>\n",
       "      <td>Integrins</td>\n",
       "      <td>P13612</td>\n",
       "    </tr>\n",
       "    <tr>\n",
       "      <th>4</th>\n",
       "      <td>CCC\\N=C/1\\C(\\C(=C1O)O)=N\\[C@@H](Cc2ccc(OCc3c(C...</td>\n",
       "      <td>P13612</td>\n",
       "      <td>P05556</td>\n",
       "      <td>CCC\\N=C/1\\C(\\C(=C1O)O)=N\\[C@@H](Cc2ccc(OCc3c(C...</td>\n",
       "      <td>Integrins</td>\n",
       "      <td>P13612</td>\n",
       "    </tr>\n",
       "  </tbody>\n",
       "</table>\n",
       "</div>"
      ],
      "text/plain": [
       "                                              SMILES UniProtTarget  \\\n",
       "0  OC(=O)[C@H](Cc1ccc(NC(=O)c2c(Cl)cccc2Cl)cc1)NC...        P13612   \n",
       "1  CC1CCC(C[C@H](NC(=O)[C@@H]2CCC(=O)N2Cc3ccccc3)...        P13612   \n",
       "2  CC(C)CCNC(=O)[C@@H]1OCO[C@H]1C(=O)N[C@@H](Cc2c...        P13612   \n",
       "3  OC(=O)CN(CC(=O)N[C@@H](Cc1ccc(OCc2c(Cl)cccc2Cl...        P13612   \n",
       "4  CCC\\N=C/1\\C(\\C(=C1O)O)=N\\[C@@H](Cc2ccc(OCc3c(C...        P13612   \n",
       "\n",
       "  PredictedUniProtPartner                                             smiles  \\\n",
       "0                  P05556  OC(=O)[C@H](Cc1ccc(NC(=O)c2c(Cl)cccc2Cl)cc1)NC...   \n",
       "1                  P05556  CC1CCC(C[C@H](NC(=O)[C@@H]2CCC(=O)N2Cc3ccccc3)...   \n",
       "2                  P05556  CC(C)CCNC(=O)[C@@H]1OCO[C@H]1C(=O)N[C@@H](Cc2c...   \n",
       "3                  P05556  OC(=O)CN(CC(=O)N[C@@H](Cc1ccc(OCc2c(Cl)cccc2Cl...   \n",
       "4                  P05556  CCC\\N=C/1\\C(\\C(=C1O)O)=N\\[C@@H](Cc2ccc(OCc3c(C...   \n",
       "\n",
       "  Target Pref Name uniprot_target  \n",
       "0        Integrins         P13612  \n",
       "1        Integrins         P13612  \n",
       "2        Integrins         P13612  \n",
       "3        Integrins         P13612  \n",
       "4        Integrins         P13612  "
      ]
     },
     "execution_count": 36,
     "metadata": {},
     "output_type": "execute_result"
    }
   ],
   "source": [
    "merged_df.head()"
   ]
  },
  {
   "cell_type": "code",
   "execution_count": 38,
   "id": "66c8c228-2008-4064-a5df-c47f960a07d9",
   "metadata": {},
   "outputs": [
    {
     "name": "stdout",
     "output_type": "stream",
     "text": [
      "--------------------------------------------------------------------------------\n",
      "Merged data frame columns are -> ['SMILES', 'UniProtTarget', 'PredictedUniProtPartner', 'smiles', 'Target Pref Name', 'uniprot_target']\n",
      "--------------------------------------------------------------------------------\n"
     ]
    }
   ],
   "source": [
    "PRINT(f'Merged data frame columns are -> {list(merged_df.columns)}')"
   ]
  },
  {
   "cell_type": "code",
   "execution_count": 39,
   "id": "4931be18-b105-475e-abe8-d7df941317da",
   "metadata": {},
   "outputs": [],
   "source": [
    "res_df = merged_df[['SMILES', 'UniProtTarget', 'PredictedUniProtPartner', 'Target Pref Name']]"
   ]
  },
  {
   "cell_type": "code",
   "execution_count": 41,
   "id": "13222e7e-d9cc-49c6-b544-692b3e0f2c57",
   "metadata": {},
   "outputs": [
    {
     "data": {
      "text/html": [
       "<div>\n",
       "<style scoped>\n",
       "    .dataframe tbody tr th:only-of-type {\n",
       "        vertical-align: middle;\n",
       "    }\n",
       "\n",
       "    .dataframe tbody tr th {\n",
       "        vertical-align: top;\n",
       "    }\n",
       "\n",
       "    .dataframe thead th {\n",
       "        text-align: right;\n",
       "    }\n",
       "</style>\n",
       "<table border=\"1\" class=\"dataframe\">\n",
       "  <thead>\n",
       "    <tr style=\"text-align: right;\">\n",
       "      <th></th>\n",
       "      <th>SMILES</th>\n",
       "      <th>UniProtTarget</th>\n",
       "      <th>PredictedUniProtPartner</th>\n",
       "      <th>Target Pref Name</th>\n",
       "    </tr>\n",
       "  </thead>\n",
       "  <tbody>\n",
       "    <tr>\n",
       "      <th>0</th>\n",
       "      <td>OC(=O)[C@H](Cc1ccc(NC(=O)c2c(Cl)cccc2Cl)cc1)NC...</td>\n",
       "      <td>P13612</td>\n",
       "      <td>P05556</td>\n",
       "      <td>Integrins</td>\n",
       "    </tr>\n",
       "    <tr>\n",
       "      <th>1</th>\n",
       "      <td>CC1CCC(C[C@H](NC(=O)[C@@H]2CCC(=O)N2Cc3ccccc3)...</td>\n",
       "      <td>P13612</td>\n",
       "      <td>P05556</td>\n",
       "      <td>Integrins</td>\n",
       "    </tr>\n",
       "  </tbody>\n",
       "</table>\n",
       "</div>"
      ],
      "text/plain": [
       "                                              SMILES UniProtTarget  \\\n",
       "0  OC(=O)[C@H](Cc1ccc(NC(=O)c2c(Cl)cccc2Cl)cc1)NC...        P13612   \n",
       "1  CC1CCC(C[C@H](NC(=O)[C@@H]2CCC(=O)N2Cc3ccccc3)...        P13612   \n",
       "\n",
       "  PredictedUniProtPartner Target Pref Name  \n",
       "0                  P05556        Integrins  \n",
       "1                  P05556        Integrins  "
      ]
     },
     "execution_count": 41,
     "metadata": {},
     "output_type": "execute_result"
    }
   ],
   "source": [
    "res_df.head(2)"
   ]
  },
  {
   "cell_type": "markdown",
   "id": "35d8aaac-252f-4ad2-86ab-a5f238d0d87f",
   "metadata": {},
   "source": [
    "## Save ##"
   ]
  },
  {
   "cell_type": "code",
   "execution_count": 42,
   "id": "e6cbe9a9-f675-45a3-8e79-df8b6f0e19f1",
   "metadata": {},
   "outputs": [
    {
     "name": "stdout",
     "output_type": "stream",
     "text": [
      "--------------------------------------------------------------------------------\n",
      "Saved !\n",
      "--------------------------------------------------------------------------------\n"
     ]
    }
   ],
   "source": [
    "res_df.to_csv('predictions_with_tpf.csv', index=False)\n",
    "\n",
    "PRINT('Saved !')"
   ]
  },
  {
   "cell_type": "code",
   "execution_count": null,
   "id": "46156971-98d7-42df-bc32-77c9f4650f89",
   "metadata": {},
   "outputs": [],
   "source": []
  }
 ],
 "metadata": {
  "kernelspec": {
   "display_name": "Python 3 (ipykernel)",
   "language": "python",
   "name": "python3"
  },
  "language_info": {
   "codemirror_mode": {
    "name": "ipython",
    "version": 3
   },
   "file_extension": ".py",
   "mimetype": "text/x-python",
   "name": "python",
   "nbconvert_exporter": "python",
   "pygments_lexer": "ipython3",
   "version": "3.11.7"
  }
 },
 "nbformat": 4,
 "nbformat_minor": 5
}
