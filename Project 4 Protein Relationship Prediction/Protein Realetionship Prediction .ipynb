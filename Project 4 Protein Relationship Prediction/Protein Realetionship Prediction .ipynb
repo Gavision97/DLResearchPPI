{
 "cells": [
  {
   "cell_type": "markdown",
   "id": "0d7335f2-654e-4d05-a010-aabee0510cde",
   "metadata": {},
   "source": [
    "# Protein Realetionship Prediciton #\n",
    "\n",
    "\n",
    "\n",
    "DeepChem library official website : https://deepchem.io/"
   ]
  },
  {
   "cell_type": "code",
   "execution_count": 339,
   "id": "a26e85ca-91b0-4aa7-8d46-5c441197ba89",
   "metadata": {
    "tags": []
   },
   "outputs": [],
   "source": [
    "import deepchem as dc\n",
    "import numpy as pd\n",
    "import pandas as pd\n",
    "import seaborn as sns\n",
    "import pickle # Inorder to save data frame dictionary\n",
    "import os"
   ]
  },
  {
   "cell_type": "code",
   "execution_count": 321,
   "id": "417b068e-ef82-4d07-9311-1356a13275a7",
   "metadata": {
    "tags": []
   },
   "outputs": [],
   "source": [
    "def PRINT(text) -> None: print(f\"{'~'*80}\\n{text}\\n{'~'*80}\")\n",
    "\n",
    "def print_dict_meaningful(dictionary):\n",
    "    for key, value in dictionary.items():\n",
    "        print(f'{key}: {value}')"
   ]
  },
  {
   "cell_type": "markdown",
   "id": "a4bd330b-438b-4378-8fc6-4e1274772dd5",
   "metadata": {},
   "source": [
    "## Preparing Datasets for Predictive Modeling ##"
   ]
  },
  {
   "cell_type": "markdown",
   "id": "73011acb-42d9-4296-9995-26174c192a72",
   "metadata": {},
   "source": [
    "### Load Required Datasets ###"
   ]
  },
  {
   "cell_type": "code",
   "execution_count": 3,
   "id": "26e830c6-50e4-4d1f-8ceb-e400a54d57d9",
   "metadata": {
    "tags": []
   },
   "outputs": [
    {
     "data": {
      "text/plain": [
       "'C:\\\\Users\\\\gavvi\\\\Desktop\\\\Programming\\\\GitHub\\\\DeepLearningResearchStarship\\\\Project 4 Protein Relationship Prediction'"
      ]
     },
     "execution_count": 3,
     "metadata": {},
     "output_type": "execute_result"
    }
   ],
   "source": [
    "pwd"
   ]
  },
  {
   "cell_type": "code",
   "execution_count": 4,
   "id": "2c6d2d47-7b56-4d66-88fc-140ae2b6649b",
   "metadata": {
    "tags": []
   },
   "outputs": [],
   "source": [
    "pred_dataset_path = \"data/dataset_for_prediction.csv\"\n",
    "ChEMBL_integrin_dataset_path = \"data/ChEMBL_Integrins.csv\""
   ]
  },
  {
   "cell_type": "code",
   "execution_count": 5,
   "id": "45aefc86-6e3d-475e-baed-c98f7191c74b",
   "metadata": {
    "tags": []
   },
   "outputs": [
    {
     "data": {
      "text/html": [
       "<div>\n",
       "<style scoped>\n",
       "    .dataframe tbody tr th:only-of-type {\n",
       "        vertical-align: middle;\n",
       "    }\n",
       "\n",
       "    .dataframe tbody tr th {\n",
       "        vertical-align: top;\n",
       "    }\n",
       "\n",
       "    .dataframe thead th {\n",
       "        text-align: right;\n",
       "    }\n",
       "</style>\n",
       "<table border=\"1\" class=\"dataframe\">\n",
       "  <thead>\n",
       "    <tr style=\"text-align: right;\">\n",
       "      <th></th>\n",
       "      <th>smiles</th>\n",
       "      <th>uniprot_id1</th>\n",
       "    </tr>\n",
       "  </thead>\n",
       "  <tbody>\n",
       "    <tr>\n",
       "      <th>0</th>\n",
       "      <td>OC(=O)[C@H](Cc1ccc(NC(=O)c2c(Cl)cccc2Cl)cc1)NC...</td>\n",
       "      <td>P13612</td>\n",
       "    </tr>\n",
       "    <tr>\n",
       "      <th>1</th>\n",
       "      <td>C\\C=C\\[C@@H](CC(=O)O)NC(=O)C[C@@H](CC(C)C)NC(=...</td>\n",
       "      <td>P05556</td>\n",
       "    </tr>\n",
       "    <tr>\n",
       "      <th>2</th>\n",
       "      <td>CN1[C@@H](CCCN=C(N)N)C(=O)NCC(=O)N[C@@H](CC(=O...</td>\n",
       "      <td>P05106</td>\n",
       "    </tr>\n",
       "    <tr>\n",
       "      <th>3</th>\n",
       "      <td>OC(=O)C(CNC(=O)CCCCc1ccc2CCCNc2n1)c3cnc4ccccc4c3</td>\n",
       "      <td>P05106</td>\n",
       "    </tr>\n",
       "    <tr>\n",
       "      <th>4</th>\n",
       "      <td>OC(=O)C[C@H](NC(=O)CN1CCC[C@@H](CCC2CCNCC2)C1=...</td>\n",
       "      <td>P05106</td>\n",
       "    </tr>\n",
       "  </tbody>\n",
       "</table>\n",
       "</div>"
      ],
      "text/plain": [
       "                                              smiles uniprot_id1\n",
       "0  OC(=O)[C@H](Cc1ccc(NC(=O)c2c(Cl)cccc2Cl)cc1)NC...      P13612\n",
       "1  C\\C=C\\[C@@H](CC(=O)O)NC(=O)C[C@@H](CC(C)C)NC(=...      P05556\n",
       "2  CN1[C@@H](CCCN=C(N)N)C(=O)NCC(=O)N[C@@H](CC(=O...      P05106\n",
       "3   OC(=O)C(CNC(=O)CCCCc1ccc2CCCNc2n1)c3cnc4ccccc4c3      P05106\n",
       "4  OC(=O)C[C@H](NC(=O)CN1CCC[C@@H](CCC2CCNCC2)C1=...      P05106"
      ]
     },
     "execution_count": 5,
     "metadata": {},
     "output_type": "execute_result"
    }
   ],
   "source": [
    "pred_df = pd.read_csv(pred_dataset_path)\n",
    "\n",
    "pred_df.head(5)"
   ]
  },
  {
   "cell_type": "markdown",
   "id": "eeea800f-4c08-497b-9f4f-75d2a4fea6d4",
   "metadata": {},
   "source": [
    "Next, we aim to rename the column *uniprot_id1* to *uniprot_id*. The rationale behind this decision is that we intend to search for this value in the *ChEMBL* data frame within both the *uniprot1* and *uniprot2* columns. To minimize confusion, we will rename this column"
   ]
  },
  {
   "cell_type": "code",
   "execution_count": 6,
   "id": "75f7d468-2b4d-447c-adb2-5e83e1bc4789",
   "metadata": {
    "tags": []
   },
   "outputs": [
    {
     "name": "stdout",
     "output_type": "stream",
     "text": [
      "~~~~~~~~~~~~~~~~~~~~~~~~~~~~~~~~~~~~~~~~~~~~~~~~~~~~~~~~~~~~~~~~~~~~~~~~~~~~~~~~\n",
      "Renamed column name: uniprot_id\n",
      "~~~~~~~~~~~~~~~~~~~~~~~~~~~~~~~~~~~~~~~~~~~~~~~~~~~~~~~~~~~~~~~~~~~~~~~~~~~~~~~~\n"
     ]
    }
   ],
   "source": [
    "pred_df = pred_df.rename(columns={'uniprot_id1':'uniprot_id'})\n",
    "\n",
    "PRINT(f'Renamed column name: {pred_df.columns[1]}')"
   ]
  },
  {
   "cell_type": "code",
   "execution_count": 15,
   "id": "494afbaf-6ca8-418b-aea0-2e8af8bdff94",
   "metadata": {
    "tags": []
   },
   "outputs": [
    {
     "data": {
      "text/html": [
       "<div>\n",
       "<style scoped>\n",
       "    .dataframe tbody tr th:only-of-type {\n",
       "        vertical-align: middle;\n",
       "    }\n",
       "\n",
       "    .dataframe tbody tr th {\n",
       "        vertical-align: top;\n",
       "    }\n",
       "\n",
       "    .dataframe thead th {\n",
       "        text-align: right;\n",
       "    }\n",
       "</style>\n",
       "<table border=\"1\" class=\"dataframe\">\n",
       "  <thead>\n",
       "    <tr style=\"text-align: right;\">\n",
       "      <th></th>\n",
       "      <th>Canonical SMILES(RDKit)</th>\n",
       "      <th>Target Pref Name</th>\n",
       "      <th>Organism</th>\n",
       "      <th>UniProt1</th>\n",
       "      <th>UniProt2</th>\n",
       "      <th>UniProt3</th>\n",
       "      <th>UniProt4</th>\n",
       "      <th>UniProt5</th>\n",
       "    </tr>\n",
       "  </thead>\n",
       "  <tbody>\n",
       "    <tr>\n",
       "      <th>0</th>\n",
       "      <td>N=C(N)NCCC[C@H](NC(=O)[C@H](CCCNC(=N)N)NC(=O)[...</td>\n",
       "      <td>Integrin alpha-4/beta-7</td>\n",
       "      <td>Mus musculus</td>\n",
       "      <td>Q00651</td>\n",
       "      <td>P26011</td>\n",
       "      <td>NaN</td>\n",
       "      <td>NaN</td>\n",
       "      <td>NaN</td>\n",
       "    </tr>\n",
       "    <tr>\n",
       "      <th>1</th>\n",
       "      <td>N=C(N)NCCC[C@H](NC(=O)CCCC[C@@H]1SC[C@@H]2NC(=...</td>\n",
       "      <td>Integrin alpha-4/beta-7</td>\n",
       "      <td>Mus musculus</td>\n",
       "      <td>Q00651</td>\n",
       "      <td>P26011</td>\n",
       "      <td>NaN</td>\n",
       "      <td>NaN</td>\n",
       "      <td>NaN</td>\n",
       "    </tr>\n",
       "    <tr>\n",
       "      <th>2</th>\n",
       "      <td>N#Cc1ccc(-c2ccc(C[C@H](NC(=O)[C@H](CCCNC(=N)N)...</td>\n",
       "      <td>Integrin alpha-4/beta-7</td>\n",
       "      <td>Mus musculus</td>\n",
       "      <td>Q00651</td>\n",
       "      <td>P26011</td>\n",
       "      <td>NaN</td>\n",
       "      <td>NaN</td>\n",
       "      <td>NaN</td>\n",
       "    </tr>\n",
       "    <tr>\n",
       "      <th>3</th>\n",
       "      <td>N=C(N)NCCC[C@H](NC(=O)CCCC[C@@H]1SC[C@@H]2NC(=...</td>\n",
       "      <td>Integrin alpha-4/beta-7</td>\n",
       "      <td>Mus musculus</td>\n",
       "      <td>Q00651</td>\n",
       "      <td>P26011</td>\n",
       "      <td>NaN</td>\n",
       "      <td>NaN</td>\n",
       "      <td>NaN</td>\n",
       "    </tr>\n",
       "    <tr>\n",
       "      <th>4</th>\n",
       "      <td>N=C(N)NCCC[C@H](NC(=O)CCCC[C@@H]1SC[C@@H]2NC(=...</td>\n",
       "      <td>Integrin alpha-4/beta-7</td>\n",
       "      <td>Mus musculus</td>\n",
       "      <td>Q00651</td>\n",
       "      <td>P26011</td>\n",
       "      <td>NaN</td>\n",
       "      <td>NaN</td>\n",
       "      <td>NaN</td>\n",
       "    </tr>\n",
       "  </tbody>\n",
       "</table>\n",
       "</div>"
      ],
      "text/plain": [
       "                             Canonical SMILES(RDKit)         Target Pref Name  \\\n",
       "0  N=C(N)NCCC[C@H](NC(=O)[C@H](CCCNC(=N)N)NC(=O)[...  Integrin alpha-4/beta-7   \n",
       "1  N=C(N)NCCC[C@H](NC(=O)CCCC[C@@H]1SC[C@@H]2NC(=...  Integrin alpha-4/beta-7   \n",
       "2  N#Cc1ccc(-c2ccc(C[C@H](NC(=O)[C@H](CCCNC(=N)N)...  Integrin alpha-4/beta-7   \n",
       "3  N=C(N)NCCC[C@H](NC(=O)CCCC[C@@H]1SC[C@@H]2NC(=...  Integrin alpha-4/beta-7   \n",
       "4  N=C(N)NCCC[C@H](NC(=O)CCCC[C@@H]1SC[C@@H]2NC(=...  Integrin alpha-4/beta-7   \n",
       "\n",
       "       Organism UniProt1 UniProt2 UniProt3 UniProt4 UniProt5  \n",
       "0  Mus musculus   Q00651   P26011      NaN      NaN      NaN  \n",
       "1  Mus musculus   Q00651   P26011      NaN      NaN      NaN  \n",
       "2  Mus musculus   Q00651   P26011      NaN      NaN      NaN  \n",
       "3  Mus musculus   Q00651   P26011      NaN      NaN      NaN  \n",
       "4  Mus musculus   Q00651   P26011      NaN      NaN      NaN  "
      ]
     },
     "execution_count": 15,
     "metadata": {},
     "output_type": "execute_result"
    }
   ],
   "source": [
    "chmbl_df = pd.read_csv(ChEMBL_integrin_dataset_path)\n",
    "\n",
    "chmbl_df.head(5)"
   ]
  },
  {
   "cell_type": "markdown",
   "id": "46381a3f-cf1a-4a84-92de-cbcf083f793c",
   "metadata": {},
   "source": [
    "### Generate Unique Datasets ###"
   ]
  },
  {
   "cell_type": "markdown",
   "id": "67e7a71b-09f1-4bb4-94bf-c1e0d1e1c5cd",
   "metadata": {},
   "source": [
    "#### Prechecks ####"
   ]
  },
  {
   "cell_type": "code",
   "execution_count": 22,
   "id": "54346010-46c7-4d9c-9010-ead5a6b53685",
   "metadata": {
    "tags": []
   },
   "outputs": [],
   "source": [
    "unique_proteins = pred_df[\"uniprot_id1\"].unique()"
   ]
  },
  {
   "cell_type": "code",
   "execution_count": 26,
   "id": "a65e6fa2-69f0-48cd-af1d-4287d1346957",
   "metadata": {
    "tags": []
   },
   "outputs": [
    {
     "name": "stdout",
     "output_type": "stream",
     "text": [
      "~~~~~~~~~~~~~~~~~~~~~~~~~~~~~~~~~~~~~~~~~~~~~~~~~~~~~~~~~~~~~~~~~~~~~~~~~~~~~~~~\n",
      "The unique proteins we want to predict their partners in the PPI are :\n",
      " ['P13612' 'P05556' 'P05106' 'P05107' 'P08648' 'P17301']\n",
      "\n",
      "The are total 6 such proteins\n",
      "~~~~~~~~~~~~~~~~~~~~~~~~~~~~~~~~~~~~~~~~~~~~~~~~~~~~~~~~~~~~~~~~~~~~~~~~~~~~~~~~\n"
     ]
    }
   ],
   "source": [
    "PRINT(f\"The unique proteins we want to predict their partners in the PPI are :\\n {unique_proteins}\\n\\nThe are total {len(unique_proteins)} such proteins\")"
   ]
  },
  {
   "cell_type": "markdown",
   "id": "483668ff-07cf-4a53-9292-ad8b8d8ac9e3",
   "metadata": {},
   "source": [
    "#### Datasets Generation Phase ####\n",
    "\n",
    "The next step is to generate six datasets, each for the protein for which we intend to create a deep learning model to predict its companion in PPI (i.e., the second UniProt_id).\n",
    "\n",
    "The way we are going to achieve this is by taking each unique *UniProt_id* value, searching for all the rows in the *ChEMBL* data frame we loaded from the previous project, where that *UniProt_id* value is one of their *UniProt_id{i}* columns, where i ∈ [1,5].\n",
    "\n",
    "Each dataset will contain all the molecules' *SMILES* values, with both *UniProt_ids* forming the connection.\n",
    "\n",
    "From these datasets, we will proceed to train our model. Thus, we can provide the unique SMILES value along with the UniProt_id to the model, and it will predict its partner."
   ]
  },
  {
   "cell_type": "code",
   "execution_count": 69,
   "id": "43b0865b-cb60-4661-aa94-6b770b815149",
   "metadata": {
    "tags": []
   },
   "outputs": [],
   "source": [
    "protein_dataframes = {}\n",
    "\n",
    "for protein in unique_proteins:\n",
    "    # Initialize an empty list to store rows for the current protein\n",
    "    rows_for_protein = []\n",
    "\n",
    "    # Iterate over each row in the ChEMBL DataFrame\n",
    "    for index, row in chmbl_df.iterrows():\n",
    "        # Check if the current protein is present in any of the UniProt columns\n",
    "        if protein in row[['UniProt1', 'UniProt2', 'UniProt3', 'UniProt4', 'UniProt5']].values:\n",
    "            # Determine the correct order (UniProt1 and UniProt2) in the new data frame\n",
    "            if row['UniProt1'] == protein:\n",
    "                relevant_info = [row['Canonical SMILES(RDKit)'], row['UniProt1'], row['UniProt2']]\n",
    "            elif row['UniProt2'] == protein:\n",
    "                relevant_info = [row['Canonical SMILES(RDKit)'], row['UniProt2'], row['UniProt1']]\n",
    "            else:\n",
    "                relevant_info = []\n",
    "\n",
    "            if relevant_info:\n",
    "                rows_for_protein.append(relevant_info)\n",
    "                \n",
    "    if rows_for_protein:\n",
    "        protein_dataframes[protein] = pd.DataFrame(rows_for_protein, columns=['SMILES', 'UniProt1', 'UniProt2'])\n"
   ]
  },
  {
   "cell_type": "code",
   "execution_count": 49,
   "id": "ec12d97a-54da-4bf2-bfb3-5102acdbe11b",
   "metadata": {
    "tags": []
   },
   "outputs": [
    {
     "data": {
      "text/html": [
       "<div>\n",
       "<style scoped>\n",
       "    .dataframe tbody tr th:only-of-type {\n",
       "        vertical-align: middle;\n",
       "    }\n",
       "\n",
       "    .dataframe tbody tr th {\n",
       "        vertical-align: top;\n",
       "    }\n",
       "\n",
       "    .dataframe thead th {\n",
       "        text-align: right;\n",
       "    }\n",
       "</style>\n",
       "<table border=\"1\" class=\"dataframe\">\n",
       "  <thead>\n",
       "    <tr style=\"text-align: right;\">\n",
       "      <th></th>\n",
       "      <th>SMILES</th>\n",
       "      <th>UniProt1</th>\n",
       "      <th>UniProt2</th>\n",
       "    </tr>\n",
       "  </thead>\n",
       "  <tbody>\n",
       "    <tr>\n",
       "      <th>0</th>\n",
       "      <td>COc1ccccc1-c1ccc(C[C@H](NC(=O)c2ccccc2Cl)C(=O)...</td>\n",
       "      <td>P13612</td>\n",
       "      <td>P26010</td>\n",
       "    </tr>\n",
       "    <tr>\n",
       "      <th>1</th>\n",
       "      <td>Cc1ccccc1NC(=O)Nc1ccc(CC(=O)N2C[C@@H](F)C[C@H]...</td>\n",
       "      <td>P13612</td>\n",
       "      <td>P26010</td>\n",
       "    </tr>\n",
       "    <tr>\n",
       "      <th>2</th>\n",
       "      <td>CN(C)Cc1ccccc1-c1ccc(C[C@H](NC(=O)c2ccccc2Cl)C...</td>\n",
       "      <td>P13612</td>\n",
       "      <td>P26010</td>\n",
       "    </tr>\n",
       "    <tr>\n",
       "      <th>3</th>\n",
       "      <td>Cc1cccc(Cl)c1C(=O)N[C@@H](Cc1ccc(NC(=O)c2c(Cl)...</td>\n",
       "      <td>P13612</td>\n",
       "      <td>P26010</td>\n",
       "    </tr>\n",
       "    <tr>\n",
       "      <th>4</th>\n",
       "      <td>COc1cnn(C)c(=O)c1-c1ccc(C[C@H](NC(=O)c2c(C)noc...</td>\n",
       "      <td>P13612</td>\n",
       "      <td>P26010</td>\n",
       "    </tr>\n",
       "    <tr>\n",
       "      <th>...</th>\n",
       "      <td>...</td>\n",
       "      <td>...</td>\n",
       "      <td>...</td>\n",
       "    </tr>\n",
       "    <tr>\n",
       "      <th>1969</th>\n",
       "      <td>CC(C)(C)[C@H]1CC[C@H](C[C@H](NC(=O)[C@@H]2CCC(...</td>\n",
       "      <td>P13612</td>\n",
       "      <td>P05556</td>\n",
       "    </tr>\n",
       "    <tr>\n",
       "      <th>1970</th>\n",
       "      <td>O=C(Nc1ccc(C[C@H](/N=c2\\c(O)c(O)\\c2=N/Cc2ccccc...</td>\n",
       "      <td>P13612</td>\n",
       "      <td>P05556</td>\n",
       "    </tr>\n",
       "    <tr>\n",
       "      <th>1971</th>\n",
       "      <td>N#Cc1cccc(S(=O)(=O)N2C[C@H](N3CCC(F)CC3)C[C@H]...</td>\n",
       "      <td>P13612</td>\n",
       "      <td>P05556</td>\n",
       "    </tr>\n",
       "    <tr>\n",
       "      <th>1972</th>\n",
       "      <td>CCCCS(=O)(=O)N[C@@H](Cc1ccc(OCCCCC2CCNCC2)cc1)...</td>\n",
       "      <td>P13612</td>\n",
       "      <td>P05556</td>\n",
       "    </tr>\n",
       "    <tr>\n",
       "      <th>1973</th>\n",
       "      <td>O=C(Cc1ccc2nc(-c3ccccc3)oc2c1)N1C[C@@H](F)C[C@...</td>\n",
       "      <td>P13612</td>\n",
       "      <td>P05556</td>\n",
       "    </tr>\n",
       "  </tbody>\n",
       "</table>\n",
       "<p>1974 rows × 3 columns</p>\n",
       "</div>"
      ],
      "text/plain": [
       "                                                 SMILES UniProt1 UniProt2\n",
       "0     COc1ccccc1-c1ccc(C[C@H](NC(=O)c2ccccc2Cl)C(=O)...   P13612   P26010\n",
       "1     Cc1ccccc1NC(=O)Nc1ccc(CC(=O)N2C[C@@H](F)C[C@H]...   P13612   P26010\n",
       "2     CN(C)Cc1ccccc1-c1ccc(C[C@H](NC(=O)c2ccccc2Cl)C...   P13612   P26010\n",
       "3     Cc1cccc(Cl)c1C(=O)N[C@@H](Cc1ccc(NC(=O)c2c(Cl)...   P13612   P26010\n",
       "4     COc1cnn(C)c(=O)c1-c1ccc(C[C@H](NC(=O)c2c(C)noc...   P13612   P26010\n",
       "...                                                 ...      ...      ...\n",
       "1969  CC(C)(C)[C@H]1CC[C@H](C[C@H](NC(=O)[C@@H]2CCC(...   P13612   P05556\n",
       "1970  O=C(Nc1ccc(C[C@H](/N=c2\\c(O)c(O)\\c2=N/Cc2ccccc...   P13612   P05556\n",
       "1971  N#Cc1cccc(S(=O)(=O)N2C[C@H](N3CCC(F)CC3)C[C@H]...   P13612   P05556\n",
       "1972  CCCCS(=O)(=O)N[C@@H](Cc1ccc(OCCCCC2CCNCC2)cc1)...   P13612   P05556\n",
       "1973  O=C(Cc1ccc2nc(-c3ccccc3)oc2c1)N1C[C@@H](F)C[C@...   P13612   P05556\n",
       "\n",
       "[1974 rows x 3 columns]"
      ]
     },
     "execution_count": 49,
     "metadata": {},
     "output_type": "execute_result"
    }
   ],
   "source": [
    "protein_dataframes['P13612']"
   ]
  },
  {
   "cell_type": "markdown",
   "id": "e05b2468-c1dd-4b2b-a271-6e9112e8296d",
   "metadata": {},
   "source": [
    "#### Save the Data Frames Dictionary ####"
   ]
  },
  {
   "cell_type": "code",
   "execution_count": 323,
   "id": "267c3114-b703-47f7-a25d-9df58c599fc7",
   "metadata": {
    "tags": []
   },
   "outputs": [],
   "source": [
    "directory_path = 'obj'\n",
    "\n",
    "# Save the dictionary to a file in the specified directory\n",
    "with open(os.path.join(directory_path, 'data_frames_dictionary.pkl'), 'wb') as file:\n",
    "    pickle.dump(protein_dataframes, file)"
   ]
  },
  {
   "cell_type": "markdown",
   "id": "8f43b770-29cd-40da-bb5f-8c344ff32d44",
   "metadata": {},
   "source": [
    "#### Save the Generated Data Frame as CSV Files ####"
   ]
  },
  {
   "cell_type": "code",
   "execution_count": 50,
   "id": "b04119ec-aff2-4477-aa71-a78c4deabb57",
   "metadata": {
    "tags": []
   },
   "outputs": [],
   "source": [
    "out_dir = 'unique UniProt csv files'"
   ]
  },
  {
   "cell_type": "code",
   "execution_count": 51,
   "id": "0e7f8739-58be-4251-bb20-458033844b06",
   "metadata": {
    "tags": []
   },
   "outputs": [
    {
     "name": "stdout",
     "output_type": "stream",
     "text": [
      "~~~~~~~~~~~~~~~~~~~~~~~~~~~~~~~~~~~~~~~~~~~~~~~~~~~~~~~~~~~~~~~~~~~~~~~~~~~~~~~~\n",
      "Saved data frame for P13612 as P13612.csv\n",
      "~~~~~~~~~~~~~~~~~~~~~~~~~~~~~~~~~~~~~~~~~~~~~~~~~~~~~~~~~~~~~~~~~~~~~~~~~~~~~~~~\n",
      "~~~~~~~~~~~~~~~~~~~~~~~~~~~~~~~~~~~~~~~~~~~~~~~~~~~~~~~~~~~~~~~~~~~~~~~~~~~~~~~~\n",
      "Saved data frame for P05556 as P05556.csv\n",
      "~~~~~~~~~~~~~~~~~~~~~~~~~~~~~~~~~~~~~~~~~~~~~~~~~~~~~~~~~~~~~~~~~~~~~~~~~~~~~~~~\n",
      "~~~~~~~~~~~~~~~~~~~~~~~~~~~~~~~~~~~~~~~~~~~~~~~~~~~~~~~~~~~~~~~~~~~~~~~~~~~~~~~~\n",
      "Saved data frame for P05106 as P05106.csv\n",
      "~~~~~~~~~~~~~~~~~~~~~~~~~~~~~~~~~~~~~~~~~~~~~~~~~~~~~~~~~~~~~~~~~~~~~~~~~~~~~~~~\n",
      "~~~~~~~~~~~~~~~~~~~~~~~~~~~~~~~~~~~~~~~~~~~~~~~~~~~~~~~~~~~~~~~~~~~~~~~~~~~~~~~~\n",
      "Saved data frame for P05107 as P05107.csv\n",
      "~~~~~~~~~~~~~~~~~~~~~~~~~~~~~~~~~~~~~~~~~~~~~~~~~~~~~~~~~~~~~~~~~~~~~~~~~~~~~~~~\n",
      "~~~~~~~~~~~~~~~~~~~~~~~~~~~~~~~~~~~~~~~~~~~~~~~~~~~~~~~~~~~~~~~~~~~~~~~~~~~~~~~~\n",
      "Saved data frame for P08648 as P08648.csv\n",
      "~~~~~~~~~~~~~~~~~~~~~~~~~~~~~~~~~~~~~~~~~~~~~~~~~~~~~~~~~~~~~~~~~~~~~~~~~~~~~~~~\n",
      "~~~~~~~~~~~~~~~~~~~~~~~~~~~~~~~~~~~~~~~~~~~~~~~~~~~~~~~~~~~~~~~~~~~~~~~~~~~~~~~~\n",
      "Saved data frame for P17301 as P17301.csv\n",
      "~~~~~~~~~~~~~~~~~~~~~~~~~~~~~~~~~~~~~~~~~~~~~~~~~~~~~~~~~~~~~~~~~~~~~~~~~~~~~~~~\n"
     ]
    }
   ],
   "source": [
    "for protein, df in protein_dataframes.items():\n",
    "    try:\n",
    "        # Generate csv file name with the desired format\n",
    "        file_name = f'{protein}.csv'\n",
    "\n",
    "        # Specify full path\n",
    "        out_path = os.path.join(out_dir, file_name)\n",
    "\n",
    "        # Save current data frame as csv file\n",
    "        df.to_csv(out_path, index=False)\n",
    "\n",
    "        PRINT(f'Saved data frame for {protein} as {file_name}')\n",
    "        \n",
    "    except Exception as e:\n",
    "        PRINT(f'Error!\\nVerify path name and the data')\n",
    "    "
   ]
  },
  {
   "cell_type": "markdown",
   "id": "a7d3d5a1-21d3-417e-80ce-843a81b0ec16",
   "metadata": {
    "tags": []
   },
   "source": [
    "### Visualize Distributions for each Data Frame ###"
   ]
  },
  {
   "cell_type": "code",
   "execution_count": 60,
   "id": "67188076-5b21-4b5c-940a-5ff48e0a9746",
   "metadata": {
    "tags": []
   },
   "outputs": [
    {
     "name": "stdout",
     "output_type": "stream",
     "text": [
      "~~~~~~~~~~~~~~~~~~~~~~~~~~~~~~~~~~~~~~~~~~~~~~~~~~~~~~~~~~~~~~~~~~~~~~~~~~~~~~~~\n",
      "We have 6 data frames to visualize information about their data distributions\n",
      "~~~~~~~~~~~~~~~~~~~~~~~~~~~~~~~~~~~~~~~~~~~~~~~~~~~~~~~~~~~~~~~~~~~~~~~~~~~~~~~~\n"
     ]
    }
   ],
   "source": [
    "PRINT(f'We have {len(protein_dataframes.items())} data frames to visualize information about their data distributions')"
   ]
  },
  {
   "cell_type": "code",
   "execution_count": 62,
   "id": "9ce9e7d7-88be-458d-b011-01bc4a9e0dfb",
   "metadata": {
    "tags": []
   },
   "outputs": [
    {
     "name": "stdout",
     "output_type": "stream",
     "text": [
      "~~~~~~~~~~~~~~~~~~~~~~~~~~~~~~~~~~~~~~~~~~~~~~~~~~~~~~~~~~~~~~~~~~~~~~~~~~~~~~~~\n",
      "UniProt_ids -> ['P13612' 'P05556' 'P05106' 'P05107' 'P08648' 'P17301']\n",
      "~~~~~~~~~~~~~~~~~~~~~~~~~~~~~~~~~~~~~~~~~~~~~~~~~~~~~~~~~~~~~~~~~~~~~~~~~~~~~~~~\n"
     ]
    }
   ],
   "source": [
    "PRINT(f'UniProt_ids -> {unique_proteins}')"
   ]
  },
  {
   "cell_type": "markdown",
   "id": "7293fe1a-2164-49a9-92ed-554425658f28",
   "metadata": {},
   "source": [
    "#### Helper Functions ####"
   ]
  },
  {
   "cell_type": "markdown",
   "id": "59905f09-910c-4906-8ea9-db21f46a58f6",
   "metadata": {},
   "source": [
    "##### Helper One-Hot-Encoding Function #####"
   ]
  },
  {
   "cell_type": "code",
   "execution_count": 215,
   "id": "46cb179d-4732-4dfb-a016-61182aeeb4c7",
   "metadata": {
    "tags": []
   },
   "outputs": [],
   "source": [
    "def one_hot_encoding(df):\n",
    "    \n",
    "    df_encoded = pd.get_dummies(df[['UniProt1', 'UniProt2']], prefix='', prefix_sep='').astype(int)\n",
    "    df_encoded = pd.concat([df[['SMILES']], df_encoded], axis=1)\n",
    "    return df_encoded"
   ]
  },
  {
   "cell_type": "markdown",
   "id": "85ed277c-25c1-443e-8cb6-873f36931747",
   "metadata": {},
   "source": [
    "##### Helper Visualization Function #####"
   ]
  },
  {
   "cell_type": "code",
   "execution_count": 203,
   "id": "c9aa1edb-8829-4893-af80-d24cea01c631",
   "metadata": {
    "tags": []
   },
   "outputs": [],
   "source": [
    "def visualize_dist(df, target_prot)-> None:\n",
    "    # Melt the DataFrame to long format for Seaborn countplot\n",
    "    df_melted = df.melt(var_name='Protein', value_name='Interaction Status')\n",
    "\n",
    "    # Set the size of the plot\n",
    "    sns.set(rc={'figure.figsize':(12, 8)})\n",
    "    \n",
    "    sns.set_context(\"notebook\", rc={\"lines.linewidth\": 2.5})\n",
    "    # Create a grouped count plot\n",
    "    sns.countplot(x='Protein', hue='Interaction Status', palette=[\"lightgrey\", \"skyblue\"], data=df_melted)\n",
    "\n",
    "    # Add labels and title\n",
    "    plt.xlabel('Protein')\n",
    "    plt.ylabel('Count')\n",
    "    plt.title(f'PPI with -> {target_prot}')\n",
    "\n",
    "    sns.despine()\n",
    "    sns.set_theme(style=\"whitegrid\")\n",
    "    sns.despine(offset=10, trim=True)\n",
    "    sns.set_context(\"notebook\")\n",
    "    plt.show()"
   ]
  },
  {
   "cell_type": "markdown",
   "id": "346548aa-3d9d-42f7-a067-c0f245371c0a",
   "metadata": {},
   "source": [
    "##### Helper Column Filter Function ######"
   ]
  },
  {
   "cell_type": "code",
   "execution_count": 180,
   "id": "6f52ce04-3d2c-45e7-9c42-2c3020244307",
   "metadata": {
    "tags": []
   },
   "outputs": [],
   "source": [
    "def filter_proteins_list(df, columns_to_remove):\n",
    "    \n",
    "    filtered_columns = [col for col in df.columns if col not in columns_to_remove]\n",
    "    filtered_columns_list = list(filtered_columns)\n",
    "    return filtered_columns"
   ]
  },
  {
   "cell_type": "markdown",
   "id": "f1a4edec-fac1-4e7a-a022-fed9623796fb",
   "metadata": {},
   "source": [
    "#### First Data Frame ####"
   ]
  },
  {
   "cell_type": "code",
   "execution_count": 228,
   "id": "85291df5-7654-4144-aa1e-663f20f2cb91",
   "metadata": {
    "tags": []
   },
   "outputs": [
    {
     "data": {
      "text/html": [
       "<div>\n",
       "<style scoped>\n",
       "    .dataframe tbody tr th:only-of-type {\n",
       "        vertical-align: middle;\n",
       "    }\n",
       "\n",
       "    .dataframe tbody tr th {\n",
       "        vertical-align: top;\n",
       "    }\n",
       "\n",
       "    .dataframe thead th {\n",
       "        text-align: right;\n",
       "    }\n",
       "</style>\n",
       "<table border=\"1\" class=\"dataframe\">\n",
       "  <thead>\n",
       "    <tr style=\"text-align: right;\">\n",
       "      <th></th>\n",
       "      <th>SMILES</th>\n",
       "      <th>UniProt1</th>\n",
       "      <th>UniProt2</th>\n",
       "    </tr>\n",
       "  </thead>\n",
       "  <tbody>\n",
       "    <tr>\n",
       "      <th>0</th>\n",
       "      <td>COc1ccccc1-c1ccc(C[C@H](NC(=O)c2ccccc2Cl)C(=O)...</td>\n",
       "      <td>P13612</td>\n",
       "      <td>P26010</td>\n",
       "    </tr>\n",
       "    <tr>\n",
       "      <th>1</th>\n",
       "      <td>Cc1ccccc1NC(=O)Nc1ccc(CC(=O)N2C[C@@H](F)C[C@H]...</td>\n",
       "      <td>P13612</td>\n",
       "      <td>P26010</td>\n",
       "    </tr>\n",
       "  </tbody>\n",
       "</table>\n",
       "</div>"
      ],
      "text/plain": [
       "                                              SMILES UniProt1 UniProt2\n",
       "0  COc1ccccc1-c1ccc(C[C@H](NC(=O)c2ccccc2Cl)C(=O)...   P13612   P26010\n",
       "1  Cc1ccccc1NC(=O)Nc1ccc(CC(=O)N2C[C@@H](F)C[C@H]...   P13612   P26010"
      ]
     },
     "execution_count": 228,
     "metadata": {},
     "output_type": "execute_result"
    }
   ],
   "source": [
    "first_df = protein_dataframes[unique_proteins[0]]\n",
    "\n",
    "first_df.head(2)"
   ]
  },
  {
   "cell_type": "markdown",
   "id": "1fe2cbfc-23ef-4cc2-9dd2-5f69da8daa1b",
   "metadata": {},
   "source": [
    "##### Visualize Distribution #####"
   ]
  },
  {
   "cell_type": "code",
   "execution_count": 234,
   "id": "39bc7e80-ca3c-4ba4-8594-35db70efcd4a",
   "metadata": {
    "tags": []
   },
   "outputs": [],
   "source": [
    "first_df_encoded = one_hot_encoding(first_df)"
   ]
  },
  {
   "cell_type": "code",
   "execution_count": 235,
   "id": "f1426fdb-b9bd-4ccb-b530-63c4382276b1",
   "metadata": {
    "tags": []
   },
   "outputs": [
    {
     "name": "stdout",
     "output_type": "stream",
     "text": [
      "Index(['SMILES', 'P13612', 'P05556', 'P26010'], dtype='object')\n"
     ]
    }
   ],
   "source": [
    "print(first_df_encoded.columns)"
   ]
  },
  {
   "cell_type": "code",
   "execution_count": 236,
   "id": "ab002c25-789a-47c0-9ad7-ed0925b52e81",
   "metadata": {
    "tags": []
   },
   "outputs": [
    {
     "data": {
      "text/html": [
       "<div>\n",
       "<style scoped>\n",
       "    .dataframe tbody tr th:only-of-type {\n",
       "        vertical-align: middle;\n",
       "    }\n",
       "\n",
       "    .dataframe tbody tr th {\n",
       "        vertical-align: top;\n",
       "    }\n",
       "\n",
       "    .dataframe thead th {\n",
       "        text-align: right;\n",
       "    }\n",
       "</style>\n",
       "<table border=\"1\" class=\"dataframe\">\n",
       "  <thead>\n",
       "    <tr style=\"text-align: right;\">\n",
       "      <th></th>\n",
       "      <th>SMILES</th>\n",
       "      <th>P13612</th>\n",
       "      <th>P05556</th>\n",
       "      <th>P26010</th>\n",
       "    </tr>\n",
       "  </thead>\n",
       "  <tbody>\n",
       "    <tr>\n",
       "      <th>0</th>\n",
       "      <td>COc1ccccc1-c1ccc(C[C@H](NC(=O)c2ccccc2Cl)C(=O)...</td>\n",
       "      <td>1</td>\n",
       "      <td>0</td>\n",
       "      <td>1</td>\n",
       "    </tr>\n",
       "    <tr>\n",
       "      <th>1</th>\n",
       "      <td>Cc1ccccc1NC(=O)Nc1ccc(CC(=O)N2C[C@@H](F)C[C@H]...</td>\n",
       "      <td>1</td>\n",
       "      <td>0</td>\n",
       "      <td>1</td>\n",
       "    </tr>\n",
       "    <tr>\n",
       "      <th>2</th>\n",
       "      <td>CN(C)Cc1ccccc1-c1ccc(C[C@H](NC(=O)c2ccccc2Cl)C...</td>\n",
       "      <td>1</td>\n",
       "      <td>0</td>\n",
       "      <td>1</td>\n",
       "    </tr>\n",
       "  </tbody>\n",
       "</table>\n",
       "</div>"
      ],
      "text/plain": [
       "                                              SMILES  P13612  P05556  P26010\n",
       "0  COc1ccccc1-c1ccc(C[C@H](NC(=O)c2ccccc2Cl)C(=O)...       1       0       1\n",
       "1  Cc1ccccc1NC(=O)Nc1ccc(CC(=O)N2C[C@@H](F)C[C@H]...       1       0       1\n",
       "2  CN(C)Cc1ccccc1-c1ccc(C[C@H](NC(=O)c2ccccc2Cl)C...       1       0       1"
      ]
     },
     "execution_count": 236,
     "metadata": {},
     "output_type": "execute_result"
    }
   ],
   "source": [
    "first_df_encoded.head(3)"
   ]
  },
  {
   "cell_type": "code",
   "execution_count": 237,
   "id": "6adad14d-fb2c-4e4c-8deb-5352485fb302",
   "metadata": {
    "tags": []
   },
   "outputs": [
    {
     "name": "stdout",
     "output_type": "stream",
     "text": [
      "~~~~~~~~~~~~~~~~~~~~~~~~~~~~~~~~~~~~~~~~~~~~~~~~~~~~~~~~~~~~~~~~~~~~~~~~~~~~~~~~\n",
      "Filtered columns -> ['P05556', 'P26010']\n",
      "~~~~~~~~~~~~~~~~~~~~~~~~~~~~~~~~~~~~~~~~~~~~~~~~~~~~~~~~~~~~~~~~~~~~~~~~~~~~~~~~\n"
     ]
    }
   ],
   "source": [
    "filtered_columns = filter_proteins_list(first_df_encoded, columns_to_remove = ['SMILES', 'P13612'])\n",
    "PRINT(f'Filtered columns -> {filtered_columns}')"
   ]
  },
  {
   "cell_type": "code",
   "execution_count": 238,
   "id": "a3c6ccdb-34af-438a-b09a-8773ac6e604d",
   "metadata": {
    "tags": []
   },
   "outputs": [
    {
     "data": {
      "text/html": [
       "<div>\n",
       "<style scoped>\n",
       "    .dataframe tbody tr th:only-of-type {\n",
       "        vertical-align: middle;\n",
       "    }\n",
       "\n",
       "    .dataframe tbody tr th {\n",
       "        vertical-align: top;\n",
       "    }\n",
       "\n",
       "    .dataframe thead th {\n",
       "        text-align: right;\n",
       "    }\n",
       "</style>\n",
       "<table border=\"1\" class=\"dataframe\">\n",
       "  <thead>\n",
       "    <tr style=\"text-align: right;\">\n",
       "      <th></th>\n",
       "      <th>P05556</th>\n",
       "      <th>P26010</th>\n",
       "    </tr>\n",
       "  </thead>\n",
       "  <tbody>\n",
       "    <tr>\n",
       "      <th>0</th>\n",
       "      <td>0</td>\n",
       "      <td>1</td>\n",
       "    </tr>\n",
       "    <tr>\n",
       "      <th>1</th>\n",
       "      <td>0</td>\n",
       "      <td>1</td>\n",
       "    </tr>\n",
       "  </tbody>\n",
       "</table>\n",
       "</div>"
      ],
      "text/plain": [
       "   P05556  P26010\n",
       "0       0       1\n",
       "1       0       1"
      ]
     },
     "execution_count": 238,
     "metadata": {},
     "output_type": "execute_result"
    }
   ],
   "source": [
    "temp_df_1 = first_df_encoded[filtered_columns]\n",
    "\n",
    "temp_df_1.head(2)"
   ]
  },
  {
   "cell_type": "code",
   "execution_count": 268,
   "id": "8db6266e-0223-4517-97ee-7904413e78fb",
   "metadata": {
    "tags": []
   },
   "outputs": [
    {
     "data": {
      "image/png": "[encoded data removed]",
      "text/plain": [
       "<Figure size 1200x800 with 1 Axes>"
      ]
     },
     "metadata": {},
     "output_type": "display_data"
    }
   ],
   "source": [
    "visualize_dist(temp_df_1, unique_proteins[0])"
   ]
  },
  {
   "cell_type": "markdown",
   "id": "0f39ec01-3b3c-4349-87f9-a482f66aa52a",
   "metadata": {},
   "source": [
    "As we can see from the histogram, `P05556` appears much more than `P26010` in the PPI with UniProt traget `P13612`"
   ]
  },
  {
   "cell_type": "markdown",
   "id": "bc2dc980-a947-42be-9dab-899be04b869d",
   "metadata": {},
   "source": [
    "###### Explore the First Data Frame ######"
   ]
  },
  {
   "cell_type": "code",
   "execution_count": 251,
   "id": "31067de4-48cd-4343-8c41-0bb86703fdd4",
   "metadata": {
    "tags": []
   },
   "outputs": [
    {
     "name": "stdout",
     "output_type": "stream",
     "text": [
      "~~~~~~~~~~~~~~~~~~~~~~~~~~~~~~~~~~~~~~~~~~~~~~~~~~~~~~~~~~~~~~~~~~~~~~~~~~~~~~~~\n",
      "The size of the data frame is -> 1974\n",
      "~~~~~~~~~~~~~~~~~~~~~~~~~~~~~~~~~~~~~~~~~~~~~~~~~~~~~~~~~~~~~~~~~~~~~~~~~~~~~~~~\n",
      "Number of times P05556 appears -> 1452\n",
      "Number of times P26010 appears -> 522\n",
      "Size check -> True\n",
      "~~~~~~~~~~~~~~~~~~~~~~~~~~~~~~~~~~~~~~~~~~~~~~~~~~~~~~~~~~~~~~~~~~~~~~~~~~~~~~~~\n",
      "Done.\n",
      "~~~~~~~~~~~~~~~~~~~~~~~~~~~~~~~~~~~~~~~~~~~~~~~~~~~~~~~~~~~~~~~~~~~~~~~~~~~~~~~~\n"
     ]
    }
   ],
   "source": [
    "PRINT(f'The size of the data frame is -> {len(first_df)}')\n",
    "print(f'Number of times P05556 appears -> {len(first_df[first_df[\"UniProt2\"] == \"P05556\"])}')\n",
    "print(f'Number of times P26010 appears -> {len(first_df[first_df[\"UniProt2\"] == \"P26010\"])}')\n",
    "print(f'Size check -> {({len(first_df)} == {(len(first_df[first_df[\"UniProt2\"] == \"P05556\"]) + len(first_df[first_df[\"UniProt2\"] == \"P26010\"]))})}')\n",
    "\n",
    "PRINT('Done.')"
   ]
  },
  {
   "cell_type": "markdown",
   "id": "fe5be916-74f1-4b0e-8ba5-f6609337f1bc",
   "metadata": {},
   "source": [
    "#### Second Data Frame ####"
   ]
  },
  {
   "cell_type": "code",
   "execution_count": 222,
   "id": "af316398-c203-47c5-a1dd-1844f8b31f0b",
   "metadata": {
    "tags": []
   },
   "outputs": [
    {
     "data": {
      "text/html": [
       "<div>\n",
       "<style scoped>\n",
       "    .dataframe tbody tr th:only-of-type {\n",
       "        vertical-align: middle;\n",
       "    }\n",
       "\n",
       "    .dataframe tbody tr th {\n",
       "        vertical-align: top;\n",
       "    }\n",
       "\n",
       "    .dataframe thead th {\n",
       "        text-align: right;\n",
       "    }\n",
       "</style>\n",
       "<table border=\"1\" class=\"dataframe\">\n",
       "  <thead>\n",
       "    <tr style=\"text-align: right;\">\n",
       "      <th></th>\n",
       "      <th>SMILES</th>\n",
       "      <th>UniProt1</th>\n",
       "      <th>UniProt2</th>\n",
       "    </tr>\n",
       "  </thead>\n",
       "  <tbody>\n",
       "    <tr>\n",
       "      <th>0</th>\n",
       "      <td>CC(C)(C)c1cc(Br)cc([C@H](CC(=O)O)NC(=O)CNC(=O)...</td>\n",
       "      <td>P05556</td>\n",
       "      <td>O75578</td>\n",
       "    </tr>\n",
       "    <tr>\n",
       "      <th>1</th>\n",
       "      <td>O=C(NCc1ccccc1)NC[C@H](NC(=O)[C@@H]1CCCN1S(=O)...</td>\n",
       "      <td>P05556</td>\n",
       "      <td>P56199</td>\n",
       "    </tr>\n",
       "  </tbody>\n",
       "</table>\n",
       "</div>"
      ],
      "text/plain": [
       "                                              SMILES UniProt1 UniProt2\n",
       "0  CC(C)(C)c1cc(Br)cc([C@H](CC(=O)O)NC(=O)CNC(=O)...   P05556   O75578\n",
       "1  O=C(NCc1ccccc1)NC[C@H](NC(=O)[C@@H]1CCCN1S(=O)...   P05556   P56199"
      ]
     },
     "execution_count": 222,
     "metadata": {},
     "output_type": "execute_result"
    }
   ],
   "source": [
    "second_df = protein_dataframes[unique_proteins[1]]\n",
    "\n",
    "second_df.head(2)"
   ]
  },
  {
   "cell_type": "markdown",
   "id": "5686c5ec-16bd-4cea-b163-581371e8a482",
   "metadata": {},
   "source": [
    "##### Visualize Distribution #####"
   ]
  },
  {
   "cell_type": "code",
   "execution_count": 223,
   "id": "40f15213-4666-4fd3-a3e0-9e7478e0cb94",
   "metadata": {
    "tags": []
   },
   "outputs": [],
   "source": [
    "second_df_encoded = one_hot_encoding(second_df)"
   ]
  },
  {
   "cell_type": "code",
   "execution_count": 252,
   "id": "0aae57eb-95ea-4b03-86aa-d528ec43ed2f",
   "metadata": {
    "tags": []
   },
   "outputs": [
    {
     "data": {
      "text/plain": [
       "Index(['SMILES', 'P05556', 'O75578', 'P05106', 'P06756', 'P08648', 'P13612',\n",
       "       'P17301', 'P23229', 'P56199', 'Q13797'],\n",
       "      dtype='object')"
      ]
     },
     "execution_count": 252,
     "metadata": {},
     "output_type": "execute_result"
    }
   ],
   "source": [
    "second_df_encoded.columns"
   ]
  },
  {
   "cell_type": "code",
   "execution_count": 224,
   "id": "0ea85ab7-9c64-4a98-88fd-882cf2ebc719",
   "metadata": {
    "tags": []
   },
   "outputs": [
    {
     "data": {
      "text/html": [
       "<div>\n",
       "<style scoped>\n",
       "    .dataframe tbody tr th:only-of-type {\n",
       "        vertical-align: middle;\n",
       "    }\n",
       "\n",
       "    .dataframe tbody tr th {\n",
       "        vertical-align: top;\n",
       "    }\n",
       "\n",
       "    .dataframe thead th {\n",
       "        text-align: right;\n",
       "    }\n",
       "</style>\n",
       "<table border=\"1\" class=\"dataframe\">\n",
       "  <thead>\n",
       "    <tr style=\"text-align: right;\">\n",
       "      <th></th>\n",
       "      <th>SMILES</th>\n",
       "      <th>P05556</th>\n",
       "      <th>O75578</th>\n",
       "      <th>P05106</th>\n",
       "      <th>P06756</th>\n",
       "      <th>P08648</th>\n",
       "      <th>P13612</th>\n",
       "      <th>P17301</th>\n",
       "      <th>P23229</th>\n",
       "      <th>P56199</th>\n",
       "      <th>Q13797</th>\n",
       "    </tr>\n",
       "  </thead>\n",
       "  <tbody>\n",
       "    <tr>\n",
       "      <th>0</th>\n",
       "      <td>CC(C)(C)c1cc(Br)cc([C@H](CC(=O)O)NC(=O)CNC(=O)...</td>\n",
       "      <td>1</td>\n",
       "      <td>1</td>\n",
       "      <td>0</td>\n",
       "      <td>0</td>\n",
       "      <td>0</td>\n",
       "      <td>0</td>\n",
       "      <td>0</td>\n",
       "      <td>0</td>\n",
       "      <td>0</td>\n",
       "      <td>0</td>\n",
       "    </tr>\n",
       "    <tr>\n",
       "      <th>1</th>\n",
       "      <td>O=C(NCc1ccccc1)NC[C@H](NC(=O)[C@@H]1CCCN1S(=O)...</td>\n",
       "      <td>1</td>\n",
       "      <td>0</td>\n",
       "      <td>0</td>\n",
       "      <td>0</td>\n",
       "      <td>0</td>\n",
       "      <td>0</td>\n",
       "      <td>0</td>\n",
       "      <td>0</td>\n",
       "      <td>1</td>\n",
       "      <td>0</td>\n",
       "    </tr>\n",
       "    <tr>\n",
       "      <th>2</th>\n",
       "      <td>O=C(NCc1ccccc1)NC[C@H](NC(=O)[C@@H]1CCCN1S(=O)...</td>\n",
       "      <td>1</td>\n",
       "      <td>0</td>\n",
       "      <td>0</td>\n",
       "      <td>0</td>\n",
       "      <td>0</td>\n",
       "      <td>0</td>\n",
       "      <td>0</td>\n",
       "      <td>0</td>\n",
       "      <td>1</td>\n",
       "      <td>0</td>\n",
       "    </tr>\n",
       "  </tbody>\n",
       "</table>\n",
       "</div>"
      ],
      "text/plain": [
       "                                              SMILES  P05556  O75578  P05106  \\\n",
       "0  CC(C)(C)c1cc(Br)cc([C@H](CC(=O)O)NC(=O)CNC(=O)...       1       1       0   \n",
       "1  O=C(NCc1ccccc1)NC[C@H](NC(=O)[C@@H]1CCCN1S(=O)...       1       0       0   \n",
       "2  O=C(NCc1ccccc1)NC[C@H](NC(=O)[C@@H]1CCCN1S(=O)...       1       0       0   \n",
       "\n",
       "   P06756  P08648  P13612  P17301  P23229  P56199  Q13797  \n",
       "0       0       0       0       0       0       0       0  \n",
       "1       0       0       0       0       0       1       0  \n",
       "2       0       0       0       0       0       1       0  "
      ]
     },
     "execution_count": 224,
     "metadata": {},
     "output_type": "execute_result"
    }
   ],
   "source": [
    "second_df_encoded.head(3)"
   ]
  },
  {
   "cell_type": "code",
   "execution_count": 225,
   "id": "39f7ec8c-7836-467f-b4da-a79b6ff0140b",
   "metadata": {
    "tags": []
   },
   "outputs": [
    {
     "name": "stdout",
     "output_type": "stream",
     "text": [
      "~~~~~~~~~~~~~~~~~~~~~~~~~~~~~~~~~~~~~~~~~~~~~~~~~~~~~~~~~~~~~~~~~~~~~~~~~~~~~~~~\n",
      "Filtered columns -> ['O75578', 'P05106', 'P06756', 'P08648', 'P13612', 'P17301', 'P23229', 'P56199', 'Q13797']\n",
      "~~~~~~~~~~~~~~~~~~~~~~~~~~~~~~~~~~~~~~~~~~~~~~~~~~~~~~~~~~~~~~~~~~~~~~~~~~~~~~~~\n"
     ]
    }
   ],
   "source": [
    "filtered_columns = filter_proteins_list(second_df_encoded, columns_to_remove = ['SMILES', 'P05556'])\n",
    "PRINT(f'Filtered columns -> {filtered_columns}')"
   ]
  },
  {
   "cell_type": "code",
   "execution_count": 226,
   "id": "2a0ca8b0-3b7a-433d-abf5-c50d55d0facb",
   "metadata": {
    "tags": []
   },
   "outputs": [
    {
     "data": {
      "text/html": [
       "<div>\n",
       "<style scoped>\n",
       "    .dataframe tbody tr th:only-of-type {\n",
       "        vertical-align: middle;\n",
       "    }\n",
       "\n",
       "    .dataframe tbody tr th {\n",
       "        vertical-align: top;\n",
       "    }\n",
       "\n",
       "    .dataframe thead th {\n",
       "        text-align: right;\n",
       "    }\n",
       "</style>\n",
       "<table border=\"1\" class=\"dataframe\">\n",
       "  <thead>\n",
       "    <tr style=\"text-align: right;\">\n",
       "      <th></th>\n",
       "      <th>O75578</th>\n",
       "      <th>P05106</th>\n",
       "      <th>P06756</th>\n",
       "      <th>P08648</th>\n",
       "      <th>P13612</th>\n",
       "      <th>P17301</th>\n",
       "      <th>P23229</th>\n",
       "      <th>P56199</th>\n",
       "      <th>Q13797</th>\n",
       "    </tr>\n",
       "  </thead>\n",
       "  <tbody>\n",
       "    <tr>\n",
       "      <th>0</th>\n",
       "      <td>1</td>\n",
       "      <td>0</td>\n",
       "      <td>0</td>\n",
       "      <td>0</td>\n",
       "      <td>0</td>\n",
       "      <td>0</td>\n",
       "      <td>0</td>\n",
       "      <td>0</td>\n",
       "      <td>0</td>\n",
       "    </tr>\n",
       "    <tr>\n",
       "      <th>1</th>\n",
       "      <td>0</td>\n",
       "      <td>0</td>\n",
       "      <td>0</td>\n",
       "      <td>0</td>\n",
       "      <td>0</td>\n",
       "      <td>0</td>\n",
       "      <td>0</td>\n",
       "      <td>1</td>\n",
       "      <td>0</td>\n",
       "    </tr>\n",
       "    <tr>\n",
       "      <th>2</th>\n",
       "      <td>0</td>\n",
       "      <td>0</td>\n",
       "      <td>0</td>\n",
       "      <td>0</td>\n",
       "      <td>0</td>\n",
       "      <td>0</td>\n",
       "      <td>0</td>\n",
       "      <td>1</td>\n",
       "      <td>0</td>\n",
       "    </tr>\n",
       "    <tr>\n",
       "      <th>3</th>\n",
       "      <td>0</td>\n",
       "      <td>0</td>\n",
       "      <td>0</td>\n",
       "      <td>0</td>\n",
       "      <td>0</td>\n",
       "      <td>0</td>\n",
       "      <td>0</td>\n",
       "      <td>1</td>\n",
       "      <td>0</td>\n",
       "    </tr>\n",
       "    <tr>\n",
       "      <th>4</th>\n",
       "      <td>0</td>\n",
       "      <td>0</td>\n",
       "      <td>0</td>\n",
       "      <td>0</td>\n",
       "      <td>0</td>\n",
       "      <td>0</td>\n",
       "      <td>0</td>\n",
       "      <td>1</td>\n",
       "      <td>0</td>\n",
       "    </tr>\n",
       "  </tbody>\n",
       "</table>\n",
       "</div>"
      ],
      "text/plain": [
       "   O75578  P05106  P06756  P08648  P13612  P17301  P23229  P56199  Q13797\n",
       "0       1       0       0       0       0       0       0       0       0\n",
       "1       0       0       0       0       0       0       0       1       0\n",
       "2       0       0       0       0       0       0       0       1       0\n",
       "3       0       0       0       0       0       0       0       1       0\n",
       "4       0       0       0       0       0       0       0       1       0"
      ]
     },
     "execution_count": 226,
     "metadata": {},
     "output_type": "execute_result"
    }
   ],
   "source": [
    "temp_df_2 = second_df_encoded[filtered_columns]\n",
    "\n",
    "temp_df_2.head(5)"
   ]
  },
  {
   "cell_type": "code",
   "execution_count": 267,
   "id": "b196da99-3451-422d-96ba-94c9c13da145",
   "metadata": {
    "tags": []
   },
   "outputs": [
    {
     "data": {
      "image/png": "[encoded data removed]",
      "text/plain": [
       "<Figure size 1200x800 with 1 Axes>"
      ]
     },
     "metadata": {},
     "output_type": "display_data"
    }
   ],
   "source": [
    "visualize_dist(temp_df_2, unique_proteins[1])"
   ]
  },
  {
   "cell_type": "markdown",
   "id": "e0ca8cf4-689e-4848-9c5c-2de3345fbb05",
   "metadata": {
    "tags": []
   },
   "source": [
    "In the plot above, we observe that certain proteins, such as `O75578` and `P23229`, have minimal occurrences in the PPI with `P05106`. In contrast, proteins like `P13612` exhibit frequent appearances in the PPI with '`P05106`."
   ]
  },
  {
   "cell_type": "markdown",
   "id": "e664c6e0-4fed-458e-81bc-ff291586772c",
   "metadata": {},
   "source": [
    "###### Explore the Second Data Frame ######"
   ]
  },
  {
   "cell_type": "code",
   "execution_count": 250,
   "id": "cc07f3ab-10cd-48d5-a989-26398c5e2fb8",
   "metadata": {
    "tags": []
   },
   "outputs": [
    {
     "name": "stdout",
     "output_type": "stream",
     "text": [
      "~~~~~~~~~~~~~~~~~~~~~~~~~~~~~~~~~~~~~~~~~~~~~~~~~~~~~~~~~~~~~~~~~~~~~~~~~~~~~~~~\n",
      "The size of the data frame is -> 2197\n",
      "~~~~~~~~~~~~~~~~~~~~~~~~~~~~~~~~~~~~~~~~~~~~~~~~~~~~~~~~~~~~~~~~~~~~~~~~~~~~~~~~\n",
      "Number of time O75578 appears -> 1\n",
      "Number of time P23229 appears -> 1\n",
      "Number of time P56199 appears -> 6\n",
      "Number of time Q13797 appears -> 10\n",
      "Number of time P17301 appears -> 57\n",
      "Number of time P05106 appears -> 37\n",
      "Number of time P06756 appears -> 170\n",
      "Number of time P08648 appears -> 463\n",
      "Number of time P13612 appears -> 1452\n",
      "~~~~~~~~~~~~~~~~~~~~~~~~~~~~~~~~~~~~~~~~~~~~~~~~~~~~~~~~~~~~~~~~~~~~~~~~~~~~~~~~\n",
      "Done.\n",
      "~~~~~~~~~~~~~~~~~~~~~~~~~~~~~~~~~~~~~~~~~~~~~~~~~~~~~~~~~~~~~~~~~~~~~~~~~~~~~~~~\n"
     ]
    }
   ],
   "source": [
    "PRINT(f'The size of the data frame is -> {len(second_df)}')\n",
    "print(f'Number of time O75578 appears -> {len(second_df[second_df[\"UniProt2\"] == \"O75578\"])}')\n",
    "print(f'Number of time P23229 appears -> {len(second_df[second_df[\"UniProt2\"] == \"P23229\"])}')\n",
    "print(f'Number of time P56199 appears -> {len(second_df[second_df[\"UniProt2\"] == \"P56199\"])}')\n",
    "print(f'Number of time Q13797 appears -> {len(second_df[second_df[\"UniProt2\"] == \"Q13797\"])}')\n",
    "print(f'Number of time P17301 appears -> {len(second_df[second_df[\"UniProt2\"] == \"P17301\"])}')\n",
    "print(f'Number of time P05106 appears -> {len(second_df[second_df[\"UniProt2\"] == \"P05106\"])}')\n",
    "print(f'Number of time P06756 appears -> {len(second_df[second_df[\"UniProt2\"] == \"P06756\"])}')\n",
    "print(f'Number of time P08648 appears -> {len(second_df[second_df[\"UniProt2\"] == \"P08648\"])}')\n",
    "print(f'Number of time P13612 appears -> {len(second_df[second_df[\"UniProt2\"] == \"P13612\"])}')\n",
    "\n",
    "PRINT('Done.')"
   ]
  },
  {
   "cell_type": "markdown",
   "id": "92047535-ebfc-4128-92a1-2cdeef97eb15",
   "metadata": {},
   "source": [
    "#### Third Data Frame ####"
   ]
  },
  {
   "cell_type": "code",
   "execution_count": 263,
   "id": "4ceaaeb4-3fb6-42b4-b813-b11eeb5d16ff",
   "metadata": {
    "tags": []
   },
   "outputs": [
    {
     "data": {
      "text/html": [
       "<div>\n",
       "<style scoped>\n",
       "    .dataframe tbody tr th:only-of-type {\n",
       "        vertical-align: middle;\n",
       "    }\n",
       "\n",
       "    .dataframe tbody tr th {\n",
       "        vertical-align: top;\n",
       "    }\n",
       "\n",
       "    .dataframe thead th {\n",
       "        text-align: right;\n",
       "    }\n",
       "</style>\n",
       "<table border=\"1\" class=\"dataframe\">\n",
       "  <thead>\n",
       "    <tr style=\"text-align: right;\">\n",
       "      <th></th>\n",
       "      <th>SMILES</th>\n",
       "      <th>UniProt1</th>\n",
       "      <th>UniProt2</th>\n",
       "    </tr>\n",
       "  </thead>\n",
       "  <tbody>\n",
       "    <tr>\n",
       "      <th>0</th>\n",
       "      <td>CC(C)Oc1ccc(C(CC(=O)O)NC(=O)CCC(=O)Nc2ccc3c(c2...</td>\n",
       "      <td>P05106</td>\n",
       "      <td>P26006</td>\n",
       "    </tr>\n",
       "    <tr>\n",
       "      <th>1</th>\n",
       "      <td>COc1ccc(C(CC(=O)O)NC(=O)c2cccc(C(=O)Nc3ccc4c(c...</td>\n",
       "      <td>P05106</td>\n",
       "      <td>P26006</td>\n",
       "    </tr>\n",
       "  </tbody>\n",
       "</table>\n",
       "</div>"
      ],
      "text/plain": [
       "                                              SMILES UniProt1 UniProt2\n",
       "0  CC(C)Oc1ccc(C(CC(=O)O)NC(=O)CCC(=O)Nc2ccc3c(c2...   P05106   P26006\n",
       "1  COc1ccc(C(CC(=O)O)NC(=O)c2cccc(C(=O)Nc3ccc4c(c...   P05106   P26006"
      ]
     },
     "execution_count": 263,
     "metadata": {},
     "output_type": "execute_result"
    }
   ],
   "source": [
    "third_df = protein_dataframes[unique_proteins[2]]\n",
    "\n",
    "third_df.head(2)"
   ]
  },
  {
   "cell_type": "markdown",
   "id": "93586500-2aa9-4d9e-a9f8-0ba0f01dbc98",
   "metadata": {},
   "source": [
    "##### Visualize Distribution #####"
   ]
  },
  {
   "cell_type": "code",
   "execution_count": 264,
   "id": "690cebcd-7179-4988-be2d-6d4734c0fb2e",
   "metadata": {
    "tags": []
   },
   "outputs": [],
   "source": [
    "third_df_encoded = one_hot_encoding(third_df)"
   ]
  },
  {
   "cell_type": "code",
   "execution_count": 265,
   "id": "314c5677-1a26-4b7e-99c1-df935603822e",
   "metadata": {
    "tags": []
   },
   "outputs": [
    {
     "data": {
      "text/plain": [
       "Index(['SMILES', 'P05106', 'P05556', 'P06756', 'P08514', 'P17301', 'P26006'], dtype='object')"
      ]
     },
     "execution_count": 265,
     "metadata": {},
     "output_type": "execute_result"
    }
   ],
   "source": [
    "third_df_encoded.columns"
   ]
  },
  {
   "cell_type": "code",
   "execution_count": 261,
   "id": "58921601-c159-4c53-b87a-b974983f1920",
   "metadata": {
    "tags": []
   },
   "outputs": [
    {
     "data": {
      "text/html": [
       "<div>\n",
       "<style scoped>\n",
       "    .dataframe tbody tr th:only-of-type {\n",
       "        vertical-align: middle;\n",
       "    }\n",
       "\n",
       "    .dataframe tbody tr th {\n",
       "        vertical-align: top;\n",
       "    }\n",
       "\n",
       "    .dataframe thead th {\n",
       "        text-align: right;\n",
       "    }\n",
       "</style>\n",
       "<table border=\"1\" class=\"dataframe\">\n",
       "  <thead>\n",
       "    <tr style=\"text-align: right;\">\n",
       "      <th></th>\n",
       "      <th>SMILES</th>\n",
       "      <th>P05106</th>\n",
       "      <th>P05556</th>\n",
       "      <th>P06756</th>\n",
       "      <th>P08514</th>\n",
       "      <th>P17301</th>\n",
       "      <th>P26006</th>\n",
       "    </tr>\n",
       "  </thead>\n",
       "  <tbody>\n",
       "    <tr>\n",
       "      <th>0</th>\n",
       "      <td>CC(C)Oc1ccc(C(CC(=O)O)NC(=O)CCC(=O)Nc2ccc3c(c2...</td>\n",
       "      <td>1</td>\n",
       "      <td>0</td>\n",
       "      <td>0</td>\n",
       "      <td>0</td>\n",
       "      <td>0</td>\n",
       "      <td>1</td>\n",
       "    </tr>\n",
       "    <tr>\n",
       "      <th>1</th>\n",
       "      <td>COc1ccc(C(CC(=O)O)NC(=O)c2cccc(C(=O)Nc3ccc4c(c...</td>\n",
       "      <td>1</td>\n",
       "      <td>0</td>\n",
       "      <td>0</td>\n",
       "      <td>0</td>\n",
       "      <td>0</td>\n",
       "      <td>1</td>\n",
       "    </tr>\n",
       "    <tr>\n",
       "      <th>2</th>\n",
       "      <td>COc1ccc(C(CC(=O)O)NC(=O)CCC(=O)Nc2ccc3c(c2)CNC...</td>\n",
       "      <td>1</td>\n",
       "      <td>0</td>\n",
       "      <td>0</td>\n",
       "      <td>0</td>\n",
       "      <td>0</td>\n",
       "      <td>1</td>\n",
       "    </tr>\n",
       "  </tbody>\n",
       "</table>\n",
       "</div>"
      ],
      "text/plain": [
       "                                              SMILES  P05106  P05556  P06756  \\\n",
       "0  CC(C)Oc1ccc(C(CC(=O)O)NC(=O)CCC(=O)Nc2ccc3c(c2...       1       0       0   \n",
       "1  COc1ccc(C(CC(=O)O)NC(=O)c2cccc(C(=O)Nc3ccc4c(c...       1       0       0   \n",
       "2  COc1ccc(C(CC(=O)O)NC(=O)CCC(=O)Nc2ccc3c(c2)CNC...       1       0       0   \n",
       "\n",
       "   P08514  P17301  P26006  \n",
       "0       0       0       1  \n",
       "1       0       0       1  \n",
       "2       0       0       1  "
      ]
     },
     "execution_count": 261,
     "metadata": {},
     "output_type": "execute_result"
    }
   ],
   "source": [
    "third_df_encoded.head(3)"
   ]
  },
  {
   "cell_type": "code",
   "execution_count": 262,
   "id": "eddc677e-ecd9-4306-ab4e-c63d07f02098",
   "metadata": {
    "tags": []
   },
   "outputs": [
    {
     "name": "stdout",
     "output_type": "stream",
     "text": [
      "~~~~~~~~~~~~~~~~~~~~~~~~~~~~~~~~~~~~~~~~~~~~~~~~~~~~~~~~~~~~~~~~~~~~~~~~~~~~~~~~\n",
      "Filtered columns -> ['P05556', 'P06756', 'P08514', 'P17301', 'P26006']\n",
      "~~~~~~~~~~~~~~~~~~~~~~~~~~~~~~~~~~~~~~~~~~~~~~~~~~~~~~~~~~~~~~~~~~~~~~~~~~~~~~~~\n"
     ]
    }
   ],
   "source": [
    "filtered_columns = filter_proteins_list(third_df_encoded, columns_to_remove = ['SMILES', 'P05106'])\n",
    "PRINT(f'Filtered columns -> {filtered_columns}')"
   ]
  },
  {
   "cell_type": "code",
   "execution_count": 269,
   "id": "4a7528b0-0547-4d73-b938-8c58fe82359f",
   "metadata": {
    "tags": []
   },
   "outputs": [
    {
     "data": {
      "text/html": [
       "<div>\n",
       "<style scoped>\n",
       "    .dataframe tbody tr th:only-of-type {\n",
       "        vertical-align: middle;\n",
       "    }\n",
       "\n",
       "    .dataframe tbody tr th {\n",
       "        vertical-align: top;\n",
       "    }\n",
       "\n",
       "    .dataframe thead th {\n",
       "        text-align: right;\n",
       "    }\n",
       "</style>\n",
       "<table border=\"1\" class=\"dataframe\">\n",
       "  <thead>\n",
       "    <tr style=\"text-align: right;\">\n",
       "      <th></th>\n",
       "      <th>P05556</th>\n",
       "      <th>P06756</th>\n",
       "      <th>P08514</th>\n",
       "      <th>P17301</th>\n",
       "      <th>P26006</th>\n",
       "    </tr>\n",
       "  </thead>\n",
       "  <tbody>\n",
       "    <tr>\n",
       "      <th>0</th>\n",
       "      <td>0</td>\n",
       "      <td>0</td>\n",
       "      <td>0</td>\n",
       "      <td>0</td>\n",
       "      <td>1</td>\n",
       "    </tr>\n",
       "    <tr>\n",
       "      <th>1</th>\n",
       "      <td>0</td>\n",
       "      <td>0</td>\n",
       "      <td>0</td>\n",
       "      <td>0</td>\n",
       "      <td>1</td>\n",
       "    </tr>\n",
       "    <tr>\n",
       "      <th>2</th>\n",
       "      <td>0</td>\n",
       "      <td>0</td>\n",
       "      <td>0</td>\n",
       "      <td>0</td>\n",
       "      <td>1</td>\n",
       "    </tr>\n",
       "    <tr>\n",
       "      <th>3</th>\n",
       "      <td>0</td>\n",
       "      <td>0</td>\n",
       "      <td>0</td>\n",
       "      <td>0</td>\n",
       "      <td>1</td>\n",
       "    </tr>\n",
       "    <tr>\n",
       "      <th>4</th>\n",
       "      <td>0</td>\n",
       "      <td>0</td>\n",
       "      <td>0</td>\n",
       "      <td>0</td>\n",
       "      <td>1</td>\n",
       "    </tr>\n",
       "  </tbody>\n",
       "</table>\n",
       "</div>"
      ],
      "text/plain": [
       "   P05556  P06756  P08514  P17301  P26006\n",
       "0       0       0       0       0       1\n",
       "1       0       0       0       0       1\n",
       "2       0       0       0       0       1\n",
       "3       0       0       0       0       1\n",
       "4       0       0       0       0       1"
      ]
     },
     "execution_count": 269,
     "metadata": {},
     "output_type": "execute_result"
    }
   ],
   "source": [
    "temp_df_3 = third_df_encoded[filtered_columns]\n",
    "\n",
    "temp_df_3.head(5)"
   ]
  },
  {
   "cell_type": "code",
   "execution_count": 270,
   "id": "bd3fba6f-d9cc-4e8f-81e9-d10aaa189ba8",
   "metadata": {
    "tags": []
   },
   "outputs": [
    {
     "data": {
      "image/png": "[encoded data removed]",
      "text/plain": [
       "<Figure size 1200x800 with 1 Axes>"
      ]
     },
     "metadata": {},
     "output_type": "display_data"
    }
   ],
   "source": [
    "visualize_dist(temp_df_3, unique_proteins[2])"
   ]
  },
  {
   "cell_type": "markdown",
   "id": "0fa663ab-38ae-4133-9afc-add608d0ffbb",
   "metadata": {},
   "source": [
    "###### Explore the Third Data Frame ######"
   ]
  },
  {
   "cell_type": "code",
   "execution_count": 272,
   "id": "6796d781-005a-49a8-9e87-0effb6cbe55c",
   "metadata": {
    "tags": []
   },
   "outputs": [
    {
     "name": "stdout",
     "output_type": "stream",
     "text": [
      "~~~~~~~~~~~~~~~~~~~~~~~~~~~~~~~~~~~~~~~~~~~~~~~~~~~~~~~~~~~~~~~~~~~~~~~~~~~~~~~~\n",
      "The size of the data frame is -> 4478\n",
      "~~~~~~~~~~~~~~~~~~~~~~~~~~~~~~~~~~~~~~~~~~~~~~~~~~~~~~~~~~~~~~~~~~~~~~~~~~~~~~~~\n",
      "Number of time P17301 appears -> 20\n",
      "Number of time P05556 appears -> 37\n",
      "Number of time P26006 appears -> 25\n",
      "Number of time P06756 appears -> 2058\n",
      "Number of time P08514 appears -> 2338\n",
      "~~~~~~~~~~~~~~~~~~~~~~~~~~~~~~~~~~~~~~~~~~~~~~~~~~~~~~~~~~~~~~~~~~~~~~~~~~~~~~~~\n",
      "Done.\n",
      "~~~~~~~~~~~~~~~~~~~~~~~~~~~~~~~~~~~~~~~~~~~~~~~~~~~~~~~~~~~~~~~~~~~~~~~~~~~~~~~~\n"
     ]
    }
   ],
   "source": [
    "PRINT(f'The size of the data frame is -> {len(third_df)}')\n",
    "print(f'Number of time P17301 appears -> {len(third_df[third_df[\"UniProt2\"] == \"P17301\"])}')\n",
    "print(f'Number of time P05556 appears -> {len(third_df[third_df[\"UniProt2\"] == \"P05556\"])}')\n",
    "print(f'Number of time P26006 appears -> {len(third_df[third_df[\"UniProt2\"] == \"P26006\"])}')\n",
    "print(f'Number of time P06756 appears -> {len(third_df[third_df[\"UniProt2\"] == \"P06756\"])}')\n",
    "print(f'Number of time P08514 appears -> {len(third_df[third_df[\"UniProt2\"] == \"P08514\"])}')\n",
    "\n",
    "PRINT('Done.')"
   ]
  },
  {
   "cell_type": "markdown",
   "id": "07459517-90ad-43ab-80ac-701b86c23744",
   "metadata": {},
   "source": [
    "#### Fourth Data Frame ####"
   ]
  },
  {
   "cell_type": "code",
   "execution_count": 282,
   "id": "3017178c-58a4-4300-ae53-b979b9c34a3d",
   "metadata": {
    "tags": []
   },
   "outputs": [
    {
     "data": {
      "text/html": [
       "<div>\n",
       "<style scoped>\n",
       "    .dataframe tbody tr th:only-of-type {\n",
       "        vertical-align: middle;\n",
       "    }\n",
       "\n",
       "    .dataframe tbody tr th {\n",
       "        vertical-align: top;\n",
       "    }\n",
       "\n",
       "    .dataframe thead th {\n",
       "        text-align: right;\n",
       "    }\n",
       "</style>\n",
       "<table border=\"1\" class=\"dataframe\">\n",
       "  <thead>\n",
       "    <tr style=\"text-align: right;\">\n",
       "      <th></th>\n",
       "      <th>SMILES</th>\n",
       "      <th>UniProt1</th>\n",
       "      <th>UniProt2</th>\n",
       "    </tr>\n",
       "  </thead>\n",
       "  <tbody>\n",
       "    <tr>\n",
       "      <th>0</th>\n",
       "      <td>COC(=O)CN1C(=O)S/C(=C\\c2ccc(-c3ccc(C(=O)O)cc3)...</td>\n",
       "      <td>P05107</td>\n",
       "      <td>P11215</td>\n",
       "    </tr>\n",
       "    <tr>\n",
       "      <th>1</th>\n",
       "      <td>Cc1ccc(/C=C2\\SC(=O)N(C)C2=O)o1</td>\n",
       "      <td>P05107</td>\n",
       "      <td>P11215</td>\n",
       "    </tr>\n",
       "  </tbody>\n",
       "</table>\n",
       "</div>"
      ],
      "text/plain": [
       "                                              SMILES UniProt1 UniProt2\n",
       "0  COC(=O)CN1C(=O)S/C(=C\\c2ccc(-c3ccc(C(=O)O)cc3)...   P05107   P11215\n",
       "1                     Cc1ccc(/C=C2\\SC(=O)N(C)C2=O)o1   P05107   P11215"
      ]
     },
     "execution_count": 282,
     "metadata": {},
     "output_type": "execute_result"
    }
   ],
   "source": [
    "fourth_df = protein_dataframes[unique_proteins[3]]\n",
    "\n",
    "fourth_df.head(2)"
   ]
  },
  {
   "cell_type": "markdown",
   "id": "6b8ecef5-8a6a-43e8-a5a1-b36aa2d3a28a",
   "metadata": {},
   "source": [
    "##### Visualize Distribution #####"
   ]
  },
  {
   "cell_type": "code",
   "execution_count": 283,
   "id": "bee090fc-3ac8-472f-b123-13ab161318d4",
   "metadata": {
    "tags": []
   },
   "outputs": [],
   "source": [
    "fourth_df_encoded = one_hot_encoding(fourth_df)"
   ]
  },
  {
   "cell_type": "code",
   "execution_count": 284,
   "id": "a982bce7-a8c1-4739-bd76-eb4538256f1a",
   "metadata": {
    "tags": []
   },
   "outputs": [
    {
     "data": {
      "text/plain": [
       "Index(['SMILES', 'P05107', 'P11215', 'P20701'], dtype='object')"
      ]
     },
     "execution_count": 284,
     "metadata": {},
     "output_type": "execute_result"
    }
   ],
   "source": [
    "fourth_df_encoded.columns"
   ]
  },
  {
   "cell_type": "code",
   "execution_count": 285,
   "id": "bd04b2d1-95de-452b-8374-ee33411cc066",
   "metadata": {
    "tags": []
   },
   "outputs": [
    {
     "data": {
      "text/html": [
       "<div>\n",
       "<style scoped>\n",
       "    .dataframe tbody tr th:only-of-type {\n",
       "        vertical-align: middle;\n",
       "    }\n",
       "\n",
       "    .dataframe tbody tr th {\n",
       "        vertical-align: top;\n",
       "    }\n",
       "\n",
       "    .dataframe thead th {\n",
       "        text-align: right;\n",
       "    }\n",
       "</style>\n",
       "<table border=\"1\" class=\"dataframe\">\n",
       "  <thead>\n",
       "    <tr style=\"text-align: right;\">\n",
       "      <th></th>\n",
       "      <th>SMILES</th>\n",
       "      <th>P05107</th>\n",
       "      <th>P11215</th>\n",
       "      <th>P20701</th>\n",
       "    </tr>\n",
       "  </thead>\n",
       "  <tbody>\n",
       "    <tr>\n",
       "      <th>0</th>\n",
       "      <td>COC(=O)CN1C(=O)S/C(=C\\c2ccc(-c3ccc(C(=O)O)cc3)...</td>\n",
       "      <td>1</td>\n",
       "      <td>1</td>\n",
       "      <td>0</td>\n",
       "    </tr>\n",
       "    <tr>\n",
       "      <th>1</th>\n",
       "      <td>Cc1ccc(/C=C2\\SC(=O)N(C)C2=O)o1</td>\n",
       "      <td>1</td>\n",
       "      <td>1</td>\n",
       "      <td>0</td>\n",
       "    </tr>\n",
       "    <tr>\n",
       "      <th>2</th>\n",
       "      <td>CCN1/C(=C/C=C/c2sc3ccccc3[n+]2CC)Sc2ccccc21.[I-]</td>\n",
       "      <td>1</td>\n",
       "      <td>1</td>\n",
       "      <td>0</td>\n",
       "    </tr>\n",
       "  </tbody>\n",
       "</table>\n",
       "</div>"
      ],
      "text/plain": [
       "                                              SMILES  P05107  P11215  P20701\n",
       "0  COC(=O)CN1C(=O)S/C(=C\\c2ccc(-c3ccc(C(=O)O)cc3)...       1       1       0\n",
       "1                     Cc1ccc(/C=C2\\SC(=O)N(C)C2=O)o1       1       1       0\n",
       "2   CCN1/C(=C/C=C/c2sc3ccccc3[n+]2CC)Sc2ccccc21.[I-]       1       1       0"
      ]
     },
     "execution_count": 285,
     "metadata": {},
     "output_type": "execute_result"
    }
   ],
   "source": [
    "fourth_df_encoded.head(3)"
   ]
  },
  {
   "cell_type": "code",
   "execution_count": 286,
   "id": "b9e2c2e7-4b60-4d58-b09b-6c476e078af3",
   "metadata": {
    "tags": []
   },
   "outputs": [
    {
     "name": "stdout",
     "output_type": "stream",
     "text": [
      "~~~~~~~~~~~~~~~~~~~~~~~~~~~~~~~~~~~~~~~~~~~~~~~~~~~~~~~~~~~~~~~~~~~~~~~~~~~~~~~~\n",
      "Filtered columns -> ['P11215', 'P20701']\n",
      "~~~~~~~~~~~~~~~~~~~~~~~~~~~~~~~~~~~~~~~~~~~~~~~~~~~~~~~~~~~~~~~~~~~~~~~~~~~~~~~~\n"
     ]
    }
   ],
   "source": [
    "filtered_columns = filter_proteins_list(fourth_df_encoded, columns_to_remove=['SMILES', 'P05107'])\n",
    "PRINT(f'Filtered columns -> {filtered_columns}')"
   ]
  },
  {
   "cell_type": "code",
   "execution_count": 290,
   "id": "6285d62b-d49e-45f4-ade3-8a01c8e9cf67",
   "metadata": {
    "tags": []
   },
   "outputs": [
    {
     "data": {
      "text/html": [
       "<div>\n",
       "<style scoped>\n",
       "    .dataframe tbody tr th:only-of-type {\n",
       "        vertical-align: middle;\n",
       "    }\n",
       "\n",
       "    .dataframe tbody tr th {\n",
       "        vertical-align: top;\n",
       "    }\n",
       "\n",
       "    .dataframe thead th {\n",
       "        text-align: right;\n",
       "    }\n",
       "</style>\n",
       "<table border=\"1\" class=\"dataframe\">\n",
       "  <thead>\n",
       "    <tr style=\"text-align: right;\">\n",
       "      <th></th>\n",
       "      <th>P11215</th>\n",
       "      <th>P20701</th>\n",
       "    </tr>\n",
       "  </thead>\n",
       "  <tbody>\n",
       "    <tr>\n",
       "      <th>0</th>\n",
       "      <td>1</td>\n",
       "      <td>0</td>\n",
       "    </tr>\n",
       "    <tr>\n",
       "      <th>1</th>\n",
       "      <td>1</td>\n",
       "      <td>0</td>\n",
       "    </tr>\n",
       "  </tbody>\n",
       "</table>\n",
       "</div>"
      ],
      "text/plain": [
       "   P11215  P20701\n",
       "0       1       0\n",
       "1       1       0"
      ]
     },
     "execution_count": 290,
     "metadata": {},
     "output_type": "execute_result"
    }
   ],
   "source": [
    "temp_df_4 = fourth_df_encoded[filtered_columns]\n",
    "\n",
    "temp_df_4.head(2)"
   ]
  },
  {
   "cell_type": "code",
   "execution_count": 291,
   "id": "f592d324-8157-4052-ae55-1f9f4e4c3920",
   "metadata": {
    "tags": []
   },
   "outputs": [
    {
     "data": {
      "image/png": "[encoded data removed]",
      "text/plain": [
       "<Figure size 1200x800 with 1 Axes>"
      ]
     },
     "metadata": {},
     "output_type": "display_data"
    }
   ],
   "source": [
    "visualize_dist(temp_df_4, unique_proteins[3])"
   ]
  },
  {
   "cell_type": "markdown",
   "id": "af3e40d5-abd4-4442-845b-8f9a5dbeb4c4",
   "metadata": {},
   "source": [
    "The data above is quite interesting, indicating that both proteins appear the same number of times in the PPI with `P05107`."
   ]
  },
  {
   "cell_type": "markdown",
   "id": "ac83d1c4-184c-4b42-b97c-58939777899b",
   "metadata": {},
   "source": [
    "##### Explore the Fourth Data Frame ######"
   ]
  },
  {
   "cell_type": "code",
   "execution_count": 294,
   "id": "446c4297-016c-409b-a5cf-a7256e9870ab",
   "metadata": {
    "tags": []
   },
   "outputs": [
    {
     "name": "stdout",
     "output_type": "stream",
     "text": [
      "~~~~~~~~~~~~~~~~~~~~~~~~~~~~~~~~~~~~~~~~~~~~~~~~~~~~~~~~~~~~~~~~~~~~~~~~~~~~~~~~\n",
      "The size of the data frame is -> 66\n",
      "~~~~~~~~~~~~~~~~~~~~~~~~~~~~~~~~~~~~~~~~~~~~~~~~~~~~~~~~~~~~~~~~~~~~~~~~~~~~~~~~\n",
      "Number of time P11215 appears -> 33\n",
      "Number of time P20701 appears -> 33\n",
      "~~~~~~~~~~~~~~~~~~~~~~~~~~~~~~~~~~~~~~~~~~~~~~~~~~~~~~~~~~~~~~~~~~~~~~~~~~~~~~~~\n",
      "Done.\n",
      "~~~~~~~~~~~~~~~~~~~~~~~~~~~~~~~~~~~~~~~~~~~~~~~~~~~~~~~~~~~~~~~~~~~~~~~~~~~~~~~~\n"
     ]
    }
   ],
   "source": [
    "PRINT(f'The size of the data frame is -> {len(fourth_df)}')\n",
    "print(f'Number of time P11215 appears -> {len(fourth_df[fourth_df[\"UniProt2\"] == \"P11215\"])}')\n",
    "print(f'Number of time P20701 appears -> {len(fourth_df[fourth_df[\"UniProt2\"] == \"P20701\"])}')\n",
    "\n",
    "PRINT('Done.')"
   ]
  },
  {
   "cell_type": "markdown",
   "id": "96513610-381a-40b3-bc5a-b454573370d6",
   "metadata": {},
   "source": [
    "#### Fifth Data Frame ####"
   ]
  },
  {
   "cell_type": "code",
   "execution_count": 296,
   "id": "f1838a19-00d1-4bd1-8e30-2515dcdeb6cd",
   "metadata": {
    "tags": []
   },
   "outputs": [
    {
     "data": {
      "text/html": [
       "<div>\n",
       "<style scoped>\n",
       "    .dataframe tbody tr th:only-of-type {\n",
       "        vertical-align: middle;\n",
       "    }\n",
       "\n",
       "    .dataframe tbody tr th {\n",
       "        vertical-align: top;\n",
       "    }\n",
       "\n",
       "    .dataframe thead th {\n",
       "        text-align: right;\n",
       "    }\n",
       "</style>\n",
       "<table border=\"1\" class=\"dataframe\">\n",
       "  <thead>\n",
       "    <tr style=\"text-align: right;\">\n",
       "      <th></th>\n",
       "      <th>SMILES</th>\n",
       "      <th>UniProt1</th>\n",
       "      <th>UniProt2</th>\n",
       "    </tr>\n",
       "  </thead>\n",
       "  <tbody>\n",
       "    <tr>\n",
       "      <th>0</th>\n",
       "      <td>O=C(N[C@@H](Cc1cccc(OCCCCNc2ccccn2)c1)C(=O)O)c...</td>\n",
       "      <td>P08648</td>\n",
       "      <td>P05556</td>\n",
       "    </tr>\n",
       "    <tr>\n",
       "      <th>1</th>\n",
       "      <td>CC(C)[C@@H]1NC(=O)[C@@H](Cc2c[nH]c3c(-c4ccc(C(...</td>\n",
       "      <td>P08648</td>\n",
       "      <td>P05556</td>\n",
       "    </tr>\n",
       "  </tbody>\n",
       "</table>\n",
       "</div>"
      ],
      "text/plain": [
       "                                              SMILES UniProt1 UniProt2\n",
       "0  O=C(N[C@@H](Cc1cccc(OCCCCNc2ccccn2)c1)C(=O)O)c...   P08648   P05556\n",
       "1  CC(C)[C@@H]1NC(=O)[C@@H](Cc2c[nH]c3c(-c4ccc(C(...   P08648   P05556"
      ]
     },
     "execution_count": 296,
     "metadata": {},
     "output_type": "execute_result"
    }
   ],
   "source": [
    "fifth_df = protein_dataframes[unique_proteins[4]]\n",
    "\n",
    "fifth_df.head(2)"
   ]
  },
  {
   "cell_type": "markdown",
   "id": "49f5c976-6ca1-4dbd-8994-c8c423ad0681",
   "metadata": {},
   "source": [
    "##### Visualize Distribution #####"
   ]
  },
  {
   "cell_type": "code",
   "execution_count": 297,
   "id": "9cb5432e-c9e2-4cd5-a730-bf093b9c99a4",
   "metadata": {
    "tags": []
   },
   "outputs": [],
   "source": [
    "fifth_df_encoded = one_hot_encoding(fifth_df)"
   ]
  },
  {
   "cell_type": "code",
   "execution_count": 298,
   "id": "b157d8ef-5549-4175-932a-5396c79e93ba",
   "metadata": {
    "tags": []
   },
   "outputs": [
    {
     "data": {
      "text/plain": [
       "Index(['SMILES', 'P08648', 'P05556', 'P06756'], dtype='object')"
      ]
     },
     "execution_count": 298,
     "metadata": {},
     "output_type": "execute_result"
    }
   ],
   "source": [
    "fifth_df_encoded.columns"
   ]
  },
  {
   "cell_type": "code",
   "execution_count": 302,
   "id": "09ac08d1-27d4-4625-b303-b6d84995aadc",
   "metadata": {
    "tags": []
   },
   "outputs": [
    {
     "data": {
      "text/html": [
       "<div>\n",
       "<style scoped>\n",
       "    .dataframe tbody tr th:only-of-type {\n",
       "        vertical-align: middle;\n",
       "    }\n",
       "\n",
       "    .dataframe tbody tr th {\n",
       "        vertical-align: top;\n",
       "    }\n",
       "\n",
       "    .dataframe thead th {\n",
       "        text-align: right;\n",
       "    }\n",
       "</style>\n",
       "<table border=\"1\" class=\"dataframe\">\n",
       "  <thead>\n",
       "    <tr style=\"text-align: right;\">\n",
       "      <th></th>\n",
       "      <th>SMILES</th>\n",
       "      <th>P08648</th>\n",
       "      <th>P05556</th>\n",
       "      <th>P06756</th>\n",
       "    </tr>\n",
       "  </thead>\n",
       "  <tbody>\n",
       "    <tr>\n",
       "      <th>0</th>\n",
       "      <td>O=C(N[C@@H](Cc1cccc(OCCCCNc2ccccn2)c1)C(=O)O)c...</td>\n",
       "      <td>1</td>\n",
       "      <td>1</td>\n",
       "      <td>0</td>\n",
       "    </tr>\n",
       "    <tr>\n",
       "      <th>1</th>\n",
       "      <td>CC(C)[C@@H]1NC(=O)[C@@H](Cc2c[nH]c3c(-c4ccc(C(...</td>\n",
       "      <td>1</td>\n",
       "      <td>1</td>\n",
       "      <td>0</td>\n",
       "    </tr>\n",
       "    <tr>\n",
       "      <th>2</th>\n",
       "      <td>CC(C)[C@@H]1NC(=O)[C@@H](Cc2c[nH]c3c(-c4ccc5cc...</td>\n",
       "      <td>1</td>\n",
       "      <td>1</td>\n",
       "      <td>0</td>\n",
       "    </tr>\n",
       "  </tbody>\n",
       "</table>\n",
       "</div>"
      ],
      "text/plain": [
       "                                              SMILES  P08648  P05556  P06756\n",
       "0  O=C(N[C@@H](Cc1cccc(OCCCCNc2ccccn2)c1)C(=O)O)c...       1       1       0\n",
       "1  CC(C)[C@@H]1NC(=O)[C@@H](Cc2c[nH]c3c(-c4ccc(C(...       1       1       0\n",
       "2  CC(C)[C@@H]1NC(=O)[C@@H](Cc2c[nH]c3c(-c4ccc5cc...       1       1       0"
      ]
     },
     "execution_count": 302,
     "metadata": {},
     "output_type": "execute_result"
    }
   ],
   "source": [
    "fifth_df_encoded.head(3)"
   ]
  },
  {
   "cell_type": "code",
   "execution_count": 303,
   "id": "f435c8a0-e7a4-432d-a6d1-5ae24f5ffd24",
   "metadata": {
    "tags": []
   },
   "outputs": [
    {
     "name": "stdout",
     "output_type": "stream",
     "text": [
      "~~~~~~~~~~~~~~~~~~~~~~~~~~~~~~~~~~~~~~~~~~~~~~~~~~~~~~~~~~~~~~~~~~~~~~~~~~~~~~~~\n",
      "Filtered columns -> ['P05556', 'P06756']\n",
      "~~~~~~~~~~~~~~~~~~~~~~~~~~~~~~~~~~~~~~~~~~~~~~~~~~~~~~~~~~~~~~~~~~~~~~~~~~~~~~~~\n"
     ]
    }
   ],
   "source": [
    "filtered_columns = filter_proteins_list(fifth_df_encoded, columns_to_remove=['SMILES', 'P08648'])\n",
    "PRINT(f'Filtered columns -> {filtered_columns}')"
   ]
  },
  {
   "cell_type": "code",
   "execution_count": 305,
   "id": "c0d81b25-9294-4a27-ac21-6c122a1c48e1",
   "metadata": {
    "tags": []
   },
   "outputs": [],
   "source": [
    "temp_df_5 = fifth_df_encoded[filtered_columns]"
   ]
  },
  {
   "cell_type": "code",
   "execution_count": 307,
   "id": "5027116b-3387-480c-a167-818ad17fc4c5",
   "metadata": {
    "tags": []
   },
   "outputs": [
    {
     "data": {
      "image/png": "[encoded data removed]",
      "text/plain": [
       "<Figure size 1200x800 with 1 Axes>"
      ]
     },
     "metadata": {},
     "output_type": "display_data"
    }
   ],
   "source": [
    "visualize_dist(temp_df_5, unique_proteins[4])"
   ]
  },
  {
   "cell_type": "markdown",
   "id": "649ac2b7-dba5-4688-8757-b36f3acf3c54",
   "metadata": {},
   "source": [
    "Here, we observe a particularly interesting distribution of the data. The majority of the fifth dataset represents PPI between the target protein with `UniProt = P08648` and `P05556`. Conversely, there are very few interactions involving `P06756`."
   ]
  },
  {
   "cell_type": "markdown",
   "id": "03f49984-4eee-43b9-b626-5fa61b927f5e",
   "metadata": {
    "tags": []
   },
   "source": [
    "##### Explore the Fifth Data Frame ######"
   ]
  },
  {
   "cell_type": "code",
   "execution_count": 309,
   "id": "8349ac84-3c57-4748-a63c-f029e091d5d1",
   "metadata": {
    "tags": []
   },
   "outputs": [
    {
     "name": "stdout",
     "output_type": "stream",
     "text": [
      "~~~~~~~~~~~~~~~~~~~~~~~~~~~~~~~~~~~~~~~~~~~~~~~~~~~~~~~~~~~~~~~~~~~~~~~~~~~~~~~~\n",
      "The size of the data frame is -> 469\n",
      "~~~~~~~~~~~~~~~~~~~~~~~~~~~~~~~~~~~~~~~~~~~~~~~~~~~~~~~~~~~~~~~~~~~~~~~~~~~~~~~~\n",
      "Number of time P05556 appears -> 463\n",
      "Number of time P0756 appears -> 6\n",
      "~~~~~~~~~~~~~~~~~~~~~~~~~~~~~~~~~~~~~~~~~~~~~~~~~~~~~~~~~~~~~~~~~~~~~~~~~~~~~~~~\n",
      "Done.\n",
      "~~~~~~~~~~~~~~~~~~~~~~~~~~~~~~~~~~~~~~~~~~~~~~~~~~~~~~~~~~~~~~~~~~~~~~~~~~~~~~~~\n"
     ]
    }
   ],
   "source": [
    "PRINT(f'The size of the data frame is -> {len(fifth_df)}')\n",
    "print(f'Number of time P05556 appears -> {len(fifth_df[fifth_df[\"UniProt2\"] == \"P05556\"])}')\n",
    "print(f'Number of time P0756 appears -> {len(fifth_df[fifth_df[\"UniProt2\"] == \"P06756\"])}')\n",
    "\n",
    "PRINT('Done.')"
   ]
  },
  {
   "cell_type": "markdown",
   "id": "673abd43-b632-4022-a0b1-fcd87763e045",
   "metadata": {},
   "source": [
    "#### Sixth Data Frame ####"
   ]
  },
  {
   "cell_type": "code",
   "execution_count": 310,
   "id": "74e84982-f9f7-40c4-b226-9419cdec3419",
   "metadata": {
    "tags": []
   },
   "outputs": [
    {
     "data": {
      "text/html": [
       "<div>\n",
       "<style scoped>\n",
       "    .dataframe tbody tr th:only-of-type {\n",
       "        vertical-align: middle;\n",
       "    }\n",
       "\n",
       "    .dataframe tbody tr th {\n",
       "        vertical-align: top;\n",
       "    }\n",
       "\n",
       "    .dataframe thead th {\n",
       "        text-align: right;\n",
       "    }\n",
       "</style>\n",
       "<table border=\"1\" class=\"dataframe\">\n",
       "  <thead>\n",
       "    <tr style=\"text-align: right;\">\n",
       "      <th></th>\n",
       "      <th>SMILES</th>\n",
       "      <th>UniProt1</th>\n",
       "      <th>UniProt2</th>\n",
       "    </tr>\n",
       "  </thead>\n",
       "  <tbody>\n",
       "    <tr>\n",
       "      <th>0</th>\n",
       "      <td>Cc1cccc(Cl)c1C(=O)N[C@@H](Cc1ccc(NC(=O)c2c(Cl)...</td>\n",
       "      <td>P17301</td>\n",
       "      <td>P05556</td>\n",
       "    </tr>\n",
       "    <tr>\n",
       "      <th>1</th>\n",
       "      <td>COc1ccc(S(=O)(=O)N2Cc3[nH]c4ccccc4c3CC2C(N)=O)cc1</td>\n",
       "      <td>P17301</td>\n",
       "      <td>P05556</td>\n",
       "    </tr>\n",
       "  </tbody>\n",
       "</table>\n",
       "</div>"
      ],
      "text/plain": [
       "                                              SMILES UniProt1 UniProt2\n",
       "0  Cc1cccc(Cl)c1C(=O)N[C@@H](Cc1ccc(NC(=O)c2c(Cl)...   P17301   P05556\n",
       "1  COc1ccc(S(=O)(=O)N2Cc3[nH]c4ccccc4c3CC2C(N)=O)cc1   P17301   P05556"
      ]
     },
     "execution_count": 310,
     "metadata": {},
     "output_type": "execute_result"
    }
   ],
   "source": [
    "sixth_df = protein_dataframes[unique_proteins[5]]\n",
    "\n",
    "sixth_df.head(2)"
   ]
  },
  {
   "cell_type": "markdown",
   "id": "bb3def31-5428-4a7a-a343-d752879b0c1a",
   "metadata": {},
   "source": [
    "##### Visualize Distribution #####"
   ]
  },
  {
   "cell_type": "code",
   "execution_count": 311,
   "id": "e73b5521-1830-4663-b967-b2ce1fcd8591",
   "metadata": {
    "tags": []
   },
   "outputs": [],
   "source": [
    "sixth_df_encoded = one_hot_encoding(sixth_df)"
   ]
  },
  {
   "cell_type": "code",
   "execution_count": 312,
   "id": "9f23e799-7446-4182-ad1b-e9c3085a8cac",
   "metadata": {
    "tags": []
   },
   "outputs": [
    {
     "data": {
      "text/plain": [
       "Index(['SMILES', 'P17301', 'P05106', 'P05556'], dtype='object')"
      ]
     },
     "execution_count": 312,
     "metadata": {},
     "output_type": "execute_result"
    }
   ],
   "source": [
    "sixth_df_encoded.columns"
   ]
  },
  {
   "cell_type": "code",
   "execution_count": 313,
   "id": "5d40028a-9734-4c54-96d4-400f6c352f30",
   "metadata": {
    "tags": []
   },
   "outputs": [
    {
     "data": {
      "text/html": [
       "<div>\n",
       "<style scoped>\n",
       "    .dataframe tbody tr th:only-of-type {\n",
       "        vertical-align: middle;\n",
       "    }\n",
       "\n",
       "    .dataframe tbody tr th {\n",
       "        vertical-align: top;\n",
       "    }\n",
       "\n",
       "    .dataframe thead th {\n",
       "        text-align: right;\n",
       "    }\n",
       "</style>\n",
       "<table border=\"1\" class=\"dataframe\">\n",
       "  <thead>\n",
       "    <tr style=\"text-align: right;\">\n",
       "      <th></th>\n",
       "      <th>SMILES</th>\n",
       "      <th>P17301</th>\n",
       "      <th>P05106</th>\n",
       "      <th>P05556</th>\n",
       "    </tr>\n",
       "  </thead>\n",
       "  <tbody>\n",
       "    <tr>\n",
       "      <th>0</th>\n",
       "      <td>Cc1cccc(Cl)c1C(=O)N[C@@H](Cc1ccc(NC(=O)c2c(Cl)...</td>\n",
       "      <td>1</td>\n",
       "      <td>0</td>\n",
       "      <td>1</td>\n",
       "    </tr>\n",
       "    <tr>\n",
       "      <th>1</th>\n",
       "      <td>COc1ccc(S(=O)(=O)N2Cc3[nH]c4ccccc4c3CC2C(N)=O)cc1</td>\n",
       "      <td>1</td>\n",
       "      <td>0</td>\n",
       "      <td>1</td>\n",
       "    </tr>\n",
       "    <tr>\n",
       "      <th>2</th>\n",
       "      <td>O=C(NCc1ccccc1)NC[C@H](NC(=O)[C@@H]1CCCN1S(=O)...</td>\n",
       "      <td>1</td>\n",
       "      <td>0</td>\n",
       "      <td>1</td>\n",
       "    </tr>\n",
       "  </tbody>\n",
       "</table>\n",
       "</div>"
      ],
      "text/plain": [
       "                                              SMILES  P17301  P05106  P05556\n",
       "0  Cc1cccc(Cl)c1C(=O)N[C@@H](Cc1ccc(NC(=O)c2c(Cl)...       1       0       1\n",
       "1  COc1ccc(S(=O)(=O)N2Cc3[nH]c4ccccc4c3CC2C(N)=O)cc1       1       0       1\n",
       "2  O=C(NCc1ccccc1)NC[C@H](NC(=O)[C@@H]1CCCN1S(=O)...       1       0       1"
      ]
     },
     "execution_count": 313,
     "metadata": {},
     "output_type": "execute_result"
    }
   ],
   "source": [
    "sixth_df_encoded.head(3)"
   ]
  },
  {
   "cell_type": "code",
   "execution_count": 314,
   "id": "c3abe59c-5f96-4325-a891-765978a404ff",
   "metadata": {
    "tags": []
   },
   "outputs": [
    {
     "name": "stdout",
     "output_type": "stream",
     "text": [
      "~~~~~~~~~~~~~~~~~~~~~~~~~~~~~~~~~~~~~~~~~~~~~~~~~~~~~~~~~~~~~~~~~~~~~~~~~~~~~~~~\n",
      "Filtered columns -> ['P05106', 'P05556']\n",
      "~~~~~~~~~~~~~~~~~~~~~~~~~~~~~~~~~~~~~~~~~~~~~~~~~~~~~~~~~~~~~~~~~~~~~~~~~~~~~~~~\n"
     ]
    }
   ],
   "source": [
    "filtered_columns = filter_proteins_list(sixth_df_encoded, columns_to_remove=['SMILES', 'P17301'])\n",
    "PRINT(f'Filtered columns -> {filtered_columns}')"
   ]
  },
  {
   "cell_type": "code",
   "execution_count": 315,
   "id": "57a3d01d-6a95-4d84-b7fa-53722d2eb57e",
   "metadata": {
    "tags": []
   },
   "outputs": [
    {
     "data": {
      "text/html": [
       "<div>\n",
       "<style scoped>\n",
       "    .dataframe tbody tr th:only-of-type {\n",
       "        vertical-align: middle;\n",
       "    }\n",
       "\n",
       "    .dataframe tbody tr th {\n",
       "        vertical-align: top;\n",
       "    }\n",
       "\n",
       "    .dataframe thead th {\n",
       "        text-align: right;\n",
       "    }\n",
       "</style>\n",
       "<table border=\"1\" class=\"dataframe\">\n",
       "  <thead>\n",
       "    <tr style=\"text-align: right;\">\n",
       "      <th></th>\n",
       "      <th>P05106</th>\n",
       "      <th>P05556</th>\n",
       "    </tr>\n",
       "  </thead>\n",
       "  <tbody>\n",
       "    <tr>\n",
       "      <th>0</th>\n",
       "      <td>0</td>\n",
       "      <td>1</td>\n",
       "    </tr>\n",
       "    <tr>\n",
       "      <th>1</th>\n",
       "      <td>0</td>\n",
       "      <td>1</td>\n",
       "    </tr>\n",
       "  </tbody>\n",
       "</table>\n",
       "</div>"
      ],
      "text/plain": [
       "   P05106  P05556\n",
       "0       0       1\n",
       "1       0       1"
      ]
     },
     "execution_count": 315,
     "metadata": {},
     "output_type": "execute_result"
    }
   ],
   "source": [
    "temp_df_6 = sixth_df_encoded[filtered_columns]\n",
    "\n",
    "temp_df_6.head(2)"
   ]
  },
  {
   "cell_type": "code",
   "execution_count": 316,
   "id": "1df5ce68-782b-42af-8b6e-3f006bfb7761",
   "metadata": {
    "tags": []
   },
   "outputs": [
    {
     "data": {
      "image/png": "[encoded data removed]",
      "text/plain": [
       "<Figure size 1200x800 with 1 Axes>"
      ]
     },
     "metadata": {},
     "output_type": "display_data"
    }
   ],
   "source": [
    "visualize_dist(temp_df_6, unique_proteins[5])"
   ]
  },
  {
   "cell_type": "markdown",
   "id": "a83dd83b-d08a-4485-aa4d-547c03bbd283",
   "metadata": {},
   "source": [
    "##### Explore the Sixth Dath Frame #####"
   ]
  },
  {
   "cell_type": "code",
   "execution_count": 317,
   "id": "9b1716f0-5dba-4062-90a7-a1aa55325ede",
   "metadata": {
    "tags": []
   },
   "outputs": [
    {
     "name": "stdout",
     "output_type": "stream",
     "text": [
      "~~~~~~~~~~~~~~~~~~~~~~~~~~~~~~~~~~~~~~~~~~~~~~~~~~~~~~~~~~~~~~~~~~~~~~~~~~~~~~~~\n",
      "The size of the data frame is -> 77\n",
      "~~~~~~~~~~~~~~~~~~~~~~~~~~~~~~~~~~~~~~~~~~~~~~~~~~~~~~~~~~~~~~~~~~~~~~~~~~~~~~~~\n",
      "Number of time P05106 appears -> 20\n",
      "Number of time P05556 appears -> 57\n",
      "~~~~~~~~~~~~~~~~~~~~~~~~~~~~~~~~~~~~~~~~~~~~~~~~~~~~~~~~~~~~~~~~~~~~~~~~~~~~~~~~\n",
      "Done.\n",
      "~~~~~~~~~~~~~~~~~~~~~~~~~~~~~~~~~~~~~~~~~~~~~~~~~~~~~~~~~~~~~~~~~~~~~~~~~~~~~~~~\n"
     ]
    }
   ],
   "source": [
    "PRINT(f'The size of the data frame is -> {len(sixth_df)}')\n",
    "print(f'Number of time P05106 appears -> {len(sixth_df[sixth_df[\"UniProt2\"] == \"P05106\"])}')\n",
    "print(f'Number of time P05556 appears -> {len(sixth_df[sixth_df[\"UniProt2\"] == \"P05556\"])}')\n",
    "\n",
    "PRINT('Done.')"
   ]
  },
  {
   "cell_type": "markdown",
   "id": "532845f9-9edf-4d73-b1cd-888c538ba8d9",
   "metadata": {},
   "source": [
    "### Save the Encoded csv Files ###"
   ]
  },
  {
   "cell_type": "code",
   "execution_count": 355,
   "id": "b0562661-1556-408b-b9b4-43f876be2e8a",
   "metadata": {
    "tags": []
   },
   "outputs": [
    {
     "name": "stdout",
     "output_type": "stream",
     "text": [
      "~~~~~~~~~~~~~~~~~~~~~~~~~~~~~~~~~~~~~~~~~~~~~~~~~~~~~~~~~~~~~~~~~~~~~~~~~~~~~~~~\n",
      "Done.\n",
      "~~~~~~~~~~~~~~~~~~~~~~~~~~~~~~~~~~~~~~~~~~~~~~~~~~~~~~~~~~~~~~~~~~~~~~~~~~~~~~~~\n"
     ]
    }
   ],
   "source": [
    "encoded_dir_path = 'one hot encoded csv files for training'\n",
    "\n",
    "first_df_encoded.to_csv(os.path.join('one hot encoded csv files for training/first_df_encoded.csv'), index=False)\n",
    "second_df_encoded.to_csv(os.path.join('one hot encoded csv files for training/second_df_encoded.csv'), index=False)\n",
    "third_df_encoded.to_csv(os.path.join('one hot encoded csv files for training/third_df_encoded.csv'), index=False)\n",
    "fourth_df_encoded.to_csv(os.path.join('one hot encoded csv files for training/fourth_df_encoded.csv'), index=False)\n",
    "fifth_df_encoded.to_csv(os.path.join('one hot encoded csv files for training/fifth_df_encoded.csv'), index=False)\n",
    "sixth_df_encoded.to_csv(os.path.join('one hot encoded csv files for training/sixth_df_encoded.csv'), index=False)\n",
    "\n",
    "PRINT('Done.')"
   ]
  },
  {
   "cell_type": "markdown",
   "id": "d44b2d07-ceb9-4c7a-b5e6-d88cd56b6d6d",
   "metadata": {},
   "source": [
    "## Build and Train Predictive Models for PPI ##"
   ]
  },
  {
   "cell_type": "markdown",
   "id": "1466a3db-427e-499e-81a8-31a185556d86",
   "metadata": {},
   "source": [
    "### Import Libraries ###"
   ]
  },
  {
   "cell_type": "code",
   "execution_count": 7,
   "id": "74b9d57a-7f0c-419a-addd-904744505fd2",
   "metadata": {
    "tags": []
   },
   "outputs": [],
   "source": [
    "import pickle # In order to load the saved data frames dictionary\n",
    "from rdkit import Chem\n",
    "from rdkit.Chem import PandasTools\n",
    "from rdkit.Chem import Descriptors\n",
    "from rdkit.Chem import rdmolops"
   ]
  },
  {
   "cell_type": "code",
   "execution_count": 29,
   "id": "249efe01-fbb8-40cd-a212-2e05176e5d14",
   "metadata": {
    "tags": []
   },
   "outputs": [],
   "source": [
    "import deepchem as dc\n",
    "import pandas as pd\n",
    "import numpy as np\n",
    "from rdkit import Chem\n",
    "from rdkit.Chem import AllChem\n",
    "from deepchem.feat import RDKitDescriptors\n",
    "from deepchem.models import GraphConvModel\n",
    "from deepchem.hyper import GridHyperparamOpt\n",
    "from deepchem.splits.splitters import RandomGroupSplitter\n",
    "from deepchem.hyper import HyperparamOpt\n",
    "from deepchem.trans import undo_transforms\n",
    "from deepchem.trans.transformers import BalancingTransformer"
   ]
  },
  {
   "cell_type": "markdown",
   "id": "2dc18c8b-2ebe-4277-9d03-44bf4257207f",
   "metadata": {},
   "source": [
    "### Construct the Datasets ###"
   ]
  },
  {
   "cell_type": "markdown",
   "id": "b719e93e-f642-4b37-9997-53725c18ff78",
   "metadata": {},
   "source": [
    "First we need to load our saved data frames dictionary"
   ]
  },
  {
   "cell_type": "code",
   "execution_count": 9,
   "id": "b77078ae-c87c-4ac3-8fae-7d2a3c5a1b09",
   "metadata": {
    "tags": []
   },
   "outputs": [],
   "source": [
    "dict_path = 'obj/data_frames_dictionary.pkl'"
   ]
  },
  {
   "cell_type": "code",
   "execution_count": 10,
   "id": "a8aa4faa-6734-4e5a-b61d-f8d94229ebd8",
   "metadata": {
    "tags": []
   },
   "outputs": [
    {
     "name": "stdout",
     "output_type": "stream",
     "text": [
      "~~~~~~~~~~~~~~~~~~~~~~~~~~~~~~~~~~~~~~~~~~~~~~~~~~~~~~~~~~~~~~~~~~~~~~~~~~~~~~~~\n",
      "Done.\n",
      "~~~~~~~~~~~~~~~~~~~~~~~~~~~~~~~~~~~~~~~~~~~~~~~~~~~~~~~~~~~~~~~~~~~~~~~~~~~~~~~~\n"
     ]
    }
   ],
   "source": [
    "try:\n",
    "    with open('obj/data_frames_dictionary.pkl', 'rb') as file:\n",
    "        df_dict = pickle.load(file)\n",
    "        PRINT(f'Done.')\n",
    "except Exception as e:\n",
    "    PRINT(f'Error in loading the saved data frames dicitonary from obj dir')"
   ]
  },
  {
   "cell_type": "code",
   "execution_count": 11,
   "id": "1d0b9bf2-44ec-4346-afc2-2c2fedc67a70",
   "metadata": {
    "tags": []
   },
   "outputs": [
    {
     "name": "stdout",
     "output_type": "stream",
     "text": [
      "~~~~~~~~~~~~~~~~~~~~~~~~~~~~~~~~~~~~~~~~~~~~~~~~~~~~~~~~~~~~~~~~~~~~~~~~~~~~~~~~\n",
      "Unique proteins -> ['P13612', 'P05556', 'P05106', 'P05107', 'P08648', 'P17301']\n",
      "~~~~~~~~~~~~~~~~~~~~~~~~~~~~~~~~~~~~~~~~~~~~~~~~~~~~~~~~~~~~~~~~~~~~~~~~~~~~~~~~\n"
     ]
    }
   ],
   "source": [
    "prot_ls = list(df_dict.keys())\n",
    "\n",
    "PRINT(f'Unique proteins -> {prot_ls}')"
   ]
  },
  {
   "cell_type": "markdown",
   "id": "8c438f63-f352-4bf2-8230-a79fa7968d80",
   "metadata": {},
   "source": [
    "### Models for P13612 Protein ###"
   ]
  },
  {
   "cell_type": "code",
   "execution_count": 12,
   "id": "e8b20c77-3165-456e-bc7f-a9aa4539f1a8",
   "metadata": {
    "tags": []
   },
   "outputs": [],
   "source": [
    "csv_dir_path = 'one hot encoded csv files for training' "
   ]
  },
  {
   "cell_type": "code",
   "execution_count": 13,
   "id": "b61860b1-1bd7-4a9b-873e-daed19bb221d",
   "metadata": {
    "tags": []
   },
   "outputs": [],
   "source": [
    "first_ds = pd.read_csv(os.path.join(csv_dir_path, 'first_df_encoded.csv'))"
   ]
  },
  {
   "cell_type": "code",
   "execution_count": 14,
   "id": "34d1fd74-242c-42ed-aaf9-28c4bff0b9f2",
   "metadata": {
    "tags": []
   },
   "outputs": [
    {
     "data": {
      "text/html": [
       "<div>\n",
       "<style scoped>\n",
       "    .dataframe tbody tr th:only-of-type {\n",
       "        vertical-align: middle;\n",
       "    }\n",
       "\n",
       "    .dataframe tbody tr th {\n",
       "        vertical-align: top;\n",
       "    }\n",
       "\n",
       "    .dataframe thead th {\n",
       "        text-align: right;\n",
       "    }\n",
       "</style>\n",
       "<table border=\"1\" class=\"dataframe\">\n",
       "  <thead>\n",
       "    <tr style=\"text-align: right;\">\n",
       "      <th></th>\n",
       "      <th>SMILES</th>\n",
       "      <th>P13612</th>\n",
       "      <th>P05556</th>\n",
       "      <th>P26010</th>\n",
       "    </tr>\n",
       "  </thead>\n",
       "  <tbody>\n",
       "    <tr>\n",
       "      <th>0</th>\n",
       "      <td>COc1ccccc1-c1ccc(C[C@H](NC(=O)c2ccccc2Cl)C(=O)...</td>\n",
       "      <td>1</td>\n",
       "      <td>0</td>\n",
       "      <td>1</td>\n",
       "    </tr>\n",
       "    <tr>\n",
       "      <th>1</th>\n",
       "      <td>Cc1ccccc1NC(=O)Nc1ccc(CC(=O)N2C[C@@H](F)C[C@H]...</td>\n",
       "      <td>1</td>\n",
       "      <td>0</td>\n",
       "      <td>1</td>\n",
       "    </tr>\n",
       "    <tr>\n",
       "      <th>2</th>\n",
       "      <td>CN(C)Cc1ccccc1-c1ccc(C[C@H](NC(=O)c2ccccc2Cl)C...</td>\n",
       "      <td>1</td>\n",
       "      <td>0</td>\n",
       "      <td>1</td>\n",
       "    </tr>\n",
       "  </tbody>\n",
       "</table>\n",
       "</div>"
      ],
      "text/plain": [
       "                                              SMILES  P13612  P05556  P26010\n",
       "0  COc1ccccc1-c1ccc(C[C@H](NC(=O)c2ccccc2Cl)C(=O)...       1       0       1\n",
       "1  Cc1ccccc1NC(=O)Nc1ccc(CC(=O)N2C[C@@H](F)C[C@H]...       1       0       1\n",
       "2  CN(C)Cc1ccccc1-c1ccc(C[C@H](NC(=O)c2ccccc2Cl)C...       1       0       1"
      ]
     },
     "execution_count": 14,
     "metadata": {},
     "output_type": "execute_result"
    }
   ],
   "source": [
    "first_ds.head(3)"
   ]
  },
  {
   "cell_type": "code",
   "execution_count": 15,
   "id": "ab7e98bb-b78a-41b6-a538-9559eeccb66c",
   "metadata": {
    "tags": []
   },
   "outputs": [
    {
     "data": {
      "text/html": [
       "<div>\n",
       "<style scoped>\n",
       "    .dataframe tbody tr th:only-of-type {\n",
       "        vertical-align: middle;\n",
       "    }\n",
       "\n",
       "    .dataframe tbody tr th {\n",
       "        vertical-align: top;\n",
       "    }\n",
       "\n",
       "    .dataframe thead th {\n",
       "        text-align: right;\n",
       "    }\n",
       "</style>\n",
       "<table border=\"1\" class=\"dataframe\">\n",
       "  <thead>\n",
       "    <tr style=\"text-align: right;\">\n",
       "      <th></th>\n",
       "      <th>SMILES</th>\n",
       "      <th>P05556</th>\n",
       "      <th>P26010</th>\n",
       "    </tr>\n",
       "  </thead>\n",
       "  <tbody>\n",
       "    <tr>\n",
       "      <th>0</th>\n",
       "      <td>COc1ccccc1-c1ccc(C[C@H](NC(=O)c2ccccc2Cl)C(=O)...</td>\n",
       "      <td>0</td>\n",
       "      <td>1</td>\n",
       "    </tr>\n",
       "    <tr>\n",
       "      <th>1</th>\n",
       "      <td>Cc1ccccc1NC(=O)Nc1ccc(CC(=O)N2C[C@@H](F)C[C@H]...</td>\n",
       "      <td>0</td>\n",
       "      <td>1</td>\n",
       "    </tr>\n",
       "  </tbody>\n",
       "</table>\n",
       "</div>"
      ],
      "text/plain": [
       "                                              SMILES  P05556  P26010\n",
       "0  COc1ccccc1-c1ccc(C[C@H](NC(=O)c2ccccc2Cl)C(=O)...       0       1\n",
       "1  Cc1ccccc1NC(=O)Nc1ccc(CC(=O)N2C[C@@H](F)C[C@H]...       0       1"
      ]
     },
     "execution_count": 15,
     "metadata": {},
     "output_type": "execute_result"
    }
   ],
   "source": [
    "first_ds.drop('P13612', axis=1, inplace=True)\n",
    "\n",
    "first_ds.head(2)"
   ]
  },
  {
   "cell_type": "markdown",
   "id": "d5343e1f-30cb-4555-b356-10744d2696aa",
   "metadata": {},
   "source": [
    "#### Graph Conv Model ####"
   ]
  },
  {
   "cell_type": "code",
   "execution_count": 285,
   "id": "00cb1ac6-6b40-4096-bc94-f792228ae52d",
   "metadata": {},
   "outputs": [
    {
     "data": {
      "text/html": [
       "<div>\n",
       "<style scoped>\n",
       "    .dataframe tbody tr th:only-of-type {\n",
       "        vertical-align: middle;\n",
       "    }\n",
       "\n",
       "    .dataframe tbody tr th {\n",
       "        vertical-align: top;\n",
       "    }\n",
       "\n",
       "    .dataframe thead th {\n",
       "        text-align: right;\n",
       "    }\n",
       "</style>\n",
       "<table border=\"1\" class=\"dataframe\">\n",
       "  <thead>\n",
       "    <tr style=\"text-align: right;\">\n",
       "      <th></th>\n",
       "      <th>SMILES</th>\n",
       "      <th>UniProtTargetLabels</th>\n",
       "      <th>NumericUniProtTargetLabels</th>\n",
       "    </tr>\n",
       "  </thead>\n",
       "  <tbody>\n",
       "    <tr>\n",
       "      <th>0</th>\n",
       "      <td>COc1ccccc1-c1ccc(C[C@H](NC(=O)c2ccccc2Cl)C(=O)...</td>\n",
       "      <td>P26010</td>\n",
       "      <td>1</td>\n",
       "    </tr>\n",
       "    <tr>\n",
       "      <th>1</th>\n",
       "      <td>Cc1ccccc1NC(=O)Nc1ccc(CC(=O)N2C[C@@H](F)C[C@H]...</td>\n",
       "      <td>P26010</td>\n",
       "      <td>1</td>\n",
       "    </tr>\n",
       "  </tbody>\n",
       "</table>\n",
       "</div>"
      ],
      "text/plain": [
       "                                              SMILES UniProtTargetLabels  \\\n",
       "0  COc1ccccc1-c1ccc(C[C@H](NC(=O)c2ccccc2Cl)C(=O)...              P26010   \n",
       "1  Cc1ccccc1NC(=O)Nc1ccc(CC(=O)N2C[C@@H](F)C[C@H]...              P26010   \n",
       "\n",
       "   NumericUniProtTargetLabels  \n",
       "0                           1  \n",
       "1                           1  "
      ]
     },
     "execution_count": 285,
     "metadata": {},
     "output_type": "execute_result"
    }
   ],
   "source": [
    "curr_df.head(2)"
   ]
  },
  {
   "cell_type": "code",
   "execution_count": 286,
   "id": "0670dbf4-ef86-459b-a84f-f492a39ed982",
   "metadata": {},
   "outputs": [
    {
     "data": {
      "text/html": [
       "<div>\n",
       "<style scoped>\n",
       "    .dataframe tbody tr th:only-of-type {\n",
       "        vertical-align: middle;\n",
       "    }\n",
       "\n",
       "    .dataframe tbody tr th {\n",
       "        vertical-align: top;\n",
       "    }\n",
       "\n",
       "    .dataframe thead th {\n",
       "        text-align: right;\n",
       "    }\n",
       "</style>\n",
       "<table border=\"1\" class=\"dataframe\">\n",
       "  <thead>\n",
       "    <tr style=\"text-align: right;\">\n",
       "      <th></th>\n",
       "      <th>SMILES</th>\n",
       "      <th>NumericUniProtTargetLabels</th>\n",
       "    </tr>\n",
       "  </thead>\n",
       "  <tbody>\n",
       "    <tr>\n",
       "      <th>0</th>\n",
       "      <td>COc1ccccc1-c1ccc(C[C@H](NC(=O)c2ccccc2Cl)C(=O)...</td>\n",
       "      <td>1</td>\n",
       "    </tr>\n",
       "    <tr>\n",
       "      <th>1</th>\n",
       "      <td>Cc1ccccc1NC(=O)Nc1ccc(CC(=O)N2C[C@@H](F)C[C@H]...</td>\n",
       "      <td>1</td>\n",
       "    </tr>\n",
       "  </tbody>\n",
       "</table>\n",
       "</div>"
      ],
      "text/plain": [
       "                                              SMILES  \\\n",
       "0  COc1ccccc1-c1ccc(C[C@H](NC(=O)c2ccccc2Cl)C(=O)...   \n",
       "1  Cc1ccccc1NC(=O)Nc1ccc(CC(=O)N2C[C@@H](F)C[C@H]...   \n",
       "\n",
       "   NumericUniProtTargetLabels  \n",
       "0                           1  \n",
       "1                           1  "
      ]
     },
     "execution_count": 286,
     "metadata": {},
     "output_type": "execute_result"
    }
   ],
   "source": [
    "df_conv = curr_df.drop('UniProtTargetLabels', axis=1)\n",
    "\n",
    "df_conv.head(2)"
   ]
  },
  {
   "cell_type": "code",
   "execution_count": 293,
   "id": "8a5560a6-08b9-43d3-83da-5a6cf41e52a6",
   "metadata": {},
   "outputs": [],
   "source": [
    "df_conv.to_csv('P13612_conv_data.csv', index=False)"
   ]
  },
  {
   "cell_type": "markdown",
   "id": "e672a2cb-bbf8-4e90-98ed-0bcca6ca229f",
   "metadata": {},
   "source": [
    "##### Hyperparameter Tuning for Graph Conv Model #####"
   ]
  },
  {
   "cell_type": "code",
   "execution_count": 288,
   "id": "28982460-710e-4a19-b0f6-5b25dde69766",
   "metadata": {},
   "outputs": [],
   "source": [
    "def gc_model_builder(**model_params,):\n",
    "    \"\"\"\n",
    "\n",
    "    \"\"\"\n",
    "    learning_rate = model_params['learning_rate']\n",
    "    graph_conv_layers = model_params['graph_conv_layers']\n",
    "    dense_layer_size = model_params['dense_layer_size']\n",
    "    dropout = model_params['dropout']\n",
    "    batch_size = model_params['batch_size']\n",
    "    batch_normalize = model_params['batch_normalize']\n",
    "    n_classes=model_params['n_classes']\n",
    "    \n",
    "    \n",
    "    return GraphConvModel(n_tasks=1,\n",
    "                          batch_size=batch_size,\n",
    "                          graph_conv_layers=graph_conv_layers,\n",
    "                          dense_layer_size=dense_layer_size,\n",
    "                          dropout=dropout,\n",
    "                          mode='classification',\n",
    "                          model_dir='models',\n",
    "                          batch_normalize=batch_normalize,\n",
    "                          n_classes=n_classes,\n",
    "                          learning_rate=learning_rate\n",
    "                          )"
   ]
  },
  {
   "cell_type": "code",
   "execution_count": 291,
   "id": "70acc8c2-3ab7-4895-80ec-c1783ba1843f",
   "metadata": {},
   "outputs": [],
   "source": [
    "def execute_hyperparameter_tuning_for_graph_conv(csv_data, df, params):\n",
    "    \"\"\"\n",
    "\n",
    "    \"\"\"\n",
    "    tasks = ['NumericUniProtTargetLabels']\n",
    "    featurizer = dc.feat.ConvMolFeaturizer()\n",
    "    loader = dc.data.CSVLoader(tasks=tasks,\n",
    "                               smiles_field='SMILES',\n",
    "                               featurizer=featurizer)\n",
    "    \n",
    "    splitter = dc.splits.RandomSplitter()\n",
    "    mean_roc_auc_metric = dc.metrics.Metric(metric=dc.metrics.roc_auc_score, task_averager=np.mean, mode='classification', n_tasks=1)\n",
    "\n",
    "    dataset = loader.featurize(csv_data)\n",
    "    \n",
    "    res = splitter.train_valid_test_split(dataset)\n",
    "    train_dataset, valid_dataset, test_dataset = res\n",
    "    \n",
    "    # Create a hyperparameter optimization object\n",
    "    opt = GridHyperparamOpt(gc_model_builder)\n",
    "    best_model, best_hyperparams, all_results = opt.hyperparam_search(params, train_dataset, valid_dataset, mean_roc_auc_metric)\n",
    "\n",
    "    return [best_hyperparams, all_results]"
   ]
  },
  {
   "cell_type": "code",
   "execution_count": null,
   "id": "2dadbf92-1206-46f6-8da9-8baa3818083e",
   "metadata": {},
   "outputs": [],
   "source": [
    "# Define the hyperparameter grid\n",
    "params = {\n",
    "    'learning_rate': [1e-3, 5e-4, 1e-4],\n",
    "    'graph_conv_layers': [[64, 64], [128, 128]],\n",
    "    'dense_layer_size': [64, 128, 256],\n",
    "    'dropout': [0.2, 0.4],\n",
    "    'batch_size': [32, 64],\n",
    "    'batch_normalize': [True, False],\n",
    "    'n_classes': [2]\n",
    "}\n",
    "\n",
    "# Execute hyperparameter tuning for graph conv model for the first dataset\n",
    "res_ls = execute_hyperparameter_tuning_for_graph_conv(csv_data = 'P13612_conv_data.csv', df=df_conv, params=params)"
   ]
  },
  {
   "cell_type": "code",
   "execution_count": 62,
   "id": "164aa0a1-99e8-48a0-a690-ec7b5df93eba",
   "metadata": {},
   "outputs": [
    {
     "name": "stdout",
     "output_type": "stream",
     "text": [
      "~~~~~~~~~~~~~~~~~~~~~~~~~~~~~~~~~~~~~~~~~~~~~~~~~~~~~~~~~~~~~~~~~~~~~~~~~~~~~~~~\n",
      "The results after preforming Grid Hyperparameter Optimization technique are:\n",
      "~~~~~~~~~~~~~~~~~~~~~~~~~~~~~~~~~~~~~~~~~~~~~~~~~~~~~~~~~~~~~~~~~~~~~~~~~~~~~~~~\n",
      "~~~~~~~~~~~~~~~~~~~~~~~~~~~~~~~~~~~~~~~~~~~~~~~~~~~~~~~~~~~~~~~~~~~~~~~~~~~~~~~~\n",
      "Best hyperparameters (learning_rate, dropout, batch_size) -> (0.001, 0.2, 32)\n",
      "~~~~~~~~~~~~~~~~~~~~~~~~~~~~~~~~~~~~~~~~~~~~~~~~~~~~~~~~~~~~~~~~~~~~~~~~~~~~~~~~\n",
      "~~~~~~~~~~~~~~~~~~~~~~~~~~~~~~~~~~~~~~~~~~~~~~~~~~~~~~~~~~~~~~~~~~~~~~~~~~~~~~~~\n",
      "All results :\n",
      "\n",
      "{'_batch_size_32_dropout_0.200000_learning_rate_0.001000': 0.8011347517730496, '_batch_size_64_dropout_0.200000_learning_rate_0.001000': 0.7849645390070923, '_batch_size_32_dropout_0.500000_learning_rate_0.001000': 0.7651063829787234, '_batch_size_64_dropout_0.500000_learning_rate_0.001000': 0.6212765957446809, '_batch_size_32_dropout_0.200000_learning_rate_0.000100': 0.8004964539007092, '_batch_size_64_dropout_0.200000_learning_rate_0.000100': 0.6831205673758866, '_batch_size_32_dropout_0.500000_learning_rate_0.000100': 0.5195744680851064, '_batch_size_64_dropout_0.500000_learning_rate_0.000100': 0.6874468085106383}\n",
      "~~~~~~~~~~~~~~~~~~~~~~~~~~~~~~~~~~~~~~~~~~~~~~~~~~~~~~~~~~~~~~~~~~~~~~~~~~~~~~~~\n"
     ]
    }
   ],
   "source": [
    "PRINT(f\"The results after preforming Grid Hyperparameter Optimization technique are:\")\n",
    "PRINT(f\"Best hyperparameters (learning_rate, dropout, batch_size) -> {res_ls[0]}\")\n",
    "PRINT(f\"All results :\\n\\n{res_ls[1]}\")"
   ]
  },
  {
   "cell_type": "markdown",
   "id": "2e6b2d10-8d84-45d3-8561-08501a75e9cf",
   "metadata": {},
   "source": [
    "##### Build and Train Graph Conv Model #####"
   ]
  },
  {
   "cell_type": "code",
   "execution_count": 601,
   "id": "f72864d2-1859-4b20-99d3-e54cd45f9057",
   "metadata": {
    "tags": []
   },
   "outputs": [],
   "source": [
    "def generate_graph_conv_model(n_tasks, learning_rate):\n",
    "    batch_size = 64\n",
    "    model = GraphConvModel(n_tasks=n_tasks, \n",
    "                           batch_size=batch_size,\n",
    "                           mode = 'classification',\n",
    "                           model_dir = 'models',\n",
    "                           n_classes=2,\n",
    "                          learning_rate=learning_rate)\n",
    "    return model           "
   ]
  },
  {
   "cell_type": "code",
   "execution_count": 602,
   "id": "76e02c17-7203-4b92-91b1-f109412573f9",
   "metadata": {
    "tags": []
   },
   "outputs": [
    {
     "name": "stderr",
     "output_type": "stream",
     "text": [
      "smiles_field is deprecated and will be removed in a future version of DeepChem.Use feature_field instead.\n",
      "C:\\Users\\gavvi\\anaconda3\\Lib\\site-packages\\deepchem\\data\\data_loader.py:160: FutureWarning: featurize() is deprecated and has been renamed to create_dataset().featurize() will be removed in DeepChem 3.0\n",
      "  warnings.warn(\n"
     ]
    }
   ],
   "source": [
    "tasks = list(first_ds.columns[1:])\n",
    "featurizer = dc.feat.ConvMolFeaturizer()\n",
    "loader = dc.data.CSVLoader(tasks=tasks,\n",
    "                           smiles_field='SMILES',\n",
    "                           featurizer=featurizer)\n",
    "dataset = loader.featurize('first_ds_for_train.csv')"
   ]
  },
  {
   "cell_type": "code",
   "execution_count": 603,
   "id": "69f28afe-f547-4488-a94f-7e7e7407967d",
   "metadata": {
    "tags": []
   },
   "outputs": [
    {
     "data": {
      "text/plain": [
       "<DiskDataset X.shape: (1974,), y.shape: (1974, 2), w.shape: (1974, 2), task_names: ['P05556' 'P26010']>"
      ]
     },
     "execution_count": 603,
     "metadata": {},
     "output_type": "execute_result"
    }
   ],
   "source": [
    "dataset"
   ]
  },
  {
   "cell_type": "code",
   "execution_count": 604,
   "id": "62af195e-d753-4f41-a2fa-14e023da2b91",
   "metadata": {
    "tags": []
   },
   "outputs": [],
   "source": [
    "splitter = dc.splits.RandomSplitter()"
   ]
  },
  {
   "cell_type": "code",
   "execution_count": 605,
   "id": "02d39946-54f5-4857-a032-c194dc17f11b",
   "metadata": {
    "tags": []
   },
   "outputs": [],
   "source": [
    "metrics = [dc.metrics.Metric(dc.metrics.roc_auc_score, np.mean, mode='classification')]"
   ]
  },
  {
   "cell_type": "code",
   "execution_count": 606,
   "id": "535bdd72-1474-4383-93da-2dda5491e64f",
   "metadata": {
    "tags": []
   },
   "outputs": [],
   "source": [
    "res = splitter.train_valid_test_split(dataset)\n",
    "train_dataset, valid_dataset, test_dataset = res"
   ]
  },
  {
   "cell_type": "code",
   "execution_count": 616,
   "id": "dbb6fc0f-018a-43d5-9bf8-ca33e4166b79",
   "metadata": {
    "tags": []
   },
   "outputs": [
    {
     "name": "stdout",
     "output_type": "stream",
     "text": [
      "~~~~~~~~~~~~~~~~~~~~~~~~~~~~~~~~~~~~~~~~~~~~~~~~~~~~~~~~~~~~~~~~~~~~~~~~~~~~~~~~\n",
      "Shapes (train, valid, test) -> : ((1579,), (197,), (198,))\n",
      "~~~~~~~~~~~~~~~~~~~~~~~~~~~~~~~~~~~~~~~~~~~~~~~~~~~~~~~~~~~~~~~~~~~~~~~~~~~~~~~~\n"
     ]
    }
   ],
   "source": [
    "PRINT(f'Shapes (train, valid, test) -> : {(train_dataset.X.shape, valid_dataset.X.shape, test_dataset.X.shape)}')"
   ]
  },
  {
   "cell_type": "code",
   "execution_count": 608,
   "id": "b8d6ed3a-0cbf-4709-84f2-334e3b9be01e",
   "metadata": {
    "tags": []
   },
   "outputs": [],
   "source": [
    "training_score_list = []\n",
    "validation_score_list = []\n",
    "transformers = []\n",
    "cv_folds = 10"
   ]
  },
  {
   "cell_type": "code",
   "execution_count": 609,
   "id": "00d20318-44e1-4e69-81cb-48efc485e928",
   "metadata": {
    "tags": []
   },
   "outputs": [],
   "source": [
    "for i in range(0, cv_folds):\n",
    "    model = generate_graph_conv_model(2)\n",
    "    res = splitter.train_valid_test_split(dataset)\n",
    "    \n",
    "    train_dataset, valid_dataset, test_dataset = res\n",
    "    \n",
    "    model.fit(train_dataset, nb_epoch=10)\n",
    "    \n",
    "    # Train step\n",
    "    train_scores = model.evaluate(train_dataset, metrics,\n",
    "                                  transformers)\n",
    "\n",
    "    training_score_list.append(\n",
    "        train_scores['mean-roc_auc_score'])\n",
    "    \n",
    "    # Validation step\n",
    "    validation_scores = model.evaluate(valid_dataset, metrics,\n",
    "                                       transformers)\n",
    "    validation_score_list.append(\n",
    "        validation_scores['mean-roc_auc_score'])"
   ]
  },
  {
   "cell_type": "code",
   "execution_count": 610,
   "id": "e8204f10-1251-42c0-8e10-40c5c9085833",
   "metadata": {
    "tags": []
   },
   "outputs": [
    {
     "name": "stdout",
     "output_type": "stream",
     "text": [
      "~~~~~~~~~~~~~~~~~~~~~~~~~~~~~~~~~~~~~~~~~~~~~~~~~~~~~~~~~~~~~~~~~~~~~~~~~~~~~~~~\n",
      "[0.8257149617315448, 0.8209986441320591, 0.8235109139546, 0.8108322362000009, 0.8055811547865338, 0.8065282379678009, 0.7863595870071726, 0.7896867048346057, 0.7762394729693018, 0.8170065011820331]\n",
      "~~~~~~~~~~~~~~~~~~~~~~~~~~~~~~~~~~~~~~~~~~~~~~~~~~~~~~~~~~~~~~~~~~~~~~~~~~~~~~~~\n",
      "~~~~~~~~~~~~~~~~~~~~~~~~~~~~~~~~~~~~~~~~~~~~~~~~~~~~~~~~~~~~~~~~~~~~~~~~~~~~~~~~\n",
      "[0.7806204673650282, 0.7493177871495906, 0.7576642335766424, 0.8066747246843944, 0.8025372311086596, 0.7234793187347932, 0.7928519768563163, 0.7347784885098319, 0.7904002026342452, 0.7568384681831269]\n",
      "~~~~~~~~~~~~~~~~~~~~~~~~~~~~~~~~~~~~~~~~~~~~~~~~~~~~~~~~~~~~~~~~~~~~~~~~~~~~~~~~\n"
     ]
    }
   ],
   "source": [
    "PRINT(training_score_list)\n",
    "PRINT(validation_score_list)"
   ]
  },
  {
   "cell_type": "code",
   "execution_count": 611,
   "id": "0167d3ed-1a46-4511-9fe2-1d25dddb67fb",
   "metadata": {
    "tags": []
   },
   "outputs": [
    {
     "data": {
      "image/png": "[encoded data removed]",
      "text/plain": [
       "<Figure size 1200x800 with 1 Axes>"
      ]
     },
     "metadata": {},
     "output_type": "display_data"
    }
   ],
   "source": [
    "# Create a DataFrame with the data\n",
    "data = {\n",
    "    'Group': [\"training\"] * cv_folds + [\"validation\"] * cv_folds,\n",
    "    'Score': training_score_list + validation_score_list\n",
    "}\n",
    "\n",
    "# Create a boxplot\n",
    "sns.boxplot(x=\"Group\", y=\"Score\", data=data)\n",
    "\n",
    "# Show the plot\n",
    "plt.show()"
   ]
  },
  {
   "cell_type": "code",
   "execution_count": 550,
   "id": "e33211fa-e408-4a4c-bf56-b2a542646732",
   "metadata": {
    "tags": []
   },
   "outputs": [
    {
     "data": {
      "text/plain": [
       "(197, 2)"
      ]
     },
     "execution_count": 550,
     "metadata": {},
     "output_type": "execute_result"
    }
   ],
   "source": [
    "valid_dataset.y.shape"
   ]
  },
  {
   "cell_type": "code",
   "execution_count": 555,
   "id": "cfa2efd3-2526-4d1d-b0c7-a7c59af9a8b9",
   "metadata": {
    "tags": []
   },
   "outputs": [],
   "source": [
    "y_transposed = valid_dataset.y.transpose()"
   ]
  },
  {
   "cell_type": "code",
   "execution_count": 558,
   "id": "fde013ea-ca09-4543-b304-5aa70d8840e6",
   "metadata": {
    "tags": []
   },
   "outputs": [
    {
     "data": {
      "text/plain": [
       "(2, 197)"
      ]
     },
     "execution_count": 558,
     "metadata": {},
     "output_type": "execute_result"
    }
   ],
   "source": [
    "y_transposed.shape"
   ]
  },
  {
   "cell_type": "code",
   "execution_count": 559,
   "id": "db9274ea-1b11-49cc-bffd-b1a628b56cca",
   "metadata": {
    "tags": []
   },
   "outputs": [],
   "source": [
    "pred_df[tasks[0]] = [int(x) for x in y_transposed[0]]\n",
    "pred_df[tasks[1]] = [int(x) for x in y_transposed[1]]\n",
    "pred_df[\"SMILES\"] = valid_dataset.ids"
   ]
  },
  {
   "cell_type": "code",
   "execution_count": 564,
   "id": "0c44fc3b-0248-486a-991e-6ef747818506",
   "metadata": {
    "tags": []
   },
   "outputs": [
    {
     "data": {
      "text/html": [
       "<div>\n",
       "<style scoped>\n",
       "    .dataframe tbody tr th:only-of-type {\n",
       "        vertical-align: middle;\n",
       "    }\n",
       "\n",
       "    .dataframe tbody tr th {\n",
       "        vertical-align: top;\n",
       "    }\n",
       "\n",
       "    .dataframe thead th {\n",
       "        text-align: right;\n",
       "    }\n",
       "</style>\n",
       "<table border=\"1\" class=\"dataframe\">\n",
       "  <thead>\n",
       "    <tr style=\"text-align: right;\">\n",
       "      <th></th>\n",
       "      <th>0_P05556</th>\n",
       "      <th>1_P05556</th>\n",
       "      <th>0_P26010</th>\n",
       "      <th>1_P26010</th>\n",
       "      <th>P05556</th>\n",
       "      <th>P26010</th>\n",
       "      <th>SMILES</th>\n",
       "    </tr>\n",
       "  </thead>\n",
       "  <tbody>\n",
       "    <tr>\n",
       "      <th>0</th>\n",
       "      <td>0.237262</td>\n",
       "      <td>0.762738</td>\n",
       "      <td>0.533614</td>\n",
       "      <td>0.466386</td>\n",
       "      <td>1</td>\n",
       "      <td>0</td>\n",
       "      <td>COc1ccccc1-c1ccc(C[C@H](NC(=O)C2CCCS2(=O)=O)C(...</td>\n",
       "    </tr>\n",
       "    <tr>\n",
       "      <th>1</th>\n",
       "      <td>0.326104</td>\n",
       "      <td>0.673896</td>\n",
       "      <td>0.680256</td>\n",
       "      <td>0.319744</td>\n",
       "      <td>0</td>\n",
       "      <td>1</td>\n",
       "      <td>CC(C)C[C@H]1NC(=O)[C@H]([C@@H](C)O)NC(=O)[C@@H...</td>\n",
       "    </tr>\n",
       "    <tr>\n",
       "      <th>2</th>\n",
       "      <td>0.092497</td>\n",
       "      <td>0.907503</td>\n",
       "      <td>0.898937</td>\n",
       "      <td>0.101063</td>\n",
       "      <td>1</td>\n",
       "      <td>0</td>\n",
       "      <td>CC(=O)N1CSC[C@@H]1C(=O)N[C@@H](Cc1ccc(OCc2c(Cl...</td>\n",
       "    </tr>\n",
       "    <tr>\n",
       "      <th>3</th>\n",
       "      <td>0.015062</td>\n",
       "      <td>0.984938</td>\n",
       "      <td>0.976549</td>\n",
       "      <td>0.023451</td>\n",
       "      <td>1</td>\n",
       "      <td>0</td>\n",
       "      <td>NC(=O)C1(NC(=O)[C@@H](CCCC(=O)O)NC(=O)[C@@H](C...</td>\n",
       "    </tr>\n",
       "    <tr>\n",
       "      <th>4</th>\n",
       "      <td>0.124486</td>\n",
       "      <td>0.875514</td>\n",
       "      <td>0.857985</td>\n",
       "      <td>0.142015</td>\n",
       "      <td>1</td>\n",
       "      <td>0</td>\n",
       "      <td>Cc1ccnc(C)c1C(=O)N[C@@H](Cc1ccc(NC(=O)c2c(Cl)c...</td>\n",
       "    </tr>\n",
       "    <tr>\n",
       "      <th>5</th>\n",
       "      <td>0.136475</td>\n",
       "      <td>0.863525</td>\n",
       "      <td>0.635067</td>\n",
       "      <td>0.364933</td>\n",
       "      <td>1</td>\n",
       "      <td>0</td>\n",
       "      <td>O=C(Nc1ccc(C[C@H](NC(=O)C2(c3ccccc3)CCCC2)C(=O...</td>\n",
       "    </tr>\n",
       "    <tr>\n",
       "      <th>6</th>\n",
       "      <td>0.166778</td>\n",
       "      <td>0.833222</td>\n",
       "      <td>0.761115</td>\n",
       "      <td>0.238885</td>\n",
       "      <td>1</td>\n",
       "      <td>0</td>\n",
       "      <td>C[C@@]1(C(=O)N[C@@H](Cc2ccc(-c3cccnc3)cc2)C(=O...</td>\n",
       "    </tr>\n",
       "    <tr>\n",
       "      <th>7</th>\n",
       "      <td>0.018955</td>\n",
       "      <td>0.981045</td>\n",
       "      <td>0.967087</td>\n",
       "      <td>0.032913</td>\n",
       "      <td>1</td>\n",
       "      <td>0</td>\n",
       "      <td>NC(=O)C1(NC(=O)[C@@H](CCCC(=O)O)NC(=O)[C@@H](C...</td>\n",
       "    </tr>\n",
       "    <tr>\n",
       "      <th>8</th>\n",
       "      <td>0.008757</td>\n",
       "      <td>0.991243</td>\n",
       "      <td>0.985325</td>\n",
       "      <td>0.014675</td>\n",
       "      <td>1</td>\n",
       "      <td>0</td>\n",
       "      <td>Cc1ccc(C(=O)Nc2ccc(C[C@H](NC(=O)C3CCC(=O)N3Cc3...</td>\n",
       "    </tr>\n",
       "    <tr>\n",
       "      <th>9</th>\n",
       "      <td>0.007507</td>\n",
       "      <td>0.992493</td>\n",
       "      <td>0.987144</td>\n",
       "      <td>0.012856</td>\n",
       "      <td>1</td>\n",
       "      <td>0</td>\n",
       "      <td>Cc1ccccc1NC(=O)Nc1ccc(CC(=O)N[C@@H](CC(C)C)C(=...</td>\n",
       "    </tr>\n",
       "  </tbody>\n",
       "</table>\n",
       "</div>"
      ],
      "text/plain": [
       "   0_P05556  1_P05556  0_P26010  1_P26010  P05556  P26010  \\\n",
       "0  0.237262  0.762738  0.533614  0.466386       1       0   \n",
       "1  0.326104  0.673896  0.680256  0.319744       0       1   \n",
       "2  0.092497  0.907503  0.898937  0.101063       1       0   \n",
       "3  0.015062  0.984938  0.976549  0.023451       1       0   \n",
       "4  0.124486  0.875514  0.857985  0.142015       1       0   \n",
       "5  0.136475  0.863525  0.635067  0.364933       1       0   \n",
       "6  0.166778  0.833222  0.761115  0.238885       1       0   \n",
       "7  0.018955  0.981045  0.967087  0.032913       1       0   \n",
       "8  0.008757  0.991243  0.985325  0.014675       1       0   \n",
       "9  0.007507  0.992493  0.987144  0.012856       1       0   \n",
       "\n",
       "                                              SMILES  \n",
       "0  COc1ccccc1-c1ccc(C[C@H](NC(=O)C2CCCS2(=O)=O)C(...  \n",
       "1  CC(C)C[C@H]1NC(=O)[C@H]([C@@H](C)O)NC(=O)[C@@H...  \n",
       "2  CC(=O)N1CSC[C@@H]1C(=O)N[C@@H](Cc1ccc(OCc2c(Cl...  \n",
       "3  NC(=O)C1(NC(=O)[C@@H](CCCC(=O)O)NC(=O)[C@@H](C...  \n",
       "4  Cc1ccnc(C)c1C(=O)N[C@@H](Cc1ccc(NC(=O)c2c(Cl)c...  \n",
       "5  O=C(Nc1ccc(C[C@H](NC(=O)C2(c3ccccc3)CCCC2)C(=O...  \n",
       "6  C[C@@]1(C(=O)N[C@@H](Cc2ccc(-c3cccnc3)cc2)C(=O...  \n",
       "7  NC(=O)C1(NC(=O)[C@@H](CCCC(=O)O)NC(=O)[C@@H](C...  \n",
       "8  Cc1ccc(C(=O)Nc2ccc(C[C@H](NC(=O)C3CCC(=O)N3Cc3...  \n",
       "9  Cc1ccccc1NC(=O)Nc1ccc(CC(=O)N[C@@H](CC(C)C)C(=...  "
      ]
     },
     "execution_count": 564,
     "metadata": {},
     "output_type": "execute_result"
    }
   ],
   "source": [
    "pred_df.head(10)"
   ]
  },
  {
   "cell_type": "markdown",
   "id": "166061b5-990c-4587-9e37-43ab4e9ee18f",
   "metadata": {},
   "source": [
    "#### Random Forest & XGBoost Models using RKDKit for Generating Features ####"
   ]
  },
  {
   "cell_type": "code",
   "execution_count": 334,
   "id": "9965555e-86d5-494d-b2e0-93a304cf0c74",
   "metadata": {},
   "outputs": [],
   "source": [
    "import xgboost as xgb\n",
    "from sklearn.ensemble import RandomForestClassifier\n",
    "from sklearn.model_selection import train_test_split, GridSearchCV, StratifiedKFold\n",
    "from sklearn.metrics import make_scorer, accuracy_score, precision_score, recall_score, f1_score, confusion_matrix, classification_report"
   ]
  },
  {
   "cell_type": "markdown",
   "id": "997918d5-bf0f-4196-86d0-5287ed6cf910",
   "metadata": {},
   "source": [
    "##### Generate Data Frame with Numeric Labels #####"
   ]
  },
  {
   "cell_type": "markdown",
   "id": "a1742aed-9da0-4a3e-8879-a4cddff8bb6f",
   "metadata": {},
   "source": [
    "First, load the csv file into data frame."
   ]
  },
  {
   "cell_type": "code",
   "execution_count": 153,
   "id": "c92032ec-38bb-433d-947a-4b7fa8e2ce17",
   "metadata": {},
   "outputs": [],
   "source": [
    "csv_file_name = 'P13612.csv'\n",
    "csv_dir = 'unique UniProt csv files'\n",
    "\n",
    "one_hot_encoded_csv = 'first_df_encoded.csv'\n",
    "csv_dir_ohe = 'one hot encoded csv files for training'\n",
    "\n",
    "curr_df = pd.read_csv(os.path.join(csv_dir, csv_file_name))\n",
    "ohe_df = pd.read_csv(os.path.join(csv_dir_ohe, one_hot_encoded_csv))"
   ]
  },
  {
   "cell_type": "code",
   "execution_count": 154,
   "id": "d479773c-0d37-440e-bf24-e997d5f0f687",
   "metadata": {},
   "outputs": [
    {
     "data": {
      "text/html": [
       "<div>\n",
       "<style scoped>\n",
       "    .dataframe tbody tr th:only-of-type {\n",
       "        vertical-align: middle;\n",
       "    }\n",
       "\n",
       "    .dataframe tbody tr th {\n",
       "        vertical-align: top;\n",
       "    }\n",
       "\n",
       "    .dataframe thead th {\n",
       "        text-align: right;\n",
       "    }\n",
       "</style>\n",
       "<table border=\"1\" class=\"dataframe\">\n",
       "  <thead>\n",
       "    <tr style=\"text-align: right;\">\n",
       "      <th></th>\n",
       "      <th>SMILES</th>\n",
       "      <th>UniProt1</th>\n",
       "      <th>UniProt2</th>\n",
       "    </tr>\n",
       "  </thead>\n",
       "  <tbody>\n",
       "    <tr>\n",
       "      <th>0</th>\n",
       "      <td>COc1ccccc1-c1ccc(C[C@H](NC(=O)c2ccccc2Cl)C(=O)...</td>\n",
       "      <td>P13612</td>\n",
       "      <td>P26010</td>\n",
       "    </tr>\n",
       "    <tr>\n",
       "      <th>1</th>\n",
       "      <td>Cc1ccccc1NC(=O)Nc1ccc(CC(=O)N2C[C@@H](F)C[C@H]...</td>\n",
       "      <td>P13612</td>\n",
       "      <td>P26010</td>\n",
       "    </tr>\n",
       "  </tbody>\n",
       "</table>\n",
       "</div>"
      ],
      "text/plain": [
       "                                              SMILES UniProt1 UniProt2\n",
       "0  COc1ccccc1-c1ccc(C[C@H](NC(=O)c2ccccc2Cl)C(=O)...   P13612   P26010\n",
       "1  Cc1ccccc1NC(=O)Nc1ccc(CC(=O)N2C[C@@H](F)C[C@H]...   P13612   P26010"
      ]
     },
     "execution_count": 154,
     "metadata": {},
     "output_type": "execute_result"
    }
   ],
   "source": [
    "curr_df.head(2)"
   ]
  },
  {
   "cell_type": "code",
   "execution_count": 155,
   "id": "b98b07b6-131a-4ec8-903f-468b089f0c58",
   "metadata": {},
   "outputs": [
    {
     "data": {
      "text/html": [
       "<div>\n",
       "<style scoped>\n",
       "    .dataframe tbody tr th:only-of-type {\n",
       "        vertical-align: middle;\n",
       "    }\n",
       "\n",
       "    .dataframe tbody tr th {\n",
       "        vertical-align: top;\n",
       "    }\n",
       "\n",
       "    .dataframe thead th {\n",
       "        text-align: right;\n",
       "    }\n",
       "</style>\n",
       "<table border=\"1\" class=\"dataframe\">\n",
       "  <thead>\n",
       "    <tr style=\"text-align: right;\">\n",
       "      <th></th>\n",
       "      <th>SMILES</th>\n",
       "      <th>UniProtTargetLabels</th>\n",
       "    </tr>\n",
       "  </thead>\n",
       "  <tbody>\n",
       "    <tr>\n",
       "      <th>0</th>\n",
       "      <td>COc1ccccc1-c1ccc(C[C@H](NC(=O)c2ccccc2Cl)C(=O)...</td>\n",
       "      <td>P26010</td>\n",
       "    </tr>\n",
       "    <tr>\n",
       "      <th>1</th>\n",
       "      <td>Cc1ccccc1NC(=O)Nc1ccc(CC(=O)N2C[C@@H](F)C[C@H]...</td>\n",
       "      <td>P26010</td>\n",
       "    </tr>\n",
       "  </tbody>\n",
       "</table>\n",
       "</div>"
      ],
      "text/plain": [
       "                                              SMILES UniProtTargetLabels\n",
       "0  COc1ccccc1-c1ccc(C[C@H](NC(=O)c2ccccc2Cl)C(=O)...              P26010\n",
       "1  Cc1ccccc1NC(=O)Nc1ccc(CC(=O)N2C[C@@H](F)C[C@H]...              P26010"
      ]
     },
     "execution_count": 155,
     "metadata": {},
     "output_type": "execute_result"
    }
   ],
   "source": [
    "curr_df.drop('UniProt1', axis=1, inplace=True)\n",
    "curr_df = curr_df.rename(columns={'UniProt2':'UniProtTargetLabels'})\n",
    "\n",
    "\n",
    "curr_df.head(2)"
   ]
  },
  {
   "cell_type": "code",
   "execution_count": 156,
   "id": "5dadc271-2819-4e2e-bec7-f23f8bbd482e",
   "metadata": {},
   "outputs": [
    {
     "data": {
      "text/html": [
       "<div>\n",
       "<style scoped>\n",
       "    .dataframe tbody tr th:only-of-type {\n",
       "        vertical-align: middle;\n",
       "    }\n",
       "\n",
       "    .dataframe tbody tr th {\n",
       "        vertical-align: top;\n",
       "    }\n",
       "\n",
       "    .dataframe thead th {\n",
       "        text-align: right;\n",
       "    }\n",
       "</style>\n",
       "<table border=\"1\" class=\"dataframe\">\n",
       "  <thead>\n",
       "    <tr style=\"text-align: right;\">\n",
       "      <th></th>\n",
       "      <th>SMILES</th>\n",
       "      <th>P13612</th>\n",
       "      <th>P05556</th>\n",
       "      <th>P26010</th>\n",
       "    </tr>\n",
       "  </thead>\n",
       "  <tbody>\n",
       "    <tr>\n",
       "      <th>0</th>\n",
       "      <td>COc1ccccc1-c1ccc(C[C@H](NC(=O)c2ccccc2Cl)C(=O)...</td>\n",
       "      <td>1</td>\n",
       "      <td>0</td>\n",
       "      <td>1</td>\n",
       "    </tr>\n",
       "    <tr>\n",
       "      <th>1</th>\n",
       "      <td>Cc1ccccc1NC(=O)Nc1ccc(CC(=O)N2C[C@@H](F)C[C@H]...</td>\n",
       "      <td>1</td>\n",
       "      <td>0</td>\n",
       "      <td>1</td>\n",
       "    </tr>\n",
       "  </tbody>\n",
       "</table>\n",
       "</div>"
      ],
      "text/plain": [
       "                                              SMILES  P13612  P05556  P26010\n",
       "0  COc1ccccc1-c1ccc(C[C@H](NC(=O)c2ccccc2Cl)C(=O)...       1       0       1\n",
       "1  Cc1ccccc1NC(=O)Nc1ccc(CC(=O)N2C[C@@H](F)C[C@H]...       1       0       1"
      ]
     },
     "execution_count": 156,
     "metadata": {},
     "output_type": "execute_result"
    }
   ],
   "source": [
    "ohe_df.head(2)"
   ]
  },
  {
   "cell_type": "code",
   "execution_count": 157,
   "id": "8c0dd1d1-23f0-4262-99cf-13c1b7c49c4a",
   "metadata": {},
   "outputs": [
    {
     "name": "stdout",
     "output_type": "stream",
     "text": [
      "~~~~~~~~~~~~~~~~~~~~~~~~~~~~~~~~~~~~~~~~~~~~~~~~~~~~~~~~~~~~~~~~~~~~~~~~~~~~~~~~\n",
      "First model labels -> ['P05556', 'P26010']\n",
      "~~~~~~~~~~~~~~~~~~~~~~~~~~~~~~~~~~~~~~~~~~~~~~~~~~~~~~~~~~~~~~~~~~~~~~~~~~~~~~~~\n"
     ]
    }
   ],
   "source": [
    "labels = ohe_df.columns[2:].tolist()\n",
    "\n",
    "PRINT(f'First model labels -> {labels}')"
   ]
  },
  {
   "cell_type": "code",
   "execution_count": 158,
   "id": "74b2fab1-28fa-47e8-b62e-a22609f74476",
   "metadata": {},
   "outputs": [],
   "source": [
    "column_name_to_index = {label: i for i, label in enumerate(labels)}\n",
    "\n",
    "# Map the 'labels' column in df to column indices\n",
    "curr_df['NumericUniProtTargetLabels'] = curr_df['UniProtTargetLabels'].map(column_name_to_index)"
   ]
  },
  {
   "cell_type": "code",
   "execution_count": 159,
   "id": "ee5b374e-28df-4b41-963c-5b6c95d1dee7",
   "metadata": {},
   "outputs": [
    {
     "data": {
      "text/html": [
       "<div>\n",
       "<style scoped>\n",
       "    .dataframe tbody tr th:only-of-type {\n",
       "        vertical-align: middle;\n",
       "    }\n",
       "\n",
       "    .dataframe tbody tr th {\n",
       "        vertical-align: top;\n",
       "    }\n",
       "\n",
       "    .dataframe thead th {\n",
       "        text-align: right;\n",
       "    }\n",
       "</style>\n",
       "<table border=\"1\" class=\"dataframe\">\n",
       "  <thead>\n",
       "    <tr style=\"text-align: right;\">\n",
       "      <th></th>\n",
       "      <th>SMILES</th>\n",
       "      <th>UniProtTargetLabels</th>\n",
       "      <th>NumericUniProtTargetLabels</th>\n",
       "    </tr>\n",
       "  </thead>\n",
       "  <tbody>\n",
       "    <tr>\n",
       "      <th>0</th>\n",
       "      <td>COc1ccccc1-c1ccc(C[C@H](NC(=O)c2ccccc2Cl)C(=O)...</td>\n",
       "      <td>P26010</td>\n",
       "      <td>1</td>\n",
       "    </tr>\n",
       "    <tr>\n",
       "      <th>1</th>\n",
       "      <td>Cc1ccccc1NC(=O)Nc1ccc(CC(=O)N2C[C@@H](F)C[C@H]...</td>\n",
       "      <td>P26010</td>\n",
       "      <td>1</td>\n",
       "    </tr>\n",
       "    <tr>\n",
       "      <th>2</th>\n",
       "      <td>CN(C)Cc1ccccc1-c1ccc(C[C@H](NC(=O)c2ccccc2Cl)C...</td>\n",
       "      <td>P26010</td>\n",
       "      <td>1</td>\n",
       "    </tr>\n",
       "    <tr>\n",
       "      <th>3</th>\n",
       "      <td>Cc1cccc(Cl)c1C(=O)N[C@@H](Cc1ccc(NC(=O)c2c(Cl)...</td>\n",
       "      <td>P26010</td>\n",
       "      <td>1</td>\n",
       "    </tr>\n",
       "    <tr>\n",
       "      <th>4</th>\n",
       "      <td>COc1cnn(C)c(=O)c1-c1ccc(C[C@H](NC(=O)c2c(C)noc...</td>\n",
       "      <td>P26010</td>\n",
       "      <td>1</td>\n",
       "    </tr>\n",
       "  </tbody>\n",
       "</table>\n",
       "</div>"
      ],
      "text/plain": [
       "                                              SMILES UniProtTargetLabels  \\\n",
       "0  COc1ccccc1-c1ccc(C[C@H](NC(=O)c2ccccc2Cl)C(=O)...              P26010   \n",
       "1  Cc1ccccc1NC(=O)Nc1ccc(CC(=O)N2C[C@@H](F)C[C@H]...              P26010   \n",
       "2  CN(C)Cc1ccccc1-c1ccc(C[C@H](NC(=O)c2ccccc2Cl)C...              P26010   \n",
       "3  Cc1cccc(Cl)c1C(=O)N[C@@H](Cc1ccc(NC(=O)c2c(Cl)...              P26010   \n",
       "4  COc1cnn(C)c(=O)c1-c1ccc(C[C@H](NC(=O)c2c(C)noc...              P26010   \n",
       "\n",
       "   NumericUniProtTargetLabels  \n",
       "0                           1  \n",
       "1                           1  \n",
       "2                           1  \n",
       "3                           1  \n",
       "4                           1  "
      ]
     },
     "execution_count": 159,
     "metadata": {},
     "output_type": "execute_result"
    }
   ],
   "source": [
    "curr_df.head(5)"
   ]
  },
  {
   "cell_type": "code",
   "execution_count": 160,
   "id": "b1999067-94db-432e-9893-fed22733ca12",
   "metadata": {},
   "outputs": [
    {
     "data": {
      "text/html": [
       "<div>\n",
       "<style scoped>\n",
       "    .dataframe tbody tr th:only-of-type {\n",
       "        vertical-align: middle;\n",
       "    }\n",
       "\n",
       "    .dataframe tbody tr th {\n",
       "        vertical-align: top;\n",
       "    }\n",
       "\n",
       "    .dataframe thead th {\n",
       "        text-align: right;\n",
       "    }\n",
       "</style>\n",
       "<table border=\"1\" class=\"dataframe\">\n",
       "  <thead>\n",
       "    <tr style=\"text-align: right;\">\n",
       "      <th></th>\n",
       "      <th>SMILES</th>\n",
       "      <th>NumericUniProtTargetLabels</th>\n",
       "    </tr>\n",
       "  </thead>\n",
       "  <tbody>\n",
       "    <tr>\n",
       "      <th>0</th>\n",
       "      <td>COc1ccccc1-c1ccc(C[C@H](NC(=O)c2ccccc2Cl)C(=O)...</td>\n",
       "      <td>1</td>\n",
       "    </tr>\n",
       "    <tr>\n",
       "      <th>1</th>\n",
       "      <td>Cc1ccccc1NC(=O)Nc1ccc(CC(=O)N2C[C@@H](F)C[C@H]...</td>\n",
       "      <td>1</td>\n",
       "    </tr>\n",
       "  </tbody>\n",
       "</table>\n",
       "</div>"
      ],
      "text/plain": [
       "                                              SMILES  \\\n",
       "0  COc1ccccc1-c1ccc(C[C@H](NC(=O)c2ccccc2Cl)C(=O)...   \n",
       "1  Cc1ccccc1NC(=O)Nc1ccc(CC(=O)N2C[C@@H](F)C[C@H]...   \n",
       "\n",
       "   NumericUniProtTargetLabels  \n",
       "0                           1  \n",
       "1                           1  "
      ]
     },
     "execution_count": 160,
     "metadata": {},
     "output_type": "execute_result"
    }
   ],
   "source": [
    "df_for_model = curr_df.drop('UniProtTargetLabels', axis=1)\n",
    "\n",
    "df_for_model.head(2)"
   ]
  },
  {
   "cell_type": "markdown",
   "id": "73eb98e5-0ae5-4b51-a490-90e906171a6d",
   "metadata": {},
   "source": [
    "##### Generate Fetures by Molecule SMILES Using RDKitDescriptors Method #####"
   ]
  },
  {
   "cell_type": "code",
   "execution_count": 161,
   "id": "6ea7064c-6dab-47fd-8744-18d09b10ada6",
   "metadata": {},
   "outputs": [],
   "source": [
    "from rdkit import Chem\n",
    "from rdkit.Chem import Descriptors"
   ]
  },
  {
   "cell_type": "code",
   "execution_count": 162,
   "id": "0be6d43d-d2c2-4ecc-af6a-79810fff6b5b",
   "metadata": {},
   "outputs": [],
   "source": [
    "def calculate_descriptors(smiles):\n",
    "    mol = Chem.MolFromSmiles(smiles)\n",
    "    if mol is not None:\n",
    "        descriptors = [\n",
    "            Descriptors.MolWt(mol),\n",
    "            Descriptors.NumValenceElectrons(mol),\n",
    "            Descriptors.TPSA(mol),\n",
    "            Descriptors.MolLogP(mol),\n",
    "            Descriptors.NumHeteroatoms(mol),\n",
    "            Descriptors.NumRotatableBonds(mol),\n",
    "            Descriptors.HeavyAtomCount(mol),\n",
    "            Descriptors.FractionCSP3(mol)\n",
    "        ]\n",
    "        return descriptors\n",
    "    else:\n",
    "        return [None] * 8  # Return None for each descriptor if SMILES cannot be parsed"
   ]
  },
  {
   "cell_type": "code",
   "execution_count": 163,
   "id": "0ce3c0b6-0a42-436e-bc54-11fb0800eba0",
   "metadata": {},
   "outputs": [],
   "source": [
    "def GenerateFeaturesByMoleculeSMILES(df) -> pd.DataFrame:\n",
    "    \"\"\"\n",
    "\n",
    "\n",
    "    \"\"\"\n",
    "    # Apply the `calculate_descriptors` method in order to generate 8 new features for df\n",
    "    df['MolecularDescriptors'] = df['SMILES'].apply(calculate_descriptors)\n",
    "\n",
    "    # Transfer the array at each row under the 'MolecularDescriptors' column into column with their corresponding names & drop the colunn\n",
    "    df[['MolWt', 'NumValenceElectrons', 'TPSA', 'MolLogP', 'NumHeteroatoms', 'NumRotatableBonds', 'HeavyAtomCount', 'FractionCSP3']] = pd.DataFrame(df['MolecularDescriptors'].tolist(), index=df.index)\n",
    "    df.drop(columns=['MolecularDescriptors'], axis=1, inplace=True)\n",
    "\n",
    "    # Reorder the columns names so that the label column will be the last column in df\n",
    "    df = df[['SMILES', 'MolWt', 'NumValenceElectrons', 'TPSA', 'MolLogP', 'NumHeteroatoms', 'NumRotatableBonds', 'HeavyAtomCount', 'FractionCSP3', 'NumericUniProtTargetLabels']]\n",
    "\n",
    "    return df"
   ]
  },
  {
   "cell_type": "code",
   "execution_count": 164,
   "id": "25587c9c-e488-4239-a780-cc424f961f21",
   "metadata": {},
   "outputs": [],
   "source": [
    "df_1 = GenerateFeaturesByMoleculeSMILES(df_for_model)"
   ]
  },
  {
   "cell_type": "code",
   "execution_count": 165,
   "id": "6bdda107-04cd-49a7-a26b-4b2e4739e54c",
   "metadata": {},
   "outputs": [
    {
     "data": {
      "text/html": [
       "<div>\n",
       "<style scoped>\n",
       "    .dataframe tbody tr th:only-of-type {\n",
       "        vertical-align: middle;\n",
       "    }\n",
       "\n",
       "    .dataframe tbody tr th {\n",
       "        vertical-align: top;\n",
       "    }\n",
       "\n",
       "    .dataframe thead th {\n",
       "        text-align: right;\n",
       "    }\n",
       "</style>\n",
       "<table border=\"1\" class=\"dataframe\">\n",
       "  <thead>\n",
       "    <tr style=\"text-align: right;\">\n",
       "      <th></th>\n",
       "      <th>SMILES</th>\n",
       "      <th>MolWt</th>\n",
       "      <th>NumValenceElectrons</th>\n",
       "      <th>TPSA</th>\n",
       "      <th>MolLogP</th>\n",
       "      <th>NumHeteroatoms</th>\n",
       "      <th>NumRotatableBonds</th>\n",
       "      <th>HeavyAtomCount</th>\n",
       "      <th>FractionCSP3</th>\n",
       "      <th>NumericUniProtTargetLabels</th>\n",
       "    </tr>\n",
       "  </thead>\n",
       "  <tbody>\n",
       "    <tr>\n",
       "      <th>0</th>\n",
       "      <td>COc1ccccc1-c1ccc(C[C@H](NC(=O)c2ccccc2Cl)C(=O)...</td>\n",
       "      <td>409.869</td>\n",
       "      <td>148</td>\n",
       "      <td>75.63</td>\n",
       "      <td>4.44130</td>\n",
       "      <td>6</td>\n",
       "      <td>7</td>\n",
       "      <td>29</td>\n",
       "      <td>0.130435</td>\n",
       "      <td>1</td>\n",
       "    </tr>\n",
       "    <tr>\n",
       "      <th>1</th>\n",
       "      <td>Cc1ccccc1NC(=O)Nc1ccc(CC(=O)N2C[C@@H](F)C[C@H]...</td>\n",
       "      <td>539.991</td>\n",
       "      <td>198</td>\n",
       "      <td>107.97</td>\n",
       "      <td>5.55112</td>\n",
       "      <td>10</td>\n",
       "      <td>8</td>\n",
       "      <td>38</td>\n",
       "      <td>0.250000</td>\n",
       "      <td>1</td>\n",
       "    </tr>\n",
       "    <tr>\n",
       "      <th>2</th>\n",
       "      <td>CN(C)Cc1ccccc1-c1ccc(C[C@H](NC(=O)c2ccccc2Cl)C...</td>\n",
       "      <td>436.939</td>\n",
       "      <td>160</td>\n",
       "      <td>69.64</td>\n",
       "      <td>4.49430</td>\n",
       "      <td>6</td>\n",
       "      <td>8</td>\n",
       "      <td>31</td>\n",
       "      <td>0.200000</td>\n",
       "      <td>1</td>\n",
       "    </tr>\n",
       "  </tbody>\n",
       "</table>\n",
       "</div>"
      ],
      "text/plain": [
       "                                              SMILES    MolWt  \\\n",
       "0  COc1ccccc1-c1ccc(C[C@H](NC(=O)c2ccccc2Cl)C(=O)...  409.869   \n",
       "1  Cc1ccccc1NC(=O)Nc1ccc(CC(=O)N2C[C@@H](F)C[C@H]...  539.991   \n",
       "2  CN(C)Cc1ccccc1-c1ccc(C[C@H](NC(=O)c2ccccc2Cl)C...  436.939   \n",
       "\n",
       "   NumValenceElectrons    TPSA  MolLogP  NumHeteroatoms  NumRotatableBonds  \\\n",
       "0                  148   75.63  4.44130               6                  7   \n",
       "1                  198  107.97  5.55112              10                  8   \n",
       "2                  160   69.64  4.49430               6                  8   \n",
       "\n",
       "   HeavyAtomCount  FractionCSP3  NumericUniProtTargetLabels  \n",
       "0              29      0.130435                           1  \n",
       "1              38      0.250000                           1  \n",
       "2              31      0.200000                           1  "
      ]
     },
     "execution_count": 165,
     "metadata": {},
     "output_type": "execute_result"
    }
   ],
   "source": [
    "df_1.head(3)"
   ]
  },
  {
   "cell_type": "code",
   "execution_count": 166,
   "id": "6cbe9d98-932f-4784-b17c-f3d9628ebdac",
   "metadata": {},
   "outputs": [
    {
     "name": "stdout",
     "output_type": "stream",
     "text": [
      "~~~~~~~~~~~~~~~~~~~~~~~~~~~~~~~~~~~~~~~~~~~~~~~~~~~~~~~~~~~~~~~~~~~~~~~~~~~~~~~~\n",
      "Set of data frame columns after generating new features by molecules SMILES are:\n",
      "\n",
      "['SMILES', 'MolWt', 'NumValenceElectrons', 'TPSA', 'MolLogP', 'NumHeteroatoms', 'NumRotatableBonds', 'HeavyAtomCount', 'FractionCSP3', 'NumericUniProtTargetLabels']\n",
      "\n",
      "Numer of column: 10\n",
      "~~~~~~~~~~~~~~~~~~~~~~~~~~~~~~~~~~~~~~~~~~~~~~~~~~~~~~~~~~~~~~~~~~~~~~~~~~~~~~~~\n"
     ]
    }
   ],
   "source": [
    "PRINT(f'Set of data frame columns after generating new features by molecules SMILES are:\\n\\n{list(df_1.columns)}\\n\\nNumer of column: {len(list(df_1.columns))}')"
   ]
  },
  {
   "cell_type": "markdown",
   "id": "f17fba95-1424-45a3-b1ec-5a879edf15d2",
   "metadata": {},
   "source": [
    "##### Building Random Forest Model #####"
   ]
  },
  {
   "cell_type": "code",
   "execution_count": 311,
   "id": "883c72ce-57ea-4f4d-9ea6-f242aa69d576",
   "metadata": {},
   "outputs": [],
   "source": [
    "def GenerateRandomForestModel(df, not_balanced):\n",
    "    \"\"\"\n",
    "\n",
    "\n",
    "    \"\"\"\n",
    "    \n",
    "    # Drop non-numeric column 'SMILES' and the labels column\n",
    "    X = df.drop(['SMILES', 'NumericUniProtTargetLabels'], axis=1)\n",
    "    y = df['NumericUniProtTargetLabels']\n",
    "    \n",
    "    # Split the dataset into training and test sets\n",
    "    X_train, X_test, y_train, y_test = train_test_split(X, y, test_size=0.2, random_state=42)\n",
    "    \n",
    "    # Create a Random Forest classifier\n",
    "    if not_balanced:\n",
    "        rf_model = RandomForestClassifier(class_weight='balanced', random_state=42)\n",
    "    else:\n",
    "        rf_model = RandomForestClassifier(random_state=42)\n",
    "    \n",
    "    # Use StratifiedKFold for cross-validation\n",
    "    stratified_kfold = StratifiedKFold(n_splits=5, shuffle=True, random_state=42)\n",
    "    \n",
    "    # Define a parameter distribution\n",
    "    param_grid = {\n",
    "        'n_estimators': [50, 100, 150, 200],\n",
    "        'max_depth': [None, 10, 20, 30],\n",
    "        'min_samples_split': [2, 5, 10, 15],\n",
    "        'min_samples_leaf': [1, 2, 4, 8]\n",
    "    }\n",
    "    \n",
    "    # Use a custom scoring function (weighted F1) for GridSearchCV\n",
    "    scoring = make_scorer(f1_score, average='weighted')\n",
    "    \n",
    "    # Perform GridSearchCV with StratifiedKFold\n",
    "    grid_search = GridSearchCV(rf_model, param_grid, cv=stratified_kfold, scoring=scoring)\n",
    "    grid_search.fit(X_train, y_train)\n",
    "    \n",
    "    # Get the best hyperparameters\n",
    "    best_params = grid_search.best_params_\n",
    "    \n",
    "    # Create a Random Forest classifier with the best hyperparameters\n",
    "    if not_balanced:\n",
    "        best_rf_model = RandomForestClassifier(class_weight='balanced', random_state=42, **best_params)\n",
    "    else:\n",
    "        best_rf_model = RandomForestClassifier(random_state=42, **best_params)\n",
    "        \n",
    "    # Train the model on the entire training set\n",
    "    best_rf_model.fit(X_train, y_train)\n",
    "    \n",
    "    # Make predictions on the test set\n",
    "    y_test_pred = best_rf_model.predict(X_test)\n",
    "    \n",
    "    # Evaluate the model on the test set\n",
    "    accuracy_test = accuracy_score(y_test, y_test_pred)\n",
    "    precision_test = precision_score(y_test, y_test_pred, average='weighted')\n",
    "    recall_test = recall_score(y_test, y_test_pred, average='weighted')\n",
    "    f1_test = f1_score(y_test, y_test_pred, average='weighted')\n",
    "    conf_matrix_test = confusion_matrix(y_test, y_test_pred)\n",
    "    \n",
    "    # Return the trained model and evaluation metrics\n",
    "    return best_rf_model, {\n",
    "        'accuracy': accuracy_test,\n",
    "        'precision': precision_test,\n",
    "        'recall': recall_test,\n",
    "        'f1_score': f1_test,\n",
    "        'confusion_matrix': conf_matrix_test.tolist()\n",
    "    }\n"
   ]
  },
  {
   "cell_type": "code",
   "execution_count": 314,
   "id": "56910c8d-fdf4-46da-b9aa-36724f6f200a",
   "metadata": {},
   "outputs": [
    {
     "data": {
      "text/plain": [
       "Index(['SMILES', 'MolWt', 'NumValenceElectrons', 'TPSA', 'MolLogP',\n",
       "       'NumHeteroatoms', 'NumRotatableBonds', 'HeavyAtomCount', 'FractionCSP3',\n",
       "       'NumericUniProtTargetLabels'],\n",
       "      dtype='object')"
      ]
     },
     "execution_count": 314,
     "metadata": {},
     "output_type": "execute_result"
    }
   ],
   "source": [
    "df_1.columns"
   ]
  },
  {
   "cell_type": "code",
   "execution_count": 315,
   "id": "0620fed0-72c7-42e1-ae94-089ec6c20036",
   "metadata": {},
   "outputs": [],
   "source": [
    "model_dict_rf = GenerateRandomForestModel(df=df_1, not_balanced=True)"
   ]
  },
  {
   "cell_type": "code",
   "execution_count": 332,
   "id": "5c2cb407-fd27-4264-b542-6f7c29d95cb4",
   "metadata": {},
   "outputs": [
    {
     "name": "stdout",
     "output_type": "stream",
     "text": [
      "~~~~~~~~~~~~~~~~~~~~~~~~~~~~~~~~~~~~~~~~~~~~~~~~~~~~~~~~~~~~~~~~~~~~~~~~~~~~~~~~\n",
      "Model Dictionary:\n",
      "~~~~~~~~~~~~~~~~~~~~~~~~~~~~~~~~~~~~~~~~~~~~~~~~~~~~~~~~~~~~~~~~~~~~~~~~~~~~~~~~\n",
      "accuracy: 0.6556962025316456\n",
      "precision: 0.7106873898413717\n",
      "recall: 0.6556962025316456\n",
      "f1_score: 0.6725860909718059\n",
      "confusion_matrix: [[195, 94], [42, 64]]\n",
      "~~~~~~~~~~~~~~~~~~~~~~~~~~~~~~~~~~~~~~~~~~~~~~~~~~~~~~~~~~~~~~~~~~~~~~~~~~~~~~~~\n",
      "Done.\n",
      "~~~~~~~~~~~~~~~~~~~~~~~~~~~~~~~~~~~~~~~~~~~~~~~~~~~~~~~~~~~~~~~~~~~~~~~~~~~~~~~~\n"
     ]
    }
   ],
   "source": [
    "PRINT('Model Dictionary:')\n",
    "print_dict_meaningful(model_dict[1])\n",
    "PRINT('Done.')"
   ]
  },
  {
   "cell_type": "markdown",
   "id": "627ce759-096b-45f5-bd10-933d8ae3b8d5",
   "metadata": {},
   "source": [
    "##### Building XGBoost Model ##### "
   ]
  },
  {
   "cell_type": "code",
   "execution_count": 341,
   "id": "347da65c-a644-467f-b8d4-24e0c56249be",
   "metadata": {},
   "outputs": [],
   "source": [
    "import xgboost as xgb\n",
    "from sklearn.model_selection import train_test_split, GridSearchCV, StratifiedKFold\n",
    "from sklearn.metrics import make_scorer, accuracy_score, precision_score, recall_score, f1_score, confusion_matrix, classification_report\n",
    "\n",
    "def GenerateXGBoostModel(df):\n",
    "    \n",
    "    # Drop non-numeric column 'SMILES' and the labels column\n",
    "    X = df.drop(['SMILES', 'NumericUniProtTargetLabels'], axis=1)\n",
    "    y = df['NumericUniProtTargetLabels']\n",
    "    \n",
    "    # Split the dataset into training and test sets\n",
    "    X_train, X_test, y_train, y_test = train_test_split(X, y, test_size=0.2, random_state=42)\n",
    "    print('test')\n",
    "    # Create an XGBoost classifier\n",
    "    xgb_model = xgb.XGBClassifier(objective='multi:softmax', num_class=len(set(y_train)), random_state=42)\n",
    "    \n",
    "    # Use StratifiedKFold for cross-validation\n",
    "    stratified_kfold = StratifiedKFold(n_splits=5, shuffle=True, random_state=42)\n",
    "    \n",
    "    # Define an extended parameter distribution\n",
    "    param_grid = {\n",
    "        'n_estimators': [50, 100, 150, 200],\n",
    "        'max_depth': [3, 5, 7, 9],\n",
    "        'learning_rate': [0.01, 0.1, 0.2, 0.3],\n",
    "        'subsample': [0.8, 0.9, 1.0],\n",
    "        'colsample_bytree': [0.8, 0.9, 1.0],\n",
    "        'gamma': [0, 0.1, 0.2, 0.3],\n",
    "        'min_child_weight': [1, 3, 5, 7],\n",
    "        'reg_alpha': [0, 0.1, 0.5, 1],\n",
    "        'reg_lambda': [0, 0.1, 0.5, 1]\n",
    "    }\n",
    "    \n",
    "    # Use a custom scoring function (weighted F1) for GridSearchCV\n",
    "    scoring = make_scorer(f1_score, average='weighted')\n",
    "    \n",
    "    # Perform GridSearchCV with StratifiedKFold\n",
    "    grid_search = GridSearchCV(xgb_model, param_grid, cv=stratified_kfold, scoring=scoring)\n",
    "    grid_search.fit(X_train, y_train)\n",
    "    \n",
    "    # Get the best hyperparameters\n",
    "    best_params = grid_search.best_params_\n",
    "    \n",
    "    # Create an XGBoost classifier with the best hyperparameters\n",
    "    best_xgb_model = xgb.XGBClassifier(objective='multi:softmax', num_class=len(set(y_train)), random_state=42, **best_params)\n",
    "        \n",
    "    # Train the model on the entire training set\n",
    "    best_xgb_model.fit(X_train, y_train)\n",
    "    \n",
    "    # Make predictions on the test set\n",
    "    y_test_pred = best_xgb_model.predict(X_test)\n",
    "    \n",
    "    # Evaluate the model on the test set\n",
    "    accuracy_test = accuracy_score(y_test, y_test_pred)\n",
    "    precision_test = precision_score(y_test, y_test_pred, average='weighted')\n",
    "    recall_test = recall_score(y_test, y_test_pred, average='weighted')\n",
    "    f1_test = f1_score(y_test, y_test_pred, average='weighted')\n",
    "    conf_matrix_test = confusion_matrix(y_test, y_test_pred)\n",
    "    \n",
    "    # Print the classification report\n",
    "    print('Classification Report:')\n",
    "    print(classification_report(y_test, y_test_pred))\n",
    "       \n",
    "    # Return the trained model and evaluation metrics\n",
    "    return best_xgb_model, {\n",
    "        'accuracy': accuracy_test,\n",
    "        'precision': precision_test,\n",
    "        'recall': recall_test,\n",
    "        'f1_score': f1_test,\n",
    "        'confusion_matrix': conf_matrix_test.tolist()\n",
    "    }\n"
   ]
  },
  {
   "cell_type": "code",
   "execution_count": 342,
   "id": "508778fb-0a53-4c7f-a254-fa337e89f32c",
   "metadata": {},
   "outputs": [
    {
     "name": "stdout",
     "output_type": "stream",
     "text": [
      "test\n"
     ]
    },
    {
     "ename": "KeyboardInterrupt",
     "evalue": "",
     "output_type": "error",
     "traceback": [
      "\u001b[1;31m---------------------------------------------------------------------------\u001b[0m",
      "\u001b[1;31mKeyboardInterrupt\u001b[0m                         Traceback (most recent call last)",
      "Cell \u001b[1;32mIn[342], line 1\u001b[0m\n\u001b[1;32m----> 1\u001b[0m model_dict_xgb \u001b[38;5;241m=\u001b[39m GenerateXGBoostModel(df\u001b[38;5;241m=\u001b[39mdf_1)\n",
      "Cell \u001b[1;32mIn[341], line 38\u001b[0m, in \u001b[0;36mGenerateXGBoostModel\u001b[1;34m(df)\u001b[0m\n\u001b[0;32m     36\u001b[0m \u001b[38;5;66;03m# Perform GridSearchCV with StratifiedKFold\u001b[39;00m\n\u001b[0;32m     37\u001b[0m grid_search \u001b[38;5;241m=\u001b[39m GridSearchCV(xgb_model, param_grid, cv\u001b[38;5;241m=\u001b[39mstratified_kfold, scoring\u001b[38;5;241m=\u001b[39mscoring)\n\u001b[1;32m---> 38\u001b[0m grid_search\u001b[38;5;241m.\u001b[39mfit(X_train, y_train)\n\u001b[0;32m     40\u001b[0m \u001b[38;5;66;03m# Get the best hyperparameters\u001b[39;00m\n\u001b[0;32m     41\u001b[0m best_params \u001b[38;5;241m=\u001b[39m grid_search\u001b[38;5;241m.\u001b[39mbest_params_\n",
      "File \u001b[1;32m~\\anaconda3\\Lib\\site-packages\\sklearn\\model_selection\\_search.py:874\u001b[0m, in \u001b[0;36mBaseSearchCV.fit\u001b[1;34m(self, X, y, groups, **fit_params)\u001b[0m\n\u001b[0;32m    868\u001b[0m     results \u001b[38;5;241m=\u001b[39m \u001b[38;5;28mself\u001b[39m\u001b[38;5;241m.\u001b[39m_format_results(\n\u001b[0;32m    869\u001b[0m         all_candidate_params, n_splits, all_out, all_more_results\n\u001b[0;32m    870\u001b[0m     )\n\u001b[0;32m    872\u001b[0m     \u001b[38;5;28;01mreturn\u001b[39;00m results\n\u001b[1;32m--> 874\u001b[0m \u001b[38;5;28mself\u001b[39m\u001b[38;5;241m.\u001b[39m_run_search(evaluate_candidates)\n\u001b[0;32m    876\u001b[0m \u001b[38;5;66;03m# multimetric is determined here because in the case of a callable\u001b[39;00m\n\u001b[0;32m    877\u001b[0m \u001b[38;5;66;03m# self.scoring the return type is only known after calling\u001b[39;00m\n\u001b[0;32m    878\u001b[0m first_test_score \u001b[38;5;241m=\u001b[39m all_out[\u001b[38;5;241m0\u001b[39m][\u001b[38;5;124m\"\u001b[39m\u001b[38;5;124mtest_scores\u001b[39m\u001b[38;5;124m\"\u001b[39m]\n",
      "File \u001b[1;32m~\\anaconda3\\Lib\\site-packages\\sklearn\\model_selection\\_search.py:1388\u001b[0m, in \u001b[0;36mGridSearchCV._run_search\u001b[1;34m(self, evaluate_candidates)\u001b[0m\n\u001b[0;32m   1386\u001b[0m \u001b[38;5;28;01mdef\u001b[39;00m \u001b[38;5;21m_run_search\u001b[39m(\u001b[38;5;28mself\u001b[39m, evaluate_candidates):\n\u001b[0;32m   1387\u001b[0m \u001b[38;5;250m    \u001b[39m\u001b[38;5;124;03m\"\"\"Search all candidates in param_grid\"\"\"\u001b[39;00m\n\u001b[1;32m-> 1388\u001b[0m     evaluate_candidates(ParameterGrid(\u001b[38;5;28mself\u001b[39m\u001b[38;5;241m.\u001b[39mparam_grid))\n",
      "File \u001b[1;32m~\\anaconda3\\Lib\\site-packages\\sklearn\\model_selection\\_search.py:821\u001b[0m, in \u001b[0;36mBaseSearchCV.fit.<locals>.evaluate_candidates\u001b[1;34m(candidate_params, cv, more_results)\u001b[0m\n\u001b[0;32m    813\u001b[0m \u001b[38;5;28;01mif\u001b[39;00m \u001b[38;5;28mself\u001b[39m\u001b[38;5;241m.\u001b[39mverbose \u001b[38;5;241m>\u001b[39m \u001b[38;5;241m0\u001b[39m:\n\u001b[0;32m    814\u001b[0m     \u001b[38;5;28mprint\u001b[39m(\n\u001b[0;32m    815\u001b[0m         \u001b[38;5;124m\"\u001b[39m\u001b[38;5;124mFitting \u001b[39m\u001b[38;5;132;01m{0}\u001b[39;00m\u001b[38;5;124m folds for each of \u001b[39m\u001b[38;5;132;01m{1}\u001b[39;00m\u001b[38;5;124m candidates,\u001b[39m\u001b[38;5;124m\"\u001b[39m\n\u001b[0;32m    816\u001b[0m         \u001b[38;5;124m\"\u001b[39m\u001b[38;5;124m totalling \u001b[39m\u001b[38;5;132;01m{2}\u001b[39;00m\u001b[38;5;124m fits\u001b[39m\u001b[38;5;124m\"\u001b[39m\u001b[38;5;241m.\u001b[39mformat(\n\u001b[0;32m    817\u001b[0m             n_splits, n_candidates, n_candidates \u001b[38;5;241m*\u001b[39m n_splits\n\u001b[0;32m    818\u001b[0m         )\n\u001b[0;32m    819\u001b[0m     )\n\u001b[1;32m--> 821\u001b[0m out \u001b[38;5;241m=\u001b[39m parallel(\n\u001b[0;32m    822\u001b[0m     delayed(_fit_and_score)(\n\u001b[0;32m    823\u001b[0m         clone(base_estimator),\n\u001b[0;32m    824\u001b[0m         X,\n\u001b[0;32m    825\u001b[0m         y,\n\u001b[0;32m    826\u001b[0m         train\u001b[38;5;241m=\u001b[39mtrain,\n\u001b[0;32m    827\u001b[0m         test\u001b[38;5;241m=\u001b[39mtest,\n\u001b[0;32m    828\u001b[0m         parameters\u001b[38;5;241m=\u001b[39mparameters,\n\u001b[0;32m    829\u001b[0m         split_progress\u001b[38;5;241m=\u001b[39m(split_idx, n_splits),\n\u001b[0;32m    830\u001b[0m         candidate_progress\u001b[38;5;241m=\u001b[39m(cand_idx, n_candidates),\n\u001b[0;32m    831\u001b[0m         \u001b[38;5;241m*\u001b[39m\u001b[38;5;241m*\u001b[39mfit_and_score_kwargs,\n\u001b[0;32m    832\u001b[0m     )\n\u001b[0;32m    833\u001b[0m     \u001b[38;5;28;01mfor\u001b[39;00m (cand_idx, parameters), (split_idx, (train, test)) \u001b[38;5;129;01min\u001b[39;00m product(\n\u001b[0;32m    834\u001b[0m         \u001b[38;5;28menumerate\u001b[39m(candidate_params), \u001b[38;5;28menumerate\u001b[39m(cv\u001b[38;5;241m.\u001b[39msplit(X, y, groups))\n\u001b[0;32m    835\u001b[0m     )\n\u001b[0;32m    836\u001b[0m )\n\u001b[0;32m    838\u001b[0m \u001b[38;5;28;01mif\u001b[39;00m \u001b[38;5;28mlen\u001b[39m(out) \u001b[38;5;241m<\u001b[39m \u001b[38;5;241m1\u001b[39m:\n\u001b[0;32m    839\u001b[0m     \u001b[38;5;28;01mraise\u001b[39;00m \u001b[38;5;167;01mValueError\u001b[39;00m(\n\u001b[0;32m    840\u001b[0m         \u001b[38;5;124m\"\u001b[39m\u001b[38;5;124mNo fits were performed. \u001b[39m\u001b[38;5;124m\"\u001b[39m\n\u001b[0;32m    841\u001b[0m         \u001b[38;5;124m\"\u001b[39m\u001b[38;5;124mWas the CV iterator empty? \u001b[39m\u001b[38;5;124m\"\u001b[39m\n\u001b[0;32m    842\u001b[0m         \u001b[38;5;124m\"\u001b[39m\u001b[38;5;124mWere there no candidates?\u001b[39m\u001b[38;5;124m\"\u001b[39m\n\u001b[0;32m    843\u001b[0m     )\n",
      "File \u001b[1;32m~\\anaconda3\\Lib\\site-packages\\sklearn\\utils\\parallel.py:63\u001b[0m, in \u001b[0;36mParallel.__call__\u001b[1;34m(self, iterable)\u001b[0m\n\u001b[0;32m     58\u001b[0m config \u001b[38;5;241m=\u001b[39m get_config()\n\u001b[0;32m     59\u001b[0m iterable_with_config \u001b[38;5;241m=\u001b[39m (\n\u001b[0;32m     60\u001b[0m     (_with_config(delayed_func, config), args, kwargs)\n\u001b[0;32m     61\u001b[0m     \u001b[38;5;28;01mfor\u001b[39;00m delayed_func, args, kwargs \u001b[38;5;129;01min\u001b[39;00m iterable\n\u001b[0;32m     62\u001b[0m )\n\u001b[1;32m---> 63\u001b[0m \u001b[38;5;28;01mreturn\u001b[39;00m \u001b[38;5;28msuper\u001b[39m()\u001b[38;5;241m.\u001b[39m\u001b[38;5;21m__call__\u001b[39m(iterable_with_config)\n",
      "File \u001b[1;32m~\\anaconda3\\Lib\\site-packages\\joblib\\parallel.py:1088\u001b[0m, in \u001b[0;36mParallel.__call__\u001b[1;34m(self, iterable)\u001b[0m\n\u001b[0;32m   1085\u001b[0m \u001b[38;5;28;01mif\u001b[39;00m \u001b[38;5;28mself\u001b[39m\u001b[38;5;241m.\u001b[39mdispatch_one_batch(iterator):\n\u001b[0;32m   1086\u001b[0m     \u001b[38;5;28mself\u001b[39m\u001b[38;5;241m.\u001b[39m_iterating \u001b[38;5;241m=\u001b[39m \u001b[38;5;28mself\u001b[39m\u001b[38;5;241m.\u001b[39m_original_iterator \u001b[38;5;129;01mis\u001b[39;00m \u001b[38;5;129;01mnot\u001b[39;00m \u001b[38;5;28;01mNone\u001b[39;00m\n\u001b[1;32m-> 1088\u001b[0m \u001b[38;5;28;01mwhile\u001b[39;00m \u001b[38;5;28mself\u001b[39m\u001b[38;5;241m.\u001b[39mdispatch_one_batch(iterator):\n\u001b[0;32m   1089\u001b[0m     \u001b[38;5;28;01mpass\u001b[39;00m\n\u001b[0;32m   1091\u001b[0m \u001b[38;5;28;01mif\u001b[39;00m pre_dispatch \u001b[38;5;241m==\u001b[39m \u001b[38;5;124m\"\u001b[39m\u001b[38;5;124mall\u001b[39m\u001b[38;5;124m\"\u001b[39m \u001b[38;5;129;01mor\u001b[39;00m n_jobs \u001b[38;5;241m==\u001b[39m \u001b[38;5;241m1\u001b[39m:\n\u001b[0;32m   1092\u001b[0m     \u001b[38;5;66;03m# The iterable was consumed all at once by the above for loop.\u001b[39;00m\n\u001b[0;32m   1093\u001b[0m     \u001b[38;5;66;03m# No need to wait for async callbacks to trigger to\u001b[39;00m\n\u001b[0;32m   1094\u001b[0m     \u001b[38;5;66;03m# consumption.\u001b[39;00m\n",
      "File \u001b[1;32m~\\anaconda3\\Lib\\site-packages\\joblib\\parallel.py:901\u001b[0m, in \u001b[0;36mParallel.dispatch_one_batch\u001b[1;34m(self, iterator)\u001b[0m\n\u001b[0;32m    899\u001b[0m     \u001b[38;5;28;01mreturn\u001b[39;00m \u001b[38;5;28;01mFalse\u001b[39;00m\n\u001b[0;32m    900\u001b[0m \u001b[38;5;28;01melse\u001b[39;00m:\n\u001b[1;32m--> 901\u001b[0m     \u001b[38;5;28mself\u001b[39m\u001b[38;5;241m.\u001b[39m_dispatch(tasks)\n\u001b[0;32m    902\u001b[0m     \u001b[38;5;28;01mreturn\u001b[39;00m \u001b[38;5;28;01mTrue\u001b[39;00m\n",
      "File \u001b[1;32m~\\anaconda3\\Lib\\site-packages\\joblib\\parallel.py:819\u001b[0m, in \u001b[0;36mParallel._dispatch\u001b[1;34m(self, batch)\u001b[0m\n\u001b[0;32m    817\u001b[0m \u001b[38;5;28;01mwith\u001b[39;00m \u001b[38;5;28mself\u001b[39m\u001b[38;5;241m.\u001b[39m_lock:\n\u001b[0;32m    818\u001b[0m     job_idx \u001b[38;5;241m=\u001b[39m \u001b[38;5;28mlen\u001b[39m(\u001b[38;5;28mself\u001b[39m\u001b[38;5;241m.\u001b[39m_jobs)\n\u001b[1;32m--> 819\u001b[0m     job \u001b[38;5;241m=\u001b[39m \u001b[38;5;28mself\u001b[39m\u001b[38;5;241m.\u001b[39m_backend\u001b[38;5;241m.\u001b[39mapply_async(batch, callback\u001b[38;5;241m=\u001b[39mcb)\n\u001b[0;32m    820\u001b[0m     \u001b[38;5;66;03m# A job can complete so quickly than its callback is\u001b[39;00m\n\u001b[0;32m    821\u001b[0m     \u001b[38;5;66;03m# called before we get here, causing self._jobs to\u001b[39;00m\n\u001b[0;32m    822\u001b[0m     \u001b[38;5;66;03m# grow. To ensure correct results ordering, .insert is\u001b[39;00m\n\u001b[0;32m    823\u001b[0m     \u001b[38;5;66;03m# used (rather than .append) in the following line\u001b[39;00m\n\u001b[0;32m    824\u001b[0m     \u001b[38;5;28mself\u001b[39m\u001b[38;5;241m.\u001b[39m_jobs\u001b[38;5;241m.\u001b[39minsert(job_idx, job)\n",
      "File \u001b[1;32m~\\anaconda3\\Lib\\site-packages\\joblib\\_parallel_backends.py:208\u001b[0m, in \u001b[0;36mSequentialBackend.apply_async\u001b[1;34m(self, func, callback)\u001b[0m\n\u001b[0;32m    206\u001b[0m \u001b[38;5;28;01mdef\u001b[39;00m \u001b[38;5;21mapply_async\u001b[39m(\u001b[38;5;28mself\u001b[39m, func, callback\u001b[38;5;241m=\u001b[39m\u001b[38;5;28;01mNone\u001b[39;00m):\n\u001b[0;32m    207\u001b[0m \u001b[38;5;250m    \u001b[39m\u001b[38;5;124;03m\"\"\"Schedule a func to be run\"\"\"\u001b[39;00m\n\u001b[1;32m--> 208\u001b[0m     result \u001b[38;5;241m=\u001b[39m ImmediateResult(func)\n\u001b[0;32m    209\u001b[0m     \u001b[38;5;28;01mif\u001b[39;00m callback:\n\u001b[0;32m    210\u001b[0m         callback(result)\n",
      "File \u001b[1;32m~\\anaconda3\\Lib\\site-packages\\joblib\\_parallel_backends.py:597\u001b[0m, in \u001b[0;36mImmediateResult.__init__\u001b[1;34m(self, batch)\u001b[0m\n\u001b[0;32m    594\u001b[0m \u001b[38;5;28;01mdef\u001b[39;00m \u001b[38;5;21m__init__\u001b[39m(\u001b[38;5;28mself\u001b[39m, batch):\n\u001b[0;32m    595\u001b[0m     \u001b[38;5;66;03m# Don't delay the application, to avoid keeping the input\u001b[39;00m\n\u001b[0;32m    596\u001b[0m     \u001b[38;5;66;03m# arguments in memory\u001b[39;00m\n\u001b[1;32m--> 597\u001b[0m     \u001b[38;5;28mself\u001b[39m\u001b[38;5;241m.\u001b[39mresults \u001b[38;5;241m=\u001b[39m batch()\n",
      "File \u001b[1;32m~\\anaconda3\\Lib\\site-packages\\joblib\\parallel.py:288\u001b[0m, in \u001b[0;36mBatchedCalls.__call__\u001b[1;34m(self)\u001b[0m\n\u001b[0;32m    284\u001b[0m \u001b[38;5;28;01mdef\u001b[39;00m \u001b[38;5;21m__call__\u001b[39m(\u001b[38;5;28mself\u001b[39m):\n\u001b[0;32m    285\u001b[0m     \u001b[38;5;66;03m# Set the default nested backend to self._backend but do not set the\u001b[39;00m\n\u001b[0;32m    286\u001b[0m     \u001b[38;5;66;03m# change the default number of processes to -1\u001b[39;00m\n\u001b[0;32m    287\u001b[0m     \u001b[38;5;28;01mwith\u001b[39;00m parallel_backend(\u001b[38;5;28mself\u001b[39m\u001b[38;5;241m.\u001b[39m_backend, n_jobs\u001b[38;5;241m=\u001b[39m\u001b[38;5;28mself\u001b[39m\u001b[38;5;241m.\u001b[39m_n_jobs):\n\u001b[1;32m--> 288\u001b[0m         \u001b[38;5;28;01mreturn\u001b[39;00m [func(\u001b[38;5;241m*\u001b[39margs, \u001b[38;5;241m*\u001b[39m\u001b[38;5;241m*\u001b[39mkwargs)\n\u001b[0;32m    289\u001b[0m                 \u001b[38;5;28;01mfor\u001b[39;00m func, args, kwargs \u001b[38;5;129;01min\u001b[39;00m \u001b[38;5;28mself\u001b[39m\u001b[38;5;241m.\u001b[39mitems]\n",
      "File \u001b[1;32m~\\anaconda3\\Lib\\site-packages\\joblib\\parallel.py:288\u001b[0m, in \u001b[0;36m<listcomp>\u001b[1;34m(.0)\u001b[0m\n\u001b[0;32m    284\u001b[0m \u001b[38;5;28;01mdef\u001b[39;00m \u001b[38;5;21m__call__\u001b[39m(\u001b[38;5;28mself\u001b[39m):\n\u001b[0;32m    285\u001b[0m     \u001b[38;5;66;03m# Set the default nested backend to self._backend but do not set the\u001b[39;00m\n\u001b[0;32m    286\u001b[0m     \u001b[38;5;66;03m# change the default number of processes to -1\u001b[39;00m\n\u001b[0;32m    287\u001b[0m     \u001b[38;5;28;01mwith\u001b[39;00m parallel_backend(\u001b[38;5;28mself\u001b[39m\u001b[38;5;241m.\u001b[39m_backend, n_jobs\u001b[38;5;241m=\u001b[39m\u001b[38;5;28mself\u001b[39m\u001b[38;5;241m.\u001b[39m_n_jobs):\n\u001b[1;32m--> 288\u001b[0m         \u001b[38;5;28;01mreturn\u001b[39;00m [func(\u001b[38;5;241m*\u001b[39margs, \u001b[38;5;241m*\u001b[39m\u001b[38;5;241m*\u001b[39mkwargs)\n\u001b[0;32m    289\u001b[0m                 \u001b[38;5;28;01mfor\u001b[39;00m func, args, kwargs \u001b[38;5;129;01min\u001b[39;00m \u001b[38;5;28mself\u001b[39m\u001b[38;5;241m.\u001b[39mitems]\n",
      "File \u001b[1;32m~\\anaconda3\\Lib\\site-packages\\sklearn\\utils\\parallel.py:123\u001b[0m, in \u001b[0;36m_FuncWrapper.__call__\u001b[1;34m(self, *args, **kwargs)\u001b[0m\n\u001b[0;32m    121\u001b[0m     config \u001b[38;5;241m=\u001b[39m {}\n\u001b[0;32m    122\u001b[0m \u001b[38;5;28;01mwith\u001b[39;00m config_context(\u001b[38;5;241m*\u001b[39m\u001b[38;5;241m*\u001b[39mconfig):\n\u001b[1;32m--> 123\u001b[0m     \u001b[38;5;28;01mreturn\u001b[39;00m \u001b[38;5;28mself\u001b[39m\u001b[38;5;241m.\u001b[39mfunction(\u001b[38;5;241m*\u001b[39margs, \u001b[38;5;241m*\u001b[39m\u001b[38;5;241m*\u001b[39mkwargs)\n",
      "File \u001b[1;32m~\\anaconda3\\Lib\\site-packages\\sklearn\\model_selection\\_validation.py:686\u001b[0m, in \u001b[0;36m_fit_and_score\u001b[1;34m(estimator, X, y, scorer, train, test, verbose, parameters, fit_params, return_train_score, return_parameters, return_n_test_samples, return_times, return_estimator, split_progress, candidate_progress, error_score)\u001b[0m\n\u001b[0;32m    684\u001b[0m         estimator\u001b[38;5;241m.\u001b[39mfit(X_train, \u001b[38;5;241m*\u001b[39m\u001b[38;5;241m*\u001b[39mfit_params)\n\u001b[0;32m    685\u001b[0m     \u001b[38;5;28;01melse\u001b[39;00m:\n\u001b[1;32m--> 686\u001b[0m         estimator\u001b[38;5;241m.\u001b[39mfit(X_train, y_train, \u001b[38;5;241m*\u001b[39m\u001b[38;5;241m*\u001b[39mfit_params)\n\u001b[0;32m    688\u001b[0m \u001b[38;5;28;01mexcept\u001b[39;00m \u001b[38;5;167;01mException\u001b[39;00m:\n\u001b[0;32m    689\u001b[0m     \u001b[38;5;66;03m# Note fit time as time until error\u001b[39;00m\n\u001b[0;32m    690\u001b[0m     fit_time \u001b[38;5;241m=\u001b[39m time\u001b[38;5;241m.\u001b[39mtime() \u001b[38;5;241m-\u001b[39m start_time\n",
      "File \u001b[1;32m~\\anaconda3\\Lib\\site-packages\\xgboost\\core.py:730\u001b[0m, in \u001b[0;36mrequire_keyword_args.<locals>.throw_if.<locals>.inner_f\u001b[1;34m(*args, **kwargs)\u001b[0m\n\u001b[0;32m    728\u001b[0m \u001b[38;5;28;01mfor\u001b[39;00m k, arg \u001b[38;5;129;01min\u001b[39;00m \u001b[38;5;28mzip\u001b[39m(sig\u001b[38;5;241m.\u001b[39mparameters, args):\n\u001b[0;32m    729\u001b[0m     kwargs[k] \u001b[38;5;241m=\u001b[39m arg\n\u001b[1;32m--> 730\u001b[0m \u001b[38;5;28;01mreturn\u001b[39;00m func(\u001b[38;5;241m*\u001b[39m\u001b[38;5;241m*\u001b[39mkwargs)\n",
      "File \u001b[1;32m~\\anaconda3\\Lib\\site-packages\\xgboost\\sklearn.py:1519\u001b[0m, in \u001b[0;36mXGBClassifier.fit\u001b[1;34m(self, X, y, sample_weight, base_margin, eval_set, eval_metric, early_stopping_rounds, verbose, xgb_model, sample_weight_eval_set, base_margin_eval_set, feature_weights, callbacks)\u001b[0m\n\u001b[0;32m   1491\u001b[0m (\n\u001b[0;32m   1492\u001b[0m     model,\n\u001b[0;32m   1493\u001b[0m     metric,\n\u001b[1;32m   (...)\u001b[0m\n\u001b[0;32m   1498\u001b[0m     xgb_model, eval_metric, params, early_stopping_rounds, callbacks\n\u001b[0;32m   1499\u001b[0m )\n\u001b[0;32m   1500\u001b[0m train_dmatrix, evals \u001b[38;5;241m=\u001b[39m _wrap_evaluation_matrices(\n\u001b[0;32m   1501\u001b[0m     missing\u001b[38;5;241m=\u001b[39m\u001b[38;5;28mself\u001b[39m\u001b[38;5;241m.\u001b[39mmissing,\n\u001b[0;32m   1502\u001b[0m     X\u001b[38;5;241m=\u001b[39mX,\n\u001b[1;32m   (...)\u001b[0m\n\u001b[0;32m   1516\u001b[0m     feature_types\u001b[38;5;241m=\u001b[39m\u001b[38;5;28mself\u001b[39m\u001b[38;5;241m.\u001b[39mfeature_types,\n\u001b[0;32m   1517\u001b[0m )\n\u001b[1;32m-> 1519\u001b[0m \u001b[38;5;28mself\u001b[39m\u001b[38;5;241m.\u001b[39m_Booster \u001b[38;5;241m=\u001b[39m train(\n\u001b[0;32m   1520\u001b[0m     params,\n\u001b[0;32m   1521\u001b[0m     train_dmatrix,\n\u001b[0;32m   1522\u001b[0m     \u001b[38;5;28mself\u001b[39m\u001b[38;5;241m.\u001b[39mget_num_boosting_rounds(),\n\u001b[0;32m   1523\u001b[0m     evals\u001b[38;5;241m=\u001b[39mevals,\n\u001b[0;32m   1524\u001b[0m     early_stopping_rounds\u001b[38;5;241m=\u001b[39mearly_stopping_rounds,\n\u001b[0;32m   1525\u001b[0m     evals_result\u001b[38;5;241m=\u001b[39mevals_result,\n\u001b[0;32m   1526\u001b[0m     obj\u001b[38;5;241m=\u001b[39mobj,\n\u001b[0;32m   1527\u001b[0m     custom_metric\u001b[38;5;241m=\u001b[39mmetric,\n\u001b[0;32m   1528\u001b[0m     verbose_eval\u001b[38;5;241m=\u001b[39mverbose,\n\u001b[0;32m   1529\u001b[0m     xgb_model\u001b[38;5;241m=\u001b[39mmodel,\n\u001b[0;32m   1530\u001b[0m     callbacks\u001b[38;5;241m=\u001b[39mcallbacks,\n\u001b[0;32m   1531\u001b[0m )\n\u001b[0;32m   1533\u001b[0m \u001b[38;5;28;01mif\u001b[39;00m \u001b[38;5;129;01mnot\u001b[39;00m \u001b[38;5;28mcallable\u001b[39m(\u001b[38;5;28mself\u001b[39m\u001b[38;5;241m.\u001b[39mobjective):\n\u001b[0;32m   1534\u001b[0m     \u001b[38;5;28mself\u001b[39m\u001b[38;5;241m.\u001b[39mobjective \u001b[38;5;241m=\u001b[39m params[\u001b[38;5;124m\"\u001b[39m\u001b[38;5;124mobjective\u001b[39m\u001b[38;5;124m\"\u001b[39m]\n",
      "File \u001b[1;32m~\\anaconda3\\Lib\\site-packages\\xgboost\\core.py:730\u001b[0m, in \u001b[0;36mrequire_keyword_args.<locals>.throw_if.<locals>.inner_f\u001b[1;34m(*args, **kwargs)\u001b[0m\n\u001b[0;32m    728\u001b[0m \u001b[38;5;28;01mfor\u001b[39;00m k, arg \u001b[38;5;129;01min\u001b[39;00m \u001b[38;5;28mzip\u001b[39m(sig\u001b[38;5;241m.\u001b[39mparameters, args):\n\u001b[0;32m    729\u001b[0m     kwargs[k] \u001b[38;5;241m=\u001b[39m arg\n\u001b[1;32m--> 730\u001b[0m \u001b[38;5;28;01mreturn\u001b[39;00m func(\u001b[38;5;241m*\u001b[39m\u001b[38;5;241m*\u001b[39mkwargs)\n",
      "File \u001b[1;32m~\\anaconda3\\Lib\\site-packages\\xgboost\\training.py:181\u001b[0m, in \u001b[0;36mtrain\u001b[1;34m(params, dtrain, num_boost_round, evals, obj, feval, maximize, early_stopping_rounds, evals_result, verbose_eval, xgb_model, callbacks, custom_metric)\u001b[0m\n\u001b[0;32m    179\u001b[0m \u001b[38;5;28;01mif\u001b[39;00m cb_container\u001b[38;5;241m.\u001b[39mbefore_iteration(bst, i, dtrain, evals):\n\u001b[0;32m    180\u001b[0m     \u001b[38;5;28;01mbreak\u001b[39;00m\n\u001b[1;32m--> 181\u001b[0m bst\u001b[38;5;241m.\u001b[39mupdate(dtrain, i, obj)\n\u001b[0;32m    182\u001b[0m \u001b[38;5;28;01mif\u001b[39;00m cb_container\u001b[38;5;241m.\u001b[39mafter_iteration(bst, i, dtrain, evals):\n\u001b[0;32m    183\u001b[0m     \u001b[38;5;28;01mbreak\u001b[39;00m\n",
      "File \u001b[1;32m~\\anaconda3\\Lib\\site-packages\\xgboost\\core.py:2051\u001b[0m, in \u001b[0;36mBooster.update\u001b[1;34m(self, dtrain, iteration, fobj)\u001b[0m\n\u001b[0;32m   2047\u001b[0m \u001b[38;5;28mself\u001b[39m\u001b[38;5;241m.\u001b[39m_assign_dmatrix_features(dtrain)\n\u001b[0;32m   2049\u001b[0m \u001b[38;5;28;01mif\u001b[39;00m fobj \u001b[38;5;129;01mis\u001b[39;00m \u001b[38;5;28;01mNone\u001b[39;00m:\n\u001b[0;32m   2050\u001b[0m     _check_call(\n\u001b[1;32m-> 2051\u001b[0m         _LIB\u001b[38;5;241m.\u001b[39mXGBoosterUpdateOneIter(\n\u001b[0;32m   2052\u001b[0m             \u001b[38;5;28mself\u001b[39m\u001b[38;5;241m.\u001b[39mhandle, ctypes\u001b[38;5;241m.\u001b[39mc_int(iteration), dtrain\u001b[38;5;241m.\u001b[39mhandle\n\u001b[0;32m   2053\u001b[0m         )\n\u001b[0;32m   2054\u001b[0m     )\n\u001b[0;32m   2055\u001b[0m \u001b[38;5;28;01melse\u001b[39;00m:\n\u001b[0;32m   2056\u001b[0m     pred \u001b[38;5;241m=\u001b[39m \u001b[38;5;28mself\u001b[39m\u001b[38;5;241m.\u001b[39mpredict(dtrain, output_margin\u001b[38;5;241m=\u001b[39m\u001b[38;5;28;01mTrue\u001b[39;00m, training\u001b[38;5;241m=\u001b[39m\u001b[38;5;28;01mTrue\u001b[39;00m)\n",
      "\u001b[1;31mKeyboardInterrupt\u001b[0m: "
     ]
    }
   ],
   "source": [
    "model_dict_xgb = GenerateXGBoostModel(df=df_1)"
   ]
  },
  {
   "cell_type": "markdown",
   "id": "63001815-794d-43ec-a326-aba02bded1d6",
   "metadata": {},
   "source": [
    "# TODO : The next code just in case i'll use SMILES augmentation, delete it at the end #"
   ]
  },
  {
   "cell_type": "code",
   "execution_count": 278,
   "id": "b2090a2f-ba20-4f2f-837e-c6dacc8277e0",
   "metadata": {},
   "outputs": [
    {
     "data": {
      "text/html": [
       "<div>\n",
       "<style scoped>\n",
       "    .dataframe tbody tr th:only-of-type {\n",
       "        vertical-align: middle;\n",
       "    }\n",
       "\n",
       "    .dataframe tbody tr th {\n",
       "        vertical-align: top;\n",
       "    }\n",
       "\n",
       "    .dataframe thead th {\n",
       "        text-align: right;\n",
       "    }\n",
       "</style>\n",
       "<table border=\"1\" class=\"dataframe\">\n",
       "  <thead>\n",
       "    <tr style=\"text-align: right;\">\n",
       "      <th></th>\n",
       "      <th>SMILES</th>\n",
       "      <th>NumericUniProtTargetLabels</th>\n",
       "    </tr>\n",
       "  </thead>\n",
       "  <tbody>\n",
       "    <tr>\n",
       "      <th>0</th>\n",
       "      <td>COc1ccccc1-c1ccc(C[C@H](NC(=O)c2ccccc2Cl)C(=O)...</td>\n",
       "      <td>1</td>\n",
       "    </tr>\n",
       "    <tr>\n",
       "      <th>1</th>\n",
       "      <td>Cc1ccccc1NC(=O)Nc1ccc(CC(=O)N2C[C@@H](F)C[C@H]...</td>\n",
       "      <td>1</td>\n",
       "    </tr>\n",
       "    <tr>\n",
       "      <th>2</th>\n",
       "      <td>CN(C)Cc1ccccc1-c1ccc(C[C@H](NC(=O)c2ccccc2Cl)C...</td>\n",
       "      <td>1</td>\n",
       "    </tr>\n",
       "  </tbody>\n",
       "</table>\n",
       "</div>"
      ],
      "text/plain": [
       "                                              SMILES  \\\n",
       "0  COc1ccccc1-c1ccc(C[C@H](NC(=O)c2ccccc2Cl)C(=O)...   \n",
       "1  Cc1ccccc1NC(=O)Nc1ccc(CC(=O)N2C[C@@H](F)C[C@H]...   \n",
       "2  CN(C)Cc1ccccc1-c1ccc(C[C@H](NC(=O)c2ccccc2Cl)C...   \n",
       "\n",
       "   NumericUniProtTargetLabels  \n",
       "0                           1  \n",
       "1                           1  \n",
       "2                           1  "
      ]
     },
     "execution_count": 278,
     "metadata": {},
     "output_type": "execute_result"
    }
   ],
   "source": [
    "test_df = curr_df.drop('UniProtTargetLabels', axis=1)\n",
    "\n",
    "test_df.head(3)"
   ]
  },
  {
   "cell_type": "code",
   "execution_count": 279,
   "id": "2e7f6f01-3ad7-498f-8d97-369126080e3e",
   "metadata": {},
   "outputs": [],
   "source": [
    "from rdkit import Chem\n",
    "from rdkit.Chem import AllChem\n",
    "import pandas as pd\n",
    "import numpy as np"
   ]
  },
  {
   "cell_type": "code",
   "execution_count": 280,
   "id": "6b5d7872-2b95-4a7e-9963-3759e8382b6e",
   "metadata": {},
   "outputs": [],
   "source": [
    "def augment_smiles(smiles, num_augmentations):\n",
    "    augmented_smiles = []\n",
    "    mol = Chem.MolFromSmiles(smiles)\n",
    "    if mol is not None:\n",
    "        # Apply RDKit transformations or modifications here for augmentation\n",
    "        # For example, you can perform random rotations, translations, etc.\n",
    "        augmented_mol = AllChem.EnumerateStereoisomers(mol)\n",
    "        for a_mol in augmented_mol:\n",
    "            augmented_smiles.append(Chem.MolToSmiles(a_mol))\n",
    "    return augmented_smiles"
   ]
  },
  {
   "cell_type": "code",
   "execution_count": 281,
   "id": "2738a7dd-080f-4bfe-abc8-1626713713ed",
   "metadata": {},
   "outputs": [],
   "source": [
    "augmented_data = {'SMILES': [], 'NumericUniProtTargetLabels': []}\n",
    "\n",
    "class_1_samples = test_df[test_df['NumericUniProtTargetLabels'] == 1]\n",
    "for _, row in class_1_samples.iterrows():\n",
    "    original_smiles = row['SMILES']\n",
    "    augmented_smiles = augment_smiles(original_smiles, num_samples_per_class)\n",
    "    augmented_data['SMILES'].extend(augmented_smiles)\n",
    "    augmented_data['NumericUniProtTargetLabels'].extend([1] * len(augmented_smiles))\n",
    "    \n",
    "aug_df = pd.DataFrame(augmented_data)\n",
    "\n",
    "# Shuffle auf_df to randomize the order of samples\n",
    "aug_df = aug_df.sample(frac=1, random_state=42).reset_index(drop=True)"
   ]
  },
  {
   "cell_type": "code",
   "execution_count": 267,
   "id": "c26c10bd-30bc-4461-a3f1-0639a3cbcf42",
   "metadata": {},
   "outputs": [
    {
     "data": {
      "text/html": [
       "<div>\n",
       "<style scoped>\n",
       "    .dataframe tbody tr th:only-of-type {\n",
       "        vertical-align: middle;\n",
       "    }\n",
       "\n",
       "    .dataframe tbody tr th {\n",
       "        vertical-align: top;\n",
       "    }\n",
       "\n",
       "    .dataframe thead th {\n",
       "        text-align: right;\n",
       "    }\n",
       "</style>\n",
       "<table border=\"1\" class=\"dataframe\">\n",
       "  <thead>\n",
       "    <tr style=\"text-align: right;\">\n",
       "      <th></th>\n",
       "      <th>SMILES</th>\n",
       "      <th>NumericUniProtTargetLabels</th>\n",
       "    </tr>\n",
       "  </thead>\n",
       "  <tbody>\n",
       "    <tr>\n",
       "      <th>0</th>\n",
       "      <td>C[C@@]1(C(=O)N[C@@H](Cc2ccc(-c3ncccc3C#N)cc2)C...</td>\n",
       "      <td>1</td>\n",
       "    </tr>\n",
       "    <tr>\n",
       "      <th>1</th>\n",
       "      <td>COc1cccc(OC)c1-c1ccc(C[C@H](NC(=O)[C@]2(C)O[C@...</td>\n",
       "      <td>1</td>\n",
       "    </tr>\n",
       "    <tr>\n",
       "      <th>2</th>\n",
       "      <td>CCN(CC)c1ncc(N(CC)S(C)(=O)=O)c(N[C@@H](Cc2ccc(...</td>\n",
       "      <td>1</td>\n",
       "    </tr>\n",
       "    <tr>\n",
       "      <th>3</th>\n",
       "      <td>CSCC[C@H](N)C(=O)N[C@@H](CC(=O)O)C(=O)N[C@H]1C...</td>\n",
       "      <td>1</td>\n",
       "    </tr>\n",
       "    <tr>\n",
       "      <th>4</th>\n",
       "      <td>CCN(CC)c1ncc(N(CC)C(=O)Nc2ccccc2)c(N[C@@H](Cc2...</td>\n",
       "      <td>1</td>\n",
       "    </tr>\n",
       "    <tr>\n",
       "      <th>...</th>\n",
       "      <td>...</td>\n",
       "      <td>...</td>\n",
       "    </tr>\n",
       "    <tr>\n",
       "      <th>554</th>\n",
       "      <td>Cc1cc(C[C@H](NC(=O)c2c(Cl)cccc2Cl)C(=O)O)ccc1-...</td>\n",
       "      <td>1</td>\n",
       "    </tr>\n",
       "    <tr>\n",
       "      <th>555</th>\n",
       "      <td>CSCC[C@H]1NC(=O)[C@H]([C@@H](C)O)NC(=O)[C@@H](...</td>\n",
       "      <td>1</td>\n",
       "    </tr>\n",
       "    <tr>\n",
       "      <th>556</th>\n",
       "      <td>COc1cccc(OC)c1-c1ccc(C[C@H](NC(=O)C2(S(=O)(=O)...</td>\n",
       "      <td>1</td>\n",
       "    </tr>\n",
       "    <tr>\n",
       "      <th>557</th>\n",
       "      <td>O=C(O)[C@H]1[C@@H]2CC[C@H](C2)[C@@H]1NC(=O)[C@...</td>\n",
       "      <td>1</td>\n",
       "    </tr>\n",
       "    <tr>\n",
       "      <th>558</th>\n",
       "      <td>C[C@@]1(C(=O)N[C@@H](Cc2ccc(-c3ccccc3S(C)(=O)=...</td>\n",
       "      <td>1</td>\n",
       "    </tr>\n",
       "  </tbody>\n",
       "</table>\n",
       "<p>559 rows × 2 columns</p>\n",
       "</div>"
      ],
      "text/plain": [
       "                                                SMILES  \\\n",
       "0    C[C@@]1(C(=O)N[C@@H](Cc2ccc(-c3ncccc3C#N)cc2)C...   \n",
       "1    COc1cccc(OC)c1-c1ccc(C[C@H](NC(=O)[C@]2(C)O[C@...   \n",
       "2    CCN(CC)c1ncc(N(CC)S(C)(=O)=O)c(N[C@@H](Cc2ccc(...   \n",
       "3    CSCC[C@H](N)C(=O)N[C@@H](CC(=O)O)C(=O)N[C@H]1C...   \n",
       "4    CCN(CC)c1ncc(N(CC)C(=O)Nc2ccccc2)c(N[C@@H](Cc2...   \n",
       "..                                                 ...   \n",
       "554  Cc1cc(C[C@H](NC(=O)c2c(Cl)cccc2Cl)C(=O)O)ccc1-...   \n",
       "555  CSCC[C@H]1NC(=O)[C@H]([C@@H](C)O)NC(=O)[C@@H](...   \n",
       "556  COc1cccc(OC)c1-c1ccc(C[C@H](NC(=O)C2(S(=O)(=O)...   \n",
       "557  O=C(O)[C@H]1[C@@H]2CC[C@H](C2)[C@@H]1NC(=O)[C@...   \n",
       "558  C[C@@]1(C(=O)N[C@@H](Cc2ccc(-c3ccccc3S(C)(=O)=...   \n",
       "\n",
       "     NumericUniProtTargetLabels  \n",
       "0                             1  \n",
       "1                             1  \n",
       "2                             1  \n",
       "3                             1  \n",
       "4                             1  \n",
       "..                          ...  \n",
       "554                           1  \n",
       "555                           1  \n",
       "556                           1  \n",
       "557                           1  \n",
       "558                           1  \n",
       "\n",
       "[559 rows x 2 columns]"
      ]
     },
     "execution_count": 267,
     "metadata": {},
     "output_type": "execute_result"
    }
   ],
   "source": [
    "test_df"
   ]
  },
  {
   "cell_type": "markdown",
   "id": "4aac3f55-1187-4345-b3ff-47be1a6bcbf7",
   "metadata": {},
   "source": [
    "#### Selecting the Best Model ####"
   ]
  },
  {
   "cell_type": "code",
   "execution_count": null,
   "id": "2d520242-f8c5-4855-87ca-7ef1d4b3b137",
   "metadata": {},
   "outputs": [],
   "source": []
  }
 ],
 "metadata": {
  "kernelspec": {
   "display_name": "Python 3 (ipykernel)",
   "language": "python",
   "name": "python3"
  },
  "language_info": {
   "codemirror_mode": {
    "name": "ipython",
    "version": 3
   },
   "file_extension": ".py",
   "mimetype": "text/x-python",
   "name": "python",
   "nbconvert_exporter": "python",
   "pygments_lexer": "ipython3",
   "version": "3.11.7"
  }
 },
 "nbformat": 4,
 "nbformat_minor": 5
}
