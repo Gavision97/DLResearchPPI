{
 "cells": [
  {
   "cell_type": "markdown",
   "id": "0d7335f2-654e-4d05-a010-aabee0510cde",
   "metadata": {},
   "source": [
    "# Protein Realetionship Prediciton #\n",
    "\n",
    "\n",
    "\n",
    "DeepChem library official website : https://deepchem.io/"
   ]
  },
  {
   "cell_type": "code",
   "execution_count": 52,
   "id": "a26e85ca-91b0-4aa7-8d46-5c441197ba89",
   "metadata": {
    "tags": []
   },
   "outputs": [],
   "source": [
    "import deepchem as dc\n",
    "import numpy as pd\n",
    "import pandas as pd\n",
    "import seaborn as sns\n",
    "import os"
   ]
  },
  {
   "cell_type": "code",
   "execution_count": 3,
   "id": "417b068e-ef82-4d07-9311-1356a13275a7",
   "metadata": {
    "tags": []
   },
   "outputs": [],
   "source": [
    "def PRINT(text) -> None: print(f\"{'~'*80}\\n{text}\\n{'~'*80}\")"
   ]
  },
  {
   "cell_type": "markdown",
   "id": "73011acb-42d9-4296-9995-26174c192a72",
   "metadata": {},
   "source": [
    "## Load Required Datasets ##"
   ]
  },
  {
   "cell_type": "code",
   "execution_count": 10,
   "id": "26e830c6-50e4-4d1f-8ceb-e400a54d57d9",
   "metadata": {
    "tags": []
   },
   "outputs": [
    {
     "data": {
      "text/plain": [
       "'C:\\\\Users\\\\gavvi\\\\Desktop\\\\Programming\\\\GitHub\\\\DeepLearningResearchStarship\\\\Project 4 Protein Relationship Prediction'"
      ]
     },
     "execution_count": 10,
     "metadata": {},
     "output_type": "execute_result"
    }
   ],
   "source": [
    "pwd"
   ]
  },
  {
   "cell_type": "code",
   "execution_count": 11,
   "id": "2c6d2d47-7b56-4d66-88fc-140ae2b6649b",
   "metadata": {
    "tags": []
   },
   "outputs": [],
   "source": [
    "pred_dataset_path = \"data/dataset_for_prediction.csv\"\n",
    "ChEMBL_integrin_dataset_path = \"data/ChEMBL_Integrins.csv\""
   ]
  },
  {
   "cell_type": "code",
   "execution_count": 14,
   "id": "45aefc86-6e3d-475e-baed-c98f7191c74b",
   "metadata": {
    "tags": []
   },
   "outputs": [
    {
     "data": {
      "text/html": [
       "<div>\n",
       "<style scoped>\n",
       "    .dataframe tbody tr th:only-of-type {\n",
       "        vertical-align: middle;\n",
       "    }\n",
       "\n",
       "    .dataframe tbody tr th {\n",
       "        vertical-align: top;\n",
       "    }\n",
       "\n",
       "    .dataframe thead th {\n",
       "        text-align: right;\n",
       "    }\n",
       "</style>\n",
       "<table border=\"1\" class=\"dataframe\">\n",
       "  <thead>\n",
       "    <tr style=\"text-align: right;\">\n",
       "      <th></th>\n",
       "      <th>smiles</th>\n",
       "      <th>uniprot_id1</th>\n",
       "    </tr>\n",
       "  </thead>\n",
       "  <tbody>\n",
       "    <tr>\n",
       "      <th>0</th>\n",
       "      <td>OC(=O)[C@H](Cc1ccc(NC(=O)c2c(Cl)cccc2Cl)cc1)NC...</td>\n",
       "      <td>P13612</td>\n",
       "    </tr>\n",
       "    <tr>\n",
       "      <th>1</th>\n",
       "      <td>C\\C=C\\[C@@H](CC(=O)O)NC(=O)C[C@@H](CC(C)C)NC(=...</td>\n",
       "      <td>P05556</td>\n",
       "    </tr>\n",
       "    <tr>\n",
       "      <th>2</th>\n",
       "      <td>CN1[C@@H](CCCN=C(N)N)C(=O)NCC(=O)N[C@@H](CC(=O...</td>\n",
       "      <td>P05106</td>\n",
       "    </tr>\n",
       "    <tr>\n",
       "      <th>3</th>\n",
       "      <td>OC(=O)C(CNC(=O)CCCCc1ccc2CCCNc2n1)c3cnc4ccccc4c3</td>\n",
       "      <td>P05106</td>\n",
       "    </tr>\n",
       "    <tr>\n",
       "      <th>4</th>\n",
       "      <td>OC(=O)C[C@H](NC(=O)CN1CCC[C@@H](CCC2CCNCC2)C1=...</td>\n",
       "      <td>P05106</td>\n",
       "    </tr>\n",
       "  </tbody>\n",
       "</table>\n",
       "</div>"
      ],
      "text/plain": [
       "                                              smiles uniprot_id1\n",
       "0  OC(=O)[C@H](Cc1ccc(NC(=O)c2c(Cl)cccc2Cl)cc1)NC...      P13612\n",
       "1  C\\C=C\\[C@@H](CC(=O)O)NC(=O)C[C@@H](CC(C)C)NC(=...      P05556\n",
       "2  CN1[C@@H](CCCN=C(N)N)C(=O)NCC(=O)N[C@@H](CC(=O...      P05106\n",
       "3   OC(=O)C(CNC(=O)CCCCc1ccc2CCCNc2n1)c3cnc4ccccc4c3      P05106\n",
       "4  OC(=O)C[C@H](NC(=O)CN1CCC[C@@H](CCC2CCNCC2)C1=...      P05106"
      ]
     },
     "execution_count": 14,
     "metadata": {},
     "output_type": "execute_result"
    }
   ],
   "source": [
    "pred_df = pd.read_csv(pred_dataset_path)\n",
    "\n",
    "pred_df.head(5)"
   ]
  },
  {
   "cell_type": "markdown",
   "id": "eeea800f-4c08-497b-9f4f-75d2a4fea6d4",
   "metadata": {},
   "source": [
    "Next, we aim to rename the column *uniprot_id1* to *uniprot_id*. The rationale behind this decision is that we intend to search for this value in the *ChEMBL* data frame within both the *uniprot1* and *uniprot2* columns. To minimize confusion, we will rename this column"
   ]
  },
  {
   "cell_type": "code",
   "execution_count": 34,
   "id": "75f7d468-2b4d-447c-adb2-5e83e1bc4789",
   "metadata": {
    "tags": []
   },
   "outputs": [
    {
     "name": "stdout",
     "output_type": "stream",
     "text": [
      "~~~~~~~~~~~~~~~~~~~~~~~~~~~~~~~~~~~~~~~~~~~~~~~~~~~~~~~~~~~~~~~~~~~~~~~~~~~~~~~~\n",
      "Renamed column name: uniprot_id\n",
      "~~~~~~~~~~~~~~~~~~~~~~~~~~~~~~~~~~~~~~~~~~~~~~~~~~~~~~~~~~~~~~~~~~~~~~~~~~~~~~~~\n"
     ]
    }
   ],
   "source": [
    "pred_df = pred_df.rename(columns={'uniprot_id1':'uniprot_id'})\n",
    "\n",
    "PRINT(f'Renamed column name: {pred_df.columns[1]}')"
   ]
  },
  {
   "cell_type": "code",
   "execution_count": 15,
   "id": "494afbaf-6ca8-418b-aea0-2e8af8bdff94",
   "metadata": {
    "tags": []
   },
   "outputs": [
    {
     "data": {
      "text/html": [
       "<div>\n",
       "<style scoped>\n",
       "    .dataframe tbody tr th:only-of-type {\n",
       "        vertical-align: middle;\n",
       "    }\n",
       "\n",
       "    .dataframe tbody tr th {\n",
       "        vertical-align: top;\n",
       "    }\n",
       "\n",
       "    .dataframe thead th {\n",
       "        text-align: right;\n",
       "    }\n",
       "</style>\n",
       "<table border=\"1\" class=\"dataframe\">\n",
       "  <thead>\n",
       "    <tr style=\"text-align: right;\">\n",
       "      <th></th>\n",
       "      <th>Canonical SMILES(RDKit)</th>\n",
       "      <th>Target Pref Name</th>\n",
       "      <th>Organism</th>\n",
       "      <th>UniProt1</th>\n",
       "      <th>UniProt2</th>\n",
       "      <th>UniProt3</th>\n",
       "      <th>UniProt4</th>\n",
       "      <th>UniProt5</th>\n",
       "    </tr>\n",
       "  </thead>\n",
       "  <tbody>\n",
       "    <tr>\n",
       "      <th>0</th>\n",
       "      <td>N=C(N)NCCC[C@H](NC(=O)[C@H](CCCNC(=N)N)NC(=O)[...</td>\n",
       "      <td>Integrin alpha-4/beta-7</td>\n",
       "      <td>Mus musculus</td>\n",
       "      <td>Q00651</td>\n",
       "      <td>P26011</td>\n",
       "      <td>NaN</td>\n",
       "      <td>NaN</td>\n",
       "      <td>NaN</td>\n",
       "    </tr>\n",
       "    <tr>\n",
       "      <th>1</th>\n",
       "      <td>N=C(N)NCCC[C@H](NC(=O)CCCC[C@@H]1SC[C@@H]2NC(=...</td>\n",
       "      <td>Integrin alpha-4/beta-7</td>\n",
       "      <td>Mus musculus</td>\n",
       "      <td>Q00651</td>\n",
       "      <td>P26011</td>\n",
       "      <td>NaN</td>\n",
       "      <td>NaN</td>\n",
       "      <td>NaN</td>\n",
       "    </tr>\n",
       "    <tr>\n",
       "      <th>2</th>\n",
       "      <td>N#Cc1ccc(-c2ccc(C[C@H](NC(=O)[C@H](CCCNC(=N)N)...</td>\n",
       "      <td>Integrin alpha-4/beta-7</td>\n",
       "      <td>Mus musculus</td>\n",
       "      <td>Q00651</td>\n",
       "      <td>P26011</td>\n",
       "      <td>NaN</td>\n",
       "      <td>NaN</td>\n",
       "      <td>NaN</td>\n",
       "    </tr>\n",
       "    <tr>\n",
       "      <th>3</th>\n",
       "      <td>N=C(N)NCCC[C@H](NC(=O)CCCC[C@@H]1SC[C@@H]2NC(=...</td>\n",
       "      <td>Integrin alpha-4/beta-7</td>\n",
       "      <td>Mus musculus</td>\n",
       "      <td>Q00651</td>\n",
       "      <td>P26011</td>\n",
       "      <td>NaN</td>\n",
       "      <td>NaN</td>\n",
       "      <td>NaN</td>\n",
       "    </tr>\n",
       "    <tr>\n",
       "      <th>4</th>\n",
       "      <td>N=C(N)NCCC[C@H](NC(=O)CCCC[C@@H]1SC[C@@H]2NC(=...</td>\n",
       "      <td>Integrin alpha-4/beta-7</td>\n",
       "      <td>Mus musculus</td>\n",
       "      <td>Q00651</td>\n",
       "      <td>P26011</td>\n",
       "      <td>NaN</td>\n",
       "      <td>NaN</td>\n",
       "      <td>NaN</td>\n",
       "    </tr>\n",
       "  </tbody>\n",
       "</table>\n",
       "</div>"
      ],
      "text/plain": [
       "                             Canonical SMILES(RDKit)         Target Pref Name  \\\n",
       "0  N=C(N)NCCC[C@H](NC(=O)[C@H](CCCNC(=N)N)NC(=O)[...  Integrin alpha-4/beta-7   \n",
       "1  N=C(N)NCCC[C@H](NC(=O)CCCC[C@@H]1SC[C@@H]2NC(=...  Integrin alpha-4/beta-7   \n",
       "2  N#Cc1ccc(-c2ccc(C[C@H](NC(=O)[C@H](CCCNC(=N)N)...  Integrin alpha-4/beta-7   \n",
       "3  N=C(N)NCCC[C@H](NC(=O)CCCC[C@@H]1SC[C@@H]2NC(=...  Integrin alpha-4/beta-7   \n",
       "4  N=C(N)NCCC[C@H](NC(=O)CCCC[C@@H]1SC[C@@H]2NC(=...  Integrin alpha-4/beta-7   \n",
       "\n",
       "       Organism UniProt1 UniProt2 UniProt3 UniProt4 UniProt5  \n",
       "0  Mus musculus   Q00651   P26011      NaN      NaN      NaN  \n",
       "1  Mus musculus   Q00651   P26011      NaN      NaN      NaN  \n",
       "2  Mus musculus   Q00651   P26011      NaN      NaN      NaN  \n",
       "3  Mus musculus   Q00651   P26011      NaN      NaN      NaN  \n",
       "4  Mus musculus   Q00651   P26011      NaN      NaN      NaN  "
      ]
     },
     "execution_count": 15,
     "metadata": {},
     "output_type": "execute_result"
    }
   ],
   "source": [
    "chmbl_df = pd.read_csv(ChEMBL_integrin_dataset_path)\n",
    "\n",
    "chmbl_df.head(5)"
   ]
  },
  {
   "cell_type": "markdown",
   "id": "46381a3f-cf1a-4a84-92de-cbcf083f793c",
   "metadata": {},
   "source": [
    "## Generate Unique Datasets ##"
   ]
  },
  {
   "cell_type": "markdown",
   "id": "67e7a71b-09f1-4bb4-94bf-c1e0d1e1c5cd",
   "metadata": {},
   "source": [
    "### Prechecks ###"
   ]
  },
  {
   "cell_type": "code",
   "execution_count": 22,
   "id": "54346010-46c7-4d9c-9010-ead5a6b53685",
   "metadata": {
    "tags": []
   },
   "outputs": [],
   "source": [
    "unique_proteins = pred_df[\"uniprot_id1\"].unique()"
   ]
  },
  {
   "cell_type": "code",
   "execution_count": 26,
   "id": "a65e6fa2-69f0-48cd-af1d-4287d1346957",
   "metadata": {
    "tags": []
   },
   "outputs": [
    {
     "name": "stdout",
     "output_type": "stream",
     "text": [
      "~~~~~~~~~~~~~~~~~~~~~~~~~~~~~~~~~~~~~~~~~~~~~~~~~~~~~~~~~~~~~~~~~~~~~~~~~~~~~~~~\n",
      "The unique proteins we want to predict their partners in the PPI are :\n",
      " ['P13612' 'P05556' 'P05106' 'P05107' 'P08648' 'P17301']\n",
      "\n",
      "The are total 6 such proteins\n",
      "~~~~~~~~~~~~~~~~~~~~~~~~~~~~~~~~~~~~~~~~~~~~~~~~~~~~~~~~~~~~~~~~~~~~~~~~~~~~~~~~\n"
     ]
    }
   ],
   "source": [
    "PRINT(f\"The unique proteins we want to predict their partners in the PPI are :\\n {unique_proteins}\\n\\nThe are total {len(unique_proteins)} such proteins\")"
   ]
  },
  {
   "cell_type": "markdown",
   "id": "483668ff-07cf-4a53-9292-ad8b8d8ac9e3",
   "metadata": {},
   "source": [
    "### Datasets Generation Phase ###\n",
    "\n",
    "The next step is to generate six datasets, each for the protein for which we intend to create a deep learning model to predict its companion in PPI (i.e., the second UniProt_id).\n",
    "\n",
    "The way we are going to achieve this is by taking each unique *UniProt_id* value, searching for all the rows in the *ChEMBL* data frame we loaded from the previous project, where that *UniProt_id* value is one of their *UniProt_id{i}* columns, where i ∈ [1,5].\n",
    "\n",
    "Each dataset will contain all the molecules' *SMILES* values, with both *UniProt_ids* forming the connection.\n",
    "\n",
    "From these datasets, we will proceed to train our model. Thus, we can provide the unique SMILES value along with the UniProt_id to the model, and it will predict its partner."
   ]
  },
  {
   "cell_type": "code",
   "execution_count": 69,
   "id": "43b0865b-cb60-4661-aa94-6b770b815149",
   "metadata": {
    "tags": []
   },
   "outputs": [],
   "source": [
    "protein_dataframes = {}\n",
    "\n",
    "for protein in unique_proteins:\n",
    "    # Initialize an empty list to store rows for the current protein\n",
    "    rows_for_protein = []\n",
    "\n",
    "    # Iterate over each row in the ChEMBL DataFrame\n",
    "    for index, row in chmbl_df.iterrows():\n",
    "        # Check if the current protein is present in any of the UniProt columns\n",
    "        if protein in row[['UniProt1', 'UniProt2', 'UniProt3', 'UniProt4', 'UniProt5']].values:\n",
    "            # Determine the correct order (UniProt1 and UniProt2) in the new data frame\n",
    "            if row['UniProt1'] == protein:\n",
    "                relevant_info = [row['Canonical SMILES(RDKit)'], row['UniProt1'], row['UniProt2']]\n",
    "            elif row['UniProt2'] == protein:\n",
    "                relevant_info = [row['Canonical SMILES(RDKit)'], row['UniProt2'], row['UniProt1']]\n",
    "            else:\n",
    "                relevant_info = []\n",
    "\n",
    "            if relevant_info:\n",
    "                rows_for_protein.append(relevant_info)\n",
    "                \n",
    "    if rows_for_protein:\n",
    "        protein_dataframes[protein] = pd.DataFrame(rows_for_protein, columns=['SMILES', 'UniProt1', 'UniProt2'])\n"
   ]
  },
  {
   "cell_type": "code",
   "execution_count": 49,
   "id": "ec12d97a-54da-4bf2-bfb3-5102acdbe11b",
   "metadata": {
    "tags": []
   },
   "outputs": [
    {
     "data": {
      "text/html": [
       "<div>\n",
       "<style scoped>\n",
       "    .dataframe tbody tr th:only-of-type {\n",
       "        vertical-align: middle;\n",
       "    }\n",
       "\n",
       "    .dataframe tbody tr th {\n",
       "        vertical-align: top;\n",
       "    }\n",
       "\n",
       "    .dataframe thead th {\n",
       "        text-align: right;\n",
       "    }\n",
       "</style>\n",
       "<table border=\"1\" class=\"dataframe\">\n",
       "  <thead>\n",
       "    <tr style=\"text-align: right;\">\n",
       "      <th></th>\n",
       "      <th>SMILES</th>\n",
       "      <th>UniProt1</th>\n",
       "      <th>UniProt2</th>\n",
       "    </tr>\n",
       "  </thead>\n",
       "  <tbody>\n",
       "    <tr>\n",
       "      <th>0</th>\n",
       "      <td>COc1ccccc1-c1ccc(C[C@H](NC(=O)c2ccccc2Cl)C(=O)...</td>\n",
       "      <td>P13612</td>\n",
       "      <td>P26010</td>\n",
       "    </tr>\n",
       "    <tr>\n",
       "      <th>1</th>\n",
       "      <td>Cc1ccccc1NC(=O)Nc1ccc(CC(=O)N2C[C@@H](F)C[C@H]...</td>\n",
       "      <td>P13612</td>\n",
       "      <td>P26010</td>\n",
       "    </tr>\n",
       "    <tr>\n",
       "      <th>2</th>\n",
       "      <td>CN(C)Cc1ccccc1-c1ccc(C[C@H](NC(=O)c2ccccc2Cl)C...</td>\n",
       "      <td>P13612</td>\n",
       "      <td>P26010</td>\n",
       "    </tr>\n",
       "    <tr>\n",
       "      <th>3</th>\n",
       "      <td>Cc1cccc(Cl)c1C(=O)N[C@@H](Cc1ccc(NC(=O)c2c(Cl)...</td>\n",
       "      <td>P13612</td>\n",
       "      <td>P26010</td>\n",
       "    </tr>\n",
       "    <tr>\n",
       "      <th>4</th>\n",
       "      <td>COc1cnn(C)c(=O)c1-c1ccc(C[C@H](NC(=O)c2c(C)noc...</td>\n",
       "      <td>P13612</td>\n",
       "      <td>P26010</td>\n",
       "    </tr>\n",
       "    <tr>\n",
       "      <th>...</th>\n",
       "      <td>...</td>\n",
       "      <td>...</td>\n",
       "      <td>...</td>\n",
       "    </tr>\n",
       "    <tr>\n",
       "      <th>1969</th>\n",
       "      <td>CC(C)(C)[C@H]1CC[C@H](C[C@H](NC(=O)[C@@H]2CCC(...</td>\n",
       "      <td>P13612</td>\n",
       "      <td>P05556</td>\n",
       "    </tr>\n",
       "    <tr>\n",
       "      <th>1970</th>\n",
       "      <td>O=C(Nc1ccc(C[C@H](/N=c2\\c(O)c(O)\\c2=N/Cc2ccccc...</td>\n",
       "      <td>P13612</td>\n",
       "      <td>P05556</td>\n",
       "    </tr>\n",
       "    <tr>\n",
       "      <th>1971</th>\n",
       "      <td>N#Cc1cccc(S(=O)(=O)N2C[C@H](N3CCC(F)CC3)C[C@H]...</td>\n",
       "      <td>P13612</td>\n",
       "      <td>P05556</td>\n",
       "    </tr>\n",
       "    <tr>\n",
       "      <th>1972</th>\n",
       "      <td>CCCCS(=O)(=O)N[C@@H](Cc1ccc(OCCCCC2CCNCC2)cc1)...</td>\n",
       "      <td>P13612</td>\n",
       "      <td>P05556</td>\n",
       "    </tr>\n",
       "    <tr>\n",
       "      <th>1973</th>\n",
       "      <td>O=C(Cc1ccc2nc(-c3ccccc3)oc2c1)N1C[C@@H](F)C[C@...</td>\n",
       "      <td>P13612</td>\n",
       "      <td>P05556</td>\n",
       "    </tr>\n",
       "  </tbody>\n",
       "</table>\n",
       "<p>1974 rows × 3 columns</p>\n",
       "</div>"
      ],
      "text/plain": [
       "                                                 SMILES UniProt1 UniProt2\n",
       "0     COc1ccccc1-c1ccc(C[C@H](NC(=O)c2ccccc2Cl)C(=O)...   P13612   P26010\n",
       "1     Cc1ccccc1NC(=O)Nc1ccc(CC(=O)N2C[C@@H](F)C[C@H]...   P13612   P26010\n",
       "2     CN(C)Cc1ccccc1-c1ccc(C[C@H](NC(=O)c2ccccc2Cl)C...   P13612   P26010\n",
       "3     Cc1cccc(Cl)c1C(=O)N[C@@H](Cc1ccc(NC(=O)c2c(Cl)...   P13612   P26010\n",
       "4     COc1cnn(C)c(=O)c1-c1ccc(C[C@H](NC(=O)c2c(C)noc...   P13612   P26010\n",
       "...                                                 ...      ...      ...\n",
       "1969  CC(C)(C)[C@H]1CC[C@H](C[C@H](NC(=O)[C@@H]2CCC(...   P13612   P05556\n",
       "1970  O=C(Nc1ccc(C[C@H](/N=c2\\c(O)c(O)\\c2=N/Cc2ccccc...   P13612   P05556\n",
       "1971  N#Cc1cccc(S(=O)(=O)N2C[C@H](N3CCC(F)CC3)C[C@H]...   P13612   P05556\n",
       "1972  CCCCS(=O)(=O)N[C@@H](Cc1ccc(OCCCCC2CCNCC2)cc1)...   P13612   P05556\n",
       "1973  O=C(Cc1ccc2nc(-c3ccccc3)oc2c1)N1C[C@@H](F)C[C@...   P13612   P05556\n",
       "\n",
       "[1974 rows x 3 columns]"
      ]
     },
     "execution_count": 49,
     "metadata": {},
     "output_type": "execute_result"
    }
   ],
   "source": [
    "protein_dataframes['P13612']"
   ]
  },
  {
   "cell_type": "markdown",
   "id": "8f43b770-29cd-40da-bb5f-8c344ff32d44",
   "metadata": {},
   "source": [
    "### Save the Generated Data Frame as CSV Files ###"
   ]
  },
  {
   "cell_type": "code",
   "execution_count": 50,
   "id": "b04119ec-aff2-4477-aa71-a78c4deabb57",
   "metadata": {
    "tags": []
   },
   "outputs": [],
   "source": [
    "out_dir = 'unique UniProt csv files'"
   ]
  },
  {
   "cell_type": "code",
   "execution_count": 51,
   "id": "0e7f8739-58be-4251-bb20-458033844b06",
   "metadata": {
    "tags": []
   },
   "outputs": [
    {
     "name": "stdout",
     "output_type": "stream",
     "text": [
      "~~~~~~~~~~~~~~~~~~~~~~~~~~~~~~~~~~~~~~~~~~~~~~~~~~~~~~~~~~~~~~~~~~~~~~~~~~~~~~~~\n",
      "Saved data frame for P13612 as P13612.csv\n",
      "~~~~~~~~~~~~~~~~~~~~~~~~~~~~~~~~~~~~~~~~~~~~~~~~~~~~~~~~~~~~~~~~~~~~~~~~~~~~~~~~\n",
      "~~~~~~~~~~~~~~~~~~~~~~~~~~~~~~~~~~~~~~~~~~~~~~~~~~~~~~~~~~~~~~~~~~~~~~~~~~~~~~~~\n",
      "Saved data frame for P05556 as P05556.csv\n",
      "~~~~~~~~~~~~~~~~~~~~~~~~~~~~~~~~~~~~~~~~~~~~~~~~~~~~~~~~~~~~~~~~~~~~~~~~~~~~~~~~\n",
      "~~~~~~~~~~~~~~~~~~~~~~~~~~~~~~~~~~~~~~~~~~~~~~~~~~~~~~~~~~~~~~~~~~~~~~~~~~~~~~~~\n",
      "Saved data frame for P05106 as P05106.csv\n",
      "~~~~~~~~~~~~~~~~~~~~~~~~~~~~~~~~~~~~~~~~~~~~~~~~~~~~~~~~~~~~~~~~~~~~~~~~~~~~~~~~\n",
      "~~~~~~~~~~~~~~~~~~~~~~~~~~~~~~~~~~~~~~~~~~~~~~~~~~~~~~~~~~~~~~~~~~~~~~~~~~~~~~~~\n",
      "Saved data frame for P05107 as P05107.csv\n",
      "~~~~~~~~~~~~~~~~~~~~~~~~~~~~~~~~~~~~~~~~~~~~~~~~~~~~~~~~~~~~~~~~~~~~~~~~~~~~~~~~\n",
      "~~~~~~~~~~~~~~~~~~~~~~~~~~~~~~~~~~~~~~~~~~~~~~~~~~~~~~~~~~~~~~~~~~~~~~~~~~~~~~~~\n",
      "Saved data frame for P08648 as P08648.csv\n",
      "~~~~~~~~~~~~~~~~~~~~~~~~~~~~~~~~~~~~~~~~~~~~~~~~~~~~~~~~~~~~~~~~~~~~~~~~~~~~~~~~\n",
      "~~~~~~~~~~~~~~~~~~~~~~~~~~~~~~~~~~~~~~~~~~~~~~~~~~~~~~~~~~~~~~~~~~~~~~~~~~~~~~~~\n",
      "Saved data frame for P17301 as P17301.csv\n",
      "~~~~~~~~~~~~~~~~~~~~~~~~~~~~~~~~~~~~~~~~~~~~~~~~~~~~~~~~~~~~~~~~~~~~~~~~~~~~~~~~\n"
     ]
    }
   ],
   "source": [
    "for protein, df in protein_dataframes.items():\n",
    "    try:\n",
    "        # Generate csv file name with the desired format\n",
    "        file_name = f'{protein}.csv'\n",
    "\n",
    "        # Specify full path\n",
    "        out_path = os.path.join(out_dir, file_name)\n",
    "\n",
    "        # Save current data frame as csv file\n",
    "        df.to_csv(out_path, index=False)\n",
    "\n",
    "        PRINT(f'Saved data frame for {protein} as {file_name}')\n",
    "        \n",
    "    except Exception as e:\n",
    "        PRINT(f'Error!\\nVerify path name and the data')\n",
    "    "
   ]
  },
  {
   "cell_type": "markdown",
   "id": "a7d3d5a1-21d3-417e-80ce-843a81b0ec16",
   "metadata": {
    "tags": []
   },
   "source": [
    "## Visualize Distributions for each Data Frame ##"
   ]
  },
  {
   "cell_type": "code",
   "execution_count": 60,
   "id": "67188076-5b21-4b5c-940a-5ff48e0a9746",
   "metadata": {
    "tags": []
   },
   "outputs": [
    {
     "name": "stdout",
     "output_type": "stream",
     "text": [
      "~~~~~~~~~~~~~~~~~~~~~~~~~~~~~~~~~~~~~~~~~~~~~~~~~~~~~~~~~~~~~~~~~~~~~~~~~~~~~~~~\n",
      "We have 6 data frames to visualize information about their data distributions\n",
      "~~~~~~~~~~~~~~~~~~~~~~~~~~~~~~~~~~~~~~~~~~~~~~~~~~~~~~~~~~~~~~~~~~~~~~~~~~~~~~~~\n"
     ]
    }
   ],
   "source": [
    "PRINT(f'We have {len(protein_dataframes.items())} data frames to visualize information about their data distributions')"
   ]
  },
  {
   "cell_type": "code",
   "execution_count": 62,
   "id": "9ce9e7d7-88be-458d-b011-01bc4a9e0dfb",
   "metadata": {
    "tags": []
   },
   "outputs": [
    {
     "name": "stdout",
     "output_type": "stream",
     "text": [
      "~~~~~~~~~~~~~~~~~~~~~~~~~~~~~~~~~~~~~~~~~~~~~~~~~~~~~~~~~~~~~~~~~~~~~~~~~~~~~~~~\n",
      "UniProt_ids -> ['P13612' 'P05556' 'P05106' 'P05107' 'P08648' 'P17301']\n",
      "~~~~~~~~~~~~~~~~~~~~~~~~~~~~~~~~~~~~~~~~~~~~~~~~~~~~~~~~~~~~~~~~~~~~~~~~~~~~~~~~\n"
     ]
    }
   ],
   "source": [
    "PRINT(f'UniProt_ids -> {unique_proteins}')"
   ]
  },
  {
   "cell_type": "markdown",
   "id": "7293fe1a-2164-49a9-92ed-554425658f28",
   "metadata": {},
   "source": [
    "### Helper Functions ###"
   ]
  },
  {
   "cell_type": "markdown",
   "id": "59905f09-910c-4906-8ea9-db21f46a58f6",
   "metadata": {},
   "source": [
    "#### Helper One-Hot-Encoding Function ####"
   ]
  },
  {
   "cell_type": "code",
   "execution_count": 215,
   "id": "46cb179d-4732-4dfb-a016-61182aeeb4c7",
   "metadata": {
    "tags": []
   },
   "outputs": [],
   "source": [
    "def one_hot_encoding(df):\n",
    "    \n",
    "    df_encoded = pd.get_dummies(df[['UniProt1', 'UniProt2']], prefix='', prefix_sep='').astype(int)\n",
    "    df_encoded = pd.concat([df[['SMILES']], df_encoded], axis=1)\n",
    "    return df_encoded"
   ]
  },
  {
   "cell_type": "markdown",
   "id": "85ed277c-25c1-443e-8cb6-873f36931747",
   "metadata": {},
   "source": [
    "#### Helper Visualization Function ####"
   ]
  },
  {
   "cell_type": "code",
   "execution_count": 203,
   "id": "c9aa1edb-8829-4893-af80-d24cea01c631",
   "metadata": {
    "tags": []
   },
   "outputs": [],
   "source": [
    "def visualize_dist(df, target_prot)-> None:\n",
    "    # Melt the DataFrame to long format for Seaborn countplot\n",
    "    df_melted = df.melt(var_name='Protein', value_name='Interaction Status')\n",
    "\n",
    "    # Set the size of the plot\n",
    "    sns.set(rc={'figure.figsize':(12, 8)})\n",
    "    \n",
    "    sns.set_context(\"notebook\", rc={\"lines.linewidth\": 2.5})\n",
    "    # Create a grouped count plot\n",
    "    sns.countplot(x='Protein', hue='Interaction Status', palette=[\"lightgrey\", \"skyblue\"], data=df_melted)\n",
    "\n",
    "    # Add labels and title\n",
    "    plt.xlabel('Protein')\n",
    "    plt.ylabel('Count')\n",
    "    plt.title(f'PPI with -> {target_prot}')\n",
    "\n",
    "    sns.despine()\n",
    "    sns.set_theme(style=\"whitegrid\")\n",
    "    sns.despine(offset=10, trim=True)\n",
    "    sns.set_context(\"notebook\")\n",
    "    plt.show()"
   ]
  },
  {
   "cell_type": "code",
   "execution_count": 180,
   "id": "6f52ce04-3d2c-45e7-9c42-2c3020244307",
   "metadata": {
    "tags": []
   },
   "outputs": [],
   "source": [
    "def filter_proteins_list(df, columns_to_remove):\n",
    "    \n",
    "    filtered_columns = [col for col in df.columns if col not in columns_to_remove]\n",
    "    filtered_columns_list = list(filtered_columns)\n",
    "    return filtered_columns"
   ]
  },
  {
   "cell_type": "markdown",
   "id": "f1a4edec-fac1-4e7a-a022-fed9623796fb",
   "metadata": {},
   "source": [
    "### First Data Frame ###"
   ]
  },
  {
   "cell_type": "code",
   "execution_count": 228,
   "id": "85291df5-7654-4144-aa1e-663f20f2cb91",
   "metadata": {
    "tags": []
   },
   "outputs": [
    {
     "data": {
      "text/html": [
       "<div>\n",
       "<style scoped>\n",
       "    .dataframe tbody tr th:only-of-type {\n",
       "        vertical-align: middle;\n",
       "    }\n",
       "\n",
       "    .dataframe tbody tr th {\n",
       "        vertical-align: top;\n",
       "    }\n",
       "\n",
       "    .dataframe thead th {\n",
       "        text-align: right;\n",
       "    }\n",
       "</style>\n",
       "<table border=\"1\" class=\"dataframe\">\n",
       "  <thead>\n",
       "    <tr style=\"text-align: right;\">\n",
       "      <th></th>\n",
       "      <th>SMILES</th>\n",
       "      <th>UniProt1</th>\n",
       "      <th>UniProt2</th>\n",
       "    </tr>\n",
       "  </thead>\n",
       "  <tbody>\n",
       "    <tr>\n",
       "      <th>0</th>\n",
       "      <td>COc1ccccc1-c1ccc(C[C@H](NC(=O)c2ccccc2Cl)C(=O)...</td>\n",
       "      <td>P13612</td>\n",
       "      <td>P26010</td>\n",
       "    </tr>\n",
       "    <tr>\n",
       "      <th>1</th>\n",
       "      <td>Cc1ccccc1NC(=O)Nc1ccc(CC(=O)N2C[C@@H](F)C[C@H]...</td>\n",
       "      <td>P13612</td>\n",
       "      <td>P26010</td>\n",
       "    </tr>\n",
       "  </tbody>\n",
       "</table>\n",
       "</div>"
      ],
      "text/plain": [
       "                                              SMILES UniProt1 UniProt2\n",
       "0  COc1ccccc1-c1ccc(C[C@H](NC(=O)c2ccccc2Cl)C(=O)...   P13612   P26010\n",
       "1  Cc1ccccc1NC(=O)Nc1ccc(CC(=O)N2C[C@@H](F)C[C@H]...   P13612   P26010"
      ]
     },
     "execution_count": 228,
     "metadata": {},
     "output_type": "execute_result"
    }
   ],
   "source": [
    "first_df = protein_dataframes[unique_proteins[0]]\n",
    "\n",
    "first_df.head(2)"
   ]
  },
  {
   "cell_type": "markdown",
   "id": "1fe2cbfc-23ef-4cc2-9dd2-5f69da8daa1b",
   "metadata": {},
   "source": [
    "#### Visualize Distribution ####"
   ]
  },
  {
   "cell_type": "code",
   "execution_count": 234,
   "id": "39bc7e80-ca3c-4ba4-8594-35db70efcd4a",
   "metadata": {
    "tags": []
   },
   "outputs": [],
   "source": [
    "first_df_encoded = one_hot_encoding(first_df)"
   ]
  },
  {
   "cell_type": "code",
   "execution_count": 235,
   "id": "f1426fdb-b9bd-4ccb-b530-63c4382276b1",
   "metadata": {
    "tags": []
   },
   "outputs": [
    {
     "name": "stdout",
     "output_type": "stream",
     "text": [
      "Index(['SMILES', 'P13612', 'P05556', 'P26010'], dtype='object')\n"
     ]
    }
   ],
   "source": [
    "print(first_df_encoded.columns)"
   ]
  },
  {
   "cell_type": "code",
   "execution_count": 236,
   "id": "ab002c25-789a-47c0-9ad7-ed0925b52e81",
   "metadata": {
    "tags": []
   },
   "outputs": [
    {
     "data": {
      "text/html": [
       "<div>\n",
       "<style scoped>\n",
       "    .dataframe tbody tr th:only-of-type {\n",
       "        vertical-align: middle;\n",
       "    }\n",
       "\n",
       "    .dataframe tbody tr th {\n",
       "        vertical-align: top;\n",
       "    }\n",
       "\n",
       "    .dataframe thead th {\n",
       "        text-align: right;\n",
       "    }\n",
       "</style>\n",
       "<table border=\"1\" class=\"dataframe\">\n",
       "  <thead>\n",
       "    <tr style=\"text-align: right;\">\n",
       "      <th></th>\n",
       "      <th>SMILES</th>\n",
       "      <th>P13612</th>\n",
       "      <th>P05556</th>\n",
       "      <th>P26010</th>\n",
       "    </tr>\n",
       "  </thead>\n",
       "  <tbody>\n",
       "    <tr>\n",
       "      <th>0</th>\n",
       "      <td>COc1ccccc1-c1ccc(C[C@H](NC(=O)c2ccccc2Cl)C(=O)...</td>\n",
       "      <td>1</td>\n",
       "      <td>0</td>\n",
       "      <td>1</td>\n",
       "    </tr>\n",
       "    <tr>\n",
       "      <th>1</th>\n",
       "      <td>Cc1ccccc1NC(=O)Nc1ccc(CC(=O)N2C[C@@H](F)C[C@H]...</td>\n",
       "      <td>1</td>\n",
       "      <td>0</td>\n",
       "      <td>1</td>\n",
       "    </tr>\n",
       "    <tr>\n",
       "      <th>2</th>\n",
       "      <td>CN(C)Cc1ccccc1-c1ccc(C[C@H](NC(=O)c2ccccc2Cl)C...</td>\n",
       "      <td>1</td>\n",
       "      <td>0</td>\n",
       "      <td>1</td>\n",
       "    </tr>\n",
       "  </tbody>\n",
       "</table>\n",
       "</div>"
      ],
      "text/plain": [
       "                                              SMILES  P13612  P05556  P26010\n",
       "0  COc1ccccc1-c1ccc(C[C@H](NC(=O)c2ccccc2Cl)C(=O)...       1       0       1\n",
       "1  Cc1ccccc1NC(=O)Nc1ccc(CC(=O)N2C[C@@H](F)C[C@H]...       1       0       1\n",
       "2  CN(C)Cc1ccccc1-c1ccc(C[C@H](NC(=O)c2ccccc2Cl)C...       1       0       1"
      ]
     },
     "execution_count": 236,
     "metadata": {},
     "output_type": "execute_result"
    }
   ],
   "source": [
    "first_df_encoded.head(3)"
   ]
  },
  {
   "cell_type": "code",
   "execution_count": 237,
   "id": "6adad14d-fb2c-4e4c-8deb-5352485fb302",
   "metadata": {
    "tags": []
   },
   "outputs": [
    {
     "name": "stdout",
     "output_type": "stream",
     "text": [
      "~~~~~~~~~~~~~~~~~~~~~~~~~~~~~~~~~~~~~~~~~~~~~~~~~~~~~~~~~~~~~~~~~~~~~~~~~~~~~~~~\n",
      "Filtered columns -> ['P05556', 'P26010']\n",
      "~~~~~~~~~~~~~~~~~~~~~~~~~~~~~~~~~~~~~~~~~~~~~~~~~~~~~~~~~~~~~~~~~~~~~~~~~~~~~~~~\n"
     ]
    }
   ],
   "source": [
    "filtered_columns = filter_proteins_list(first_df_encoded, columns_to_remove = ['SMILES', 'P13612'])\n",
    "PRINT(f'Filtered columns -> {filtered_columns}')"
   ]
  },
  {
   "cell_type": "code",
   "execution_count": 238,
   "id": "a3c6ccdb-34af-438a-b09a-8773ac6e604d",
   "metadata": {
    "tags": []
   },
   "outputs": [
    {
     "data": {
      "text/html": [
       "<div>\n",
       "<style scoped>\n",
       "    .dataframe tbody tr th:only-of-type {\n",
       "        vertical-align: middle;\n",
       "    }\n",
       "\n",
       "    .dataframe tbody tr th {\n",
       "        vertical-align: top;\n",
       "    }\n",
       "\n",
       "    .dataframe thead th {\n",
       "        text-align: right;\n",
       "    }\n",
       "</style>\n",
       "<table border=\"1\" class=\"dataframe\">\n",
       "  <thead>\n",
       "    <tr style=\"text-align: right;\">\n",
       "      <th></th>\n",
       "      <th>P05556</th>\n",
       "      <th>P26010</th>\n",
       "    </tr>\n",
       "  </thead>\n",
       "  <tbody>\n",
       "    <tr>\n",
       "      <th>0</th>\n",
       "      <td>0</td>\n",
       "      <td>1</td>\n",
       "    </tr>\n",
       "    <tr>\n",
       "      <th>1</th>\n",
       "      <td>0</td>\n",
       "      <td>1</td>\n",
       "    </tr>\n",
       "  </tbody>\n",
       "</table>\n",
       "</div>"
      ],
      "text/plain": [
       "   P05556  P26010\n",
       "0       0       1\n",
       "1       0       1"
      ]
     },
     "execution_count": 238,
     "metadata": {},
     "output_type": "execute_result"
    }
   ],
   "source": [
    "temp_df_1 = first_df_encoded[filtered_columns]\n",
    "\n",
    "temp_df_1.head(2)"
   ]
  },
  {
   "cell_type": "code",
   "execution_count": 268,
   "id": "8db6266e-0223-4517-97ee-7904413e78fb",
   "metadata": {
    "tags": []
   },
   "outputs": [
    {
     "data": {
      "image/png": "[encoded data removed]",
      "text/plain": [
       "<Figure size 1200x800 with 1 Axes>"
      ]
     },
     "metadata": {},
     "output_type": "display_data"
    }
   ],
   "source": [
    "visualize_dist(temp_df_1, unique_proteins[0])"
   ]
  },
  {
   "cell_type": "markdown",
   "id": "0f39ec01-3b3c-4349-87f9-a482f66aa52a",
   "metadata": {},
   "source": [
    "As we can see from the histogram, `P05556` appears much more than `P26010` in the PPI with UniProt traget `P13612`"
   ]
  },
  {
   "cell_type": "markdown",
   "id": "bc2dc980-a947-42be-9dab-899be04b869d",
   "metadata": {},
   "source": [
    "##### Explore the First Data Frame #####"
   ]
  },
  {
   "cell_type": "code",
   "execution_count": 251,
   "id": "31067de4-48cd-4343-8c41-0bb86703fdd4",
   "metadata": {
    "tags": []
   },
   "outputs": [
    {
     "name": "stdout",
     "output_type": "stream",
     "text": [
      "~~~~~~~~~~~~~~~~~~~~~~~~~~~~~~~~~~~~~~~~~~~~~~~~~~~~~~~~~~~~~~~~~~~~~~~~~~~~~~~~\n",
      "The size of the data frame is -> 1974\n",
      "~~~~~~~~~~~~~~~~~~~~~~~~~~~~~~~~~~~~~~~~~~~~~~~~~~~~~~~~~~~~~~~~~~~~~~~~~~~~~~~~\n",
      "Number of times P05556 appears -> 1452\n",
      "Number of times P26010 appears -> 522\n",
      "Size check -> True\n",
      "~~~~~~~~~~~~~~~~~~~~~~~~~~~~~~~~~~~~~~~~~~~~~~~~~~~~~~~~~~~~~~~~~~~~~~~~~~~~~~~~\n",
      "Done.\n",
      "~~~~~~~~~~~~~~~~~~~~~~~~~~~~~~~~~~~~~~~~~~~~~~~~~~~~~~~~~~~~~~~~~~~~~~~~~~~~~~~~\n"
     ]
    }
   ],
   "source": [
    "PRINT(f'The size of the data frame is -> {len(first_df)}')\n",
    "print(f'Number of times P05556 appears -> {len(first_df[first_df[\"UniProt2\"] == \"P05556\"])}')\n",
    "print(f'Number of times P26010 appears -> {len(first_df[first_df[\"UniProt2\"] == \"P26010\"])}')\n",
    "print(f'Size check -> {({len(first_df)} == {(len(first_df[first_df[\"UniProt2\"] == \"P05556\"]) + len(first_df[first_df[\"UniProt2\"] == \"P26010\"]))})}')\n",
    "\n",
    "PRINT('Done.')"
   ]
  },
  {
   "cell_type": "markdown",
   "id": "fe5be916-74f1-4b0e-8ba5-f6609337f1bc",
   "metadata": {},
   "source": [
    "### Second Data Frame ###"
   ]
  },
  {
   "cell_type": "code",
   "execution_count": 222,
   "id": "af316398-c203-47c5-a1dd-1844f8b31f0b",
   "metadata": {
    "tags": []
   },
   "outputs": [
    {
     "data": {
      "text/html": [
       "<div>\n",
       "<style scoped>\n",
       "    .dataframe tbody tr th:only-of-type {\n",
       "        vertical-align: middle;\n",
       "    }\n",
       "\n",
       "    .dataframe tbody tr th {\n",
       "        vertical-align: top;\n",
       "    }\n",
       "\n",
       "    .dataframe thead th {\n",
       "        text-align: right;\n",
       "    }\n",
       "</style>\n",
       "<table border=\"1\" class=\"dataframe\">\n",
       "  <thead>\n",
       "    <tr style=\"text-align: right;\">\n",
       "      <th></th>\n",
       "      <th>SMILES</th>\n",
       "      <th>UniProt1</th>\n",
       "      <th>UniProt2</th>\n",
       "    </tr>\n",
       "  </thead>\n",
       "  <tbody>\n",
       "    <tr>\n",
       "      <th>0</th>\n",
       "      <td>CC(C)(C)c1cc(Br)cc([C@H](CC(=O)O)NC(=O)CNC(=O)...</td>\n",
       "      <td>P05556</td>\n",
       "      <td>O75578</td>\n",
       "    </tr>\n",
       "    <tr>\n",
       "      <th>1</th>\n",
       "      <td>O=C(NCc1ccccc1)NC[C@H](NC(=O)[C@@H]1CCCN1S(=O)...</td>\n",
       "      <td>P05556</td>\n",
       "      <td>P56199</td>\n",
       "    </tr>\n",
       "  </tbody>\n",
       "</table>\n",
       "</div>"
      ],
      "text/plain": [
       "                                              SMILES UniProt1 UniProt2\n",
       "0  CC(C)(C)c1cc(Br)cc([C@H](CC(=O)O)NC(=O)CNC(=O)...   P05556   O75578\n",
       "1  O=C(NCc1ccccc1)NC[C@H](NC(=O)[C@@H]1CCCN1S(=O)...   P05556   P56199"
      ]
     },
     "execution_count": 222,
     "metadata": {},
     "output_type": "execute_result"
    }
   ],
   "source": [
    "second_df = protein_dataframes[unique_proteins[1]]\n",
    "\n",
    "second_df.head(2)"
   ]
  },
  {
   "cell_type": "markdown",
   "id": "5686c5ec-16bd-4cea-b163-581371e8a482",
   "metadata": {},
   "source": [
    "#### Visualize Distribution ####"
   ]
  },
  {
   "cell_type": "code",
   "execution_count": 223,
   "id": "40f15213-4666-4fd3-a3e0-9e7478e0cb94",
   "metadata": {
    "tags": []
   },
   "outputs": [],
   "source": [
    "second_df_encoded = one_hot_encoding(second_df)"
   ]
  },
  {
   "cell_type": "code",
   "execution_count": 252,
   "id": "0aae57eb-95ea-4b03-86aa-d528ec43ed2f",
   "metadata": {
    "tags": []
   },
   "outputs": [
    {
     "data": {
      "text/plain": [
       "Index(['SMILES', 'P05556', 'O75578', 'P05106', 'P06756', 'P08648', 'P13612',\n",
       "       'P17301', 'P23229', 'P56199', 'Q13797'],\n",
       "      dtype='object')"
      ]
     },
     "execution_count": 252,
     "metadata": {},
     "output_type": "execute_result"
    }
   ],
   "source": [
    "second_df_encoded.columns"
   ]
  },
  {
   "cell_type": "code",
   "execution_count": 224,
   "id": "0ea85ab7-9c64-4a98-88fd-882cf2ebc719",
   "metadata": {
    "tags": []
   },
   "outputs": [
    {
     "data": {
      "text/html": [
       "<div>\n",
       "<style scoped>\n",
       "    .dataframe tbody tr th:only-of-type {\n",
       "        vertical-align: middle;\n",
       "    }\n",
       "\n",
       "    .dataframe tbody tr th {\n",
       "        vertical-align: top;\n",
       "    }\n",
       "\n",
       "    .dataframe thead th {\n",
       "        text-align: right;\n",
       "    }\n",
       "</style>\n",
       "<table border=\"1\" class=\"dataframe\">\n",
       "  <thead>\n",
       "    <tr style=\"text-align: right;\">\n",
       "      <th></th>\n",
       "      <th>SMILES</th>\n",
       "      <th>P05556</th>\n",
       "      <th>O75578</th>\n",
       "      <th>P05106</th>\n",
       "      <th>P06756</th>\n",
       "      <th>P08648</th>\n",
       "      <th>P13612</th>\n",
       "      <th>P17301</th>\n",
       "      <th>P23229</th>\n",
       "      <th>P56199</th>\n",
       "      <th>Q13797</th>\n",
       "    </tr>\n",
       "  </thead>\n",
       "  <tbody>\n",
       "    <tr>\n",
       "      <th>0</th>\n",
       "      <td>CC(C)(C)c1cc(Br)cc([C@H](CC(=O)O)NC(=O)CNC(=O)...</td>\n",
       "      <td>1</td>\n",
       "      <td>1</td>\n",
       "      <td>0</td>\n",
       "      <td>0</td>\n",
       "      <td>0</td>\n",
       "      <td>0</td>\n",
       "      <td>0</td>\n",
       "      <td>0</td>\n",
       "      <td>0</td>\n",
       "      <td>0</td>\n",
       "    </tr>\n",
       "    <tr>\n",
       "      <th>1</th>\n",
       "      <td>O=C(NCc1ccccc1)NC[C@H](NC(=O)[C@@H]1CCCN1S(=O)...</td>\n",
       "      <td>1</td>\n",
       "      <td>0</td>\n",
       "      <td>0</td>\n",
       "      <td>0</td>\n",
       "      <td>0</td>\n",
       "      <td>0</td>\n",
       "      <td>0</td>\n",
       "      <td>0</td>\n",
       "      <td>1</td>\n",
       "      <td>0</td>\n",
       "    </tr>\n",
       "    <tr>\n",
       "      <th>2</th>\n",
       "      <td>O=C(NCc1ccccc1)NC[C@H](NC(=O)[C@@H]1CCCN1S(=O)...</td>\n",
       "      <td>1</td>\n",
       "      <td>0</td>\n",
       "      <td>0</td>\n",
       "      <td>0</td>\n",
       "      <td>0</td>\n",
       "      <td>0</td>\n",
       "      <td>0</td>\n",
       "      <td>0</td>\n",
       "      <td>1</td>\n",
       "      <td>0</td>\n",
       "    </tr>\n",
       "  </tbody>\n",
       "</table>\n",
       "</div>"
      ],
      "text/plain": [
       "                                              SMILES  P05556  O75578  P05106  \\\n",
       "0  CC(C)(C)c1cc(Br)cc([C@H](CC(=O)O)NC(=O)CNC(=O)...       1       1       0   \n",
       "1  O=C(NCc1ccccc1)NC[C@H](NC(=O)[C@@H]1CCCN1S(=O)...       1       0       0   \n",
       "2  O=C(NCc1ccccc1)NC[C@H](NC(=O)[C@@H]1CCCN1S(=O)...       1       0       0   \n",
       "\n",
       "   P06756  P08648  P13612  P17301  P23229  P56199  Q13797  \n",
       "0       0       0       0       0       0       0       0  \n",
       "1       0       0       0       0       0       1       0  \n",
       "2       0       0       0       0       0       1       0  "
      ]
     },
     "execution_count": 224,
     "metadata": {},
     "output_type": "execute_result"
    }
   ],
   "source": [
    "second_df_encoded.head(3)"
   ]
  },
  {
   "cell_type": "code",
   "execution_count": 225,
   "id": "39f7ec8c-7836-467f-b4da-a79b6ff0140b",
   "metadata": {
    "tags": []
   },
   "outputs": [
    {
     "name": "stdout",
     "output_type": "stream",
     "text": [
      "~~~~~~~~~~~~~~~~~~~~~~~~~~~~~~~~~~~~~~~~~~~~~~~~~~~~~~~~~~~~~~~~~~~~~~~~~~~~~~~~\n",
      "Filtered columns -> ['O75578', 'P05106', 'P06756', 'P08648', 'P13612', 'P17301', 'P23229', 'P56199', 'Q13797']\n",
      "~~~~~~~~~~~~~~~~~~~~~~~~~~~~~~~~~~~~~~~~~~~~~~~~~~~~~~~~~~~~~~~~~~~~~~~~~~~~~~~~\n"
     ]
    }
   ],
   "source": [
    "filtered_columns = filter_proteins_list(second_df_encoded, columns_to_remove = ['SMILES', 'P05556'])\n",
    "PRINT(f'Filtered columns -> {filtered_columns}')"
   ]
  },
  {
   "cell_type": "code",
   "execution_count": 226,
   "id": "2a0ca8b0-3b7a-433d-abf5-c50d55d0facb",
   "metadata": {
    "tags": []
   },
   "outputs": [
    {
     "data": {
      "text/html": [
       "<div>\n",
       "<style scoped>\n",
       "    .dataframe tbody tr th:only-of-type {\n",
       "        vertical-align: middle;\n",
       "    }\n",
       "\n",
       "    .dataframe tbody tr th {\n",
       "        vertical-align: top;\n",
       "    }\n",
       "\n",
       "    .dataframe thead th {\n",
       "        text-align: right;\n",
       "    }\n",
       "</style>\n",
       "<table border=\"1\" class=\"dataframe\">\n",
       "  <thead>\n",
       "    <tr style=\"text-align: right;\">\n",
       "      <th></th>\n",
       "      <th>O75578</th>\n",
       "      <th>P05106</th>\n",
       "      <th>P06756</th>\n",
       "      <th>P08648</th>\n",
       "      <th>P13612</th>\n",
       "      <th>P17301</th>\n",
       "      <th>P23229</th>\n",
       "      <th>P56199</th>\n",
       "      <th>Q13797</th>\n",
       "    </tr>\n",
       "  </thead>\n",
       "  <tbody>\n",
       "    <tr>\n",
       "      <th>0</th>\n",
       "      <td>1</td>\n",
       "      <td>0</td>\n",
       "      <td>0</td>\n",
       "      <td>0</td>\n",
       "      <td>0</td>\n",
       "      <td>0</td>\n",
       "      <td>0</td>\n",
       "      <td>0</td>\n",
       "      <td>0</td>\n",
       "    </tr>\n",
       "    <tr>\n",
       "      <th>1</th>\n",
       "      <td>0</td>\n",
       "      <td>0</td>\n",
       "      <td>0</td>\n",
       "      <td>0</td>\n",
       "      <td>0</td>\n",
       "      <td>0</td>\n",
       "      <td>0</td>\n",
       "      <td>1</td>\n",
       "      <td>0</td>\n",
       "    </tr>\n",
       "    <tr>\n",
       "      <th>2</th>\n",
       "      <td>0</td>\n",
       "      <td>0</td>\n",
       "      <td>0</td>\n",
       "      <td>0</td>\n",
       "      <td>0</td>\n",
       "      <td>0</td>\n",
       "      <td>0</td>\n",
       "      <td>1</td>\n",
       "      <td>0</td>\n",
       "    </tr>\n",
       "    <tr>\n",
       "      <th>3</th>\n",
       "      <td>0</td>\n",
       "      <td>0</td>\n",
       "      <td>0</td>\n",
       "      <td>0</td>\n",
       "      <td>0</td>\n",
       "      <td>0</td>\n",
       "      <td>0</td>\n",
       "      <td>1</td>\n",
       "      <td>0</td>\n",
       "    </tr>\n",
       "    <tr>\n",
       "      <th>4</th>\n",
       "      <td>0</td>\n",
       "      <td>0</td>\n",
       "      <td>0</td>\n",
       "      <td>0</td>\n",
       "      <td>0</td>\n",
       "      <td>0</td>\n",
       "      <td>0</td>\n",
       "      <td>1</td>\n",
       "      <td>0</td>\n",
       "    </tr>\n",
       "  </tbody>\n",
       "</table>\n",
       "</div>"
      ],
      "text/plain": [
       "   O75578  P05106  P06756  P08648  P13612  P17301  P23229  P56199  Q13797\n",
       "0       1       0       0       0       0       0       0       0       0\n",
       "1       0       0       0       0       0       0       0       1       0\n",
       "2       0       0       0       0       0       0       0       1       0\n",
       "3       0       0       0       0       0       0       0       1       0\n",
       "4       0       0       0       0       0       0       0       1       0"
      ]
     },
     "execution_count": 226,
     "metadata": {},
     "output_type": "execute_result"
    }
   ],
   "source": [
    "temp_df_2 = second_df_encoded[filtered_columns]\n",
    "\n",
    "temp_df_2.head(5)"
   ]
  },
  {
   "cell_type": "code",
   "execution_count": 267,
   "id": "b196da99-3451-422d-96ba-94c9c13da145",
   "metadata": {
    "tags": []
   },
   "outputs": [
    {
     "data": {
      "image/png": "[encoded data removed]",
      "text/plain": [
       "<Figure size 1200x800 with 1 Axes>"
      ]
     },
     "metadata": {},
     "output_type": "display_data"
    }
   ],
   "source": [
    "visualize_dist(temp_df_2, unique_proteins[1])"
   ]
  },
  {
   "cell_type": "markdown",
   "id": "e0ca8cf4-689e-4848-9c5c-2de3345fbb05",
   "metadata": {
    "tags": []
   },
   "source": [
    "In the plot above, we observe that certain proteins, such as `O75578` and `P23229`, have minimal occurrences in the PPI with `P05106`. In contrast, proteins like `P13612` exhibit frequent appearances in the PPI with '`P05106`."
   ]
  },
  {
   "cell_type": "markdown",
   "id": "e664c6e0-4fed-458e-81bc-ff291586772c",
   "metadata": {},
   "source": [
    "##### Explore the First Data Frame #####"
   ]
  },
  {
   "cell_type": "code",
   "execution_count": 250,
   "id": "cc07f3ab-10cd-48d5-a989-26398c5e2fb8",
   "metadata": {
    "tags": []
   },
   "outputs": [
    {
     "name": "stdout",
     "output_type": "stream",
     "text": [
      "~~~~~~~~~~~~~~~~~~~~~~~~~~~~~~~~~~~~~~~~~~~~~~~~~~~~~~~~~~~~~~~~~~~~~~~~~~~~~~~~\n",
      "The size of the data frame is -> 2197\n",
      "~~~~~~~~~~~~~~~~~~~~~~~~~~~~~~~~~~~~~~~~~~~~~~~~~~~~~~~~~~~~~~~~~~~~~~~~~~~~~~~~\n",
      "Number of time O75578 appears -> 1\n",
      "Number of time P23229 appears -> 1\n",
      "Number of time P56199 appears -> 6\n",
      "Number of time Q13797 appears -> 10\n",
      "Number of time P17301 appears -> 57\n",
      "Number of time P05106 appears -> 37\n",
      "Number of time P06756 appears -> 170\n",
      "Number of time P08648 appears -> 463\n",
      "Number of time P13612 appears -> 1452\n",
      "~~~~~~~~~~~~~~~~~~~~~~~~~~~~~~~~~~~~~~~~~~~~~~~~~~~~~~~~~~~~~~~~~~~~~~~~~~~~~~~~\n",
      "Done.\n",
      "~~~~~~~~~~~~~~~~~~~~~~~~~~~~~~~~~~~~~~~~~~~~~~~~~~~~~~~~~~~~~~~~~~~~~~~~~~~~~~~~\n"
     ]
    }
   ],
   "source": [
    "PRINT(f'The size of the data frame is -> {len(second_df)}')\n",
    "print(f'Number of time O75578 appears -> {len(second_df[second_df[\"UniProt2\"] == \"O75578\"])}')\n",
    "print(f'Number of time P23229 appears -> {len(second_df[second_df[\"UniProt2\"] == \"P23229\"])}')\n",
    "print(f'Number of time P56199 appears -> {len(second_df[second_df[\"UniProt2\"] == \"P56199\"])}')\n",
    "print(f'Number of time Q13797 appears -> {len(second_df[second_df[\"UniProt2\"] == \"Q13797\"])}')\n",
    "print(f'Number of time P17301 appears -> {len(second_df[second_df[\"UniProt2\"] == \"P17301\"])}')\n",
    "print(f'Number of time P05106 appears -> {len(second_df[second_df[\"UniProt2\"] == \"P05106\"])}')\n",
    "print(f'Number of time P06756 appears -> {len(second_df[second_df[\"UniProt2\"] == \"P06756\"])}')\n",
    "print(f'Number of time P08648 appears -> {len(second_df[second_df[\"UniProt2\"] == \"P08648\"])}')\n",
    "print(f'Number of time P13612 appears -> {len(second_df[second_df[\"UniProt2\"] == \"P13612\"])}')\n",
    "\n",
    "PRINT('Done.')"
   ]
  },
  {
   "cell_type": "markdown",
   "id": "92047535-ebfc-4128-92a1-2cdeef97eb15",
   "metadata": {},
   "source": [
    "### Third Data Frame ###"
   ]
  },
  {
   "cell_type": "code",
   "execution_count": 263,
   "id": "4ceaaeb4-3fb6-42b4-b813-b11eeb5d16ff",
   "metadata": {
    "tags": []
   },
   "outputs": [
    {
     "data": {
      "text/html": [
       "<div>\n",
       "<style scoped>\n",
       "    .dataframe tbody tr th:only-of-type {\n",
       "        vertical-align: middle;\n",
       "    }\n",
       "\n",
       "    .dataframe tbody tr th {\n",
       "        vertical-align: top;\n",
       "    }\n",
       "\n",
       "    .dataframe thead th {\n",
       "        text-align: right;\n",
       "    }\n",
       "</style>\n",
       "<table border=\"1\" class=\"dataframe\">\n",
       "  <thead>\n",
       "    <tr style=\"text-align: right;\">\n",
       "      <th></th>\n",
       "      <th>SMILES</th>\n",
       "      <th>UniProt1</th>\n",
       "      <th>UniProt2</th>\n",
       "    </tr>\n",
       "  </thead>\n",
       "  <tbody>\n",
       "    <tr>\n",
       "      <th>0</th>\n",
       "      <td>CC(C)Oc1ccc(C(CC(=O)O)NC(=O)CCC(=O)Nc2ccc3c(c2...</td>\n",
       "      <td>P05106</td>\n",
       "      <td>P26006</td>\n",
       "    </tr>\n",
       "    <tr>\n",
       "      <th>1</th>\n",
       "      <td>COc1ccc(C(CC(=O)O)NC(=O)c2cccc(C(=O)Nc3ccc4c(c...</td>\n",
       "      <td>P05106</td>\n",
       "      <td>P26006</td>\n",
       "    </tr>\n",
       "  </tbody>\n",
       "</table>\n",
       "</div>"
      ],
      "text/plain": [
       "                                              SMILES UniProt1 UniProt2\n",
       "0  CC(C)Oc1ccc(C(CC(=O)O)NC(=O)CCC(=O)Nc2ccc3c(c2...   P05106   P26006\n",
       "1  COc1ccc(C(CC(=O)O)NC(=O)c2cccc(C(=O)Nc3ccc4c(c...   P05106   P26006"
      ]
     },
     "execution_count": 263,
     "metadata": {},
     "output_type": "execute_result"
    }
   ],
   "source": [
    "third_df = protein_dataframes[unique_proteins[2]]\n",
    "\n",
    "third_df.head(2)"
   ]
  },
  {
   "cell_type": "markdown",
   "id": "93586500-2aa9-4d9e-a9f8-0ba0f01dbc98",
   "metadata": {},
   "source": [
    "#### Visualize Distribution ####"
   ]
  },
  {
   "cell_type": "code",
   "execution_count": 264,
   "id": "690cebcd-7179-4988-be2d-6d4734c0fb2e",
   "metadata": {
    "tags": []
   },
   "outputs": [],
   "source": [
    "third_df_encoded = one_hot_encoding(third_df)"
   ]
  },
  {
   "cell_type": "code",
   "execution_count": 265,
   "id": "314c5677-1a26-4b7e-99c1-df935603822e",
   "metadata": {
    "tags": []
   },
   "outputs": [
    {
     "data": {
      "text/plain": [
       "Index(['SMILES', 'P05106', 'P05556', 'P06756', 'P08514', 'P17301', 'P26006'], dtype='object')"
      ]
     },
     "execution_count": 265,
     "metadata": {},
     "output_type": "execute_result"
    }
   ],
   "source": [
    "third_df_encoded.columns"
   ]
  },
  {
   "cell_type": "code",
   "execution_count": 261,
   "id": "58921601-c159-4c53-b87a-b974983f1920",
   "metadata": {
    "tags": []
   },
   "outputs": [
    {
     "data": {
      "text/html": [
       "<div>\n",
       "<style scoped>\n",
       "    .dataframe tbody tr th:only-of-type {\n",
       "        vertical-align: middle;\n",
       "    }\n",
       "\n",
       "    .dataframe tbody tr th {\n",
       "        vertical-align: top;\n",
       "    }\n",
       "\n",
       "    .dataframe thead th {\n",
       "        text-align: right;\n",
       "    }\n",
       "</style>\n",
       "<table border=\"1\" class=\"dataframe\">\n",
       "  <thead>\n",
       "    <tr style=\"text-align: right;\">\n",
       "      <th></th>\n",
       "      <th>SMILES</th>\n",
       "      <th>P05106</th>\n",
       "      <th>P05556</th>\n",
       "      <th>P06756</th>\n",
       "      <th>P08514</th>\n",
       "      <th>P17301</th>\n",
       "      <th>P26006</th>\n",
       "    </tr>\n",
       "  </thead>\n",
       "  <tbody>\n",
       "    <tr>\n",
       "      <th>0</th>\n",
       "      <td>CC(C)Oc1ccc(C(CC(=O)O)NC(=O)CCC(=O)Nc2ccc3c(c2...</td>\n",
       "      <td>1</td>\n",
       "      <td>0</td>\n",
       "      <td>0</td>\n",
       "      <td>0</td>\n",
       "      <td>0</td>\n",
       "      <td>1</td>\n",
       "    </tr>\n",
       "    <tr>\n",
       "      <th>1</th>\n",
       "      <td>COc1ccc(C(CC(=O)O)NC(=O)c2cccc(C(=O)Nc3ccc4c(c...</td>\n",
       "      <td>1</td>\n",
       "      <td>0</td>\n",
       "      <td>0</td>\n",
       "      <td>0</td>\n",
       "      <td>0</td>\n",
       "      <td>1</td>\n",
       "    </tr>\n",
       "    <tr>\n",
       "      <th>2</th>\n",
       "      <td>COc1ccc(C(CC(=O)O)NC(=O)CCC(=O)Nc2ccc3c(c2)CNC...</td>\n",
       "      <td>1</td>\n",
       "      <td>0</td>\n",
       "      <td>0</td>\n",
       "      <td>0</td>\n",
       "      <td>0</td>\n",
       "      <td>1</td>\n",
       "    </tr>\n",
       "  </tbody>\n",
       "</table>\n",
       "</div>"
      ],
      "text/plain": [
       "                                              SMILES  P05106  P05556  P06756  \\\n",
       "0  CC(C)Oc1ccc(C(CC(=O)O)NC(=O)CCC(=O)Nc2ccc3c(c2...       1       0       0   \n",
       "1  COc1ccc(C(CC(=O)O)NC(=O)c2cccc(C(=O)Nc3ccc4c(c...       1       0       0   \n",
       "2  COc1ccc(C(CC(=O)O)NC(=O)CCC(=O)Nc2ccc3c(c2)CNC...       1       0       0   \n",
       "\n",
       "   P08514  P17301  P26006  \n",
       "0       0       0       1  \n",
       "1       0       0       1  \n",
       "2       0       0       1  "
      ]
     },
     "execution_count": 261,
     "metadata": {},
     "output_type": "execute_result"
    }
   ],
   "source": [
    "third_df_encoded.head(3)"
   ]
  },
  {
   "cell_type": "code",
   "execution_count": 262,
   "id": "eddc677e-ecd9-4306-ab4e-c63d07f02098",
   "metadata": {
    "tags": []
   },
   "outputs": [
    {
     "name": "stdout",
     "output_type": "stream",
     "text": [
      "~~~~~~~~~~~~~~~~~~~~~~~~~~~~~~~~~~~~~~~~~~~~~~~~~~~~~~~~~~~~~~~~~~~~~~~~~~~~~~~~\n",
      "Filtered columns -> ['P05556', 'P06756', 'P08514', 'P17301', 'P26006']\n",
      "~~~~~~~~~~~~~~~~~~~~~~~~~~~~~~~~~~~~~~~~~~~~~~~~~~~~~~~~~~~~~~~~~~~~~~~~~~~~~~~~\n"
     ]
    }
   ],
   "source": [
    "filtered_columns = filter_proteins_list(third_df_encoded, columns_to_remove = ['SMILES', 'P05106'])\n",
    "PRINT(f'Filtered columns -> {filtered_columns}')"
   ]
  },
  {
   "cell_type": "code",
   "execution_count": 269,
   "id": "4a7528b0-0547-4d73-b938-8c58fe82359f",
   "metadata": {
    "tags": []
   },
   "outputs": [
    {
     "data": {
      "text/html": [
       "<div>\n",
       "<style scoped>\n",
       "    .dataframe tbody tr th:only-of-type {\n",
       "        vertical-align: middle;\n",
       "    }\n",
       "\n",
       "    .dataframe tbody tr th {\n",
       "        vertical-align: top;\n",
       "    }\n",
       "\n",
       "    .dataframe thead th {\n",
       "        text-align: right;\n",
       "    }\n",
       "</style>\n",
       "<table border=\"1\" class=\"dataframe\">\n",
       "  <thead>\n",
       "    <tr style=\"text-align: right;\">\n",
       "      <th></th>\n",
       "      <th>P05556</th>\n",
       "      <th>P06756</th>\n",
       "      <th>P08514</th>\n",
       "      <th>P17301</th>\n",
       "      <th>P26006</th>\n",
       "    </tr>\n",
       "  </thead>\n",
       "  <tbody>\n",
       "    <tr>\n",
       "      <th>0</th>\n",
       "      <td>0</td>\n",
       "      <td>0</td>\n",
       "      <td>0</td>\n",
       "      <td>0</td>\n",
       "      <td>1</td>\n",
       "    </tr>\n",
       "    <tr>\n",
       "      <th>1</th>\n",
       "      <td>0</td>\n",
       "      <td>0</td>\n",
       "      <td>0</td>\n",
       "      <td>0</td>\n",
       "      <td>1</td>\n",
       "    </tr>\n",
       "    <tr>\n",
       "      <th>2</th>\n",
       "      <td>0</td>\n",
       "      <td>0</td>\n",
       "      <td>0</td>\n",
       "      <td>0</td>\n",
       "      <td>1</td>\n",
       "    </tr>\n",
       "    <tr>\n",
       "      <th>3</th>\n",
       "      <td>0</td>\n",
       "      <td>0</td>\n",
       "      <td>0</td>\n",
       "      <td>0</td>\n",
       "      <td>1</td>\n",
       "    </tr>\n",
       "    <tr>\n",
       "      <th>4</th>\n",
       "      <td>0</td>\n",
       "      <td>0</td>\n",
       "      <td>0</td>\n",
       "      <td>0</td>\n",
       "      <td>1</td>\n",
       "    </tr>\n",
       "  </tbody>\n",
       "</table>\n",
       "</div>"
      ],
      "text/plain": [
       "   P05556  P06756  P08514  P17301  P26006\n",
       "0       0       0       0       0       1\n",
       "1       0       0       0       0       1\n",
       "2       0       0       0       0       1\n",
       "3       0       0       0       0       1\n",
       "4       0       0       0       0       1"
      ]
     },
     "execution_count": 269,
     "metadata": {},
     "output_type": "execute_result"
    }
   ],
   "source": [
    "temp_df_3 = third_df_encoded[filtered_columns]\n",
    "\n",
    "temp_df_3.head(5)"
   ]
  },
  {
   "cell_type": "code",
   "execution_count": 270,
   "id": "bd3fba6f-d9cc-4e8f-81e9-d10aaa189ba8",
   "metadata": {
    "tags": []
   },
   "outputs": [
    {
     "data": {
      "image/png": "[encoded data removed]",
      "text/plain": [
       "<Figure size 1200x800 with 1 Axes>"
      ]
     },
     "metadata": {},
     "output_type": "display_data"
    }
   ],
   "source": [
    "visualize_dist(temp_df_3, unique_proteins[2])"
   ]
  },
  {
   "cell_type": "markdown",
   "id": "0fa663ab-38ae-4133-9afc-add608d0ffbb",
   "metadata": {},
   "source": [
    "##### Explore the First Data Frame #####"
   ]
  },
  {
   "cell_type": "code",
   "execution_count": 272,
   "id": "6796d781-005a-49a8-9e87-0effb6cbe55c",
   "metadata": {
    "tags": []
   },
   "outputs": [
    {
     "name": "stdout",
     "output_type": "stream",
     "text": [
      "~~~~~~~~~~~~~~~~~~~~~~~~~~~~~~~~~~~~~~~~~~~~~~~~~~~~~~~~~~~~~~~~~~~~~~~~~~~~~~~~\n",
      "The size of the data frame is -> 4478\n",
      "~~~~~~~~~~~~~~~~~~~~~~~~~~~~~~~~~~~~~~~~~~~~~~~~~~~~~~~~~~~~~~~~~~~~~~~~~~~~~~~~\n",
      "Number of time P17301 appears -> 20\n",
      "Number of time P05556 appears -> 37\n",
      "Number of time P26006 appears -> 25\n",
      "Number of time P06756 appears -> 2058\n",
      "Number of time P08514 appears -> 2338\n",
      "~~~~~~~~~~~~~~~~~~~~~~~~~~~~~~~~~~~~~~~~~~~~~~~~~~~~~~~~~~~~~~~~~~~~~~~~~~~~~~~~\n",
      "Done.\n",
      "~~~~~~~~~~~~~~~~~~~~~~~~~~~~~~~~~~~~~~~~~~~~~~~~~~~~~~~~~~~~~~~~~~~~~~~~~~~~~~~~\n"
     ]
    }
   ],
   "source": [
    "PRINT(f'The size of the data frame is -> {len(third_df)}')\n",
    "print(f'Number of time P17301 appears -> {len(third_df[third_df[\"UniProt2\"] == \"P17301\"])}')\n",
    "print(f'Number of time P05556 appears -> {len(third_df[third_df[\"UniProt2\"] == \"P05556\"])}')\n",
    "print(f'Number of time P26006 appears -> {len(third_df[third_df[\"UniProt2\"] == \"P26006\"])}')\n",
    "print(f'Number of time P06756 appears -> {len(third_df[third_df[\"UniProt2\"] == \"P06756\"])}')\n",
    "print(f'Number of time P08514 appears -> {len(third_df[third_df[\"UniProt2\"] == \"P08514\"])}')\n",
    "\n",
    "PRINT('Done.')"
   ]
  },
  {
   "cell_type": "markdown",
   "id": "07459517-90ad-43ab-80ac-701b86c23744",
   "metadata": {},
   "source": [
    "### Fourth Data Frame ###"
   ]
  },
  {
   "cell_type": "code",
   "execution_count": 282,
   "id": "3017178c-58a4-4300-ae53-b979b9c34a3d",
   "metadata": {
    "tags": []
   },
   "outputs": [
    {
     "data": {
      "text/html": [
       "<div>\n",
       "<style scoped>\n",
       "    .dataframe tbody tr th:only-of-type {\n",
       "        vertical-align: middle;\n",
       "    }\n",
       "\n",
       "    .dataframe tbody tr th {\n",
       "        vertical-align: top;\n",
       "    }\n",
       "\n",
       "    .dataframe thead th {\n",
       "        text-align: right;\n",
       "    }\n",
       "</style>\n",
       "<table border=\"1\" class=\"dataframe\">\n",
       "  <thead>\n",
       "    <tr style=\"text-align: right;\">\n",
       "      <th></th>\n",
       "      <th>SMILES</th>\n",
       "      <th>UniProt1</th>\n",
       "      <th>UniProt2</th>\n",
       "    </tr>\n",
       "  </thead>\n",
       "  <tbody>\n",
       "    <tr>\n",
       "      <th>0</th>\n",
       "      <td>COC(=O)CN1C(=O)S/C(=C\\c2ccc(-c3ccc(C(=O)O)cc3)...</td>\n",
       "      <td>P05107</td>\n",
       "      <td>P11215</td>\n",
       "    </tr>\n",
       "    <tr>\n",
       "      <th>1</th>\n",
       "      <td>Cc1ccc(/C=C2\\SC(=O)N(C)C2=O)o1</td>\n",
       "      <td>P05107</td>\n",
       "      <td>P11215</td>\n",
       "    </tr>\n",
       "  </tbody>\n",
       "</table>\n",
       "</div>"
      ],
      "text/plain": [
       "                                              SMILES UniProt1 UniProt2\n",
       "0  COC(=O)CN1C(=O)S/C(=C\\c2ccc(-c3ccc(C(=O)O)cc3)...   P05107   P11215\n",
       "1                     Cc1ccc(/C=C2\\SC(=O)N(C)C2=O)o1   P05107   P11215"
      ]
     },
     "execution_count": 282,
     "metadata": {},
     "output_type": "execute_result"
    }
   ],
   "source": [
    "fourth_df = protein_dataframes[unique_proteins[3]]\n",
    "\n",
    "fourth_df.head(2)"
   ]
  },
  {
   "cell_type": "markdown",
   "id": "6b8ecef5-8a6a-43e8-a5a1-b36aa2d3a28a",
   "metadata": {},
   "source": [
    "#### Visualize Distribution ####"
   ]
  },
  {
   "cell_type": "code",
   "execution_count": 283,
   "id": "bee090fc-3ac8-472f-b123-13ab161318d4",
   "metadata": {
    "tags": []
   },
   "outputs": [],
   "source": [
    "fourth_df_encoded = one_hot_encoding(fourth_df)"
   ]
  },
  {
   "cell_type": "code",
   "execution_count": 284,
   "id": "a982bce7-a8c1-4739-bd76-eb4538256f1a",
   "metadata": {
    "tags": []
   },
   "outputs": [
    {
     "data": {
      "text/plain": [
       "Index(['SMILES', 'P05107', 'P11215', 'P20701'], dtype='object')"
      ]
     },
     "execution_count": 284,
     "metadata": {},
     "output_type": "execute_result"
    }
   ],
   "source": [
    "fourth_df_encoded.columns"
   ]
  },
  {
   "cell_type": "code",
   "execution_count": 285,
   "id": "bd04b2d1-95de-452b-8374-ee33411cc066",
   "metadata": {
    "tags": []
   },
   "outputs": [
    {
     "data": {
      "text/html": [
       "<div>\n",
       "<style scoped>\n",
       "    .dataframe tbody tr th:only-of-type {\n",
       "        vertical-align: middle;\n",
       "    }\n",
       "\n",
       "    .dataframe tbody tr th {\n",
       "        vertical-align: top;\n",
       "    }\n",
       "\n",
       "    .dataframe thead th {\n",
       "        text-align: right;\n",
       "    }\n",
       "</style>\n",
       "<table border=\"1\" class=\"dataframe\">\n",
       "  <thead>\n",
       "    <tr style=\"text-align: right;\">\n",
       "      <th></th>\n",
       "      <th>SMILES</th>\n",
       "      <th>P05107</th>\n",
       "      <th>P11215</th>\n",
       "      <th>P20701</th>\n",
       "    </tr>\n",
       "  </thead>\n",
       "  <tbody>\n",
       "    <tr>\n",
       "      <th>0</th>\n",
       "      <td>COC(=O)CN1C(=O)S/C(=C\\c2ccc(-c3ccc(C(=O)O)cc3)...</td>\n",
       "      <td>1</td>\n",
       "      <td>1</td>\n",
       "      <td>0</td>\n",
       "    </tr>\n",
       "    <tr>\n",
       "      <th>1</th>\n",
       "      <td>Cc1ccc(/C=C2\\SC(=O)N(C)C2=O)o1</td>\n",
       "      <td>1</td>\n",
       "      <td>1</td>\n",
       "      <td>0</td>\n",
       "    </tr>\n",
       "    <tr>\n",
       "      <th>2</th>\n",
       "      <td>CCN1/C(=C/C=C/c2sc3ccccc3[n+]2CC)Sc2ccccc21.[I-]</td>\n",
       "      <td>1</td>\n",
       "      <td>1</td>\n",
       "      <td>0</td>\n",
       "    </tr>\n",
       "  </tbody>\n",
       "</table>\n",
       "</div>"
      ],
      "text/plain": [
       "                                              SMILES  P05107  P11215  P20701\n",
       "0  COC(=O)CN1C(=O)S/C(=C\\c2ccc(-c3ccc(C(=O)O)cc3)...       1       1       0\n",
       "1                     Cc1ccc(/C=C2\\SC(=O)N(C)C2=O)o1       1       1       0\n",
       "2   CCN1/C(=C/C=C/c2sc3ccccc3[n+]2CC)Sc2ccccc21.[I-]       1       1       0"
      ]
     },
     "execution_count": 285,
     "metadata": {},
     "output_type": "execute_result"
    }
   ],
   "source": [
    "fourth_df_encoded.head(3)"
   ]
  },
  {
   "cell_type": "code",
   "execution_count": 286,
   "id": "b9e2c2e7-4b60-4d58-b09b-6c476e078af3",
   "metadata": {
    "tags": []
   },
   "outputs": [
    {
     "name": "stdout",
     "output_type": "stream",
     "text": [
      "~~~~~~~~~~~~~~~~~~~~~~~~~~~~~~~~~~~~~~~~~~~~~~~~~~~~~~~~~~~~~~~~~~~~~~~~~~~~~~~~\n",
      "Filtered columns -> ['P11215', 'P20701']\n",
      "~~~~~~~~~~~~~~~~~~~~~~~~~~~~~~~~~~~~~~~~~~~~~~~~~~~~~~~~~~~~~~~~~~~~~~~~~~~~~~~~\n"
     ]
    }
   ],
   "source": [
    "filtered_columns = filter_proteins_list(fourth_df_encoded, columns_to_remove=['SMILES', 'P05107'])\n",
    "PRINT(f'Filtered columns -> {filtered_columns}')"
   ]
  },
  {
   "cell_type": "code",
   "execution_count": 290,
   "id": "6285d62b-d49e-45f4-ade3-8a01c8e9cf67",
   "metadata": {
    "tags": []
   },
   "outputs": [
    {
     "data": {
      "text/html": [
       "<div>\n",
       "<style scoped>\n",
       "    .dataframe tbody tr th:only-of-type {\n",
       "        vertical-align: middle;\n",
       "    }\n",
       "\n",
       "    .dataframe tbody tr th {\n",
       "        vertical-align: top;\n",
       "    }\n",
       "\n",
       "    .dataframe thead th {\n",
       "        text-align: right;\n",
       "    }\n",
       "</style>\n",
       "<table border=\"1\" class=\"dataframe\">\n",
       "  <thead>\n",
       "    <tr style=\"text-align: right;\">\n",
       "      <th></th>\n",
       "      <th>P11215</th>\n",
       "      <th>P20701</th>\n",
       "    </tr>\n",
       "  </thead>\n",
       "  <tbody>\n",
       "    <tr>\n",
       "      <th>0</th>\n",
       "      <td>1</td>\n",
       "      <td>0</td>\n",
       "    </tr>\n",
       "    <tr>\n",
       "      <th>1</th>\n",
       "      <td>1</td>\n",
       "      <td>0</td>\n",
       "    </tr>\n",
       "  </tbody>\n",
       "</table>\n",
       "</div>"
      ],
      "text/plain": [
       "   P11215  P20701\n",
       "0       1       0\n",
       "1       1       0"
      ]
     },
     "execution_count": 290,
     "metadata": {},
     "output_type": "execute_result"
    }
   ],
   "source": [
    "temp_df_4 = fourth_df_encoded[filtered_columns]\n",
    "\n",
    "temp_df_4.head(2)"
   ]
  },
  {
   "cell_type": "code",
   "execution_count": 291,
   "id": "f592d324-8157-4052-ae55-1f9f4e4c3920",
   "metadata": {
    "tags": []
   },
   "outputs": [
    {
     "data": {
      "image/png": "[encoded data removed]",
      "text/plain": [
       "<Figure size 1200x800 with 1 Axes>"
      ]
     },
     "metadata": {},
     "output_type": "display_data"
    }
   ],
   "source": [
    "visualize_dist(temp_df_4, unique_proteins[3])"
   ]
  },
  {
   "cell_type": "markdown",
   "id": "af3e40d5-abd4-4442-845b-8f9a5dbeb4c4",
   "metadata": {},
   "source": [
    "The data above is quite interesting, indicating that both proteins appear the same number of times in the PPI with `P05107`."
   ]
  },
  {
   "cell_type": "markdown",
   "id": "ac83d1c4-184c-4b42-b97c-58939777899b",
   "metadata": {},
   "source": [
    "#### Explore the First Data Frame #####"
   ]
  },
  {
   "cell_type": "code",
   "execution_count": 294,
   "id": "446c4297-016c-409b-a5cf-a7256e9870ab",
   "metadata": {
    "tags": []
   },
   "outputs": [
    {
     "name": "stdout",
     "output_type": "stream",
     "text": [
      "~~~~~~~~~~~~~~~~~~~~~~~~~~~~~~~~~~~~~~~~~~~~~~~~~~~~~~~~~~~~~~~~~~~~~~~~~~~~~~~~\n",
      "The size of the data frame is -> 66\n",
      "~~~~~~~~~~~~~~~~~~~~~~~~~~~~~~~~~~~~~~~~~~~~~~~~~~~~~~~~~~~~~~~~~~~~~~~~~~~~~~~~\n",
      "Number of time P11215 appears -> 33\n",
      "Number of time P20701 appears -> 33\n",
      "~~~~~~~~~~~~~~~~~~~~~~~~~~~~~~~~~~~~~~~~~~~~~~~~~~~~~~~~~~~~~~~~~~~~~~~~~~~~~~~~\n",
      "Done.\n",
      "~~~~~~~~~~~~~~~~~~~~~~~~~~~~~~~~~~~~~~~~~~~~~~~~~~~~~~~~~~~~~~~~~~~~~~~~~~~~~~~~\n"
     ]
    }
   ],
   "source": [
    "PRINT(f'The size of the data frame is -> {len(fourth_df)}')\n",
    "print(f'Number of time P11215 appears -> {len(fourth_df[fourth_df[\"UniProt2\"] == \"P11215\"])}')\n",
    "print(f'Number of time P20701 appears -> {len(fourth_df[fourth_df[\"UniProt2\"] == \"P20701\"])}')\n",
    "\n",
    "PRINT('Done.')"
   ]
  },
  {
   "cell_type": "markdown",
   "id": "96513610-381a-40b3-bc5a-b454573370d6",
   "metadata": {},
   "source": [
    "### Fifth Data Frame ###"
   ]
  },
  {
   "cell_type": "code",
   "execution_count": 296,
   "id": "f1838a19-00d1-4bd1-8e30-2515dcdeb6cd",
   "metadata": {
    "tags": []
   },
   "outputs": [
    {
     "data": {
      "text/html": [
       "<div>\n",
       "<style scoped>\n",
       "    .dataframe tbody tr th:only-of-type {\n",
       "        vertical-align: middle;\n",
       "    }\n",
       "\n",
       "    .dataframe tbody tr th {\n",
       "        vertical-align: top;\n",
       "    }\n",
       "\n",
       "    .dataframe thead th {\n",
       "        text-align: right;\n",
       "    }\n",
       "</style>\n",
       "<table border=\"1\" class=\"dataframe\">\n",
       "  <thead>\n",
       "    <tr style=\"text-align: right;\">\n",
       "      <th></th>\n",
       "      <th>SMILES</th>\n",
       "      <th>UniProt1</th>\n",
       "      <th>UniProt2</th>\n",
       "    </tr>\n",
       "  </thead>\n",
       "  <tbody>\n",
       "    <tr>\n",
       "      <th>0</th>\n",
       "      <td>O=C(N[C@@H](Cc1cccc(OCCCCNc2ccccn2)c1)C(=O)O)c...</td>\n",
       "      <td>P08648</td>\n",
       "      <td>P05556</td>\n",
       "    </tr>\n",
       "    <tr>\n",
       "      <th>1</th>\n",
       "      <td>CC(C)[C@@H]1NC(=O)[C@@H](Cc2c[nH]c3c(-c4ccc(C(...</td>\n",
       "      <td>P08648</td>\n",
       "      <td>P05556</td>\n",
       "    </tr>\n",
       "  </tbody>\n",
       "</table>\n",
       "</div>"
      ],
      "text/plain": [
       "                                              SMILES UniProt1 UniProt2\n",
       "0  O=C(N[C@@H](Cc1cccc(OCCCCNc2ccccn2)c1)C(=O)O)c...   P08648   P05556\n",
       "1  CC(C)[C@@H]1NC(=O)[C@@H](Cc2c[nH]c3c(-c4ccc(C(...   P08648   P05556"
      ]
     },
     "execution_count": 296,
     "metadata": {},
     "output_type": "execute_result"
    }
   ],
   "source": [
    "fifth_df = protein_dataframes[unique_proteins[4]]\n",
    "\n",
    "fifth_df.head(2)"
   ]
  },
  {
   "cell_type": "markdown",
   "id": "49f5c976-6ca1-4dbd-8994-c8c423ad0681",
   "metadata": {},
   "source": [
    "#### Visualize Distribution #### "
   ]
  },
  {
   "cell_type": "code",
   "execution_count": 297,
   "id": "9cb5432e-c9e2-4cd5-a730-bf093b9c99a4",
   "metadata": {
    "tags": []
   },
   "outputs": [],
   "source": [
    "fifth_df_encoded = one_hot_encoding(fifth_df)"
   ]
  },
  {
   "cell_type": "code",
   "execution_count": 298,
   "id": "b157d8ef-5549-4175-932a-5396c79e93ba",
   "metadata": {
    "tags": []
   },
   "outputs": [
    {
     "data": {
      "text/plain": [
       "Index(['SMILES', 'P08648', 'P05556', 'P06756'], dtype='object')"
      ]
     },
     "execution_count": 298,
     "metadata": {},
     "output_type": "execute_result"
    }
   ],
   "source": [
    "fifth_df_encoded.columns"
   ]
  },
  {
   "cell_type": "code",
   "execution_count": 302,
   "id": "09ac08d1-27d4-4625-b303-b6d84995aadc",
   "metadata": {
    "tags": []
   },
   "outputs": [
    {
     "data": {
      "text/html": [
       "<div>\n",
       "<style scoped>\n",
       "    .dataframe tbody tr th:only-of-type {\n",
       "        vertical-align: middle;\n",
       "    }\n",
       "\n",
       "    .dataframe tbody tr th {\n",
       "        vertical-align: top;\n",
       "    }\n",
       "\n",
       "    .dataframe thead th {\n",
       "        text-align: right;\n",
       "    }\n",
       "</style>\n",
       "<table border=\"1\" class=\"dataframe\">\n",
       "  <thead>\n",
       "    <tr style=\"text-align: right;\">\n",
       "      <th></th>\n",
       "      <th>SMILES</th>\n",
       "      <th>P08648</th>\n",
       "      <th>P05556</th>\n",
       "      <th>P06756</th>\n",
       "    </tr>\n",
       "  </thead>\n",
       "  <tbody>\n",
       "    <tr>\n",
       "      <th>0</th>\n",
       "      <td>O=C(N[C@@H](Cc1cccc(OCCCCNc2ccccn2)c1)C(=O)O)c...</td>\n",
       "      <td>1</td>\n",
       "      <td>1</td>\n",
       "      <td>0</td>\n",
       "    </tr>\n",
       "    <tr>\n",
       "      <th>1</th>\n",
       "      <td>CC(C)[C@@H]1NC(=O)[C@@H](Cc2c[nH]c3c(-c4ccc(C(...</td>\n",
       "      <td>1</td>\n",
       "      <td>1</td>\n",
       "      <td>0</td>\n",
       "    </tr>\n",
       "    <tr>\n",
       "      <th>2</th>\n",
       "      <td>CC(C)[C@@H]1NC(=O)[C@@H](Cc2c[nH]c3c(-c4ccc5cc...</td>\n",
       "      <td>1</td>\n",
       "      <td>1</td>\n",
       "      <td>0</td>\n",
       "    </tr>\n",
       "  </tbody>\n",
       "</table>\n",
       "</div>"
      ],
      "text/plain": [
       "                                              SMILES  P08648  P05556  P06756\n",
       "0  O=C(N[C@@H](Cc1cccc(OCCCCNc2ccccn2)c1)C(=O)O)c...       1       1       0\n",
       "1  CC(C)[C@@H]1NC(=O)[C@@H](Cc2c[nH]c3c(-c4ccc(C(...       1       1       0\n",
       "2  CC(C)[C@@H]1NC(=O)[C@@H](Cc2c[nH]c3c(-c4ccc5cc...       1       1       0"
      ]
     },
     "execution_count": 302,
     "metadata": {},
     "output_type": "execute_result"
    }
   ],
   "source": [
    "fifth_df_encoded.head(3)"
   ]
  },
  {
   "cell_type": "code",
   "execution_count": 303,
   "id": "f435c8a0-e7a4-432d-a6d1-5ae24f5ffd24",
   "metadata": {
    "tags": []
   },
   "outputs": [
    {
     "name": "stdout",
     "output_type": "stream",
     "text": [
      "~~~~~~~~~~~~~~~~~~~~~~~~~~~~~~~~~~~~~~~~~~~~~~~~~~~~~~~~~~~~~~~~~~~~~~~~~~~~~~~~\n",
      "Filtered columns -> ['P05556', 'P06756']\n",
      "~~~~~~~~~~~~~~~~~~~~~~~~~~~~~~~~~~~~~~~~~~~~~~~~~~~~~~~~~~~~~~~~~~~~~~~~~~~~~~~~\n"
     ]
    }
   ],
   "source": [
    "filtered_columns = filter_proteins_list(fifth_df_encoded, columns_to_remove=['SMILES', 'P08648'])\n",
    "PRINT(f'Filtered columns -> {filtered_columns}')"
   ]
  },
  {
   "cell_type": "code",
   "execution_count": 305,
   "id": "c0d81b25-9294-4a27-ac21-6c122a1c48e1",
   "metadata": {
    "tags": []
   },
   "outputs": [],
   "source": [
    "temp_df_5 = fifth_df_encoded[filtered_columns]"
   ]
  },
  {
   "cell_type": "code",
   "execution_count": 307,
   "id": "5027116b-3387-480c-a167-818ad17fc4c5",
   "metadata": {
    "tags": []
   },
   "outputs": [
    {
     "data": {
      "image/png": "[encoded data removed]",
      "text/plain": [
       "<Figure size 1200x800 with 1 Axes>"
      ]
     },
     "metadata": {},
     "output_type": "display_data"
    }
   ],
   "source": [
    "visualize_dist(temp_df_5, unique_proteins[4])"
   ]
  },
  {
   "cell_type": "markdown",
   "id": "649ac2b7-dba5-4688-8757-b36f3acf3c54",
   "metadata": {},
   "source": [
    "Here, we observe a particularly interesting distribution of the data. The majority of the fifth dataset represents PPI between the target protein with `UniProt = P08648` and `P05556`. Conversely, there are very few interactions involving `P06756`."
   ]
  },
  {
   "cell_type": "markdown",
   "id": "03f49984-4eee-43b9-b626-5fa61b927f5e",
   "metadata": {
    "tags": []
   },
   "source": [
    "#### Explore the Fifth Data Frame #####"
   ]
  },
  {
   "cell_type": "code",
   "execution_count": 309,
   "id": "8349ac84-3c57-4748-a63c-f029e091d5d1",
   "metadata": {
    "tags": []
   },
   "outputs": [
    {
     "name": "stdout",
     "output_type": "stream",
     "text": [
      "~~~~~~~~~~~~~~~~~~~~~~~~~~~~~~~~~~~~~~~~~~~~~~~~~~~~~~~~~~~~~~~~~~~~~~~~~~~~~~~~\n",
      "The size of the data frame is -> 469\n",
      "~~~~~~~~~~~~~~~~~~~~~~~~~~~~~~~~~~~~~~~~~~~~~~~~~~~~~~~~~~~~~~~~~~~~~~~~~~~~~~~~\n",
      "Number of time P05556 appears -> 463\n",
      "Number of time P0756 appears -> 6\n",
      "~~~~~~~~~~~~~~~~~~~~~~~~~~~~~~~~~~~~~~~~~~~~~~~~~~~~~~~~~~~~~~~~~~~~~~~~~~~~~~~~\n",
      "Done.\n",
      "~~~~~~~~~~~~~~~~~~~~~~~~~~~~~~~~~~~~~~~~~~~~~~~~~~~~~~~~~~~~~~~~~~~~~~~~~~~~~~~~\n"
     ]
    }
   ],
   "source": [
    "PRINT(f'The size of the data frame is -> {len(fifth_df)}')\n",
    "print(f'Number of time P05556 appears -> {len(fifth_df[fifth_df[\"UniProt2\"] == \"P05556\"])}')\n",
    "print(f'Number of time P0756 appears -> {len(fifth_df[fifth_df[\"UniProt2\"] == \"P06756\"])}')\n",
    "\n",
    "PRINT('Done.')"
   ]
  },
  {
   "cell_type": "markdown",
   "id": "673abd43-b632-4022-a0b1-fcd87763e045",
   "metadata": {},
   "source": [
    "### Sixth Data Frame ###"
   ]
  },
  {
   "cell_type": "code",
   "execution_count": 310,
   "id": "74e84982-f9f7-40c4-b226-9419cdec3419",
   "metadata": {
    "tags": []
   },
   "outputs": [
    {
     "data": {
      "text/html": [
       "<div>\n",
       "<style scoped>\n",
       "    .dataframe tbody tr th:only-of-type {\n",
       "        vertical-align: middle;\n",
       "    }\n",
       "\n",
       "    .dataframe tbody tr th {\n",
       "        vertical-align: top;\n",
       "    }\n",
       "\n",
       "    .dataframe thead th {\n",
       "        text-align: right;\n",
       "    }\n",
       "</style>\n",
       "<table border=\"1\" class=\"dataframe\">\n",
       "  <thead>\n",
       "    <tr style=\"text-align: right;\">\n",
       "      <th></th>\n",
       "      <th>SMILES</th>\n",
       "      <th>UniProt1</th>\n",
       "      <th>UniProt2</th>\n",
       "    </tr>\n",
       "  </thead>\n",
       "  <tbody>\n",
       "    <tr>\n",
       "      <th>0</th>\n",
       "      <td>Cc1cccc(Cl)c1C(=O)N[C@@H](Cc1ccc(NC(=O)c2c(Cl)...</td>\n",
       "      <td>P17301</td>\n",
       "      <td>P05556</td>\n",
       "    </tr>\n",
       "    <tr>\n",
       "      <th>1</th>\n",
       "      <td>COc1ccc(S(=O)(=O)N2Cc3[nH]c4ccccc4c3CC2C(N)=O)cc1</td>\n",
       "      <td>P17301</td>\n",
       "      <td>P05556</td>\n",
       "    </tr>\n",
       "  </tbody>\n",
       "</table>\n",
       "</div>"
      ],
      "text/plain": [
       "                                              SMILES UniProt1 UniProt2\n",
       "0  Cc1cccc(Cl)c1C(=O)N[C@@H](Cc1ccc(NC(=O)c2c(Cl)...   P17301   P05556\n",
       "1  COc1ccc(S(=O)(=O)N2Cc3[nH]c4ccccc4c3CC2C(N)=O)cc1   P17301   P05556"
      ]
     },
     "execution_count": 310,
     "metadata": {},
     "output_type": "execute_result"
    }
   ],
   "source": [
    "sixth_df = protein_dataframes[unique_proteins[5]]\n",
    "\n",
    "sixth_df.head(2)"
   ]
  },
  {
   "cell_type": "markdown",
   "id": "bb3def31-5428-4a7a-a343-d752879b0c1a",
   "metadata": {},
   "source": [
    "#### Visualize Distribution ####"
   ]
  },
  {
   "cell_type": "code",
   "execution_count": 311,
   "id": "e73b5521-1830-4663-b967-b2ce1fcd8591",
   "metadata": {
    "tags": []
   },
   "outputs": [],
   "source": [
    "sixth_df_encoded = one_hot_encoding(sixth_df)"
   ]
  },
  {
   "cell_type": "code",
   "execution_count": 312,
   "id": "9f23e799-7446-4182-ad1b-e9c3085a8cac",
   "metadata": {
    "tags": []
   },
   "outputs": [
    {
     "data": {
      "text/plain": [
       "Index(['SMILES', 'P17301', 'P05106', 'P05556'], dtype='object')"
      ]
     },
     "execution_count": 312,
     "metadata": {},
     "output_type": "execute_result"
    }
   ],
   "source": [
    "sixth_df_encoded.columns"
   ]
  },
  {
   "cell_type": "code",
   "execution_count": 313,
   "id": "5d40028a-9734-4c54-96d4-400f6c352f30",
   "metadata": {
    "tags": []
   },
   "outputs": [
    {
     "data": {
      "text/html": [
       "<div>\n",
       "<style scoped>\n",
       "    .dataframe tbody tr th:only-of-type {\n",
       "        vertical-align: middle;\n",
       "    }\n",
       "\n",
       "    .dataframe tbody tr th {\n",
       "        vertical-align: top;\n",
       "    }\n",
       "\n",
       "    .dataframe thead th {\n",
       "        text-align: right;\n",
       "    }\n",
       "</style>\n",
       "<table border=\"1\" class=\"dataframe\">\n",
       "  <thead>\n",
       "    <tr style=\"text-align: right;\">\n",
       "      <th></th>\n",
       "      <th>SMILES</th>\n",
       "      <th>P17301</th>\n",
       "      <th>P05106</th>\n",
       "      <th>P05556</th>\n",
       "    </tr>\n",
       "  </thead>\n",
       "  <tbody>\n",
       "    <tr>\n",
       "      <th>0</th>\n",
       "      <td>Cc1cccc(Cl)c1C(=O)N[C@@H](Cc1ccc(NC(=O)c2c(Cl)...</td>\n",
       "      <td>1</td>\n",
       "      <td>0</td>\n",
       "      <td>1</td>\n",
       "    </tr>\n",
       "    <tr>\n",
       "      <th>1</th>\n",
       "      <td>COc1ccc(S(=O)(=O)N2Cc3[nH]c4ccccc4c3CC2C(N)=O)cc1</td>\n",
       "      <td>1</td>\n",
       "      <td>0</td>\n",
       "      <td>1</td>\n",
       "    </tr>\n",
       "    <tr>\n",
       "      <th>2</th>\n",
       "      <td>O=C(NCc1ccccc1)NC[C@H](NC(=O)[C@@H]1CCCN1S(=O)...</td>\n",
       "      <td>1</td>\n",
       "      <td>0</td>\n",
       "      <td>1</td>\n",
       "    </tr>\n",
       "  </tbody>\n",
       "</table>\n",
       "</div>"
      ],
      "text/plain": [
       "                                              SMILES  P17301  P05106  P05556\n",
       "0  Cc1cccc(Cl)c1C(=O)N[C@@H](Cc1ccc(NC(=O)c2c(Cl)...       1       0       1\n",
       "1  COc1ccc(S(=O)(=O)N2Cc3[nH]c4ccccc4c3CC2C(N)=O)cc1       1       0       1\n",
       "2  O=C(NCc1ccccc1)NC[C@H](NC(=O)[C@@H]1CCCN1S(=O)...       1       0       1"
      ]
     },
     "execution_count": 313,
     "metadata": {},
     "output_type": "execute_result"
    }
   ],
   "source": [
    "sixth_df_encoded.head(3)"
   ]
  },
  {
   "cell_type": "code",
   "execution_count": 314,
   "id": "c3abe59c-5f96-4325-a891-765978a404ff",
   "metadata": {
    "tags": []
   },
   "outputs": [
    {
     "name": "stdout",
     "output_type": "stream",
     "text": [
      "~~~~~~~~~~~~~~~~~~~~~~~~~~~~~~~~~~~~~~~~~~~~~~~~~~~~~~~~~~~~~~~~~~~~~~~~~~~~~~~~\n",
      "Filtered columns -> ['P05106', 'P05556']\n",
      "~~~~~~~~~~~~~~~~~~~~~~~~~~~~~~~~~~~~~~~~~~~~~~~~~~~~~~~~~~~~~~~~~~~~~~~~~~~~~~~~\n"
     ]
    }
   ],
   "source": [
    "filtered_columns = filter_proteins_list(sixth_df_encoded, columns_to_remove=['SMILES', 'P17301'])\n",
    "PRINT(f'Filtered columns -> {filtered_columns}')"
   ]
  },
  {
   "cell_type": "code",
   "execution_count": 315,
   "id": "57a3d01d-6a95-4d84-b7fa-53722d2eb57e",
   "metadata": {
    "tags": []
   },
   "outputs": [
    {
     "data": {
      "text/html": [
       "<div>\n",
       "<style scoped>\n",
       "    .dataframe tbody tr th:only-of-type {\n",
       "        vertical-align: middle;\n",
       "    }\n",
       "\n",
       "    .dataframe tbody tr th {\n",
       "        vertical-align: top;\n",
       "    }\n",
       "\n",
       "    .dataframe thead th {\n",
       "        text-align: right;\n",
       "    }\n",
       "</style>\n",
       "<table border=\"1\" class=\"dataframe\">\n",
       "  <thead>\n",
       "    <tr style=\"text-align: right;\">\n",
       "      <th></th>\n",
       "      <th>P05106</th>\n",
       "      <th>P05556</th>\n",
       "    </tr>\n",
       "  </thead>\n",
       "  <tbody>\n",
       "    <tr>\n",
       "      <th>0</th>\n",
       "      <td>0</td>\n",
       "      <td>1</td>\n",
       "    </tr>\n",
       "    <tr>\n",
       "      <th>1</th>\n",
       "      <td>0</td>\n",
       "      <td>1</td>\n",
       "    </tr>\n",
       "  </tbody>\n",
       "</table>\n",
       "</div>"
      ],
      "text/plain": [
       "   P05106  P05556\n",
       "0       0       1\n",
       "1       0       1"
      ]
     },
     "execution_count": 315,
     "metadata": {},
     "output_type": "execute_result"
    }
   ],
   "source": [
    "temp_df_6 = sixth_df_encoded[filtered_columns]\n",
    "\n",
    "temp_df_6.head(2)"
   ]
  },
  {
   "cell_type": "code",
   "execution_count": 316,
   "id": "1df5ce68-782b-42af-8b6e-3f006bfb7761",
   "metadata": {
    "tags": []
   },
   "outputs": [
    {
     "data": {
      "image/png": "[encoded data removed]",
      "text/plain": [
       "<Figure size 1200x800 with 1 Axes>"
      ]
     },
     "metadata": {},
     "output_type": "display_data"
    }
   ],
   "source": [
    "visualize_dist(temp_df_6, unique_proteins[5])"
   ]
  },
  {
   "cell_type": "markdown",
   "id": "a83dd83b-d08a-4485-aa4d-547c03bbd283",
   "metadata": {},
   "source": [
    "#### Explore the Sixth Dath Frame ####"
   ]
  },
  {
   "cell_type": "code",
   "execution_count": 317,
   "id": "9b1716f0-5dba-4062-90a7-a1aa55325ede",
   "metadata": {
    "tags": []
   },
   "outputs": [
    {
     "name": "stdout",
     "output_type": "stream",
     "text": [
      "~~~~~~~~~~~~~~~~~~~~~~~~~~~~~~~~~~~~~~~~~~~~~~~~~~~~~~~~~~~~~~~~~~~~~~~~~~~~~~~~\n",
      "The size of the data frame is -> 77\n",
      "~~~~~~~~~~~~~~~~~~~~~~~~~~~~~~~~~~~~~~~~~~~~~~~~~~~~~~~~~~~~~~~~~~~~~~~~~~~~~~~~\n",
      "Number of time P05106 appears -> 20\n",
      "Number of time P05556 appears -> 57\n",
      "~~~~~~~~~~~~~~~~~~~~~~~~~~~~~~~~~~~~~~~~~~~~~~~~~~~~~~~~~~~~~~~~~~~~~~~~~~~~~~~~\n",
      "Done.\n",
      "~~~~~~~~~~~~~~~~~~~~~~~~~~~~~~~~~~~~~~~~~~~~~~~~~~~~~~~~~~~~~~~~~~~~~~~~~~~~~~~~\n"
     ]
    }
   ],
   "source": [
    "PRINT(f'The size of the data frame is -> {len(sixth_df)}')\n",
    "print(f'Number of time P05106 appears -> {len(sixth_df[sixth_df[\"UniProt2\"] == \"P05106\"])}')\n",
    "print(f'Number of time P05556 appears -> {len(sixth_df[sixth_df[\"UniProt2\"] == \"P05556\"])}')\n",
    "\n",
    "PRINT('Done.')"
   ]
  },
  {
   "cell_type": "code",
   "execution_count": null,
   "id": "93ebca78-fe57-4086-8960-653c853c3ef0",
   "metadata": {},
   "outputs": [],
   "source": []
  }
 ],
 "metadata": {
  "kernelspec": {
   "display_name": "Python 3 (ipykernel)",
   "language": "python",
   "name": "python3"
  },
  "language_info": {
   "codemirror_mode": {
    "name": "ipython",
    "version": 3
   },
   "file_extension": ".py",
   "mimetype": "text/x-python",
   "name": "python",
   "nbconvert_exporter": "python",
   "pygments_lexer": "ipython3",
   "version": "3.11.5"
  }
 },
 "nbformat": 4,
 "nbformat_minor": 5
}
