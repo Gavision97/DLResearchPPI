{
 "cells": [
  {
   "cell_type": "markdown",
   "id": "0d7335f2-654e-4d05-a010-aabee0510cde",
   "metadata": {},
   "source": [
    "# Protein Realetionship Prediciton #\n",
    "\n",
    "\n",
    "\n",
    "DeepChem library official website : https://deepchem.io/"
   ]
  },
  {
   "cell_type": "code",
   "execution_count": 1,
   "id": "a26e85ca-91b0-4aa7-8d46-5c441197ba89",
   "metadata": {
    "tags": []
   },
   "outputs": [
    {
     "name": "stdout",
     "output_type": "stream",
     "text": [
      "WARNING:tensorflow:From C:\\Users\\gavvi\\anaconda3\\Lib\\site-packages\\keras\\src\\losses.py:2976: The name tf.losses.sparse_softmax_cross_entropy is deprecated. Please use tf.compat.v1.losses.sparse_softmax_cross_entropy instead.\n",
      "\n",
      "WARNING:tensorflow:From C:\\Users\\gavvi\\anaconda3\\Lib\\site-packages\\tensorflow\\python\\util\\deprecation.py:588: calling function (from tensorflow.python.eager.polymorphic_function.polymorphic_function) with experimental_relax_shapes is deprecated and will be removed in a future version.\n",
      "Instructions for updating:\n",
      "experimental_relax_shapes is deprecated, use reduce_retracing instead\n"
     ]
    }
   ],
   "source": [
    "import deepchem as dc\n",
    "import numpy as pd\n",
    "import pandas as pd\n",
    "import os"
   ]
  },
  {
   "cell_type": "code",
   "execution_count": 3,
   "id": "417b068e-ef82-4d07-9311-1356a13275a7",
   "metadata": {
    "tags": []
   },
   "outputs": [],
   "source": [
    "def PRINT(text) -> None: print(f\"{'~'*80}\\n{text}\\n{'~'*80}\")"
   ]
  },
  {
   "cell_type": "markdown",
   "id": "73011acb-42d9-4296-9995-26174c192a72",
   "metadata": {},
   "source": [
    "## Load Required Datasets ##"
   ]
  },
  {
   "cell_type": "code",
   "execution_count": 10,
   "id": "26e830c6-50e4-4d1f-8ceb-e400a54d57d9",
   "metadata": {
    "tags": []
   },
   "outputs": [
    {
     "data": {
      "text/plain": [
       "'C:\\\\Users\\\\gavvi\\\\Desktop\\\\Programming\\\\GitHub\\\\DeepLearningResearchStarship\\\\Project 4 Protein Relationship Prediction'"
      ]
     },
     "execution_count": 10,
     "metadata": {},
     "output_type": "execute_result"
    }
   ],
   "source": [
    "pwd"
   ]
  },
  {
   "cell_type": "code",
   "execution_count": 11,
   "id": "2c6d2d47-7b56-4d66-88fc-140ae2b6649b",
   "metadata": {
    "tags": []
   },
   "outputs": [],
   "source": [
    "pred_dataset_path = \"data/dataset_for_prediction.csv\"\n",
    "ChEMBL_integrin_dataset_path = \"data/ChEMBL_Integrins.csv\""
   ]
  },
  {
   "cell_type": "code",
   "execution_count": 14,
   "id": "45aefc86-6e3d-475e-baed-c98f7191c74b",
   "metadata": {
    "tags": []
   },
   "outputs": [
    {
     "data": {
      "text/html": [
       "<div>\n",
       "<style scoped>\n",
       "    .dataframe tbody tr th:only-of-type {\n",
       "        vertical-align: middle;\n",
       "    }\n",
       "\n",
       "    .dataframe tbody tr th {\n",
       "        vertical-align: top;\n",
       "    }\n",
       "\n",
       "    .dataframe thead th {\n",
       "        text-align: right;\n",
       "    }\n",
       "</style>\n",
       "<table border=\"1\" class=\"dataframe\">\n",
       "  <thead>\n",
       "    <tr style=\"text-align: right;\">\n",
       "      <th></th>\n",
       "      <th>smiles</th>\n",
       "      <th>uniprot_id1</th>\n",
       "    </tr>\n",
       "  </thead>\n",
       "  <tbody>\n",
       "    <tr>\n",
       "      <th>0</th>\n",
       "      <td>OC(=O)[C@H](Cc1ccc(NC(=O)c2c(Cl)cccc2Cl)cc1)NC...</td>\n",
       "      <td>P13612</td>\n",
       "    </tr>\n",
       "    <tr>\n",
       "      <th>1</th>\n",
       "      <td>C\\C=C\\[C@@H](CC(=O)O)NC(=O)C[C@@H](CC(C)C)NC(=...</td>\n",
       "      <td>P05556</td>\n",
       "    </tr>\n",
       "    <tr>\n",
       "      <th>2</th>\n",
       "      <td>CN1[C@@H](CCCN=C(N)N)C(=O)NCC(=O)N[C@@H](CC(=O...</td>\n",
       "      <td>P05106</td>\n",
       "    </tr>\n",
       "    <tr>\n",
       "      <th>3</th>\n",
       "      <td>OC(=O)C(CNC(=O)CCCCc1ccc2CCCNc2n1)c3cnc4ccccc4c3</td>\n",
       "      <td>P05106</td>\n",
       "    </tr>\n",
       "    <tr>\n",
       "      <th>4</th>\n",
       "      <td>OC(=O)C[C@H](NC(=O)CN1CCC[C@@H](CCC2CCNCC2)C1=...</td>\n",
       "      <td>P05106</td>\n",
       "    </tr>\n",
       "  </tbody>\n",
       "</table>\n",
       "</div>"
      ],
      "text/plain": [
       "                                              smiles uniprot_id1\n",
       "0  OC(=O)[C@H](Cc1ccc(NC(=O)c2c(Cl)cccc2Cl)cc1)NC...      P13612\n",
       "1  C\\C=C\\[C@@H](CC(=O)O)NC(=O)C[C@@H](CC(C)C)NC(=...      P05556\n",
       "2  CN1[C@@H](CCCN=C(N)N)C(=O)NCC(=O)N[C@@H](CC(=O...      P05106\n",
       "3   OC(=O)C(CNC(=O)CCCCc1ccc2CCCNc2n1)c3cnc4ccccc4c3      P05106\n",
       "4  OC(=O)C[C@H](NC(=O)CN1CCC[C@@H](CCC2CCNCC2)C1=...      P05106"
      ]
     },
     "execution_count": 14,
     "metadata": {},
     "output_type": "execute_result"
    }
   ],
   "source": [
    "pred_df = pd.read_csv(pred_dataset_path)\n",
    "\n",
    "pred_df.head(5)"
   ]
  },
  {
   "cell_type": "markdown",
   "id": "eeea800f-4c08-497b-9f4f-75d2a4fea6d4",
   "metadata": {},
   "source": [
    "Next, we aim to rename the column *uniprot_id1* to *uniprot_id*. The rationale behind this decision is that we intend to search for this value in the *ChEMBL* data frame within both the *uniprot1* and *uniprot2* columns. To minimize confusion, we will rename this column"
   ]
  },
  {
   "cell_type": "code",
   "execution_count": 34,
   "id": "75f7d468-2b4d-447c-adb2-5e83e1bc4789",
   "metadata": {
    "tags": []
   },
   "outputs": [
    {
     "name": "stdout",
     "output_type": "stream",
     "text": [
      "~~~~~~~~~~~~~~~~~~~~~~~~~~~~~~~~~~~~~~~~~~~~~~~~~~~~~~~~~~~~~~~~~~~~~~~~~~~~~~~~\n",
      "Renamed column name: uniprot_id\n",
      "~~~~~~~~~~~~~~~~~~~~~~~~~~~~~~~~~~~~~~~~~~~~~~~~~~~~~~~~~~~~~~~~~~~~~~~~~~~~~~~~\n"
     ]
    }
   ],
   "source": [
    "pred_df = pred_df.rename(columns={'uniprot_id1':'uniprot_id'})\n",
    "\n",
    "PRINT(f'Renamed column name: {pred_df.columns[1]}')"
   ]
  },
  {
   "cell_type": "code",
   "execution_count": 15,
   "id": "494afbaf-6ca8-418b-aea0-2e8af8bdff94",
   "metadata": {
    "tags": []
   },
   "outputs": [
    {
     "data": {
      "text/html": [
       "<div>\n",
       "<style scoped>\n",
       "    .dataframe tbody tr th:only-of-type {\n",
       "        vertical-align: middle;\n",
       "    }\n",
       "\n",
       "    .dataframe tbody tr th {\n",
       "        vertical-align: top;\n",
       "    }\n",
       "\n",
       "    .dataframe thead th {\n",
       "        text-align: right;\n",
       "    }\n",
       "</style>\n",
       "<table border=\"1\" class=\"dataframe\">\n",
       "  <thead>\n",
       "    <tr style=\"text-align: right;\">\n",
       "      <th></th>\n",
       "      <th>Canonical SMILES(RDKit)</th>\n",
       "      <th>Target Pref Name</th>\n",
       "      <th>Organism</th>\n",
       "      <th>UniProt1</th>\n",
       "      <th>UniProt2</th>\n",
       "      <th>UniProt3</th>\n",
       "      <th>UniProt4</th>\n",
       "      <th>UniProt5</th>\n",
       "    </tr>\n",
       "  </thead>\n",
       "  <tbody>\n",
       "    <tr>\n",
       "      <th>0</th>\n",
       "      <td>N=C(N)NCCC[C@H](NC(=O)[C@H](CCCNC(=N)N)NC(=O)[...</td>\n",
       "      <td>Integrin alpha-4/beta-7</td>\n",
       "      <td>Mus musculus</td>\n",
       "      <td>Q00651</td>\n",
       "      <td>P26011</td>\n",
       "      <td>NaN</td>\n",
       "      <td>NaN</td>\n",
       "      <td>NaN</td>\n",
       "    </tr>\n",
       "    <tr>\n",
       "      <th>1</th>\n",
       "      <td>N=C(N)NCCC[C@H](NC(=O)CCCC[C@@H]1SC[C@@H]2NC(=...</td>\n",
       "      <td>Integrin alpha-4/beta-7</td>\n",
       "      <td>Mus musculus</td>\n",
       "      <td>Q00651</td>\n",
       "      <td>P26011</td>\n",
       "      <td>NaN</td>\n",
       "      <td>NaN</td>\n",
       "      <td>NaN</td>\n",
       "    </tr>\n",
       "    <tr>\n",
       "      <th>2</th>\n",
       "      <td>N#Cc1ccc(-c2ccc(C[C@H](NC(=O)[C@H](CCCNC(=N)N)...</td>\n",
       "      <td>Integrin alpha-4/beta-7</td>\n",
       "      <td>Mus musculus</td>\n",
       "      <td>Q00651</td>\n",
       "      <td>P26011</td>\n",
       "      <td>NaN</td>\n",
       "      <td>NaN</td>\n",
       "      <td>NaN</td>\n",
       "    </tr>\n",
       "    <tr>\n",
       "      <th>3</th>\n",
       "      <td>N=C(N)NCCC[C@H](NC(=O)CCCC[C@@H]1SC[C@@H]2NC(=...</td>\n",
       "      <td>Integrin alpha-4/beta-7</td>\n",
       "      <td>Mus musculus</td>\n",
       "      <td>Q00651</td>\n",
       "      <td>P26011</td>\n",
       "      <td>NaN</td>\n",
       "      <td>NaN</td>\n",
       "      <td>NaN</td>\n",
       "    </tr>\n",
       "    <tr>\n",
       "      <th>4</th>\n",
       "      <td>N=C(N)NCCC[C@H](NC(=O)CCCC[C@@H]1SC[C@@H]2NC(=...</td>\n",
       "      <td>Integrin alpha-4/beta-7</td>\n",
       "      <td>Mus musculus</td>\n",
       "      <td>Q00651</td>\n",
       "      <td>P26011</td>\n",
       "      <td>NaN</td>\n",
       "      <td>NaN</td>\n",
       "      <td>NaN</td>\n",
       "    </tr>\n",
       "  </tbody>\n",
       "</table>\n",
       "</div>"
      ],
      "text/plain": [
       "                             Canonical SMILES(RDKit)         Target Pref Name  \\\n",
       "0  N=C(N)NCCC[C@H](NC(=O)[C@H](CCCNC(=N)N)NC(=O)[...  Integrin alpha-4/beta-7   \n",
       "1  N=C(N)NCCC[C@H](NC(=O)CCCC[C@@H]1SC[C@@H]2NC(=...  Integrin alpha-4/beta-7   \n",
       "2  N#Cc1ccc(-c2ccc(C[C@H](NC(=O)[C@H](CCCNC(=N)N)...  Integrin alpha-4/beta-7   \n",
       "3  N=C(N)NCCC[C@H](NC(=O)CCCC[C@@H]1SC[C@@H]2NC(=...  Integrin alpha-4/beta-7   \n",
       "4  N=C(N)NCCC[C@H](NC(=O)CCCC[C@@H]1SC[C@@H]2NC(=...  Integrin alpha-4/beta-7   \n",
       "\n",
       "       Organism UniProt1 UniProt2 UniProt3 UniProt4 UniProt5  \n",
       "0  Mus musculus   Q00651   P26011      NaN      NaN      NaN  \n",
       "1  Mus musculus   Q00651   P26011      NaN      NaN      NaN  \n",
       "2  Mus musculus   Q00651   P26011      NaN      NaN      NaN  \n",
       "3  Mus musculus   Q00651   P26011      NaN      NaN      NaN  \n",
       "4  Mus musculus   Q00651   P26011      NaN      NaN      NaN  "
      ]
     },
     "execution_count": 15,
     "metadata": {},
     "output_type": "execute_result"
    }
   ],
   "source": [
    "chmbl_df = pd.read_csv(ChEMBL_integrin_dataset_path)\n",
    "\n",
    "chmbl_df.head(5)"
   ]
  },
  {
   "cell_type": "markdown",
   "id": "46381a3f-cf1a-4a84-92de-cbcf083f793c",
   "metadata": {},
   "source": [
    "## Generate Unique Datasets ##"
   ]
  },
  {
   "cell_type": "markdown",
   "id": "67e7a71b-09f1-4bb4-94bf-c1e0d1e1c5cd",
   "metadata": {},
   "source": [
    "### Prechecks ###"
   ]
  },
  {
   "cell_type": "code",
   "execution_count": 22,
   "id": "54346010-46c7-4d9c-9010-ead5a6b53685",
   "metadata": {
    "tags": []
   },
   "outputs": [],
   "source": [
    "unique_proteins = pred_df[\"uniprot_id1\"].unique()"
   ]
  },
  {
   "cell_type": "code",
   "execution_count": 26,
   "id": "a65e6fa2-69f0-48cd-af1d-4287d1346957",
   "metadata": {
    "tags": []
   },
   "outputs": [
    {
     "name": "stdout",
     "output_type": "stream",
     "text": [
      "~~~~~~~~~~~~~~~~~~~~~~~~~~~~~~~~~~~~~~~~~~~~~~~~~~~~~~~~~~~~~~~~~~~~~~~~~~~~~~~~\n",
      "The unique proteins we want to predict their partners in the PPI are :\n",
      " ['P13612' 'P05556' 'P05106' 'P05107' 'P08648' 'P17301']\n",
      "\n",
      "The are total 6 such proteins\n",
      "~~~~~~~~~~~~~~~~~~~~~~~~~~~~~~~~~~~~~~~~~~~~~~~~~~~~~~~~~~~~~~~~~~~~~~~~~~~~~~~~\n"
     ]
    }
   ],
   "source": [
    "PRINT(f\"The unique proteins we want to predict their partners in the PPI are :\\n {unique_proteins}\\n\\nThe are total {len(unique_proteins)} such proteins\")"
   ]
  },
  {
   "cell_type": "markdown",
   "id": "483668ff-07cf-4a53-9292-ad8b8d8ac9e3",
   "metadata": {},
   "source": [
    "### Datasets Generation Phase ###"
   ]
  },
  {
   "cell_type": "code",
   "execution_count": null,
   "id": "43b0865b-cb60-4661-aa94-6b770b815149",
   "metadata": {},
   "outputs": [],
   "source": [
    "for index,unique_pro in enumerate(unique_proteins):\n",
    "    data"
   ]
  }
 ],
 "metadata": {
  "kernelspec": {
   "display_name": "Python 3 (ipykernel)",
   "language": "python",
   "name": "python3"
  },
  "language_info": {
   "codemirror_mode": {
    "name": "ipython",
    "version": 3
   },
   "file_extension": ".py",
   "mimetype": "text/x-python",
   "name": "python",
   "nbconvert_exporter": "python",
   "pygments_lexer": "ipython3",
   "version": "3.11.5"
  }
 },
 "nbformat": 4,
 "nbformat_minor": 5
}
