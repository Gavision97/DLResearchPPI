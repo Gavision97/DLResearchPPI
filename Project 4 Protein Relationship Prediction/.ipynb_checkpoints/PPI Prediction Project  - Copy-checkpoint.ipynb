{
 "cells": [
  {
   "cell_type": "markdown",
   "id": "6c897a41-88d9-4258-9399-f24fa68dec80",
   "metadata": {},
   "source": [
    "# Protein Protein Interaction (PPI) Prediciton Project #\n",
    "\n",
    "---\n",
    "\n",
    "The upcoming project revolves around predicting Protein-Protein Interactions (PPI). Our objective is to extract data from our Timbal dataset, which currently includes UniProt target information but lacks UniProt partner details.\n",
    "\n",
    "The project will involve taking the dataset that indeed contains both UniProt partner and UniProt target information. We will segregate molecules and their corresponding SMILES values that share the same UniProt target. This subset of data will be used for subsequent predictions, and new datasets will be constructed to encompass all such molecules.\n",
    "\n",
    "Subsequently, we will visualize our datasets and analyze the data distribution to gain a deeper understanding.\n",
    "\n",
    "Following that, we plan to develop three models:\n",
    "- Random Forest Multiclass Classifier Model\n",
    "- XGBoost Multiclass Classifier Model\n",
    "- GraphConvModel Multiclass Classifier Model\n",
    "\n",
    "The first two models will be implemented on two types of dataframes for each dataset. The first dataframe will utilize feature augmentation techniques with RDKitDescriptors, while the second will employ Morgan Fingerprint.\n",
    "\n",
    "The last model will be implemented using the DeepChem library.\n",
    "\n",
    "For each dataset, we will select the most suitable model. Finally, we will predict the UniProt partners for each dataset using their corresponding models. Following the prediction phase, we will comataframe containing all the predicted data---\n",
    "of interest.\n",
    "\n",
    "- RDKit library official website : https://www.rdkit.org/docs/index.html\n",
    "- DeepChem library official website : https://deepchem.io/\n",
    "\n",
    "---"
   ]
  },
  {
   "cell_type": "markdown",
   "id": "16c70fca-26da-42c6-a9d2-5286eb62027e",
   "metadata": {},
   "source": [
    "## Import Libraries for the Project ##"
   ]
  },
  {
   "cell_type": "code",
   "execution_count": 1,
   "id": "a26e85ca-91b0-4aa7-8d46-5c441197ba89",
   "metadata": {
    "tags": []
   },
   "outputs": [
    {
     "name": "stdout",
     "output_type": "stream",
     "text": [
      "WARNING:tensorflow:From C:\\Users\\gavvi\\anaconda3\\Lib\\site-packages\\keras\\src\\losses.py:2976: The name tf.losses.sparse_softmax_cross_entropy is deprecated. Please use tf.compat.v1.losses.sparse_softmax_cross_entropy instead.\n",
      "\n",
      "WARNING:tensorflow:From C:\\Users\\gavvi\\anaconda3\\Lib\\site-packages\\tensorflow\\python\\util\\deprecation.py:588: calling function (from tensorflow.python.eager.polymorphic_function.polymorphic_function) with experimental_relax_shapes is deprecated and will be removed in a future version.\n",
      "Instructions for updating:\n",
      "experimental_relax_shapes is deprecated, use reduce_retracing instead\n"
     ]
    }
   ],
   "source": [
    "import os\n",
    "import pickle  # In order to save DataFrame dictionary\n",
    "\n",
    "import numpy as np\n",
    "import pandas as pd\n",
    "import seaborn as sns\n",
    "import matplotlib.pyplot as plt\n",
    "\n",
    "from joblib import dump, load  # For saving & loading trained models\n",
    "\n",
    "from sklearn.metrics import (\n",
    "    roc_curve,\n",
    "    auc,\n",
    "    roc_auc_score,\n",
    "    make_scorer,\n",
    "    accuracy_score,\n",
    "    precision_score,\n",
    "    recall_score,\n",
    "    f1_score,\n",
    "    confusion_matrix,\n",
    "    classification_report,\n",
    ")\n",
    "from sklearn.ensemble import RandomForestClassifier\n",
    "from sklearn.preprocessing import label_binarize\n",
    "from sklearn.utils.class_weight import compute_sample_weight, compute_class_weight\n",
    "from sklearn.model_selection import train_test_split, GridSearchCV, StratifiedKFold\n",
    "from sklearn.utils import resample  # For executing bootstrap to get more accurate roc_auc_score when testing best models\n",
    "\n",
    "import xgboost as xgb\n",
    "\n",
    "from rdkit import Chem\n",
    "from rdkit.Chem import AllChem, PandasTools, Descriptors, rdmolops\n",
    "\n",
    "import deepchem as dc\n",
    "from deepchem.feat import RDKitDescriptors\n",
    "from deepchem.models import GraphConvModel\n",
    "from deepchem.hyper import GridHyperparamOpt, HyperparamOpt\n",
    "from deepchem.splits.splitters import RandomGroupSplitter\n",
    "from deepchem.trans import undo_transforms\n",
    "from deepchem.trans.transformers import BalancingTransformer\n",
    "\n",
    "import warnings\n",
    "warnings.filterwarnings('ignore')"
   ]
  },
  {
   "cell_type": "markdown",
   "id": "80d9845b-941c-4599-bf9f-889b9376c8f9",
   "metadata": {},
   "source": [
    "### Basic Helper Functions ###"
   ]
  },
  {
   "cell_type": "code",
   "execution_count": 2,
   "id": "417b068e-ef82-4d07-9311-1356a13275a7",
   "metadata": {
    "tags": []
   },
   "outputs": [],
   "source": [
    "def PRINT(text) -> None: print(f\"{'~'*80}\\n{text}\\n{'~'*80}\")\n",
    "\n",
    "def is_numeric(value):\n",
    "    \"\"\"\n",
    "    Checks if a given value can be converted to a float, indicating numeric nature.\n",
    "\n",
    "    Parameters:\n",
    "    - value: Any value to check.\n",
    "    \"\"\"\n",
    "    try:\n",
    "        float(value)\n",
    "        return True\n",
    "    except (ValueError, TypeError):\n",
    "        return False\n",
    "\n",
    "def print_dict_meaningful(dictionary):\n",
    "    \"\"\"\n",
    "    Prints key-value pairs of a dictionary, formatting numeric values to 3 decimal places.\n",
    "\n",
    "    Parameters:\n",
    "    - dictionary: A dictionary to print.\n",
    "    \"\"\"\n",
    "    for key, value in dictionary.items():\n",
    "        if is_numeric(value):\n",
    "            formatted_value = \"{:.3f}\".format(float(value))\n",
    "        else:\n",
    "            formatted_value = value\n",
    "        print(f'{key}: {formatted_value}')\n",
    "\n",
    "def plot_uniprot_numeric_label_frequency(df, UniProt) -> None:\n",
    "    \"\"\"\n",
    "    Plots a countplot of NumericUniProtTargetLabels for a specific UniProt ID.\n",
    "\n",
    "    Parameters:\n",
    "    - df: DataFrame containing the data.\n",
    "    - UniProt: UniProt ID for which the countplot is generated.e\n",
    "    \"\"\"\n",
    "    plt.figure(figsize=(10, 6))\n",
    "    sns.countplot(x='NumericUniProtTargetLabels', data=df)\n",
    "    plt.title(f'Countplot of NumericUniProtTargetLabels for UniProt {UniProt}')\n",
    "    plt.xlabel('NumericUniProtTargetLabels')\n",
    "    plt.ylabel('Frequency')\n",
    "    plt.show()"
   ]
  },
  {
   "cell_type": "markdown",
   "id": "a4bd330b-438b-4378-8fc6-4e1274772dd5",
   "metadata": {},
   "source": [
    "---\n",
    "## Preparing Datasets for Predictive Modeling ##"
   ]
  },
  {
   "cell_type": "markdown",
   "id": "73011acb-42d9-4296-9995-26174c192a72",
   "metadata": {},
   "source": [
    "### Load Required Datasets ###"
   ]
  },
  {
   "cell_type": "code",
   "execution_count": 51,
   "id": "26e830c6-50e4-4d1f-8ceb-e400a54d57d9",
   "metadata": {
    "tags": []
   },
   "outputs": [
    {
     "data": {
      "text/plain": [
       "'C:\\\\Users\\\\gavvi\\\\Desktop\\\\Programming\\\\GitHub\\\\DeepLearningResearchStarship\\\\Project 4 Protein Relationship Prediction'"
      ]
     },
     "execution_count": 51,
     "metadata": {},
     "output_type": "execute_result"
    }
   ],
   "source": [
    "pwd"
   ]
  },
  {
   "cell_type": "code",
   "execution_count": 54,
   "id": "2c6d2d47-7b56-4d66-88fc-140ae2b6649b",
   "metadata": {
    "tags": []
   },
   "outputs": [],
   "source": [
    "pred_dataset_path = \"data/dataset_for_prediction.csv\"\n",
    "ChEMBL_integrin_modified_dataset_path = \"data/integrins_chembl_corrected.csv\""
   ]
  },
  {
   "cell_type": "code",
   "execution_count": 55,
   "id": "45aefc86-6e3d-475e-baed-c98f7191c74b",
   "metadata": {
    "tags": []
   },
   "outputs": [
    {
     "data": {
      "text/html": [
       "<div>\n",
       "<style scoped>\n",
       "    .dataframe tbody tr th:only-of-type {\n",
       "        vertical-align: middle;\n",
       "    }\n",
       "\n",
       "    .dataframe tbody tr th {\n",
       "        vertical-align: top;\n",
       "    }\n",
       "\n",
       "    .dataframe thead th {\n",
       "        text-align: right;\n",
       "    }\n",
       "</style>\n",
       "<table border=\"1\" class=\"dataframe\">\n",
       "  <thead>\n",
       "    <tr style=\"text-align: right;\">\n",
       "      <th></th>\n",
       "      <th>smiles</th>\n",
       "      <th>uniprot_id1</th>\n",
       "    </tr>\n",
       "  </thead>\n",
       "  <tbody>\n",
       "    <tr>\n",
       "      <th>0</th>\n",
       "      <td>OC(=O)[C@H](Cc1ccc(NC(=O)c2c(Cl)cccc2Cl)cc1)NC...</td>\n",
       "      <td>P13612</td>\n",
       "    </tr>\n",
       "    <tr>\n",
       "      <th>1</th>\n",
       "      <td>C\\C=C\\[C@@H](CC(=O)O)NC(=O)C[C@@H](CC(C)C)NC(=...</td>\n",
       "      <td>P05556</td>\n",
       "    </tr>\n",
       "    <tr>\n",
       "      <th>2</th>\n",
       "      <td>CN1[C@@H](CCCN=C(N)N)C(=O)NCC(=O)N[C@@H](CC(=O...</td>\n",
       "      <td>P05106</td>\n",
       "    </tr>\n",
       "    <tr>\n",
       "      <th>3</th>\n",
       "      <td>OC(=O)C(CNC(=O)CCCCc1ccc2CCCNc2n1)c3cnc4ccccc4c3</td>\n",
       "      <td>P05106</td>\n",
       "    </tr>\n",
       "    <tr>\n",
       "      <th>4</th>\n",
       "      <td>OC(=O)C[C@H](NC(=O)CN1CCC[C@@H](CCC2CCNCC2)C1=...</td>\n",
       "      <td>P05106</td>\n",
       "    </tr>\n",
       "  </tbody>\n",
       "</table>\n",
       "</div>"
      ],
      "text/plain": [
       "                                              smiles uniprot_id1\n",
       "0  OC(=O)[C@H](Cc1ccc(NC(=O)c2c(Cl)cccc2Cl)cc1)NC...      P13612\n",
       "1  C\\C=C\\[C@@H](CC(=O)O)NC(=O)C[C@@H](CC(C)C)NC(=...      P05556\n",
       "2  CN1[C@@H](CCCN=C(N)N)C(=O)NCC(=O)N[C@@H](CC(=O...      P05106\n",
       "3   OC(=O)C(CNC(=O)CCCCc1ccc2CCCNc2n1)c3cnc4ccccc4c3      P05106\n",
       "4  OC(=O)C[C@H](NC(=O)CN1CCC[C@@H](CCC2CCNCC2)C1=...      P05106"
      ]
     },
     "execution_count": 55,
     "metadata": {},
     "output_type": "execute_result"
    }
   ],
   "source": [
    "pred_df = pd.read_csv(pred_dataset_path)\n",
    "\n",
    "pred_df.head(5)"
   ]
  },
  {
   "cell_type": "markdown",
   "id": "eeea800f-4c08-497b-9f4f-75d2a4fea6d4",
   "metadata": {},
   "source": [
    "Next, we aim to rename the column *uniprot_id1* to *uniprot_id*. The rationale behind this decision is that we intend to search for this value in the *ChEMBL* data frame within both the *uniprot1* and *uniprot2* columns. To minimize confusion, we will rename this column"
   ]
  },
  {
   "cell_type": "code",
   "execution_count": 56,
   "id": "75f7d468-2b4d-447c-adb2-5e83e1bc4789",
   "metadata": {
    "tags": []
   },
   "outputs": [
    {
     "name": "stdout",
     "output_type": "stream",
     "text": [
      "~~~~~~~~~~~~~~~~~~~~~~~~~~~~~~~~~~~~~~~~~~~~~~~~~~~~~~~~~~~~~~~~~~~~~~~~~~~~~~~~\n",
      "Renamed column name: uniprot_id\n",
      "~~~~~~~~~~~~~~~~~~~~~~~~~~~~~~~~~~~~~~~~~~~~~~~~~~~~~~~~~~~~~~~~~~~~~~~~~~~~~~~~\n"
     ]
    }
   ],
   "source": [
    "pred_df = pred_df.rename(columns={'uniprot_id1':'uniprot_id'})\n",
    "\n",
    "PRINT(f'Renamed column name: {pred_df.columns[1]}')"
   ]
  },
  {
   "cell_type": "code",
   "execution_count": 57,
   "id": "494afbaf-6ca8-418b-aea0-2e8af8bdff94",
   "metadata": {
    "tags": []
   },
   "outputs": [
    {
     "data": {
      "text/html": [
       "<div>\n",
       "<style scoped>\n",
       "    .dataframe tbody tr th:only-of-type {\n",
       "        vertical-align: middle;\n",
       "    }\n",
       "\n",
       "    .dataframe tbody tr th {\n",
       "        vertical-align: top;\n",
       "    }\n",
       "\n",
       "    .dataframe thead th {\n",
       "        text-align: right;\n",
       "    }\n",
       "</style>\n",
       "<table border=\"1\" class=\"dataframe\">\n",
       "  <thead>\n",
       "    <tr style=\"text-align: right;\">\n",
       "      <th></th>\n",
       "      <th>Canonical SMILES(RDKit)</th>\n",
       "      <th>Target Pref Name</th>\n",
       "      <th>Organism</th>\n",
       "      <th>UniProt1</th>\n",
       "      <th>UniProt2</th>\n",
       "      <th>UniProt3</th>\n",
       "      <th>UniProt4</th>\n",
       "      <th>UniProt5</th>\n",
       "    </tr>\n",
       "  </thead>\n",
       "  <tbody>\n",
       "    <tr>\n",
       "      <th>0</th>\n",
       "      <td>N=C(N)NCCC[C@H](NC(=O)[C@H](CCCNC(=N)N)NC(=O)[...</td>\n",
       "      <td>Integrin alpha-4/beta-7</td>\n",
       "      <td>Mus musculus</td>\n",
       "      <td>Q00651</td>\n",
       "      <td>P26011</td>\n",
       "      <td>NaN</td>\n",
       "      <td>NaN</td>\n",
       "      <td>NaN</td>\n",
       "    </tr>\n",
       "    <tr>\n",
       "      <th>1</th>\n",
       "      <td>N=C(N)NCCC[C@H](NC(=O)CCCC[C@@H]1SC[C@@H]2NC(=...</td>\n",
       "      <td>Integrin alpha-4/beta-7</td>\n",
       "      <td>Mus musculus</td>\n",
       "      <td>Q00651</td>\n",
       "      <td>P26011</td>\n",
       "      <td>NaN</td>\n",
       "      <td>NaN</td>\n",
       "      <td>NaN</td>\n",
       "    </tr>\n",
       "    <tr>\n",
       "      <th>2</th>\n",
       "      <td>N#Cc1ccc(-c2ccc(C[C@H](NC(=O)[C@H](CCCNC(=N)N)...</td>\n",
       "      <td>Integrin alpha-4/beta-7</td>\n",
       "      <td>Mus musculus</td>\n",
       "      <td>Q00651</td>\n",
       "      <td>P26011</td>\n",
       "      <td>NaN</td>\n",
       "      <td>NaN</td>\n",
       "      <td>NaN</td>\n",
       "    </tr>\n",
       "    <tr>\n",
       "      <th>3</th>\n",
       "      <td>N=C(N)NCCC[C@H](NC(=O)CCCC[C@@H]1SC[C@@H]2NC(=...</td>\n",
       "      <td>Integrin alpha-4/beta-7</td>\n",
       "      <td>Mus musculus</td>\n",
       "      <td>Q00651</td>\n",
       "      <td>P26011</td>\n",
       "      <td>NaN</td>\n",
       "      <td>NaN</td>\n",
       "      <td>NaN</td>\n",
       "    </tr>\n",
       "    <tr>\n",
       "      <th>4</th>\n",
       "      <td>N=C(N)NCCC[C@H](NC(=O)CCCC[C@@H]1SC[C@@H]2NC(=...</td>\n",
       "      <td>Integrin alpha-4/beta-7</td>\n",
       "      <td>Mus musculus</td>\n",
       "      <td>Q00651</td>\n",
       "      <td>P26011</td>\n",
       "      <td>NaN</td>\n",
       "      <td>NaN</td>\n",
       "      <td>NaN</td>\n",
       "    </tr>\n",
       "  </tbody>\n",
       "</table>\n",
       "</div>"
      ],
      "text/plain": [
       "                             Canonical SMILES(RDKit)         Target Pref Name  \\\n",
       "0  N=C(N)NCCC[C@H](NC(=O)[C@H](CCCNC(=N)N)NC(=O)[...  Integrin alpha-4/beta-7   \n",
       "1  N=C(N)NCCC[C@H](NC(=O)CCCC[C@@H]1SC[C@@H]2NC(=...  Integrin alpha-4/beta-7   \n",
       "2  N#Cc1ccc(-c2ccc(C[C@H](NC(=O)[C@H](CCCNC(=N)N)...  Integrin alpha-4/beta-7   \n",
       "3  N=C(N)NCCC[C@H](NC(=O)CCCC[C@@H]1SC[C@@H]2NC(=...  Integrin alpha-4/beta-7   \n",
       "4  N=C(N)NCCC[C@H](NC(=O)CCCC[C@@H]1SC[C@@H]2NC(=...  Integrin alpha-4/beta-7   \n",
       "\n",
       "       Organism UniProt1 UniProt2 UniProt3 UniProt4 UniProt5  \n",
       "0  Mus musculus   Q00651   P26011      NaN      NaN      NaN  \n",
       "1  Mus musculus   Q00651   P26011      NaN      NaN      NaN  \n",
       "2  Mus musculus   Q00651   P26011      NaN      NaN      NaN  \n",
       "3  Mus musculus   Q00651   P26011      NaN      NaN      NaN  \n",
       "4  Mus musculus   Q00651   P26011      NaN      NaN      NaN  "
      ]
     },
     "execution_count": 57,
     "metadata": {},
     "output_type": "execute_result"
    }
   ],
   "source": [
    "chmbl_df = pd.read_csv(ChEMBL_integrin_modified_dataset_path)\n",
    "\n",
    "chmbl_df.head(5)"
   ]
  },
  {
   "cell_type": "markdown",
   "id": "46381a3f-cf1a-4a84-92de-cbcf083f793c",
   "metadata": {},
   "source": [
    "### Generate Unique Datasets ###"
   ]
  },
  {
   "cell_type": "markdown",
   "id": "67e7a71b-09f1-4bb4-94bf-c1e0d1e1c5cd",
   "metadata": {},
   "source": [
    "#### Prechecks ####"
   ]
  },
  {
   "cell_type": "code",
   "execution_count": 58,
   "id": "54346010-46c7-4d9c-9010-ead5a6b53685",
   "metadata": {
    "tags": []
   },
   "outputs": [],
   "source": [
    "unique_proteins = pred_df[\"uniprot_id\"].unique()"
   ]
  },
  {
   "cell_type": "code",
   "execution_count": 59,
   "id": "a65e6fa2-69f0-48cd-af1d-4287d1346957",
   "metadata": {
    "tags": []
   },
   "outputs": [
    {
     "name": "stdout",
     "output_type": "stream",
     "text": [
      "~~~~~~~~~~~~~~~~~~~~~~~~~~~~~~~~~~~~~~~~~~~~~~~~~~~~~~~~~~~~~~~~~~~~~~~~~~~~~~~~\n",
      "The unique proteins we want to predict their partners in the PPI are :\n",
      " ['P13612' 'P05556' 'P05106' 'P05107' 'P08648' 'P17301']\n",
      "\n",
      "The are total 6 such proteins\n",
      "~~~~~~~~~~~~~~~~~~~~~~~~~~~~~~~~~~~~~~~~~~~~~~~~~~~~~~~~~~~~~~~~~~~~~~~~~~~~~~~~\n"
     ]
    }
   ],
   "source": [
    "PRINT(f\"The unique proteins we want to predict their partners in the PPI are :\\n {unique_proteins}\\n\\nThe are total {len(unique_proteins)} such proteins\")"
   ]
  },
  {
   "cell_type": "markdown",
   "id": "483668ff-07cf-4a53-9292-ad8b8d8ac9e3",
   "metadata": {},
   "source": [
    "#### Datasets Generation Phase ####\n",
    "\n",
    "The next step is to generate six datasets, each for the protein for which we intend to create a deep learning model to predict its companion in PPI (i.e., the second UniProt_id).\n",
    "\n",
    "The way we are going to achieve this is by taking each unique *UniProt_id* value, searching for all the rows in the *ChEMBL* data frame we loaded from the previous project, where that *UniProt_id* value is one of their *UniProt_id{i}* columns, where i ∈ [1,5].\n",
    "\n",
    "Each dataset will contain all the molecules' *SMILES* values, with both *UniProt_ids* forming the connection.\n",
    "\n",
    "From these datasets, we will proceed to train our model. Thus, we can provide the unique SMILES value along with the UniProt_id to the model, and it will predict its partner."
   ]
  },
  {
   "cell_type": "code",
   "execution_count": 60,
   "id": "a9d09084-9c45-4475-9f85-cb7d823b276a",
   "metadata": {},
   "outputs": [],
   "source": [
    "# 3 proteins we need to fix their models & predictions due to problem in data scraping phase\n",
    "unique_proteins = ['P05556', 'P05106', 'P08648']"
   ]
  },
  {
   "cell_type": "code",
   "execution_count": 61,
   "id": "43b0865b-cb60-4661-aa94-6b770b815149",
   "metadata": {
    "tags": []
   },
   "outputs": [],
   "source": [
    "protein_dataframes = {}\n",
    "\n",
    "for protein in unique_proteins:\n",
    "    # Initialize an empty list to store rows for the current protein\n",
    "    rows_for_protein = []\n",
    "\n",
    "    # Iterate over each row in the ChEMBL DataFrame\n",
    "    for index, row in chmbl_df.iterrows():\n",
    "        # Check if the current protein is present in any of the UniProt columns\n",
    "        if protein in row[['UniProt1', 'UniProt2', 'UniProt3', 'UniProt4', 'UniProt5']].values:\n",
    "            # Determine the correct order (UniProt1 and UniProt2) in the new data frame\n",
    "            if row['UniProt1'] == protein:\n",
    "                relevant_info = [row['Canonical SMILES(RDKit)'], row['UniProt1'], row['UniProt2']]\n",
    "            elif row['UniProt2'] == protein:\n",
    "                relevant_info = [row['Canonical SMILES(RDKit)'], row['UniProt2'], row['UniProt1']]\n",
    "            else:\n",
    "                relevant_info = []\n",
    "\n",
    "            if relevant_info:\n",
    "                rows_for_protein.append(relevant_info)\n",
    "                \n",
    "    if rows_for_protein:\n",
    "        protein_dataframes[protein] = pd.DataFrame(rows_for_protein, columns=['SMILES', 'UniProt1', 'UniProt2'])\n"
   ]
  },
  {
   "cell_type": "code",
   "execution_count": 62,
   "id": "ec12d97a-54da-4bf2-bfb3-5102acdbe11b",
   "metadata": {
    "tags": []
   },
   "outputs": [
    {
     "data": {
      "text/html": [
       "<div>\n",
       "<style scoped>\n",
       "    .dataframe tbody tr th:only-of-type {\n",
       "        vertical-align: middle;\n",
       "    }\n",
       "\n",
       "    .dataframe tbody tr th {\n",
       "        vertical-align: top;\n",
       "    }\n",
       "\n",
       "    .dataframe thead th {\n",
       "        text-align: right;\n",
       "    }\n",
       "</style>\n",
       "<table border=\"1\" class=\"dataframe\">\n",
       "  <thead>\n",
       "    <tr style=\"text-align: right;\">\n",
       "      <th></th>\n",
       "      <th>SMILES</th>\n",
       "      <th>UniProt1</th>\n",
       "      <th>UniProt2</th>\n",
       "    </tr>\n",
       "  </thead>\n",
       "  <tbody>\n",
       "    <tr>\n",
       "      <th>0</th>\n",
       "      <td>CC(C)(C)c1cc(Br)cc([C@H](CC(=O)O)NC(=O)CNC(=O)...</td>\n",
       "      <td>P05556</td>\n",
       "      <td>O75578</td>\n",
       "    </tr>\n",
       "    <tr>\n",
       "      <th>1</th>\n",
       "      <td>O=C(NCc1ccccc1)NC[C@H](NC(=O)[C@@H]1CCCN1S(=O)...</td>\n",
       "      <td>P05556</td>\n",
       "      <td>P56199</td>\n",
       "    </tr>\n",
       "    <tr>\n",
       "      <th>2</th>\n",
       "      <td>O=C(NCc1ccccc1)NC[C@H](NC(=O)[C@@H]1CCCN1S(=O)...</td>\n",
       "      <td>P05556</td>\n",
       "      <td>P56199</td>\n",
       "    </tr>\n",
       "    <tr>\n",
       "      <th>3</th>\n",
       "      <td>O=C(NCc1ccccc1)NC[C@H](NC(=O)[C@@H]1CCCN1S(=O)...</td>\n",
       "      <td>P05556</td>\n",
       "      <td>P56199</td>\n",
       "    </tr>\n",
       "    <tr>\n",
       "      <th>4</th>\n",
       "      <td>Nc1ccc(CNC(=O)NC[C@H](NC(=O)[C@@H]2CCCN2S(=O)(...</td>\n",
       "      <td>P05556</td>\n",
       "      <td>P56199</td>\n",
       "    </tr>\n",
       "  </tbody>\n",
       "</table>\n",
       "</div>"
      ],
      "text/plain": [
       "                                              SMILES UniProt1 UniProt2\n",
       "0  CC(C)(C)c1cc(Br)cc([C@H](CC(=O)O)NC(=O)CNC(=O)...   P05556   O75578\n",
       "1  O=C(NCc1ccccc1)NC[C@H](NC(=O)[C@@H]1CCCN1S(=O)...   P05556   P56199\n",
       "2  O=C(NCc1ccccc1)NC[C@H](NC(=O)[C@@H]1CCCN1S(=O)...   P05556   P56199\n",
       "3  O=C(NCc1ccccc1)NC[C@H](NC(=O)[C@@H]1CCCN1S(=O)...   P05556   P56199\n",
       "4  Nc1ccc(CNC(=O)NC[C@H](NC(=O)[C@@H]2CCCN2S(=O)(...   P05556   P56199"
      ]
     },
     "execution_count": 62,
     "metadata": {},
     "output_type": "execute_result"
    }
   ],
   "source": [
    "protein_dataframes['P05556'].head()"
   ]
  },
  {
   "cell_type": "markdown",
   "id": "e05b2468-c1dd-4b2b-a271-6e9112e8296d",
   "metadata": {},
   "source": [
    "#### Save the Data Frames Dictionary ####"
   ]
  },
  {
   "cell_type": "code",
   "execution_count": 22,
   "id": "267c3114-b703-47f7-a25d-9df58c599fc7",
   "metadata": {
    "tags": []
   },
   "outputs": [],
   "source": [
    "directory_path = 'obj'\n",
    "\n",
    "# Save the dictionary to a file in the specified directory\n",
    "with open(os.path.join(directory_path, 'data_frames_dictionary_modified.pkl'), 'wb') as file:\n",
    "    pickle.dump(protein_dataframes, file)"
   ]
  },
  {
   "cell_type": "markdown",
   "id": "8f43b770-29cd-40da-bb5f-8c344ff32d44",
   "metadata": {},
   "source": [
    "#### Save the Generated Data Frame as CSV Files ####"
   ]
  },
  {
   "cell_type": "code",
   "execution_count": 23,
   "id": "b04119ec-aff2-4477-aa71-a78c4deabb57",
   "metadata": {
    "tags": []
   },
   "outputs": [],
   "source": [
    "out_dir = 'data/modified/unique UniProt csv files'"
   ]
  },
  {
   "cell_type": "code",
   "execution_count": 24,
   "id": "0e7f8739-58be-4251-bb20-458033844b06",
   "metadata": {
    "tags": []
   },
   "outputs": [
    {
     "name": "stdout",
     "output_type": "stream",
     "text": [
      "~~~~~~~~~~~~~~~~~~~~~~~~~~~~~~~~~~~~~~~~~~~~~~~~~~~~~~~~~~~~~~~~~~~~~~~~~~~~~~~~\n",
      "Saved data frame for P05556 as P05556.csv\n",
      "~~~~~~~~~~~~~~~~~~~~~~~~~~~~~~~~~~~~~~~~~~~~~~~~~~~~~~~~~~~~~~~~~~~~~~~~~~~~~~~~\n",
      "~~~~~~~~~~~~~~~~~~~~~~~~~~~~~~~~~~~~~~~~~~~~~~~~~~~~~~~~~~~~~~~~~~~~~~~~~~~~~~~~\n",
      "Saved data frame for P05106 as P05106.csv\n",
      "~~~~~~~~~~~~~~~~~~~~~~~~~~~~~~~~~~~~~~~~~~~~~~~~~~~~~~~~~~~~~~~~~~~~~~~~~~~~~~~~\n",
      "~~~~~~~~~~~~~~~~~~~~~~~~~~~~~~~~~~~~~~~~~~~~~~~~~~~~~~~~~~~~~~~~~~~~~~~~~~~~~~~~\n",
      "Saved data frame for P08648 as P08648.csv\n",
      "~~~~~~~~~~~~~~~~~~~~~~~~~~~~~~~~~~~~~~~~~~~~~~~~~~~~~~~~~~~~~~~~~~~~~~~~~~~~~~~~\n"
     ]
    }
   ],
   "source": [
    "for protein, df in protein_dataframes.items():\n",
    "    try:\n",
    "        # Generate csv file name with the desired format\n",
    "        file_name = f'{protein}.csv'\n",
    "\n",
    "        # Specify full path\n",
    "        out_path = os.path.join(out_dir, file_name)\n",
    "\n",
    "        # Save current data frame as csv file\n",
    "        df.to_csv(out_path, index=False)\n",
    "\n",
    "        PRINT(f'Saved data frame for {protein} as {file_name}')\n",
    "        \n",
    "    except Exception as e:\n",
    "        PRINT(f'Error!\\nVerify path name and the data')\n",
    "    "
   ]
  },
  {
   "cell_type": "markdown",
   "id": "a7d3d5a1-21d3-417e-80ce-843a81b0ec16",
   "metadata": {
    "tags": []
   },
   "source": [
    "### Visualize Distributions for each Data Frame ###"
   ]
  },
  {
   "cell_type": "code",
   "execution_count": 25,
   "id": "67188076-5b21-4b5c-940a-5ff48e0a9746",
   "metadata": {
    "tags": []
   },
   "outputs": [
    {
     "name": "stdout",
     "output_type": "stream",
     "text": [
      "~~~~~~~~~~~~~~~~~~~~~~~~~~~~~~~~~~~~~~~~~~~~~~~~~~~~~~~~~~~~~~~~~~~~~~~~~~~~~~~~\n",
      "We have 3 data frames to visualize information about their data distributions\n",
      "~~~~~~~~~~~~~~~~~~~~~~~~~~~~~~~~~~~~~~~~~~~~~~~~~~~~~~~~~~~~~~~~~~~~~~~~~~~~~~~~\n"
     ]
    }
   ],
   "source": [
    "PRINT(f'We have {len(protein_dataframes.items())} data frames to visualize information about their data distributions')"
   ]
  },
  {
   "cell_type": "code",
   "execution_count": 26,
   "id": "9ce9e7d7-88be-458d-b011-01bc4a9e0dfb",
   "metadata": {
    "tags": []
   },
   "outputs": [
    {
     "name": "stdout",
     "output_type": "stream",
     "text": [
      "~~~~~~~~~~~~~~~~~~~~~~~~~~~~~~~~~~~~~~~~~~~~~~~~~~~~~~~~~~~~~~~~~~~~~~~~~~~~~~~~\n",
      "UniProt_ids -> ['P05556', 'P05106', 'P08648']\n",
      "~~~~~~~~~~~~~~~~~~~~~~~~~~~~~~~~~~~~~~~~~~~~~~~~~~~~~~~~~~~~~~~~~~~~~~~~~~~~~~~~\n"
     ]
    }
   ],
   "source": [
    "PRINT(f'UniProt_ids -> {unique_proteins}')"
   ]
  },
  {
   "cell_type": "markdown",
   "id": "7293fe1a-2164-49a9-92ed-554425658f28",
   "metadata": {},
   "source": [
    "#### Helper Functions ####"
   ]
  },
  {
   "cell_type": "markdown",
   "id": "59905f09-910c-4906-8ea9-db21f46a58f6",
   "metadata": {},
   "source": [
    "##### Helper One-Hot-Encoding Function #####"
   ]
  },
  {
   "cell_type": "code",
   "execution_count": 63,
   "id": "46cb179d-4732-4dfb-a016-61182aeeb4c7",
   "metadata": {
    "tags": []
   },
   "outputs": [],
   "source": [
    "def one_hot_encoding(df):\n",
    "    \n",
    "    df_encoded = pd.get_dummies(df[['UniProt1', 'UniProt2']], prefix='', prefix_sep='').astype(int)\n",
    "    df_encoded = pd.concat([df[['SMILES']], df_encoded], axis=1)\n",
    "    return df_encoded"
   ]
  },
  {
   "cell_type": "markdown",
   "id": "85ed277c-25c1-443e-8cb6-873f36931747",
   "metadata": {},
   "source": [
    "##### Helper Visualization Function #####"
   ]
  },
  {
   "cell_type": "code",
   "execution_count": 74,
   "id": "c9aa1edb-8829-4893-af80-d24cea01c631",
   "metadata": {
    "tags": []
   },
   "outputs": [],
   "source": [
    "def visualize_dist(df, target_prot)-> None:\n",
    "    # Melt the DataFrame to long format for Seaborn countplot\n",
    "    \n",
    "    df_melted = df.melt(var_name='Protein', value_name='Interaction Status')\n",
    "    df_melted['Interaction Status'] = df_melted['Interaction Status'].astype(str)\n",
    "    \n",
    "    # Set the size of the plot\n",
    "    sns.set(rc={'figure.figsize':(12, 8)})\n",
    "    \n",
    "    sns.set_context(\"notebook\", rc={\"lines.linewidth\": 2.5})\n",
    "    # Create a grouped count plot\n",
    "    sns.countplot(x='Protein', hue='Interaction Status', palette=[\"lightgrey\",\"skyblue\"], data=df_melted)\n",
    "    \n",
    "    # Add labels and title\n",
    "    plt.xlabel('Protein')\n",
    "    plt.ylabel('Count')\n",
    "    plt.title(f'PPI with -> {target_prot}')\n",
    "\n",
    "    sns.despine()\n",
    "    sns.set_theme(style=\"whitegrid\")\n",
    "    sns.despine(offset=10, trim=True)\n",
    "    sns.set_context(\"notebook\")\n",
    "    plt.show()"
   ]
  },
  {
   "cell_type": "markdown",
   "id": "346548aa-3d9d-42f7-a067-c0f245371c0a",
   "metadata": {},
   "source": [
    "##### Helper Column Filter Function ######"
   ]
  },
  {
   "cell_type": "code",
   "execution_count": 65,
   "id": "6f52ce04-3d2c-45e7-9c42-2c3020244307",
   "metadata": {
    "tags": []
   },
   "outputs": [],
   "source": [
    "def filter_proteins_list(df, columns_to_remove):\n",
    "    \n",
    "    filtered_columns = [col for col in df.columns if col not in columns_to_remove]\n",
    "    filtered_columns_list = list(filtered_columns)\n",
    "    return filtered_columns"
   ]
  },
  {
   "cell_type": "markdown",
   "id": "f1a4edec-fac1-4e7a-a022-fed9623796fb",
   "metadata": {},
   "source": [
    "#### First Data Frame ####"
   ]
  },
  {
   "cell_type": "code",
   "execution_count": 48,
   "id": "85291df5-7654-4144-aa1e-663f20f2cb91",
   "metadata": {
    "tags": []
   },
   "outputs": [
    {
     "data": {
      "text/html": [
       "<div>\n",
       "<style scoped>\n",
       "    .dataframe tbody tr th:only-of-type {\n",
       "        vertical-align: middle;\n",
       "    }\n",
       "\n",
       "    .dataframe tbody tr th {\n",
       "        vertical-align: top;\n",
       "    }\n",
       "\n",
       "    .dataframe thead th {\n",
       "        text-align: right;\n",
       "    }\n",
       "</style>\n",
       "<table border=\"1\" class=\"dataframe\">\n",
       "  <thead>\n",
       "    <tr style=\"text-align: right;\">\n",
       "      <th></th>\n",
       "      <th>SMILES</th>\n",
       "      <th>UniProt1</th>\n",
       "      <th>UniProt2</th>\n",
       "    </tr>\n",
       "  </thead>\n",
       "  <tbody>\n",
       "    <tr>\n",
       "      <th>0</th>\n",
       "      <td>CC(C)(C)c1cc(Br)cc([C@H](CC(=O)O)NC(=O)CNC(=O)...</td>\n",
       "      <td>P05556</td>\n",
       "      <td>O75578</td>\n",
       "    </tr>\n",
       "    <tr>\n",
       "      <th>1</th>\n",
       "      <td>O=C(NCc1ccccc1)NC[C@H](NC(=O)[C@@H]1CCCN1S(=O)...</td>\n",
       "      <td>P05556</td>\n",
       "      <td>P56199</td>\n",
       "    </tr>\n",
       "  </tbody>\n",
       "</table>\n",
       "</div>"
      ],
      "text/plain": [
       "                                              SMILES UniProt1 UniProt2\n",
       "0  CC(C)(C)c1cc(Br)cc([C@H](CC(=O)O)NC(=O)CNC(=O)...   P05556   O75578\n",
       "1  O=C(NCc1ccccc1)NC[C@H](NC(=O)[C@@H]1CCCN1S(=O)...   P05556   P56199"
      ]
     },
     "execution_count": 48,
     "metadata": {},
     "output_type": "execute_result"
    }
   ],
   "source": [
    "first_df = protein_dataframes[unique_proteins[0]]\n",
    "\n",
    "first_df.head(2)"
   ]
  },
  {
   "cell_type": "markdown",
   "id": "1fe2cbfc-23ef-4cc2-9dd2-5f69da8daa1b",
   "metadata": {},
   "source": [
    "##### Visualize Distribution #####"
   ]
  },
  {
   "cell_type": "code",
   "execution_count": 49,
   "id": "39bc7e80-ca3c-4ba4-8594-35db70efcd4a",
   "metadata": {
    "tags": []
   },
   "outputs": [],
   "source": [
    "first_df_encoded = one_hot_encoding(first_df)"
   ]
  },
  {
   "cell_type": "code",
   "execution_count": 50,
   "id": "f1426fdb-b9bd-4ccb-b530-63c4382276b1",
   "metadata": {
    "tags": []
   },
   "outputs": [
    {
     "name": "stdout",
     "output_type": "stream",
     "text": [
      "Index(['SMILES', 'P05556', 'O75578', 'P06756', 'P08648', 'P13612', 'P17301',\n",
      "       'P23229', 'P56199', 'Q13797'],\n",
      "      dtype='object')\n"
     ]
    }
   ],
   "source": [
    "print(first_df_encoded.columns)"
   ]
  },
  {
   "cell_type": "code",
   "execution_count": 51,
   "id": "ab002c25-789a-47c0-9ad7-ed0925b52e81",
   "metadata": {
    "tags": []
   },
   "outputs": [
    {
     "data": {
      "text/html": [
       "<div>\n",
       "<style scoped>\n",
       "    .dataframe tbody tr th:only-of-type {\n",
       "        vertical-align: middle;\n",
       "    }\n",
       "\n",
       "    .dataframe tbody tr th {\n",
       "        vertical-align: top;\n",
       "    }\n",
       "\n",
       "    .dataframe thead th {\n",
       "        text-align: right;\n",
       "    }\n",
       "</style>\n",
       "<table border=\"1\" class=\"dataframe\">\n",
       "  <thead>\n",
       "    <tr style=\"text-align: right;\">\n",
       "      <th></th>\n",
       "      <th>SMILES</th>\n",
       "      <th>P05556</th>\n",
       "      <th>O75578</th>\n",
       "      <th>P06756</th>\n",
       "      <th>P08648</th>\n",
       "      <th>P13612</th>\n",
       "      <th>P17301</th>\n",
       "      <th>P23229</th>\n",
       "      <th>P56199</th>\n",
       "      <th>Q13797</th>\n",
       "    </tr>\n",
       "  </thead>\n",
       "  <tbody>\n",
       "    <tr>\n",
       "      <th>0</th>\n",
       "      <td>CC(C)(C)c1cc(Br)cc([C@H](CC(=O)O)NC(=O)CNC(=O)...</td>\n",
       "      <td>1</td>\n",
       "      <td>1</td>\n",
       "      <td>0</td>\n",
       "      <td>0</td>\n",
       "      <td>0</td>\n",
       "      <td>0</td>\n",
       "      <td>0</td>\n",
       "      <td>0</td>\n",
       "      <td>0</td>\n",
       "    </tr>\n",
       "    <tr>\n",
       "      <th>1</th>\n",
       "      <td>O=C(NCc1ccccc1)NC[C@H](NC(=O)[C@@H]1CCCN1S(=O)...</td>\n",
       "      <td>1</td>\n",
       "      <td>0</td>\n",
       "      <td>0</td>\n",
       "      <td>0</td>\n",
       "      <td>0</td>\n",
       "      <td>0</td>\n",
       "      <td>0</td>\n",
       "      <td>1</td>\n",
       "      <td>0</td>\n",
       "    </tr>\n",
       "    <tr>\n",
       "      <th>2</th>\n",
       "      <td>O=C(NCc1ccccc1)NC[C@H](NC(=O)[C@@H]1CCCN1S(=O)...</td>\n",
       "      <td>1</td>\n",
       "      <td>0</td>\n",
       "      <td>0</td>\n",
       "      <td>0</td>\n",
       "      <td>0</td>\n",
       "      <td>0</td>\n",
       "      <td>0</td>\n",
       "      <td>1</td>\n",
       "      <td>0</td>\n",
       "    </tr>\n",
       "  </tbody>\n",
       "</table>\n",
       "</div>"
      ],
      "text/plain": [
       "                                              SMILES  P05556  O75578  P06756  \\\n",
       "0  CC(C)(C)c1cc(Br)cc([C@H](CC(=O)O)NC(=O)CNC(=O)...       1       1       0   \n",
       "1  O=C(NCc1ccccc1)NC[C@H](NC(=O)[C@@H]1CCCN1S(=O)...       1       0       0   \n",
       "2  O=C(NCc1ccccc1)NC[C@H](NC(=O)[C@@H]1CCCN1S(=O)...       1       0       0   \n",
       "\n",
       "   P08648  P13612  P17301  P23229  P56199  Q13797  \n",
       "0       0       0       0       0       0       0  \n",
       "1       0       0       0       0       1       0  \n",
       "2       0       0       0       0       1       0  "
      ]
     },
     "execution_count": 51,
     "metadata": {},
     "output_type": "execute_result"
    }
   ],
   "source": [
    "first_df_encoded.head(3)"
   ]
  },
  {
   "cell_type": "code",
   "execution_count": 52,
   "id": "6adad14d-fb2c-4e4c-8deb-5352485fb302",
   "metadata": {
    "tags": []
   },
   "outputs": [
    {
     "name": "stdout",
     "output_type": "stream",
     "text": [
      "~~~~~~~~~~~~~~~~~~~~~~~~~~~~~~~~~~~~~~~~~~~~~~~~~~~~~~~~~~~~~~~~~~~~~~~~~~~~~~~~\n",
      "Filtered columns -> ['O75578', 'P06756', 'P08648', 'P13612', 'P17301', 'P23229', 'P56199', 'Q13797']\n",
      "~~~~~~~~~~~~~~~~~~~~~~~~~~~~~~~~~~~~~~~~~~~~~~~~~~~~~~~~~~~~~~~~~~~~~~~~~~~~~~~~\n"
     ]
    }
   ],
   "source": [
    "filtered_columns = filter_proteins_list(first_df_encoded, columns_to_remove = ['SMILES', 'P05556'])\n",
    "PRINT(f'Filtered columns -> {filtered_columns}')"
   ]
  },
  {
   "cell_type": "code",
   "execution_count": 53,
   "id": "a3c6ccdb-34af-438a-b09a-8773ac6e604d",
   "metadata": {
    "tags": []
   },
   "outputs": [
    {
     "data": {
      "text/html": [
       "<div>\n",
       "<style scoped>\n",
       "    .dataframe tbody tr th:only-of-type {\n",
       "        vertical-align: middle;\n",
       "    }\n",
       "\n",
       "    .dataframe tbody tr th {\n",
       "        vertical-align: top;\n",
       "    }\n",
       "\n",
       "    .dataframe thead th {\n",
       "        text-align: right;\n",
       "    }\n",
       "</style>\n",
       "<table border=\"1\" class=\"dataframe\">\n",
       "  <thead>\n",
       "    <tr style=\"text-align: right;\">\n",
       "      <th></th>\n",
       "      <th>O75578</th>\n",
       "      <th>P06756</th>\n",
       "      <th>P08648</th>\n",
       "      <th>P13612</th>\n",
       "      <th>P17301</th>\n",
       "      <th>P23229</th>\n",
       "      <th>P56199</th>\n",
       "      <th>Q13797</th>\n",
       "    </tr>\n",
       "  </thead>\n",
       "  <tbody>\n",
       "    <tr>\n",
       "      <th>0</th>\n",
       "      <td>1</td>\n",
       "      <td>0</td>\n",
       "      <td>0</td>\n",
       "      <td>0</td>\n",
       "      <td>0</td>\n",
       "      <td>0</td>\n",
       "      <td>0</td>\n",
       "      <td>0</td>\n",
       "    </tr>\n",
       "    <tr>\n",
       "      <th>1</th>\n",
       "      <td>0</td>\n",
       "      <td>0</td>\n",
       "      <td>0</td>\n",
       "      <td>0</td>\n",
       "      <td>0</td>\n",
       "      <td>0</td>\n",
       "      <td>1</td>\n",
       "      <td>0</td>\n",
       "    </tr>\n",
       "  </tbody>\n",
       "</table>\n",
       "</div>"
      ],
      "text/plain": [
       "   O75578  P06756  P08648  P13612  P17301  P23229  P56199  Q13797\n",
       "0       1       0       0       0       0       0       0       0\n",
       "1       0       0       0       0       0       0       1       0"
      ]
     },
     "execution_count": 53,
     "metadata": {},
     "output_type": "execute_result"
    }
   ],
   "source": [
    "temp_df_1 = first_df_encoded[filtered_columns]\n",
    "\n",
    "temp_df_1.head(2)"
   ]
  },
  {
   "cell_type": "code",
   "execution_count": 76,
   "id": "8db6266e-0223-4517-97ee-7904413e78fb",
   "metadata": {
    "tags": []
   },
   "outputs": [
    {
     "data": {
      "image/png": "[encoded data removed]",
      "text/plain": [
       "<Figure size 1200x800 with 1 Axes>"
      ]
     },
     "metadata": {},
     "output_type": "display_data"
    }
   ],
   "source": [
    "visualize_dist(temp_df_1, unique_proteins[0])"
   ]
  },
  {
   "cell_type": "markdown",
   "id": "bc2dc980-a947-42be-9dab-899be04b869d",
   "metadata": {},
   "source": [
    "###### Explore the First Data Frame ######"
   ]
  },
  {
   "cell_type": "code",
   "execution_count": 77,
   "id": "31067de4-48cd-4343-8c41-0bb86703fdd4",
   "metadata": {
    "tags": []
   },
   "outputs": [
    {
     "name": "stdout",
     "output_type": "stream",
     "text": [
      "~~~~~~~~~~~~~~~~~~~~~~~~~~~~~~~~~~~~~~~~~~~~~~~~~~~~~~~~~~~~~~~~~~~~~~~~~~~~~~~~\n",
      "The size of the data frame is -> 2197\n",
      "~~~~~~~~~~~~~~~~~~~~~~~~~~~~~~~~~~~~~~~~~~~~~~~~~~~~~~~~~~~~~~~~~~~~~~~~~~~~~~~~\n",
      "Number of times O75578 appears -> 1\n",
      "Number of times P06756 appears -> 170\n",
      "Number of times P08648 appears -> 500\n",
      "Number of times P13612 appears -> 1452\n",
      "Number of times P17301 appears -> 57\n",
      "Number of times P23229 appears -> 1\n",
      "Number of times P56199 appears -> 6\n",
      "Number of times Q13797 appears -> 10\n",
      "~~~~~~~~~~~~~~~~~~~~~~~~~~~~~~~~~~~~~~~~~~~~~~~~~~~~~~~~~~~~~~~~~~~~~~~~~~~~~~~~\n",
      "Done.\n",
      "~~~~~~~~~~~~~~~~~~~~~~~~~~~~~~~~~~~~~~~~~~~~~~~~~~~~~~~~~~~~~~~~~~~~~~~~~~~~~~~~\n"
     ]
    }
   ],
   "source": [
    "PRINT(f'The size of the data frame is -> {len(first_df)}')\n",
    "print(f'Number of times O75578 appears -> {len(first_df[first_df[\"UniProt2\"] == \"O75578\"])}')\n",
    "print(f'Number of times P06756 appears -> {len(first_df[first_df[\"UniProt2\"] == \"P06756\"])}')\n",
    "print(f'Number of times P08648 appears -> {len(first_df[first_df[\"UniProt2\"] == \"P08648\"])}')\n",
    "print(f'Number of times P13612 appears -> {len(first_df[first_df[\"UniProt2\"] == \"P13612\"])}')\n",
    "print(f'Number of times P17301 appears -> {len(first_df[first_df[\"UniProt2\"] == \"P17301\"])}')\n",
    "print(f'Number of times P23229 appears -> {len(first_df[first_df[\"UniProt2\"] == \"P23229\"])}')\n",
    "print(f'Number of times P56199 appears -> {len(first_df[first_df[\"UniProt2\"] == \"P56199\"])}')\n",
    "print(f'Number of times Q13797 appears -> {len(first_df[first_df[\"UniProt2\"] == \"Q13797\"])}')\n",
    "\n",
    "PRINT('Done.')"
   ]
  },
  {
   "cell_type": "markdown",
   "id": "fe5be916-74f1-4b0e-8ba5-f6609337f1bc",
   "metadata": {},
   "source": [
    "#### Second Data Frame ####"
   ]
  },
  {
   "cell_type": "code",
   "execution_count": 67,
   "id": "af316398-c203-47c5-a1dd-1844f8b31f0b",
   "metadata": {
    "tags": []
   },
   "outputs": [
    {
     "data": {
      "text/html": [
       "<div>\n",
       "<style scoped>\n",
       "    .dataframe tbody tr th:only-of-type {\n",
       "        vertical-align: middle;\n",
       "    }\n",
       "\n",
       "    .dataframe tbody tr th {\n",
       "        vertical-align: top;\n",
       "    }\n",
       "\n",
       "    .dataframe thead th {\n",
       "        text-align: right;\n",
       "    }\n",
       "</style>\n",
       "<table border=\"1\" class=\"dataframe\">\n",
       "  <thead>\n",
       "    <tr style=\"text-align: right;\">\n",
       "      <th></th>\n",
       "      <th>SMILES</th>\n",
       "      <th>UniProt1</th>\n",
       "      <th>UniProt2</th>\n",
       "    </tr>\n",
       "  </thead>\n",
       "  <tbody>\n",
       "    <tr>\n",
       "      <th>0</th>\n",
       "      <td>CC(C)Oc1ccc(C(CC(=O)O)NC(=O)CCC(=O)Nc2ccc3c(c2...</td>\n",
       "      <td>P05106</td>\n",
       "      <td>P26006</td>\n",
       "    </tr>\n",
       "    <tr>\n",
       "      <th>1</th>\n",
       "      <td>COc1ccc(C(CC(=O)O)NC(=O)c2cccc(C(=O)Nc3ccc4c(c...</td>\n",
       "      <td>P05106</td>\n",
       "      <td>P26006</td>\n",
       "    </tr>\n",
       "  </tbody>\n",
       "</table>\n",
       "</div>"
      ],
      "text/plain": [
       "                                              SMILES UniProt1 UniProt2\n",
       "0  CC(C)Oc1ccc(C(CC(=O)O)NC(=O)CCC(=O)Nc2ccc3c(c2...   P05106   P26006\n",
       "1  COc1ccc(C(CC(=O)O)NC(=O)c2cccc(C(=O)Nc3ccc4c(c...   P05106   P26006"
      ]
     },
     "execution_count": 67,
     "metadata": {},
     "output_type": "execute_result"
    }
   ],
   "source": [
    "second_df = protein_dataframes[unique_proteins[1]]\n",
    "\n",
    "second_df.head(2)"
   ]
  },
  {
   "cell_type": "markdown",
   "id": "5686c5ec-16bd-4cea-b163-581371e8a482",
   "metadata": {},
   "source": [
    "##### Visualize Distribution #####"
   ]
  },
  {
   "cell_type": "code",
   "execution_count": 68,
   "id": "40f15213-4666-4fd3-a3e0-9e7478e0cb94",
   "metadata": {
    "tags": []
   },
   "outputs": [],
   "source": [
    "second_df_encoded = one_hot_encoding(second_df)"
   ]
  },
  {
   "cell_type": "code",
   "execution_count": 69,
   "id": "0aae57eb-95ea-4b03-86aa-d528ec43ed2f",
   "metadata": {
    "tags": []
   },
   "outputs": [
    {
     "data": {
      "text/plain": [
       "Index(['SMILES', 'P05106', 'P06756', 'P08514', 'P17301', 'P26006'], dtype='object')"
      ]
     },
     "execution_count": 69,
     "metadata": {},
     "output_type": "execute_result"
    }
   ],
   "source": [
    "second_df_encoded.columns"
   ]
  },
  {
   "cell_type": "code",
   "execution_count": 70,
   "id": "0ea85ab7-9c64-4a98-88fd-882cf2ebc719",
   "metadata": {
    "tags": []
   },
   "outputs": [
    {
     "data": {
      "text/html": [
       "<div>\n",
       "<style scoped>\n",
       "    .dataframe tbody tr th:only-of-type {\n",
       "        vertical-align: middle;\n",
       "    }\n",
       "\n",
       "    .dataframe tbody tr th {\n",
       "        vertical-align: top;\n",
       "    }\n",
       "\n",
       "    .dataframe thead th {\n",
       "        text-align: right;\n",
       "    }\n",
       "</style>\n",
       "<table border=\"1\" class=\"dataframe\">\n",
       "  <thead>\n",
       "    <tr style=\"text-align: right;\">\n",
       "      <th></th>\n",
       "      <th>SMILES</th>\n",
       "      <th>P05106</th>\n",
       "      <th>P06756</th>\n",
       "      <th>P08514</th>\n",
       "      <th>P17301</th>\n",
       "      <th>P26006</th>\n",
       "    </tr>\n",
       "  </thead>\n",
       "  <tbody>\n",
       "    <tr>\n",
       "      <th>0</th>\n",
       "      <td>CC(C)Oc1ccc(C(CC(=O)O)NC(=O)CCC(=O)Nc2ccc3c(c2...</td>\n",
       "      <td>1</td>\n",
       "      <td>0</td>\n",
       "      <td>0</td>\n",
       "      <td>0</td>\n",
       "      <td>1</td>\n",
       "    </tr>\n",
       "    <tr>\n",
       "      <th>1</th>\n",
       "      <td>COc1ccc(C(CC(=O)O)NC(=O)c2cccc(C(=O)Nc3ccc4c(c...</td>\n",
       "      <td>1</td>\n",
       "      <td>0</td>\n",
       "      <td>0</td>\n",
       "      <td>0</td>\n",
       "      <td>1</td>\n",
       "    </tr>\n",
       "    <tr>\n",
       "      <th>2</th>\n",
       "      <td>COc1ccc(C(CC(=O)O)NC(=O)CCC(=O)Nc2ccc3c(c2)CNC...</td>\n",
       "      <td>1</td>\n",
       "      <td>0</td>\n",
       "      <td>0</td>\n",
       "      <td>0</td>\n",
       "      <td>1</td>\n",
       "    </tr>\n",
       "  </tbody>\n",
       "</table>\n",
       "</div>"
      ],
      "text/plain": [
       "                                              SMILES  P05106  P06756  P08514  \\\n",
       "0  CC(C)Oc1ccc(C(CC(=O)O)NC(=O)CCC(=O)Nc2ccc3c(c2...       1       0       0   \n",
       "1  COc1ccc(C(CC(=O)O)NC(=O)c2cccc(C(=O)Nc3ccc4c(c...       1       0       0   \n",
       "2  COc1ccc(C(CC(=O)O)NC(=O)CCC(=O)Nc2ccc3c(c2)CNC...       1       0       0   \n",
       "\n",
       "   P17301  P26006  \n",
       "0       0       1  \n",
       "1       0       1  \n",
       "2       0       1  "
      ]
     },
     "execution_count": 70,
     "metadata": {},
     "output_type": "execute_result"
    }
   ],
   "source": [
    "second_df_encoded.head(3)"
   ]
  },
  {
   "cell_type": "code",
   "execution_count": 71,
   "id": "39f7ec8c-7836-467f-b4da-a79b6ff0140b",
   "metadata": {
    "tags": []
   },
   "outputs": [
    {
     "name": "stdout",
     "output_type": "stream",
     "text": [
      "~~~~~~~~~~~~~~~~~~~~~~~~~~~~~~~~~~~~~~~~~~~~~~~~~~~~~~~~~~~~~~~~~~~~~~~~~~~~~~~~\n",
      "Filtered columns -> ['P06756', 'P08514', 'P17301', 'P26006']\n",
      "~~~~~~~~~~~~~~~~~~~~~~~~~~~~~~~~~~~~~~~~~~~~~~~~~~~~~~~~~~~~~~~~~~~~~~~~~~~~~~~~\n"
     ]
    }
   ],
   "source": [
    "filtered_columns = filter_proteins_list(second_df_encoded, columns_to_remove = ['SMILES', 'P05106'])\n",
    "PRINT(f'Filtered columns -> {filtered_columns}')"
   ]
  },
  {
   "cell_type": "code",
   "execution_count": 72,
   "id": "2a0ca8b0-3b7a-433d-abf5-c50d55d0facb",
   "metadata": {
    "tags": []
   },
   "outputs": [
    {
     "data": {
      "text/html": [
       "<div>\n",
       "<style scoped>\n",
       "    .dataframe tbody tr th:only-of-type {\n",
       "        vertical-align: middle;\n",
       "    }\n",
       "\n",
       "    .dataframe tbody tr th {\n",
       "        vertical-align: top;\n",
       "    }\n",
       "\n",
       "    .dataframe thead th {\n",
       "        text-align: right;\n",
       "    }\n",
       "</style>\n",
       "<table border=\"1\" class=\"dataframe\">\n",
       "  <thead>\n",
       "    <tr style=\"text-align: right;\">\n",
       "      <th></th>\n",
       "      <th>P06756</th>\n",
       "      <th>P08514</th>\n",
       "      <th>P17301</th>\n",
       "      <th>P26006</th>\n",
       "    </tr>\n",
       "  </thead>\n",
       "  <tbody>\n",
       "    <tr>\n",
       "      <th>0</th>\n",
       "      <td>0</td>\n",
       "      <td>0</td>\n",
       "      <td>0</td>\n",
       "      <td>1</td>\n",
       "    </tr>\n",
       "    <tr>\n",
       "      <th>1</th>\n",
       "      <td>0</td>\n",
       "      <td>0</td>\n",
       "      <td>0</td>\n",
       "      <td>1</td>\n",
       "    </tr>\n",
       "    <tr>\n",
       "      <th>2</th>\n",
       "      <td>0</td>\n",
       "      <td>0</td>\n",
       "      <td>0</td>\n",
       "      <td>1</td>\n",
       "    </tr>\n",
       "    <tr>\n",
       "      <th>3</th>\n",
       "      <td>0</td>\n",
       "      <td>0</td>\n",
       "      <td>0</td>\n",
       "      <td>1</td>\n",
       "    </tr>\n",
       "    <tr>\n",
       "      <th>4</th>\n",
       "      <td>0</td>\n",
       "      <td>0</td>\n",
       "      <td>0</td>\n",
       "      <td>1</td>\n",
       "    </tr>\n",
       "  </tbody>\n",
       "</table>\n",
       "</div>"
      ],
      "text/plain": [
       "   P06756  P08514  P17301  P26006\n",
       "0       0       0       0       1\n",
       "1       0       0       0       1\n",
       "2       0       0       0       1\n",
       "3       0       0       0       1\n",
       "4       0       0       0       1"
      ]
     },
     "execution_count": 72,
     "metadata": {},
     "output_type": "execute_result"
    }
   ],
   "source": [
    "temp_df_2 = second_df_encoded[filtered_columns]\n",
    "\n",
    "temp_df_2.head(5)"
   ]
  },
  {
   "cell_type": "code",
   "execution_count": 75,
   "id": "b196da99-3451-422d-96ba-94c9c13da145",
   "metadata": {
    "tags": []
   },
   "outputs": [
    {
     "data": {
      "image/png": "[encoded data removed]",
      "text/plain": [
       "<Figure size 1200x800 with 1 Axes>"
      ]
     },
     "metadata": {},
     "output_type": "display_data"
    }
   ],
   "source": [
    "visualize_dist(temp_df_2, unique_proteins[1])"
   ]
  },
  {
   "cell_type": "markdown",
   "id": "e664c6e0-4fed-458e-81bc-ff291586772c",
   "metadata": {},
   "source": [
    "###### Explore the Second Data Frame ######"
   ]
  },
  {
   "cell_type": "code",
   "execution_count": 85,
   "id": "cc07f3ab-10cd-48d5-a989-26398c5e2fb8",
   "metadata": {
    "tags": []
   },
   "outputs": [
    {
     "name": "stdout",
     "output_type": "stream",
     "text": [
      "~~~~~~~~~~~~~~~~~~~~~~~~~~~~~~~~~~~~~~~~~~~~~~~~~~~~~~~~~~~~~~~~~~~~~~~~~~~~~~~~\n",
      "The size of the data frame is -> 4526\n",
      "~~~~~~~~~~~~~~~~~~~~~~~~~~~~~~~~~~~~~~~~~~~~~~~~~~~~~~~~~~~~~~~~~~~~~~~~~~~~~~~~\n",
      "Number of time P06756 appears -> 2095\n",
      "Number of time P08514 appears -> 2386\n",
      "Number of time P17301 appears -> 20\n",
      "Number of time P26006 appears -> 25\n",
      "~~~~~~~~~~~~~~~~~~~~~~~~~~~~~~~~~~~~~~~~~~~~~~~~~~~~~~~~~~~~~~~~~~~~~~~~~~~~~~~~\n",
      "Done.\n",
      "~~~~~~~~~~~~~~~~~~~~~~~~~~~~~~~~~~~~~~~~~~~~~~~~~~~~~~~~~~~~~~~~~~~~~~~~~~~~~~~~\n"
     ]
    }
   ],
   "source": [
    "PRINT(f'The size of the data frame is -> {len(second_df)}')\n",
    "print(f'Number of time P06756 appears -> {len(second_df[second_df[\"UniProt2\"] == \"P06756\"])}')\n",
    "print(f'Number of time P08514 appears -> {len(second_df[second_df[\"UniProt2\"] == \"P08514\"])}')\n",
    "print(f'Number of time P17301 appears -> {len(second_df[second_df[\"UniProt2\"] == \"P17301\"])}')\n",
    "print(f'Number of time P26006 appears -> {len(second_df[second_df[\"UniProt2\"] == \"P26006\"])}')\n",
    "\n",
    "PRINT('Done.')"
   ]
  },
  {
   "cell_type": "markdown",
   "id": "92047535-ebfc-4128-92a1-2cdeef97eb15",
   "metadata": {},
   "source": [
    "#### Third Data Frame ####"
   ]
  },
  {
   "cell_type": "code",
   "execution_count": 86,
   "id": "4ceaaeb4-3fb6-42b4-b813-b11eeb5d16ff",
   "metadata": {
    "tags": []
   },
   "outputs": [
    {
     "data": {
      "text/html": [
       "<div>\n",
       "<style scoped>\n",
       "    .dataframe tbody tr th:only-of-type {\n",
       "        vertical-align: middle;\n",
       "    }\n",
       "\n",
       "    .dataframe tbody tr th {\n",
       "        vertical-align: top;\n",
       "    }\n",
       "\n",
       "    .dataframe thead th {\n",
       "        text-align: right;\n",
       "    }\n",
       "</style>\n",
       "<table border=\"1\" class=\"dataframe\">\n",
       "  <thead>\n",
       "    <tr style=\"text-align: right;\">\n",
       "      <th></th>\n",
       "      <th>SMILES</th>\n",
       "      <th>UniProt1</th>\n",
       "      <th>UniProt2</th>\n",
       "    </tr>\n",
       "  </thead>\n",
       "  <tbody>\n",
       "    <tr>\n",
       "      <th>0</th>\n",
       "      <td>O=C(N[C@@H](Cc1cccc(OCCCCNc2ccccn2)c1)C(=O)O)c...</td>\n",
       "      <td>P08648</td>\n",
       "      <td>P05556</td>\n",
       "    </tr>\n",
       "    <tr>\n",
       "      <th>1</th>\n",
       "      <td>CC(C)[C@@H]1NC(=O)[C@@H](Cc2c[nH]c3c(-c4ccc(C(...</td>\n",
       "      <td>P08648</td>\n",
       "      <td>P05556</td>\n",
       "    </tr>\n",
       "  </tbody>\n",
       "</table>\n",
       "</div>"
      ],
      "text/plain": [
       "                                              SMILES UniProt1 UniProt2\n",
       "0  O=C(N[C@@H](Cc1cccc(OCCCCNc2ccccn2)c1)C(=O)O)c...   P08648   P05556\n",
       "1  CC(C)[C@@H]1NC(=O)[C@@H](Cc2c[nH]c3c(-c4ccc(C(...   P08648   P05556"
      ]
     },
     "execution_count": 86,
     "metadata": {},
     "output_type": "execute_result"
    }
   ],
   "source": [
    "third_df = protein_dataframes[unique_proteins[2]]\n",
    "\n",
    "third_df.head(2)"
   ]
  },
  {
   "cell_type": "markdown",
   "id": "93586500-2aa9-4d9e-a9f8-0ba0f01dbc98",
   "metadata": {},
   "source": [
    "##### Visualize Distribution #####"
   ]
  },
  {
   "cell_type": "code",
   "execution_count": 87,
   "id": "690cebcd-7179-4988-be2d-6d4734c0fb2e",
   "metadata": {
    "tags": []
   },
   "outputs": [],
   "source": [
    "third_df_encoded = one_hot_encoding(third_df)"
   ]
  },
  {
   "cell_type": "code",
   "execution_count": 88,
   "id": "314c5677-1a26-4b7e-99c1-df935603822e",
   "metadata": {
    "tags": []
   },
   "outputs": [
    {
     "data": {
      "text/plain": [
       "Index(['SMILES', 'P08648', 'P05556', 'P06756', 'P32297'], dtype='object')"
      ]
     },
     "execution_count": 88,
     "metadata": {},
     "output_type": "execute_result"
    }
   ],
   "source": [
    "third_df_encoded.columns"
   ]
  },
  {
   "cell_type": "code",
   "execution_count": 89,
   "id": "58921601-c159-4c53-b87a-b974983f1920",
   "metadata": {
    "tags": []
   },
   "outputs": [
    {
     "data": {
      "text/html": [
       "<div>\n",
       "<style scoped>\n",
       "    .dataframe tbody tr th:only-of-type {\n",
       "        vertical-align: middle;\n",
       "    }\n",
       "\n",
       "    .dataframe tbody tr th {\n",
       "        vertical-align: top;\n",
       "    }\n",
       "\n",
       "    .dataframe thead th {\n",
       "        text-align: right;\n",
       "    }\n",
       "</style>\n",
       "<table border=\"1\" class=\"dataframe\">\n",
       "  <thead>\n",
       "    <tr style=\"text-align: right;\">\n",
       "      <th></th>\n",
       "      <th>SMILES</th>\n",
       "      <th>P08648</th>\n",
       "      <th>P05556</th>\n",
       "      <th>P06756</th>\n",
       "      <th>P32297</th>\n",
       "    </tr>\n",
       "  </thead>\n",
       "  <tbody>\n",
       "    <tr>\n",
       "      <th>0</th>\n",
       "      <td>O=C(N[C@@H](Cc1cccc(OCCCCNc2ccccn2)c1)C(=O)O)c...</td>\n",
       "      <td>1</td>\n",
       "      <td>1</td>\n",
       "      <td>0</td>\n",
       "      <td>0</td>\n",
       "    </tr>\n",
       "    <tr>\n",
       "      <th>1</th>\n",
       "      <td>CC(C)[C@@H]1NC(=O)[C@@H](Cc2c[nH]c3c(-c4ccc(C(...</td>\n",
       "      <td>1</td>\n",
       "      <td>1</td>\n",
       "      <td>0</td>\n",
       "      <td>0</td>\n",
       "    </tr>\n",
       "    <tr>\n",
       "      <th>2</th>\n",
       "      <td>CC(C)[C@@H]1NC(=O)[C@@H](Cc2c[nH]c3c(-c4ccc5cc...</td>\n",
       "      <td>1</td>\n",
       "      <td>1</td>\n",
       "      <td>0</td>\n",
       "      <td>0</td>\n",
       "    </tr>\n",
       "  </tbody>\n",
       "</table>\n",
       "</div>"
      ],
      "text/plain": [
       "                                              SMILES  P08648  P05556  P06756  \\\n",
       "0  O=C(N[C@@H](Cc1cccc(OCCCCNc2ccccn2)c1)C(=O)O)c...       1       1       0   \n",
       "1  CC(C)[C@@H]1NC(=O)[C@@H](Cc2c[nH]c3c(-c4ccc(C(...       1       1       0   \n",
       "2  CC(C)[C@@H]1NC(=O)[C@@H](Cc2c[nH]c3c(-c4ccc5cc...       1       1       0   \n",
       "\n",
       "   P32297  \n",
       "0       0  \n",
       "1       0  \n",
       "2       0  "
      ]
     },
     "execution_count": 89,
     "metadata": {},
     "output_type": "execute_result"
    }
   ],
   "source": [
    "third_df_encoded.head(3)"
   ]
  },
  {
   "cell_type": "code",
   "execution_count": 90,
   "id": "eddc677e-ecd9-4306-ab4e-c63d07f02098",
   "metadata": {
    "tags": []
   },
   "outputs": [
    {
     "name": "stdout",
     "output_type": "stream",
     "text": [
      "~~~~~~~~~~~~~~~~~~~~~~~~~~~~~~~~~~~~~~~~~~~~~~~~~~~~~~~~~~~~~~~~~~~~~~~~~~~~~~~~\n",
      "Filtered columns -> ['P05556', 'P06756', 'P32297']\n",
      "~~~~~~~~~~~~~~~~~~~~~~~~~~~~~~~~~~~~~~~~~~~~~~~~~~~~~~~~~~~~~~~~~~~~~~~~~~~~~~~~\n"
     ]
    }
   ],
   "source": [
    "filtered_columns = filter_proteins_list(third_df_encoded, columns_to_remove = ['SMILES', 'P08648'])\n",
    "PRINT(f'Filtered columns -> {filtered_columns}')"
   ]
  },
  {
   "cell_type": "code",
   "execution_count": 91,
   "id": "4a7528b0-0547-4d73-b938-8c58fe82359f",
   "metadata": {
    "tags": []
   },
   "outputs": [
    {
     "data": {
      "text/html": [
       "<div>\n",
       "<style scoped>\n",
       "    .dataframe tbody tr th:only-of-type {\n",
       "        vertical-align: middle;\n",
       "    }\n",
       "\n",
       "    .dataframe tbody tr th {\n",
       "        vertical-align: top;\n",
       "    }\n",
       "\n",
       "    .dataframe thead th {\n",
       "        text-align: right;\n",
       "    }\n",
       "</style>\n",
       "<table border=\"1\" class=\"dataframe\">\n",
       "  <thead>\n",
       "    <tr style=\"text-align: right;\">\n",
       "      <th></th>\n",
       "      <th>P05556</th>\n",
       "      <th>P06756</th>\n",
       "      <th>P32297</th>\n",
       "    </tr>\n",
       "  </thead>\n",
       "  <tbody>\n",
       "    <tr>\n",
       "      <th>0</th>\n",
       "      <td>1</td>\n",
       "      <td>0</td>\n",
       "      <td>0</td>\n",
       "    </tr>\n",
       "    <tr>\n",
       "      <th>1</th>\n",
       "      <td>1</td>\n",
       "      <td>0</td>\n",
       "      <td>0</td>\n",
       "    </tr>\n",
       "    <tr>\n",
       "      <th>2</th>\n",
       "      <td>1</td>\n",
       "      <td>0</td>\n",
       "      <td>0</td>\n",
       "    </tr>\n",
       "    <tr>\n",
       "      <th>3</th>\n",
       "      <td>1</td>\n",
       "      <td>0</td>\n",
       "      <td>0</td>\n",
       "    </tr>\n",
       "    <tr>\n",
       "      <th>4</th>\n",
       "      <td>1</td>\n",
       "      <td>0</td>\n",
       "      <td>0</td>\n",
       "    </tr>\n",
       "  </tbody>\n",
       "</table>\n",
       "</div>"
      ],
      "text/plain": [
       "   P05556  P06756  P32297\n",
       "0       1       0       0\n",
       "1       1       0       0\n",
       "2       1       0       0\n",
       "3       1       0       0\n",
       "4       1       0       0"
      ]
     },
     "execution_count": 91,
     "metadata": {},
     "output_type": "execute_result"
    }
   ],
   "source": [
    "temp_df_3 = third_df_encoded[filtered_columns]\n",
    "\n",
    "temp_df_3.head(5)"
   ]
  },
  {
   "cell_type": "code",
   "execution_count": 92,
   "id": "bd3fba6f-d9cc-4e8f-81e9-d10aaa189ba8",
   "metadata": {
    "tags": []
   },
   "outputs": [
    {
     "data": {
      "image/png": "[encoded data removed]",
      "text/plain": [
       "<Figure size 1200x800 with 1 Axes>"
      ]
     },
     "metadata": {},
     "output_type": "display_data"
    }
   ],
   "source": [
    "visualize_dist(temp_df_3, unique_proteins[2])"
   ]
  },
  {
   "cell_type": "markdown",
   "id": "0fa663ab-38ae-4133-9afc-add608d0ffbb",
   "metadata": {},
   "source": [
    "###### Explore the Third Data Frame ######"
   ]
  },
  {
   "cell_type": "code",
   "execution_count": 93,
   "id": "6796d781-005a-49a8-9e87-0effb6cbe55c",
   "metadata": {
    "tags": []
   },
   "outputs": [
    {
     "name": "stdout",
     "output_type": "stream",
     "text": [
      "~~~~~~~~~~~~~~~~~~~~~~~~~~~~~~~~~~~~~~~~~~~~~~~~~~~~~~~~~~~~~~~~~~~~~~~~~~~~~~~~\n",
      "The size of the data frame is -> 519\n",
      "~~~~~~~~~~~~~~~~~~~~~~~~~~~~~~~~~~~~~~~~~~~~~~~~~~~~~~~~~~~~~~~~~~~~~~~~~~~~~~~~\n",
      "Number of time P05556 appears -> 500\n",
      "Number of time P06756 appears -> 6\n",
      "Number of time P32297 appears -> 13\n",
      "~~~~~~~~~~~~~~~~~~~~~~~~~~~~~~~~~~~~~~~~~~~~~~~~~~~~~~~~~~~~~~~~~~~~~~~~~~~~~~~~\n",
      "Done.\n",
      "~~~~~~~~~~~~~~~~~~~~~~~~~~~~~~~~~~~~~~~~~~~~~~~~~~~~~~~~~~~~~~~~~~~~~~~~~~~~~~~~\n"
     ]
    }
   ],
   "source": [
    "PRINT(f'The size of the data frame is -> {len(third_df)}')\n",
    "print(f'Number of time P05556 appears -> {len(third_df[third_df[\"UniProt2\"] == \"P05556\"])}')\n",
    "print(f'Number of time P06756 appears -> {len(third_df[third_df[\"UniProt2\"] == \"P06756\"])}')\n",
    "print(f'Number of time P32297 appears -> {len(third_df[third_df[\"UniProt2\"] == \"P32297\"])}')\n",
    "\n",
    "PRINT('Done.')"
   ]
  },
  {
   "cell_type": "code",
   "execution_count": 95,
   "id": "b0562661-1556-408b-b9b4-43f876be2e8a",
   "metadata": {
    "tags": []
   },
   "outputs": [
    {
     "name": "stdout",
     "output_type": "stream",
     "text": [
      "~~~~~~~~~~~~~~~~~~~~~~~~~~~~~~~~~~~~~~~~~~~~~~~~~~~~~~~~~~~~~~~~~~~~~~~~~~~~~~~~\n",
      "Done.\n",
      "~~~~~~~~~~~~~~~~~~~~~~~~~~~~~~~~~~~~~~~~~~~~~~~~~~~~~~~~~~~~~~~~~~~~~~~~~~~~~~~~\n"
     ]
    }
   ],
   "source": [
    "#encoded_dir_path = 'data/modified/one hot encoded csv files for training'\n",
    "\n",
    "first_df_encoded.to_csv(os.path.join('data/modified/one hot encoded csv files for training/first_df_encoded.csv'), index=False)\n",
    "second_df_encoded.to_csv(os.path.join('data/modified/one hot encoded csv files for training/second_df_encoded.csv'), index=False)\n",
    "third_df_encoded.to_csv(os.path.join('data/modified/one hot encoded csv files for training/third_df_encoded.csv'), index=False)\n",
    "\n",
    "PRINT('Done.')"
   ]
  },
  {
   "cell_type": "markdown",
   "id": "b09bcac3-b947-407e-a43b-73a1fcf659dd",
   "metadata": {},
   "source": [
    "---\n",
    "## Build Classification Models for PPI Prediction ## "
   ]
  },
  {
   "cell_type": "markdown",
   "id": "794bdd33-0e6f-4c84-ad17-1f2c2f89d418",
   "metadata": {},
   "source": [
    "In the upcoming phase, we plan to develop three multiclass classification models to predict Protein-Protein Interactions (PPI) across our six datasets. This entails creating and evaluating six distinct models, one for each dataset. Subsequently, we aim to employ these trained models for predicting PPI on new, unlabeled data.\n",
    "\n",
    "The models we intend to construct include:\n",
    "\n",
    "1. Graph Convolution Model using the DeepChem library.\n",
    "2. Random Forest Multiclass Classifier using the sklearn library.\n",
    "3. XGBoost Multiclass Classifier."
   ]
  },
  {
   "cell_type": "markdown",
   "id": "c89c5318-c98e-45d8-b687-70019d6ed079",
   "metadata": {},
   "source": [
    "### Graph Convolution Model ###"
   ]
  },
  {
   "cell_type": "markdown",
   "id": "61f734ba-24de-4538-b4c9-4dd43557316f",
   "metadata": {},
   "source": [
    "#### Hyperparameter Tuning for the Model #####"
   ]
  },
  {
   "cell_type": "code",
   "execution_count": 4,
   "id": "d4e42e02-c138-4d2c-ba4b-21db6c036755",
   "metadata": {},
   "outputs": [],
   "source": [
    "def gc_model_builder(**model_params):\n",
    "    \"\"\"\n",
    "    Helper function that constructs and configures a GraphConvModel for the PPI prediction task. \n",
    "    This function is intended to be used to provide the necessary model for hyperparameter tuning \n",
    "    with the `GridHyperparamOpt()` object.\n",
    "\n",
    "    Parameters:\n",
    "    - learning_rate (float): The learning rate for the optimizer.\n",
    "    - dropout (float): Dropout rate to prevent overfitting.\n",
    "    - batch_normalize (bool): Whether to apply batch normalization.\n",
    "    - n_classes (int): Number of classes for classification.\n",
    "    \n",
    "    Returns:\n",
    "    - GraphConvModel: Configured instance of GraphConvModel for PPI prediction tas.\n",
    "    \"\"\"\n",
    "    n_classes = 5 # NEED TO SPECIFY !\n",
    "    learning_rate = model_params['learning_rate']\n",
    "    dropout = model_params['dropout']\n",
    "    batch_normalize = model_params['batch_normalize']\n",
    "    \n",
    "    return GraphConvModel(n_tasks=1,\n",
    "                          dropout=dropout,\n",
    "                          mode='classification',\n",
    "                          batch_normalize=batch_normalize,\n",
    "                          n_classes=n_classes,\n",
    "                          learning_rate=learning_rate\n",
    "                          )"
   ]
  },
  {
   "cell_type": "code",
   "execution_count": 5,
   "id": "4c1268be-4841-40bb-adc8-d1a7a74025c4",
   "metadata": {},
   "outputs": [],
   "source": [
    "def custom_roc_auc_score(y_true, y_pred, multi_class='ovr', average='weighted'):\n",
    "    return roc_auc_score(y_true, y_pred, multi_class=multi_class, average=average)"
   ]
  },
  {
   "cell_type": "code",
   "execution_count": 6,
   "id": "9393ae13-75e1-462e-9b8e-9bcc05871da1",
   "metadata": {},
   "outputs": [],
   "source": [
    "def execute_hyperparameter_tuning_for_graph_conv(csv_data, df, params):\n",
    "    \"\"\"\n",
    "    Perform hyperparameter tuning for a Graph Convolutional Model using a grid search approach.\n",
    "\n",
    "    Parameters:\n",
    "    - csv_data (str or pd.DataFrame): Path to a CSV file containing molecular data for `deepchem.data.CSVLoader.featurize()` object\n",
    "    - df (pd.DataFrame): A Pandas DataFrame containing the data set for the model.\n",
    "    - params (dict): Dictionary of hyperparameters to be tuned.\n",
    "\n",
    "    Returns:\n",
    "    - list: A list containing the best hyperparameters and detailed results of the hyperparameter search.\n",
    "    \"\"\"\n",
    "    \n",
    "    tasks = ['NumericUniProtTargetLabels']\n",
    "    featurizer = dc.feat.ConvMolFeaturizer()\n",
    "    loader = dc.data.CSVLoader(tasks=tasks,\n",
    "                               smiles_field='SMILES',\n",
    "                               featurizer=featurizer)\n",
    "    \n",
    "    #splitter = dc.splits.RandomSplitter()\n",
    "    splitter = dc.splits.RandomStratifiedSplitter()\n",
    "\n",
    "    mean_roc_auc_metric = dc.metrics.Metric(\n",
    "        metric=custom_roc_auc_score,\n",
    "        task_averager=np.mean,\n",
    "        mode='classification',\n",
    "        n_tasks=1\n",
    "    )\n",
    "    dataset = loader.featurize(csv_data)\n",
    "\n",
    "    res = splitter.train_test_split(dataset, train_frac=0.7) \n",
    "    train_dataset, valid_dataset = res\n",
    "    \n",
    "    # Create a hyperparameter optimization object\n",
    "    opt = GridHyperparamOpt(gc_model_builder)\n",
    "    _, best_hyperparams, all_results = opt.hyperparam_search(params, train_dataset, valid_dataset, mean_roc_auc_metric)\n",
    "\n",
    "    return [best_hyperparams, all_results]"
   ]
  },
  {
   "cell_type": "code",
   "execution_count": 7,
   "id": "e553e7a5-80cc-467c-8faf-e56063dc577a",
   "metadata": {},
   "outputs": [],
   "source": [
    "def generate_graph_conv_model(dropout, batch_normalize, n_classes, learning_rate, model_dir):\n",
    "    \"\"\"\n",
    "    Generate a Graph Convolutional Neural Network (GraphConvModel) for classification tasks.\n",
    "\n",
    "    Parameters:\n",
    "    - dropout (float): Dropout rate to apply in the model.\n",
    "    - batch_normalize (bool): Whether to apply batch normalization.\n",
    "    - n_classes (int): Number of classes for classification.\n",
    "    - learning_rate (float): Learning rate for model training.\n",
    "    - model_dir (str): Directory to save the trained model.\n",
    "\n",
    "    Returns:\n",
    "    - model (GraphConvModel): The configured GraphConvModel for classification.\n",
    "    \"\"\"\n",
    "    batch_size = 64\n",
    "    model = GraphConvModel(n_tasks=1, \n",
    "                           dropout=dropout,\n",
    "                           batch_size=batch_size,\n",
    "                           batch_normalize=batch_normalize,\n",
    "                           mode='classification',\n",
    "                           model_dir=model_dir,\n",
    "                           n_classes=n_classes,\n",
    "                           learning_rate=learning_rate)\n",
    "    \n",
    "    return model"
   ]
  },
  {
   "cell_type": "code",
   "execution_count": 8,
   "id": "cbab7d2c-431d-46ab-b7f5-0b7c5f4350dd",
   "metadata": {},
   "outputs": [],
   "source": [
    "def GenerateBoxplotForModelPreformaceVisualization(UniProt, cv_folds, training_score_list, validation_score_list) ->None :\n",
    "    \"\"\"\n",
    "    Generate a boxplot to visualize the performance of a model on training and validation sets.\n",
    "\n",
    "    Parameters:\n",
    "    - UniProt (str): The UniProt ID.\n",
    "    - cv_folds (int): Number of cross-validation folds.\n",
    "    - training_score_list (list): List of training scores for each fold.\n",
    "    - validation_score_list (list): List of validation scores for each fold.\n",
    "\n",
    "    Returns:\n",
    "    - None\n",
    "    \"\"\"\n",
    "    \n",
    "    data = {\n",
    "        'Group': [\"Training\"] * cv_folds + [\"Validation\"] * cv_folds,\n",
    "        'Score': training_score_list + validation_score_list\n",
    "        }\n",
    "\n",
    "    sns.boxplot(x=\"Group\", y=\"Score\", data=data)\n",
    "    \n",
    "    plt.title(label=f\"{UniProt} Mean-Roc-Auc-Score Boxplot Graph\", \n",
    "              fontsize=15, \n",
    "              color=\"blue\")\n",
    "    \n",
    "    plt.show()"
   ]
  },
  {
   "cell_type": "code",
   "execution_count": 9,
   "id": "a6dc6516-6c38-4ce3-9af8-c48247d84739",
   "metadata": {},
   "outputs": [],
   "source": [
    "def get_class_labels(predicted_probs):\n",
    "    \"\"\"\n",
    "    Extract class labels from predicted probabilities.\n",
    "\n",
    "    Parameters:\n",
    "    - predicted_probs (numpy.ndarray): Array containing predicted probabilities for each class.\n",
    "\n",
    "    Returns:\n",
    "    - class_labels (numpy.ndarray): Array containing the class labels corresponding to the highest probability.\n",
    "    \"\"\"\n",
    "    # Remove the extra dimension\n",
    "    squeezed_probs = np.squeeze(predicted_probs, axis=1)\n",
    "    \n",
    "    # Get the class labels\n",
    "    class_labels = np.argmax(squeezed_probs, axis=1)\n",
    "    return class_labels"
   ]
  },
  {
   "cell_type": "markdown",
   "id": "551d36cb-472e-49d0-bf24-caad270e7d31",
   "metadata": {},
   "source": [
    "### Random Forest & XGBoost Multiclass Classifiers Models ###\n",
    "\n",
    "Next, our objective is to construct Random Forest and XGBoost multiclass classification models. However, before delving into model development, we recognize the need for additional features to enhance performance. The Graph Convolutional Model from the DeepChem library, employed in our previous model, automatically generates features from the molecular SMILES values during training. Consequently, we were able to feed only two columns, namely SMILES and NumericUniProtTargetLabels, to the model.\n",
    "\n",
    "In contrast, Random Forest and XGBoost do not generate features during training. To address this, we will utilize RDKitDescriptors & Morgan Fingerprints to generate additional features. These additional features will provide valuable information for our models to learn from, potentially improving their overall performance"
   ]
  },
  {
   "cell_type": "markdown",
   "id": "26a17b3d-e5a4-4239-a61e-d0e7fa4eb5c8",
   "metadata": {},
   "source": [
    "#### Generate Fetures using RDKitDescriptors ####e."
   ]
  },
  {
   "cell_type": "code",
   "execution_count": 3,
   "id": "f72cc9f3-fce3-4af5-8138-09779c11da82",
   "metadata": {},
   "outputs": [],
   "source": [
    "def calculate_descriptors(smiles):\n",
    "    \"\"\"\n",
    "    Helper function that takes a molecule's SMILES value and generates a list of the best 8 features \n",
    "    found to be the most significant for our PPI prediction task.\n",
    "    \n",
    "    Params:\n",
    "    - smiles (str): Molecule's SMILES value as a string.\n",
    "    \n",
    "    Returns:\n",
    "    - list: A list of 8 features generated from the molecule's SMILES.\n",
    "    \"\"\"\n",
    "    mol = Chem.MolFromSmiles(smiles)\n",
    "    if mol is not None:\n",
    "        descriptors = [\n",
    "            Descriptors.MolWt(mol),\n",
    "            Descriptors.NumValenceElectrons(mol),\n",
    "            Descriptors.TPSA(mol),\n",
    "            Descriptors.MolLogP(mol),\n",
    "            Descriptors.NumHeteroatoms(mol),\n",
    "            Descriptors.NumRotatableBonds(mol),\n",
    "            Descriptors.HeavyAtomCount(mol),\n",
    "            Descriptors.FractionCSP3(mol)\n",
    "        ]\n",
    "        return descriptors\n",
    "    else:\n",
    "        return [None] * 8  # Return None for each descriptor if SMILES cannot be parsed"
   ]
  },
  {
   "cell_type": "code",
   "execution_count": 4,
   "id": "5e1c1b44-49e2-4199-9099-70184b5abf92",
   "metadata": {},
   "outputs": [],
   "source": [
    "def GenerateFeaturesByMoleculeSMILES(df) -> pd.DataFrame:\n",
    "    \"\"\"\n",
    "    Takes a DataFrame containing data for a PPI prediction task and adds features using the \n",
    "    `calculate_descriptors(smiles)` feature augmentation helper function.\n",
    "    \n",
    "    Params:\n",
    "    - df (pd.DataFrame): DataFrame containing data for the task.\n",
    "    \n",
    "    Returns:\n",
    "    - pd (pd.DataFrame): The same DataFrame after adding the new features.\n",
    "    \"\"\"\n",
    "    df_ = df.copy()\n",
    "    # Apply the `calculate_descriptors` method in order to generate 8 new features for df\n",
    "    df_['MolecularDescriptors'] = df_['SMILES'].apply(calculate_descriptors)\n",
    "\n",
    "    # Transfer the array at each row under the 'MolecularDescriptors' column into column with their corresponding names & drop the colunn\n",
    "    df_[['MolWt', 'NumValenceElectrons', 'TPSA', 'MolLogP', 'NumHeteroatoms', 'NumRotatableBonds', 'HeavyAtomCount', 'FractionCSP3']] = pd.DataFrame(df_['MolecularDescriptors'].tolist(), index=df_.index)\n",
    "    df_.drop(columns=['MolecularDescriptors'], axis=1, inplace=True)\n",
    "\n",
    "    # Reorder the columns names so that the label column will be the last column in df\n",
    "    df_ = df_[['SMILES', 'MolWt', 'NumValenceElectrons', 'TPSA', 'MolLogP', 'NumHeteroatoms', 'NumRotatableBonds', 'HeavyAtomCount', 'FractionCSP3', 'NumericUniProtTargetLabels']]\n",
    "\n",
    "    return df_"
   ]
  },
  {
   "cell_type": "markdown",
   "id": "1657d755-42b4-4836-9227-4a43c1be3dd8",
   "metadata": {},
   "source": [
    "#### Generate Features using Morgan Fingerprints ####"
   ]
  },
  {
   "cell_type": "code",
   "execution_count": 5,
   "id": "ecfa5d75-362a-4b8d-8178-0711ad98552e",
   "metadata": {},
   "outputs": [],
   "source": [
    "def GenerateMorganFingerprintsFeaturesByMoleculeSMILES(df, size, radius) -> pd.DataFrame:\n",
    "    \"\"\"\n",
    "    Generate Morgan fingerprints features for molecules based on their SMILES representation.\n",
    "\n",
    "    Parameters:\n",
    "    - df (pd.DataFrame): DataFrame containing data for the task.\n",
    "    - size (int): Size of the circular fingerprint (number of bits).\n",
    "    - radius (int): Radius parameter for the circular fingerprint.\n",
    "\n",
    "    Returns:\n",
    "    - pd.DataFrame: DataFrame with Morgan fingerprints features added.\n",
    "    \"\"\"\n",
    "\n",
    "    # Define the CircularFingerprint featurizer to generate Morgan Fingerprints features\n",
    "    featurizer = dc.feat.CircularFingerprint(size=size, radius=radius)\n",
    "    \n",
    "    # Convert SMILES to features using the featurizer\n",
    "    X = [featurizer.featurize(smiles) for smiles in df['SMILES']]\n",
    "    X_flat = [x.flatten() for x in X]  \n",
    "    feature_columns = [f'Feature_{i}' for i in range(len(X_flat[0]))]  \n",
    "    df_features = pd.DataFrame(X_flat, columns=feature_columns)\n",
    "    \n",
    "    # Combine the features with the original dataframe\n",
    "    df_combined = pd.concat([df, df_features], axis=1)\n",
    "\n",
    "    df_with_morgan_fingerprints_features = df_combined\n",
    "\n",
    "    return df_with_morgan_fingerprints_features\n"
   ]
  },
  {
   "cell_type": "markdown",
   "id": "faee21e9-e0f2-41b0-bdb3-e860571e51aa",
   "metadata": {},
   "source": [
    "#### Buildint Random Forest Multiclass Classifier Model #####"
   ]
  },
  {
   "cell_type": "code",
   "execution_count": 13,
   "id": "1060443a-e963-49df-a855-4935e4eface7",
   "metadata": {},
   "outputs": [],
   "source": [
    "def GenerateRandomForestModel(df, weight_dict, n_bootstrap_samples=100, if_binary=True, bootstrap=True):\n",
    "    \"\"\"\n",
    "    Takes data frame with columns ['SMILES', ... molecule fetures ..., 'NumericUniProtTargetLabels'], traing and evaluate Random Forest Classifier\n",
    "    model after choosing the best hyperparameters by `GrudSearchCV`. The function also takes `weight_dict`, which is dictionary of weights assigned\n",
    "    for each class in case of imbalanced data, or 'balanced' if the data is balanced.\n",
    "\n",
    "    Params:\n",
    "    df - data frame\n",
    "    weight_dict - dictionary of weight, e.g., {0:1, 1:1.8, 2:1, 3:1.3}. In case the data balanced, pass 'balanced' instead.\n",
    "    n_bootstrap_samples - the number of bootstrap samples to create for ROC AUC calculation\n",
    "    if_binary - Boolean, True if the number of class is 2, else specify False\n",
    "    bootstrap - Boolean, True if the data isn't unbalanced much, else Flase.\n",
    "\n",
    "    Return:\n",
    "    tuple - (best_rf_model, model_preformance_dictionary)\n",
    "    \"\"\"\n",
    "    \n",
    "    # Drop SMILES' and labels columns\n",
    "    X = df.drop(['SMILES', 'NumericUniProtTargetLabels'], axis=1)\n",
    "    y = df['NumericUniProtTargetLabels']\n",
    "    \n",
    "    # Split the dataset into training and test sets\n",
    "    X_train, X_test, y_train, y_test = train_test_split(X, y, test_size=0.2, stratify=y, random_state=42)\n",
    "    \n",
    "    # Generate RF model for hyperparameter tuning phase\n",
    "    rf_model = RandomForestClassifier(class_weight=weight_dict, random_state=42)\n",
    "\n",
    "    # Use StratifiedKFold for cross-validation\n",
    "    stratified_kfold = StratifiedKFold(n_splits=5, shuffle=True, random_state=42)\n",
    "    \n",
    "    # Define a parameter distribution\n",
    "    param_grid = {\n",
    "        'n_estimators': [50, 100, 150, 200],\n",
    "        'max_depth': [None, 10, 20, 30],\n",
    "        'min_samples_split': [2, 5, 10, 15],\n",
    "        'min_samples_leaf': [1, 2, 4, 8]\n",
    "    }\n",
    "    \n",
    "    # Use a custom scoring functions for GridSearchCV\n",
    "    scoring = {\n",
    "        'Accuracy Score': make_scorer(accuracy_score, average='weighted'),\n",
    "        'Precision Score': make_scorer(precision_score, average='weighted'),\n",
    "        'Recall Score': make_scorer(recall_score, average='weighted'),\n",
    "        'F1 Score': make_scorer(f1_score, average='weighted'),\n",
    "        'Roc Auc Score': make_scorer(roc_auc_score, needs_proba=True, average='weighted', multi_class='ovr')\n",
    "    }\n",
    "    \n",
    "    # Perform GridSearchCV with StratifiedKFold & get the best hyperparameters\n",
    "    grid_search = GridSearchCV(rf_model, param_grid, cv=stratified_kfold, scoring=scoring, refit='Roc Auc Score')\n",
    "    grid_search.fit(X_train, y_train)\n",
    "    \n",
    "    best_params = grid_search.best_params_\n",
    "    \n",
    "    # Create a Random Forest classifier with the best hyperparameters\n",
    "    best_rf_model = RandomForestClassifier(class_weight=weight_dict, random_state=42, **best_params)\n",
    "        \n",
    "    # Train the model on the entire training set\n",
    "    best_rf_model.fit(X_train, y_train)\n",
    "    \n",
    "    # Make predictions on the test set in order to evaluate with the rest metrices\n",
    "    y_test_pred = best_rf_model.predict(X_test)\n",
    "    \n",
    "    # Evaluate the model on the test set\n",
    "    accuracy_test = accuracy_score(y_test, y_test_pred)\n",
    "    precision_test = precision_score(y_test, y_test_pred, average='weighted')\n",
    "    recall_test = recall_score(y_test, y_test_pred, average='weighted')\n",
    "    f1_test = f1_score(y_test, y_test_pred, average='weighted')\n",
    "    conf_matrix_test = confusion_matrix(y_test, y_test_pred)\n",
    "\n",
    "    # Print classification report\n",
    "    print('Classification Report:')\n",
    "    print(classification_report(y_test, y_test_pred))\n",
    "    \n",
    "    if bootstrap:\n",
    "        # Initialize arrays to store ROC AUC scores from bootstrap samples\n",
    "        roc_auc_scores = np.zeros(n_bootstrap_samples)\n",
    "        \n",
    "        # Perform bootstrap resampling and calculate ROC AUC scores\n",
    "        for i in range(n_bootstrap_samples):\n",
    "            # Sample with replacement from the test set\n",
    "            X_bootstrap, y_bootstrap = resample(X_test, y_test, stratify=y_test, random_state=i)\n",
    "            \n",
    "            if if_binary:\n",
    "                y_bootstrap_pred = best_rf_model.predict(X_bootstrap)\n",
    "            else:\n",
    "                y_bootstrap_pred = best_rf_model.predict_proba(X_bootstrap)\n",
    "    \n",
    "            \n",
    "            # Calculate ROC AUC score\n",
    "            roc_auc_scores[i] = roc_auc_score(y_bootstrap, y_bootstrap_pred, average='weighted', multi_class='ovr')\n",
    "        \n",
    "        # Calculate the mean and standard deviation of bootstrap ROC AUC scores\n",
    "        roc_auc_mean = np.mean(roc_auc_scores)\n",
    "        roc_auc_std = np.std(roc_auc_scores)\n",
    "        PRINT(f'Mean ROC AUC: {roc_auc_mean:.3f}, Std Dev ROC AUC: {roc_auc_std:.3f}')\n",
    "\n",
    "        return (best_rf_model, {\n",
    "            'accuracy': accuracy_test,\n",
    "            'roc_auc_mean_score': roc_auc_mean,\n",
    "            'roc_auc_std_score': roc_auc_std,\n",
    "            'precision': precision_test,\n",
    "            'recall': recall_test,\n",
    "            'f1_score': f1_test,\n",
    "            'confusion_matrix': conf_matrix_test.tolist()\n",
    "        })\n",
    "\n",
    "    # In case bootstrap is False    \n",
    "    else:\n",
    "        if if_binary:\n",
    "            y_test_pred = best_rf_model.predict(X_test)\n",
    "        else:\n",
    "            y_test_pred = best_rf_model.predict_proba(X_test)\n",
    "                        \n",
    "        roc_auc_test = roc_auc_score(y_test, y_test_pred, average='weighted', multi_class='ovr')\n",
    "        PRINT(f'ROC AUC {roc_auc_test:.3f}')\n",
    "\n",
    "        return (best_rf_model, {\n",
    "            'accuracy': accuracy_test,\n",
    "            'roc_auc_score': roc_auc_test,\n",
    "            'precision': precision_test,\n",
    "            'recall': recall_test,\n",
    "            'f1_score': f1_test,\n",
    "            'confusion_matrix': conf_matrix_test.tolist()\n",
    "        })"
   ]
  },
  {
   "cell_type": "markdown",
   "id": "cff120f8-a238-41fd-bee4-ab479ac51cf3",
   "metadata": {},
   "source": [
    "##### Buildint XGBoost Multiclass Classifier Model #####"
   ]
  },
  {
   "cell_type": "code",
   "execution_count": 14,
   "id": "244bd552-b991-4371-bb99-1d244dd0920f",
   "metadata": {},
   "outputs": [],
   "source": [
    "def GenerateXGBoostModel(df, weight_dict, n_bootstrap_samples=100, if_binary=True, bootstrap=True):\n",
    "    \"\"\"\n",
    "    Takes data frame with columns ['SMILES', ... molecule fetures ..., 'NumericUniProtTargetLabels'], traing and evaluate XGBoost model after \n",
    "    choosing the best hyperparameters by `GrudSearchCV`. The function also takes `weight_dict`, which is dictionary of weights assigned\n",
    "    for each class in case of imbalanced data, or 'balanced' if the data is balanced.\n",
    "\n",
    "    Params:\n",
    "    df - data frame\n",
    "    weight_dict - dictionary of weight, e.g., {0:1, 1:1.8, 2:1, 3:1.3}. In case the data balanced, pass 'balanced' instead.\n",
    "    if_binary - Boolean, True if the number of class is 2, else specify False\n",
    "    bootstrap - Boolean, True if the data isn't unbalanced much, else Flase.\n",
    "\n",
    "    Return:\n",
    "    tuple - (best_xbg_model, model_preformance_dictionary)\n",
    "    \"\"\"\n",
    "    # Drop 'SMILES' and labels columns\n",
    "    X = df.drop(['SMILES', 'NumericUniProtTargetLabels'], axis=1)\n",
    "    y = df['NumericUniProtTargetLabels']\n",
    "    \n",
    "    # Split the dataset into training and test sets\n",
    "    X_train, X_test, y_train, y_test = train_test_split(X, y, test_size=0.2, stratify=y, random_state=42)\n",
    "        \n",
    "    # Generate XGB model for hyperparameter tuning phase\n",
    "    xgb_model = xgb.XGBClassifier(objective='multi:softmax', num_class=len(set(y_train)), random_state=42)\n",
    "    \n",
    "    # Use StratifiedKFold for cross-validation\n",
    "    stratified_kfold = StratifiedKFold(n_splits=5, shuffle=True, random_state=42)\n",
    "    \n",
    "    param_grid = {\n",
    "        'n_estimators': [50, 100],\n",
    "        'max_depth': [3, 5],\n",
    "        'learning_rate': [0.01, 0.1],\n",
    "        'subsample': [0.8, 1.0],\n",
    "        'colsample_bytree': [0.8, 1.0],\n",
    "        'gamma': [0, 0.2],\n",
    "        'min_child_weight': [1, 5],\n",
    "        'reg_alpha': [0, 0.5],\n",
    "        'reg_lambda': [0, 0.5],\n",
    "    }\n",
    "\n",
    "    # Use a custom scoring functions for GridSearchCV\n",
    "    scoring = {\n",
    "        'Accuracy Score': make_scorer(accuracy_score, average='weighted'),\n",
    "        'Precision Score': make_scorer(precision_score, average='weighted'),\n",
    "        'Recall Score': make_scorer(recall_score, average='weighted'),\n",
    "        'F1 Score': make_scorer(f1_score, average='weighted'),\n",
    "        'Roc Auc Score': make_scorer(roc_auc_score, needs_proba=True, average='weighted', multi_class='ovr')\n",
    "    }\n",
    "        \n",
    "    # Perform GridSearchCV with StratifiedKFold & extract the best hyperparameters\n",
    "    grid_search = GridSearchCV(xgb_model, param_grid, cv=stratified_kfold, scoring=scoring, refit='Roc Auc Score')\n",
    "    grid_search.fit(X_train, y_train)\n",
    "    \n",
    "    best_params = grid_search.best_params_\n",
    "    \n",
    "    # Create an XGBoost classifier with the best hyperparameters\n",
    "    best_xgb_model = xgb.XGBClassifier(objective='multi:softmax',\n",
    "                                       num_class=len(set(y_train)),\n",
    "                                       random_state=42, **best_params)\n",
    "    \n",
    "    # Calculate sample weights for each instance based on class weights\n",
    "    sample_weights = compute_sample_weight(weight_dict, y_train)\n",
    "    \n",
    "    # Train the model on the entire training set with sample weights\n",
    "    best_xgb_model.fit(X_train, y_train, sample_weight=sample_weights)\n",
    "\n",
    "   # Make predictions on the test set in order to evaluate with the rest metrices\n",
    "    y_test_pred = best_xgb_model.predict(X_test)\n",
    "    \n",
    "    # Evaluate the model on the test set\n",
    "    accuracy_test = accuracy_score(y_test, y_test_pred)\n",
    "    precision_test = precision_score(y_test, y_test_pred, average='weighted')\n",
    "    recall_test = recall_score(y_test, y_test_pred, average='weighted')\n",
    "    f1_test = f1_score(y_test, y_test_pred, average='weighted')\n",
    "    conf_matrix_test = confusion_matrix(y_test, y_test_pred)\n",
    "\n",
    "    # Print classification report\n",
    "    print('Classification Report:')\n",
    "    print(classification_report(y_test, y_test_pred))\n",
    "    \n",
    "    if bootstrap:\n",
    "        # Initialize arrays to store ROC AUC scores from bootstrap samples\n",
    "        roc_auc_scores = np.zeros(n_bootstrap_samples)\n",
    "        \n",
    "        # Perform bootstrap resampling and calculate ROC AUC scores\n",
    "        for i in range(n_bootstrap_samples):\n",
    "            # Sample with replacement from the test set\n",
    "            X_bootstrap, y_bootstrap = resample(X_test, y_test, stratify=y_test, random_state=i)\n",
    "            \n",
    "            if if_binary:\n",
    "                y_bootstrap_pred = best_xgb_model.predict(X_bootstrap)\n",
    "            else:\n",
    "                y_bootstrap_pred = best_xgb_model.predict_proba(X_bootstrap)\n",
    "    \n",
    "            \n",
    "            # Calculate ROC AUC score\n",
    "            roc_auc_scores[i] = roc_auc_score(y_bootstrap, y_bootstrap_pred, average='weighted', multi_class='ovr')\n",
    "        \n",
    "        # Calculate the mean and standard deviation of bootstrap ROC AUC scores\n",
    "        roc_auc_mean = np.mean(roc_auc_scores)\n",
    "        roc_auc_std = np.std(roc_auc_scores)\n",
    "        PRINT(f'Mean ROC AUC: {roc_auc_mean:.3f}, Std Dev ROC AUC: {roc_auc_std:.3f}')\n",
    "\n",
    "        return (best_xgb_model, {\n",
    "            'accuracy': accuracy_test,\n",
    "            'roc_auc_mean_score': roc_auc_mean,\n",
    "            'roc_auc_std_score': roc_auc_std,\n",
    "            'precision': precision_test,\n",
    "            'recall': recall_test,\n",
    "            'f1_score': f1_test,\n",
    "            'confusion_matrix': conf_matrix_test.tolist()\n",
    "        })\n",
    "\n",
    "    # In case bootstrap is False    \n",
    "    else:\n",
    "        if if_binary:\n",
    "            y_test_pred = best_xgb_model.predict(X_test)\n",
    "        else:\n",
    "            y_test_pred = best_xgb_model.predict_proba(X_test)\n",
    "                        \n",
    "        roc_auc_test = roc_auc_score(y_test, y_test_pred, average='weighted', multi_class='ovr')\n",
    "        PRINT(f'ROC AUC {roc_auc_test:.3f}')\n",
    "\n",
    "        return (best_xgb_model, {\n",
    "            'accuracy': accuracy_test,\n",
    "            'roc_auc_score': roc_auc_test,\n",
    "            'precision': precision_test,\n",
    "            'recall': recall_test,\n",
    "            'f1_score': f1_test,\n",
    "            'confusion_matrix': conf_matrix_test.tolist()\n",
    "        })"
   ]
  },
  {
   "cell_type": "code",
   "execution_count": 15,
   "id": "a0d36fbf-e97f-425f-9b33-a9f10e9c03ad",
   "metadata": {},
   "outputs": [],
   "source": [
    "def plot_model_comparison_countplots(df):\n",
    "    \"\"\"\n",
    "    Plot bar plots for model performance comparison.\n",
    "\n",
    "    Parameters:\n",
    "    - df: DataFrame containing model metrics. Columns represent models, and rows represent metrics.\n",
    "    \"\"\"\n",
    "    \n",
    "    evaluation_metrices = ['Accuracy', 'Roc Auc Mean Score', 'Roc Auc Std Score', 'Precision', 'Recall', 'F1_score']\n",
    "    \n",
    "    # Reshape the DataFrame using melt\n",
    "    melted_df = pd.melt(df.reset_index(), id_vars=['index'], var_name='Model', value_name='Score')\n",
    "\n",
    "    fig, axes = plt.subplots(nrows=2, ncols=len(df.index)//2, figsize=(10, 6))\n",
    "    fig.suptitle('Model Performance Bar Plots', fontsize=16)\n",
    "\n",
    "    # Plot bar plots for each metric\n",
    "    for i, _ in enumerate(df.index):\n",
    "        row, col = divmod(i, len(df.index)//2)\n",
    "        ax = axes[row, col]\n",
    "        sns.barplot(x='Model', y='Score', data=melted_df[melted_df['index'] == i], ax=ax)\n",
    "        ax.set_title(f'Plot {chr(65 + i)} - {evaluation_metrices[i]}')\n",
    "        ax.set_xlabel('Model')\n",
    "        ax.set_ylabel(f'{evaluation_metrices[i]} Scores')\n",
    "        ax.tick_params(axis='x', labelsize=8)\n",
    "\n",
    "    plt.tight_layout(rect=[0, 0, 1, 0.96])\n",
    "    plt.show()"
   ]
  },
  {
   "cell_type": "markdown",
   "id": "4cd1cf52-c737-481a-8897-3c525764aa8a",
   "metadata": {},
   "source": [
    "## Build PPI Prediction Model for each Dataset ##\n",
    "\n",
    "After constructing three models for our Protein-Protein Interaction (PPI) prediction task, including graph convolution, random forest, and XGBoost multiclass classifiers, the next phase involves developing and training a distinct model for each unique dataset extracted at the beginning of the project."
   ]
  },
  {
   "cell_type": "markdown",
   "id": "2dc18c8b-2ebe-4277-9d03-44bf4257207f",
   "metadata": {},
   "source": [
    "### Construct the Datasets ###"
   ]
  },
  {
   "cell_type": "markdown",
   "id": "b719e93e-f642-4b37-9997-53725c18ff78",
   "metadata": {},
   "source": [
    "First we need to load our saved data frames dictionary"
   ]
  },
  {
   "cell_type": "code",
   "execution_count": 111,
   "id": "a8aa4faa-6734-4e5a-b61d-f8d94229ebd8",
   "metadata": {
    "tags": []
   },
   "outputs": [],
   "source": [
    "df_dict = protein_dataframes"
   ]
  },
  {
   "cell_type": "code",
   "execution_count": 112,
   "id": "1d0b9bf2-44ec-4346-afc2-2c2fedc67a70",
   "metadata": {
    "tags": []
   },
   "outputs": [
    {
     "name": "stdout",
     "output_type": "stream",
     "text": [
      "~~~~~~~~~~~~~~~~~~~~~~~~~~~~~~~~~~~~~~~~~~~~~~~~~~~~~~~~~~~~~~~~~~~~~~~~~~~~~~~~\n",
      "Unique proteins -> ['P05556', 'P05106', 'P08648']\n",
      "~~~~~~~~~~~~~~~~~~~~~~~~~~~~~~~~~~~~~~~~~~~~~~~~~~~~~~~~~~~~~~~~~~~~~~~~~~~~~~~~\n"
     ]
    }
   ],
   "source": [
    "prot_ls = list(df_dict.keys())\n",
    "\n",
    "PRINT(f'Unique proteins -> {prot_ls}')"
   ]
  },
  {
   "cell_type": "code",
   "execution_count": 113,
   "id": "e8b20c77-3165-456e-bc7f-a9aa4539f1a8",
   "metadata": {
    "tags": []
   },
   "outputs": [],
   "source": [
    "csv_dir_path = 'data/modified/one hot encoded csv files for training' "
   ]
  },
  {
   "cell_type": "markdown",
   "id": "8f28b46a-f1b3-4ed0-9dfe-7bb96c6de49d",
   "metadata": {},
   "source": [
    "### Prepare the Datasets for Model Training ###  "
   ]
  },
  {
   "cell_type": "code",
   "execution_count": 16,
   "id": "39d96127-d8d9-4dbc-b7a1-96e0a9375cd0",
   "metadata": {},
   "outputs": [],
   "source": [
    "def generate_df_for_training_(UniProt_str, csv_file_name, one_hot_encoded_csv):\n",
    "    \"\"\"\n",
    "    Generate and prepare a DataFrame for model training.\n",
    "\n",
    "    Parameters:\n",
    "    - df (pd.DataFrame): Original DataFrame containing the dataset for training.\n",
    "    - UniProt_str (str): String identifier for the specific UniProt.\n",
    "    - csv_file_name (str): Name of the CSV file containing UniProt-specific dataset.\n",
    "    - one_hot_encoded_csv (str): Name of the CSV file containing one-hot encoded labels.\n",
    "\n",
    "    Returns:\n",
    "    - tuple: A tuple containing two DataFrames: one for model training and the other with UniProt-specific data.\n",
    "    \"\"\"\n",
    "\n",
    "    # Define the directories for CSV files\n",
    "    csv_dir = 'data\\\\modified\\\\unique UniProt csv files'\n",
    "    csv_dir_ohe = 'data\\\\modified\\\\one hot encoded csv files for training'\n",
    "\n",
    "    # Read the UniProt-specific CSV file and the one-hot encoded CSV file\n",
    "    curr_df = pd.read_csv(os.path.join(csv_dir, csv_file_name))\n",
    "    ohe_df = pd.read_csv(os.path.join(csv_dir_ohe, one_hot_encoded_csv))\n",
    "\n",
    "    # Drop unnecessary column and rename the target column\n",
    "    curr_df.drop('UniProt1', axis=1, inplace=True)\n",
    "    curr_df = curr_df.rename(columns={'UniProt2':'UniProtTargetLabels'})\n",
    "\n",
    "    # Extract the list of labels from the one-hot encoded DataFrame\n",
    "    labels = ohe_df.columns[2:].tolist()\n",
    "\n",
    "    # Print the UniProt model labels\n",
    "    PRINT(f'{UniProt_str} model labels -> {labels}')\n",
    "\n",
    "    # Create a mapping of column names to indices for label encoding\n",
    "    column_name_to_index = {label: i for i, label in enumerate(labels)}\n",
    "\n",
    "    # Map the 'labels' column in df to column indices\n",
    "    curr_df['NumericUniProtTargetLabels'] = curr_df['UniProtTargetLabels'].map(column_name_to_index)\n",
    "\n",
    "    # Shuffle the rows\n",
    "    curr_df = curr_df.sample(frac=1, random_state=42).reset_index(drop=True)\n",
    "\n",
    "    # Create a DataFrame for model training by dropping the original 'UniProtTargetLabels' column\n",
    "    df_for_model = curr_df.drop('UniProtTargetLabels', axis=1)\n",
    "\n",
    "    PRINT(f'Finished generating DataFrames for UniProt -> {UniProt_str}.')\n",
    "    \n",
    "    # Return the tuple of DataFrames & the label mapping dictionary\n",
    "    return (df_for_model, curr_df, column_name_to_index)\n"
   ]
  },
  {
   "cell_type": "markdown",
   "id": "44d24847-7e35-4e9d-8045-c64177c6d1ac",
   "metadata": {},
   "source": [
    "### Models for P05556 Protein ### "
   ]
  },
  {
   "cell_type": "markdown",
   "id": "9c140477-3da1-45f2-9009-3ad49cd30e91",
   "metadata": {},
   "source": [
    "#### Data Cleaning ####\n",
    "\n",
    "In order to build more generalized and robust models for the dataset of P05556, which found to be extremely unbalanced, with two classes (e.g., O75578 and P23229) with only one sample in the whole dataset !\n",
    "\n",
    "So, in order to preforme cross validation using stratified_kfold method from sklearn library, we will filter those classes fromk our dataset."
   ]
  },
  {
   "cell_type": "code",
   "execution_count": 116,
   "id": "bca30936-8f4b-4b2c-94da-8470fd0fbac0",
   "metadata": {},
   "outputs": [],
   "source": [
    "P05556_df_t = pd.read_csv(os.path.join('data/modified/unique UniProt csv files', 'P05556.csv'))"
   ]
  },
  {
   "cell_type": "code",
   "execution_count": 117,
   "id": "ecb80221-82f2-43d0-9318-23e3aea89978",
   "metadata": {},
   "outputs": [
    {
     "data": {
      "text/html": [
       "<div>\n",
       "<style scoped>\n",
       "    .dataframe tbody tr th:only-of-type {\n",
       "        vertical-align: middle;\n",
       "    }\n",
       "\n",
       "    .dataframe tbody tr th {\n",
       "        vertical-align: top;\n",
       "    }\n",
       "\n",
       "    .dataframe thead th {\n",
       "        text-align: right;\n",
       "    }\n",
       "</style>\n",
       "<table border=\"1\" class=\"dataframe\">\n",
       "  <thead>\n",
       "    <tr style=\"text-align: right;\">\n",
       "      <th></th>\n",
       "      <th>SMILES</th>\n",
       "      <th>UniProt1</th>\n",
       "      <th>UniProt2</th>\n",
       "    </tr>\n",
       "  </thead>\n",
       "  <tbody>\n",
       "    <tr>\n",
       "      <th>0</th>\n",
       "      <td>CC(C)(C)c1cc(Br)cc([C@H](CC(=O)O)NC(=O)CNC(=O)...</td>\n",
       "      <td>P05556</td>\n",
       "      <td>O75578</td>\n",
       "    </tr>\n",
       "    <tr>\n",
       "      <th>1</th>\n",
       "      <td>O=C(NCc1ccccc1)NC[C@H](NC(=O)[C@@H]1CCCN1S(=O)...</td>\n",
       "      <td>P05556</td>\n",
       "      <td>P56199</td>\n",
       "    </tr>\n",
       "    <tr>\n",
       "      <th>2</th>\n",
       "      <td>O=C(NCc1ccccc1)NC[C@H](NC(=O)[C@@H]1CCCN1S(=O)...</td>\n",
       "      <td>P05556</td>\n",
       "      <td>P56199</td>\n",
       "    </tr>\n",
       "    <tr>\n",
       "      <th>3</th>\n",
       "      <td>O=C(NCc1ccccc1)NC[C@H](NC(=O)[C@@H]1CCCN1S(=O)...</td>\n",
       "      <td>P05556</td>\n",
       "      <td>P56199</td>\n",
       "    </tr>\n",
       "    <tr>\n",
       "      <th>4</th>\n",
       "      <td>Nc1ccc(CNC(=O)NC[C@H](NC(=O)[C@@H]2CCCN2S(=O)(...</td>\n",
       "      <td>P05556</td>\n",
       "      <td>P56199</td>\n",
       "    </tr>\n",
       "  </tbody>\n",
       "</table>\n",
       "</div>"
      ],
      "text/plain": [
       "                                              SMILES UniProt1 UniProt2\n",
       "0  CC(C)(C)c1cc(Br)cc([C@H](CC(=O)O)NC(=O)CNC(=O)...   P05556   O75578\n",
       "1  O=C(NCc1ccccc1)NC[C@H](NC(=O)[C@@H]1CCCN1S(=O)...   P05556   P56199\n",
       "2  O=C(NCc1ccccc1)NC[C@H](NC(=O)[C@@H]1CCCN1S(=O)...   P05556   P56199\n",
       "3  O=C(NCc1ccccc1)NC[C@H](NC(=O)[C@@H]1CCCN1S(=O)...   P05556   P56199\n",
       "4  Nc1ccc(CNC(=O)NC[C@H](NC(=O)[C@@H]2CCCN2S(=O)(...   P05556   P56199"
      ]
     },
     "execution_count": 117,
     "metadata": {},
     "output_type": "execute_result"
    }
   ],
   "source": [
    "P05556_df_t.head(5)"
   ]
  },
  {
   "cell_type": "code",
   "execution_count": 118,
   "id": "eb8beede-c705-47c5-b7a5-a3ca725cbb62",
   "metadata": {},
   "outputs": [],
   "source": [
    "P05556_df_t_ = P05556_df_t[~P05556_df_t['UniProt2'].isin(['O75578', 'P23229'])]"
   ]
  },
  {
   "cell_type": "code",
   "execution_count": 119,
   "id": "de6ab0f3-d063-4649-b96e-bfe82b8c9c2f",
   "metadata": {},
   "outputs": [
    {
     "name": "stdout",
     "output_type": "stream",
     "text": [
      "~~~~~~~~~~~~~~~~~~~~~~~~~~~~~~~~~~~~~~~~~~~~~~~~~~~~~~~~~~~~~~~~~~~~~~~~~~~~~~~~\n",
      "The number of rows we filtered from our dataframe -> 2\n",
      "Filtered dataframa shape is -> (2195, 3)\n",
      "~~~~~~~~~~~~~~~~~~~~~~~~~~~~~~~~~~~~~~~~~~~~~~~~~~~~~~~~~~~~~~~~~~~~~~~~~~~~~~~~\n"
     ]
    }
   ],
   "source": [
    "PRINT(f'The number of rows we filtered from our dataframe -> {P05556_df_t.shape[0] - P05556_df_t_.shape[0]}\\nFiltered dataframa shape is -> {P05556_df_t_.shape}')"
   ]
  },
  {
   "cell_type": "code",
   "execution_count": 120,
   "id": "a4f5ca83-b2c9-4125-9bf6-828fadc1f6f7",
   "metadata": {},
   "outputs": [
    {
     "name": "stdout",
     "output_type": "stream",
     "text": [
      "~~~~~~~~~~~~~~~~~~~~~~~~~~~~~~~~~~~~~~~~~~~~~~~~~~~~~~~~~~~~~~~~~~~~~~~~~~~~~~~~\n",
      "Saved.\n",
      "~~~~~~~~~~~~~~~~~~~~~~~~~~~~~~~~~~~~~~~~~~~~~~~~~~~~~~~~~~~~~~~~~~~~~~~~~~~~~~~~\n"
     ]
    }
   ],
   "source": [
    "# Save the filtered data frame as csv file\n",
    "P05556_df_t_.to_csv(os.path.join('data/modified/unique UniProt csv files', 'P05556_.csv'), index=False)\n",
    "\n",
    "PRINT('Saved.')"
   ]
  },
  {
   "cell_type": "code",
   "execution_count": 121,
   "id": "248a8f95-2580-4e9f-bd86-5821ade53daf",
   "metadata": {},
   "outputs": [
    {
     "data": {
      "text/html": [
       "<div>\n",
       "<style scoped>\n",
       "    .dataframe tbody tr th:only-of-type {\n",
       "        vertical-align: middle;\n",
       "    }\n",
       "\n",
       "    .dataframe tbody tr th {\n",
       "        vertical-align: top;\n",
       "    }\n",
       "\n",
       "    .dataframe thead th {\n",
       "        text-align: right;\n",
       "    }\n",
       "</style>\n",
       "<table border=\"1\" class=\"dataframe\">\n",
       "  <thead>\n",
       "    <tr style=\"text-align: right;\">\n",
       "      <th></th>\n",
       "      <th>SMILES</th>\n",
       "      <th>P05556</th>\n",
       "      <th>P06756</th>\n",
       "      <th>P08648</th>\n",
       "      <th>P13612</th>\n",
       "      <th>P17301</th>\n",
       "      <th>P56199</th>\n",
       "      <th>Q13797</th>\n",
       "    </tr>\n",
       "  </thead>\n",
       "  <tbody>\n",
       "    <tr>\n",
       "      <th>1</th>\n",
       "      <td>O=C(NCc1ccccc1)NC[C@H](NC(=O)[C@@H]1CCCN1S(=O)...</td>\n",
       "      <td>1</td>\n",
       "      <td>0</td>\n",
       "      <td>0</td>\n",
       "      <td>0</td>\n",
       "      <td>0</td>\n",
       "      <td>1</td>\n",
       "      <td>0</td>\n",
       "    </tr>\n",
       "    <tr>\n",
       "      <th>2</th>\n",
       "      <td>O=C(NCc1ccccc1)NC[C@H](NC(=O)[C@@H]1CCCN1S(=O)...</td>\n",
       "      <td>1</td>\n",
       "      <td>0</td>\n",
       "      <td>0</td>\n",
       "      <td>0</td>\n",
       "      <td>0</td>\n",
       "      <td>1</td>\n",
       "      <td>0</td>\n",
       "    </tr>\n",
       "    <tr>\n",
       "      <th>3</th>\n",
       "      <td>O=C(NCc1ccccc1)NC[C@H](NC(=O)[C@@H]1CCCN1S(=O)...</td>\n",
       "      <td>1</td>\n",
       "      <td>0</td>\n",
       "      <td>0</td>\n",
       "      <td>0</td>\n",
       "      <td>0</td>\n",
       "      <td>1</td>\n",
       "      <td>0</td>\n",
       "    </tr>\n",
       "  </tbody>\n",
       "</table>\n",
       "</div>"
      ],
      "text/plain": [
       "                                              SMILES  P05556  P06756  P08648  \\\n",
       "1  O=C(NCc1ccccc1)NC[C@H](NC(=O)[C@@H]1CCCN1S(=O)...       1       0       0   \n",
       "2  O=C(NCc1ccccc1)NC[C@H](NC(=O)[C@@H]1CCCN1S(=O)...       1       0       0   \n",
       "3  O=C(NCc1ccccc1)NC[C@H](NC(=O)[C@@H]1CCCN1S(=O)...       1       0       0   \n",
       "\n",
       "   P13612  P17301  P56199  Q13797  \n",
       "1       0       0       1       0  \n",
       "2       0       0       1       0  \n",
       "3       0       0       1       0  "
      ]
     },
     "execution_count": 121,
     "metadata": {},
     "output_type": "execute_result"
    }
   ],
   "source": [
    "# Generate new one-hot-encoded df of the filtered dataframe & save it\n",
    "second_df_encoded_ = one_hot_encoding(P05556_df_t_)\n",
    "\n",
    "second_df_encoded_.head(3)"
   ]
  },
  {
   "cell_type": "code",
   "execution_count": 122,
   "id": "24b5de8b-c9dd-468e-a42c-23271bd95781",
   "metadata": {},
   "outputs": [
    {
     "name": "stdout",
     "output_type": "stream",
     "text": [
      "~~~~~~~~~~~~~~~~~~~~~~~~~~~~~~~~~~~~~~~~~~~~~~~~~~~~~~~~~~~~~~~~~~~~~~~~~~~~~~~~\n",
      "Saved.\n",
      "~~~~~~~~~~~~~~~~~~~~~~~~~~~~~~~~~~~~~~~~~~~~~~~~~~~~~~~~~~~~~~~~~~~~~~~~~~~~~~~~\n"
     ]
    }
   ],
   "source": [
    "second_df_encoded_.to_csv(os.path.join('data/modified/one hot encoded csv files for training', 'first_df_encoded_.csv'), index=False)\n",
    "\n",
    "PRINT('Saved.')"
   ]
  },
  {
   "cell_type": "markdown",
   "id": "006bb41c-fd0e-41ab-b2dd-421feba1ff83",
   "metadata": {},
   "source": [
    "#### Prepare the Data #####"
   ]
  },
  {
   "cell_type": "code",
   "execution_count": 17,
   "id": "d6a5970c-3696-438e-bb5c-d8e83aa17f8f",
   "metadata": {},
   "outputs": [
    {
     "name": "stdout",
     "output_type": "stream",
     "text": [
      "~~~~~~~~~~~~~~~~~~~~~~~~~~~~~~~~~~~~~~~~~~~~~~~~~~~~~~~~~~~~~~~~~~~~~~~~~~~~~~~~\n",
      "P05556 model labels -> ['P06756', 'P08648', 'P13612', 'P17301', 'P56199', 'Q13797']\n",
      "~~~~~~~~~~~~~~~~~~~~~~~~~~~~~~~~~~~~~~~~~~~~~~~~~~~~~~~~~~~~~~~~~~~~~~~~~~~~~~~~\n",
      "~~~~~~~~~~~~~~~~~~~~~~~~~~~~~~~~~~~~~~~~~~~~~~~~~~~~~~~~~~~~~~~~~~~~~~~~~~~~~~~~\n",
      "Finished generating DataFrames for UniProt -> P05556.\n",
      "~~~~~~~~~~~~~~~~~~~~~~~~~~~~~~~~~~~~~~~~~~~~~~~~~~~~~~~~~~~~~~~~~~~~~~~~~~~~~~~~\n"
     ]
    }
   ],
   "source": [
    "P05556_df_for_training, P05556_df_with_uniprotes_col, mapped_label_dict_P05556 = generate_df_for_training_('P05556', 'P05556_.csv', 'first_df_encoded_.csv')"
   ]
  },
  {
   "cell_type": "code",
   "execution_count": 18,
   "id": "dc9bf34e-3b2f-47d4-8ae0-65947240469b",
   "metadata": {},
   "outputs": [
    {
     "data": {
      "text/html": [
       "<div>\n",
       "<style scoped>\n",
       "    .dataframe tbody tr th:only-of-type {\n",
       "        vertical-align: middle;\n",
       "    }\n",
       "\n",
       "    .dataframe tbody tr th {\n",
       "        vertical-align: top;\n",
       "    }\n",
       "\n",
       "    .dataframe thead th {\n",
       "        text-align: right;\n",
       "    }\n",
       "</style>\n",
       "<table border=\"1\" class=\"dataframe\">\n",
       "  <thead>\n",
       "    <tr style=\"text-align: right;\">\n",
       "      <th></th>\n",
       "      <th>SMILES</th>\n",
       "      <th>NumericUniProtTargetLabels</th>\n",
       "    </tr>\n",
       "  </thead>\n",
       "  <tbody>\n",
       "    <tr>\n",
       "      <th>0</th>\n",
       "      <td>C=Cc1cnc(NC[C@@H]2C[C@]3(CC(C(=O)NC[C@H](NS(=O...</td>\n",
       "      <td>1</td>\n",
       "    </tr>\n",
       "    <tr>\n",
       "      <th>1</th>\n",
       "      <td>Cl.O=C(O)C1C2C=CC(C2)[C@@H]1NC(=O)[C@@H]1CCCN1...</td>\n",
       "      <td>2</td>\n",
       "    </tr>\n",
       "  </tbody>\n",
       "</table>\n",
       "</div>"
      ],
      "text/plain": [
       "                                              SMILES  \\\n",
       "0  C=Cc1cnc(NC[C@@H]2C[C@]3(CC(C(=O)NC[C@H](NS(=O...   \n",
       "1  Cl.O=C(O)C1C2C=CC(C2)[C@@H]1NC(=O)[C@@H]1CCCN1...   \n",
       "\n",
       "   NumericUniProtTargetLabels  \n",
       "0                           1  \n",
       "1                           2  "
      ]
     },
     "execution_count": 18,
     "metadata": {},
     "output_type": "execute_result"
    }
   ],
   "source": [
    "P05556_df_for_training.head(2)"
   ]
  },
  {
   "cell_type": "code",
   "execution_count": 19,
   "id": "8d36e425-ff6f-414d-a620-685636440e35",
   "metadata": {},
   "outputs": [
    {
     "data": {
      "text/html": [
       "<div>\n",
       "<style scoped>\n",
       "    .dataframe tbody tr th:only-of-type {\n",
       "        vertical-align: middle;\n",
       "    }\n",
       "\n",
       "    .dataframe tbody tr th {\n",
       "        vertical-align: top;\n",
       "    }\n",
       "\n",
       "    .dataframe thead th {\n",
       "        text-align: right;\n",
       "    }\n",
       "</style>\n",
       "<table border=\"1\" class=\"dataframe\">\n",
       "  <thead>\n",
       "    <tr style=\"text-align: right;\">\n",
       "      <th></th>\n",
       "      <th>SMILES</th>\n",
       "      <th>UniProtTargetLabels</th>\n",
       "      <th>NumericUniProtTargetLabels</th>\n",
       "    </tr>\n",
       "  </thead>\n",
       "  <tbody>\n",
       "    <tr>\n",
       "      <th>0</th>\n",
       "      <td>C=Cc1cnc(NC[C@@H]2C[C@]3(CC(C(=O)NC[C@H](NS(=O...</td>\n",
       "      <td>P08648</td>\n",
       "      <td>1</td>\n",
       "    </tr>\n",
       "    <tr>\n",
       "      <th>1</th>\n",
       "      <td>Cl.O=C(O)C1C2C=CC(C2)[C@@H]1NC(=O)[C@@H]1CCCN1...</td>\n",
       "      <td>P13612</td>\n",
       "      <td>2</td>\n",
       "    </tr>\n",
       "  </tbody>\n",
       "</table>\n",
       "</div>"
      ],
      "text/plain": [
       "                                              SMILES UniProtTargetLabels  \\\n",
       "0  C=Cc1cnc(NC[C@@H]2C[C@]3(CC(C(=O)NC[C@H](NS(=O...              P08648   \n",
       "1  Cl.O=C(O)C1C2C=CC(C2)[C@@H]1NC(=O)[C@@H]1CCCN1...              P13612   \n",
       "\n",
       "   NumericUniProtTargetLabels  \n",
       "0                           1  \n",
       "1                           2  "
      ]
     },
     "execution_count": 19,
     "metadata": {},
     "output_type": "execute_result"
    }
   ],
   "source": [
    "P05556_df_with_uniprotes_col.head(2)"
   ]
  },
  {
   "cell_type": "code",
   "execution_count": 20,
   "id": "9a0c6eca-03a4-4043-a55c-51421dd589cf",
   "metadata": {},
   "outputs": [
    {
     "data": {
      "image/png": "[encoded data removed]",
      "text/plain": [
       "<Figure size 1000x600 with 1 Axes>"
      ]
     },
     "metadata": {},
     "output_type": "display_data"
    }
   ],
   "source": [
    "plot_uniprot_numeric_label_frequency(df=P05556_df_for_training, UniProt='P05556')"
   ]
  },
  {
   "cell_type": "code",
   "execution_count": 21,
   "id": "681f856b-b194-411e-b85d-dca7f464cb17",
   "metadata": {},
   "outputs": [
    {
     "name": "stdout",
     "output_type": "stream",
     "text": [
      "~~~~~~~~~~~~~~~~~~~~~~~~~~~~~~~~~~~~~~~~~~~~~~~~~~~~~~~~~~~~~~~~~~~~~~~~~~~~~~~~\n",
      "The mapped labels in (\"UniProt\": \"index_label\") format:\n",
      "\n",
      "{'P06756': 0, 'P08648': 1, 'P13612': 2, 'P17301': 3, 'P56199': 4, 'Q13797': 5}\n",
      "~~~~~~~~~~~~~~~~~~~~~~~~~~~~~~~~~~~~~~~~~~~~~~~~~~~~~~~~~~~~~~~~~~~~~~~~~~~~~~~~\n"
     ]
    }
   ],
   "source": [
    "PRINT(f'The mapped labels in (\"UniProt\": \"index_label\") format:\\n\\n{mapped_label_dict_P05556}')"
   ]
  },
  {
   "cell_type": "markdown",
   "id": "355c4e29-944a-4348-9f5d-707d36779e94",
   "metadata": {},
   "source": [
    "#### Handle Bad Rows ####\n",
    "\n",
    "Further in the code, we encountered an exception where the function attempted to extract RDKitDescriptors using a molecule SMILES value of *float* type. We cannot pass this type of value; only *str* type is accepted.\r\n",
    "\r\n",
    "As a solution, we will remove those lines from our dataset."
   ]
  },
  {
   "cell_type": "code",
   "execution_count": 22,
   "id": "e11d16d1-2c1c-415c-bcd6-dd638904fc58",
   "metadata": {},
   "outputs": [
    {
     "name": "stdout",
     "output_type": "stream",
     "text": [
      "~~~~~~~~~~~~~~~~~~~~~~~~~~~~~~~~~~~~~~~~~~~~~~~~~~~~~~~~~~~~~~~~~~~~~~~~~~~~~~~~\n",
      "SMILES\n",
      "<class 'str'>      2194\n",
      "<class 'float'>       1\n",
      "Name: count, dtype: int64\n",
      "~~~~~~~~~~~~~~~~~~~~~~~~~~~~~~~~~~~~~~~~~~~~~~~~~~~~~~~~~~~~~~~~~~~~~~~~~~~~~~~~\n"
     ]
    }
   ],
   "source": [
    "PRINT(P05556_df_for_training['SMILES'].apply(type).value_counts())"
   ]
  },
  {
   "cell_type": "code",
   "execution_count": 23,
   "id": "1d1e51f8-40dd-4f0b-bf30-cd26353a624b",
   "metadata": {},
   "outputs": [
    {
     "name": "stdout",
     "output_type": "stream",
     "text": [
      "~~~~~~~~~~~~~~~~~~~~~~~~~~~~~~~~~~~~~~~~~~~~~~~~~~~~~~~~~~~~~~~~~~~~~~~~~~~~~~~~\n",
      "     SMILES  NumericUniProtTargetLabels\n",
      "1950    NaN                           1\n",
      "~~~~~~~~~~~~~~~~~~~~~~~~~~~~~~~~~~~~~~~~~~~~~~~~~~~~~~~~~~~~~~~~~~~~~~~~~~~~~~~~\n"
     ]
    }
   ],
   "source": [
    "# Identify rows with 'float' values in the 'SMILES' column\n",
    "float_rows = P05556_df_for_training['SMILES'].apply(lambda x: isinstance(x, float))\n",
    "\n",
    "# Display the rows with 'float' values\n",
    "float_rows_data = P05556_df_for_training[float_rows]\n",
    "\n",
    "PRINT(float_rows_data)"
   ]
  },
  {
   "cell_type": "code",
   "execution_count": 24,
   "id": "a0f7ae70-c680-4ac2-8d1a-50f147fe2b7e",
   "metadata": {},
   "outputs": [],
   "source": [
    "# Drop rows with 'float' values in the 'SMILES' column\n",
    "P05556_df_for_training = P05556_df_for_training[~float_rows]"
   ]
  },
  {
   "cell_type": "code",
   "execution_count": 25,
   "id": "5c545012-2361-4955-a489-387092cb7a85",
   "metadata": {},
   "outputs": [
    {
     "name": "stdout",
     "output_type": "stream",
     "text": [
      "~~~~~~~~~~~~~~~~~~~~~~~~~~~~~~~~~~~~~~~~~~~~~~~~~~~~~~~~~~~~~~~~~~~~~~~~~~~~~~~~\n",
      "SMILES\n",
      "<class 'str'>    2194\n",
      "Name: count, dtype: int64\n",
      "~~~~~~~~~~~~~~~~~~~~~~~~~~~~~~~~~~~~~~~~~~~~~~~~~~~~~~~~~~~~~~~~~~~~~~~~~~~~~~~~\n",
      "~~~~~~~~~~~~~~~~~~~~~~~~~~~~~~~~~~~~~~~~~~~~~~~~~~~~~~~~~~~~~~~~~~~~~~~~~~~~~~~~\n",
      "Done.\n",
      "~~~~~~~~~~~~~~~~~~~~~~~~~~~~~~~~~~~~~~~~~~~~~~~~~~~~~~~~~~~~~~~~~~~~~~~~~~~~~~~~\n"
     ]
    }
   ],
   "source": [
    "PRINT(P05556_df_for_training['SMILES'].apply(type).value_counts())\n",
    "PRINT('Done.')"
   ]
  },
  {
   "cell_type": "markdown",
   "id": "b5563354-ee63-4162-99f5-de742d28f421",
   "metadata": {},
   "source": [
    "#### Quick Dataset Analyse ####"
   ]
  },
  {
   "cell_type": "markdown",
   "id": "2fb4e8f6-ab9c-4b1b-953a-4fc02a8e29df",
   "metadata": {},
   "source": [
    "- **Size of the data frame:** 2197 - 1  = 2196\n",
    "\n",
    "---\n",
    "\n",
    "- **Number of times each protein appears:**\n",
    "  - P06756: 170\n",
    "  - P08648: 500\n",
    "  - P13612: 1452\n",
    "  - P17301: 57\n",
    "  - P56199: 6\n",
    "  - Q13797: 10\n",
    "---"
   ]
  },
  {
   "cell_type": "markdown",
   "id": "8432f481-491e-48d1-98fe-7b7fcfcfd1b4",
   "metadata": {},
   "source": [
    "#### Random Forest Multiclass Classifier Model for P05556 with added RDKitDescriptors Features ####"
   ]
  },
  {
   "cell_type": "code",
   "execution_count": 33,
   "id": "70f29b14-51a8-402b-9793-b2c5df2fa04b",
   "metadata": {},
   "outputs": [],
   "source": [
    "P05556_df_for_training_ = GenerateFeaturesByMoleculeSMILES(df=P05556_df_for_training)"
   ]
  },
  {
   "cell_type": "code",
   "execution_count": 34,
   "id": "620f869a-99cf-498e-9863-932aae2b6a57",
   "metadata": {},
   "outputs": [
    {
     "data": {
      "text/html": [
       "<div>\n",
       "<style scoped>\n",
       "    .dataframe tbody tr th:only-of-type {\n",
       "        vertical-align: middle;\n",
       "    }\n",
       "\n",
       "    .dataframe tbody tr th {\n",
       "        vertical-align: top;\n",
       "    }\n",
       "\n",
       "    .dataframe thead th {\n",
       "        text-align: right;\n",
       "    }\n",
       "</style>\n",
       "<table border=\"1\" class=\"dataframe\">\n",
       "  <thead>\n",
       "    <tr style=\"text-align: right;\">\n",
       "      <th></th>\n",
       "      <th>SMILES</th>\n",
       "      <th>MolWt</th>\n",
       "      <th>NumValenceElectrons</th>\n",
       "      <th>TPSA</th>\n",
       "      <th>MolLogP</th>\n",
       "      <th>NumHeteroatoms</th>\n",
       "      <th>NumRotatableBonds</th>\n",
       "      <th>HeavyAtomCount</th>\n",
       "      <th>FractionCSP3</th>\n",
       "      <th>NumericUniProtTargetLabels</th>\n",
       "    </tr>\n",
       "  </thead>\n",
       "  <tbody>\n",
       "    <tr>\n",
       "      <th>0</th>\n",
       "      <td>C=Cc1cnc(NC[C@@H]2C[C@]3(CC(C(=O)NC[C@H](NS(=O...</td>\n",
       "      <td>659.766</td>\n",
       "      <td>250</td>\n",
       "      <td>204.41</td>\n",
       "      <td>2.46386</td>\n",
       "      <td>16</td>\n",
       "      <td>14</td>\n",
       "      <td>46</td>\n",
       "      <td>0.500000</td>\n",
       "      <td>1</td>\n",
       "    </tr>\n",
       "    <tr>\n",
       "      <th>1</th>\n",
       "      <td>Cl.O=C(O)C1C2C=CC(C2)[C@@H]1NC(=O)[C@@H]1CCCN1...</td>\n",
       "      <td>495.812</td>\n",
       "      <td>164</td>\n",
       "      <td>103.78</td>\n",
       "      <td>2.95980</td>\n",
       "      <td>11</td>\n",
       "      <td>5</td>\n",
       "      <td>30</td>\n",
       "      <td>0.473684</td>\n",
       "      <td>2</td>\n",
       "    </tr>\n",
       "  </tbody>\n",
       "</table>\n",
       "</div>"
      ],
      "text/plain": [
       "                                              SMILES    MolWt  \\\n",
       "0  C=Cc1cnc(NC[C@@H]2C[C@]3(CC(C(=O)NC[C@H](NS(=O...  659.766   \n",
       "1  Cl.O=C(O)C1C2C=CC(C2)[C@@H]1NC(=O)[C@@H]1CCCN1...  495.812   \n",
       "\n",
       "   NumValenceElectrons    TPSA  MolLogP  NumHeteroatoms  NumRotatableBonds  \\\n",
       "0                  250  204.41  2.46386              16                 14   \n",
       "1                  164  103.78  2.95980              11                  5   \n",
       "\n",
       "   HeavyAtomCount  FractionCSP3  NumericUniProtTargetLabels  \n",
       "0              46      0.500000                           1  \n",
       "1              30      0.473684                           2  "
      ]
     },
     "execution_count": 34,
     "metadata": {},
     "output_type": "execute_result"
    }
   ],
   "source": [
    "P05556_df_for_training_.head(2)"
   ]
  },
  {
   "cell_type": "code",
   "execution_count": 35,
   "id": "ff58951f-ecd7-410e-bd54-d9bdc0583589",
   "metadata": {},
   "outputs": [
    {
     "name": "stdout",
     "output_type": "stream",
     "text": [
      "Classification Report:\n",
      "              precision    recall  f1-score   support\n",
      "\n",
      "           0       0.55      0.47      0.51        34\n",
      "           1       0.72      0.73      0.72       100\n",
      "           2       0.88      0.90      0.89       291\n",
      "           3       0.89      0.73      0.80        11\n",
      "           4       0.00      0.00      0.00         1\n",
      "           5       0.00      0.00      0.00         2\n",
      "\n",
      "    accuracy                           0.82       439\n",
      "   macro avg       0.51      0.47      0.49       439\n",
      "weighted avg       0.81      0.82      0.81       439\n",
      "\n",
      "~~~~~~~~~~~~~~~~~~~~~~~~~~~~~~~~~~~~~~~~~~~~~~~~~~~~~~~~~~~~~~~~~~~~~~~~~~~~~~~~\n",
      "Mean ROC AUC: 0.927, Std Dev ROC AUC: 0.010\n",
      "~~~~~~~~~~~~~~~~~~~~~~~~~~~~~~~~~~~~~~~~~~~~~~~~~~~~~~~~~~~~~~~~~~~~~~~~~~~~~~~~\n",
      "~~~~~~~~~~~~~~~~~~~~~~~~~~~~~~~~~~~~~~~~~~~~~~~~~~~~~~~~~~~~~~~~~~~~~~~~~~~~~~~~\n",
      "Done training Random Forest Multicalss Classifier Model for UniProt P055556 using RKDitDescriptors features\n",
      "~~~~~~~~~~~~~~~~~~~~~~~~~~~~~~~~~~~~~~~~~~~~~~~~~~~~~~~~~~~~~~~~~~~~~~~~~~~~~~~~\n"
     ]
    }
   ],
   "source": [
    "weight_dict = 'balanced'\n",
    "\n",
    "rf_model_tuple_P05556 = GenerateRandomForestModel(df=P05556_df_for_training_, weight_dict=weight_dict, if_binary=False, bootstrap=True)\n",
    "PRINT(f'Done training Random Forest Multicalss Classifier Model for UniProt P055556 using RKDitDescriptors features')"
   ]
  },
  {
   "cell_type": "code",
   "execution_count": 36,
   "id": "efc5f550-1ee1-4a02-a5de-fd9ac0dad6ee",
   "metadata": {},
   "outputs": [
    {
     "name": "stdout",
     "output_type": "stream",
     "text": [
      "~~~~~~~~~~~~~~~~~~~~~~~~~~~~~~~~~~~~~~~~~~~~~~~~~~~~~~~~~~~~~~~~~~~~~~~~~~~~~~~~\n",
      "The results of Random Forest Multiclass Classifier model\n",
      "using RKDitDescriptors for UniProt P05556 are:\n",
      "~~~~~~~~~~~~~~~~~~~~~~~~~~~~~~~~~~~~~~~~~~~~~~~~~~~~~~~~~~~~~~~~~~~~~~~~~~~~~~~~\n",
      "accuracy: 0.815\n",
      "roc_auc_mean_score: 0.927\n",
      "roc_auc_std_score: 0.010\n",
      "precision: 0.815\n",
      "recall: 0.815\n",
      "f1_score: 0.814\n",
      "confusion_matrix: [[16, 8, 10, 0, 0, 0], [7, 73, 20, 0, 0, 0], [6, 21, 261, 0, 1, 2], [0, 0, 2, 8, 1, 0], [0, 0, 0, 1, 0, 0], [0, 0, 2, 0, 0, 0]]\n",
      "~~~~~~~~~~~~~~~~~~~~~~~~~~~~~~~~~~~~~~~~~~~~~~~~~~~~~~~~~~~~~~~~~~~~~~~~~~~~~~~~\n",
      "Done.\n",
      "~~~~~~~~~~~~~~~~~~~~~~~~~~~~~~~~~~~~~~~~~~~~~~~~~~~~~~~~~~~~~~~~~~~~~~~~~~~~~~~~\n"
     ]
    }
   ],
   "source": [
    "PRINT(f'The results of Random Forest Multiclass Classifier model\\nusing RKDitDescriptors for UniProt P05556 are:')\n",
    "print_dict_meaningful(rf_model_tuple_P05556[1])\n",
    "PRINT(f'Done.')"
   ]
  },
  {
   "cell_type": "markdown",
   "id": "b6ba7eab-fc2a-45b8-ab88-4ed8f7753bf9",
   "metadata": {},
   "source": [
    "#### XGBoost Multiclass Classifier Model for P05556 with added RDKitDescriptors Features ####"
   ]
  },
  {
   "cell_type": "code",
   "execution_count": 37,
   "id": "6727d7da-b4b1-4c91-a2fc-4b75cd19ab71",
   "metadata": {},
   "outputs": [
    {
     "name": "stdout",
     "output_type": "stream",
     "text": [
      "Classification Report:\n",
      "              precision    recall  f1-score   support\n",
      "\n",
      "           0       0.50      0.62      0.55        34\n",
      "           1       0.68      0.74      0.71       100\n",
      "           2       0.91      0.86      0.88       291\n",
      "           3       0.82      0.82      0.82        11\n",
      "           4       0.00      0.00      0.00         1\n",
      "           5       0.00      0.00      0.00         2\n",
      "\n",
      "    accuracy                           0.80       439\n",
      "   macro avg       0.48      0.51      0.49       439\n",
      "weighted avg       0.82      0.80      0.81       439\n",
      "\n",
      "~~~~~~~~~~~~~~~~~~~~~~~~~~~~~~~~~~~~~~~~~~~~~~~~~~~~~~~~~~~~~~~~~~~~~~~~~~~~~~~~\n",
      "Mean ROC AUC: 0.920, Std Dev ROC AUC: 0.011\n",
      "~~~~~~~~~~~~~~~~~~~~~~~~~~~~~~~~~~~~~~~~~~~~~~~~~~~~~~~~~~~~~~~~~~~~~~~~~~~~~~~~\n",
      "~~~~~~~~~~~~~~~~~~~~~~~~~~~~~~~~~~~~~~~~~~~~~~~~~~~~~~~~~~~~~~~~~~~~~~~~~~~~~~~~\n",
      "Done training XGBoost Multicalss Classifier Model for UniProt P05556 using RKDitDescriptors features\n",
      "~~~~~~~~~~~~~~~~~~~~~~~~~~~~~~~~~~~~~~~~~~~~~~~~~~~~~~~~~~~~~~~~~~~~~~~~~~~~~~~~\n"
     ]
    }
   ],
   "source": [
    "weight_dict = 'balanced'\n",
    "\n",
    "xgb_model_tuple_P05556 = GenerateXGBoostModel(df=P05556_df_for_training_, weight_dict=weight_dict, if_binary=False, bootstrap=True)\n",
    "PRINT(f'Done training XGBoost Multicalss Classifier Model for UniProt P05556 using RKDitDescriptors features')"
   ]
  },
  {
   "cell_type": "code",
   "execution_count": 38,
   "id": "aa0de487-592b-4f91-9aaa-6cbbfca4330e",
   "metadata": {},
   "outputs": [
    {
     "name": "stdout",
     "output_type": "stream",
     "text": [
      "~~~~~~~~~~~~~~~~~~~~~~~~~~~~~~~~~~~~~~~~~~~~~~~~~~~~~~~~~~~~~~~~~~~~~~~~~~~~~~~~\n",
      "The results of XGBoost Multiclass Classifier model\n",
      "using RKDitDescriptors for UniProt P05556 are:\n",
      "~~~~~~~~~~~~~~~~~~~~~~~~~~~~~~~~~~~~~~~~~~~~~~~~~~~~~~~~~~~~~~~~~~~~~~~~~~~~~~~~\n",
      "accuracy: 0.804\n",
      "roc_auc_mean_score: 0.920\n",
      "roc_auc_std_score: 0.011\n",
      "precision: 0.818\n",
      "recall: 0.804\n",
      "f1_score: 0.810\n",
      "confusion_matrix: [[21, 5, 7, 1, 0, 0], [11, 74, 15, 0, 0, 0], [9, 30, 249, 0, 1, 2], [0, 0, 1, 9, 1, 0], [0, 0, 0, 1, 0, 0], [1, 0, 1, 0, 0, 0]]\n",
      "~~~~~~~~~~~~~~~~~~~~~~~~~~~~~~~~~~~~~~~~~~~~~~~~~~~~~~~~~~~~~~~~~~~~~~~~~~~~~~~~\n",
      "Done.\n",
      "~~~~~~~~~~~~~~~~~~~~~~~~~~~~~~~~~~~~~~~~~~~~~~~~~~~~~~~~~~~~~~~~~~~~~~~~~~~~~~~~\n"
     ]
    }
   ],
   "source": [
    "PRINT(f'The results of XGBoost Multiclass Classifier model\\nusing RKDitDescriptors for UniProt P05556 are:')\n",
    "print_dict_meaningful(xgb_model_tuple_P05556[1])\n",
    "PRINT(f'Done.')"
   ]
  },
  {
   "cell_type": "markdown",
   "id": "9a76d0c3-fab0-4531-bfe3-0b8eb17677bc",
   "metadata": {},
   "source": [
    "#### Random Forest Multiclass Classifier Model for P05556 with added Morgan Fingerprints Features ####"
   ]
  },
  {
   "cell_type": "code",
   "execution_count": 26,
   "id": "2c898253-1815-4584-bbb8-beb799c8bde5",
   "metadata": {},
   "outputs": [],
   "source": [
    "P05556_df_for_training__ = GenerateMorganFingerprintsFeaturesByMoleculeSMILES(df=P05556_df_for_training, size=1024, radius=2)"
   ]
  },
  {
   "cell_type": "code",
   "execution_count": 27,
   "id": "5dbfae51-c853-4f22-bae4-833a6625678b",
   "metadata": {},
   "outputs": [
    {
     "data": {
      "text/html": [
       "<div>\n",
       "<style scoped>\n",
       "    .dataframe tbody tr th:only-of-type {\n",
       "        vertical-align: middle;\n",
       "    }\n",
       "\n",
       "    .dataframe tbody tr th {\n",
       "        vertical-align: top;\n",
       "    }\n",
       "\n",
       "    .dataframe thead th {\n",
       "        text-align: right;\n",
       "    }\n",
       "</style>\n",
       "<table border=\"1\" class=\"dataframe\">\n",
       "  <thead>\n",
       "    <tr style=\"text-align: right;\">\n",
       "      <th></th>\n",
       "      <th>SMILES</th>\n",
       "      <th>NumericUniProtTargetLabels</th>\n",
       "      <th>Feature_0</th>\n",
       "      <th>Feature_1</th>\n",
       "      <th>Feature_2</th>\n",
       "      <th>Feature_3</th>\n",
       "      <th>Feature_4</th>\n",
       "      <th>Feature_5</th>\n",
       "      <th>Feature_6</th>\n",
       "      <th>Feature_7</th>\n",
       "      <th>...</th>\n",
       "      <th>Feature_1014</th>\n",
       "      <th>Feature_1015</th>\n",
       "      <th>Feature_1016</th>\n",
       "      <th>Feature_1017</th>\n",
       "      <th>Feature_1018</th>\n",
       "      <th>Feature_1019</th>\n",
       "      <th>Feature_1020</th>\n",
       "      <th>Feature_1021</th>\n",
       "      <th>Feature_1022</th>\n",
       "      <th>Feature_1023</th>\n",
       "    </tr>\n",
       "  </thead>\n",
       "  <tbody>\n",
       "    <tr>\n",
       "      <th>0</th>\n",
       "      <td>C=Cc1cnc(NC[C@@H]2C[C@]3(CC(C(=O)NC[C@H](NS(=O...</td>\n",
       "      <td>1.0</td>\n",
       "      <td>0.0</td>\n",
       "      <td>1.0</td>\n",
       "      <td>0.0</td>\n",
       "      <td>0.0</td>\n",
       "      <td>0.0</td>\n",
       "      <td>0.0</td>\n",
       "      <td>0.0</td>\n",
       "      <td>0.0</td>\n",
       "      <td>...</td>\n",
       "      <td>0.0</td>\n",
       "      <td>0.0</td>\n",
       "      <td>0.0</td>\n",
       "      <td>0.0</td>\n",
       "      <td>0.0</td>\n",
       "      <td>1.0</td>\n",
       "      <td>0.0</td>\n",
       "      <td>1.0</td>\n",
       "      <td>0.0</td>\n",
       "      <td>0.0</td>\n",
       "    </tr>\n",
       "    <tr>\n",
       "      <th>1</th>\n",
       "      <td>Cl.O=C(O)C1C2C=CC(C2)[C@@H]1NC(=O)[C@@H]1CCCN1...</td>\n",
       "      <td>2.0</td>\n",
       "      <td>0.0</td>\n",
       "      <td>0.0</td>\n",
       "      <td>0.0</td>\n",
       "      <td>0.0</td>\n",
       "      <td>1.0</td>\n",
       "      <td>0.0</td>\n",
       "      <td>0.0</td>\n",
       "      <td>0.0</td>\n",
       "      <td>...</td>\n",
       "      <td>0.0</td>\n",
       "      <td>0.0</td>\n",
       "      <td>0.0</td>\n",
       "      <td>0.0</td>\n",
       "      <td>0.0</td>\n",
       "      <td>1.0</td>\n",
       "      <td>0.0</td>\n",
       "      <td>0.0</td>\n",
       "      <td>0.0</td>\n",
       "      <td>0.0</td>\n",
       "    </tr>\n",
       "  </tbody>\n",
       "</table>\n",
       "<p>2 rows × 1026 columns</p>\n",
       "</div>"
      ],
      "text/plain": [
       "                                              SMILES  \\\n",
       "0  C=Cc1cnc(NC[C@@H]2C[C@]3(CC(C(=O)NC[C@H](NS(=O...   \n",
       "1  Cl.O=C(O)C1C2C=CC(C2)[C@@H]1NC(=O)[C@@H]1CCCN1...   \n",
       "\n",
       "   NumericUniProtTargetLabels  Feature_0  Feature_1  Feature_2  Feature_3  \\\n",
       "0                         1.0        0.0        1.0        0.0        0.0   \n",
       "1                         2.0        0.0        0.0        0.0        0.0   \n",
       "\n",
       "   Feature_4  Feature_5  Feature_6  Feature_7  ...  Feature_1014  \\\n",
       "0        0.0        0.0        0.0        0.0  ...           0.0   \n",
       "1        1.0        0.0        0.0        0.0  ...           0.0   \n",
       "\n",
       "   Feature_1015  Feature_1016  Feature_1017  Feature_1018  Feature_1019  \\\n",
       "0           0.0           0.0           0.0           0.0           1.0   \n",
       "1           0.0           0.0           0.0           0.0           1.0   \n",
       "\n",
       "   Feature_1020  Feature_1021  Feature_1022  Feature_1023  \n",
       "0           0.0           1.0           0.0           0.0  \n",
       "1           0.0           0.0           0.0           0.0  \n",
       "\n",
       "[2 rows x 1026 columns]"
      ]
     },
     "execution_count": 27,
     "metadata": {},
     "output_type": "execute_result"
    }
   ],
   "source": [
    "P05556_df_for_training__.head(2)"
   ]
  },
  {
   "cell_type": "markdown",
   "id": "35b0222b-dfb8-4c9f-a376-735069dabc93",
   "metadata": {},
   "source": [
    "##### Check for Generated Features With NaN values #####"
   ]
  },
  {
   "cell_type": "code",
   "execution_count": 28,
   "id": "4543a24d-c683-4645-96ac-b2e98e91dc09",
   "metadata": {},
   "outputs": [
    {
     "name": "stdout",
     "output_type": "stream",
     "text": [
      "~~~~~~~~~~~~~~~~~~~~~~~~~~~~~~~~~~~~~~~~~~~~~~~~~~~~~~~~~~~~~~~~~~~~~~~~~~~~~~~~\n",
      "2 rows were dropped.\n",
      "~~~~~~~~~~~~~~~~~~~~~~~~~~~~~~~~~~~~~~~~~~~~~~~~~~~~~~~~~~~~~~~~~~~~~~~~~~~~~~~~\n"
     ]
    }
   ],
   "source": [
    "original_rows = P05556_df_for_training__.shape[0]\n",
    "\n",
    "P05556_df_for_training__ = P05556_df_for_training__.dropna()\n",
    "\n",
    "# Calculate the number of dropped rows\n",
    "dropped_rows = original_rows - P05556_df_for_training__.shape[0]\n",
    "\n",
    "PRINT(f\"{dropped_rows} rows were dropped.\")"
   ]
  },
  {
   "cell_type": "code",
   "execution_count": 31,
   "id": "168a15aa-1fb0-48a8-b031-806bea4693a0",
   "metadata": {},
   "outputs": [
    {
     "name": "stdout",
     "output_type": "stream",
     "text": [
      "Classification Report:\n",
      "              precision    recall  f1-score   support\n",
      "\n",
      "         0.0       0.48      0.65      0.55        34\n",
      "         1.0       0.77      0.73      0.75       100\n",
      "         2.0       0.91      0.88      0.89       291\n",
      "         3.0       0.80      0.73      0.76        11\n",
      "         4.0       0.00      0.00      0.00         1\n",
      "         5.0       0.00      0.00      0.00         2\n",
      "\n",
      "    accuracy                           0.82       439\n",
      "   macro avg       0.49      0.50      0.49       439\n",
      "weighted avg       0.83      0.82      0.82       439\n",
      "\n",
      "~~~~~~~~~~~~~~~~~~~~~~~~~~~~~~~~~~~~~~~~~~~~~~~~~~~~~~~~~~~~~~~~~~~~~~~~~~~~~~~~\n",
      "Mean ROC AUC: 0.881, Std Dev ROC AUC: 0.016\n",
      "~~~~~~~~~~~~~~~~~~~~~~~~~~~~~~~~~~~~~~~~~~~~~~~~~~~~~~~~~~~~~~~~~~~~~~~~~~~~~~~~\n",
      "~~~~~~~~~~~~~~~~~~~~~~~~~~~~~~~~~~~~~~~~~~~~~~~~~~~~~~~~~~~~~~~~~~~~~~~~~~~~~~~~\n",
      "Done training Random Forest Multicalss Classifier Model for UniProt P055556 using Morgan Fingerprints features\n",
      "~~~~~~~~~~~~~~~~~~~~~~~~~~~~~~~~~~~~~~~~~~~~~~~~~~~~~~~~~~~~~~~~~~~~~~~~~~~~~~~~\n"
     ]
    }
   ],
   "source": [
    "weight_dict = 'balanced'\n",
    "\n",
    "rf_model_tuple_P05556_ = GenerateRandomForestModel(df=P05556_df_for_training__, weight_dict=weight_dict, if_binary=False, bootstrap=True)\n",
    "PRINT(f'Done training Random Forest Multicalss Classifier Model for UniProt P055556 using Morgan Fingerprints features')"
   ]
  },
  {
   "cell_type": "code",
   "execution_count": 32,
   "id": "813043e0-29ee-48d6-a72a-977dd2a754e6",
   "metadata": {},
   "outputs": [
    {
     "name": "stdout",
     "output_type": "stream",
     "text": [
      "~~~~~~~~~~~~~~~~~~~~~~~~~~~~~~~~~~~~~~~~~~~~~~~~~~~~~~~~~~~~~~~~~~~~~~~~~~~~~~~~\n",
      "The results of Random Forest Multiclass Classifier using\n",
      "Morgan Fingerprints features model for UniProt P05556 are:\n",
      "~~~~~~~~~~~~~~~~~~~~~~~~~~~~~~~~~~~~~~~~~~~~~~~~~~~~~~~~~~~~~~~~~~~~~~~~~~~~~~~~\n",
      "accuracy: 0.815\n",
      "roc_auc_mean_score: 0.881\n",
      "roc_auc_std_score: 0.016\n",
      "precision: 0.834\n",
      "recall: 0.815\n",
      "f1_score: 0.823\n",
      "confusion_matrix: [[22, 4, 7, 1, 0, 0], [10, 73, 16, 0, 1, 0], [14, 17, 255, 0, 1, 4], [0, 0, 2, 8, 1, 0], [0, 0, 0, 1, 0, 0], [0, 1, 1, 0, 0, 0]]\n",
      "~~~~~~~~~~~~~~~~~~~~~~~~~~~~~~~~~~~~~~~~~~~~~~~~~~~~~~~~~~~~~~~~~~~~~~~~~~~~~~~~\n",
      "Done.\n",
      "~~~~~~~~~~~~~~~~~~~~~~~~~~~~~~~~~~~~~~~~~~~~~~~~~~~~~~~~~~~~~~~~~~~~~~~~~~~~~~~~\n"
     ]
    }
   ],
   "source": [
    "PRINT(f'The results of Random Forest Multiclass Classifier using\\nMorgan Fingerprints features model for UniProt P05556 are:')\n",
    "print_dict_meaningful(rf_model_tuple_P05556_[1])\n",
    "PRINT(f'Done.')"
   ]
  },
  {
   "cell_type": "markdown",
   "id": "41bb7047-5070-4121-be70-00ef7f6aa9a5",
   "metadata": {},
   "source": [
    "#### XGBoost Multiclass Classifier Model for P05556 with added Morgan Fingerprints Features ####"
   ]
  },
  {
   "cell_type": "code",
   "execution_count": 29,
   "id": "0ee6d306-ef15-4a01-a19a-3db0d7332396",
   "metadata": {},
   "outputs": [
    {
     "name": "stdout",
     "output_type": "stream",
     "text": [
      "Classification Report:\n",
      "              precision    recall  f1-score   support\n",
      "\n",
      "         0.0       0.41      0.59      0.48        34\n",
      "         1.0       0.76      0.74      0.75       100\n",
      "         2.0       0.91      0.86      0.88       291\n",
      "         3.0       0.73      0.73      0.73        11\n",
      "         4.0       0.00      0.00      0.00         1\n",
      "         5.0       0.00      0.00      0.00         2\n",
      "\n",
      "    accuracy                           0.80       439\n",
      "   macro avg       0.47      0.49      0.47       439\n",
      "weighted avg       0.82      0.80      0.81       439\n",
      "\n",
      "~~~~~~~~~~~~~~~~~~~~~~~~~~~~~~~~~~~~~~~~~~~~~~~~~~~~~~~~~~~~~~~~~~~~~~~~~~~~~~~~\n",
      "Mean ROC AUC: 0.878, Std Dev ROC AUC: 0.016\n",
      "~~~~~~~~~~~~~~~~~~~~~~~~~~~~~~~~~~~~~~~~~~~~~~~~~~~~~~~~~~~~~~~~~~~~~~~~~~~~~~~~\n",
      "~~~~~~~~~~~~~~~~~~~~~~~~~~~~~~~~~~~~~~~~~~~~~~~~~~~~~~~~~~~~~~~~~~~~~~~~~~~~~~~~\n",
      "Done training XGBoost Multicalss Classifier Model for UniProt P05556 using Morgan Fingerprints features\n",
      "~~~~~~~~~~~~~~~~~~~~~~~~~~~~~~~~~~~~~~~~~~~~~~~~~~~~~~~~~~~~~~~~~~~~~~~~~~~~~~~~\n"
     ]
    }
   ],
   "source": [
    "weight_dict = 'balanced'\n",
    "\n",
    "xgb_model_tuple_P05556_ = GenerateXGBoostModel(df=P05556_df_for_training__, weight_dict=weight_dict, if_binary=False, bootstrap=True)\n",
    "PRINT(f'Done training XGBoost Multicalss Classifier Model for UniProt P05556 using Morgan Fingerprints features')"
   ]
  },
  {
   "cell_type": "code",
   "execution_count": 30,
   "id": "40c45881-3e4a-4050-a0f5-c4cf07639db9",
   "metadata": {},
   "outputs": [
    {
     "name": "stdout",
     "output_type": "stream",
     "text": [
      "~~~~~~~~~~~~~~~~~~~~~~~~~~~~~~~~~~~~~~~~~~~~~~~~~~~~~~~~~~~~~~~~~~~~~~~~~~~~~~~~\n",
      "The results of XGBoost Multiclass Classifier using\n",
      "Morgan Fingerprints features model for UniProt P05556 are:\n",
      "~~~~~~~~~~~~~~~~~~~~~~~~~~~~~~~~~~~~~~~~~~~~~~~~~~~~~~~~~~~~~~~~~~~~~~~~~~~~~~~~\n",
      "accuracy: 0.804\n",
      "roc_auc_mean_score: 0.878\n",
      "roc_auc_std_score: 0.016\n",
      "precision: 0.822\n",
      "recall: 0.804\n",
      "f1_score: 0.812\n",
      "confusion_matrix: [[20, 4, 9, 1, 0, 0], [10, 74, 15, 1, 0, 0], [19, 18, 251, 0, 1, 2], [0, 1, 1, 8, 1, 0], [0, 0, 0, 1, 0, 0], [0, 1, 1, 0, 0, 0]]\n",
      "~~~~~~~~~~~~~~~~~~~~~~~~~~~~~~~~~~~~~~~~~~~~~~~~~~~~~~~~~~~~~~~~~~~~~~~~~~~~~~~~\n",
      "Done.\n",
      "~~~~~~~~~~~~~~~~~~~~~~~~~~~~~~~~~~~~~~~~~~~~~~~~~~~~~~~~~~~~~~~~~~~~~~~~~~~~~~~~\n"
     ]
    }
   ],
   "source": [
    "PRINT(f'The results of XGBoost Multiclass Classifier using\\nMorgan Fingerprints features model for UniProt P05556 are:')\n",
    "print_dict_meaningful(xgb_model_tuple_P05556_[1])\n",
    "PRINT(f'Done.')"
   ]
  },
  {
   "cell_type": "markdown",
   "id": "671ac031-f82a-4617-9639-d3dd182ad73d",
   "metadata": {},
   "source": [
    "#### Pickup the best model trained so far for UniProt P05556 ####"
   ]
  },
  {
   "cell_type": "markdown",
   "id": "ea0a2c59-7716-4a0e-8746-3ad492d773e8",
   "metadata": {},
   "source": [
    "##### Visualize Trained Models Preformances #####"
   ]
  },
  {
   "cell_type": "code",
   "execution_count": 39,
   "id": "befe1461-75f2-4c09-b8a4-5af72ee88e12",
   "metadata": {},
   "outputs": [
    {
     "data": {
      "text/html": [
       "<div>\n",
       "<style scoped>\n",
       "    .dataframe tbody tr th:only-of-type {\n",
       "        vertical-align: middle;\n",
       "    }\n",
       "\n",
       "    .dataframe tbody tr th {\n",
       "        vertical-align: top;\n",
       "    }\n",
       "\n",
       "    .dataframe thead th {\n",
       "        text-align: right;\n",
       "    }\n",
       "</style>\n",
       "<table border=\"1\" class=\"dataframe\">\n",
       "  <thead>\n",
       "    <tr style=\"text-align: right;\">\n",
       "      <th></th>\n",
       "      <th>RM_RDKit</th>\n",
       "      <th>XGB_RDKit</th>\n",
       "      <th>RM_MF</th>\n",
       "      <th>XGB_MF</th>\n",
       "    </tr>\n",
       "  </thead>\n",
       "  <tbody>\n",
       "    <tr>\n",
       "      <th>accuracy</th>\n",
       "      <td>0.81549</td>\n",
       "      <td>0.8041</td>\n",
       "      <td>0.81549</td>\n",
       "      <td>0.8041</td>\n",
       "    </tr>\n",
       "    <tr>\n",
       "      <th>roc_auc_mean_score</th>\n",
       "      <td>0.927393</td>\n",
       "      <td>0.920018</td>\n",
       "      <td>0.881282</td>\n",
       "      <td>0.877974</td>\n",
       "    </tr>\n",
       "    <tr>\n",
       "      <th>roc_auc_std_score</th>\n",
       "      <td>0.009827</td>\n",
       "      <td>0.011235</td>\n",
       "      <td>0.016413</td>\n",
       "      <td>0.016141</td>\n",
       "    </tr>\n",
       "    <tr>\n",
       "      <th>precision</th>\n",
       "      <td>0.814501</td>\n",
       "      <td>0.818468</td>\n",
       "      <td>0.833662</td>\n",
       "      <td>0.822491</td>\n",
       "    </tr>\n",
       "    <tr>\n",
       "      <th>recall</th>\n",
       "      <td>0.81549</td>\n",
       "      <td>0.8041</td>\n",
       "      <td>0.81549</td>\n",
       "      <td>0.8041</td>\n",
       "    </tr>\n",
       "    <tr>\n",
       "      <th>f1_score</th>\n",
       "      <td>0.8145</td>\n",
       "      <td>0.809908</td>\n",
       "      <td>0.823259</td>\n",
       "      <td>0.811662</td>\n",
       "    </tr>\n",
       "    <tr>\n",
       "      <th>confusion_matrix</th>\n",
       "      <td>[[16, 8, 10, 0, 0, 0], [7, 73, 20, 0, 0, 0], [...</td>\n",
       "      <td>[[21, 5, 7, 1, 0, 0], [11, 74, 15, 0, 0, 0], [...</td>\n",
       "      <td>[[22, 4, 7, 1, 0, 0], [10, 73, 16, 0, 1, 0], [...</td>\n",
       "      <td>[[20, 4, 9, 1, 0, 0], [10, 74, 15, 1, 0, 0], [...</td>\n",
       "    </tr>\n",
       "  </tbody>\n",
       "</table>\n",
       "</div>"
      ],
      "text/plain": [
       "                                                             RM_RDKit  \\\n",
       "accuracy                                                      0.81549   \n",
       "roc_auc_mean_score                                           0.927393   \n",
       "roc_auc_std_score                                            0.009827   \n",
       "precision                                                    0.814501   \n",
       "recall                                                        0.81549   \n",
       "f1_score                                                       0.8145   \n",
       "confusion_matrix    [[16, 8, 10, 0, 0, 0], [7, 73, 20, 0, 0, 0], [...   \n",
       "\n",
       "                                                            XGB_RDKit  \\\n",
       "accuracy                                                       0.8041   \n",
       "roc_auc_mean_score                                           0.920018   \n",
       "roc_auc_std_score                                            0.011235   \n",
       "precision                                                    0.818468   \n",
       "recall                                                         0.8041   \n",
       "f1_score                                                     0.809908   \n",
       "confusion_matrix    [[21, 5, 7, 1, 0, 0], [11, 74, 15, 0, 0, 0], [...   \n",
       "\n",
       "                                                                RM_MF  \\\n",
       "accuracy                                                      0.81549   \n",
       "roc_auc_mean_score                                           0.881282   \n",
       "roc_auc_std_score                                            0.016413   \n",
       "precision                                                    0.833662   \n",
       "recall                                                        0.81549   \n",
       "f1_score                                                     0.823259   \n",
       "confusion_matrix    [[22, 4, 7, 1, 0, 0], [10, 73, 16, 0, 1, 0], [...   \n",
       "\n",
       "                                                               XGB_MF  \n",
       "accuracy                                                       0.8041  \n",
       "roc_auc_mean_score                                           0.877974  \n",
       "roc_auc_std_score                                            0.016141  \n",
       "precision                                                    0.822491  \n",
       "recall                                                         0.8041  \n",
       "f1_score                                                     0.811662  \n",
       "confusion_matrix    [[20, 4, 9, 1, 0, 0], [10, 74, 15, 1, 0, 0], [...  "
      ]
     },
     "execution_count": 39,
     "metadata": {},
     "output_type": "execute_result"
    }
   ],
   "source": [
    "df_for_preformance_comparison = pd.DataFrame({\n",
    "    'RM_RDKit': list(rf_model_tuple_P05556[1].values()),\n",
    "    'XGB_RDKit': list(xgb_model_tuple_P05556[1].values()),\n",
    "    'RM_MF': list(rf_model_tuple_P05556_[1].values()),\n",
    "    'XGB_MF': list(xgb_model_tuple_P05556_[1].values())\n",
    "}, index=rf_model_tuple_P05556[1].keys())\n",
    "\n",
    "df_for_preformance_comparison.head(7)"
   ]
  },
  {
   "cell_type": "code",
   "execution_count": 40,
   "id": "663e4838-33c6-46fa-a1ed-f70c7684b74c",
   "metadata": {},
   "outputs": [],
   "source": [
    "# Drop index columm\n",
    "df_for_preformance_comparison.drop(df_for_preformance_comparison.index[-1], inplace=True)\n",
    "\n",
    "# Drop the last row (i.e., confusion_matrix row)\n",
    "df_for_preformance_comparison.reset_index(drop=True, inplace=True)"
   ]
  },
  {
   "cell_type": "code",
   "execution_count": 41,
   "id": "d91fe429-48a0-4ba1-ba3b-398111fe57db",
   "metadata": {},
   "outputs": [
    {
     "data": {
      "text/html": [
       "<div>\n",
       "<style scoped>\n",
       "    .dataframe tbody tr th:only-of-type {\n",
       "        vertical-align: middle;\n",
       "    }\n",
       "\n",
       "    .dataframe tbody tr th {\n",
       "        vertical-align: top;\n",
       "    }\n",
       "\n",
       "    .dataframe thead th {\n",
       "        text-align: right;\n",
       "    }\n",
       "</style>\n",
       "<table border=\"1\" class=\"dataframe\">\n",
       "  <thead>\n",
       "    <tr style=\"text-align: right;\">\n",
       "      <th></th>\n",
       "      <th>RM_RDKit</th>\n",
       "      <th>XGB_RDKit</th>\n",
       "      <th>RM_MF</th>\n",
       "      <th>XGB_MF</th>\n",
       "    </tr>\n",
       "  </thead>\n",
       "  <tbody>\n",
       "    <tr>\n",
       "      <th>0</th>\n",
       "      <td>0.81549</td>\n",
       "      <td>0.8041</td>\n",
       "      <td>0.81549</td>\n",
       "      <td>0.8041</td>\n",
       "    </tr>\n",
       "    <tr>\n",
       "      <th>1</th>\n",
       "      <td>0.927393</td>\n",
       "      <td>0.920018</td>\n",
       "      <td>0.881282</td>\n",
       "      <td>0.877974</td>\n",
       "    </tr>\n",
       "    <tr>\n",
       "      <th>2</th>\n",
       "      <td>0.009827</td>\n",
       "      <td>0.011235</td>\n",
       "      <td>0.016413</td>\n",
       "      <td>0.016141</td>\n",
       "    </tr>\n",
       "    <tr>\n",
       "      <th>3</th>\n",
       "      <td>0.814501</td>\n",
       "      <td>0.818468</td>\n",
       "      <td>0.833662</td>\n",
       "      <td>0.822491</td>\n",
       "    </tr>\n",
       "    <tr>\n",
       "      <th>4</th>\n",
       "      <td>0.81549</td>\n",
       "      <td>0.8041</td>\n",
       "      <td>0.81549</td>\n",
       "      <td>0.8041</td>\n",
       "    </tr>\n",
       "    <tr>\n",
       "      <th>5</th>\n",
       "      <td>0.8145</td>\n",
       "      <td>0.809908</td>\n",
       "      <td>0.823259</td>\n",
       "      <td>0.811662</td>\n",
       "    </tr>\n",
       "  </tbody>\n",
       "</table>\n",
       "</div>"
      ],
      "text/plain": [
       "   RM_RDKit XGB_RDKit     RM_MF    XGB_MF\n",
       "0   0.81549    0.8041   0.81549    0.8041\n",
       "1  0.927393  0.920018  0.881282  0.877974\n",
       "2  0.009827  0.011235  0.016413  0.016141\n",
       "3  0.814501  0.818468  0.833662  0.822491\n",
       "4   0.81549    0.8041   0.81549    0.8041\n",
       "5    0.8145  0.809908  0.823259  0.811662"
      ]
     },
     "execution_count": 41,
     "metadata": {},
     "output_type": "execute_result"
    }
   ],
   "source": [
    "df_for_preformance_comparison.head(6)"
   ]
  },
  {
   "cell_type": "code",
   "execution_count": 42,
   "id": "0139457f-7e4c-4a05-bcae-de04d6ad8d43",
   "metadata": {},
   "outputs": [
    {
     "data": {
      "image/png": "[encoded data removed]",
      "text/plain": [
       "<Figure size 1000x600 with 6 Axes>"
      ]
     },
     "metadata": {},
     "output_type": "display_data"
    }
   ],
   "source": [
    "plot_model_comparison_countplots(df=df_for_preformance_comparison)"
   ]
  },
  {
   "cell_type": "markdown",
   "id": "a51be672-3402-4399-a621-2ecd02beda7a",
   "metadata": {},
   "source": [
    "##### Choose & Save the Best Model  #####\n",
    "\n",
    "Upon examining the plots illustrating the performance of all four trained models, it is evident that each of them achieved high scores in most evaluation metrics. However, upon closer inspection of plot C, which represents the roc auc std score, we observe that the Random Forest model trained with RDKit descriptors features exhibits the lowest standard deviation in the roc auc score generated using the bootstrap technique.\r\n",
    "\r\n",
    "As a result, we will designate this particular model as the chosen candidate for being the best among the four models for UniProt P05556."
   ]
  },
  {
   "cell_type": "code",
   "execution_count": 45,
   "id": "4c253134-942c-4f11-9062-c3569689118f",
   "metadata": {},
   "outputs": [
    {
     "name": "stdout",
     "output_type": "stream",
     "text": [
      "~~~~~~~~~~~~~~~~~~~~~~~~~~~~~~~~~~~~~~~~~~~~~~~~~~~~~~~~~~~~~~~~~~~~~~~~~~~~~~~~\n",
      "Model Saved\n",
      "~~~~~~~~~~~~~~~~~~~~~~~~~~~~~~~~~~~~~~~~~~~~~~~~~~~~~~~~~~~~~~~~~~~~~~~~~~~~~~~~\n"
     ]
    }
   ],
   "source": [
    "path = os.path.join('models\\\\Best Model of each UniProt Modified', 'rf_P05556_RDKD.joblib')\n",
    "dump(rf_model_tuple_P05556[0], path)\n",
    "\n",
    "PRINT('Model Saved')"
   ]
  },
  {
   "cell_type": "markdown",
   "id": "7b99b4e6-46cd-456b-9fc3-9c30f35ac852",
   "metadata": {},
   "source": [
    "---\n",
    "### Models for P05106 Protein ###"
   ]
  },
  {
   "cell_type": "code",
   "execution_count": 46,
   "id": "41d05753-2362-4c24-8501-473cbcfd6d9e",
   "metadata": {},
   "outputs": [
    {
     "name": "stdout",
     "output_type": "stream",
     "text": [
      "~~~~~~~~~~~~~~~~~~~~~~~~~~~~~~~~~~~~~~~~~~~~~~~~~~~~~~~~~~~~~~~~~~~~~~~~~~~~~~~~\n",
      "P05106 model labels -> ['P06756', 'P08514', 'P17301', 'P26006']\n",
      "~~~~~~~~~~~~~~~~~~~~~~~~~~~~~~~~~~~~~~~~~~~~~~~~~~~~~~~~~~~~~~~~~~~~~~~~~~~~~~~~\n",
      "~~~~~~~~~~~~~~~~~~~~~~~~~~~~~~~~~~~~~~~~~~~~~~~~~~~~~~~~~~~~~~~~~~~~~~~~~~~~~~~~\n",
      "Finished generating DataFrames for UniProt -> P05106.\n",
      "~~~~~~~~~~~~~~~~~~~~~~~~~~~~~~~~~~~~~~~~~~~~~~~~~~~~~~~~~~~~~~~~~~~~~~~~~~~~~~~~\n"
     ]
    }
   ],
   "source": [
    "P05106_df_for_training, P05106_df_with_uniprotes_col, mapped_label_dict_P05106 = generate_df_for_training_('P05106', 'P05106.csv', 'second_df_encoded.csv')"
   ]
  },
  {
   "cell_type": "code",
   "execution_count": 47,
   "id": "cb6d8465-a9e7-445d-9543-6fc9fcefe307",
   "metadata": {},
   "outputs": [
    {
     "data": {
      "text/html": [
       "<div>\n",
       "<style scoped>\n",
       "    .dataframe tbody tr th:only-of-type {\n",
       "        vertical-align: middle;\n",
       "    }\n",
       "\n",
       "    .dataframe tbody tr th {\n",
       "        vertical-align: top;\n",
       "    }\n",
       "\n",
       "    .dataframe thead th {\n",
       "        text-align: right;\n",
       "    }\n",
       "</style>\n",
       "<table border=\"1\" class=\"dataframe\">\n",
       "  <thead>\n",
       "    <tr style=\"text-align: right;\">\n",
       "      <th></th>\n",
       "      <th>SMILES</th>\n",
       "      <th>NumericUniProtTargetLabels</th>\n",
       "    </tr>\n",
       "  </thead>\n",
       "  <tbody>\n",
       "    <tr>\n",
       "      <th>0</th>\n",
       "      <td>CNc1cccc(CCOc2ccc(C[C@H](NC(=O)c3ccc(F)cc3C)C(...</td>\n",
       "      <td>0</td>\n",
       "    </tr>\n",
       "    <tr>\n",
       "      <th>1</th>\n",
       "      <td>N=C(N)Nc1cccc(C(=O)NNC(=O)NC(CC(=O)O)c2cccc3cc...</td>\n",
       "      <td>1</td>\n",
       "    </tr>\n",
       "    <tr>\n",
       "      <th>2</th>\n",
       "      <td>O=C(O)CCn1ccc2cc(OCCCNc3ccccn3)ccc21</td>\n",
       "      <td>1</td>\n",
       "    </tr>\n",
       "  </tbody>\n",
       "</table>\n",
       "</div>"
      ],
      "text/plain": [
       "                                              SMILES  \\\n",
       "0  CNc1cccc(CCOc2ccc(C[C@H](NC(=O)c3ccc(F)cc3C)C(...   \n",
       "1  N=C(N)Nc1cccc(C(=O)NNC(=O)NC(CC(=O)O)c2cccc3cc...   \n",
       "2               O=C(O)CCn1ccc2cc(OCCCNc3ccccn3)ccc21   \n",
       "\n",
       "   NumericUniProtTargetLabels  \n",
       "0                           0  \n",
       "1                           1  \n",
       "2                           1  "
      ]
     },
     "execution_count": 47,
     "metadata": {},
     "output_type": "execute_result"
    }
   ],
   "source": [
    "P05106_df_for_training.head(3)"
   ]
  },
  {
   "cell_type": "code",
   "execution_count": 48,
   "id": "8e17785b-a2b2-48a9-8541-2d626f320361",
   "metadata": {},
   "outputs": [
    {
     "data": {
      "text/html": [
       "<div>\n",
       "<style scoped>\n",
       "    .dataframe tbody tr th:only-of-type {\n",
       "        vertical-align: middle;\n",
       "    }\n",
       "\n",
       "    .dataframe tbody tr th {\n",
       "        vertical-align: top;\n",
       "    }\n",
       "\n",
       "    .dataframe thead th {\n",
       "        text-align: right;\n",
       "    }\n",
       "</style>\n",
       "<table border=\"1\" class=\"dataframe\">\n",
       "  <thead>\n",
       "    <tr style=\"text-align: right;\">\n",
       "      <th></th>\n",
       "      <th>SMILES</th>\n",
       "      <th>UniProtTargetLabels</th>\n",
       "      <th>NumericUniProtTargetLabels</th>\n",
       "    </tr>\n",
       "  </thead>\n",
       "  <tbody>\n",
       "    <tr>\n",
       "      <th>0</th>\n",
       "      <td>CNc1cccc(CCOc2ccc(C[C@H](NC(=O)c3ccc(F)cc3C)C(...</td>\n",
       "      <td>P06756</td>\n",
       "      <td>0</td>\n",
       "    </tr>\n",
       "    <tr>\n",
       "      <th>1</th>\n",
       "      <td>N=C(N)Nc1cccc(C(=O)NNC(=O)NC(CC(=O)O)c2cccc3cc...</td>\n",
       "      <td>P08514</td>\n",
       "      <td>1</td>\n",
       "    </tr>\n",
       "    <tr>\n",
       "      <th>2</th>\n",
       "      <td>O=C(O)CCn1ccc2cc(OCCCNc3ccccn3)ccc21</td>\n",
       "      <td>P08514</td>\n",
       "      <td>1</td>\n",
       "    </tr>\n",
       "  </tbody>\n",
       "</table>\n",
       "</div>"
      ],
      "text/plain": [
       "                                              SMILES UniProtTargetLabels  \\\n",
       "0  CNc1cccc(CCOc2ccc(C[C@H](NC(=O)c3ccc(F)cc3C)C(...              P06756   \n",
       "1  N=C(N)Nc1cccc(C(=O)NNC(=O)NC(CC(=O)O)c2cccc3cc...              P08514   \n",
       "2               O=C(O)CCn1ccc2cc(OCCCNc3ccccn3)ccc21              P08514   \n",
       "\n",
       "   NumericUniProtTargetLabels  \n",
       "0                           0  \n",
       "1                           1  \n",
       "2                           1  "
      ]
     },
     "execution_count": 48,
     "metadata": {},
     "output_type": "execute_result"
    }
   ],
   "source": [
    "P05106_df_with_uniprotes_col.head(3)"
   ]
  },
  {
   "cell_type": "code",
   "execution_count": 49,
   "id": "5e0ff9da-d427-4cfe-af7a-eed1f706bb90",
   "metadata": {},
   "outputs": [
    {
     "data": {
      "image/png": "[encoded data removed]",
      "text/plain": [
       "<Figure size 1000x600 with 1 Axes>"
      ]
     },
     "metadata": {},
     "output_type": "display_data"
    }
   ],
   "source": [
    "plot_uniprot_numeric_label_frequency(df=P05106_df_for_training, UniProt='P05106')"
   ]
  },
  {
   "cell_type": "code",
   "execution_count": 76,
   "id": "8dfc8bcf-f177-4e4b-97b2-13517c5eec1a",
   "metadata": {},
   "outputs": [
    {
     "name": "stdout",
     "output_type": "stream",
     "text": [
      "~~~~~~~~~~~~~~~~~~~~~~~~~~~~~~~~~~~~~~~~~~~~~~~~~~~~~~~~~~~~~~~~~~~~~~~~~~~~~~~~\n",
      "The mapped labels in (\"UniProt\": \"index_label\") format:\n",
      "\n",
      "{'P06756': 0, 'P08514': 1, 'P17301': 2, 'P26006': 3}\n",
      "~~~~~~~~~~~~~~~~~~~~~~~~~~~~~~~~~~~~~~~~~~~~~~~~~~~~~~~~~~~~~~~~~~~~~~~~~~~~~~~~\n"
     ]
    }
   ],
   "source": [
    "PRINT(f'The mapped labels in (\"UniProt\": \"index_label\") format:\\n\\n{mapped_label_dict_P05106}')"
   ]
  },
  {
   "cell_type": "markdown",
   "id": "84db7a46-0ed3-41bf-9f7d-18688c5075d0",
   "metadata": {},
   "source": [
    "#### Handle Bad Rows ####\n",
    "\n",
    "Further in the code, we encountered an exception where the function attempted to extract RDKitDescriptors using a molecule SMILES value of *float* type. We cannot pass this type of value; only *str* type is accepted.\n",
    "\n",
    "As a solution, we will remove those lines from our dataset."
   ]
  },
  {
   "cell_type": "code",
   "execution_count": 77,
   "id": "a2eacce0-876b-457a-a331-d47130729e6a",
   "metadata": {},
   "outputs": [
    {
     "name": "stdout",
     "output_type": "stream",
     "text": [
      "~~~~~~~~~~~~~~~~~~~~~~~~~~~~~~~~~~~~~~~~~~~~~~~~~~~~~~~~~~~~~~~~~~~~~~~~~~~~~~~~\n",
      "SMILES\n",
      "<class 'str'>      4524\n",
      "<class 'float'>       2\n",
      "Name: count, dtype: int64\n",
      "~~~~~~~~~~~~~~~~~~~~~~~~~~~~~~~~~~~~~~~~~~~~~~~~~~~~~~~~~~~~~~~~~~~~~~~~~~~~~~~~\n"
     ]
    }
   ],
   "source": [
    "PRINT(P05106_df_for_training['SMILES'].apply(type).value_counts())"
   ]
  },
  {
   "cell_type": "code",
   "execution_count": 78,
   "id": "e2b520c5-2ee2-4f29-afee-b85116cb3f98",
   "metadata": {},
   "outputs": [
    {
     "name": "stdout",
     "output_type": "stream",
     "text": [
      "~~~~~~~~~~~~~~~~~~~~~~~~~~~~~~~~~~~~~~~~~~~~~~~~~~~~~~~~~~~~~~~~~~~~~~~~~~~~~~~~\n",
      "     SMILES  NumericUniProtTargetLabels\n",
      "3274    NaN                           0\n",
      "3514    NaN                           1\n",
      "~~~~~~~~~~~~~~~~~~~~~~~~~~~~~~~~~~~~~~~~~~~~~~~~~~~~~~~~~~~~~~~~~~~~~~~~~~~~~~~~\n"
     ]
    }
   ],
   "source": [
    "# Identify rows with 'float' values in the 'SMILES' column\n",
    "float_rows = P05106_df_for_training['SMILES'].apply(lambda x: isinstance(x, float))\n",
    "\n",
    "# Display the rows with 'float' values\n",
    "float_rows_data = P05106_df_for_training[float_rows]\n",
    "\n",
    "PRINT(float_rows_data)"
   ]
  },
  {
   "cell_type": "code",
   "execution_count": 79,
   "id": "39a2ac01-30fd-4b52-b4d7-bcd70c607e0e",
   "metadata": {},
   "outputs": [],
   "source": [
    "# Drop rows with 'float' values in the 'SMILES' column\n",
    "P05106_df_for_training = P05106_df_for_training[~float_rows]"
   ]
  },
  {
   "cell_type": "code",
   "execution_count": 80,
   "id": "2a57642d-884a-4828-bd20-cab56aa5271f",
   "metadata": {},
   "outputs": [
    {
     "name": "stdout",
     "output_type": "stream",
     "text": [
      "~~~~~~~~~~~~~~~~~~~~~~~~~~~~~~~~~~~~~~~~~~~~~~~~~~~~~~~~~~~~~~~~~~~~~~~~~~~~~~~~\n",
      "SMILES\n",
      "<class 'str'>    4524\n",
      "Name: count, dtype: int64\n",
      "~~~~~~~~~~~~~~~~~~~~~~~~~~~~~~~~~~~~~~~~~~~~~~~~~~~~~~~~~~~~~~~~~~~~~~~~~~~~~~~~\n",
      "~~~~~~~~~~~~~~~~~~~~~~~~~~~~~~~~~~~~~~~~~~~~~~~~~~~~~~~~~~~~~~~~~~~~~~~~~~~~~~~~\n",
      "Done.\n",
      "~~~~~~~~~~~~~~~~~~~~~~~~~~~~~~~~~~~~~~~~~~~~~~~~~~~~~~~~~~~~~~~~~~~~~~~~~~~~~~~~\n"
     ]
    }
   ],
   "source": [
    "PRINT(P05106_df_for_training['SMILES'].apply(type).value_counts())\n",
    "PRINT('Done.')"
   ]
  },
  {
   "cell_type": "markdown",
   "id": "09ea8ce8-2367-41d8-b90e-3c76f579a19f",
   "metadata": {},
   "source": [
    "#### Quick Dataset Analyse ####"
   ]
  },
  {
   "cell_type": "markdown",
   "id": "b6042236-3663-409e-8bfd-25c6451f9eb1",
   "metadata": {},
   "source": [
    "- **Size of the data frame:** 4526 - 2 = 4524\n",
    "\n",
    "---\n",
    "\n",
    "- **Number of times each protein appears:**\n",
    "  - P06756: 2095 - 1 = 2094\n",
    "  - P08514: 5686 - 1 = 5685\n",
    "  - P17301: 20\n",
    "  - P26006: 25 = 2057\n",
    "\n",
    "---"
   ]
  },
  {
   "cell_type": "markdown",
   "id": "0c9f4098-bda5-4510-8cef-bd3cd898e816",
   "metadata": {},
   "source": [
    "#### Random Forest Multiclass Classifier Model for P05106 with added RDKitDescriptors Features ####"
   ]
  },
  {
   "cell_type": "code",
   "execution_count": 81,
   "id": "e6b1762d-ecb1-49dd-945d-7d63d35bf606",
   "metadata": {},
   "outputs": [],
   "source": [
    "P05106_df_for_training_ = GenerateFeaturesByMoleculeSMILES(df=P05106_df_for_training)"
   ]
  },
  {
   "cell_type": "code",
   "execution_count": 82,
   "id": "5dd49794-406f-455d-9709-339d3f10d5f3",
   "metadata": {},
   "outputs": [
    {
     "data": {
      "text/html": [
       "<div>\n",
       "<style scoped>\n",
       "    .dataframe tbody tr th:only-of-type {\n",
       "        vertical-align: middle;\n",
       "    }\n",
       "\n",
       "    .dataframe tbody tr th {\n",
       "        vertical-align: top;\n",
       "    }\n",
       "\n",
       "    .dataframe thead th {\n",
       "        text-align: right;\n",
       "    }\n",
       "</style>\n",
       "<table border=\"1\" class=\"dataframe\">\n",
       "  <thead>\n",
       "    <tr style=\"text-align: right;\">\n",
       "      <th></th>\n",
       "      <th>SMILES</th>\n",
       "      <th>MolWt</th>\n",
       "      <th>NumValenceElectrons</th>\n",
       "      <th>TPSA</th>\n",
       "      <th>MolLogP</th>\n",
       "      <th>NumHeteroatoms</th>\n",
       "      <th>NumRotatableBonds</th>\n",
       "      <th>HeavyAtomCount</th>\n",
       "      <th>FractionCSP3</th>\n",
       "      <th>NumericUniProtTargetLabels</th>\n",
       "    </tr>\n",
       "  </thead>\n",
       "  <tbody>\n",
       "    <tr>\n",
       "      <th>0</th>\n",
       "      <td>CNc1cccc(CCOc2ccc(C[C@H](NC(=O)c3ccc(F)cc3C)C(...</td>\n",
       "      <td>451.498</td>\n",
       "      <td>172</td>\n",
       "      <td>100.55</td>\n",
       "      <td>3.61802</td>\n",
       "      <td>8</td>\n",
       "      <td>10</td>\n",
       "      <td>33</td>\n",
       "      <td>0.240000</td>\n",
       "      <td>0</td>\n",
       "    </tr>\n",
       "    <tr>\n",
       "      <th>1</th>\n",
       "      <td>N=C(N)Nc1cccc(C(=O)NNC(=O)NC(CC(=O)O)c2cccc3cc...</td>\n",
       "      <td>434.456</td>\n",
       "      <td>164</td>\n",
       "      <td>169.43</td>\n",
       "      <td>2.30517</td>\n",
       "      <td>10</td>\n",
       "      <td>6</td>\n",
       "      <td>32</td>\n",
       "      <td>0.090909</td>\n",
       "      <td>1</td>\n",
       "    </tr>\n",
       "  </tbody>\n",
       "</table>\n",
       "</div>"
      ],
      "text/plain": [
       "                                              SMILES    MolWt  \\\n",
       "0  CNc1cccc(CCOc2ccc(C[C@H](NC(=O)c3ccc(F)cc3C)C(...  451.498   \n",
       "1  N=C(N)Nc1cccc(C(=O)NNC(=O)NC(CC(=O)O)c2cccc3cc...  434.456   \n",
       "\n",
       "   NumValenceElectrons    TPSA  MolLogP  NumHeteroatoms  NumRotatableBonds  \\\n",
       "0                  172  100.55  3.61802               8                 10   \n",
       "1                  164  169.43  2.30517              10                  6   \n",
       "\n",
       "   HeavyAtomCount  FractionCSP3  NumericUniProtTargetLabels  \n",
       "0              33      0.240000                           0  \n",
       "1              32      0.090909                           1  "
      ]
     },
     "execution_count": 82,
     "metadata": {},
     "output_type": "execute_result"
    }
   ],
   "source": [
    "P05106_df_for_training_.head(2)"
   ]
  },
  {
   "cell_type": "code",
   "execution_count": 83,
   "id": "e39ab390-6b04-4d9c-aa50-762ce5b3f4f0",
   "metadata": {},
   "outputs": [
    {
     "name": "stdout",
     "output_type": "stream",
     "text": [
      "Classification Report:\n",
      "              precision    recall  f1-score   support\n",
      "\n",
      "           0       0.60      0.62      0.61       419\n",
      "           1       0.66      0.63      0.64       477\n",
      "           2       1.00      0.25      0.40         4\n",
      "           3       0.21      0.60      0.32         5\n",
      "\n",
      "    accuracy                           0.62       905\n",
      "   macro avg       0.62      0.52      0.49       905\n",
      "weighted avg       0.63      0.62      0.62       905\n",
      "\n",
      "~~~~~~~~~~~~~~~~~~~~~~~~~~~~~~~~~~~~~~~~~~~~~~~~~~~~~~~~~~~~~~~~~~~~~~~~~~~~~~~~\n",
      "Mean ROC AUC: 0.726, Std Dev ROC AUC: 0.013\n",
      "~~~~~~~~~~~~~~~~~~~~~~~~~~~~~~~~~~~~~~~~~~~~~~~~~~~~~~~~~~~~~~~~~~~~~~~~~~~~~~~~\n",
      "~~~~~~~~~~~~~~~~~~~~~~~~~~~~~~~~~~~~~~~~~~~~~~~~~~~~~~~~~~~~~~~~~~~~~~~~~~~~~~~~\n",
      "Done training Random Forest Multicalss Classifier Model for UniProt P05106 using RKDitDescriptors features\n",
      "~~~~~~~~~~~~~~~~~~~~~~~~~~~~~~~~~~~~~~~~~~~~~~~~~~~~~~~~~~~~~~~~~~~~~~~~~~~~~~~~\n"
     ]
    }
   ],
   "source": [
    "weight_dict = 'balanced'\n",
    "\n",
    "rf_model_tuple_P05106 = GenerateRandomForestModel(df=P05106_df_for_training_, weight_dict=weight_dict, if_binary=False, bootstrap=True)\n",
    "PRINT(f'Done training Random Forest Multicalss Classifier Model for UniProt P05106 using RKDitDescriptors features')"
   ]
  },
  {
   "cell_type": "code",
   "execution_count": 84,
   "id": "118e3a57-93c1-4883-9801-27d414e3a0ab",
   "metadata": {},
   "outputs": [
    {
     "name": "stdout",
     "output_type": "stream",
     "text": [
      "~~~~~~~~~~~~~~~~~~~~~~~~~~~~~~~~~~~~~~~~~~~~~~~~~~~~~~~~~~~~~~~~~~~~~~~~~~~~~~~~\n",
      "The results of Random Forest Multiclass Classifier model\n",
      "using RDKitDescriptors features for UniProt P05106 are:\n",
      "~~~~~~~~~~~~~~~~~~~~~~~~~~~~~~~~~~~~~~~~~~~~~~~~~~~~~~~~~~~~~~~~~~~~~~~~~~~~~~~~\n",
      "accuracy: 0.623\n",
      "roc_auc_mean_score: 0.726\n",
      "roc_auc_std_score: 0.013\n",
      "precision: 0.630\n",
      "recall: 0.623\n",
      "f1_score: 0.625\n",
      "confusion_matrix: [[260, 153, 0, 6], [175, 300, 0, 2], [0, 0, 1, 3], [0, 2, 0, 3]]\n",
      "~~~~~~~~~~~~~~~~~~~~~~~~~~~~~~~~~~~~~~~~~~~~~~~~~~~~~~~~~~~~~~~~~~~~~~~~~~~~~~~~\n",
      "Done.\n",
      "~~~~~~~~~~~~~~~~~~~~~~~~~~~~~~~~~~~~~~~~~~~~~~~~~~~~~~~~~~~~~~~~~~~~~~~~~~~~~~~~\n"
     ]
    }
   ],
   "source": [
    "PRINT(f'The results of Random Forest Multiclass Classifier model\\nusing RDKitDescriptors features for UniProt P05106 are:')\n",
    "print_dict_meaningful(rf_model_tuple_P05106[1])\n",
    "PRINT(f'Done.')"
   ]
  },
  {
   "cell_type": "markdown",
   "id": "b698897a-e23d-48a5-b7a2-31bb190957b5",
   "metadata": {},
   "source": [
    "#### XGBoost Multiclass Classifier Model using RKDitDescriptors features for P05106 ####"
   ]
  },
  {
   "cell_type": "code",
   "execution_count": 85,
   "id": "160a0f99-c142-44f2-a7f4-2d764b5be4f5",
   "metadata": {},
   "outputs": [
    {
     "name": "stdout",
     "output_type": "stream",
     "text": [
      "Classification Report:\n",
      "              precision    recall  f1-score   support\n",
      "\n",
      "           0       0.61      0.65      0.63       419\n",
      "           1       0.68      0.62      0.65       477\n",
      "           2       0.12      0.25      0.17         4\n",
      "           3       0.36      0.80      0.50         5\n",
      "\n",
      "    accuracy                           0.63       905\n",
      "   macro avg       0.44      0.58      0.49       905\n",
      "weighted avg       0.64      0.63      0.64       905\n",
      "\n",
      "~~~~~~~~~~~~~~~~~~~~~~~~~~~~~~~~~~~~~~~~~~~~~~~~~~~~~~~~~~~~~~~~~~~~~~~~~~~~~~~~\n",
      "Mean ROC AUC: 0.725, Std Dev ROC AUC: 0.014\n",
      "~~~~~~~~~~~~~~~~~~~~~~~~~~~~~~~~~~~~~~~~~~~~~~~~~~~~~~~~~~~~~~~~~~~~~~~~~~~~~~~~\n",
      "~~~~~~~~~~~~~~~~~~~~~~~~~~~~~~~~~~~~~~~~~~~~~~~~~~~~~~~~~~~~~~~~~~~~~~~~~~~~~~~~\n",
      "Done training XGBoost Multicalss Classifier Model for UniProt P05106 using RKDitDescriptors features\n",
      "~~~~~~~~~~~~~~~~~~~~~~~~~~~~~~~~~~~~~~~~~~~~~~~~~~~~~~~~~~~~~~~~~~~~~~~~~~~~~~~~\n"
     ]
    }
   ],
   "source": [
    "weight_dict = 'balanced'\n",
    "\n",
    "xgb_model_tuple_P05106 = GenerateXGBoostModel(df=P05106_df_for_training_, weight_dict=weight_dict, if_binary=False, bootstrap=True)\n",
    "PRINT(f'Done training XGBoost Multicalss Classifier Model for UniProt P05106 using RKDitDescriptors features')"
   ]
  },
  {
   "cell_type": "code",
   "execution_count": 86,
   "id": "e0f49555-7b06-456e-b975-5eb9426cfdcf",
   "metadata": {},
   "outputs": [
    {
     "name": "stdout",
     "output_type": "stream",
     "text": [
      "~~~~~~~~~~~~~~~~~~~~~~~~~~~~~~~~~~~~~~~~~~~~~~~~~~~~~~~~~~~~~~~~~~~~~~~~~~~~~~~~\n",
      "The results of the best XGBoost Multiclass Classifier model for\n",
      "UniProt P05106 are:\n",
      "~~~~~~~~~~~~~~~~~~~~~~~~~~~~~~~~~~~~~~~~~~~~~~~~~~~~~~~~~~~~~~~~~~~~~~~~~~~~~~~~\n",
      "accuracy: 0.634\n",
      "roc_auc_mean_score: 0.725\n",
      "roc_auc_std_score: 0.014\n",
      "precision: 0.641\n",
      "recall: 0.634\n",
      "f1_score: 0.636\n",
      "confusion_matrix: [[271, 141, 5, 2], [175, 298, 2, 2], [0, 0, 1, 3], [0, 1, 0, 4]]\n",
      "~~~~~~~~~~~~~~~~~~~~~~~~~~~~~~~~~~~~~~~~~~~~~~~~~~~~~~~~~~~~~~~~~~~~~~~~~~~~~~~~\n",
      "Done.\n",
      "~~~~~~~~~~~~~~~~~~~~~~~~~~~~~~~~~~~~~~~~~~~~~~~~~~~~~~~~~~~~~~~~~~~~~~~~~~~~~~~~\n"
     ]
    }
   ],
   "source": [
    "PRINT(f'The results of the best XGBoost Multiclass Classifier model for\\nUniProt P05106 are:')\n",
    "print_dict_meaningful(xgb_model_tuple_P05106[1])\n",
    "PRINT(f'Done.')"
   ]
  },
  {
   "cell_type": "markdown",
   "id": "ac5ce9b1-a8e7-47b6-b8a2-e8f830cd127e",
   "metadata": {},
   "source": [
    "#### Random Forest Multiclass Classifier Model for P05106 with added Morgan Fingerprints Features ####"
   ]
  },
  {
   "cell_type": "code",
   "execution_count": 87,
   "id": "8cfbcdd5-6106-475f-87c5-1227225514db",
   "metadata": {},
   "outputs": [],
   "source": [
    "P05106_df_for_training__ = GenerateMorganFingerprintsFeaturesByMoleculeSMILES(df=P05106_df_for_training, size=1024, radius=2)"
   ]
  },
  {
   "cell_type": "code",
   "execution_count": 88,
   "id": "f2e665dc-db50-42b6-a16a-a016e36f9cea",
   "metadata": {},
   "outputs": [
    {
     "data": {
      "text/html": [
       "<div>\n",
       "<style scoped>\n",
       "    .dataframe tbody tr th:only-of-type {\n",
       "        vertical-align: middle;\n",
       "    }\n",
       "\n",
       "    .dataframe tbody tr th {\n",
       "        vertical-align: top;\n",
       "    }\n",
       "\n",
       "    .dataframe thead th {\n",
       "        text-align: right;\n",
       "    }\n",
       "</style>\n",
       "<table border=\"1\" class=\"dataframe\">\n",
       "  <thead>\n",
       "    <tr style=\"text-align: right;\">\n",
       "      <th></th>\n",
       "      <th>SMILES</th>\n",
       "      <th>NumericUniProtTargetLabels</th>\n",
       "      <th>Feature_0</th>\n",
       "      <th>Feature_1</th>\n",
       "      <th>Feature_2</th>\n",
       "      <th>Feature_3</th>\n",
       "      <th>Feature_4</th>\n",
       "      <th>Feature_5</th>\n",
       "      <th>Feature_6</th>\n",
       "      <th>Feature_7</th>\n",
       "      <th>...</th>\n",
       "      <th>Feature_1014</th>\n",
       "      <th>Feature_1015</th>\n",
       "      <th>Feature_1016</th>\n",
       "      <th>Feature_1017</th>\n",
       "      <th>Feature_1018</th>\n",
       "      <th>Feature_1019</th>\n",
       "      <th>Feature_1020</th>\n",
       "      <th>Feature_1021</th>\n",
       "      <th>Feature_1022</th>\n",
       "      <th>Feature_1023</th>\n",
       "    </tr>\n",
       "  </thead>\n",
       "  <tbody>\n",
       "    <tr>\n",
       "      <th>0</th>\n",
       "      <td>CNc1cccc(CCOc2ccc(C[C@H](NC(=O)c3ccc(F)cc3C)C(...</td>\n",
       "      <td>0.0</td>\n",
       "      <td>0.0</td>\n",
       "      <td>1.0</td>\n",
       "      <td>0.0</td>\n",
       "      <td>0.0</td>\n",
       "      <td>0.0</td>\n",
       "      <td>0.0</td>\n",
       "      <td>0.0</td>\n",
       "      <td>0.0</td>\n",
       "      <td>...</td>\n",
       "      <td>0.0</td>\n",
       "      <td>0.0</td>\n",
       "      <td>0.0</td>\n",
       "      <td>1.0</td>\n",
       "      <td>0.0</td>\n",
       "      <td>0.0</td>\n",
       "      <td>0.0</td>\n",
       "      <td>0.0</td>\n",
       "      <td>0.0</td>\n",
       "      <td>0.0</td>\n",
       "    </tr>\n",
       "    <tr>\n",
       "      <th>1</th>\n",
       "      <td>N=C(N)Nc1cccc(C(=O)NNC(=O)NC(CC(=O)O)c2cccc3cc...</td>\n",
       "      <td>1.0</td>\n",
       "      <td>0.0</td>\n",
       "      <td>1.0</td>\n",
       "      <td>0.0</td>\n",
       "      <td>0.0</td>\n",
       "      <td>0.0</td>\n",
       "      <td>0.0</td>\n",
       "      <td>0.0</td>\n",
       "      <td>0.0</td>\n",
       "      <td>...</td>\n",
       "      <td>0.0</td>\n",
       "      <td>0.0</td>\n",
       "      <td>0.0</td>\n",
       "      <td>0.0</td>\n",
       "      <td>0.0</td>\n",
       "      <td>0.0</td>\n",
       "      <td>0.0</td>\n",
       "      <td>0.0</td>\n",
       "      <td>0.0</td>\n",
       "      <td>0.0</td>\n",
       "    </tr>\n",
       "  </tbody>\n",
       "</table>\n",
       "<p>2 rows × 1026 columns</p>\n",
       "</div>"
      ],
      "text/plain": [
       "                                              SMILES  \\\n",
       "0  CNc1cccc(CCOc2ccc(C[C@H](NC(=O)c3ccc(F)cc3C)C(...   \n",
       "1  N=C(N)Nc1cccc(C(=O)NNC(=O)NC(CC(=O)O)c2cccc3cc...   \n",
       "\n",
       "   NumericUniProtTargetLabels  Feature_0  Feature_1  Feature_2  Feature_3  \\\n",
       "0                         0.0        0.0        1.0        0.0        0.0   \n",
       "1                         1.0        0.0        1.0        0.0        0.0   \n",
       "\n",
       "   Feature_4  Feature_5  Feature_6  Feature_7  ...  Feature_1014  \\\n",
       "0        0.0        0.0        0.0        0.0  ...           0.0   \n",
       "1        0.0        0.0        0.0        0.0  ...           0.0   \n",
       "\n",
       "   Feature_1015  Feature_1016  Feature_1017  Feature_1018  Feature_1019  \\\n",
       "0           0.0           0.0           1.0           0.0           0.0   \n",
       "1           0.0           0.0           0.0           0.0           0.0   \n",
       "\n",
       "   Feature_1020  Feature_1021  Feature_1022  Feature_1023  \n",
       "0           0.0           0.0           0.0           0.0  \n",
       "1           0.0           0.0           0.0           0.0  \n",
       "\n",
       "[2 rows x 1026 columns]"
      ]
     },
     "execution_count": 88,
     "metadata": {},
     "output_type": "execute_result"
    }
   ],
   "source": [
    "P05106_df_for_training__.head(2)"
   ]
  },
  {
   "cell_type": "markdown",
   "id": "74cd4efb-3743-4118-aacb-43832b7cf34b",
   "metadata": {},
   "source": [
    "##### Handle Bad Rows #####"
   ]
  },
  {
   "cell_type": "code",
   "execution_count": 89,
   "id": "22a93893-a9fb-41bc-8896-bb9a13772862",
   "metadata": {},
   "outputs": [
    {
     "name": "stdout",
     "output_type": "stream",
     "text": [
      "~~~~~~~~~~~~~~~~~~~~~~~~~~~~~~~~~~~~~~~~~~~~~~~~~~~~~~~~~~~~~~~~~~~~~~~~~~~~~~~~\n",
      "4 rows were dropped.\n",
      "~~~~~~~~~~~~~~~~~~~~~~~~~~~~~~~~~~~~~~~~~~~~~~~~~~~~~~~~~~~~~~~~~~~~~~~~~~~~~~~~\n"
     ]
    }
   ],
   "source": [
    "original_rows = P05106_df_for_training__.shape[0]\n",
    "\n",
    "P05106_df_for_training__ = P05106_df_for_training__.dropna()\n",
    "\n",
    "# Calculate the number of dropped rows\n",
    "dropped_rows = original_rows - P05106_df_for_training__.shape[0]\n",
    "\n",
    "PRINT(f\"{dropped_rows} rows were dropped.\")"
   ]
  },
  {
   "cell_type": "code",
   "execution_count": 90,
   "id": "b9c91d79-f913-4465-9767-83feb5eba307",
   "metadata": {},
   "outputs": [],
   "source": [
    "# Conver target labels into int\n",
    "P05106_df_for_training__['NumericUniProtTargetLabels'] = P05106_df_for_training__['NumericUniProtTargetLabels'].astype(int)"
   ]
  },
  {
   "cell_type": "code",
   "execution_count": 91,
   "id": "ea297bed-d82f-4482-9a5a-8d690ba0e0a9",
   "metadata": {},
   "outputs": [
    {
     "name": "stdout",
     "output_type": "stream",
     "text": [
      "Classification Report:\n",
      "              precision    recall  f1-score   support\n",
      "\n",
      "           0       0.61      0.74      0.67       419\n",
      "           1       0.73      0.57      0.64       477\n",
      "           2       0.20      0.25      0.22         4\n",
      "           3       0.27      0.80      0.40         5\n",
      "\n",
      "    accuracy                           0.65       905\n",
      "   macro avg       0.45      0.59      0.48       905\n",
      "weighted avg       0.67      0.65      0.65       905\n",
      "\n",
      "~~~~~~~~~~~~~~~~~~~~~~~~~~~~~~~~~~~~~~~~~~~~~~~~~~~~~~~~~~~~~~~~~~~~~~~~~~~~~~~~\n",
      "Mean ROC AUC: 0.720, Std Dev ROC AUC: 0.016\n",
      "~~~~~~~~~~~~~~~~~~~~~~~~~~~~~~~~~~~~~~~~~~~~~~~~~~~~~~~~~~~~~~~~~~~~~~~~~~~~~~~~\n",
      "~~~~~~~~~~~~~~~~~~~~~~~~~~~~~~~~~~~~~~~~~~~~~~~~~~~~~~~~~~~~~~~~~~~~~~~~~~~~~~~~\n",
      "Done training Random Forest Multicalss Classifier Model for UniProt P05106 using Morgan Fingerprints features\n",
      "~~~~~~~~~~~~~~~~~~~~~~~~~~~~~~~~~~~~~~~~~~~~~~~~~~~~~~~~~~~~~~~~~~~~~~~~~~~~~~~~\n"
     ]
    }
   ],
   "source": [
    "weight_dict = 'balanced'\n",
    "\n",
    "rf_model_tuple_P05106_ = GenerateRandomForestModel(df=P05106_df_for_training__, weight_dict=weight_dict, if_binary=False, bootstrap=True)\n",
    "PRINT(f'Done training Random Forest Multicalss Classifier Model for UniProt P05106 using Morgan Fingerprints features')"
   ]
  },
  {
   "cell_type": "code",
   "execution_count": 92,
   "id": "c4e8ecac-8f68-43c9-93cd-686e571a5156",
   "metadata": {},
   "outputs": [
    {
     "name": "stdout",
     "output_type": "stream",
     "text": [
      "~~~~~~~~~~~~~~~~~~~~~~~~~~~~~~~~~~~~~~~~~~~~~~~~~~~~~~~~~~~~~~~~~~~~~~~~~~~~~~~~\n",
      "The results of Random Forest Multiclass Classifier model\n",
      "using Morgan Fingerprints features for UniProt P05106 are:\n",
      "~~~~~~~~~~~~~~~~~~~~~~~~~~~~~~~~~~~~~~~~~~~~~~~~~~~~~~~~~~~~~~~~~~~~~~~~~~~~~~~~\n",
      "accuracy: 0.652\n",
      "roc_auc_mean_score: 0.720\n",
      "roc_auc_std_score: 0.016\n",
      "precision: 0.669\n",
      "recall: 0.652\n",
      "f1_score: 0.652\n",
      "confusion_matrix: [[311, 101, 3, 4], [195, 274, 1, 7], [2, 1, 1, 0], [0, 1, 0, 4]]\n",
      "~~~~~~~~~~~~~~~~~~~~~~~~~~~~~~~~~~~~~~~~~~~~~~~~~~~~~~~~~~~~~~~~~~~~~~~~~~~~~~~~\n",
      "Done.\n",
      "~~~~~~~~~~~~~~~~~~~~~~~~~~~~~~~~~~~~~~~~~~~~~~~~~~~~~~~~~~~~~~~~~~~~~~~~~~~~~~~~\n"
     ]
    }
   ],
   "source": [
    "PRINT(f'The results of Random Forest Multiclass Classifier model\\nusing Morgan Fingerprints features for UniProt P05106 are:')\n",
    "print_dict_meaningful(rf_model_tuple_P05106_[1])\n",
    "PRINT(f'Done.')"
   ]
  },
  {
   "cell_type": "markdown",
   "id": "efa44212-1677-46d2-b1b9-e74b4bc8c24e",
   "metadata": {},
   "source": [
    "#### XGBoost Multiclass Classifier Model for P05106 with added Morgan Fingerprints Features ####"
   ]
  },
  {
   "cell_type": "code",
   "execution_count": 94,
   "id": "9887fcc3-da95-4d0e-aea7-175da5b89b81",
   "metadata": {},
   "outputs": [
    {
     "name": "stdout",
     "output_type": "stream",
     "text": [
      "Classification Report:\n",
      "              precision    recall  f1-score   support\n",
      "\n",
      "           0       0.61      0.75      0.67       419\n",
      "           1       0.73      0.56      0.63       477\n",
      "           2       0.14      0.25      0.18         4\n",
      "           3       0.31      0.80      0.44         5\n",
      "\n",
      "    accuracy                           0.65       905\n",
      "   macro avg       0.45      0.59      0.48       905\n",
      "weighted avg       0.67      0.65      0.65       905\n",
      "\n",
      "~~~~~~~~~~~~~~~~~~~~~~~~~~~~~~~~~~~~~~~~~~~~~~~~~~~~~~~~~~~~~~~~~~~~~~~~~~~~~~~~\n",
      "Mean ROC AUC: 0.717, Std Dev ROC AUC: 0.016\n",
      "~~~~~~~~~~~~~~~~~~~~~~~~~~~~~~~~~~~~~~~~~~~~~~~~~~~~~~~~~~~~~~~~~~~~~~~~~~~~~~~~\n",
      "~~~~~~~~~~~~~~~~~~~~~~~~~~~~~~~~~~~~~~~~~~~~~~~~~~~~~~~~~~~~~~~~~~~~~~~~~~~~~~~~\n",
      "Done training XGBoost Multicalss Classifier Model for UniProt P05106 using Morgan Fingerprints features\n",
      "~~~~~~~~~~~~~~~~~~~~~~~~~~~~~~~~~~~~~~~~~~~~~~~~~~~~~~~~~~~~~~~~~~~~~~~~~~~~~~~~\n"
     ]
    }
   ],
   "source": [
    "weight_dict = 'balanced'\n",
    "\n",
    "xgb_model_tuple_P05106_ = GenerateXGBoostModel(df=P05106_df_for_training__, weight_dict=weight_dict, if_binary=False, bootstrap=True)\n",
    "PRINT(f'Done training XGBoost Multicalss Classifier Model for UniProt P05106 using Morgan Fingerprints features')"
   ]
  },
  {
   "cell_type": "code",
   "execution_count": 95,
   "id": "002086e0-7854-4717-9ebb-4f5c32d84590",
   "metadata": {},
   "outputs": [
    {
     "name": "stdout",
     "output_type": "stream",
     "text": [
      "~~~~~~~~~~~~~~~~~~~~~~~~~~~~~~~~~~~~~~~~~~~~~~~~~~~~~~~~~~~~~~~~~~~~~~~~~~~~~~~~\n",
      "The results of XGBoost Multiclass Classifier model\n",
      "using Morgan Fingerprints features for UniProt P05106 are:\n",
      "~~~~~~~~~~~~~~~~~~~~~~~~~~~~~~~~~~~~~~~~~~~~~~~~~~~~~~~~~~~~~~~~~~~~~~~~~~~~~~~~\n",
      "accuracy: 0.646\n",
      "roc_auc_mean_score: 0.717\n",
      "roc_auc_std_score: 0.016\n",
      "precision: 0.665\n",
      "recall: 0.646\n",
      "f1_score: 0.646\n",
      "confusion_matrix: [[313, 99, 3, 4], [202, 267, 3, 5], [2, 1, 1, 0], [0, 1, 0, 4]]\n",
      "~~~~~~~~~~~~~~~~~~~~~~~~~~~~~~~~~~~~~~~~~~~~~~~~~~~~~~~~~~~~~~~~~~~~~~~~~~~~~~~~\n",
      "Done.\n",
      "~~~~~~~~~~~~~~~~~~~~~~~~~~~~~~~~~~~~~~~~~~~~~~~~~~~~~~~~~~~~~~~~~~~~~~~~~~~~~~~~\n"
     ]
    }
   ],
   "source": [
    "PRINT(f'The results of XGBoost Multiclass Classifier model\\nusing Morgan Fingerprints features for UniProt P05106 are:')\n",
    "print_dict_meaningful(xgb_model_tuple_P05106_[1])\n",
    "PRINT(f'Done.')"
   ]
  },
  {
   "cell_type": "markdown",
   "id": "4dde8562-da3f-487e-a468-8f624b838aa5",
   "metadata": {},
   "source": [
    "----\n",
    "#### Pickup the best model trained so far for UniProt P05106 ####"
   ]
  },
  {
   "cell_type": "markdown",
   "id": "269d05b6-b946-49c4-b598-639470a2eb14",
   "metadata": {},
   "source": [
    "##### Visualize Trained Models Preformances #####"
   ]
  },
  {
   "cell_type": "code",
   "execution_count": 96,
   "id": "217d2733-ffb2-4f50-a3a8-5040cc386c0f",
   "metadata": {},
   "outputs": [
    {
     "data": {
      "text/html": [
       "<div>\n",
       "<style scoped>\n",
       "    .dataframe tbody tr th:only-of-type {\n",
       "        vertical-align: middle;\n",
       "    }\n",
       "\n",
       "    .dataframe tbody tr th {\n",
       "        vertical-align: top;\n",
       "    }\n",
       "\n",
       "    .dataframe thead th {\n",
       "        text-align: right;\n",
       "    }\n",
       "</style>\n",
       "<table border=\"1\" class=\"dataframe\">\n",
       "  <thead>\n",
       "    <tr style=\"text-align: right;\">\n",
       "      <th></th>\n",
       "      <th>RM_RDKit</th>\n",
       "      <th>XGB_RDKit</th>\n",
       "      <th>RM_MF</th>\n",
       "      <th>XGB_MF</th>\n",
       "    </tr>\n",
       "  </thead>\n",
       "  <tbody>\n",
       "    <tr>\n",
       "      <th>accuracy</th>\n",
       "      <td>0.623204</td>\n",
       "      <td>0.634254</td>\n",
       "      <td>0.651934</td>\n",
       "      <td>0.646409</td>\n",
       "    </tr>\n",
       "    <tr>\n",
       "      <th>roc_auc_mean_score</th>\n",
       "      <td>0.725559</td>\n",
       "      <td>0.72463</td>\n",
       "      <td>0.72043</td>\n",
       "      <td>0.716668</td>\n",
       "    </tr>\n",
       "    <tr>\n",
       "      <th>roc_auc_std_score</th>\n",
       "      <td>0.013173</td>\n",
       "      <td>0.013968</td>\n",
       "      <td>0.015968</td>\n",
       "      <td>0.016165</td>\n",
       "    </tr>\n",
       "    <tr>\n",
       "      <th>precision</th>\n",
       "      <td>0.629849</td>\n",
       "      <td>0.640852</td>\n",
       "      <td>0.668869</td>\n",
       "      <td>0.665042</td>\n",
       "    </tr>\n",
       "    <tr>\n",
       "      <th>recall</th>\n",
       "      <td>0.623204</td>\n",
       "      <td>0.634254</td>\n",
       "      <td>0.651934</td>\n",
       "      <td>0.646409</td>\n",
       "    </tr>\n",
       "    <tr>\n",
       "      <th>f1_score</th>\n",
       "      <td>0.62474</td>\n",
       "      <td>0.636168</td>\n",
       "      <td>0.65206</td>\n",
       "      <td>0.645988</td>\n",
       "    </tr>\n",
       "    <tr>\n",
       "      <th>confusion_matrix</th>\n",
       "      <td>[[260, 153, 0, 6], [175, 300, 0, 2], [0, 0, 1,...</td>\n",
       "      <td>[[271, 141, 5, 2], [175, 298, 2, 2], [0, 0, 1,...</td>\n",
       "      <td>[[311, 101, 3, 4], [195, 274, 1, 7], [2, 1, 1,...</td>\n",
       "      <td>[[313, 99, 3, 4], [202, 267, 3, 5], [2, 1, 1, ...</td>\n",
       "    </tr>\n",
       "  </tbody>\n",
       "</table>\n",
       "</div>"
      ],
      "text/plain": [
       "                                                             RM_RDKit  \\\n",
       "accuracy                                                     0.623204   \n",
       "roc_auc_mean_score                                           0.725559   \n",
       "roc_auc_std_score                                            0.013173   \n",
       "precision                                                    0.629849   \n",
       "recall                                                       0.623204   \n",
       "f1_score                                                      0.62474   \n",
       "confusion_matrix    [[260, 153, 0, 6], [175, 300, 0, 2], [0, 0, 1,...   \n",
       "\n",
       "                                                            XGB_RDKit  \\\n",
       "accuracy                                                     0.634254   \n",
       "roc_auc_mean_score                                            0.72463   \n",
       "roc_auc_std_score                                            0.013968   \n",
       "precision                                                    0.640852   \n",
       "recall                                                       0.634254   \n",
       "f1_score                                                     0.636168   \n",
       "confusion_matrix    [[271, 141, 5, 2], [175, 298, 2, 2], [0, 0, 1,...   \n",
       "\n",
       "                                                                RM_MF  \\\n",
       "accuracy                                                     0.651934   \n",
       "roc_auc_mean_score                                            0.72043   \n",
       "roc_auc_std_score                                            0.015968   \n",
       "precision                                                    0.668869   \n",
       "recall                                                       0.651934   \n",
       "f1_score                                                      0.65206   \n",
       "confusion_matrix    [[311, 101, 3, 4], [195, 274, 1, 7], [2, 1, 1,...   \n",
       "\n",
       "                                                               XGB_MF  \n",
       "accuracy                                                     0.646409  \n",
       "roc_auc_mean_score                                           0.716668  \n",
       "roc_auc_std_score                                            0.016165  \n",
       "precision                                                    0.665042  \n",
       "recall                                                       0.646409  \n",
       "f1_score                                                     0.645988  \n",
       "confusion_matrix    [[313, 99, 3, 4], [202, 267, 3, 5], [2, 1, 1, ...  "
      ]
     },
     "execution_count": 96,
     "metadata": {},
     "output_type": "execute_result"
    }
   ],
   "source": [
    "df_for_preformance_comparison = pd.DataFrame({\n",
    "    'RM_RDKit': list(rf_model_tuple_P05106[1].values()),\n",
    "    'XGB_RDKit': list(xgb_model_tuple_P05106[1].values()),\n",
    "    'RM_MF': list(rf_model_tuple_P05106_[1].values()),\n",
    "    'XGB_MF': list(xgb_model_tuple_P05106_[1].values())\n",
    "}, index=rf_model_tuple_P05106[1].keys())\n",
    "\n",
    "df_for_preformance_comparison.head(7)"
   ]
  },
  {
   "cell_type": "code",
   "execution_count": 97,
   "id": "06a17120-29ee-47d1-80fc-dc672e07e87a",
   "metadata": {},
   "outputs": [],
   "source": [
    "df_for_preformance_comparison.drop(df_for_preformance_comparison.index[-1], inplace=True)\n",
    "df_for_preformance_comparison.reset_index(drop=True, inplace=True)"
   ]
  },
  {
   "cell_type": "code",
   "execution_count": 98,
   "id": "c8826ef1-6516-4290-8c2a-9d8484af89a0",
   "metadata": {},
   "outputs": [
    {
     "data": {
      "text/html": [
       "<div>\n",
       "<style scoped>\n",
       "    .dataframe tbody tr th:only-of-type {\n",
       "        vertical-align: middle;\n",
       "    }\n",
       "\n",
       "    .dataframe tbody tr th {\n",
       "        vertical-align: top;\n",
       "    }\n",
       "\n",
       "    .dataframe thead th {\n",
       "        text-align: right;\n",
       "    }\n",
       "</style>\n",
       "<table border=\"1\" class=\"dataframe\">\n",
       "  <thead>\n",
       "    <tr style=\"text-align: right;\">\n",
       "      <th></th>\n",
       "      <th>RM_RDKit</th>\n",
       "      <th>XGB_RDKit</th>\n",
       "      <th>RM_MF</th>\n",
       "      <th>XGB_MF</th>\n",
       "    </tr>\n",
       "  </thead>\n",
       "  <tbody>\n",
       "    <tr>\n",
       "      <th>0</th>\n",
       "      <td>0.623204</td>\n",
       "      <td>0.634254</td>\n",
       "      <td>0.651934</td>\n",
       "      <td>0.646409</td>\n",
       "    </tr>\n",
       "    <tr>\n",
       "      <th>1</th>\n",
       "      <td>0.725559</td>\n",
       "      <td>0.72463</td>\n",
       "      <td>0.72043</td>\n",
       "      <td>0.716668</td>\n",
       "    </tr>\n",
       "    <tr>\n",
       "      <th>2</th>\n",
       "      <td>0.013173</td>\n",
       "      <td>0.013968</td>\n",
       "      <td>0.015968</td>\n",
       "      <td>0.016165</td>\n",
       "    </tr>\n",
       "    <tr>\n",
       "      <th>3</th>\n",
       "      <td>0.629849</td>\n",
       "      <td>0.640852</td>\n",
       "      <td>0.668869</td>\n",
       "      <td>0.665042</td>\n",
       "    </tr>\n",
       "    <tr>\n",
       "      <th>4</th>\n",
       "      <td>0.623204</td>\n",
       "      <td>0.634254</td>\n",
       "      <td>0.651934</td>\n",
       "      <td>0.646409</td>\n",
       "    </tr>\n",
       "    <tr>\n",
       "      <th>5</th>\n",
       "      <td>0.62474</td>\n",
       "      <td>0.636168</td>\n",
       "      <td>0.65206</td>\n",
       "      <td>0.645988</td>\n",
       "    </tr>\n",
       "  </tbody>\n",
       "</table>\n",
       "</div>"
      ],
      "text/plain": [
       "   RM_RDKit XGB_RDKit     RM_MF    XGB_MF\n",
       "0  0.623204  0.634254  0.651934  0.646409\n",
       "1  0.725559   0.72463   0.72043  0.716668\n",
       "2  0.013173  0.013968  0.015968  0.016165\n",
       "3  0.629849  0.640852  0.668869  0.665042\n",
       "4  0.623204  0.634254  0.651934  0.646409\n",
       "5   0.62474  0.636168   0.65206  0.645988"
      ]
     },
     "execution_count": 98,
     "metadata": {},
     "output_type": "execute_result"
    }
   ],
   "source": [
    "df_for_preformance_comparison.head(6)"
   ]
  },
  {
   "cell_type": "code",
   "execution_count": 99,
   "id": "ff8bfbe4-fbe9-4cdb-ab48-3c196b7fcc13",
   "metadata": {},
   "outputs": [
    {
     "data": {
      "image/png": "[encoded data removed]",
      "text/plain": [
       "<Figure size 1000x600 with 6 Axes>"
      ]
     },
     "metadata": {},
     "output_type": "display_data"
    }
   ],
   "source": [
    "plot_model_comparison_countplots(df=df_for_preformance_comparison)"
   ]
  },
  {
   "cell_type": "markdown",
   "id": "1dc21e95-e169-43c8-8493-d19b87cf4627",
   "metadata": {},
   "source": [
    "##### Choose & Save the Best Model ######"
   ]
  },
  {
   "cell_type": "markdown",
   "id": "99613a0c-11e5-4869-acb0-d7279c3151e7",
   "metadata": {},
   "source": [
    "By examining the performance plots of the models, it is evident that all models achieved high performances in accuracy, roc auc mean score, precision, recall, and f1 score. Additionally, all models obtained a roc auc std score below `0.02`, which is considered good. However, it is notable that the blue bar, representing the *Random Forest* multiclass classifier model using RDKitDescriptors features, obtained the highest scores and the lowest roc auc std score.\n",
    "\n",
    "Therefore, we will select this model as the preferred choice for UniProt P05106."
   ]
  },
  {
   "cell_type": "code",
   "execution_count": 101,
   "id": "4cc23d8a-b25d-4d74-acdc-271dad473fd3",
   "metadata": {},
   "outputs": [
    {
     "name": "stdout",
     "output_type": "stream",
     "text": [
      "~~~~~~~~~~~~~~~~~~~~~~~~~~~~~~~~~~~~~~~~~~~~~~~~~~~~~~~~~~~~~~~~~~~~~~~~~~~~~~~~\n",
      "Model Saved\n",
      "~~~~~~~~~~~~~~~~~~~~~~~~~~~~~~~~~~~~~~~~~~~~~~~~~~~~~~~~~~~~~~~~~~~~~~~~~~~~~~~~\n"
     ]
    }
   ],
   "source": [
    "path = os.path.join('models/Best Model of each UniProt Modified', 'rf_P05106_RDKD.joblib')\n",
    "dump(rf_model_tuple_P05106[0], path)\n",
    "\n",
    "PRINT('Model Saved')"
   ]
  },
  {
   "cell_type": "markdown",
   "id": "e62802b5-b8aa-4d30-939c-0ba9e8ba4d1a",
   "metadata": {},
   "source": [
    "---\n",
    "### Models for P08648 Protein ###"
   ]
  },
  {
   "cell_type": "code",
   "execution_count": 102,
   "id": "36388d35-c713-4b31-b3b5-b778e7d1b757",
   "metadata": {},
   "outputs": [
    {
     "name": "stdout",
     "output_type": "stream",
     "text": [
      "~~~~~~~~~~~~~~~~~~~~~~~~~~~~~~~~~~~~~~~~~~~~~~~~~~~~~~~~~~~~~~~~~~~~~~~~~~~~~~~~\n",
      "P08648 model labels -> ['P05556', 'P06756', 'P32297']\n",
      "~~~~~~~~~~~~~~~~~~~~~~~~~~~~~~~~~~~~~~~~~~~~~~~~~~~~~~~~~~~~~~~~~~~~~~~~~~~~~~~~\n",
      "~~~~~~~~~~~~~~~~~~~~~~~~~~~~~~~~~~~~~~~~~~~~~~~~~~~~~~~~~~~~~~~~~~~~~~~~~~~~~~~~\n",
      "Finished generating DataFrames for UniProt -> P08648.\n",
      "~~~~~~~~~~~~~~~~~~~~~~~~~~~~~~~~~~~~~~~~~~~~~~~~~~~~~~~~~~~~~~~~~~~~~~~~~~~~~~~~\n"
     ]
    }
   ],
   "source": [
    "P08648_df_for_training, P08648_df_with_uniprotes_col, mapped_label_dict_P08648 = generate_df_for_training_('P08648', 'P08648.csv', 'third_df_encoded.csv')"
   ]
  },
  {
   "cell_type": "code",
   "execution_count": 103,
   "id": "33d36832-583e-4f06-8aa4-970a0e22989e",
   "metadata": {},
   "outputs": [
    {
     "data": {
      "text/html": [
       "<div>\n",
       "<style scoped>\n",
       "    .dataframe tbody tr th:only-of-type {\n",
       "        vertical-align: middle;\n",
       "    }\n",
       "\n",
       "    .dataframe tbody tr th {\n",
       "        vertical-align: top;\n",
       "    }\n",
       "\n",
       "    .dataframe thead th {\n",
       "        text-align: right;\n",
       "    }\n",
       "</style>\n",
       "<table border=\"1\" class=\"dataframe\">\n",
       "  <thead>\n",
       "    <tr style=\"text-align: right;\">\n",
       "      <th></th>\n",
       "      <th>SMILES</th>\n",
       "      <th>NumericUniProtTargetLabels</th>\n",
       "    </tr>\n",
       "  </thead>\n",
       "  <tbody>\n",
       "    <tr>\n",
       "      <th>0</th>\n",
       "      <td>CCCN(C(=O)C(CC(=O)O)C(=O)O)C1=C(C)CC(c2ccccc2)...</td>\n",
       "      <td>0</td>\n",
       "    </tr>\n",
       "    <tr>\n",
       "      <th>1</th>\n",
       "      <td>Cc1cc(C)c(S(=O)(=O)N[C@@H](CNC(=O)CO[C@@H]2C[C...</td>\n",
       "      <td>0</td>\n",
       "    </tr>\n",
       "    <tr>\n",
       "      <th>2</th>\n",
       "      <td>CNc1cccc(CCOc2ccc(C[C@H](NC(=O)c3c(Cl)cncc3Cl)...</td>\n",
       "      <td>0</td>\n",
       "    </tr>\n",
       "  </tbody>\n",
       "</table>\n",
       "</div>"
      ],
      "text/plain": [
       "                                              SMILES  \\\n",
       "0  CCCN(C(=O)C(CC(=O)O)C(=O)O)C1=C(C)CC(c2ccccc2)...   \n",
       "1  Cc1cc(C)c(S(=O)(=O)N[C@@H](CNC(=O)CO[C@@H]2C[C...   \n",
       "2  CNc1cccc(CCOc2ccc(C[C@H](NC(=O)c3c(Cl)cncc3Cl)...   \n",
       "\n",
       "   NumericUniProtTargetLabels  \n",
       "0                           0  \n",
       "1                           0  \n",
       "2                           0  "
      ]
     },
     "execution_count": 103,
     "metadata": {},
     "output_type": "execute_result"
    }
   ],
   "source": [
    "P08648_df_for_training.head(3)"
   ]
  },
  {
   "cell_type": "code",
   "execution_count": 104,
   "id": "1b67521f-7ed2-41fe-a3da-93a4bd527eab",
   "metadata": {},
   "outputs": [
    {
     "data": {
      "text/html": [
       "<div>\n",
       "<style scoped>\n",
       "    .dataframe tbody tr th:only-of-type {\n",
       "        vertical-align: middle;\n",
       "    }\n",
       "\n",
       "    .dataframe tbody tr th {\n",
       "        vertical-align: top;\n",
       "    }\n",
       "\n",
       "    .dataframe thead th {\n",
       "        text-align: right;\n",
       "    }\n",
       "</style>\n",
       "<table border=\"1\" class=\"dataframe\">\n",
       "  <thead>\n",
       "    <tr style=\"text-align: right;\">\n",
       "      <th></th>\n",
       "      <th>SMILES</th>\n",
       "      <th>UniProtTargetLabels</th>\n",
       "      <th>NumericUniProtTargetLabels</th>\n",
       "    </tr>\n",
       "  </thead>\n",
       "  <tbody>\n",
       "    <tr>\n",
       "      <th>0</th>\n",
       "      <td>CCCN(C(=O)C(CC(=O)O)C(=O)O)C1=C(C)CC(c2ccccc2)...</td>\n",
       "      <td>P05556</td>\n",
       "      <td>0</td>\n",
       "    </tr>\n",
       "    <tr>\n",
       "      <th>1</th>\n",
       "      <td>Cc1cc(C)c(S(=O)(=O)N[C@@H](CNC(=O)CO[C@@H]2C[C...</td>\n",
       "      <td>P05556</td>\n",
       "      <td>0</td>\n",
       "    </tr>\n",
       "    <tr>\n",
       "      <th>2</th>\n",
       "      <td>CNc1cccc(CCOc2ccc(C[C@H](NC(=O)c3c(Cl)cncc3Cl)...</td>\n",
       "      <td>P05556</td>\n",
       "      <td>0</td>\n",
       "    </tr>\n",
       "  </tbody>\n",
       "</table>\n",
       "</div>"
      ],
      "text/plain": [
       "                                              SMILES UniProtTargetLabels  \\\n",
       "0  CCCN(C(=O)C(CC(=O)O)C(=O)O)C1=C(C)CC(c2ccccc2)...              P05556   \n",
       "1  Cc1cc(C)c(S(=O)(=O)N[C@@H](CNC(=O)CO[C@@H]2C[C...              P05556   \n",
       "2  CNc1cccc(CCOc2ccc(C[C@H](NC(=O)c3c(Cl)cncc3Cl)...              P05556   \n",
       "\n",
       "   NumericUniProtTargetLabels  \n",
       "0                           0  \n",
       "1                           0  \n",
       "2                           0  "
      ]
     },
     "execution_count": 104,
     "metadata": {},
     "output_type": "execute_result"
    }
   ],
   "source": [
    "P08648_df_with_uniprotes_col.head(3)"
   ]
  },
  {
   "cell_type": "code",
   "execution_count": 105,
   "id": "8ebf7bbb-acd8-4577-9f53-db2c96ca4317",
   "metadata": {},
   "outputs": [
    {
     "data": {
      "image/png": "[encoded data removed]",
      "text/plain": [
       "<Figure size 1000x600 with 1 Axes>"
      ]
     },
     "metadata": {},
     "output_type": "display_data"
    }
   ],
   "source": [
    "plot_uniprot_numeric_label_frequency(df=P08648_df_for_training, UniProt='P08648')"
   ]
  },
  {
   "cell_type": "code",
   "execution_count": 106,
   "id": "39331e83-a6bc-4ab7-afa3-bf485c2cc0c7",
   "metadata": {},
   "outputs": [
    {
     "name": "stdout",
     "output_type": "stream",
     "text": [
      "~~~~~~~~~~~~~~~~~~~~~~~~~~~~~~~~~~~~~~~~~~~~~~~~~~~~~~~~~~~~~~~~~~~~~~~~~~~~~~~~\n",
      "The mapped labels in (\"UniProt\": \"index_label\") format:\n",
      "\n",
      "{'P05556': 0, 'P06756': 1, 'P32297': 2}\n",
      "~~~~~~~~~~~~~~~~~~~~~~~~~~~~~~~~~~~~~~~~~~~~~~~~~~~~~~~~~~~~~~~~~~~~~~~~~~~~~~~~\n"
     ]
    }
   ],
   "source": [
    "PRINT(f'The mapped labels in (\"UniProt\": \"index_label\") format:\\n\\n{mapped_label_dict_P08648}')"
   ]
  },
  {
   "cell_type": "markdown",
   "id": "1d1f6b16-2c43-48b1-bf8f-e234fb8d4a2d",
   "metadata": {},
   "source": [
    "#### Check for Rows with NaN Values ####"
   ]
  },
  {
   "cell_type": "code",
   "execution_count": 107,
   "id": "bdac1ae7-dc8b-40fc-8028-972392cb761d",
   "metadata": {},
   "outputs": [
    {
     "name": "stdout",
     "output_type": "stream",
     "text": [
      "~~~~~~~~~~~~~~~~~~~~~~~~~~~~~~~~~~~~~~~~~~~~~~~~~~~~~~~~~~~~~~~~~~~~~~~~~~~~~~~~\n",
      "    SMILES  NumericUniProtTargetLabels\n",
      "425    NaN                           0\n",
      "~~~~~~~~~~~~~~~~~~~~~~~~~~~~~~~~~~~~~~~~~~~~~~~~~~~~~~~~~~~~~~~~~~~~~~~~~~~~~~~~\n"
     ]
    }
   ],
   "source": [
    "# Identify rows with 'float' values in the 'SMILES' column\n",
    "float_rows = P08648_df_for_training['SMILES'].apply(lambda x: isinstance(x, float))\n",
    "\n",
    "\n",
    "# Display the rows with 'float' values\n",
    "float_rows_data = P08648_df_for_training[float_rows]\n",
    "\n",
    "PRINT(float_rows_data)"
   ]
  },
  {
   "cell_type": "code",
   "execution_count": 108,
   "id": "3b59605e-4ff7-4543-afbd-85a76176d03e",
   "metadata": {},
   "outputs": [
    {
     "name": "stdout",
     "output_type": "stream",
     "text": [
      "~~~~~~~~~~~~~~~~~~~~~~~~~~~~~~~~~~~~~~~~~~~~~~~~~~~~~~~~~~~~~~~~~~~~~~~~~~~~~~~~\n",
      "1 rows were dropped.\n",
      "~~~~~~~~~~~~~~~~~~~~~~~~~~~~~~~~~~~~~~~~~~~~~~~~~~~~~~~~~~~~~~~~~~~~~~~~~~~~~~~~\n"
     ]
    }
   ],
   "source": [
    "original_rows = P08648_df_for_training.shape[0]\n",
    "\n",
    "P08648_df_for_training = P08648_df_for_training.dropna()\n",
    "\n",
    "# Calculate the number of dropped rows\n",
    "dropped_rows = original_rows - P08648_df_for_training.shape[0]\n",
    "\n",
    "PRINT(f\"{dropped_rows} rows were dropped.\")"
   ]
  },
  {
   "cell_type": "markdown",
   "id": "a1070cc1-9052-4cec-80e9-4a553c02e205",
   "metadata": {},
   "source": [
    "#### Quick Dataset Analysis ####\n",
    "\n",
    "- **Size of the data frame:** 519 - 1 = 518\n",
    "\n",
    "---\n",
    "\n",
    "- **Number of times each protein appears:**\n",
    "  - P05556: 500 - 1 = 462\n",
    "  - P0756: 6\n",
    "  - P32297: 13\n",
    "---"
   ]
  },
  {
   "cell_type": "markdown",
   "id": "196de322-33ee-475d-b4df-fcf95606be89",
   "metadata": {},
   "source": [
    "Once again, we are confronted with a relatively small dataset comprising only `468` rows. Consequently, opting for deep learning models like the *DeepChem* *GraphConvModel* might not be the optimal choice. In this scenario, we will adhere to employing *Random Forest* and *XGBoost* multiclass classifiers.\n",
    "\n",
    "Furthermore, the dataset exhibits a notable imbalance, prompting us to explore potential solutions by assigning different weights to each class. This strategic approach aims to mitigate the impact of class imbalance during the training of our models."
   ]
  },
  {
   "cell_type": "markdown",
   "id": "96f3d555-431e-4a5d-9335-1428833e5662",
   "metadata": {},
   "source": [
    "#### Random Forest Multiclass Classifier Model for P08648 with added RDKitDescriptors Features ####"
   ]
  },
  {
   "cell_type": "code",
   "execution_count": 109,
   "id": "edc93984-ad1f-4431-967e-94f1ba8f91b8",
   "metadata": {},
   "outputs": [],
   "source": [
    "P08648_df_for_training_ = GenerateFeaturesByMoleculeSMILES(df=P08648_df_for_training)"
   ]
  },
  {
   "cell_type": "code",
   "execution_count": 110,
   "id": "6d075e98-1968-471c-a342-c75d9e7b4f67",
   "metadata": {},
   "outputs": [
    {
     "data": {
      "text/html": [
       "<div>\n",
       "<style scoped>\n",
       "    .dataframe tbody tr th:only-of-type {\n",
       "        vertical-align: middle;\n",
       "    }\n",
       "\n",
       "    .dataframe tbody tr th {\n",
       "        vertical-align: top;\n",
       "    }\n",
       "\n",
       "    .dataframe thead th {\n",
       "        text-align: right;\n",
       "    }\n",
       "</style>\n",
       "<table border=\"1\" class=\"dataframe\">\n",
       "  <thead>\n",
       "    <tr style=\"text-align: right;\">\n",
       "      <th></th>\n",
       "      <th>SMILES</th>\n",
       "      <th>MolWt</th>\n",
       "      <th>NumValenceElectrons</th>\n",
       "      <th>TPSA</th>\n",
       "      <th>MolLogP</th>\n",
       "      <th>NumHeteroatoms</th>\n",
       "      <th>NumRotatableBonds</th>\n",
       "      <th>HeavyAtomCount</th>\n",
       "      <th>FractionCSP3</th>\n",
       "      <th>NumericUniProtTargetLabels</th>\n",
       "    </tr>\n",
       "  </thead>\n",
       "  <tbody>\n",
       "    <tr>\n",
       "      <th>0</th>\n",
       "      <td>CCCN(C(=O)C(CC(=O)O)C(=O)O)C1=C(C)CC(c2ccccc2)...</td>\n",
       "      <td>493.560</td>\n",
       "      <td>190</td>\n",
       "      <td>141.24</td>\n",
       "      <td>3.43050</td>\n",
       "      <td>9</td>\n",
       "      <td>10</td>\n",
       "      <td>36</td>\n",
       "      <td>0.333333</td>\n",
       "      <td>0</td>\n",
       "    </tr>\n",
       "    <tr>\n",
       "      <th>1</th>\n",
       "      <td>Cc1cc(C)c(S(=O)(=O)N[C@@H](CNC(=O)CO[C@@H]2C[C...</td>\n",
       "      <td>651.786</td>\n",
       "      <td>246</td>\n",
       "      <td>167.03</td>\n",
       "      <td>2.58556</td>\n",
       "      <td>13</td>\n",
       "      <td>15</td>\n",
       "      <td>46</td>\n",
       "      <td>0.393939</td>\n",
       "      <td>0</td>\n",
       "    </tr>\n",
       "    <tr>\n",
       "      <th>2</th>\n",
       "      <td>CNc1cccc(CCOc2ccc(C[C@H](NC(=O)c3c(Cl)cncc3Cl)...</td>\n",
       "      <td>489.359</td>\n",
       "      <td>172</td>\n",
       "      <td>113.44</td>\n",
       "      <td>3.87230</td>\n",
       "      <td>10</td>\n",
       "      <td>10</td>\n",
       "      <td>33</td>\n",
       "      <td>0.217391</td>\n",
       "      <td>0</td>\n",
       "    </tr>\n",
       "  </tbody>\n",
       "</table>\n",
       "</div>"
      ],
      "text/plain": [
       "                                              SMILES    MolWt  \\\n",
       "0  CCCN(C(=O)C(CC(=O)O)C(=O)O)C1=C(C)CC(c2ccccc2)...  493.560   \n",
       "1  Cc1cc(C)c(S(=O)(=O)N[C@@H](CNC(=O)CO[C@@H]2C[C...  651.786   \n",
       "2  CNc1cccc(CCOc2ccc(C[C@H](NC(=O)c3c(Cl)cncc3Cl)...  489.359   \n",
       "\n",
       "   NumValenceElectrons    TPSA  MolLogP  NumHeteroatoms  NumRotatableBonds  \\\n",
       "0                  190  141.24  3.43050               9                 10   \n",
       "1                  246  167.03  2.58556              13                 15   \n",
       "2                  172  113.44  3.87230              10                 10   \n",
       "\n",
       "   HeavyAtomCount  FractionCSP3  NumericUniProtTargetLabels  \n",
       "0              36      0.333333                           0  \n",
       "1              46      0.393939                           0  \n",
       "2              33      0.217391                           0  "
      ]
     },
     "execution_count": 110,
     "metadata": {},
     "output_type": "execute_result"
    }
   ],
   "source": [
    "P08648_df_for_training_.head(3)"
   ]
  },
  {
   "cell_type": "code",
   "execution_count": 111,
   "id": "69397d43-c471-4cd2-97b6-bc2ed2ea6e6d",
   "metadata": {},
   "outputs": [
    {
     "name": "stdout",
     "output_type": "stream",
     "text": [
      "Classification Report:\n",
      "              precision    recall  f1-score   support\n",
      "\n",
      "           0       1.00      0.99      0.99       100\n",
      "           1       1.00      1.00      1.00         1\n",
      "           2       0.75      1.00      0.86         3\n",
      "\n",
      "    accuracy                           0.99       104\n",
      "   macro avg       0.92      1.00      0.95       104\n",
      "weighted avg       0.99      0.99      0.99       104\n",
      "\n",
      "~~~~~~~~~~~~~~~~~~~~~~~~~~~~~~~~~~~~~~~~~~~~~~~~~~~~~~~~~~~~~~~~~~~~~~~~~~~~~~~~\n",
      "Mean ROC AUC: 1.000, Std Dev ROC AUC: 0.000\n",
      "~~~~~~~~~~~~~~~~~~~~~~~~~~~~~~~~~~~~~~~~~~~~~~~~~~~~~~~~~~~~~~~~~~~~~~~~~~~~~~~~\n",
      "~~~~~~~~~~~~~~~~~~~~~~~~~~~~~~~~~~~~~~~~~~~~~~~~~~~~~~~~~~~~~~~~~~~~~~~~~~~~~~~~\n",
      "Done training Random Forest Multicalss Classifier Model for UniProt P08648 using RKDitDescriptors features\n",
      "~~~~~~~~~~~~~~~~~~~~~~~~~~~~~~~~~~~~~~~~~~~~~~~~~~~~~~~~~~~~~~~~~~~~~~~~~~~~~~~~\n"
     ]
    }
   ],
   "source": [
    "weight_dict = 'balanced'\n",
    "\n",
    "rf_model_tuple_P08648 = GenerateRandomForestModel(df=P08648_df_for_training_, weight_dict=weight_dict, if_binary=False, bootstrap=True)\n",
    "PRINT(f'Done training Random Forest Multicalss Classifier Model for UniProt P08648 using RKDitDescriptors features')"
   ]
  },
  {
   "cell_type": "markdown",
   "id": "11e2d398-f00c-43e3-bf43-a2bad75074e5",
   "metadata": {},
   "source": [
    "It appears that even when attempting to assign balanced weights to both classes to address the issue of imbalanced data, challenges persist with the smaller class."
   ]
  },
  {
   "cell_type": "code",
   "execution_count": 112,
   "id": "0d0b0f5c-7e92-4179-82e1-5b473bd58885",
   "metadata": {},
   "outputs": [
    {
     "name": "stdout",
     "output_type": "stream",
     "text": [
      "~~~~~~~~~~~~~~~~~~~~~~~~~~~~~~~~~~~~~~~~~~~~~~~~~~~~~~~~~~~~~~~~~~~~~~~~~~~~~~~~\n",
      "The results of the best Random Forest Multiclass Classifier model\n",
      "using RDKit Descriptors features for UniProt P05106 are:\n",
      "~~~~~~~~~~~~~~~~~~~~~~~~~~~~~~~~~~~~~~~~~~~~~~~~~~~~~~~~~~~~~~~~~~~~~~~~~~~~~~~~\n",
      "accuracy: 0.990\n",
      "roc_auc_mean_score: 1.000\n",
      "roc_auc_std_score: 0.000\n",
      "precision: 0.993\n",
      "recall: 0.990\n",
      "f1_score: 0.991\n",
      "confusion_matrix: [[99, 0, 1], [0, 1, 0], [0, 0, 3]]\n",
      "~~~~~~~~~~~~~~~~~~~~~~~~~~~~~~~~~~~~~~~~~~~~~~~~~~~~~~~~~~~~~~~~~~~~~~~~~~~~~~~~\n",
      "Done.\n",
      "~~~~~~~~~~~~~~~~~~~~~~~~~~~~~~~~~~~~~~~~~~~~~~~~~~~~~~~~~~~~~~~~~~~~~~~~~~~~~~~~\n"
     ]
    }
   ],
   "source": [
    "PRINT(f'The results of the best Random Forest Multiclass Classifier model\\nusing RDKit Descriptors features for UniProt P05106 are:')\n",
    "print_dict_meaningful(rf_model_tuple_P08648[1])\n",
    "PRINT(f'Done.')"
   ]
  },
  {
   "cell_type": "markdown",
   "id": "0db121e8-ccba-4649-9cff-a6ddc57133e5",
   "metadata": {},
   "source": [
    "#### XGBoost Multiclass Classifier Model using RKDitDescriptors features for P08648 ####"
   ]
  },
  {
   "cell_type": "code",
   "execution_count": 113,
   "id": "510ec2ef-092f-4a2e-9902-3df9e90b2414",
   "metadata": {},
   "outputs": [
    {
     "name": "stdout",
     "output_type": "stream",
     "text": [
      "Classification Report:\n",
      "              precision    recall  f1-score   support\n",
      "\n",
      "           0       1.00      0.99      0.99       100\n",
      "           1       1.00      1.00      1.00         1\n",
      "           2       0.75      1.00      0.86         3\n",
      "\n",
      "    accuracy                           0.99       104\n",
      "   macro avg       0.92      1.00      0.95       104\n",
      "weighted avg       0.99      0.99      0.99       104\n",
      "\n",
      "~~~~~~~~~~~~~~~~~~~~~~~~~~~~~~~~~~~~~~~~~~~~~~~~~~~~~~~~~~~~~~~~~~~~~~~~~~~~~~~~\n",
      "Mean ROC AUC: 1.000, Std Dev ROC AUC: 0.000\n",
      "~~~~~~~~~~~~~~~~~~~~~~~~~~~~~~~~~~~~~~~~~~~~~~~~~~~~~~~~~~~~~~~~~~~~~~~~~~~~~~~~\n",
      "~~~~~~~~~~~~~~~~~~~~~~~~~~~~~~~~~~~~~~~~~~~~~~~~~~~~~~~~~~~~~~~~~~~~~~~~~~~~~~~~\n",
      "Done training XGBoost Multicalss Classifier Model for UniProt P08648 using RKDitDescriptors features\n",
      "~~~~~~~~~~~~~~~~~~~~~~~~~~~~~~~~~~~~~~~~~~~~~~~~~~~~~~~~~~~~~~~~~~~~~~~~~~~~~~~~\n"
     ]
    }
   ],
   "source": [
    "weight_dict = 'balanced'\n",
    "\n",
    "xgb_model_tuple_P08648 = GenerateXGBoostModel(df=P08648_df_for_training_, weight_dict=weight_dict, if_binary=False, bootstrap=True)\n",
    "PRINT(f'Done training XGBoost Multicalss Classifier Model for UniProt P08648 using RKDitDescriptors features')"
   ]
  },
  {
   "cell_type": "code",
   "execution_count": 114,
   "id": "ac12593c-9cb7-42ac-abcf-3fecfeb25f0e",
   "metadata": {},
   "outputs": [
    {
     "name": "stdout",
     "output_type": "stream",
     "text": [
      "~~~~~~~~~~~~~~~~~~~~~~~~~~~~~~~~~~~~~~~~~~~~~~~~~~~~~~~~~~~~~~~~~~~~~~~~~~~~~~~~\n",
      "The results of the best Random Forest Multiclass Classifier model\n",
      "using RDKit Descriptors features for UniProt P05106 are:\n",
      "~~~~~~~~~~~~~~~~~~~~~~~~~~~~~~~~~~~~~~~~~~~~~~~~~~~~~~~~~~~~~~~~~~~~~~~~~~~~~~~~\n",
      "accuracy: 0.990\n",
      "roc_auc_mean_score: 1.000\n",
      "roc_auc_std_score: 0.000\n",
      "precision: 0.993\n",
      "recall: 0.990\n",
      "f1_score: 0.991\n",
      "confusion_matrix: [[99, 0, 1], [0, 1, 0], [0, 0, 3]]\n",
      "~~~~~~~~~~~~~~~~~~~~~~~~~~~~~~~~~~~~~~~~~~~~~~~~~~~~~~~~~~~~~~~~~~~~~~~~~~~~~~~~\n",
      "Done.\n",
      "~~~~~~~~~~~~~~~~~~~~~~~~~~~~~~~~~~~~~~~~~~~~~~~~~~~~~~~~~~~~~~~~~~~~~~~~~~~~~~~~\n"
     ]
    }
   ],
   "source": [
    "PRINT(f'The results of the best Random Forest Multiclass Classifier model\\nusing RDKit Descriptors features for UniProt P05106 are:')\n",
    "print_dict_meaningful(xgb_model_tuple_P08648[1])\n",
    "PRINT(f'Done.')"
   ]
  },
  {
   "cell_type": "markdown",
   "id": "e2515076-d47b-436f-bd30-7806301dc538",
   "metadata": {},
   "source": [
    "#### Random Forest Multiclass Classifier Model for P08648 with added Morgan Fingerprints Features ####"
   ]
  },
  {
   "cell_type": "code",
   "execution_count": 115,
   "id": "e2c099b9-07dc-4cd5-96de-8c9e1a6940ec",
   "metadata": {},
   "outputs": [],
   "source": [
    "P08648_df_for_training__ = GenerateMorganFingerprintsFeaturesByMoleculeSMILES(df=P08648_df_for_training, size=1024, radius=2)"
   ]
  },
  {
   "cell_type": "markdown",
   "id": "74da9c49-0c96-4c68-91e1-e340cf2cc1dc",
   "metadata": {},
   "source": [
    "Drop new row that contains *Nan* values if existed "
   ]
  },
  {
   "cell_type": "code",
   "execution_count": 116,
   "id": "e84fb0d9-9141-4061-86ce-4e068af1e308",
   "metadata": {},
   "outputs": [
    {
     "name": "stdout",
     "output_type": "stream",
     "text": [
      "~~~~~~~~~~~~~~~~~~~~~~~~~~~~~~~~~~~~~~~~~~~~~~~~~~~~~~~~~~~~~~~~~~~~~~~~~~~~~~~~\n",
      "2 rows were dropped.\n",
      "~~~~~~~~~~~~~~~~~~~~~~~~~~~~~~~~~~~~~~~~~~~~~~~~~~~~~~~~~~~~~~~~~~~~~~~~~~~~~~~~\n"
     ]
    }
   ],
   "source": [
    "original_rows = P08648_df_for_training__.shape[0]\n",
    "\n",
    "P08648_df_for_training__ = P08648_df_for_training__.dropna()\n",
    "\n",
    "# Calculate the number of dropped rows\n",
    "dropped_rows = original_rows - P08648_df_for_training__.shape[0]\n",
    "\n",
    "PRINT(f\"{dropped_rows} rows were dropped.\")"
   ]
  },
  {
   "cell_type": "code",
   "execution_count": 117,
   "id": "962b93dc-0aeb-4ba6-bda3-c910f1f0dd98",
   "metadata": {},
   "outputs": [
    {
     "data": {
      "text/html": [
       "<div>\n",
       "<style scoped>\n",
       "    .dataframe tbody tr th:only-of-type {\n",
       "        vertical-align: middle;\n",
       "    }\n",
       "\n",
       "    .dataframe tbody tr th {\n",
       "        vertical-align: top;\n",
       "    }\n",
       "\n",
       "    .dataframe thead th {\n",
       "        text-align: right;\n",
       "    }\n",
       "</style>\n",
       "<table border=\"1\" class=\"dataframe\">\n",
       "  <thead>\n",
       "    <tr style=\"text-align: right;\">\n",
       "      <th></th>\n",
       "      <th>SMILES</th>\n",
       "      <th>NumericUniProtTargetLabels</th>\n",
       "      <th>Feature_0</th>\n",
       "      <th>Feature_1</th>\n",
       "      <th>Feature_2</th>\n",
       "      <th>Feature_3</th>\n",
       "      <th>Feature_4</th>\n",
       "      <th>Feature_5</th>\n",
       "      <th>Feature_6</th>\n",
       "      <th>Feature_7</th>\n",
       "      <th>...</th>\n",
       "      <th>Feature_1014</th>\n",
       "      <th>Feature_1015</th>\n",
       "      <th>Feature_1016</th>\n",
       "      <th>Feature_1017</th>\n",
       "      <th>Feature_1018</th>\n",
       "      <th>Feature_1019</th>\n",
       "      <th>Feature_1020</th>\n",
       "      <th>Feature_1021</th>\n",
       "      <th>Feature_1022</th>\n",
       "      <th>Feature_1023</th>\n",
       "    </tr>\n",
       "  </thead>\n",
       "  <tbody>\n",
       "    <tr>\n",
       "      <th>0</th>\n",
       "      <td>CNc1cccc(CCOc2ccc(C[C@H](NC(=O)c3ccc(F)cc3C)C(...</td>\n",
       "      <td>0</td>\n",
       "      <td>0.0</td>\n",
       "      <td>1.0</td>\n",
       "      <td>0.0</td>\n",
       "      <td>0.0</td>\n",
       "      <td>0.0</td>\n",
       "      <td>0.0</td>\n",
       "      <td>0.0</td>\n",
       "      <td>0.0</td>\n",
       "      <td>...</td>\n",
       "      <td>0.0</td>\n",
       "      <td>0.0</td>\n",
       "      <td>0.0</td>\n",
       "      <td>1.0</td>\n",
       "      <td>0.0</td>\n",
       "      <td>0.0</td>\n",
       "      <td>0.0</td>\n",
       "      <td>0.0</td>\n",
       "      <td>0.0</td>\n",
       "      <td>0.0</td>\n",
       "    </tr>\n",
       "    <tr>\n",
       "      <th>1</th>\n",
       "      <td>N=C(N)Nc1cccc(C(=O)NNC(=O)NC(CC(=O)O)c2cccc3cc...</td>\n",
       "      <td>1</td>\n",
       "      <td>0.0</td>\n",
       "      <td>1.0</td>\n",
       "      <td>0.0</td>\n",
       "      <td>0.0</td>\n",
       "      <td>0.0</td>\n",
       "      <td>0.0</td>\n",
       "      <td>0.0</td>\n",
       "      <td>0.0</td>\n",
       "      <td>...</td>\n",
       "      <td>0.0</td>\n",
       "      <td>0.0</td>\n",
       "      <td>0.0</td>\n",
       "      <td>0.0</td>\n",
       "      <td>0.0</td>\n",
       "      <td>0.0</td>\n",
       "      <td>0.0</td>\n",
       "      <td>0.0</td>\n",
       "      <td>0.0</td>\n",
       "      <td>0.0</td>\n",
       "    </tr>\n",
       "    <tr>\n",
       "      <th>2</th>\n",
       "      <td>O=C(O)CCn1ccc2cc(OCCCNc3ccccn3)ccc21</td>\n",
       "      <td>1</td>\n",
       "      <td>0.0</td>\n",
       "      <td>0.0</td>\n",
       "      <td>0.0</td>\n",
       "      <td>0.0</td>\n",
       "      <td>0.0</td>\n",
       "      <td>0.0</td>\n",
       "      <td>0.0</td>\n",
       "      <td>0.0</td>\n",
       "      <td>...</td>\n",
       "      <td>0.0</td>\n",
       "      <td>0.0</td>\n",
       "      <td>0.0</td>\n",
       "      <td>0.0</td>\n",
       "      <td>0.0</td>\n",
       "      <td>0.0</td>\n",
       "      <td>0.0</td>\n",
       "      <td>0.0</td>\n",
       "      <td>0.0</td>\n",
       "      <td>0.0</td>\n",
       "    </tr>\n",
       "    <tr>\n",
       "      <th>3</th>\n",
       "      <td>CC(=O)N[C@@H]1CSSC[C@H](C(=O)O)NC(=O)[C@H](CC(...</td>\n",
       "      <td>1</td>\n",
       "      <td>0.0</td>\n",
       "      <td>0.0</td>\n",
       "      <td>0.0</td>\n",
       "      <td>0.0</td>\n",
       "      <td>0.0</td>\n",
       "      <td>1.0</td>\n",
       "      <td>0.0</td>\n",
       "      <td>0.0</td>\n",
       "      <td>...</td>\n",
       "      <td>0.0</td>\n",
       "      <td>0.0</td>\n",
       "      <td>1.0</td>\n",
       "      <td>1.0</td>\n",
       "      <td>0.0</td>\n",
       "      <td>1.0</td>\n",
       "      <td>0.0</td>\n",
       "      <td>0.0</td>\n",
       "      <td>0.0</td>\n",
       "      <td>0.0</td>\n",
       "    </tr>\n",
       "    <tr>\n",
       "      <th>4</th>\n",
       "      <td>O=C(O)CC(NS(=O)(=O)c1cccc(-c2cccc(Nc3nc4ccccc4...</td>\n",
       "      <td>0</td>\n",
       "      <td>0.0</td>\n",
       "      <td>1.0</td>\n",
       "      <td>0.0</td>\n",
       "      <td>0.0</td>\n",
       "      <td>0.0</td>\n",
       "      <td>0.0</td>\n",
       "      <td>0.0</td>\n",
       "      <td>0.0</td>\n",
       "      <td>...</td>\n",
       "      <td>0.0</td>\n",
       "      <td>0.0</td>\n",
       "      <td>0.0</td>\n",
       "      <td>0.0</td>\n",
       "      <td>0.0</td>\n",
       "      <td>0.0</td>\n",
       "      <td>0.0</td>\n",
       "      <td>0.0</td>\n",
       "      <td>0.0</td>\n",
       "      <td>0.0</td>\n",
       "    </tr>\n",
       "  </tbody>\n",
       "</table>\n",
       "<p>5 rows × 1026 columns</p>\n",
       "</div>"
      ],
      "text/plain": [
       "                                              SMILES  \\\n",
       "0  CNc1cccc(CCOc2ccc(C[C@H](NC(=O)c3ccc(F)cc3C)C(...   \n",
       "1  N=C(N)Nc1cccc(C(=O)NNC(=O)NC(CC(=O)O)c2cccc3cc...   \n",
       "2               O=C(O)CCn1ccc2cc(OCCCNc3ccccn3)ccc21   \n",
       "3  CC(=O)N[C@@H]1CSSC[C@H](C(=O)O)NC(=O)[C@H](CC(...   \n",
       "4  O=C(O)CC(NS(=O)(=O)c1cccc(-c2cccc(Nc3nc4ccccc4...   \n",
       "\n",
       "   NumericUniProtTargetLabels  Feature_0  Feature_1  Feature_2  Feature_3  \\\n",
       "0                           0        0.0        1.0        0.0        0.0   \n",
       "1                           1        0.0        1.0        0.0        0.0   \n",
       "2                           1        0.0        0.0        0.0        0.0   \n",
       "3                           1        0.0        0.0        0.0        0.0   \n",
       "4                           0        0.0        1.0        0.0        0.0   \n",
       "\n",
       "   Feature_4  Feature_5  Feature_6  Feature_7  ...  Feature_1014  \\\n",
       "0        0.0        0.0        0.0        0.0  ...           0.0   \n",
       "1        0.0        0.0        0.0        0.0  ...           0.0   \n",
       "2        0.0        0.0        0.0        0.0  ...           0.0   \n",
       "3        0.0        1.0        0.0        0.0  ...           0.0   \n",
       "4        0.0        0.0        0.0        0.0  ...           0.0   \n",
       "\n",
       "   Feature_1015  Feature_1016  Feature_1017  Feature_1018  Feature_1019  \\\n",
       "0           0.0           0.0           1.0           0.0           0.0   \n",
       "1           0.0           0.0           0.0           0.0           0.0   \n",
       "2           0.0           0.0           0.0           0.0           0.0   \n",
       "3           0.0           1.0           1.0           0.0           1.0   \n",
       "4           0.0           0.0           0.0           0.0           0.0   \n",
       "\n",
       "   Feature_1020  Feature_1021  Feature_1022  Feature_1023  \n",
       "0           0.0           0.0           0.0           0.0  \n",
       "1           0.0           0.0           0.0           0.0  \n",
       "2           0.0           0.0           0.0           0.0  \n",
       "3           0.0           0.0           0.0           0.0  \n",
       "4           0.0           0.0           0.0           0.0  \n",
       "\n",
       "[5 rows x 1026 columns]"
      ]
     },
     "execution_count": 117,
     "metadata": {},
     "output_type": "execute_result"
    }
   ],
   "source": [
    "P05106_df_for_training__.head(5)"
   ]
  },
  {
   "cell_type": "code",
   "execution_count": 118,
   "id": "cbd38630-fae6-4f05-97c5-333f034f1953",
   "metadata": {},
   "outputs": [
    {
     "name": "stdout",
     "output_type": "stream",
     "text": [
      "Classification Report:\n",
      "              precision    recall  f1-score   support\n",
      "\n",
      "         0.0       0.99      0.99      0.99       100\n",
      "         1.0       1.00      1.00      1.00         1\n",
      "         2.0       0.67      0.67      0.67         3\n",
      "\n",
      "    accuracy                           0.98       104\n",
      "   macro avg       0.89      0.89      0.89       104\n",
      "weighted avg       0.98      0.98      0.98       104\n",
      "\n",
      "~~~~~~~~~~~~~~~~~~~~~~~~~~~~~~~~~~~~~~~~~~~~~~~~~~~~~~~~~~~~~~~~~~~~~~~~~~~~~~~~\n",
      "Mean ROC AUC: 0.966, Std Dev ROC AUC: 0.028\n",
      "~~~~~~~~~~~~~~~~~~~~~~~~~~~~~~~~~~~~~~~~~~~~~~~~~~~~~~~~~~~~~~~~~~~~~~~~~~~~~~~~\n",
      "~~~~~~~~~~~~~~~~~~~~~~~~~~~~~~~~~~~~~~~~~~~~~~~~~~~~~~~~~~~~~~~~~~~~~~~~~~~~~~~~\n",
      "Done training Random Forest Multicalss Classifier Model for UniProt P08648 using Morgan Fingerprints features\n",
      "~~~~~~~~~~~~~~~~~~~~~~~~~~~~~~~~~~~~~~~~~~~~~~~~~~~~~~~~~~~~~~~~~~~~~~~~~~~~~~~~\n"
     ]
    }
   ],
   "source": [
    "weight_dict = 'balanced'\n",
    "\n",
    "rf_model_tuple_P08648_ = GenerateRandomForestModel(df=P08648_df_for_training__, weight_dict=weight_dict, if_binary=False, bootstrap=True)\n",
    "PRINT(f'Done training Random Forest Multicalss Classifier Model for UniProt P08648 using Morgan Fingerprints features')"
   ]
  },
  {
   "cell_type": "code",
   "execution_count": 119,
   "id": "dda83737-191b-4d12-88b9-eebae525965d",
   "metadata": {},
   "outputs": [
    {
     "name": "stdout",
     "output_type": "stream",
     "text": [
      "~~~~~~~~~~~~~~~~~~~~~~~~~~~~~~~~~~~~~~~~~~~~~~~~~~~~~~~~~~~~~~~~~~~~~~~~~~~~~~~~\n",
      "The results of Random Forest Multiclass Classifier model\n",
      "using Morgan Fingerprints features for UniProt P08648 are:\n",
      "~~~~~~~~~~~~~~~~~~~~~~~~~~~~~~~~~~~~~~~~~~~~~~~~~~~~~~~~~~~~~~~~~~~~~~~~~~~~~~~~\n",
      "accuracy: 0.981\n",
      "roc_auc_mean_score: 0.966\n",
      "roc_auc_std_score: 0.028\n",
      "precision: 0.981\n",
      "recall: 0.981\n",
      "f1_score: 0.981\n",
      "confusion_matrix: [[99, 0, 1], [0, 1, 0], [1, 0, 2]]\n",
      "~~~~~~~~~~~~~~~~~~~~~~~~~~~~~~~~~~~~~~~~~~~~~~~~~~~~~~~~~~~~~~~~~~~~~~~~~~~~~~~~\n",
      "Done.\n",
      "~~~~~~~~~~~~~~~~~~~~~~~~~~~~~~~~~~~~~~~~~~~~~~~~~~~~~~~~~~~~~~~~~~~~~~~~~~~~~~~~\n"
     ]
    }
   ],
   "source": [
    "PRINT(f'The results of Random Forest Multiclass Classifier model\\nusing Morgan Fingerprints features for UniProt P08648 are:')\n",
    "print_dict_meaningful(rf_model_tuple_P08648_[1])\n",
    "PRINT(f'Done.')"
   ]
  },
  {
   "cell_type": "markdown",
   "id": "4a091144-7a6c-44a7-b55f-b4ee654cb52c",
   "metadata": {},
   "source": [
    "#### XGBoost Multiclass Classifier Model for P08648 with added Morgan Fingerprints Features ####"
   ]
  },
  {
   "cell_type": "code",
   "execution_count": 122,
   "id": "9e6e99e2-a636-45df-80b5-7613d308ea3a",
   "metadata": {},
   "outputs": [
    {
     "name": "stdout",
     "output_type": "stream",
     "text": [
      "Classification Report:\n",
      "              precision    recall  f1-score   support\n",
      "\n",
      "         0.0       0.99      0.99      0.99       100\n",
      "         1.0       1.00      1.00      1.00         1\n",
      "         2.0       0.67      0.67      0.67         3\n",
      "\n",
      "    accuracy                           0.98       104\n",
      "   macro avg       0.89      0.89      0.89       104\n",
      "weighted avg       0.98      0.98      0.98       104\n",
      "\n",
      "~~~~~~~~~~~~~~~~~~~~~~~~~~~~~~~~~~~~~~~~~~~~~~~~~~~~~~~~~~~~~~~~~~~~~~~~~~~~~~~~\n",
      "Mean ROC AUC: 0.998, Std Dev ROC AUC: 0.004\n",
      "~~~~~~~~~~~~~~~~~~~~~~~~~~~~~~~~~~~~~~~~~~~~~~~~~~~~~~~~~~~~~~~~~~~~~~~~~~~~~~~~\n",
      "~~~~~~~~~~~~~~~~~~~~~~~~~~~~~~~~~~~~~~~~~~~~~~~~~~~~~~~~~~~~~~~~~~~~~~~~~~~~~~~~\n",
      "Done training XGBoost Multicalss Classifier Model for UniProt P08648 using Morgan Fingerprints features\n",
      "~~~~~~~~~~~~~~~~~~~~~~~~~~~~~~~~~~~~~~~~~~~~~~~~~~~~~~~~~~~~~~~~~~~~~~~~~~~~~~~~\n"
     ]
    }
   ],
   "source": [
    "weight_dict = 'balanced'\n",
    "\n",
    "xgb_model_tuple_P08648_ = GenerateXGBoostModel(df=P08648_df_for_training__, weight_dict=weight_dict, if_binary=False, bootstrap=True)\n",
    "PRINT(f'Done training XGBoost Multicalss Classifier Model for UniProt P08648 using Morgan Fingerprints features')"
   ]
  },
  {
   "cell_type": "code",
   "execution_count": 123,
   "id": "9f72a970-f9d4-4542-b4bd-cba9d4703d9c",
   "metadata": {},
   "outputs": [
    {
     "name": "stdout",
     "output_type": "stream",
     "text": [
      "~~~~~~~~~~~~~~~~~~~~~~~~~~~~~~~~~~~~~~~~~~~~~~~~~~~~~~~~~~~~~~~~~~~~~~~~~~~~~~~~\n",
      "The results of the best XGBoost Multiclass Classifier model\n",
      "using Morgan Fingerprints features for UniProt P08648 are:\n",
      "~~~~~~~~~~~~~~~~~~~~~~~~~~~~~~~~~~~~~~~~~~~~~~~~~~~~~~~~~~~~~~~~~~~~~~~~~~~~~~~~\n",
      "accuracy: 0.981\n",
      "roc_auc_mean_score: 0.998\n",
      "roc_auc_std_score: 0.004\n",
      "precision: 0.981\n",
      "recall: 0.981\n",
      "f1_score: 0.981\n",
      "confusion_matrix: [[99, 0, 1], [0, 1, 0], [1, 0, 2]]\n",
      "~~~~~~~~~~~~~~~~~~~~~~~~~~~~~~~~~~~~~~~~~~~~~~~~~~~~~~~~~~~~~~~~~~~~~~~~~~~~~~~~\n",
      "Done.\n",
      "~~~~~~~~~~~~~~~~~~~~~~~~~~~~~~~~~~~~~~~~~~~~~~~~~~~~~~~~~~~~~~~~~~~~~~~~~~~~~~~~\n"
     ]
    }
   ],
   "source": [
    "PRINT(f'The results of the best XGBoost Multiclass Classifier model\\nusing Morgan Fingerprints features for UniProt P08648 are:')\n",
    "print_dict_meaningful(xgb_model_tuple_P08648_[1])\n",
    "PRINT(f'Done.')"
   ]
  },
  {
   "cell_type": "markdown",
   "id": "9cf7f3a1-c642-406f-863e-e956d3ebf017",
   "metadata": {},
   "source": [
    "#### Pickup the best model trained so far for UniProt P08648 ####"
   ]
  },
  {
   "cell_type": "markdown",
   "id": "14a5c2af-b6d1-417b-a517-7494055ad458",
   "metadata": {},
   "source": [
    "##### Visualize Trained Models Preformances #####"
   ]
  },
  {
   "cell_type": "code",
   "execution_count": 124,
   "id": "7813bc54-fe70-46a2-8cd4-194d349c0034",
   "metadata": {},
   "outputs": [
    {
     "data": {
      "text/html": [
       "<div>\n",
       "<style scoped>\n",
       "    .dataframe tbody tr th:only-of-type {\n",
       "        vertical-align: middle;\n",
       "    }\n",
       "\n",
       "    .dataframe tbody tr th {\n",
       "        vertical-align: top;\n",
       "    }\n",
       "\n",
       "    .dataframe thead th {\n",
       "        text-align: right;\n",
       "    }\n",
       "</style>\n",
       "<table border=\"1\" class=\"dataframe\">\n",
       "  <thead>\n",
       "    <tr style=\"text-align: right;\">\n",
       "      <th></th>\n",
       "      <th>RM_RDKit</th>\n",
       "      <th>XGB_RDKit</th>\n",
       "      <th>RM_MF</th>\n",
       "      <th>XGB_MF</th>\n",
       "    </tr>\n",
       "  </thead>\n",
       "  <tbody>\n",
       "    <tr>\n",
       "      <th>accuracy</th>\n",
       "      <td>0.990385</td>\n",
       "      <td>0.990385</td>\n",
       "      <td>0.980769</td>\n",
       "      <td>0.980769</td>\n",
       "    </tr>\n",
       "    <tr>\n",
       "      <th>roc_auc_mean_score</th>\n",
       "      <td>1.0</td>\n",
       "      <td>1.0</td>\n",
       "      <td>0.966013</td>\n",
       "      <td>0.997926</td>\n",
       "    </tr>\n",
       "    <tr>\n",
       "      <th>roc_auc_std_score</th>\n",
       "      <td>0.0</td>\n",
       "      <td>0.0</td>\n",
       "      <td>0.028428</td>\n",
       "      <td>0.003605</td>\n",
       "    </tr>\n",
       "    <tr>\n",
       "      <th>precision</th>\n",
       "      <td>0.992788</td>\n",
       "      <td>0.992788</td>\n",
       "      <td>0.980769</td>\n",
       "      <td>0.980769</td>\n",
       "    </tr>\n",
       "    <tr>\n",
       "      <th>recall</th>\n",
       "      <td>0.990385</td>\n",
       "      <td>0.990385</td>\n",
       "      <td>0.980769</td>\n",
       "      <td>0.980769</td>\n",
       "    </tr>\n",
       "    <tr>\n",
       "      <th>f1_score</th>\n",
       "      <td>0.991047</td>\n",
       "      <td>0.991047</td>\n",
       "      <td>0.980769</td>\n",
       "      <td>0.980769</td>\n",
       "    </tr>\n",
       "    <tr>\n",
       "      <th>confusion_matrix</th>\n",
       "      <td>[[99, 0, 1], [0, 1, 0], [0, 0, 3]]</td>\n",
       "      <td>[[99, 0, 1], [0, 1, 0], [0, 0, 3]]</td>\n",
       "      <td>[[99, 0, 1], [0, 1, 0], [1, 0, 2]]</td>\n",
       "      <td>[[99, 0, 1], [0, 1, 0], [1, 0, 2]]</td>\n",
       "    </tr>\n",
       "  </tbody>\n",
       "</table>\n",
       "</div>"
      ],
      "text/plain": [
       "                                              RM_RDKit  \\\n",
       "accuracy                                      0.990385   \n",
       "roc_auc_mean_score                                 1.0   \n",
       "roc_auc_std_score                                  0.0   \n",
       "precision                                     0.992788   \n",
       "recall                                        0.990385   \n",
       "f1_score                                      0.991047   \n",
       "confusion_matrix    [[99, 0, 1], [0, 1, 0], [0, 0, 3]]   \n",
       "\n",
       "                                             XGB_RDKit  \\\n",
       "accuracy                                      0.990385   \n",
       "roc_auc_mean_score                                 1.0   \n",
       "roc_auc_std_score                                  0.0   \n",
       "precision                                     0.992788   \n",
       "recall                                        0.990385   \n",
       "f1_score                                      0.991047   \n",
       "confusion_matrix    [[99, 0, 1], [0, 1, 0], [0, 0, 3]]   \n",
       "\n",
       "                                                 RM_MF  \\\n",
       "accuracy                                      0.980769   \n",
       "roc_auc_mean_score                            0.966013   \n",
       "roc_auc_std_score                             0.028428   \n",
       "precision                                     0.980769   \n",
       "recall                                        0.980769   \n",
       "f1_score                                      0.980769   \n",
       "confusion_matrix    [[99, 0, 1], [0, 1, 0], [1, 0, 2]]   \n",
       "\n",
       "                                                XGB_MF  \n",
       "accuracy                                      0.980769  \n",
       "roc_auc_mean_score                            0.997926  \n",
       "roc_auc_std_score                             0.003605  \n",
       "precision                                     0.980769  \n",
       "recall                                        0.980769  \n",
       "f1_score                                      0.980769  \n",
       "confusion_matrix    [[99, 0, 1], [0, 1, 0], [1, 0, 2]]  "
      ]
     },
     "execution_count": 124,
     "metadata": {},
     "output_type": "execute_result"
    }
   ],
   "source": [
    "df_for_preformance_comparison = pd.DataFrame({\n",
    "    'RM_RDKit': list(rf_model_tuple_P08648[1].values()),\n",
    "    'XGB_RDKit': list(xgb_model_tuple_P08648[1].values()),\n",
    "    'RM_MF': list(rf_model_tuple_P08648_[1].values()),\n",
    "    'XGB_MF': list(xgb_model_tuple_P08648_[1].values())\n",
    "}, index=rf_model_tuple_P08648[1].keys())\n",
    "\n",
    "df_for_preformance_comparison.head(7)"
   ]
  },
  {
   "cell_type": "code",
   "execution_count": 125,
   "id": "ba83d53e-0e46-4a41-9cec-bddf84db61f0",
   "metadata": {},
   "outputs": [],
   "source": [
    "df_for_preformance_comparison.drop(df_for_preformance_comparison.index[-1], inplace=True)\n",
    "df_for_preformance_comparison.reset_index(drop=True, inplace=True)"
   ]
  },
  {
   "cell_type": "code",
   "execution_count": 126,
   "id": "c358f686-5f07-49ac-8abb-dbad5053ea56",
   "metadata": {},
   "outputs": [
    {
     "data": {
      "text/html": [
       "<div>\n",
       "<style scoped>\n",
       "    .dataframe tbody tr th:only-of-type {\n",
       "        vertical-align: middle;\n",
       "    }\n",
       "\n",
       "    .dataframe tbody tr th {\n",
       "        vertical-align: top;\n",
       "    }\n",
       "\n",
       "    .dataframe thead th {\n",
       "        text-align: right;\n",
       "    }\n",
       "</style>\n",
       "<table border=\"1\" class=\"dataframe\">\n",
       "  <thead>\n",
       "    <tr style=\"text-align: right;\">\n",
       "      <th></th>\n",
       "      <th>RM_RDKit</th>\n",
       "      <th>XGB_RDKit</th>\n",
       "      <th>RM_MF</th>\n",
       "      <th>XGB_MF</th>\n",
       "    </tr>\n",
       "  </thead>\n",
       "  <tbody>\n",
       "    <tr>\n",
       "      <th>0</th>\n",
       "      <td>0.990385</td>\n",
       "      <td>0.990385</td>\n",
       "      <td>0.980769</td>\n",
       "      <td>0.980769</td>\n",
       "    </tr>\n",
       "    <tr>\n",
       "      <th>1</th>\n",
       "      <td>1.0</td>\n",
       "      <td>1.0</td>\n",
       "      <td>0.966013</td>\n",
       "      <td>0.997926</td>\n",
       "    </tr>\n",
       "    <tr>\n",
       "      <th>2</th>\n",
       "      <td>0.0</td>\n",
       "      <td>0.0</td>\n",
       "      <td>0.028428</td>\n",
       "      <td>0.003605</td>\n",
       "    </tr>\n",
       "    <tr>\n",
       "      <th>3</th>\n",
       "      <td>0.992788</td>\n",
       "      <td>0.992788</td>\n",
       "      <td>0.980769</td>\n",
       "      <td>0.980769</td>\n",
       "    </tr>\n",
       "    <tr>\n",
       "      <th>4</th>\n",
       "      <td>0.990385</td>\n",
       "      <td>0.990385</td>\n",
       "      <td>0.980769</td>\n",
       "      <td>0.980769</td>\n",
       "    </tr>\n",
       "    <tr>\n",
       "      <th>5</th>\n",
       "      <td>0.991047</td>\n",
       "      <td>0.991047</td>\n",
       "      <td>0.980769</td>\n",
       "      <td>0.980769</td>\n",
       "    </tr>\n",
       "  </tbody>\n",
       "</table>\n",
       "</div>"
      ],
      "text/plain": [
       "   RM_RDKit XGB_RDKit     RM_MF    XGB_MF\n",
       "0  0.990385  0.990385  0.980769  0.980769\n",
       "1       1.0       1.0  0.966013  0.997926\n",
       "2       0.0       0.0  0.028428  0.003605\n",
       "3  0.992788  0.992788  0.980769  0.980769\n",
       "4  0.990385  0.990385  0.980769  0.980769\n",
       "5  0.991047  0.991047  0.980769  0.980769"
      ]
     },
     "execution_count": 126,
     "metadata": {},
     "output_type": "execute_result"
    }
   ],
   "source": [
    "df_for_preformance_comparison.head(6)"
   ]
  },
  {
   "cell_type": "code",
   "execution_count": 127,
   "id": "8acc9795-735b-4fe4-a6c0-9385b29c2f48",
   "metadata": {},
   "outputs": [
    {
     "data": {
      "image/png": "[encoded data removed]",
      "text/plain": [
       "<Figure size 1000x600 with 6 Axes>"
      ]
     },
     "metadata": {},
     "output_type": "display_data"
    }
   ],
   "source": [
    "plot_model_comparison_countplots(df=df_for_preformance_comparison)"
   ]
  },
  {
   "cell_type": "markdown",
   "id": "4fe1aaf7-3a99-4e0c-b1c9-3383cd551c57",
   "metadata": {},
   "source": [
    "##### Choose & Save the Best Model  #####\n",
    "\n",
    "By analyzing the evaluation metrics performance plots for UniProt P08648, we observe that both the *Random Forest* and *XGBoost* models utilizing Morgan fingerprints features produced the best results, because we can see that by using RKDit Descriptors, we got ~0 roc auc std score, which suggest that those models maybe overfitt. \n",
    "\n",
    "Therefore, we will randomly select one model. Our choice will be the *XGBoost* as the best model for UniProt P08648 among the four models."
   ]
  },
  {
   "cell_type": "code",
   "execution_count": 141,
   "id": "39dbdafd-3365-4fd5-bee3-10e515c1ebf3",
   "metadata": {},
   "outputs": [
    {
     "name": "stdout",
     "output_type": "stream",
     "text": [
      "~~~~~~~~~~~~~~~~~~~~~~~~~~~~~~~~~~~~~~~~~~~~~~~~~~~~~~~~~~~~~~~~~~~~~~~~~~~~~~~~\n",
      "Model Saved\n",
      "~~~~~~~~~~~~~~~~~~~~~~~~~~~~~~~~~~~~~~~~~~~~~~~~~~~~~~~~~~~~~~~~~~~~~~~~~~~~~~~~\n"
     ]
    }
   ],
   "source": [
    "path = os.path.join('models/Best Model of each UniProt Modified', 'xgb_P08648_MF.joblib')\n",
    "dump(xgb_model_tuple_P08648_[0], path)\n",
    "\n",
    "PRINT('Model Saved')"
   ]
  },
  {
   "cell_type": "markdown",
   "id": "aa8cb2c8-0f01-4a59-8e2f-bbd11cb82f00",
   "metadata": {},
   "source": [
    "----\n",
    "## Make Prediction On Unseen Dataset for Final Results ##\n",
    "\n",
    "Now that we have built, trained, and selected a model for each UniProt target dataset we need, we can generate real-time predictions using our best models.\r\n",
    "\r\n",
    "To achieve this, we begin by extracting sub-datasets from our final dataframe on which we wish to execute predictions. For each sub-dataset, we will perform predictions using its corresponding model that we have built.\r\n",
    "\r\n",
    "Finally, we will combine all the resulting data frames to obtain the final dataframe with the following columns: [SMILES, UniProtTarget, UniProtPartner]."
   ]
  },
  {
   "cell_type": "code",
   "execution_count": 8,
   "id": "2b0ee2b1-6a46-4d61-9193-e18af46d0470",
   "metadata": {},
   "outputs": [],
   "source": [
    "final_df_path = 'data/dataset_for_prediction.csv'"
   ]
  },
  {
   "cell_type": "code",
   "execution_count": 9,
   "id": "e7cc32ce-78e0-4225-92c3-4ab58b210697",
   "metadata": {},
   "outputs": [
    {
     "name": "stdout",
     "output_type": "stream",
     "text": [
      "~~~~~~~~~~~~~~~~~~~~~~~~~~~~~~~~~~~~~~~~~~~~~~~~~~~~~~~~~~~~~~~~~~~~~~~~~~~~~~~~\n",
      "Loaded the final data frame\n",
      "~~~~~~~~~~~~~~~~~~~~~~~~~~~~~~~~~~~~~~~~~~~~~~~~~~~~~~~~~~~~~~~~~~~~~~~~~~~~~~~~\n"
     ]
    },
    {
     "data": {
      "text/html": [
       "<div>\n",
       "<style scoped>\n",
       "    .dataframe tbody tr th:only-of-type {\n",
       "        vertical-align: middle;\n",
       "    }\n",
       "\n",
       "    .dataframe tbody tr th {\n",
       "        vertical-align: top;\n",
       "    }\n",
       "\n",
       "    .dataframe thead th {\n",
       "        text-align: right;\n",
       "    }\n",
       "</style>\n",
       "<table border=\"1\" class=\"dataframe\">\n",
       "  <thead>\n",
       "    <tr style=\"text-align: right;\">\n",
       "      <th></th>\n",
       "      <th>smiles</th>\n",
       "      <th>uniprot_id1</th>\n",
       "    </tr>\n",
       "  </thead>\n",
       "  <tbody>\n",
       "    <tr>\n",
       "      <th>0</th>\n",
       "      <td>OC(=O)[C@H](Cc1ccc(NC(=O)c2c(Cl)cccc2Cl)cc1)NC...</td>\n",
       "      <td>P13612</td>\n",
       "    </tr>\n",
       "    <tr>\n",
       "      <th>1</th>\n",
       "      <td>C\\C=C\\[C@@H](CC(=O)O)NC(=O)C[C@@H](CC(C)C)NC(=...</td>\n",
       "      <td>P05556</td>\n",
       "    </tr>\n",
       "    <tr>\n",
       "      <th>2</th>\n",
       "      <td>CN1[C@@H](CCCN=C(N)N)C(=O)NCC(=O)N[C@@H](CC(=O...</td>\n",
       "      <td>P05106</td>\n",
       "    </tr>\n",
       "    <tr>\n",
       "      <th>3</th>\n",
       "      <td>OC(=O)C(CNC(=O)CCCCc1ccc2CCCNc2n1)c3cnc4ccccc4c3</td>\n",
       "      <td>P05106</td>\n",
       "    </tr>\n",
       "    <tr>\n",
       "      <th>4</th>\n",
       "      <td>OC(=O)C[C@H](NC(=O)CN1CCC[C@@H](CCC2CCNCC2)C1=...</td>\n",
       "      <td>P05106</td>\n",
       "    </tr>\n",
       "    <tr>\n",
       "      <th>5</th>\n",
       "      <td>N[C@@H](Cc1ccc(O)cc1)C(=O)N[C@H]2CSSC[C@H](NC(...</td>\n",
       "      <td>P05556</td>\n",
       "    </tr>\n",
       "    <tr>\n",
       "      <th>6</th>\n",
       "      <td>CC(=O)N1CSC[C@@H]1C(=O)N[C@@H](Cc2ccc(OC(=O)C3...</td>\n",
       "      <td>P05556</td>\n",
       "    </tr>\n",
       "    <tr>\n",
       "      <th>7</th>\n",
       "      <td>CC1CCC(C[C@H](NC(=O)[C@@H]2CCC(=O)N2Cc3ccccc3)...</td>\n",
       "      <td>P13612</td>\n",
       "    </tr>\n",
       "    <tr>\n",
       "      <th>8</th>\n",
       "      <td>COP(=O)(O)[C@@H](CNC(=O)c1ccc(OCCC2CCNCC2)cc1)...</td>\n",
       "      <td>P05106</td>\n",
       "    </tr>\n",
       "    <tr>\n",
       "      <th>9</th>\n",
       "      <td>NC(=N)Nc1cccc(c1)C(=O)Nc2ccc(CC(NS(=O)(=O)c3cc...</td>\n",
       "      <td>P05106</td>\n",
       "    </tr>\n",
       "  </tbody>\n",
       "</table>\n",
       "</div>"
      ],
      "text/plain": [
       "                                              smiles uniprot_id1\n",
       "0  OC(=O)[C@H](Cc1ccc(NC(=O)c2c(Cl)cccc2Cl)cc1)NC...      P13612\n",
       "1  C\\C=C\\[C@@H](CC(=O)O)NC(=O)C[C@@H](CC(C)C)NC(=...      P05556\n",
       "2  CN1[C@@H](CCCN=C(N)N)C(=O)NCC(=O)N[C@@H](CC(=O...      P05106\n",
       "3   OC(=O)C(CNC(=O)CCCCc1ccc2CCCNc2n1)c3cnc4ccccc4c3      P05106\n",
       "4  OC(=O)C[C@H](NC(=O)CN1CCC[C@@H](CCC2CCNCC2)C1=...      P05106\n",
       "5  N[C@@H](Cc1ccc(O)cc1)C(=O)N[C@H]2CSSC[C@H](NC(...      P05556\n",
       "6  CC(=O)N1CSC[C@@H]1C(=O)N[C@@H](Cc2ccc(OC(=O)C3...      P05556\n",
       "7  CC1CCC(C[C@H](NC(=O)[C@@H]2CCC(=O)N2Cc3ccccc3)...      P13612\n",
       "8  COP(=O)(O)[C@@H](CNC(=O)c1ccc(OCCC2CCNCC2)cc1)...      P05106\n",
       "9  NC(=N)Nc1cccc(c1)C(=O)Nc2ccc(CC(NS(=O)(=O)c3cc...      P05106"
      ]
     },
     "execution_count": 9,
     "metadata": {},
     "output_type": "execute_result"
    }
   ],
   "source": [
    "f_df = pd.read_csv(final_df_path)\n",
    "\n",
    "PRINT(f'Loaded the final data frame')\n",
    "f_df.head(10)"
   ]
  },
  {
   "cell_type": "code",
   "execution_count": 10,
   "id": "cbbdb2ab-3f2a-47e7-9414-91aa6982f817",
   "metadata": {},
   "outputs": [],
   "source": [
    "f_df.rename(columns={'uniprot_id1':'UniProtTarget', 'smiles':'SMILES'}, inplace=True)"
   ]
  },
  {
   "cell_type": "code",
   "execution_count": 11,
   "id": "6c00e2b6-800b-4e99-9881-d127e187fc4a",
   "metadata": {},
   "outputs": [
    {
     "data": {
      "text/html": [
       "<div>\n",
       "<style scoped>\n",
       "    .dataframe tbody tr th:only-of-type {\n",
       "        vertical-align: middle;\n",
       "    }\n",
       "\n",
       "    .dataframe tbody tr th {\n",
       "        vertical-align: top;\n",
       "    }\n",
       "\n",
       "    .dataframe thead th {\n",
       "        text-align: right;\n",
       "    }\n",
       "</style>\n",
       "<table border=\"1\" class=\"dataframe\">\n",
       "  <thead>\n",
       "    <tr style=\"text-align: right;\">\n",
       "      <th></th>\n",
       "      <th>SMILES</th>\n",
       "      <th>UniProtTarget</th>\n",
       "    </tr>\n",
       "  </thead>\n",
       "  <tbody>\n",
       "    <tr>\n",
       "      <th>0</th>\n",
       "      <td>OC(=O)[C@H](Cc1ccc(NC(=O)c2c(Cl)cccc2Cl)cc1)NC...</td>\n",
       "      <td>P13612</td>\n",
       "    </tr>\n",
       "    <tr>\n",
       "      <th>1</th>\n",
       "      <td>C\\C=C\\[C@@H](CC(=O)O)NC(=O)C[C@@H](CC(C)C)NC(=...</td>\n",
       "      <td>P05556</td>\n",
       "    </tr>\n",
       "    <tr>\n",
       "      <th>2</th>\n",
       "      <td>CN1[C@@H](CCCN=C(N)N)C(=O)NCC(=O)N[C@@H](CC(=O...</td>\n",
       "      <td>P05106</td>\n",
       "    </tr>\n",
       "  </tbody>\n",
       "</table>\n",
       "</div>"
      ],
      "text/plain": [
       "                                              SMILES UniProtTarget\n",
       "0  OC(=O)[C@H](Cc1ccc(NC(=O)c2c(Cl)cccc2Cl)cc1)NC...        P13612\n",
       "1  C\\C=C\\[C@@H](CC(=O)O)NC(=O)C[C@@H](CC(C)C)NC(=...        P05556\n",
       "2  CN1[C@@H](CCCN=C(N)N)C(=O)NCC(=O)N[C@@H](CC(=O...        P05106"
      ]
     },
     "execution_count": 11,
     "metadata": {},
     "output_type": "execute_result"
    }
   ],
   "source": [
    "f_df.head(3)"
   ]
  },
  {
   "cell_type": "code",
   "execution_count": 12,
   "id": "e996fee3-8750-4685-918f-8115934dfbcf",
   "metadata": {},
   "outputs": [
    {
     "name": "stdout",
     "output_type": "stream",
     "text": [
      "~~~~~~~~~~~~~~~~~~~~~~~~~~~~~~~~~~~~~~~~~~~~~~~~~~~~~~~~~~~~~~~~~~~~~~~~~~~~~~~~\n",
      "Number of duplicated rows if the prediction dataframe -> 0\n",
      "~~~~~~~~~~~~~~~~~~~~~~~~~~~~~~~~~~~~~~~~~~~~~~~~~~~~~~~~~~~~~~~~~~~~~~~~~~~~~~~~\n"
     ]
    }
   ],
   "source": [
    "# Verify that there is no duplicated rows in our prediction dataset, i.e., duplicated [SMILES, UniProtTarget] rows\n",
    "duplicated_rows_df = f_df[f_df.duplicated()]\n",
    "\n",
    "PRINT(f'Number of duplicated rows if the prediction dataframe -> {duplicated_rows_df.shape[0]}')"
   ]
  },
  {
   "cell_type": "code",
   "execution_count": 13,
   "id": "535b269e-dd07-4be9-af9a-bacd665e389d",
   "metadata": {},
   "outputs": [],
   "source": [
    "target_dataframes = {}\n",
    "\n",
    "# Iterate over unique UniProtTarget values\n",
    "for target_value in f_df['UniProtTarget'].unique():\n",
    "    # Filter the dataframe for the current UniProtTarget value\n",
    "    target_df = f_df[f_df['UniProtTarget'] == target_value].copy()\n",
    "       \n",
    "    target_dataframes[target_value] = target_df"
   ]
  },
  {
   "cell_type": "code",
   "execution_count": 14,
   "id": "6ff10a60-a482-4989-81b4-0b4d40a5855e",
   "metadata": {},
   "outputs": [
    {
     "data": {
      "text/plain": [
       "dict_keys(['P13612', 'P05556', 'P05106', 'P05107', 'P08648', 'P17301'])"
      ]
     },
     "execution_count": 14,
     "metadata": {},
     "output_type": "execute_result"
    }
   ],
   "source": [
    "target_dataframes.keys()"
   ]
  },
  {
   "cell_type": "markdown",
   "id": "d5a3983e-f0a9-4083-b0ca-0beef7b8ba73",
   "metadata": {},
   "source": [
    "---\n",
    "### Predict for P05556 ###"
   ]
  },
  {
   "cell_type": "code",
   "execution_count": 15,
   "id": "1037d355-9919-4dbc-b3da-b03cad624681",
   "metadata": {},
   "outputs": [],
   "source": [
    "P05556_label_dict = {0: 'P06756', 1: 'P08648', 2:'P13612',\n",
    "                     3: 'P17301', 4:'P56199', 5: 'Q13797'\n",
    "                    }\n"
   ]
  },
  {
   "cell_type": "code",
   "execution_count": 16,
   "id": "d0e876ab-78fd-4a9f-a703-1acc8ff82a22",
   "metadata": {},
   "outputs": [
    {
     "data": {
      "text/html": [
       "<div>\n",
       "<style scoped>\n",
       "    .dataframe tbody tr th:only-of-type {\n",
       "        vertical-align: middle;\n",
       "    }\n",
       "\n",
       "    .dataframe tbody tr th {\n",
       "        vertical-align: top;\n",
       "    }\n",
       "\n",
       "    .dataframe thead th {\n",
       "        text-align: right;\n",
       "    }\n",
       "</style>\n",
       "<table border=\"1\" class=\"dataframe\">\n",
       "  <thead>\n",
       "    <tr style=\"text-align: right;\">\n",
       "      <th></th>\n",
       "      <th>SMILES</th>\n",
       "      <th>UniProtTarget</th>\n",
       "    </tr>\n",
       "  </thead>\n",
       "  <tbody>\n",
       "    <tr>\n",
       "      <th>1</th>\n",
       "      <td>C\\C=C\\[C@@H](CC(=O)O)NC(=O)C[C@@H](CC(C)C)NC(=...</td>\n",
       "      <td>P05556</td>\n",
       "    </tr>\n",
       "    <tr>\n",
       "      <th>5</th>\n",
       "      <td>N[C@@H](Cc1ccc(O)cc1)C(=O)N[C@H]2CSSC[C@H](NC(...</td>\n",
       "      <td>P05556</td>\n",
       "    </tr>\n",
       "  </tbody>\n",
       "</table>\n",
       "</div>"
      ],
      "text/plain": [
       "                                              SMILES UniProtTarget\n",
       "1  C\\C=C\\[C@@H](CC(=O)O)NC(=O)C[C@@H](CC(C)C)NC(=...        P05556\n",
       "5  N[C@@H](Cc1ccc(O)cc1)C(=O)N[C@H]2CSSC[C@H](NC(...        P05556"
      ]
     },
     "execution_count": 16,
     "metadata": {},
     "output_type": "execute_result"
    }
   ],
   "source": [
    "P05556_pred = target_dataframes['P05556'].copy()\n",
    "\n",
    "P05556_pred.head(2)"
   ]
  },
  {
   "cell_type": "code",
   "execution_count": 138,
   "id": "934a7788-7cd0-48f7-b4a9-2a46c02ac1ea",
   "metadata": {},
   "outputs": [
    {
     "name": "stdout",
     "output_type": "stream",
     "text": [
      "~~~~~~~~~~~~~~~~~~~~~~~~~~~~~~~~~~~~~~~~~~~~~~~~~~~~~~~~~~~~~~~~~~~~~~~~~~~~~~~~\n",
      "Shepe:\n",
      "\n",
      "(948, 2)\n",
      "~~~~~~~~~~~~~~~~~~~~~~~~~~~~~~~~~~~~~~~~~~~~~~~~~~~~~~~~~~~~~~~~~~~~~~~~~~~~~~~~\n"
     ]
    }
   ],
   "source": [
    "PRINT(f'Shepe:\\n\\n{P05556_pred.shape}')"
   ]
  },
  {
   "cell_type": "code",
   "execution_count": 139,
   "id": "609b356a-4ab3-4695-887a-ea9f7a0bab2b",
   "metadata": {},
   "outputs": [
    {
     "name": "stdout",
     "output_type": "stream",
     "text": [
      "~~~~~~~~~~~~~~~~~~~~~~~~~~~~~~~~~~~~~~~~~~~~~~~~~~~~~~~~~~~~~~~~~~~~~~~~~~~~~~~~\n",
      "Reseted the indexes of the data frame in order to avoid issues with features generation\n",
      "~~~~~~~~~~~~~~~~~~~~~~~~~~~~~~~~~~~~~~~~~~~~~~~~~~~~~~~~~~~~~~~~~~~~~~~~~~~~~~~~\n"
     ]
    }
   ],
   "source": [
    "P05556_pred = P05556_pred.reset_index(drop=True)\n",
    "\n",
    "PRINT(f'Reseted the indexes of the data frame in order to avoid issues with features generation')"
   ]
  },
  {
   "cell_type": "code",
   "execution_count": 140,
   "id": "ff98beea-f418-46ca-93eb-f6ce05cf4964",
   "metadata": {},
   "outputs": [],
   "source": [
    "P05556_pred.drop(['UniProtTarget'],axis=1, inplace=True)"
   ]
  },
  {
   "cell_type": "code",
   "execution_count": 142,
   "id": "b9a3f8b0-8949-4c23-b53a-6604ba70a745",
   "metadata": {},
   "outputs": [
    {
     "name": "stdout",
     "output_type": "stream",
     "text": [
      "~~~~~~~~~~~~~~~~~~~~~~~~~~~~~~~~~~~~~~~~~~~~~~~~~~~~~~~~~~~~~~~~~~~~~~~~~~~~~~~~\n",
      "Done generating features for prediction !\n",
      "~~~~~~~~~~~~~~~~~~~~~~~~~~~~~~~~~~~~~~~~~~~~~~~~~~~~~~~~~~~~~~~~~~~~~~~~~~~~~~~~\n"
     ]
    }
   ],
   "source": [
    "# Genera copy of the data frame for our features\n",
    "P05556_pred_ = P05556_pred.copy()\n",
    "\n",
    "# Apply the `calculate_descriptors` method in order to generate 8 new features for df\n",
    "P05556_pred_['MolecularDescriptors'] = P05556_pred_['SMILES'].apply(calculate_descriptors)\n",
    "\n",
    "# Transfer the array at each row under the 'MolecularDescriptors' column into column with their corresponding names & drop the colunn\n",
    "P05556_pred_[['MolWt', 'NumValenceElectrons', 'TPSA', 'MolLogP', 'NumHeteroatoms', 'NumRotatableBonds', 'HeavyAtomCount', 'FractionCSP3']] = pd.DataFrame(P05556_pred_['MolecularDescriptors'].tolist(), index=P05556_pred_.index)\n",
    "P05556_pred_.drop(columns=['MolecularDescriptors'], axis=1, inplace=True)\n",
    "\n",
    "# Reorder the columns names so that the label column will be the last column in df\n",
    "P05556_pred_ = P05556_pred_[['SMILES', 'MolWt', 'NumValenceElectrons', 'TPSA', 'MolLogP', 'NumHeteroatoms', 'NumRotatableBonds', 'HeavyAtomCount', 'FractionCSP3']]\n",
    "\n",
    "PRINT(f'Done generating features for prediction !')"
   ]
  },
  {
   "cell_type": "code",
   "execution_count": 143,
   "id": "77ba371e-85fa-4dbf-b383-208e0841778b",
   "metadata": {},
   "outputs": [
    {
     "data": {
      "text/html": [
       "<div>\n",
       "<style scoped>\n",
       "    .dataframe tbody tr th:only-of-type {\n",
       "        vertical-align: middle;\n",
       "    }\n",
       "\n",
       "    .dataframe tbody tr th {\n",
       "        vertical-align: top;\n",
       "    }\n",
       "\n",
       "    .dataframe thead th {\n",
       "        text-align: right;\n",
       "    }\n",
       "</style>\n",
       "<table border=\"1\" class=\"dataframe\">\n",
       "  <thead>\n",
       "    <tr style=\"text-align: right;\">\n",
       "      <th></th>\n",
       "      <th>SMILES</th>\n",
       "      <th>MolWt</th>\n",
       "      <th>NumValenceElectrons</th>\n",
       "      <th>TPSA</th>\n",
       "      <th>MolLogP</th>\n",
       "      <th>NumHeteroatoms</th>\n",
       "      <th>NumRotatableBonds</th>\n",
       "      <th>HeavyAtomCount</th>\n",
       "      <th>FractionCSP3</th>\n",
       "    </tr>\n",
       "  </thead>\n",
       "  <tbody>\n",
       "    <tr>\n",
       "      <th>0</th>\n",
       "      <td>C\\C=C\\[C@@H](CC(=O)O)NC(=O)C[C@@H](CC(C)C)NC(=...</td>\n",
       "      <td>522.646</td>\n",
       "      <td>204</td>\n",
       "      <td>136.63</td>\n",
       "      <td>4.63812</td>\n",
       "      <td>9</td>\n",
       "      <td>13</td>\n",
       "      <td>38</td>\n",
       "      <td>0.379310</td>\n",
       "    </tr>\n",
       "    <tr>\n",
       "      <th>1</th>\n",
       "      <td>N[C@@H](Cc1ccc(O)cc1)C(=O)N[C@H]2CSSC[C@H](NC(...</td>\n",
       "      <td>538.692</td>\n",
       "      <td>198</td>\n",
       "      <td>170.85</td>\n",
       "      <td>1.16640</td>\n",
       "      <td>12</td>\n",
       "      <td>7</td>\n",
       "      <td>36</td>\n",
       "      <td>0.583333</td>\n",
       "    </tr>\n",
       "  </tbody>\n",
       "</table>\n",
       "</div>"
      ],
      "text/plain": [
       "                                              SMILES    MolWt  \\\n",
       "0  C\\C=C\\[C@@H](CC(=O)O)NC(=O)C[C@@H](CC(C)C)NC(=...  522.646   \n",
       "1  N[C@@H](Cc1ccc(O)cc1)C(=O)N[C@H]2CSSC[C@H](NC(...  538.692   \n",
       "\n",
       "   NumValenceElectrons    TPSA  MolLogP  NumHeteroatoms  NumRotatableBonds  \\\n",
       "0                  204  136.63  4.63812               9                 13   \n",
       "1                  198  170.85  1.16640              12                  7   \n",
       "\n",
       "   HeavyAtomCount  FractionCSP3  \n",
       "0              38      0.379310  \n",
       "1              36      0.583333  "
      ]
     },
     "execution_count": 143,
     "metadata": {},
     "output_type": "execute_result"
    }
   ],
   "source": [
    "P05556_pred_.head(2)"
   ]
  },
  {
   "cell_type": "code",
   "execution_count": 144,
   "id": "d0513f52-483d-4043-bdfc-db936f19fb51",
   "metadata": {},
   "outputs": [
    {
     "name": "stdout",
     "output_type": "stream",
     "text": [
      "~~~~~~~~~~~~~~~~~~~~~~~~~~~~~~~~~~~~~~~~~~~~~~~~~~~~~~~~~~~~~~~~~~~~~~~~~~~~~~~~\n",
      "Shape after generating features using RKDirDescriptors feature generation:\n",
      "\n",
      "(948, 9)\n",
      "~~~~~~~~~~~~~~~~~~~~~~~~~~~~~~~~~~~~~~~~~~~~~~~~~~~~~~~~~~~~~~~~~~~~~~~~~~~~~~~~\n"
     ]
    }
   ],
   "source": [
    "PRINT(f'Shape after generating features using RKDirDescriptors feature generation:\\n\\n{P05556_pred_.shape}')"
   ]
  },
  {
   "cell_type": "code",
   "execution_count": 145,
   "id": "022359de-a32a-46dd-8c3e-cb00a5721c35",
   "metadata": {},
   "outputs": [
    {
     "name": "stdout",
     "output_type": "stream",
     "text": [
      "~~~~~~~~~~~~~~~~~~~~~~~~~~~~~~~~~~~~~~~~~~~~~~~~~~~~~~~~~~~~~~~~~~~~~~~~~~~~~~~~\n",
      "Loaded Model Successfully !\n",
      "~~~~~~~~~~~~~~~~~~~~~~~~~~~~~~~~~~~~~~~~~~~~~~~~~~~~~~~~~~~~~~~~~~~~~~~~~~~~~~~~\n"
     ]
    }
   ],
   "source": [
    "rf_P05556 = load('models/Best Model of each UniProt Modified/rf_P05556_RDKD.joblib')\n",
    "PRINT(f'Loaded Model Successfully !')"
   ]
  },
  {
   "cell_type": "code",
   "execution_count": 146,
   "id": "d275fe8b-6baf-4050-856f-fb4215468612",
   "metadata": {},
   "outputs": [],
   "source": [
    "# Drop SMILES column for prediction\n",
    "df_for_model_P05556 = P05556_pred_.drop(['SMILES'], axis=1)"
   ]
  },
  {
   "cell_type": "code",
   "execution_count": 147,
   "id": "1da4a778-22bc-4ff3-8586-823ad17f806f",
   "metadata": {},
   "outputs": [
    {
     "data": {
      "text/html": [
       "<div>\n",
       "<style scoped>\n",
       "    .dataframe tbody tr th:only-of-type {\n",
       "        vertical-align: middle;\n",
       "    }\n",
       "\n",
       "    .dataframe tbody tr th {\n",
       "        vertical-align: top;\n",
       "    }\n",
       "\n",
       "    .dataframe thead th {\n",
       "        text-align: right;\n",
       "    }\n",
       "</style>\n",
       "<table border=\"1\" class=\"dataframe\">\n",
       "  <thead>\n",
       "    <tr style=\"text-align: right;\">\n",
       "      <th></th>\n",
       "      <th>MolWt</th>\n",
       "      <th>NumValenceElectrons</th>\n",
       "      <th>TPSA</th>\n",
       "      <th>MolLogP</th>\n",
       "      <th>NumHeteroatoms</th>\n",
       "      <th>NumRotatableBonds</th>\n",
       "      <th>HeavyAtomCount</th>\n",
       "      <th>FractionCSP3</th>\n",
       "    </tr>\n",
       "  </thead>\n",
       "  <tbody>\n",
       "    <tr>\n",
       "      <th>0</th>\n",
       "      <td>522.646</td>\n",
       "      <td>204</td>\n",
       "      <td>136.63</td>\n",
       "      <td>4.63812</td>\n",
       "      <td>9</td>\n",
       "      <td>13</td>\n",
       "      <td>38</td>\n",
       "      <td>0.379310</td>\n",
       "    </tr>\n",
       "    <tr>\n",
       "      <th>1</th>\n",
       "      <td>538.692</td>\n",
       "      <td>198</td>\n",
       "      <td>170.85</td>\n",
       "      <td>1.16640</td>\n",
       "      <td>12</td>\n",
       "      <td>7</td>\n",
       "      <td>36</td>\n",
       "      <td>0.583333</td>\n",
       "    </tr>\n",
       "  </tbody>\n",
       "</table>\n",
       "</div>"
      ],
      "text/plain": [
       "     MolWt  NumValenceElectrons    TPSA  MolLogP  NumHeteroatoms  \\\n",
       "0  522.646                  204  136.63  4.63812               9   \n",
       "1  538.692                  198  170.85  1.16640              12   \n",
       "\n",
       "   NumRotatableBonds  HeavyAtomCount  FractionCSP3  \n",
       "0                 13              38      0.379310  \n",
       "1                  7              36      0.583333  "
      ]
     },
     "execution_count": 147,
     "metadata": {},
     "output_type": "execute_result"
    }
   ],
   "source": [
    "df_for_model_P05556.head(2)"
   ]
  },
  {
   "cell_type": "code",
   "execution_count": 148,
   "id": "a025fccf-521b-48aa-b35a-f26d48833b1a",
   "metadata": {},
   "outputs": [
    {
     "name": "stdout",
     "output_type": "stream",
     "text": [
      "~~~~~~~~~~~~~~~~~~~~~~~~~~~~~~~~~~~~~~~~~~~~~~~~~~~~~~~~~~~~~~~~~~~~~~~~~~~~~~~~\n",
      "Finished predicting on unseen data.\n",
      "~~~~~~~~~~~~~~~~~~~~~~~~~~~~~~~~~~~~~~~~~~~~~~~~~~~~~~~~~~~~~~~~~~~~~~~~~~~~~~~~\n"
     ]
    }
   ],
   "source": [
    "# Generate predictions on unseen data\n",
    "predictions = rf_P05556.predict(df_for_model_P05556)\n",
    "\n",
    "PRINT(f'Finished predicting on unseen data.')"
   ]
  },
  {
   "cell_type": "code",
   "execution_count": 155,
   "id": "da5f6feb-3319-4cbe-bdff-b568cf99ae3b",
   "metadata": {},
   "outputs": [
    {
     "name": "stdout",
     "output_type": "stream",
     "text": [
      "~~~~~~~~~~~~~~~~~~~~~~~~~~~~~~~~~~~~~~~~~~~~~~~~~~~~~~~~~~~~~~~~~~~~~~~~~~~~~~~~\n",
      "Prediction shape: (948,)\n",
      "\n",
      "Visualize few predictions:\n",
      "\n",
      "[2 2 2 1 2 2 2 2 2 2 2 2 2 2 2 2 2 2 0 2 2 2 2 2 1 2 2 2 2 2 2 2 2 2 2 2 2\n",
      " 2 2 2 2 2 2 2 2 2 4 2 2 2]\n",
      "~~~~~~~~~~~~~~~~~~~~~~~~~~~~~~~~~~~~~~~~~~~~~~~~~~~~~~~~~~~~~~~~~~~~~~~~~~~~~~~~\n"
     ]
    }
   ],
   "source": [
    "PRINT(f'Prediction shape: {predictions.shape}\\n\\nVisualize few predictions:\\n\\n{predictions[30:80]}')"
   ]
  },
  {
   "cell_type": "markdown",
   "id": "2491b232-2aa0-4e0a-9c8b-14667e2e3360",
   "metadata": {},
   "source": [
    "In analyzing our model predictions on unseen data, we observe that the model successfully predicts classes with significantly low and unbalanced distributions in the dataset on which we trained the model. This suggests that our model excels in generalizing to identify even the smaller classes and predicting their protein-protein interactions (PPI)"
   ]
  },
  {
   "cell_type": "code",
   "execution_count": 156,
   "id": "f16e824c-db9d-47e8-a05e-a8a91186e612",
   "metadata": {},
   "outputs": [],
   "source": [
    "# Generate list holding UniProts instead their labeled classes\n",
    "labeled_predictions = [P05556_label_dict[prediction] for prediction in predictions]"
   ]
  },
  {
   "cell_type": "code",
   "execution_count": 159,
   "id": "be25bb23-01d2-4a5f-8f48-ff435cc60379",
   "metadata": {},
   "outputs": [
    {
     "name": "stdout",
     "output_type": "stream",
     "text": [
      "~~~~~~~~~~~~~~~~~~~~~~~~~~~~~~~~~~~~~~~~~~~~~~~~~~~~~~~~~~~~~~~~~~~~~~~~~~~~~~~~\n",
      "Labeled prediction (UniProt):\n",
      "\n",
      "['P13612', 'P13612', 'P13612', 'P08648', 'P13612', 'P13612', 'P13612', 'P13612', 'P13612', 'P13612', 'P13612', 'P13612', 'P13612', 'P13612', 'P13612']\n",
      "~~~~~~~~~~~~~~~~~~~~~~~~~~~~~~~~~~~~~~~~~~~~~~~~~~~~~~~~~~~~~~~~~~~~~~~~~~~~~~~~\n"
     ]
    }
   ],
   "source": [
    "PRINT(f'Labeled prediction (UniProt):\\n\\n{labeled_predictions[30:45]}')"
   ]
  },
  {
   "cell_type": "code",
   "execution_count": 160,
   "id": "cdbf5f13-a4cc-47f4-8ce0-31f69e1db3f8",
   "metadata": {},
   "outputs": [
    {
     "name": "stdout",
     "output_type": "stream",
     "text": [
      "~~~~~~~~~~~~~~~~~~~~~~~~~~~~~~~~~~~~~~~~~~~~~~~~~~~~~~~~~~~~~~~~~~~~~~~~~~~~~~~~\n",
      "Merged the Predictions !\n",
      "~~~~~~~~~~~~~~~~~~~~~~~~~~~~~~~~~~~~~~~~~~~~~~~~~~~~~~~~~~~~~~~~~~~~~~~~~~~~~~~~\n"
     ]
    }
   ],
   "source": [
    "P05556_pred['PredictedUniProtPartner'] = labeled_predictions\n",
    "\n",
    "PRINT('Merged the Predictions !')"
   ]
  },
  {
   "cell_type": "code",
   "execution_count": 161,
   "id": "7a7bc65b-db8f-44e7-9172-09915fd536d1",
   "metadata": {},
   "outputs": [
    {
     "data": {
      "text/html": [
       "<div>\n",
       "<style scoped>\n",
       "    .dataframe tbody tr th:only-of-type {\n",
       "        vertical-align: middle;\n",
       "    }\n",
       "\n",
       "    .dataframe tbody tr th {\n",
       "        vertical-align: top;\n",
       "    }\n",
       "\n",
       "    .dataframe thead th {\n",
       "        text-align: right;\n",
       "    }\n",
       "</style>\n",
       "<table border=\"1\" class=\"dataframe\">\n",
       "  <thead>\n",
       "    <tr style=\"text-align: right;\">\n",
       "      <th></th>\n",
       "      <th>SMILES</th>\n",
       "      <th>PredictedUniProtPartner</th>\n",
       "    </tr>\n",
       "  </thead>\n",
       "  <tbody>\n",
       "    <tr>\n",
       "      <th>0</th>\n",
       "      <td>C\\C=C\\[C@@H](CC(=O)O)NC(=O)C[C@@H](CC(C)C)NC(=...</td>\n",
       "      <td>P13612</td>\n",
       "    </tr>\n",
       "    <tr>\n",
       "      <th>1</th>\n",
       "      <td>N[C@@H](Cc1ccc(O)cc1)C(=O)N[C@H]2CSSC[C@H](NC(...</td>\n",
       "      <td>P13612</td>\n",
       "    </tr>\n",
       "    <tr>\n",
       "      <th>2</th>\n",
       "      <td>CC(=O)N1CSC[C@@H]1C(=O)N[C@@H](Cc2ccc(OC(=O)C3...</td>\n",
       "      <td>P13612</td>\n",
       "    </tr>\n",
       "  </tbody>\n",
       "</table>\n",
       "</div>"
      ],
      "text/plain": [
       "                                              SMILES PredictedUniProtPartner\n",
       "0  C\\C=C\\[C@@H](CC(=O)O)NC(=O)C[C@@H](CC(C)C)NC(=...                  P13612\n",
       "1  N[C@@H](Cc1ccc(O)cc1)C(=O)N[C@H]2CSSC[C@H](NC(...                  P13612\n",
       "2  CC(=O)N1CSC[C@@H]1C(=O)N[C@@H](Cc2ccc(OC(=O)C3...                  P13612"
      ]
     },
     "execution_count": 161,
     "metadata": {},
     "output_type": "execute_result"
    }
   ],
   "source": [
    "P05556_pred.head(3)"
   ]
  },
  {
   "cell_type": "code",
   "execution_count": 162,
   "id": "de79660f-9543-4f97-9179-1fcaf5547e2d",
   "metadata": {},
   "outputs": [
    {
     "name": "stdout",
     "output_type": "stream",
     "text": [
      "~~~~~~~~~~~~~~~~~~~~~~~~~~~~~~~~~~~~~~~~~~~~~~~~~~~~~~~~~~~~~~~~~~~~~~~~~~~~~~~~\n",
      "Predictions Saved!\n",
      "~~~~~~~~~~~~~~~~~~~~~~~~~~~~~~~~~~~~~~~~~~~~~~~~~~~~~~~~~~~~~~~~~~~~~~~~~~~~~~~~\n"
     ]
    }
   ],
   "source": [
    "P05556_pred.to_csv(os.path.join('predictions','P05556_pred_.csv'), index=False)\n",
    "\n",
    "PRINT('Predictions Saved!')"
   ]
  },
  {
   "cell_type": "markdown",
   "id": "38d1da19-abda-445f-9551-0239aa68314a",
   "metadata": {},
   "source": [
    "---\n",
    "### Predict for P05106 ###"
   ]
  },
  {
   "cell_type": "code",
   "execution_count": 17,
   "id": "44dae00a-35f1-4ec2-a056-23d74203f3c9",
   "metadata": {},
   "outputs": [],
   "source": [
    "P05106_label_dict = {0: 'P06756', 1: 'P08514', 2: 'P17301', 3: 'P26006'}"
   ]
  },
  {
   "cell_type": "code",
   "execution_count": 18,
   "id": "2d9e5185-3948-4860-8d02-1809f20a021b",
   "metadata": {},
   "outputs": [
    {
     "data": {
      "text/html": [
       "<div>\n",
       "<style scoped>\n",
       "    .dataframe tbody tr th:only-of-type {\n",
       "        vertical-align: middle;\n",
       "    }\n",
       "\n",
       "    .dataframe tbody tr th {\n",
       "        vertical-align: top;\n",
       "    }\n",
       "\n",
       "    .dataframe thead th {\n",
       "        text-align: right;\n",
       "    }\n",
       "</style>\n",
       "<table border=\"1\" class=\"dataframe\">\n",
       "  <thead>\n",
       "    <tr style=\"text-align: right;\">\n",
       "      <th></th>\n",
       "      <th>SMILES</th>\n",
       "      <th>UniProtTarget</th>\n",
       "    </tr>\n",
       "  </thead>\n",
       "  <tbody>\n",
       "    <tr>\n",
       "      <th>2</th>\n",
       "      <td>CN1[C@@H](CCCN=C(N)N)C(=O)NCC(=O)N[C@@H](CC(=O...</td>\n",
       "      <td>P05106</td>\n",
       "    </tr>\n",
       "    <tr>\n",
       "      <th>3</th>\n",
       "      <td>OC(=O)C(CNC(=O)CCCCc1ccc2CCCNc2n1)c3cnc4ccccc4c3</td>\n",
       "      <td>P05106</td>\n",
       "    </tr>\n",
       "  </tbody>\n",
       "</table>\n",
       "</div>"
      ],
      "text/plain": [
       "                                              SMILES UniProtTarget\n",
       "2  CN1[C@@H](CCCN=C(N)N)C(=O)NCC(=O)N[C@@H](CC(=O...        P05106\n",
       "3   OC(=O)C(CNC(=O)CCCCc1ccc2CCCNc2n1)c3cnc4ccccc4c3        P05106"
      ]
     },
     "execution_count": 18,
     "metadata": {},
     "output_type": "execute_result"
    }
   ],
   "source": [
    "P05106_pred = target_dataframes['P05106'].copy()\n",
    "\n",
    "\n",
    "P05106_pred.head(2)"
   ]
  },
  {
   "cell_type": "code",
   "execution_count": null,
   "id": "26faedd7-044a-4057-a89b-e498c0c250e7",
   "metadata": {},
   "outputs": [],
   "source": []
  },
  {
   "cell_type": "code",
   "execution_count": 19,
   "id": "1465f27e-7443-406b-941e-1df875756921",
   "metadata": {},
   "outputs": [
    {
     "name": "stdout",
     "output_type": "stream",
     "text": [
      "~~~~~~~~~~~~~~~~~~~~~~~~~~~~~~~~~~~~~~~~~~~~~~~~~~~~~~~~~~~~~~~~~~~~~~~~~~~~~~~~\n",
      "Reseted the indexes of the data frame in order to avoid issues with features generation\n",
      "~~~~~~~~~~~~~~~~~~~~~~~~~~~~~~~~~~~~~~~~~~~~~~~~~~~~~~~~~~~~~~~~~~~~~~~~~~~~~~~~\n"
     ]
    }
   ],
   "source": [
    "P05106_pred = P05106_pred.reset_index(drop=True)\n",
    "\n",
    "PRINT(f'Reseted the indexes of the data frame in order to avoid issues with features generation')"
   ]
  },
  {
   "cell_type": "code",
   "execution_count": 20,
   "id": "3c24c8a1-1bfc-48f2-abb1-1c0e4902a6ad",
   "metadata": {},
   "outputs": [
    {
     "name": "stdout",
     "output_type": "stream",
     "text": [
      "~~~~~~~~~~~~~~~~~~~~~~~~~~~~~~~~~~~~~~~~~~~~~~~~~~~~~~~~~~~~~~~~~~~~~~~~~~~~~~~~\n",
      "Shape:\n",
      "\n",
      "(1727, 2)\n",
      "~~~~~~~~~~~~~~~~~~~~~~~~~~~~~~~~~~~~~~~~~~~~~~~~~~~~~~~~~~~~~~~~~~~~~~~~~~~~~~~~\n"
     ]
    }
   ],
   "source": [
    "PRINT(f'Shape:\\n\\n{P05106_pred.shape}')"
   ]
  },
  {
   "cell_type": "code",
   "execution_count": 21,
   "id": "b3d76422-cfba-4100-a8f7-162d88fa87c4",
   "metadata": {},
   "outputs": [],
   "source": [
    "P05106_pred.drop(['UniProtTarget'],axis=1, inplace=True)"
   ]
  },
  {
   "cell_type": "code",
   "execution_count": 24,
   "id": "c3f5495c-f2a7-4b46-98c1-4aac26a70192",
   "metadata": {},
   "outputs": [
    {
     "name": "stdout",
     "output_type": "stream",
     "text": [
      "~~~~~~~~~~~~~~~~~~~~~~~~~~~~~~~~~~~~~~~~~~~~~~~~~~~~~~~~~~~~~~~~~~~~~~~~~~~~~~~~\n",
      "Done generating features for prediction !\n",
      "~~~~~~~~~~~~~~~~~~~~~~~~~~~~~~~~~~~~~~~~~~~~~~~~~~~~~~~~~~~~~~~~~~~~~~~~~~~~~~~~\n"
     ]
    }
   ],
   "source": [
    "# Genera copy of the data frame for our features\n",
    "P05106_pred_ = P05106_pred.copy()\n",
    "\n",
    "# Apply the `calculate_descriptors` method in order to generate 8 new features for df\n",
    "P05106_pred_['MolecularDescriptors'] = P05106_pred_['SMILES'].apply(calculate_descriptors)\n",
    "\n",
    "# Transfer the array at each row under the 'MolecularDescriptors' column into column with their corresponding names & drop the colunn\n",
    "P05106_pred_[['MolWt', 'NumValenceElectrons', 'TPSA', 'MolLogP', 'NumHeteroatoms', 'NumRotatableBonds', 'HeavyAtomCount', 'FractionCSP3']] = pd.DataFrame(P05106_pred_['MolecularDescriptors'].tolist(), index=P05106_pred_.index)\n",
    "P05106_pred_.drop(columns=['MolecularDescriptors'], axis=1, inplace=True)\n",
    "\n",
    "# Reorder the columns names so that the label column will be the last column in df\n",
    "P05106_pred_ = P05106_pred_[['SMILES', 'MolWt', 'NumValenceElectrons', 'TPSA', 'MolLogP', 'NumHeteroatoms', 'NumRotatableBonds', 'HeavyAtomCount', 'FractionCSP3']]\n",
    "\n",
    "PRINT(f'Done generating features for prediction !')"
   ]
  },
  {
   "cell_type": "code",
   "execution_count": 25,
   "id": "b55d5924-d460-4f79-9a85-026224e8e90c",
   "metadata": {},
   "outputs": [
    {
     "data": {
      "text/html": [
       "<div>\n",
       "<style scoped>\n",
       "    .dataframe tbody tr th:only-of-type {\n",
       "        vertical-align: middle;\n",
       "    }\n",
       "\n",
       "    .dataframe tbody tr th {\n",
       "        vertical-align: top;\n",
       "    }\n",
       "\n",
       "    .dataframe thead th {\n",
       "        text-align: right;\n",
       "    }\n",
       "</style>\n",
       "<table border=\"1\" class=\"dataframe\">\n",
       "  <thead>\n",
       "    <tr style=\"text-align: right;\">\n",
       "      <th></th>\n",
       "      <th>SMILES</th>\n",
       "      <th>MolWt</th>\n",
       "      <th>NumValenceElectrons</th>\n",
       "      <th>TPSA</th>\n",
       "      <th>MolLogP</th>\n",
       "      <th>NumHeteroatoms</th>\n",
       "      <th>NumRotatableBonds</th>\n",
       "      <th>HeavyAtomCount</th>\n",
       "      <th>FractionCSP3</th>\n",
       "    </tr>\n",
       "  </thead>\n",
       "  <tbody>\n",
       "    <tr>\n",
       "      <th>0</th>\n",
       "      <td>CN1[C@@H](CCCN=C(N)N)C(=O)NCC(=O)N[C@@H](CC(=O...</td>\n",
       "      <td>601.711</td>\n",
       "      <td>218</td>\n",
       "      <td>209.31</td>\n",
       "      <td>1.0080</td>\n",
       "      <td>15</td>\n",
       "      <td>6</td>\n",
       "      <td>41</td>\n",
       "      <td>0.307692</td>\n",
       "    </tr>\n",
       "    <tr>\n",
       "      <th>1</th>\n",
       "      <td>OC(=O)C(CNC(=O)CCCCc1ccc2CCCNc2n1)c3cnc4ccccc4c3</td>\n",
       "      <td>432.524</td>\n",
       "      <td>166</td>\n",
       "      <td>104.21</td>\n",
       "      <td>3.6853</td>\n",
       "      <td>7</td>\n",
       "      <td>9</td>\n",
       "      <td>32</td>\n",
       "      <td>0.360000</td>\n",
       "    </tr>\n",
       "  </tbody>\n",
       "</table>\n",
       "</div>"
      ],
      "text/plain": [
       "                                              SMILES    MolWt  \\\n",
       "0  CN1[C@@H](CCCN=C(N)N)C(=O)NCC(=O)N[C@@H](CC(=O...  601.711   \n",
       "1   OC(=O)C(CNC(=O)CCCCc1ccc2CCCNc2n1)c3cnc4ccccc4c3  432.524   \n",
       "\n",
       "   NumValenceElectrons    TPSA  MolLogP  NumHeteroatoms  NumRotatableBonds  \\\n",
       "0                  218  209.31   1.0080              15                  6   \n",
       "1                  166  104.21   3.6853               7                  9   \n",
       "\n",
       "   HeavyAtomCount  FractionCSP3  \n",
       "0              41      0.307692  \n",
       "1              32      0.360000  "
      ]
     },
     "execution_count": 25,
     "metadata": {},
     "output_type": "execute_result"
    }
   ],
   "source": [
    "P05106_pred_.head(2)"
   ]
  },
  {
   "cell_type": "code",
   "execution_count": 26,
   "id": "a2cbce65-c903-4172-9533-40cea4761270",
   "metadata": {},
   "outputs": [
    {
     "name": "stdout",
     "output_type": "stream",
     "text": [
      "~~~~~~~~~~~~~~~~~~~~~~~~~~~~~~~~~~~~~~~~~~~~~~~~~~~~~~~~~~~~~~~~~~~~~~~~~~~~~~~~\n",
      "Shape after generating features using Morgan Fingerprints:\n",
      "\n",
      "(1727, 9)\n",
      "~~~~~~~~~~~~~~~~~~~~~~~~~~~~~~~~~~~~~~~~~~~~~~~~~~~~~~~~~~~~~~~~~~~~~~~~~~~~~~~~\n"
     ]
    }
   ],
   "source": [
    "PRINT(f'Shape after generating features using Morgan Fingerprints:\\n\\n{P05106_pred_.shape}')"
   ]
  },
  {
   "cell_type": "code",
   "execution_count": 28,
   "id": "858b6d86-4d15-4f06-8e82-f36f54483054",
   "metadata": {},
   "outputs": [
    {
     "name": "stdout",
     "output_type": "stream",
     "text": [
      "~~~~~~~~~~~~~~~~~~~~~~~~~~~~~~~~~~~~~~~~~~~~~~~~~~~~~~~~~~~~~~~~~~~~~~~~~~~~~~~~\n",
      "Model Loaded Successfully !\n",
      "~~~~~~~~~~~~~~~~~~~~~~~~~~~~~~~~~~~~~~~~~~~~~~~~~~~~~~~~~~~~~~~~~~~~~~~~~~~~~~~~\n"
     ]
    }
   ],
   "source": [
    "rf_P05106 = load('models/Best Model of each UniProt Modified/rf_P05106_RDKD.joblib')\n",
    "PRINT(f'Model Loaded Successfully !')"
   ]
  },
  {
   "cell_type": "code",
   "execution_count": 29,
   "id": "e0b7a0db-788f-4eca-8125-50936a67e93c",
   "metadata": {},
   "outputs": [],
   "source": [
    "# Drop SMILES column for prediction\n",
    "df_for_model_P05106 = P05106_pred_.drop(['SMILES'], axis=1)"
   ]
  },
  {
   "cell_type": "code",
   "execution_count": 30,
   "id": "0b550270-27af-4551-b6da-e6ee49eb94bb",
   "metadata": {},
   "outputs": [
    {
     "name": "stdout",
     "output_type": "stream",
     "text": [
      "~~~~~~~~~~~~~~~~~~~~~~~~~~~~~~~~~~~~~~~~~~~~~~~~~~~~~~~~~~~~~~~~~~~~~~~~~~~~~~~~\n",
      "Finished predicting on unseen data.\n",
      "~~~~~~~~~~~~~~~~~~~~~~~~~~~~~~~~~~~~~~~~~~~~~~~~~~~~~~~~~~~~~~~~~~~~~~~~~~~~~~~~\n"
     ]
    }
   ],
   "source": [
    "predictions = rf_P05106.predict(df_for_model_P05106)\n",
    "\n",
    "PRINT(f'Finished predicting on unseen data.')"
   ]
  },
  {
   "cell_type": "code",
   "execution_count": 31,
   "id": "171ec95b-4a02-4609-ab99-c3164cfe6b3e",
   "metadata": {},
   "outputs": [
    {
     "name": "stdout",
     "output_type": "stream",
     "text": [
      "~~~~~~~~~~~~~~~~~~~~~~~~~~~~~~~~~~~~~~~~~~~~~~~~~~~~~~~~~~~~~~~~~~~~~~~~~~~~~~~~\n",
      "Prediction shape: (1727,)\n",
      "\n",
      "Visualize few predictions:\n",
      "\n",
      "[1 0 1 1 0 1 0 1 1 1 1 0 0 0 1 1 0 0 0 0 0 1 0 0 1 1 1 0 1 0]\n",
      "~~~~~~~~~~~~~~~~~~~~~~~~~~~~~~~~~~~~~~~~~~~~~~~~~~~~~~~~~~~~~~~~~~~~~~~~~~~~~~~~\n"
     ]
    }
   ],
   "source": [
    "PRINT(f'Prediction shape: {predictions.shape}\\n\\nVisualize few predictions:\\n\\n{predictions[:30]}')"
   ]
  },
  {
   "cell_type": "code",
   "execution_count": 32,
   "id": "86fa972f-69b0-4184-9c02-51738a2233f7",
   "metadata": {},
   "outputs": [],
   "source": [
    "# Generate list holding UniProts instead their labeled classes\n",
    "labeled_predictions = [P05106_label_dict[prediction] for prediction in predictions]"
   ]
  },
  {
   "cell_type": "code",
   "execution_count": 33,
   "id": "7dfee406-a209-43c8-8f6c-da38322f394e",
   "metadata": {},
   "outputs": [
    {
     "name": "stdout",
     "output_type": "stream",
     "text": [
      "~~~~~~~~~~~~~~~~~~~~~~~~~~~~~~~~~~~~~~~~~~~~~~~~~~~~~~~~~~~~~~~~~~~~~~~~~~~~~~~~\n",
      "Labeled predictions (UniProt):\n",
      "\n",
      "['P08514', 'P06756', 'P08514', 'P08514', 'P06756', 'P08514', 'P06756', 'P08514', 'P08514', 'P08514', 'P08514', 'P06756', 'P06756', 'P06756', 'P08514']\n",
      "~~~~~~~~~~~~~~~~~~~~~~~~~~~~~~~~~~~~~~~~~~~~~~~~~~~~~~~~~~~~~~~~~~~~~~~~~~~~~~~~\n"
     ]
    }
   ],
   "source": [
    "PRINT(f'Labeled predictions (UniProt):\\n\\n{labeled_predictions[:15]}')"
   ]
  },
  {
   "cell_type": "code",
   "execution_count": 34,
   "id": "566ab07a-9182-4ab5-a320-aff5035a63de",
   "metadata": {},
   "outputs": [
    {
     "name": "stdout",
     "output_type": "stream",
     "text": [
      "~~~~~~~~~~~~~~~~~~~~~~~~~~~~~~~~~~~~~~~~~~~~~~~~~~~~~~~~~~~~~~~~~~~~~~~~~~~~~~~~\n",
      "Merged the Predictions !\n",
      "~~~~~~~~~~~~~~~~~~~~~~~~~~~~~~~~~~~~~~~~~~~~~~~~~~~~~~~~~~~~~~~~~~~~~~~~~~~~~~~~\n"
     ]
    }
   ],
   "source": [
    "# Merge predictions with our data frame\n",
    "P05106_pred['PredictedUniProtPartner'] = labeled_predictions\n",
    "\n",
    "PRINT('Merged the Predictions !')"
   ]
  },
  {
   "cell_type": "code",
   "execution_count": 36,
   "id": "2a6ad851-8162-44e7-93f4-339aa1368404",
   "metadata": {},
   "outputs": [
    {
     "data": {
      "text/html": [
       "<div>\n",
       "<style scoped>\n",
       "    .dataframe tbody tr th:only-of-type {\n",
       "        vertical-align: middle;\n",
       "    }\n",
       "\n",
       "    .dataframe tbody tr th {\n",
       "        vertical-align: top;\n",
       "    }\n",
       "\n",
       "    .dataframe thead th {\n",
       "        text-align: right;\n",
       "    }\n",
       "</style>\n",
       "<table border=\"1\" class=\"dataframe\">\n",
       "  <thead>\n",
       "    <tr style=\"text-align: right;\">\n",
       "      <th></th>\n",
       "      <th>SMILES</th>\n",
       "      <th>PredictedUniProtPartner</th>\n",
       "    </tr>\n",
       "  </thead>\n",
       "  <tbody>\n",
       "    <tr>\n",
       "      <th>0</th>\n",
       "      <td>CN1[C@@H](CCCN=C(N)N)C(=O)NCC(=O)N[C@@H](CC(=O...</td>\n",
       "      <td>P08514</td>\n",
       "    </tr>\n",
       "    <tr>\n",
       "      <th>1</th>\n",
       "      <td>OC(=O)C(CNC(=O)CCCCc1ccc2CCCNc2n1)c3cnc4ccccc4c3</td>\n",
       "      <td>P06756</td>\n",
       "    </tr>\n",
       "    <tr>\n",
       "      <th>2</th>\n",
       "      <td>OC(=O)C[C@H](NC(=O)CN1CCC[C@@H](CCC2CCNCC2)C1=...</td>\n",
       "      <td>P08514</td>\n",
       "    </tr>\n",
       "    <tr>\n",
       "      <th>3</th>\n",
       "      <td>COP(=O)(O)[C@@H](CNC(=O)c1ccc(OCCC2CCNCC2)cc1)...</td>\n",
       "      <td>P08514</td>\n",
       "    </tr>\n",
       "    <tr>\n",
       "      <th>4</th>\n",
       "      <td>NC(=N)Nc1cccc(c1)C(=O)Nc2ccc(CC(NS(=O)(=O)c3cc...</td>\n",
       "      <td>P06756</td>\n",
       "    </tr>\n",
       "  </tbody>\n",
       "</table>\n",
       "</div>"
      ],
      "text/plain": [
       "                                              SMILES PredictedUniProtPartner\n",
       "0  CN1[C@@H](CCCN=C(N)N)C(=O)NCC(=O)N[C@@H](CC(=O...                  P08514\n",
       "1   OC(=O)C(CNC(=O)CCCCc1ccc2CCCNc2n1)c3cnc4ccccc4c3                  P06756\n",
       "2  OC(=O)C[C@H](NC(=O)CN1CCC[C@@H](CCC2CCNCC2)C1=...                  P08514\n",
       "3  COP(=O)(O)[C@@H](CNC(=O)c1ccc(OCCC2CCNCC2)cc1)...                  P08514\n",
       "4  NC(=N)Nc1cccc(c1)C(=O)Nc2ccc(CC(NS(=O)(=O)c3cc...                  P06756"
      ]
     },
     "execution_count": 36,
     "metadata": {},
     "output_type": "execute_result"
    }
   ],
   "source": [
    "P05106_pred.head(5)"
   ]
  },
  {
   "cell_type": "code",
   "execution_count": 37,
   "id": "f203de91-f970-48c9-a097-f30d81958edf",
   "metadata": {},
   "outputs": [
    {
     "name": "stdout",
     "output_type": "stream",
     "text": [
      "~~~~~~~~~~~~~~~~~~~~~~~~~~~~~~~~~~~~~~~~~~~~~~~~~~~~~~~~~~~~~~~~~~~~~~~~~~~~~~~~\n",
      "Predictions Saved!\n",
      "~~~~~~~~~~~~~~~~~~~~~~~~~~~~~~~~~~~~~~~~~~~~~~~~~~~~~~~~~~~~~~~~~~~~~~~~~~~~~~~~\n"
     ]
    }
   ],
   "source": [
    "P05106_pred.to_csv(os.path.join('predictions','P05106_pred_.csv'), index=False)\n",
    "\n",
    "PRINT('Predictions Saved!')"
   ]
  },
  {
   "cell_type": "markdown",
   "id": "642e7cb0-7540-43c2-8df3-ca0c218066da",
   "metadata": {},
   "source": [
    "---\n",
    "### Predict for P08648 ###"
   ]
  },
  {
   "cell_type": "code",
   "execution_count": 38,
   "id": "ddc481bb-1dd4-4869-bbf7-aa5776ce2d22",
   "metadata": {},
   "outputs": [],
   "source": [
    "P08648_label_dict = {0: 'P05556', 1: 'P06756', 2: 'P32297'}"
   ]
  },
  {
   "cell_type": "code",
   "execution_count": 39,
   "id": "b88a0be4-266c-421a-9fe2-8a6166fbbb52",
   "metadata": {},
   "outputs": [
    {
     "data": {
      "text/html": [
       "<div>\n",
       "<style scoped>\n",
       "    .dataframe tbody tr th:only-of-type {\n",
       "        vertical-align: middle;\n",
       "    }\n",
       "\n",
       "    .dataframe tbody tr th {\n",
       "        vertical-align: top;\n",
       "    }\n",
       "\n",
       "    .dataframe thead th {\n",
       "        text-align: right;\n",
       "    }\n",
       "</style>\n",
       "<table border=\"1\" class=\"dataframe\">\n",
       "  <thead>\n",
       "    <tr style=\"text-align: right;\">\n",
       "      <th></th>\n",
       "      <th>SMILES</th>\n",
       "      <th>UniProtTarget</th>\n",
       "    </tr>\n",
       "  </thead>\n",
       "  <tbody>\n",
       "    <tr>\n",
       "      <th>245</th>\n",
       "      <td>Cc1cc(C)c(c(C)c1)S(=O)(=O)N[C@@H](CNC(=O)C2=NO...</td>\n",
       "      <td>P08648</td>\n",
       "    </tr>\n",
       "    <tr>\n",
       "      <th>289</th>\n",
       "      <td>OC(=O)[C@H](Cc1cccc(OCCNc2ccccn2)c1)NC(=O)c3c(...</td>\n",
       "      <td>P08648</td>\n",
       "    </tr>\n",
       "  </tbody>\n",
       "</table>\n",
       "</div>"
      ],
      "text/plain": [
       "                                                SMILES UniProtTarget\n",
       "245  Cc1cc(C)c(c(C)c1)S(=O)(=O)N[C@@H](CNC(=O)C2=NO...        P08648\n",
       "289  OC(=O)[C@H](Cc1cccc(OCCNc2ccccn2)c1)NC(=O)c3c(...        P08648"
      ]
     },
     "execution_count": 39,
     "metadata": {},
     "output_type": "execute_result"
    }
   ],
   "source": [
    "P08648_pred = target_dataframes['P08648'].copy()\n",
    "\n",
    "P08648_pred.head(2)"
   ]
  },
  {
   "cell_type": "code",
   "execution_count": 40,
   "id": "422f0ec9-81a3-4948-88f5-af452c296a2d",
   "metadata": {},
   "outputs": [
    {
     "name": "stdout",
     "output_type": "stream",
     "text": [
      "~~~~~~~~~~~~~~~~~~~~~~~~~~~~~~~~~~~~~~~~~~~~~~~~~~~~~~~~~~~~~~~~~~~~~~~~~~~~~~~~\n",
      "Reseted the indexes of the data frame in order to avoid issues with features generation\n",
      "~~~~~~~~~~~~~~~~~~~~~~~~~~~~~~~~~~~~~~~~~~~~~~~~~~~~~~~~~~~~~~~~~~~~~~~~~~~~~~~~\n"
     ]
    }
   ],
   "source": [
    "P08648_pred = P08648_pred.reset_index(drop=True)\n",
    "\n",
    "PRINT(f'Reseted the indexes of the data frame in order to avoid issues with features generation')"
   ]
  },
  {
   "cell_type": "code",
   "execution_count": 41,
   "id": "5ca56974-5651-4604-bc3c-29e9a062cc95",
   "metadata": {},
   "outputs": [
    {
     "name": "stdout",
     "output_type": "stream",
     "text": [
      "~~~~~~~~~~~~~~~~~~~~~~~~~~~~~~~~~~~~~~~~~~~~~~~~~~~~~~~~~~~~~~~~~~~~~~~~~~~~~~~~\n",
      "Visualize data frame shape: (76, 2)\n",
      "~~~~~~~~~~~~~~~~~~~~~~~~~~~~~~~~~~~~~~~~~~~~~~~~~~~~~~~~~~~~~~~~~~~~~~~~~~~~~~~~\n"
     ]
    }
   ],
   "source": [
    "PRINT(f'Visualize data frame shape: {P08648_pred.shape}')"
   ]
  },
  {
   "cell_type": "code",
   "execution_count": 42,
   "id": "18b21928-844d-456b-a0d9-134dc56230e1",
   "metadata": {},
   "outputs": [],
   "source": [
    "P08648_pred.drop(['UniProtTarget'],axis=1, inplace=True)"
   ]
  },
  {
   "cell_type": "code",
   "execution_count": 43,
   "id": "734a901f-4c32-446d-a58d-282387548139",
   "metadata": {},
   "outputs": [
    {
     "name": "stdout",
     "output_type": "stream",
     "text": [
      "~~~~~~~~~~~~~~~~~~~~~~~~~~~~~~~~~~~~~~~~~~~~~~~~~~~~~~~~~~~~~~~~~~~~~~~~~~~~~~~~\n",
      "Done generating features for prediction !\n",
      "~~~~~~~~~~~~~~~~~~~~~~~~~~~~~~~~~~~~~~~~~~~~~~~~~~~~~~~~~~~~~~~~~~~~~~~~~~~~~~~~\n"
     ]
    }
   ],
   "source": [
    "P08648_pred_ = GenerateMorganFingerprintsFeaturesByMoleculeSMILES(df=P08648_pred, size=1024, radius=2)\n",
    "PRINT(f'Done generating features for prediction !')"
   ]
  },
  {
   "cell_type": "code",
   "execution_count": 44,
   "id": "9699c0cd-8c5a-49d5-bae2-439387990ddd",
   "metadata": {},
   "outputs": [
    {
     "data": {
      "text/html": [
       "<div>\n",
       "<style scoped>\n",
       "    .dataframe tbody tr th:only-of-type {\n",
       "        vertical-align: middle;\n",
       "    }\n",
       "\n",
       "    .dataframe tbody tr th {\n",
       "        vertical-align: top;\n",
       "    }\n",
       "\n",
       "    .dataframe thead th {\n",
       "        text-align: right;\n",
       "    }\n",
       "</style>\n",
       "<table border=\"1\" class=\"dataframe\">\n",
       "  <thead>\n",
       "    <tr style=\"text-align: right;\">\n",
       "      <th></th>\n",
       "      <th>SMILES</th>\n",
       "      <th>Feature_0</th>\n",
       "      <th>Feature_1</th>\n",
       "      <th>Feature_2</th>\n",
       "      <th>Feature_3</th>\n",
       "      <th>Feature_4</th>\n",
       "      <th>Feature_5</th>\n",
       "      <th>Feature_6</th>\n",
       "      <th>Feature_7</th>\n",
       "      <th>Feature_8</th>\n",
       "      <th>...</th>\n",
       "      <th>Feature_1014</th>\n",
       "      <th>Feature_1015</th>\n",
       "      <th>Feature_1016</th>\n",
       "      <th>Feature_1017</th>\n",
       "      <th>Feature_1018</th>\n",
       "      <th>Feature_1019</th>\n",
       "      <th>Feature_1020</th>\n",
       "      <th>Feature_1021</th>\n",
       "      <th>Feature_1022</th>\n",
       "      <th>Feature_1023</th>\n",
       "    </tr>\n",
       "  </thead>\n",
       "  <tbody>\n",
       "    <tr>\n",
       "      <th>0</th>\n",
       "      <td>Cc1cc(C)c(c(C)c1)S(=O)(=O)N[C@@H](CNC(=O)C2=NO...</td>\n",
       "      <td>0.0</td>\n",
       "      <td>1.0</td>\n",
       "      <td>0.0</td>\n",
       "      <td>0.0</td>\n",
       "      <td>0.0</td>\n",
       "      <td>0.0</td>\n",
       "      <td>0.0</td>\n",
       "      <td>0.0</td>\n",
       "      <td>0.0</td>\n",
       "      <td>...</td>\n",
       "      <td>0.0</td>\n",
       "      <td>0.0</td>\n",
       "      <td>0.0</td>\n",
       "      <td>0.0</td>\n",
       "      <td>1.0</td>\n",
       "      <td>1.0</td>\n",
       "      <td>0.0</td>\n",
       "      <td>1.0</td>\n",
       "      <td>0.0</td>\n",
       "      <td>0.0</td>\n",
       "    </tr>\n",
       "    <tr>\n",
       "      <th>1</th>\n",
       "      <td>OC(=O)[C@H](Cc1cccc(OCCNc2ccccn2)c1)NC(=O)c3c(...</td>\n",
       "      <td>0.0</td>\n",
       "      <td>1.0</td>\n",
       "      <td>0.0</td>\n",
       "      <td>0.0</td>\n",
       "      <td>0.0</td>\n",
       "      <td>0.0</td>\n",
       "      <td>0.0</td>\n",
       "      <td>0.0</td>\n",
       "      <td>0.0</td>\n",
       "      <td>...</td>\n",
       "      <td>0.0</td>\n",
       "      <td>0.0</td>\n",
       "      <td>0.0</td>\n",
       "      <td>0.0</td>\n",
       "      <td>0.0</td>\n",
       "      <td>0.0</td>\n",
       "      <td>0.0</td>\n",
       "      <td>0.0</td>\n",
       "      <td>0.0</td>\n",
       "      <td>0.0</td>\n",
       "    </tr>\n",
       "  </tbody>\n",
       "</table>\n",
       "<p>2 rows × 1025 columns</p>\n",
       "</div>"
      ],
      "text/plain": [
       "                                              SMILES  Feature_0  Feature_1  \\\n",
       "0  Cc1cc(C)c(c(C)c1)S(=O)(=O)N[C@@H](CNC(=O)C2=NO...        0.0        1.0   \n",
       "1  OC(=O)[C@H](Cc1cccc(OCCNc2ccccn2)c1)NC(=O)c3c(...        0.0        1.0   \n",
       "\n",
       "   Feature_2  Feature_3  Feature_4  Feature_5  Feature_6  Feature_7  \\\n",
       "0        0.0        0.0        0.0        0.0        0.0        0.0   \n",
       "1        0.0        0.0        0.0        0.0        0.0        0.0   \n",
       "\n",
       "   Feature_8  ...  Feature_1014  Feature_1015  Feature_1016  Feature_1017  \\\n",
       "0        0.0  ...           0.0           0.0           0.0           0.0   \n",
       "1        0.0  ...           0.0           0.0           0.0           0.0   \n",
       "\n",
       "   Feature_1018  Feature_1019  Feature_1020  Feature_1021  Feature_1022  \\\n",
       "0           1.0           1.0           0.0           1.0           0.0   \n",
       "1           0.0           0.0           0.0           0.0           0.0   \n",
       "\n",
       "   Feature_1023  \n",
       "0           0.0  \n",
       "1           0.0  \n",
       "\n",
       "[2 rows x 1025 columns]"
      ]
     },
     "execution_count": 44,
     "metadata": {},
     "output_type": "execute_result"
    }
   ],
   "source": [
    "P08648_pred_.head(2)"
   ]
  },
  {
   "cell_type": "code",
   "execution_count": 45,
   "id": "5a72ddbf-fa4d-4f0e-94f1-ce6285338ee4",
   "metadata": {},
   "outputs": [
    {
     "name": "stdout",
     "output_type": "stream",
     "text": [
      "~~~~~~~~~~~~~~~~~~~~~~~~~~~~~~~~~~~~~~~~~~~~~~~~~~~~~~~~~~~~~~~~~~~~~~~~~~~~~~~~\n",
      "Shape after generating features using Morgan Fingerprints:\n",
      "\n",
      "(76, 1025)\n",
      "~~~~~~~~~~~~~~~~~~~~~~~~~~~~~~~~~~~~~~~~~~~~~~~~~~~~~~~~~~~~~~~~~~~~~~~~~~~~~~~~\n"
     ]
    }
   ],
   "source": [
    "PRINT(f'Shape after generating features using Morgan Fingerprints:\\n\\n{P08648_pred_.shape}')"
   ]
  },
  {
   "cell_type": "code",
   "execution_count": 50,
   "id": "46165245-b6b5-4d5a-a4af-11c57bb812dd",
   "metadata": {},
   "outputs": [
    {
     "name": "stdout",
     "output_type": "stream",
     "text": [
      "~~~~~~~~~~~~~~~~~~~~~~~~~~~~~~~~~~~~~~~~~~~~~~~~~~~~~~~~~~~~~~~~~~~~~~~~~~~~~~~~\n",
      "Loaded Model Successfully !\n",
      "~~~~~~~~~~~~~~~~~~~~~~~~~~~~~~~~~~~~~~~~~~~~~~~~~~~~~~~~~~~~~~~~~~~~~~~~~~~~~~~~\n"
     ]
    }
   ],
   "source": [
    "xgb_P08648 = load('models/Best Model of each UniProt Modified/xgb_P08648_MF.joblib')\n",
    "PRINT(f'Loaded Model Successfully !')"
   ]
  },
  {
   "cell_type": "code",
   "execution_count": 51,
   "id": "765eb82c-d008-4f0d-ba55-d5c2f178e33c",
   "metadata": {},
   "outputs": [],
   "source": [
    "# Drop SMILES column for predictions\n",
    "df_for_model_P08648 = P08648_pred_.drop(['SMILES'], axis=1)"
   ]
  },
  {
   "cell_type": "code",
   "execution_count": 52,
   "id": "edb59758-556e-4227-b09d-38e5483b0abf",
   "metadata": {},
   "outputs": [
    {
     "data": {
      "text/html": [
       "<div>\n",
       "<style scoped>\n",
       "    .dataframe tbody tr th:only-of-type {\n",
       "        vertical-align: middle;\n",
       "    }\n",
       "\n",
       "    .dataframe tbody tr th {\n",
       "        vertical-align: top;\n",
       "    }\n",
       "\n",
       "    .dataframe thead th {\n",
       "        text-align: right;\n",
       "    }\n",
       "</style>\n",
       "<table border=\"1\" class=\"dataframe\">\n",
       "  <thead>\n",
       "    <tr style=\"text-align: right;\">\n",
       "      <th></th>\n",
       "      <th>Feature_0</th>\n",
       "      <th>Feature_1</th>\n",
       "      <th>Feature_2</th>\n",
       "      <th>Feature_3</th>\n",
       "      <th>Feature_4</th>\n",
       "      <th>Feature_5</th>\n",
       "      <th>Feature_6</th>\n",
       "      <th>Feature_7</th>\n",
       "      <th>Feature_8</th>\n",
       "      <th>Feature_9</th>\n",
       "      <th>...</th>\n",
       "      <th>Feature_1014</th>\n",
       "      <th>Feature_1015</th>\n",
       "      <th>Feature_1016</th>\n",
       "      <th>Feature_1017</th>\n",
       "      <th>Feature_1018</th>\n",
       "      <th>Feature_1019</th>\n",
       "      <th>Feature_1020</th>\n",
       "      <th>Feature_1021</th>\n",
       "      <th>Feature_1022</th>\n",
       "      <th>Feature_1023</th>\n",
       "    </tr>\n",
       "  </thead>\n",
       "  <tbody>\n",
       "    <tr>\n",
       "      <th>0</th>\n",
       "      <td>0.0</td>\n",
       "      <td>1.0</td>\n",
       "      <td>0.0</td>\n",
       "      <td>0.0</td>\n",
       "      <td>0.0</td>\n",
       "      <td>0.0</td>\n",
       "      <td>0.0</td>\n",
       "      <td>0.0</td>\n",
       "      <td>0.0</td>\n",
       "      <td>0.0</td>\n",
       "      <td>...</td>\n",
       "      <td>0.0</td>\n",
       "      <td>0.0</td>\n",
       "      <td>0.0</td>\n",
       "      <td>0.0</td>\n",
       "      <td>1.0</td>\n",
       "      <td>1.0</td>\n",
       "      <td>0.0</td>\n",
       "      <td>1.0</td>\n",
       "      <td>0.0</td>\n",
       "      <td>0.0</td>\n",
       "    </tr>\n",
       "    <tr>\n",
       "      <th>1</th>\n",
       "      <td>0.0</td>\n",
       "      <td>1.0</td>\n",
       "      <td>0.0</td>\n",
       "      <td>0.0</td>\n",
       "      <td>0.0</td>\n",
       "      <td>0.0</td>\n",
       "      <td>0.0</td>\n",
       "      <td>0.0</td>\n",
       "      <td>0.0</td>\n",
       "      <td>0.0</td>\n",
       "      <td>...</td>\n",
       "      <td>0.0</td>\n",
       "      <td>0.0</td>\n",
       "      <td>0.0</td>\n",
       "      <td>0.0</td>\n",
       "      <td>0.0</td>\n",
       "      <td>0.0</td>\n",
       "      <td>0.0</td>\n",
       "      <td>0.0</td>\n",
       "      <td>0.0</td>\n",
       "      <td>0.0</td>\n",
       "    </tr>\n",
       "  </tbody>\n",
       "</table>\n",
       "<p>2 rows × 1024 columns</p>\n",
       "</div>"
      ],
      "text/plain": [
       "   Feature_0  Feature_1  Feature_2  Feature_3  Feature_4  Feature_5  \\\n",
       "0        0.0        1.0        0.0        0.0        0.0        0.0   \n",
       "1        0.0        1.0        0.0        0.0        0.0        0.0   \n",
       "\n",
       "   Feature_6  Feature_7  Feature_8  Feature_9  ...  Feature_1014  \\\n",
       "0        0.0        0.0        0.0        0.0  ...           0.0   \n",
       "1        0.0        0.0        0.0        0.0  ...           0.0   \n",
       "\n",
       "   Feature_1015  Feature_1016  Feature_1017  Feature_1018  Feature_1019  \\\n",
       "0           0.0           0.0           0.0           1.0           1.0   \n",
       "1           0.0           0.0           0.0           0.0           0.0   \n",
       "\n",
       "   Feature_1020  Feature_1021  Feature_1022  Feature_1023  \n",
       "0           0.0           1.0           0.0           0.0  \n",
       "1           0.0           0.0           0.0           0.0  \n",
       "\n",
       "[2 rows x 1024 columns]"
      ]
     },
     "execution_count": 52,
     "metadata": {},
     "output_type": "execute_result"
    }
   ],
   "source": [
    "df_for_model_P08648.head(2)"
   ]
  },
  {
   "cell_type": "code",
   "execution_count": 53,
   "id": "09ddcff3-d5e5-4010-a81b-b763504ebf52",
   "metadata": {},
   "outputs": [
    {
     "name": "stdout",
     "output_type": "stream",
     "text": [
      "~~~~~~~~~~~~~~~~~~~~~~~~~~~~~~~~~~~~~~~~~~~~~~~~~~~~~~~~~~~~~~~~~~~~~~~~~~~~~~~~\n",
      "Finished predicting on unseen data.\n",
      "~~~~~~~~~~~~~~~~~~~~~~~~~~~~~~~~~~~~~~~~~~~~~~~~~~~~~~~~~~~~~~~~~~~~~~~~~~~~~~~~\n"
     ]
    }
   ],
   "source": [
    "# Generate predictions on unseen data\n",
    "predictions = xgb_P08648.predict(df_for_model_P08648)\n",
    "\n",
    "PRINT(f'Finished predicting on unseen data.')"
   ]
  },
  {
   "cell_type": "code",
   "execution_count": 57,
   "id": "8b6773be-ccd4-4cc4-b59e-1b026827cb34",
   "metadata": {},
   "outputs": [
    {
     "name": "stdout",
     "output_type": "stream",
     "text": [
      "~~~~~~~~~~~~~~~~~~~~~~~~~~~~~~~~~~~~~~~~~~~~~~~~~~~~~~~~~~~~~~~~~~~~~~~~~~~~~~~~\n",
      "Prediction shape: (76,)\n",
      "\n",
      "Visualize few predictions:\n",
      "\n",
      "[0 0 0 0 0 0 0 0 0 0]\n",
      "~~~~~~~~~~~~~~~~~~~~~~~~~~~~~~~~~~~~~~~~~~~~~~~~~~~~~~~~~~~~~~~~~~~~~~~~~~~~~~~~\n"
     ]
    }
   ],
   "source": [
    "PRINT(f'Prediction shape: {predictions.shape}\\n\\nVisualize few predictions:\\n\\n{predictions[0:10]}')"
   ]
  },
  {
   "cell_type": "code",
   "execution_count": 58,
   "id": "c8fa6d79-a589-4d96-889c-de9da3b09449",
   "metadata": {},
   "outputs": [],
   "source": [
    "predictions = [int(value) for value in predictions]"
   ]
  },
  {
   "cell_type": "markdown",
   "id": "68c806a0-3b8e-4d8c-b2b7-d220151f56a6",
   "metadata": {},
   "source": [
    "As expected, although we attempted to balance the model using techniques such as assigning weight to the smaller class, our dataset was severely unbalanced for generalization with only two classes:\n",
    "\n",
    "- Number of times P05556 appears -> 500 \n",
    "\n",
    "- Number of times P0756 appears -> 6\n",
    "\n",
    "- Number of times P32297 appears -> 13\n",
    "\n",
    "As a result, the model performed as anticipated on our small and unbalanced dataset."
   ]
  },
  {
   "cell_type": "code",
   "execution_count": 59,
   "id": "c3308808-ba88-4410-9f36-608b2fa98780",
   "metadata": {},
   "outputs": [],
   "source": [
    "# Generate list holding UniProts instead their labeled classes\n",
    "labeled_predictions = [P08648_label_dict[prediction] for prediction in predictions]"
   ]
  },
  {
   "cell_type": "code",
   "execution_count": 60,
   "id": "cd0535d8-c671-4818-b00b-2c918ceee701",
   "metadata": {},
   "outputs": [
    {
     "name": "stdout",
     "output_type": "stream",
     "text": [
      "~~~~~~~~~~~~~~~~~~~~~~~~~~~~~~~~~~~~~~~~~~~~~~~~~~~~~~~~~~~~~~~~~~~~~~~~~~~~~~~~\n",
      "Merged the Predictions !\n",
      "~~~~~~~~~~~~~~~~~~~~~~~~~~~~~~~~~~~~~~~~~~~~~~~~~~~~~~~~~~~~~~~~~~~~~~~~~~~~~~~~\n"
     ]
    }
   ],
   "source": [
    "# Merge predictions with our data frame\n",
    "P08648_pred['PredictedUniProtPartner'] = labeled_predictions\n",
    "\n",
    "PRINT('Merged the Predictions !')"
   ]
  },
  {
   "cell_type": "code",
   "execution_count": 61,
   "id": "04234c82-11f9-4505-bd2e-652ad59b5cab",
   "metadata": {},
   "outputs": [
    {
     "data": {
      "text/html": [
       "<div>\n",
       "<style scoped>\n",
       "    .dataframe tbody tr th:only-of-type {\n",
       "        vertical-align: middle;\n",
       "    }\n",
       "\n",
       "    .dataframe tbody tr th {\n",
       "        vertical-align: top;\n",
       "    }\n",
       "\n",
       "    .dataframe thead th {\n",
       "        text-align: right;\n",
       "    }\n",
       "</style>\n",
       "<table border=\"1\" class=\"dataframe\">\n",
       "  <thead>\n",
       "    <tr style=\"text-align: right;\">\n",
       "      <th></th>\n",
       "      <th>SMILES</th>\n",
       "      <th>PredictedUniProtPartner</th>\n",
       "    </tr>\n",
       "  </thead>\n",
       "  <tbody>\n",
       "    <tr>\n",
       "      <th>0</th>\n",
       "      <td>Cc1cc(C)c(c(C)c1)S(=O)(=O)N[C@@H](CNC(=O)C2=NO...</td>\n",
       "      <td>P05556</td>\n",
       "    </tr>\n",
       "    <tr>\n",
       "      <th>1</th>\n",
       "      <td>OC(=O)[C@H](Cc1cccc(OCCNc2ccccn2)c1)NC(=O)c3c(...</td>\n",
       "      <td>P05556</td>\n",
       "    </tr>\n",
       "  </tbody>\n",
       "</table>\n",
       "</div>"
      ],
      "text/plain": [
       "                                              SMILES PredictedUniProtPartner\n",
       "0  Cc1cc(C)c(c(C)c1)S(=O)(=O)N[C@@H](CNC(=O)C2=NO...                  P05556\n",
       "1  OC(=O)[C@H](Cc1cccc(OCCNc2ccccn2)c1)NC(=O)c3c(...                  P05556"
      ]
     },
     "execution_count": 61,
     "metadata": {},
     "output_type": "execute_result"
    }
   ],
   "source": [
    "P08648_pred.head(2)"
   ]
  },
  {
   "cell_type": "code",
   "execution_count": 62,
   "id": "90a5b88d-f032-47f9-9b19-1c86263045a6",
   "metadata": {},
   "outputs": [
    {
     "name": "stdout",
     "output_type": "stream",
     "text": [
      "~~~~~~~~~~~~~~~~~~~~~~~~~~~~~~~~~~~~~~~~~~~~~~~~~~~~~~~~~~~~~~~~~~~~~~~~~~~~~~~~\n",
      "Predictions Saved!\n",
      "~~~~~~~~~~~~~~~~~~~~~~~~~~~~~~~~~~~~~~~~~~~~~~~~~~~~~~~~~~~~~~~~~~~~~~~~~~~~~~~~\n"
     ]
    }
   ],
   "source": [
    "P08648_pred.to_csv(os.path.join('predictions','P08648_pred_.csv'), index=False)\n",
    "\n",
    "PRINT('Predictions Saved!')"
   ]
  },
  {
   "cell_type": "markdown",
   "id": "333890a3-7a20-494b-acb4-45e53fae0f6a",
   "metadata": {},
   "source": [
    "## Putting it all together ##"
   ]
  },
  {
   "cell_type": "markdown",
   "id": "7a7245ed-1979-42da-83d5-8a4764955f33",
   "metadata": {},
   "source": [
    "After generating a sub-data frame for each unique UniProt we built a model for, and predicting the interactions for every single dataset associated with a given molecule SMILE and the UniProt target of its partner, we can finally combine all the datasets into a single comprehensive data frame."
   ]
  },
  {
   "cell_type": "code",
   "execution_count": 63,
   "id": "5eb3fb87-f610-41a9-ac24-ddc611b93821",
   "metadata": {},
   "outputs": [],
   "source": [
    "prediction_dir = 'predictions'"
   ]
  },
  {
   "cell_type": "code",
   "execution_count": 64,
   "id": "2b141286-42e7-4029-987b-2cbb568bb523",
   "metadata": {},
   "outputs": [],
   "source": [
    "P13612_df = pd.read_csv(os.path.join(prediction_dir, 'P13612_pred.csv'))"
   ]
  },
  {
   "cell_type": "code",
   "execution_count": 65,
   "id": "a23edcb4-6cb4-454b-bbd4-4d66bb674184",
   "metadata": {},
   "outputs": [],
   "source": [
    "P13612_df['UniProtTarget'] = 'P13612'"
   ]
  },
  {
   "cell_type": "code",
   "execution_count": 66,
   "id": "b3f32a02-ee1c-40f9-b425-3d87bd6dff36",
   "metadata": {},
   "outputs": [
    {
     "data": {
      "text/html": [
       "<div>\n",
       "<style scoped>\n",
       "    .dataframe tbody tr th:only-of-type {\n",
       "        vertical-align: middle;\n",
       "    }\n",
       "\n",
       "    .dataframe tbody tr th {\n",
       "        vertical-align: top;\n",
       "    }\n",
       "\n",
       "    .dataframe thead th {\n",
       "        text-align: right;\n",
       "    }\n",
       "</style>\n",
       "<table border=\"1\" class=\"dataframe\">\n",
       "  <thead>\n",
       "    <tr style=\"text-align: right;\">\n",
       "      <th></th>\n",
       "      <th>SMILES</th>\n",
       "      <th>PredictedUniProtPartner</th>\n",
       "      <th>UniProtTarget</th>\n",
       "    </tr>\n",
       "  </thead>\n",
       "  <tbody>\n",
       "    <tr>\n",
       "      <th>0</th>\n",
       "      <td>OC(=O)[C@H](Cc1ccc(NC(=O)c2c(Cl)cccc2Cl)cc1)NC...</td>\n",
       "      <td>P05556</td>\n",
       "      <td>P13612</td>\n",
       "    </tr>\n",
       "    <tr>\n",
       "      <th>1</th>\n",
       "      <td>CC1CCC(C[C@H](NC(=O)[C@@H]2CCC(=O)N2Cc3ccccc3)...</td>\n",
       "      <td>P05556</td>\n",
       "      <td>P13612</td>\n",
       "    </tr>\n",
       "    <tr>\n",
       "      <th>2</th>\n",
       "      <td>CC(C)CCNC(=O)[C@@H]1OCO[C@H]1C(=O)N[C@@H](Cc2c...</td>\n",
       "      <td>P05556</td>\n",
       "      <td>P13612</td>\n",
       "    </tr>\n",
       "  </tbody>\n",
       "</table>\n",
       "</div>"
      ],
      "text/plain": [
       "                                              SMILES PredictedUniProtPartner  \\\n",
       "0  OC(=O)[C@H](Cc1ccc(NC(=O)c2c(Cl)cccc2Cl)cc1)NC...                  P05556   \n",
       "1  CC1CCC(C[C@H](NC(=O)[C@@H]2CCC(=O)N2Cc3ccccc3)...                  P05556   \n",
       "2  CC(C)CCNC(=O)[C@@H]1OCO[C@H]1C(=O)N[C@@H](Cc2c...                  P05556   \n",
       "\n",
       "  UniProtTarget  \n",
       "0        P13612  \n",
       "1        P13612  \n",
       "2        P13612  "
      ]
     },
     "execution_count": 66,
     "metadata": {},
     "output_type": "execute_result"
    }
   ],
   "source": [
    "P13612_df.head(3)"
   ]
  },
  {
   "cell_type": "code",
   "execution_count": 67,
   "id": "d0d806a0-9ae7-4cc8-b8a9-e136c225b230",
   "metadata": {},
   "outputs": [
    {
     "data": {
      "text/html": [
       "<div>\n",
       "<style scoped>\n",
       "    .dataframe tbody tr th:only-of-type {\n",
       "        vertical-align: middle;\n",
       "    }\n",
       "\n",
       "    .dataframe tbody tr th {\n",
       "        vertical-align: top;\n",
       "    }\n",
       "\n",
       "    .dataframe thead th {\n",
       "        text-align: right;\n",
       "    }\n",
       "</style>\n",
       "<table border=\"1\" class=\"dataframe\">\n",
       "  <thead>\n",
       "    <tr style=\"text-align: right;\">\n",
       "      <th></th>\n",
       "      <th>SMILES</th>\n",
       "      <th>PredictedUniProtPartner</th>\n",
       "      <th>UniProtTarget</th>\n",
       "    </tr>\n",
       "  </thead>\n",
       "  <tbody>\n",
       "    <tr>\n",
       "      <th>0</th>\n",
       "      <td>C\\C=C\\[C@@H](CC(=O)O)NC(=O)C[C@@H](CC(C)C)NC(=...</td>\n",
       "      <td>P13612</td>\n",
       "      <td>P05556</td>\n",
       "    </tr>\n",
       "    <tr>\n",
       "      <th>1</th>\n",
       "      <td>N[C@@H](Cc1ccc(O)cc1)C(=O)N[C@H]2CSSC[C@H](NC(...</td>\n",
       "      <td>P13612</td>\n",
       "      <td>P05556</td>\n",
       "    </tr>\n",
       "    <tr>\n",
       "      <th>2</th>\n",
       "      <td>CC(=O)N1CSC[C@@H]1C(=O)N[C@@H](Cc2ccc(OC(=O)C3...</td>\n",
       "      <td>P13612</td>\n",
       "      <td>P05556</td>\n",
       "    </tr>\n",
       "  </tbody>\n",
       "</table>\n",
       "</div>"
      ],
      "text/plain": [
       "                                              SMILES PredictedUniProtPartner  \\\n",
       "0  C\\C=C\\[C@@H](CC(=O)O)NC(=O)C[C@@H](CC(C)C)NC(=...                  P13612   \n",
       "1  N[C@@H](Cc1ccc(O)cc1)C(=O)N[C@H]2CSSC[C@H](NC(...                  P13612   \n",
       "2  CC(=O)N1CSC[C@@H]1C(=O)N[C@@H](Cc2ccc(OC(=O)C3...                  P13612   \n",
       "\n",
       "  UniProtTarget  \n",
       "0        P05556  \n",
       "1        P05556  \n",
       "2        P05556  "
      ]
     },
     "execution_count": 67,
     "metadata": {},
     "output_type": "execute_result"
    }
   ],
   "source": [
    "P05556_df = pd.read_csv(os.path.join(prediction_dir, 'P05556_pred_.csv'))\n",
    "P05556_df['UniProtTarget'] = 'P05556'\n",
    "P05556_df.head(3)"
   ]
  },
  {
   "cell_type": "code",
   "execution_count": 68,
   "id": "4e0fc533-ffef-4a5f-aa94-f720f81a3cc3",
   "metadata": {},
   "outputs": [
    {
     "data": {
      "text/html": [
       "<div>\n",
       "<style scoped>\n",
       "    .dataframe tbody tr th:only-of-type {\n",
       "        vertical-align: middle;\n",
       "    }\n",
       "\n",
       "    .dataframe tbody tr th {\n",
       "        vertical-align: top;\n",
       "    }\n",
       "\n",
       "    .dataframe thead th {\n",
       "        text-align: right;\n",
       "    }\n",
       "</style>\n",
       "<table border=\"1\" class=\"dataframe\">\n",
       "  <thead>\n",
       "    <tr style=\"text-align: right;\">\n",
       "      <th></th>\n",
       "      <th>SMILES</th>\n",
       "      <th>PredictedUniProtPartner</th>\n",
       "      <th>UniProtTarget</th>\n",
       "    </tr>\n",
       "  </thead>\n",
       "  <tbody>\n",
       "    <tr>\n",
       "      <th>0</th>\n",
       "      <td>OC(=O)[C@@H]1CCCN1c2cc(ccn2)c3ccc(Sc4ccc5OCCOc...</td>\n",
       "      <td>P20701</td>\n",
       "      <td>P05107</td>\n",
       "    </tr>\n",
       "    <tr>\n",
       "      <th>1</th>\n",
       "      <td>CN([C@@H]1CCN(C1)c2cc(ccn2)c3ccc(Sc4ccc5OCCOc5...</td>\n",
       "      <td>P20701</td>\n",
       "      <td>P05107</td>\n",
       "    </tr>\n",
       "    <tr>\n",
       "      <th>2</th>\n",
       "      <td>CC(C)c1ccccc1Sc2ccc(cc2C(F)(F)F)c3cc(ncn3)N4CC...</td>\n",
       "      <td>P20701</td>\n",
       "      <td>P05107</td>\n",
       "    </tr>\n",
       "  </tbody>\n",
       "</table>\n",
       "</div>"
      ],
      "text/plain": [
       "                                              SMILES PredictedUniProtPartner  \\\n",
       "0  OC(=O)[C@@H]1CCCN1c2cc(ccn2)c3ccc(Sc4ccc5OCCOc...                  P20701   \n",
       "1  CN([C@@H]1CCN(C1)c2cc(ccn2)c3ccc(Sc4ccc5OCCOc5...                  P20701   \n",
       "2  CC(C)c1ccccc1Sc2ccc(cc2C(F)(F)F)c3cc(ncn3)N4CC...                  P20701   \n",
       "\n",
       "  UniProtTarget  \n",
       "0        P05107  \n",
       "1        P05107  \n",
       "2        P05107  "
      ]
     },
     "execution_count": 68,
     "metadata": {},
     "output_type": "execute_result"
    }
   ],
   "source": [
    "P05107_df = pd.read_csv(os.path.join(prediction_dir, 'P05107_pred.csv'))\n",
    "P05107_df['UniProtTarget'] = 'P05107'\n",
    "P05107_df.head(3)"
   ]
  },
  {
   "cell_type": "code",
   "execution_count": 69,
   "id": "24eb6223-38be-47ef-9315-21d5d252210d",
   "metadata": {},
   "outputs": [
    {
     "data": {
      "text/html": [
       "<div>\n",
       "<style scoped>\n",
       "    .dataframe tbody tr th:only-of-type {\n",
       "        vertical-align: middle;\n",
       "    }\n",
       "\n",
       "    .dataframe tbody tr th {\n",
       "        vertical-align: top;\n",
       "    }\n",
       "\n",
       "    .dataframe thead th {\n",
       "        text-align: right;\n",
       "    }\n",
       "</style>\n",
       "<table border=\"1\" class=\"dataframe\">\n",
       "  <thead>\n",
       "    <tr style=\"text-align: right;\">\n",
       "      <th></th>\n",
       "      <th>SMILES</th>\n",
       "      <th>PredictedUniProtPartner</th>\n",
       "      <th>UniProtTarget</th>\n",
       "    </tr>\n",
       "  </thead>\n",
       "  <tbody>\n",
       "    <tr>\n",
       "      <th>0</th>\n",
       "      <td>CN1[C@@H](CCCN=C(N)N)C(=O)NCC(=O)N[C@@H](CC(=O...</td>\n",
       "      <td>P08514</td>\n",
       "      <td>P05106</td>\n",
       "    </tr>\n",
       "    <tr>\n",
       "      <th>1</th>\n",
       "      <td>OC(=O)C(CNC(=O)CCCCc1ccc2CCCNc2n1)c3cnc4ccccc4c3</td>\n",
       "      <td>P06756</td>\n",
       "      <td>P05106</td>\n",
       "    </tr>\n",
       "    <tr>\n",
       "      <th>2</th>\n",
       "      <td>OC(=O)C[C@H](NC(=O)CN1CCC[C@@H](CCC2CCNCC2)C1=...</td>\n",
       "      <td>P08514</td>\n",
       "      <td>P05106</td>\n",
       "    </tr>\n",
       "  </tbody>\n",
       "</table>\n",
       "</div>"
      ],
      "text/plain": [
       "                                              SMILES PredictedUniProtPartner  \\\n",
       "0  CN1[C@@H](CCCN=C(N)N)C(=O)NCC(=O)N[C@@H](CC(=O...                  P08514   \n",
       "1   OC(=O)C(CNC(=O)CCCCc1ccc2CCCNc2n1)c3cnc4ccccc4c3                  P06756   \n",
       "2  OC(=O)C[C@H](NC(=O)CN1CCC[C@@H](CCC2CCNCC2)C1=...                  P08514   \n",
       "\n",
       "  UniProtTarget  \n",
       "0        P05106  \n",
       "1        P05106  \n",
       "2        P05106  "
      ]
     },
     "execution_count": 69,
     "metadata": {},
     "output_type": "execute_result"
    }
   ],
   "source": [
    "P05106_df = pd.read_csv(os.path.join(prediction_dir, 'P05106_pred_.csv'))\n",
    "P05106_df['UniProtTarget'] = 'P05106'\n",
    "P05106_df.head(3)"
   ]
  },
  {
   "cell_type": "code",
   "execution_count": 70,
   "id": "114b81a8-3ef8-4d9e-baa3-0d0238dcfb8f",
   "metadata": {},
   "outputs": [
    {
     "data": {
      "text/html": [
       "<div>\n",
       "<style scoped>\n",
       "    .dataframe tbody tr th:only-of-type {\n",
       "        vertical-align: middle;\n",
       "    }\n",
       "\n",
       "    .dataframe tbody tr th {\n",
       "        vertical-align: top;\n",
       "    }\n",
       "\n",
       "    .dataframe thead th {\n",
       "        text-align: right;\n",
       "    }\n",
       "</style>\n",
       "<table border=\"1\" class=\"dataframe\">\n",
       "  <thead>\n",
       "    <tr style=\"text-align: right;\">\n",
       "      <th></th>\n",
       "      <th>SMILES</th>\n",
       "      <th>PredictedUniProtPartner</th>\n",
       "      <th>UniProtTarget</th>\n",
       "    </tr>\n",
       "  </thead>\n",
       "  <tbody>\n",
       "    <tr>\n",
       "      <th>0</th>\n",
       "      <td>Cc1cc(C)c(c(C)c1)S(=O)(=O)N[C@@H](CNC(=O)C2=NO...</td>\n",
       "      <td>P05556</td>\n",
       "      <td>P08648</td>\n",
       "    </tr>\n",
       "    <tr>\n",
       "      <th>1</th>\n",
       "      <td>OC(=O)[C@H](Cc1cccc(OCCNc2ccccn2)c1)NC(=O)c3c(...</td>\n",
       "      <td>P05556</td>\n",
       "      <td>P08648</td>\n",
       "    </tr>\n",
       "    <tr>\n",
       "      <th>2</th>\n",
       "      <td>CCCN(C(=O)CC(=O)O)C1=C(C)C[C@H](N([C@@H](C)c2c...</td>\n",
       "      <td>P05556</td>\n",
       "      <td>P08648</td>\n",
       "    </tr>\n",
       "  </tbody>\n",
       "</table>\n",
       "</div>"
      ],
      "text/plain": [
       "                                              SMILES PredictedUniProtPartner  \\\n",
       "0  Cc1cc(C)c(c(C)c1)S(=O)(=O)N[C@@H](CNC(=O)C2=NO...                  P05556   \n",
       "1  OC(=O)[C@H](Cc1cccc(OCCNc2ccccn2)c1)NC(=O)c3c(...                  P05556   \n",
       "2  CCCN(C(=O)CC(=O)O)C1=C(C)C[C@H](N([C@@H](C)c2c...                  P05556   \n",
       "\n",
       "  UniProtTarget  \n",
       "0        P08648  \n",
       "1        P08648  \n",
       "2        P08648  "
      ]
     },
     "execution_count": 70,
     "metadata": {},
     "output_type": "execute_result"
    }
   ],
   "source": [
    "P08648_df = pd.read_csv(os.path.join(prediction_dir, 'P08648_pred_.csv'))\n",
    "P08648_df['UniProtTarget'] = 'P08648'\n",
    "P08648_df.head(3)"
   ]
  },
  {
   "cell_type": "code",
   "execution_count": 71,
   "id": "647039de-9c2a-40f3-85a3-caa9ba7a7de3",
   "metadata": {},
   "outputs": [
    {
     "data": {
      "text/html": [
       "<div>\n",
       "<style scoped>\n",
       "    .dataframe tbody tr th:only-of-type {\n",
       "        vertical-align: middle;\n",
       "    }\n",
       "\n",
       "    .dataframe tbody tr th {\n",
       "        vertical-align: top;\n",
       "    }\n",
       "\n",
       "    .dataframe thead th {\n",
       "        text-align: right;\n",
       "    }\n",
       "</style>\n",
       "<table border=\"1\" class=\"dataframe\">\n",
       "  <thead>\n",
       "    <tr style=\"text-align: right;\">\n",
       "      <th></th>\n",
       "      <th>SMILES</th>\n",
       "      <th>PredictedUniProtPartner</th>\n",
       "      <th>UniProtTarget</th>\n",
       "    </tr>\n",
       "  </thead>\n",
       "  <tbody>\n",
       "    <tr>\n",
       "      <th>0</th>\n",
       "      <td>Cc1ccccc1S(=O)(=O)N[C@@H](CNC(=O)c2cocc2)C(=O)O</td>\n",
       "      <td>P05556</td>\n",
       "      <td>P17301</td>\n",
       "    </tr>\n",
       "    <tr>\n",
       "      <th>1</th>\n",
       "      <td>CCc1cc(O)c2c(O)c3C(=O)c4c(O)cccc4C(=O)c3cc2c1C...</td>\n",
       "      <td>P05556</td>\n",
       "      <td>P17301</td>\n",
       "    </tr>\n",
       "  </tbody>\n",
       "</table>\n",
       "</div>"
      ],
      "text/plain": [
       "                                              SMILES PredictedUniProtPartner  \\\n",
       "0    Cc1ccccc1S(=O)(=O)N[C@@H](CNC(=O)c2cocc2)C(=O)O                  P05556   \n",
       "1  CCc1cc(O)c2c(O)c3C(=O)c4c(O)cccc4C(=O)c3cc2c1C...                  P05556   \n",
       "\n",
       "  UniProtTarget  \n",
       "0        P17301  \n",
       "1        P17301  "
      ]
     },
     "execution_count": 71,
     "metadata": {},
     "output_type": "execute_result"
    }
   ],
   "source": [
    "P17301_df = pd.read_csv(os.path.join(prediction_dir, 'P17301_pred.csv'))\n",
    "P17301_df['UniProtTarget'] = 'P17301'\n",
    "P17301_df.head(3)"
   ]
  },
  {
   "cell_type": "markdown",
   "id": "79b34324-bb98-4053-a2a0-1e1808a8ecb7",
   "metadata": {},
   "source": [
    "### Combine all Data Frames into One Whole Data Frame ###"
   ]
  },
  {
   "cell_type": "code",
   "execution_count": 72,
   "id": "62baa318-6aac-4652-9029-01cbc8f76d43",
   "metadata": {},
   "outputs": [],
   "source": [
    "df_list = [P13612_df, P05556_df, P05107_df, P05106_df, P08648_df, P17301_df]"
   ]
  },
  {
   "cell_type": "code",
   "execution_count": 73,
   "id": "9ab6ff4a-16d3-4125-a35f-98e1858e62ef",
   "metadata": {},
   "outputs": [],
   "source": [
    "combined_df = pd.concat(df_list, ignore_index=True)"
   ]
  },
  {
   "cell_type": "code",
   "execution_count": 74,
   "id": "c9ba88a1-c874-4aaa-b9ef-6e0c53a428de",
   "metadata": {},
   "outputs": [
    {
     "data": {
      "text/html": [
       "<div>\n",
       "<style scoped>\n",
       "    .dataframe tbody tr th:only-of-type {\n",
       "        vertical-align: middle;\n",
       "    }\n",
       "\n",
       "    .dataframe tbody tr th {\n",
       "        vertical-align: top;\n",
       "    }\n",
       "\n",
       "    .dataframe thead th {\n",
       "        text-align: right;\n",
       "    }\n",
       "</style>\n",
       "<table border=\"1\" class=\"dataframe\">\n",
       "  <thead>\n",
       "    <tr style=\"text-align: right;\">\n",
       "      <th></th>\n",
       "      <th>SMILES</th>\n",
       "      <th>PredictedUniProtPartner</th>\n",
       "      <th>UniProtTarget</th>\n",
       "    </tr>\n",
       "  </thead>\n",
       "  <tbody>\n",
       "    <tr>\n",
       "      <th>0</th>\n",
       "      <td>OC(=O)[C@H](Cc1ccc(NC(=O)c2c(Cl)cccc2Cl)cc1)NC...</td>\n",
       "      <td>P05556</td>\n",
       "      <td>P13612</td>\n",
       "    </tr>\n",
       "    <tr>\n",
       "      <th>1</th>\n",
       "      <td>CC1CCC(C[C@H](NC(=O)[C@@H]2CCC(=O)N2Cc3ccccc3)...</td>\n",
       "      <td>P05556</td>\n",
       "      <td>P13612</td>\n",
       "    </tr>\n",
       "    <tr>\n",
       "      <th>2</th>\n",
       "      <td>CC(C)CCNC(=O)[C@@H]1OCO[C@H]1C(=O)N[C@@H](Cc2c...</td>\n",
       "      <td>P05556</td>\n",
       "      <td>P13612</td>\n",
       "    </tr>\n",
       "    <tr>\n",
       "      <th>3</th>\n",
       "      <td>OC(=O)CN(CC(=O)N[C@@H](Cc1ccc(OCc2c(Cl)cccc2Cl...</td>\n",
       "      <td>P05556</td>\n",
       "      <td>P13612</td>\n",
       "    </tr>\n",
       "    <tr>\n",
       "      <th>4</th>\n",
       "      <td>CCC\\N=C/1\\C(\\C(=C1O)O)=N\\[C@@H](Cc2ccc(OCc3c(C...</td>\n",
       "      <td>P05556</td>\n",
       "      <td>P13612</td>\n",
       "    </tr>\n",
       "    <tr>\n",
       "      <th>...</th>\n",
       "      <td>...</td>\n",
       "      <td>...</td>\n",
       "      <td>...</td>\n",
       "    </tr>\n",
       "    <tr>\n",
       "      <th>4187</th>\n",
       "      <td>Cc1cc(C)c(C(=O)N[C@@H](CNC(=O)CO[C@@H]2C[C@@H]...</td>\n",
       "      <td>P05556</td>\n",
       "      <td>P08648</td>\n",
       "    </tr>\n",
       "    <tr>\n",
       "      <th>4188</th>\n",
       "      <td>Cc1cc(C)c(c(C)c1)S(=O)(=O)N[C@@H](CNC(=O)CO[C@...</td>\n",
       "      <td>P05556</td>\n",
       "      <td>P08648</td>\n",
       "    </tr>\n",
       "    <tr>\n",
       "      <th>4189</th>\n",
       "      <td>OC(=O)[C@H](CNC(=O)CO[C@@H]1C[C@@H](CNc2ccccn2...</td>\n",
       "      <td>P05556</td>\n",
       "      <td>P08648</td>\n",
       "    </tr>\n",
       "    <tr>\n",
       "      <th>4190</th>\n",
       "      <td>Cc1ccccc1S(=O)(=O)N[C@@H](CNC(=O)c2cocc2)C(=O)O</td>\n",
       "      <td>P05556</td>\n",
       "      <td>P17301</td>\n",
       "    </tr>\n",
       "    <tr>\n",
       "      <th>4191</th>\n",
       "      <td>CCc1cc(O)c2c(O)c3C(=O)c4c(O)cccc4C(=O)c3cc2c1C...</td>\n",
       "      <td>P05556</td>\n",
       "      <td>P17301</td>\n",
       "    </tr>\n",
       "  </tbody>\n",
       "</table>\n",
       "<p>4192 rows × 3 columns</p>\n",
       "</div>"
      ],
      "text/plain": [
       "                                                 SMILES  \\\n",
       "0     OC(=O)[C@H](Cc1ccc(NC(=O)c2c(Cl)cccc2Cl)cc1)NC...   \n",
       "1     CC1CCC(C[C@H](NC(=O)[C@@H]2CCC(=O)N2Cc3ccccc3)...   \n",
       "2     CC(C)CCNC(=O)[C@@H]1OCO[C@H]1C(=O)N[C@@H](Cc2c...   \n",
       "3     OC(=O)CN(CC(=O)N[C@@H](Cc1ccc(OCc2c(Cl)cccc2Cl...   \n",
       "4     CCC\\N=C/1\\C(\\C(=C1O)O)=N\\[C@@H](Cc2ccc(OCc3c(C...   \n",
       "...                                                 ...   \n",
       "4187  Cc1cc(C)c(C(=O)N[C@@H](CNC(=O)CO[C@@H]2C[C@@H]...   \n",
       "4188  Cc1cc(C)c(c(C)c1)S(=O)(=O)N[C@@H](CNC(=O)CO[C@...   \n",
       "4189  OC(=O)[C@H](CNC(=O)CO[C@@H]1C[C@@H](CNc2ccccn2...   \n",
       "4190    Cc1ccccc1S(=O)(=O)N[C@@H](CNC(=O)c2cocc2)C(=O)O   \n",
       "4191  CCc1cc(O)c2c(O)c3C(=O)c4c(O)cccc4C(=O)c3cc2c1C...   \n",
       "\n",
       "     PredictedUniProtPartner UniProtTarget  \n",
       "0                     P05556        P13612  \n",
       "1                     P05556        P13612  \n",
       "2                     P05556        P13612  \n",
       "3                     P05556        P13612  \n",
       "4                     P05556        P13612  \n",
       "...                      ...           ...  \n",
       "4187                  P05556        P08648  \n",
       "4188                  P05556        P08648  \n",
       "4189                  P05556        P08648  \n",
       "4190                  P05556        P17301  \n",
       "4191                  P05556        P17301  \n",
       "\n",
       "[4192 rows x 3 columns]"
      ]
     },
     "execution_count": 74,
     "metadata": {},
     "output_type": "execute_result"
    }
   ],
   "source": [
    "combined_df"
   ]
  },
  {
   "cell_type": "code",
   "execution_count": 75,
   "id": "e9e59295-a71f-481a-8cc2-730bf5f4763d",
   "metadata": {},
   "outputs": [],
   "source": [
    "new_order = ['SMILES', 'UniProtTarget', 'PredictedUniProtPartner']"
   ]
  },
  {
   "cell_type": "code",
   "execution_count": 76,
   "id": "74be3f8b-2cd7-4419-9001-11ae4336d9a9",
   "metadata": {},
   "outputs": [],
   "source": [
    "combined_df = combined_df[new_order]"
   ]
  },
  {
   "cell_type": "code",
   "execution_count": 77,
   "id": "ea281909-4eea-4ee6-b694-7c92944296b8",
   "metadata": {},
   "outputs": [
    {
     "data": {
      "text/html": [
       "<div>\n",
       "<style scoped>\n",
       "    .dataframe tbody tr th:only-of-type {\n",
       "        vertical-align: middle;\n",
       "    }\n",
       "\n",
       "    .dataframe tbody tr th {\n",
       "        vertical-align: top;\n",
       "    }\n",
       "\n",
       "    .dataframe thead th {\n",
       "        text-align: right;\n",
       "    }\n",
       "</style>\n",
       "<table border=\"1\" class=\"dataframe\">\n",
       "  <thead>\n",
       "    <tr style=\"text-align: right;\">\n",
       "      <th></th>\n",
       "      <th>SMILES</th>\n",
       "      <th>UniProtTarget</th>\n",
       "      <th>PredictedUniProtPartner</th>\n",
       "    </tr>\n",
       "  </thead>\n",
       "  <tbody>\n",
       "    <tr>\n",
       "      <th>0</th>\n",
       "      <td>OC(=O)[C@H](Cc1ccc(NC(=O)c2c(Cl)cccc2Cl)cc1)NC...</td>\n",
       "      <td>P13612</td>\n",
       "      <td>P05556</td>\n",
       "    </tr>\n",
       "    <tr>\n",
       "      <th>1</th>\n",
       "      <td>CC1CCC(C[C@H](NC(=O)[C@@H]2CCC(=O)N2Cc3ccccc3)...</td>\n",
       "      <td>P13612</td>\n",
       "      <td>P05556</td>\n",
       "    </tr>\n",
       "    <tr>\n",
       "      <th>2</th>\n",
       "      <td>CC(C)CCNC(=O)[C@@H]1OCO[C@H]1C(=O)N[C@@H](Cc2c...</td>\n",
       "      <td>P13612</td>\n",
       "      <td>P05556</td>\n",
       "    </tr>\n",
       "  </tbody>\n",
       "</table>\n",
       "</div>"
      ],
      "text/plain": [
       "                                              SMILES UniProtTarget  \\\n",
       "0  OC(=O)[C@H](Cc1ccc(NC(=O)c2c(Cl)cccc2Cl)cc1)NC...        P13612   \n",
       "1  CC1CCC(C[C@H](NC(=O)[C@@H]2CCC(=O)N2Cc3ccccc3)...        P13612   \n",
       "2  CC(C)CCNC(=O)[C@@H]1OCO[C@H]1C(=O)N[C@@H](Cc2c...        P13612   \n",
       "\n",
       "  PredictedUniProtPartner  \n",
       "0                  P05556  \n",
       "1                  P05556  \n",
       "2                  P05556  "
      ]
     },
     "execution_count": 77,
     "metadata": {},
     "output_type": "execute_result"
    }
   ],
   "source": [
    "combined_df.head(3)"
   ]
  },
  {
   "cell_type": "code",
   "execution_count": 78,
   "id": "6ee14e45-75a8-4448-8737-4dec176ef126",
   "metadata": {},
   "outputs": [
    {
     "name": "stdout",
     "output_type": "stream",
     "text": [
      "~~~~~~~~~~~~~~~~~~~~~~~~~~~~~~~~~~~~~~~~~~~~~~~~~~~~~~~~~~~~~~~~~~~~~~~~~~~~~~~~\n",
      "SAVED & DONE !\n",
      "~~~~~~~~~~~~~~~~~~~~~~~~~~~~~~~~~~~~~~~~~~~~~~~~~~~~~~~~~~~~~~~~~~~~~~~~~~~~~~~~\n"
     ]
    }
   ],
   "source": [
    "combined_df.to_csv('prediction_df_modified.csv', index=False)\n",
    "\n",
    "PRINT('SAVED & DONE !')"
   ]
  },
  {
   "cell_type": "markdown",
   "id": "8b617e29-c9de-410c-8f44-46d4cce36198",
   "metadata": {},
   "source": [
    "### Verify Data Frame Shape ###"
   ]
  },
  {
   "cell_type": "code",
   "execution_count": 82,
   "id": "8a9dcf74-66e2-48f4-bfa6-b6fac6530a05",
   "metadata": {},
   "outputs": [],
   "source": [
    "old_df = pd.read_csv(os.path.join('data','dataset_for_prediction.csv'))"
   ]
  },
  {
   "cell_type": "code",
   "execution_count": 84,
   "id": "d1690a98-d6ca-4b3e-9a2f-80b09ca0018b",
   "metadata": {},
   "outputs": [
    {
     "name": "stdout",
     "output_type": "stream",
     "text": [
      "~~~~~~~~~~~~~~~~~~~~~~~~~~~~~~~~~~~~~~~~~~~~~~~~~~~~~~~~~~~~~~~~~~~~~~~~~~~~~~~~\n",
      "Shapes check:\n",
      "\n",
      "4192\n",
      "\n",
      "vs.\n",
      "\n",
      "4192\n",
      "~~~~~~~~~~~~~~~~~~~~~~~~~~~~~~~~~~~~~~~~~~~~~~~~~~~~~~~~~~~~~~~~~~~~~~~~~~~~~~~~\n"
     ]
    }
   ],
   "source": [
    "PRINT(f'Shapes check:\\n\\n{old_df.shape[0]}\\n\\nvs.\\n\\n{combined_df.shape[0]}')"
   ]
  },
  {
   "cell_type": "markdown",
   "id": "268732c1-5fd2-463d-8851-dc281f3832b2",
   "metadata": {},
   "source": [
    "Everything seems fine with the shapes; the additional column is a result of appending the predicted UniProt partner column to our combined dataframe."
   ]
  },
  {
   "cell_type": "code",
   "execution_count": 85,
   "id": "78fb5304-83ea-45bd-bae2-8e7f495427cf",
   "metadata": {},
   "outputs": [
    {
     "name": "stdout",
     "output_type": "stream",
     "text": [
      "~~~~~~~~~~~~~~~~~~~~~~~~~~~~~~~~~~~~~~~~~~~~~~~~~~~~~~~~~~~~~~~~~~~~~~~~~~~~~~~~\n",
      "-------------------------------------------------------------\n",
      "~~~~~~~~~~~~~~~~~~~~~~~~~~~~~~~~~~~~~~~~~~~~~~~~~~~~~~~~~~~~~~~~~~~~~~~~~~~~~~~~\n"
     ]
    }
   ],
   "source": [
    "PRINT(f'-------------------------------------------------------------')"
   ]
  },
  {
   "cell_type": "markdown",
   "id": "b2e5159b-c7e7-4131-8bf2-3aaa0f7cc933",
   "metadata": {},
   "source": [
    "## Adding Target Pref Name Column ##"
   ]
  },
  {
   "cell_type": "code",
   "execution_count": 29,
   "id": "44e61318-65fc-4937-9945-d76a1bf57703",
   "metadata": {},
   "outputs": [],
   "source": [
    "import os\n",
    "import pandas as pd\n",
    "\n",
    "def PRINT(text) -> None: print(f\"{80*'-'}\\n{text}\\n{80*'-'}\")"
   ]
  },
  {
   "cell_type": "code",
   "execution_count": 30,
   "id": "7b74cdc0-ace7-4e52-8e0c-6e5e76615239",
   "metadata": {},
   "outputs": [
    {
     "name": "stdout",
     "output_type": "stream",
     "text": [
      "--------------------------------------------------------------------------------\n",
      "Loaded Timbal dataset csv file to pandas data frame successfully\n",
      "--------------------------------------------------------------------------------\n"
     ]
    }
   ],
   "source": [
    "timbal_dataset_df = pd.read_csv(os.path.join('data', 'timbal_triplets.csv'))\n",
    "\n",
    "PRINT(f'Loaded Timbal dataset csv file to pandas data frame successfully')"
   ]
  },
  {
   "cell_type": "code",
   "execution_count": 31,
   "id": "daa93edf-95a1-4bb9-bec5-be22b451304b",
   "metadata": {},
   "outputs": [
    {
     "data": {
      "text/html": [
       "<div>\n",
       "<style scoped>\n",
       "    .dataframe tbody tr th:only-of-type {\n",
       "        vertical-align: middle;\n",
       "    }\n",
       "\n",
       "    .dataframe tbody tr th {\n",
       "        vertical-align: top;\n",
       "    }\n",
       "\n",
       "    .dataframe thead th {\n",
       "        text-align: right;\n",
       "    }\n",
       "</style>\n",
       "<table border=\"1\" class=\"dataframe\">\n",
       "  <thead>\n",
       "    <tr style=\"text-align: right;\">\n",
       "      <th></th>\n",
       "      <th>timbal_v2_id</th>\n",
       "      <th>smiles</th>\n",
       "      <th>target_name</th>\n",
       "      <th>uniprot_target</th>\n",
       "    </tr>\n",
       "  </thead>\n",
       "  <tbody>\n",
       "    <tr>\n",
       "      <th>0</th>\n",
       "      <td>11821</td>\n",
       "      <td>CC(O)CN1C(C(=C(O)C1=O)C(=O)c2ccc(C)cc2)c3ccc(c...</td>\n",
       "      <td>Annexin A2</td>\n",
       "      <td>P60903</td>\n",
       "    </tr>\n",
       "    <tr>\n",
       "      <th>1</th>\n",
       "      <td>11864</td>\n",
       "      <td>COCCCN1C(C(=C(O)C1=O)C(=O)c2ccc(C)nc2)c3ccc(cc...</td>\n",
       "      <td>Annexin A2</td>\n",
       "      <td>P60903</td>\n",
       "    </tr>\n",
       "    <tr>\n",
       "      <th>2</th>\n",
       "      <td>16986</td>\n",
       "      <td>CC(O)CN1C(C(=C(O)C1=O)C(=O)c2ccc(C)cc2)c3ccc4c...</td>\n",
       "      <td>Annexin A2</td>\n",
       "      <td>P07355</td>\n",
       "    </tr>\n",
       "    <tr>\n",
       "      <th>3</th>\n",
       "      <td>16973</td>\n",
       "      <td>CCOc1ccccc1C(=O)C2=C(O)C(=O)N(CCCOC)C2c3ccc(cc...</td>\n",
       "      <td>Annexin A2</td>\n",
       "      <td>P07355</td>\n",
       "    </tr>\n",
       "    <tr>\n",
       "      <th>4</th>\n",
       "      <td>11861</td>\n",
       "      <td>COCCCN1C(C(=C(O)C1=O)C(=O)c2ccc(C)nc2)c3ccc(c(...</td>\n",
       "      <td>Annexin A2</td>\n",
       "      <td>P60903</td>\n",
       "    </tr>\n",
       "  </tbody>\n",
       "</table>\n",
       "</div>"
      ],
      "text/plain": [
       "   timbal_v2_id                                             smiles  \\\n",
       "0         11821  CC(O)CN1C(C(=C(O)C1=O)C(=O)c2ccc(C)cc2)c3ccc(c...   \n",
       "1         11864  COCCCN1C(C(=C(O)C1=O)C(=O)c2ccc(C)nc2)c3ccc(cc...   \n",
       "2         16986  CC(O)CN1C(C(=C(O)C1=O)C(=O)c2ccc(C)cc2)c3ccc4c...   \n",
       "3         16973  CCOc1ccccc1C(=O)C2=C(O)C(=O)N(CCCOC)C2c3ccc(cc...   \n",
       "4         11861  COCCCN1C(C(=C(O)C1=O)C(=O)c2ccc(C)nc2)c3ccc(c(...   \n",
       "\n",
       "  target_name uniprot_target  \n",
       "0  Annexin A2         P60903  \n",
       "1  Annexin A2         P60903  \n",
       "2  Annexin A2         P07355  \n",
       "3  Annexin A2         P07355  \n",
       "4  Annexin A2         P60903  "
      ]
     },
     "execution_count": 31,
     "metadata": {},
     "output_type": "execute_result"
    }
   ],
   "source": [
    "timbal_dataset_df.head()"
   ]
  },
  {
   "cell_type": "code",
   "execution_count": 32,
   "id": "ec413fd3-d0d6-479d-89ba-a607a985bf8a",
   "metadata": {},
   "outputs": [
    {
     "name": "stdout",
     "output_type": "stream",
     "text": [
      "--------------------------------------------------------------------------------\n",
      "Loaded predictions csv file into pandas data frame successfully !\n",
      "--------------------------------------------------------------------------------\n"
     ]
    }
   ],
   "source": [
    "predictions_df = pd.read_csv('predictions.csv')\n",
    "\n",
    "PRINT(f'Loaded predictions csv file into pandas data frame successfully !')"
   ]
  },
  {
   "cell_type": "code",
   "execution_count": 33,
   "id": "e0077928-5507-4ea9-9beb-1dc0452bd5ac",
   "metadata": {},
   "outputs": [
    {
     "data": {
      "text/html": [
       "<div>\n",
       "<style scoped>\n",
       "    .dataframe tbody tr th:only-of-type {\n",
       "        vertical-align: middle;\n",
       "    }\n",
       "\n",
       "    .dataframe tbody tr th {\n",
       "        vertical-align: top;\n",
       "    }\n",
       "\n",
       "    .dataframe thead th {\n",
       "        text-align: right;\n",
       "    }\n",
       "</style>\n",
       "<table border=\"1\" class=\"dataframe\">\n",
       "  <thead>\n",
       "    <tr style=\"text-align: right;\">\n",
       "      <th></th>\n",
       "      <th>SMILES</th>\n",
       "      <th>UniProtTarget</th>\n",
       "      <th>PredictedUniProtPartner</th>\n",
       "    </tr>\n",
       "  </thead>\n",
       "  <tbody>\n",
       "    <tr>\n",
       "      <th>0</th>\n",
       "      <td>OC(=O)[C@H](Cc1ccc(NC(=O)c2c(Cl)cccc2Cl)cc1)NC...</td>\n",
       "      <td>P13612</td>\n",
       "      <td>P05556</td>\n",
       "    </tr>\n",
       "    <tr>\n",
       "      <th>1</th>\n",
       "      <td>CC1CCC(C[C@H](NC(=O)[C@@H]2CCC(=O)N2Cc3ccccc3)...</td>\n",
       "      <td>P13612</td>\n",
       "      <td>P05556</td>\n",
       "    </tr>\n",
       "    <tr>\n",
       "      <th>2</th>\n",
       "      <td>CC(C)CCNC(=O)[C@@H]1OCO[C@H]1C(=O)N[C@@H](Cc2c...</td>\n",
       "      <td>P13612</td>\n",
       "      <td>P05556</td>\n",
       "    </tr>\n",
       "    <tr>\n",
       "      <th>3</th>\n",
       "      <td>OC(=O)CN(CC(=O)N[C@@H](Cc1ccc(OCc2c(Cl)cccc2Cl...</td>\n",
       "      <td>P13612</td>\n",
       "      <td>P05556</td>\n",
       "    </tr>\n",
       "    <tr>\n",
       "      <th>4</th>\n",
       "      <td>CCC\\N=C/1\\C(\\C(=C1O)O)=N\\[C@@H](Cc2ccc(OCc3c(C...</td>\n",
       "      <td>P13612</td>\n",
       "      <td>P05556</td>\n",
       "    </tr>\n",
       "  </tbody>\n",
       "</table>\n",
       "</div>"
      ],
      "text/plain": [
       "                                              SMILES UniProtTarget  \\\n",
       "0  OC(=O)[C@H](Cc1ccc(NC(=O)c2c(Cl)cccc2Cl)cc1)NC...        P13612   \n",
       "1  CC1CCC(C[C@H](NC(=O)[C@@H]2CCC(=O)N2Cc3ccccc3)...        P13612   \n",
       "2  CC(C)CCNC(=O)[C@@H]1OCO[C@H]1C(=O)N[C@@H](Cc2c...        P13612   \n",
       "3  OC(=O)CN(CC(=O)N[C@@H](Cc1ccc(OCc2c(Cl)cccc2Cl...        P13612   \n",
       "4  CCC\\N=C/1\\C(\\C(=C1O)O)=N\\[C@@H](Cc2ccc(OCc3c(C...        P13612   \n",
       "\n",
       "  PredictedUniProtPartner  \n",
       "0                  P05556  \n",
       "1                  P05556  \n",
       "2                  P05556  \n",
       "3                  P05556  \n",
       "4                  P05556  "
      ]
     },
     "execution_count": 33,
     "metadata": {},
     "output_type": "execute_result"
    }
   ],
   "source": [
    "predictions_df.head()"
   ]
  },
  {
   "cell_type": "code",
   "execution_count": 34,
   "id": "33b2b3e5-f8b9-435b-8a42-932338cf6896",
   "metadata": {},
   "outputs": [],
   "source": [
    "timbal_columns = list(timbal_dataset_df.columns)\n",
    "predictions_columns = list(predictions_df.columns)"
   ]
  },
  {
   "cell_type": "code",
   "execution_count": 35,
   "id": "9169430c-8d46-40f0-ad69-f89da7e9a0f1",
   "metadata": {},
   "outputs": [
    {
     "name": "stdout",
     "output_type": "stream",
     "text": [
      "--------------------------------------------------------------------------------\n",
      "Timbal data frame columns -> ['timbal_v2_id', 'smiles', 'target_name', 'uniprot_target']\n",
      "\n",
      "Predictions data frame columns -> ['SMILES', 'UniProtTarget', 'PredictedUniProtPartner']\n",
      "--------------------------------------------------------------------------------\n"
     ]
    }
   ],
   "source": [
    "PRINT(f'Timbal data frame columns -> {timbal_columns}\\n\\nPredictions data frame columns -> {predictions_columns}')"
   ]
  },
  {
   "cell_type": "code",
   "execution_count": 36,
   "id": "a810fb62-7763-4185-b9d2-467a84b3c4d9",
   "metadata": {},
   "outputs": [
    {
     "name": "stdout",
     "output_type": "stream",
     "text": [
      "--------------------------------------------------------------------------------\n",
      "Merged the data frames by molecule SMILES value successfully !\n",
      "--------------------------------------------------------------------------------\n"
     ]
    }
   ],
   "source": [
    "merged_df = pd.merge(predictions_df, timbal_dataset_df, left_on=['SMILES', 'UniProtTarget'], right_on=['smiles', 'uniprot_target'], how='left')\n",
    "\n",
    "PRINT(f'Merged the data frames by molecule SMILES value successfully !')"
   ]
  },
  {
   "cell_type": "code",
   "execution_count": 37,
   "id": "62b96544-fcc7-4daa-8030-090a71539ef2",
   "metadata": {},
   "outputs": [
    {
     "data": {
      "text/plain": [
       "(6169, 7)"
      ]
     },
     "execution_count": 37,
     "metadata": {},
     "output_type": "execute_result"
    }
   ],
   "source": [
    "merged_df.shape"
   ]
  },
  {
   "cell_type": "code",
   "execution_count": 38,
   "id": "d4db960d-0e8a-4010-848d-ff927db10d13",
   "metadata": {},
   "outputs": [
    {
     "data": {
      "text/plain": [
       "0"
      ]
     },
     "execution_count": 38,
     "metadata": {},
     "output_type": "execute_result"
    }
   ],
   "source": [
    "n= merged_df.duplicated().sum()\n",
    "\n",
    "n"
   ]
  },
  {
   "cell_type": "code",
   "execution_count": 39,
   "id": "bcdd3615-c01f-4ddc-b995-6547a84fa03e",
   "metadata": {},
   "outputs": [
    {
     "data": {
      "text/plain": [
       "Index(['SMILES', 'UniProtTarget', 'PredictedUniProtPartner', 'timbal_v2_id',\n",
       "       'smiles', 'target_name', 'uniprot_target'],\n",
       "      dtype='object')"
      ]
     },
     "execution_count": 39,
     "metadata": {},
     "output_type": "execute_result"
    }
   ],
   "source": [
    "merged_df.columns"
   ]
  },
  {
   "cell_type": "code",
   "execution_count": 51,
   "id": "5443f006-de6b-4b55-8dd3-996dd7fcac11",
   "metadata": {},
   "outputs": [
    {
     "data": {
      "text/plain": [
       "array(['Integrins'], dtype=object)"
      ]
     },
     "execution_count": 51,
     "metadata": {},
     "output_type": "execute_result"
    }
   ],
   "source": [
    "merged_df['target_name'].unique()"
   ]
  },
  {
   "cell_type": "code",
   "execution_count": 22,
   "id": "ac27a0d2-09f1-4dde-a9f4-9590dbc1f5ea",
   "metadata": {},
   "outputs": [
    {
     "name": "stdout",
     "output_type": "stream",
     "text": [
      "--------------------------------------------------------------------------------\n",
      "Merged data frame columns -> ['SMILES', 'UniProtTarget', 'PredictedUniProtPartner', 'timbal_v2_id', 'smiles', 'target_name', 'uniprot_target']\n",
      "--------------------------------------------------------------------------------\n"
     ]
    }
   ],
   "source": [
    "PRINT(f'Merged data frame columns -> {list(merged_df.columns)}')"
   ]
  },
  {
   "cell_type": "code",
   "execution_count": 25,
   "id": "1c0d9bea-9c19-4ea9-b6d1-e54c76898205",
   "metadata": {},
   "outputs": [],
   "source": [
    "merged_df.drop(columns=['timbal_v2_id', 'smiles', 'uniprot_target'], axis=1, inplace=True)"
   ]
  },
  {
   "cell_type": "code",
   "execution_count": 26,
   "id": "bd074438-9f18-49f8-b031-63cc9b59edb6",
   "metadata": {},
   "outputs": [],
   "source": [
    "# Rename the column 'target_name' to 'Target Pref Name'\n",
    "merged_df.rename(columns={'target_name': 'Target Pref Name'}, inplace=True)"
   ]
  },
  {
   "cell_type": "code",
   "execution_count": 27,
   "id": "e7b1893f-f9a5-454d-860c-a5c4cea034bb",
   "metadata": {},
   "outputs": [
    {
     "data": {
      "text/html": [
       "<div>\n",
       "<style scoped>\n",
       "    .dataframe tbody tr th:only-of-type {\n",
       "        vertical-align: middle;\n",
       "    }\n",
       "\n",
       "    .dataframe tbody tr th {\n",
       "        vertical-align: top;\n",
       "    }\n",
       "\n",
       "    .dataframe thead th {\n",
       "        text-align: right;\n",
       "    }\n",
       "</style>\n",
       "<table border=\"1\" class=\"dataframe\">\n",
       "  <thead>\n",
       "    <tr style=\"text-align: right;\">\n",
       "      <th></th>\n",
       "      <th>SMILES</th>\n",
       "      <th>UniProtTarget</th>\n",
       "      <th>PredictedUniProtPartner</th>\n",
       "      <th>Target Pref Name</th>\n",
       "    </tr>\n",
       "  </thead>\n",
       "  <tbody>\n",
       "    <tr>\n",
       "      <th>0</th>\n",
       "      <td>OC(=O)[C@H](Cc1ccc(NC(=O)c2c(Cl)cccc2Cl)cc1)NC...</td>\n",
       "      <td>P13612</td>\n",
       "      <td>P05556</td>\n",
       "      <td>Integrins</td>\n",
       "    </tr>\n",
       "    <tr>\n",
       "      <th>1</th>\n",
       "      <td>OC(=O)[C@H](Cc1ccc(NC(=O)c2c(Cl)cccc2Cl)cc1)NC...</td>\n",
       "      <td>P13612</td>\n",
       "      <td>P05556</td>\n",
       "      <td>Integrins</td>\n",
       "    </tr>\n",
       "    <tr>\n",
       "      <th>2</th>\n",
       "      <td>OC(=O)[C@H](Cc1ccc(NC(=O)c2c(Cl)cccc2Cl)cc1)NC...</td>\n",
       "      <td>P13612</td>\n",
       "      <td>P05556</td>\n",
       "      <td>Integrins</td>\n",
       "    </tr>\n",
       "    <tr>\n",
       "      <th>3</th>\n",
       "      <td>OC(=O)[C@H](Cc1ccc(NC(=O)c2c(Cl)cccc2Cl)cc1)NC...</td>\n",
       "      <td>P13612</td>\n",
       "      <td>P05556</td>\n",
       "      <td>Integrins</td>\n",
       "    </tr>\n",
       "    <tr>\n",
       "      <th>4</th>\n",
       "      <td>CC1CCC(C[C@H](NC(=O)[C@@H]2CCC(=O)N2Cc3ccccc3)...</td>\n",
       "      <td>P13612</td>\n",
       "      <td>P05556</td>\n",
       "      <td>Integrins</td>\n",
       "    </tr>\n",
       "  </tbody>\n",
       "</table>\n",
       "</div>"
      ],
      "text/plain": [
       "                                              SMILES UniProtTarget  \\\n",
       "0  OC(=O)[C@H](Cc1ccc(NC(=O)c2c(Cl)cccc2Cl)cc1)NC...        P13612   \n",
       "1  OC(=O)[C@H](Cc1ccc(NC(=O)c2c(Cl)cccc2Cl)cc1)NC...        P13612   \n",
       "2  OC(=O)[C@H](Cc1ccc(NC(=O)c2c(Cl)cccc2Cl)cc1)NC...        P13612   \n",
       "3  OC(=O)[C@H](Cc1ccc(NC(=O)c2c(Cl)cccc2Cl)cc1)NC...        P13612   \n",
       "4  CC1CCC(C[C@H](NC(=O)[C@@H]2CCC(=O)N2Cc3ccccc3)...        P13612   \n",
       "\n",
       "  PredictedUniProtPartner Target Pref Name  \n",
       "0                  P05556        Integrins  \n",
       "1                  P05556        Integrins  \n",
       "2                  P05556        Integrins  \n",
       "3                  P05556        Integrins  \n",
       "4                  P05556        Integrins  "
      ]
     },
     "execution_count": 27,
     "metadata": {},
     "output_type": "execute_result"
    }
   ],
   "source": [
    "merged_df.head()"
   ]
  },
  {
   "cell_type": "code",
   "execution_count": 28,
   "id": "cbf4f063-a961-43c8-991a-492e7f136f1b",
   "metadata": {},
   "outputs": [
    {
     "data": {
      "text/plain": [
       "(11607, 4)"
      ]
     },
     "execution_count": 28,
     "metadata": {},
     "output_type": "execute_result"
    }
   ],
   "source": [
    "merged_df.shape"
   ]
  },
  {
   "cell_type": "code",
   "execution_count": null,
   "id": "a4895a74-30cb-41a6-8365-c4fec0faa0f1",
   "metadata": {},
   "outputs": [],
   "source": []
  }
 ],
 "metadata": {
  "kernelspec": {
   "display_name": "Python 3 (ipykernel)",
   "language": "python",
   "name": "python3"
  },
  "language_info": {
   "codemirror_mode": {
    "name": "ipython",
    "version": 3
   },
   "file_extension": ".py",
   "mimetype": "text/x-python",
   "name": "python",
   "nbconvert_exporter": "python",
   "pygments_lexer": "ipython3",
   "version": "3.11.7"
  }
 },
 "nbformat": 4,
 "nbformat_minor": 5
}
