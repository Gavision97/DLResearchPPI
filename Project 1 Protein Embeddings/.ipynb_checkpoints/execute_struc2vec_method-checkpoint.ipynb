{
 "cells": [
  {
   "cell_type": "code",
   "execution_count": 1,
   "id": "a5f5966b-9d2d-42d2-ac6f-be73dc99197e",
   "metadata": {
    "tags": []
   },
   "outputs": [
    {
     "data": {
      "text/plain": [
       "'3.11.5 | packaged by Anaconda, Inc. | (main, Sep 11 2023, 13:26:23) [MSC v.1916 64 bit (AMD64)]'"
      ]
     },
     "execution_count": 1,
     "metadata": {},
     "output_type": "execute_result"
    }
   ],
   "source": [
    "import sys\n",
    "sys.version"
   ]
  },
  {
   "cell_type": "code",
   "execution_count": null,
   "id": "029f1be8-aca9-4303-a13c-96e123953d01",
   "metadata": {},
   "outputs": [],
   "source": []
  },
  {
   "cell_type": "code",
   "execution_count": null,
   "id": "c03b67cc-ff65-4401-8048-efc65c027726",
   "metadata": {},
   "outputs": [],
   "source": [
    "!bionev --input ./data/STRING_PPI_11_0_.edgelist \\\n",
    "       --output ./embeddings/STRING_PPI_11_0_s2vec_embeddings.txt \\\n",
    "       --dimensions 500 \\\n",
    "       --method struc2vec \\\n",
    "       --task link-prediction \\\n",
    "       --eval-result-file eval_result.txt"
   ]
  }
 ],
 "metadata": {
  "kernelspec": {
   "display_name": "Python 3 (ipykernel)",
   "language": "python",
   "name": "python3"
  },
  "language_info": {
   "codemirror_mode": {
    "name": "ipython",
    "version": 3
   },
   "file_extension": ".py",
   "mimetype": "text/x-python",
   "name": "python",
   "nbconvert_exporter": "python",
   "pygments_lexer": "ipython3",
   "version": "3.11.5"
  }
 },
 "nbformat": 4,
 "nbformat_minor": 5
}
