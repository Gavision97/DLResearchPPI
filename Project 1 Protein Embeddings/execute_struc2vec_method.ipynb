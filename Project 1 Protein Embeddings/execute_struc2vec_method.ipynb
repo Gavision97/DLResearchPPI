{
 "cells": [
  {
   "cell_type": "code",
   "execution_count": 1,
   "id": "029f1be8-aca9-4303-a13c-96e123953d01",
   "metadata": {},
   "outputs": [
    {
     "name": "stdout",
     "output_type": "stream",
     "text": [
      "C:\\Users\\gavvi\\Desktop\\Programming\\Python\\DeepLearningResearchStarship\\Project 1 Protein Embeddings\\BioNEV\n"
     ]
    }
   ],
   "source": [
    "cd BioNEV"
   ]
  },
  {
   "cell_type": "code",
   "execution_count": null,
   "id": "2a3367a7-fefe-42af-a02d-a01478e84524",
   "metadata": {},
   "outputs": [],
   "source": [
    "!pip install -e."
   ]
  },
  {
   "cell_type": "code",
   "execution_count": null,
   "id": "c03b67cc-ff65-4401-8048-efc65c027726",
   "metadata": {},
   "outputs": [],
   "source": [
    "!bionev --input ./data/STRING_PPI_11_0_.edgelist \\\n",
    "       --output ./embeddings/STRING_PPI_11_0_s2vec_embeddings.txt \\\n",
    "       --dimensions 500 \\\n",
    "       --method struc2vec \\\n",
    "       --task link-prediction \\\n",
    "       --eval-result-file eval_result.txt"
   ]
  }
 ],
 "metadata": {
  "kernelspec": {
   "display_name": "Python 3 (ipykernel)",
   "language": "python",
   "name": "python3"
  },
  "language_info": {
   "codemirror_mode": {
    "name": "ipython",
    "version": 3
   },
   "file_extension": ".py",
   "mimetype": "text/x-python",
   "name": "python",
   "nbconvert_exporter": "python",
   "pygments_lexer": "ipython3",
   "version": "3.11.5"
  }
 },
 "nbformat": 4,
 "nbformat_minor": 5
}
