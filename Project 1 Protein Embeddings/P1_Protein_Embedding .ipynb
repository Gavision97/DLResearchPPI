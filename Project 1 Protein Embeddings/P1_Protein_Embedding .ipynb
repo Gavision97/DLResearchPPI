{
 "cells": [
  {
   "cell_type": "markdown",
   "id": "46aaa802-44c8-46bc-98ac-678885229c4f",
   "metadata": {},
   "source": [
    "# Protein Embedding #\n",
    "\n",
    "In this project we will focus on `protein_embedding` by using one of the two methods:\n",
    "\n",
    "* `GAE` - Graph Auto Encoder\n",
    "\n",
    "*  `struc2vec`\n",
    "\n",
    "Important references for that project : \n",
    "\n",
    "* *BioNEV GitHub site* - that github site contains lot of inforamtion that required for that project(such as code, explanations and running examples):\n",
    "\n",
    "https://github.com/xiangyue9607/BioNEV/tree/master\n",
    "\n",
    "* *Graph embedding on biomedical network* - an article about graph embedding and methods (such as `GAE` and `struc2vec`) : \n",
    "\n",
    "https://academic.oup.com/bioinformatics/article/36/4/1241/5581350?login=false\n",
    "\n",
    "*  *STRING PPI* - site that contains the data we are going to work with in that project:\n",
    "\n",
    "https://version-11-0.string-db.org/cgi/input.pl?sessionId=8aVJal1k2wit&input_page_show_search=on"
   ]
  },
  {
   "cell_type": "markdown",
   "id": "5c6314c6-01eb-43af-bcb7-b360e6e7cd9c",
   "metadata": {},
   "source": [
    "## Import Libraries ##\n",
    "\n",
    "The first step in the project is to import some libraries that important for the next steps leading \n",
    "to the final that, graph embedding."
   ]
  },
  {
   "cell_type": "code",
   "execution_count": 2,
   "id": "9f0795a2-0fe6-48d8-8f02-efa5d135d731",
   "metadata": {
    "tags": []
   },
   "outputs": [],
   "source": [
    "import pandas as pd\n",
    "import networkx as nx\n",
    "import matplotlib.pyplot as plt\n",
    "from sklearn.model_selection import train_test_split\n",
    "import matplotlib\n",
    "import csv\n",
    "import random\n",
    "import warnings\n",
    "import requests\n",
    "import shutil\n",
    "warnings.filterwarnings('ignore')"
   ]
  },
  {
   "cell_type": "code",
   "execution_count": 3,
   "id": "be91fafc-495d-45b6-975c-5d3c35f8b94b",
   "metadata": {
    "tags": []
   },
   "outputs": [],
   "source": [
    "def PRINT_():\n",
    "    print('#' *80)"
   ]
  },
  {
   "cell_type": "markdown",
   "id": "c73ddce4-a07c-4bc6-b394-54c903cd2bbe",
   "metadata": {},
   "source": [
    "## Downloading the data set from STRING PPI ##\n",
    "\n",
    "Downloading the protein interaction data set versio `11.0` from *STRING PPI* as `.txt` file, and converting that into `.csv` "
   ]
  },
  {
   "cell_type": "code",
   "execution_count": 4,
   "id": "a3259d83-ce02-4627-b602-d1aec965551b",
   "metadata": {},
   "outputs": [],
   "source": [
    "# URL of the file to download\n",
    "url = \"https://stringdb-static.org/download/protein.links.v11.0/9606.protein.links.v11.0.txt.gz\"\n",
    "\n",
    "# Define the local file name\n",
    "local_file_name = \"9606.protein.links.v11.0.txt.gz\"\n",
    "\n",
    "# Send an HTTP GET request to the URL\n",
    "response = requests.get(url, stream=True)\n",
    "\n",
    "# Check if the request was successful\n",
    "if response.status_code == 200:\n",
    "    # Open the local file in binary write mode\n",
    "    with open(local_file_name, 'wb') as local_file:\n",
    "        # Iterate through the response content and write it to the local file\n",
    "        for chunk in response.iter_content(chunk_size=1024):\n",
    "            if chunk:\n",
    "                local_file.write(chunk)\n",
    "else:\n",
    "    print(\"Failed to download the file. HTTP status code:\", response.status_code)\n",
    "\n",
    "# Close the response\n",
    "response.close()"
   ]
  },
  {
   "cell_type": "markdown",
   "id": "f278ac46-92da-4f91-9147-bd4708eec1f0",
   "metadata": {},
   "source": [
    "After downloading the dataset from STRING PPI, the next step will be to extract the `.txt` file from it and convert\n",
    "that file into `.csv` file"
   ]
  },
  {
   "cell_type": "code",
   "execution_count": 9,
   "id": "e5f5a150-5989-4bf5-b24b-0e15fac91635",
   "metadata": {
    "tags": []
   },
   "outputs": [
    {
     "name": "stdout",
     "output_type": "stream",
     "text": [
      "File '9606.protein.links.v11.0.txt' has been extracted.\n"
     ]
    }
   ],
   "source": [
    "import gzip\n",
    "import shutil\n",
    "\n",
    "# Define the file names\n",
    "gzip_file_name = '9606.protein.links.v11.0.txt.gz'\n",
    "extracted_file_name = '9606.protein.links.v11.0.txt'\n",
    "\n",
    "# Extract the contents of the gzip file\n",
    "with gzip.open(gzip_file_name, 'rb') as f_in:\n",
    "    with open(extracted_file_name, 'wb') as f_out:\n",
    "        shutil.copyfileobj(f_in, f_out)\n",
    "\n",
    "print(f\"File '{extracted_file_name}' has been extracted.\")\n"
   ]
  },
  {
   "cell_type": "code",
   "execution_count": 10,
   "id": "1aec2d5f-85f8-4d92-9a49-4875eda08cb5",
   "metadata": {},
   "outputs": [
    {
     "data": {
      "text/html": [
       "<div>\n",
       "<style scoped>\n",
       "    .dataframe tbody tr th:only-of-type {\n",
       "        vertical-align: middle;\n",
       "    }\n",
       "\n",
       "    .dataframe tbody tr th {\n",
       "        vertical-align: top;\n",
       "    }\n",
       "\n",
       "    .dataframe thead th {\n",
       "        text-align: right;\n",
       "    }\n",
       "</style>\n",
       "<table border=\"1\" class=\"dataframe\">\n",
       "  <thead>\n",
       "    <tr style=\"text-align: right;\">\n",
       "      <th></th>\n",
       "      <th>protein1</th>\n",
       "      <th>protein2</th>\n",
       "      <th>combined_score</th>\n",
       "    </tr>\n",
       "  </thead>\n",
       "  <tbody>\n",
       "    <tr>\n",
       "      <th>0</th>\n",
       "      <td>9606.ENSP00000000233</td>\n",
       "      <td>9606.ENSP00000272298</td>\n",
       "      <td>490</td>\n",
       "    </tr>\n",
       "    <tr>\n",
       "      <th>1</th>\n",
       "      <td>9606.ENSP00000000233</td>\n",
       "      <td>9606.ENSP00000253401</td>\n",
       "      <td>198</td>\n",
       "    </tr>\n",
       "    <tr>\n",
       "      <th>2</th>\n",
       "      <td>9606.ENSP00000000233</td>\n",
       "      <td>9606.ENSP00000401445</td>\n",
       "      <td>159</td>\n",
       "    </tr>\n",
       "    <tr>\n",
       "      <th>3</th>\n",
       "      <td>9606.ENSP00000000233</td>\n",
       "      <td>9606.ENSP00000418915</td>\n",
       "      <td>606</td>\n",
       "    </tr>\n",
       "    <tr>\n",
       "      <th>4</th>\n",
       "      <td>9606.ENSP00000000233</td>\n",
       "      <td>9606.ENSP00000327801</td>\n",
       "      <td>167</td>\n",
       "    </tr>\n",
       "    <tr>\n",
       "      <th>...</th>\n",
       "      <td>...</td>\n",
       "      <td>...</td>\n",
       "      <td>...</td>\n",
       "    </tr>\n",
       "    <tr>\n",
       "      <th>11759449</th>\n",
       "      <td>9606.ENSP00000485678</td>\n",
       "      <td>9606.ENSP00000310488</td>\n",
       "      <td>167</td>\n",
       "    </tr>\n",
       "    <tr>\n",
       "      <th>11759450</th>\n",
       "      <td>9606.ENSP00000485678</td>\n",
       "      <td>9606.ENSP00000342448</td>\n",
       "      <td>175</td>\n",
       "    </tr>\n",
       "    <tr>\n",
       "      <th>11759451</th>\n",
       "      <td>9606.ENSP00000485678</td>\n",
       "      <td>9606.ENSP00000350222</td>\n",
       "      <td>195</td>\n",
       "    </tr>\n",
       "    <tr>\n",
       "      <th>11759452</th>\n",
       "      <td>9606.ENSP00000485678</td>\n",
       "      <td>9606.ENSP00000367590</td>\n",
       "      <td>900</td>\n",
       "    </tr>\n",
       "    <tr>\n",
       "      <th>11759453</th>\n",
       "      <td>9606.ENSP00000485678</td>\n",
       "      <td>9606.ENSP00000349930</td>\n",
       "      <td>213</td>\n",
       "    </tr>\n",
       "  </tbody>\n",
       "</table>\n",
       "<p>11759454 rows × 3 columns</p>\n",
       "</div>"
      ],
      "text/plain": [
       "                      protein1              protein2  combined_score\n",
       "0         9606.ENSP00000000233  9606.ENSP00000272298             490\n",
       "1         9606.ENSP00000000233  9606.ENSP00000253401             198\n",
       "2         9606.ENSP00000000233  9606.ENSP00000401445             159\n",
       "3         9606.ENSP00000000233  9606.ENSP00000418915             606\n",
       "4         9606.ENSP00000000233  9606.ENSP00000327801             167\n",
       "...                        ...                   ...             ...\n",
       "11759449  9606.ENSP00000485678  9606.ENSP00000310488             167\n",
       "11759450  9606.ENSP00000485678  9606.ENSP00000342448             175\n",
       "11759451  9606.ENSP00000485678  9606.ENSP00000350222             195\n",
       "11759452  9606.ENSP00000485678  9606.ENSP00000367590             900\n",
       "11759453  9606.ENSP00000485678  9606.ENSP00000349930             213\n",
       "\n",
       "[11759454 rows x 3 columns]"
      ]
     },
     "execution_count": 10,
     "metadata": {},
     "output_type": "execute_result"
    }
   ],
   "source": [
    "import pandas as pd\n",
    "\n",
    "# Load the data from the .txt file\n",
    "df = pd.read_csv('9606.protein.links.v11.0.txt', sep=' ')\n",
    "\n",
    "# Convert it to a .csv file\n",
    "df.to_csv('9606.protein.links.v11.0.csv', index=False)\n",
    "df"
   ]
  },
  {
   "cell_type": "code",
   "execution_count": 11,
   "id": "19ead671-109a-49c2-814a-814c020c98d4",
   "metadata": {},
   "outputs": [
    {
     "data": {
      "text/plain": [
       "11759454"
      ]
     },
     "execution_count": 11,
     "metadata": {},
     "output_type": "execute_result"
    }
   ],
   "source": [
    "len(df)"
   ]
  },
  {
   "cell_type": "markdown",
   "id": "538f24db-4743-4e7b-abec-96c6bfff01c2",
   "metadata": {},
   "source": [
    "The next step is createing a `.txt` file to see if there are duplicated pairs of `protein1` and `protein2` and `combined_score` in the dataset"
   ]
  },
  {
   "cell_type": "code",
   "execution_count": 6,
   "id": "d1f1c3bc-c8f7-4e1e-876f-2bcd09bdb1df",
   "metadata": {
    "tags": []
   },
   "outputs": [
    {
     "name": "stdout",
     "output_type": "stream",
     "text": [
      "################################################################################\n",
      "Conversion complete. The text file has been created.\n",
      "################################################################################\n"
     ]
    }
   ],
   "source": [
    "output_file = 'proteins_check.txt'\n",
    "input_file = '9606.protein.links.v11.0.csv'\n",
    "# Open the input CSV file and the output text file\n",
    "with open(input_file, 'r') as csv_file, open(output_file, 'w') as txt_file:\n",
    "    csv_reader = csv.DictReader(csv_file)\n",
    "    \n",
    "    # Write the header to the output text file\n",
    "    txt_file.write(f\"'protein1' 'protein2' 'combined_score\\n\")\n",
    "    \n",
    "    # Iterate through the rows in the CSV and write them to the text file\n",
    "    for row in csv_reader:\n",
    "        txt_file.write(f\"{row['protein1']} {row['protein2']} {row['combined_score']}\\n\")\n",
    "\n",
    "PRINT_()\n",
    "print(\"Conversion complete. The text file has been created.\")\n",
    "PRINT_()"
   ]
  },
  {
   "cell_type": "markdown",
   "id": "6280110e-3d9d-4ec5-a8e3-118804cd4a63",
   "metadata": {},
   "source": [
    "## Data Cleaning ##\n",
    "\n",
    "The next steps will be data cleaning steps, that will make sure our data is ready for the next\n",
    "steps, and finally for the graph embedding method."
   ]
  },
  {
   "cell_type": "markdown",
   "id": "f8908878-dd5a-4144-9c14-d957c2c5a649",
   "metadata": {},
   "source": [
    "### Normalize the values of 'combined_score' to be in the range of 0-1 ###"
   ]
  },
  {
   "cell_type": "code",
   "execution_count": 7,
   "id": "b19d04b1-b4bf-42d2-adb7-bb9a75abc29c",
   "metadata": {},
   "outputs": [
    {
     "name": "stdout",
     "output_type": "stream",
     "text": [
      "################################################################################\n",
      "The maximum value of the column 'combined_score' is -> 999, or 99.9%\n",
      "The minimum value of the column 'combined_score is -> 150 or 15.0%\n",
      "################################################################################\n"
     ]
    }
   ],
   "source": [
    "# View the min& max values of the column 'combined_score':\n",
    "\n",
    "max_value = df['combined_score'].max()\n",
    "min_value = df['combined_score'].min()\n",
    "\n",
    "PRINT_()\n",
    "print(f\"The maximum value of the column 'combined_score' is -> {max_value}, or {max_value/10}%\")\n",
    "print(f\"The minimum value of the column 'combined_score is -> {min_value} or {min_value/10}%\")\n",
    "PRINT_()"
   ]
  },
  {
   "cell_type": "code",
   "execution_count": 8,
   "id": "55e274e5-0964-49b9-892f-68786450844a",
   "metadata": {},
   "outputs": [
    {
     "name": "stdout",
     "output_type": "stream",
     "text": [
      "11759454\n"
     ]
    }
   ],
   "source": [
    "# Normalize the 'combined_score' column to the range 0-1\n",
    "# Extract the 'combined_score' column\n",
    "combined_score = df['combined_score']\n",
    "\n",
    "df['combined_score'] = (combined_score - min_value) / (max_value - min_value)\n",
    "\n",
    "print(len(df))"
   ]
  },
  {
   "cell_type": "code",
   "execution_count": 9,
   "id": "df901672-8bd9-4cb3-83ff-ba1310258956",
   "metadata": {},
   "outputs": [
    {
     "data": {
      "text/html": [
       "<div>\n",
       "<style scoped>\n",
       "    .dataframe tbody tr th:only-of-type {\n",
       "        vertical-align: middle;\n",
       "    }\n",
       "\n",
       "    .dataframe tbody tr th {\n",
       "        vertical-align: top;\n",
       "    }\n",
       "\n",
       "    .dataframe thead th {\n",
       "        text-align: right;\n",
       "    }\n",
       "</style>\n",
       "<table border=\"1\" class=\"dataframe\">\n",
       "  <thead>\n",
       "    <tr style=\"text-align: right;\">\n",
       "      <th></th>\n",
       "      <th>protein1</th>\n",
       "      <th>protein2</th>\n",
       "      <th>combined_score</th>\n",
       "    </tr>\n",
       "  </thead>\n",
       "  <tbody>\n",
       "    <tr>\n",
       "      <th>0</th>\n",
       "      <td>9606.ENSP00000000233</td>\n",
       "      <td>9606.ENSP00000272298</td>\n",
       "      <td>0.400471</td>\n",
       "    </tr>\n",
       "    <tr>\n",
       "      <th>1</th>\n",
       "      <td>9606.ENSP00000000233</td>\n",
       "      <td>9606.ENSP00000253401</td>\n",
       "      <td>0.056537</td>\n",
       "    </tr>\n",
       "    <tr>\n",
       "      <th>2</th>\n",
       "      <td>9606.ENSP00000000233</td>\n",
       "      <td>9606.ENSP00000401445</td>\n",
       "      <td>0.010601</td>\n",
       "    </tr>\n",
       "    <tr>\n",
       "      <th>3</th>\n",
       "      <td>9606.ENSP00000000233</td>\n",
       "      <td>9606.ENSP00000418915</td>\n",
       "      <td>0.537102</td>\n",
       "    </tr>\n",
       "    <tr>\n",
       "      <th>4</th>\n",
       "      <td>9606.ENSP00000000233</td>\n",
       "      <td>9606.ENSP00000327801</td>\n",
       "      <td>0.020024</td>\n",
       "    </tr>\n",
       "    <tr>\n",
       "      <th>...</th>\n",
       "      <td>...</td>\n",
       "      <td>...</td>\n",
       "      <td>...</td>\n",
       "    </tr>\n",
       "    <tr>\n",
       "      <th>11759449</th>\n",
       "      <td>9606.ENSP00000485678</td>\n",
       "      <td>9606.ENSP00000310488</td>\n",
       "      <td>0.020024</td>\n",
       "    </tr>\n",
       "    <tr>\n",
       "      <th>11759450</th>\n",
       "      <td>9606.ENSP00000485678</td>\n",
       "      <td>9606.ENSP00000342448</td>\n",
       "      <td>0.029446</td>\n",
       "    </tr>\n",
       "    <tr>\n",
       "      <th>11759451</th>\n",
       "      <td>9606.ENSP00000485678</td>\n",
       "      <td>9606.ENSP00000350222</td>\n",
       "      <td>0.053004</td>\n",
       "    </tr>\n",
       "    <tr>\n",
       "      <th>11759452</th>\n",
       "      <td>9606.ENSP00000485678</td>\n",
       "      <td>9606.ENSP00000367590</td>\n",
       "      <td>0.883392</td>\n",
       "    </tr>\n",
       "    <tr>\n",
       "      <th>11759453</th>\n",
       "      <td>9606.ENSP00000485678</td>\n",
       "      <td>9606.ENSP00000349930</td>\n",
       "      <td>0.074205</td>\n",
       "    </tr>\n",
       "  </tbody>\n",
       "</table>\n",
       "<p>11759454 rows × 3 columns</p>\n",
       "</div>"
      ],
      "text/plain": [
       "                      protein1              protein2  combined_score\n",
       "0         9606.ENSP00000000233  9606.ENSP00000272298        0.400471\n",
       "1         9606.ENSP00000000233  9606.ENSP00000253401        0.056537\n",
       "2         9606.ENSP00000000233  9606.ENSP00000401445        0.010601\n",
       "3         9606.ENSP00000000233  9606.ENSP00000418915        0.537102\n",
       "4         9606.ENSP00000000233  9606.ENSP00000327801        0.020024\n",
       "...                        ...                   ...             ...\n",
       "11759449  9606.ENSP00000485678  9606.ENSP00000310488        0.020024\n",
       "11759450  9606.ENSP00000485678  9606.ENSP00000342448        0.029446\n",
       "11759451  9606.ENSP00000485678  9606.ENSP00000350222        0.053004\n",
       "11759452  9606.ENSP00000485678  9606.ENSP00000367590        0.883392\n",
       "11759453  9606.ENSP00000485678  9606.ENSP00000349930        0.074205\n",
       "\n",
       "[11759454 rows x 3 columns]"
      ]
     },
     "execution_count": 9,
     "metadata": {},
     "output_type": "execute_result"
    }
   ],
   "source": [
    "df"
   ]
  },
  {
   "cell_type": "code",
   "execution_count": 10,
   "id": "3413bcf9-00b1-43c6-a602-399a64aab7c3",
   "metadata": {},
   "outputs": [
    {
     "name": "stdout",
     "output_type": "stream",
     "text": [
      "################################################################################\n",
      "The number of unique proteins in the data set of version 11.0 is -> 19354\n",
      "The number of unique proteins if the data set of version 10.5 is -> 15131\n",
      "There are 4223 new unique proteins in the 11.0 version of STRING PPI\n",
      "################################################################################\n"
     ]
    }
   ],
   "source": [
    "# Create a set of unique proteins by combining both columns\n",
    "unique_proteins = set(df['protein1']).union(df['protein2'])\n",
    "\n",
    "# Count the unique proteins\n",
    "unique_protein_count = len(unique_proteins)\n",
    "\n",
    "PRINT_() \n",
    "print(f\"The number of unique proteins in the data set of version 11.0 is -> {unique_protein_count}\")\n",
    "print(f\"The number of unique proteins if the data set of version 10.5 is -> 15131\")\n",
    "print(f\"There are {unique_protein_count - 15131} new unique proteins in the 11.0 version of STRING PPI\")\n",
    "PRINT_() "
   ]
  },
  {
   "cell_type": "code",
   "execution_count": 11,
   "id": "f4bef847-d256-4557-94e5-f84a77c22a17",
   "metadata": {},
   "outputs": [
    {
     "name": "stdout",
     "output_type": "stream",
     "text": [
      "################################################################################\n",
      "Nex maximum of the column 'combined_score' is -> 1.0\n",
      "New minimum of the column 'combied_score' is -> 0.0\n",
      "################################################################################\n"
     ]
    }
   ],
   "source": [
    "PRINT_() \n",
    "print(f\"Nex maximum of the column 'combined_score' is -> {df['combined_score'].max()}\")\n",
    "print(f\"New minimum of the column 'combied_score' is -> {df['combined_score'].min()}\")\n",
    "PRINT_()"
   ]
  },
  {
   "cell_type": "markdown",
   "id": "da12de50-5f5a-4f86-9108-cab50364a0a0",
   "metadata": {},
   "source": [
    "### Drop all the values that their 'combined_score' is under 0.7 ###\n",
    "\n",
    "Before we move on, we will want to work only with sets of proteins that their\n",
    "`combined_socore` in the range of `0.7-1.0`. \n",
    "Therefore, we will need to drop all the values that their `combined_score < 0.7`"
   ]
  },
  {
   "cell_type": "code",
   "execution_count": 12,
   "id": "b3ad9dfc-86db-473f-999b-97ab71f1f6e6",
   "metadata": {},
   "outputs": [],
   "source": [
    "number_of_rows_before_dropping = len(df)\n",
    "# Drop rows where 'combined_score' is less than 0.7\n",
    "df = df[df['combined_score'] >= 0.7]\n",
    "\n",
    "# Reset the index if you want to keep it continuous\n",
    "df.reset_index(drop=True, inplace=True)\n",
    "\n",
    "unique_proteins_after_dropping = len(set(df['protein1']).union(df['protein2']))"
   ]
  },
  {
   "cell_type": "code",
   "execution_count": 13,
   "id": "4d0993f1-4137-4900-a578-56e6e92236fe",
   "metadata": {},
   "outputs": [
    {
     "name": "stdout",
     "output_type": "stream",
     "text": [
      "################################################################################\n",
      "The number of rows before dropping the rows with `combined_values` < 0.7 -> [11759454]\n",
      "The number of rows after dropping the rows with 'combined_score` < 0.7 are -> [779364]\n",
      "Got rid of -> [10980090] values in total, that is 93.37% of the total data\n",
      "################################################################################\n",
      "The number of unique proteins before dropping is -> 19354\n",
      "The number of unique proteins after dropping is -> 16063\n",
      "Dropped 3291 unique proteins\n",
      "################################################################################\n"
     ]
    }
   ],
   "source": [
    "PRINT_() \n",
    "print(f\"The number of rows before dropping the rows with `combined_values` < 0.7 -> [{number_of_rows_before_dropping}]\")\n",
    "print(f\"The number of rows after dropping the rows with 'combined_score` < 0.7 are -> [{len(df)}]\")\n",
    "print(f\"Got rid of -> [{number_of_rows_before_dropping - len(df)}] values in total, that is {((((number_of_rows_before_dropping - len(df))/number_of_rows_before_dropping))*100):.2f}% of the total data\")\n",
    "PRINT_() \n",
    "print(f\"The number of unique proteins before dropping is -> {len(unique_proteins)}\")\n",
    "print(f\"The number of unique proteins after dropping is -> {unique_proteins_after_dropping}\")\n",
    "print(f\"Dropped {len(unique_proteins) - unique_proteins_after_dropping} unique proteins\")\n",
    "PRINT_() "
   ]
  },
  {
   "cell_type": "code",
   "execution_count": 14,
   "id": "ab9a1d53-a676-4e20-a320-c6441ffb4e78",
   "metadata": {},
   "outputs": [
    {
     "data": {
      "text/html": [
       "<div>\n",
       "<style scoped>\n",
       "    .dataframe tbody tr th:only-of-type {\n",
       "        vertical-align: middle;\n",
       "    }\n",
       "\n",
       "    .dataframe tbody tr th {\n",
       "        vertical-align: top;\n",
       "    }\n",
       "\n",
       "    .dataframe thead th {\n",
       "        text-align: right;\n",
       "    }\n",
       "</style>\n",
       "<table border=\"1\" class=\"dataframe\">\n",
       "  <thead>\n",
       "    <tr style=\"text-align: right;\">\n",
       "      <th></th>\n",
       "      <th>protein1</th>\n",
       "      <th>protein2</th>\n",
       "      <th>combined_score</th>\n",
       "    </tr>\n",
       "  </thead>\n",
       "  <tbody>\n",
       "    <tr>\n",
       "      <th>0</th>\n",
       "      <td>9606.ENSP00000000233</td>\n",
       "      <td>9606.ENSP00000432568</td>\n",
       "      <td>0.893993</td>\n",
       "    </tr>\n",
       "    <tr>\n",
       "      <th>1</th>\n",
       "      <td>9606.ENSP00000000233</td>\n",
       "      <td>9606.ENSP00000427900</td>\n",
       "      <td>0.895171</td>\n",
       "    </tr>\n",
       "    <tr>\n",
       "      <th>2</th>\n",
       "      <td>9606.ENSP00000000233</td>\n",
       "      <td>9606.ENSP00000350199</td>\n",
       "      <td>0.707892</td>\n",
       "    </tr>\n",
       "    <tr>\n",
       "      <th>3</th>\n",
       "      <td>9606.ENSP00000000233</td>\n",
       "      <td>9606.ENSP00000354878</td>\n",
       "      <td>0.895171</td>\n",
       "    </tr>\n",
       "    <tr>\n",
       "      <th>4</th>\n",
       "      <td>9606.ENSP00000000233</td>\n",
       "      <td>9606.ENSP00000405926</td>\n",
       "      <td>0.890459</td>\n",
       "    </tr>\n",
       "    <tr>\n",
       "      <th>...</th>\n",
       "      <td>...</td>\n",
       "      <td>...</td>\n",
       "      <td>...</td>\n",
       "    </tr>\n",
       "    <tr>\n",
       "      <th>779359</th>\n",
       "      <td>9606.ENSP00000485678</td>\n",
       "      <td>9606.ENSP00000438346</td>\n",
       "      <td>0.883392</td>\n",
       "    </tr>\n",
       "    <tr>\n",
       "      <th>779360</th>\n",
       "      <td>9606.ENSP00000485678</td>\n",
       "      <td>9606.ENSP00000303482</td>\n",
       "      <td>0.883392</td>\n",
       "    </tr>\n",
       "    <tr>\n",
       "      <th>779361</th>\n",
       "      <td>9606.ENSP00000485678</td>\n",
       "      <td>9606.ENSP00000481878</td>\n",
       "      <td>0.883392</td>\n",
       "    </tr>\n",
       "    <tr>\n",
       "      <th>779362</th>\n",
       "      <td>9606.ENSP00000485678</td>\n",
       "      <td>9606.ENSP00000296142</td>\n",
       "      <td>0.883392</td>\n",
       "    </tr>\n",
       "    <tr>\n",
       "      <th>779363</th>\n",
       "      <td>9606.ENSP00000485678</td>\n",
       "      <td>9606.ENSP00000367590</td>\n",
       "      <td>0.883392</td>\n",
       "    </tr>\n",
       "  </tbody>\n",
       "</table>\n",
       "<p>779364 rows × 3 columns</p>\n",
       "</div>"
      ],
      "text/plain": [
       "                    protein1              protein2  combined_score\n",
       "0       9606.ENSP00000000233  9606.ENSP00000432568        0.893993\n",
       "1       9606.ENSP00000000233  9606.ENSP00000427900        0.895171\n",
       "2       9606.ENSP00000000233  9606.ENSP00000350199        0.707892\n",
       "3       9606.ENSP00000000233  9606.ENSP00000354878        0.895171\n",
       "4       9606.ENSP00000000233  9606.ENSP00000405926        0.890459\n",
       "...                      ...                   ...             ...\n",
       "779359  9606.ENSP00000485678  9606.ENSP00000438346        0.883392\n",
       "779360  9606.ENSP00000485678  9606.ENSP00000303482        0.883392\n",
       "779361  9606.ENSP00000485678  9606.ENSP00000481878        0.883392\n",
       "779362  9606.ENSP00000485678  9606.ENSP00000296142        0.883392\n",
       "779363  9606.ENSP00000485678  9606.ENSP00000367590        0.883392\n",
       "\n",
       "[779364 rows x 3 columns]"
      ]
     },
     "execution_count": 14,
     "metadata": {},
     "output_type": "execute_result"
    }
   ],
   "source": [
    "df"
   ]
  },
  {
   "cell_type": "markdown",
   "id": "6d313ce9-08b7-4263-81ca-adc8021d810d",
   "metadata": {},
   "source": [
    "### Remove duplicated rows from the data ###\n",
    "\n",
    "The next step is remove duplicated rows in our data set.\n",
    "The idea is if `protein1` and `protein2` appear in our data which means that there are edge between them, and *also* there is a row with the same values of `protein1` and `protein2` but in different order, remove that duplicated row to reduce data."
   ]
  },
  {
   "cell_type": "code",
   "execution_count": 15,
   "id": "670a2bc0-f804-4525-bf01-f30b7e299b3f",
   "metadata": {},
   "outputs": [
    {
     "name": "stdout",
     "output_type": "stream",
     "text": [
      "################################################################################\n",
      "Number of rows before removing duplicated values -> 779364\n",
      "Number of rows after removing duplicated values -> 389682\n",
      "Total number of duplicated values -> 389682\n",
      "################################################################################\n",
      "The number of unique proteins after dropping is -> 16063\n",
      "################################################################################\n"
     ]
    }
   ],
   "source": [
    "num_of_rows_before_drop = len(df)\n",
    "\n",
    "# Create a new DataFrame with sorted tuples of 'protein1' and 'protein2'\n",
    "df['sorted_nodes'] = df.apply(lambda row: tuple(sorted([row['protein1'], row['protein2']])), axis=1)\n",
    "\n",
    "# Use .loc to drop duplicates while preserving the first occurrence\n",
    "df = df.loc[df.duplicated(subset=['sorted_nodes'], keep='first')]\n",
    "\n",
    "# Drop the 'sorted_nodes' column if you no longer need it\n",
    "df = df.drop(columns='sorted_nodes')\n",
    "\n",
    "# Reset the index to maintain the order\n",
    "df.reset_index(drop=True, inplace=True)\n",
    "\n",
    "# Save the cleaned DataFrame back to a CSV file\n",
    "#df.to_csv('cleaned_file.csv', index=False)\n",
    "\n",
    "num_of_rows_after_drop = len(df)\n",
    "unique_proteins_after_dropping = len(set(df['protein1']).union(df['protein2']))\n",
    "\n",
    "PRINT_() \n",
    "print(f\"Number of rows before removing duplicated values -> {num_of_rows_before_drop}\")\n",
    "print(f\"Number of rows after removing duplicated values -> {num_of_rows_after_drop}\")\n",
    "print(f\"Total number of duplicated values -> {num_of_rows_before_drop - num_of_rows_after_drop}\")\n",
    "PRINT_() \n",
    "print(f\"The number of unique proteins after dropping is -> {unique_proteins_after_dropping}\")\n",
    "PRINT_() "
   ]
  },
  {
   "cell_type": "markdown",
   "id": "7ef20cd0-c48c-4963-b3f1-21392498f4e9",
   "metadata": {},
   "source": [
    "## Building a graph with NetworkX ##\n",
    "\n",
    "The next step is beuild a graph data structure s.t. edge exsist between `protein1` and `protein2` that in the same row\n",
    "in `df` with `combined_score` as attribute on the edge between them.\n",
    "\n",
    "For that, we need to install `networkx` library."
   ]
  },
  {
   "cell_type": "code",
   "execution_count": 16,
   "id": "173f4b48-51a1-44c4-81db-fadb90723052",
   "metadata": {
    "tags": []
   },
   "outputs": [],
   "source": [
    "G_ = nx.Graph()\n",
    "\n",
    "# Iterate through the DataFrame and add edges with 'combined_score' as edge attribute\n",
    "for index, row in df.iterrows():\n",
    "    protein1 = row['protein1']\n",
    "    protein2 = row['protein2']\n",
    "    combined_score = row['combined_score']\n",
    "    G_.add_edge(protein1, protein2, combined_score=combined_score)"
   ]
  },
  {
   "cell_type": "code",
   "execution_count": 17,
   "id": "161ff5f0-4bbc-4f4e-9b18-e00c08cf1adc",
   "metadata": {
    "tags": []
   },
   "outputs": [
    {
     "name": "stdout",
     "output_type": "stream",
     "text": [
      "################################################################################\n",
      "Number of nodes in G_ -> 16063\n",
      "Number of edges in G_ -> 389682\n",
      "################################################################################\n"
     ]
    }
   ],
   "source": [
    "PRINT_()\n",
    "print(f\"Number of nodes in G_ -> {G_.number_of_nodes()}\")\n",
    "print(f\"Number of edges in G_ -> {G_.number_of_edges()}\")\n",
    "PRINT_()"
   ]
  },
  {
   "cell_type": "markdown",
   "id": "d9fe9c4a-9375-4b8a-b359-7c43609ac8e7",
   "metadata": {},
   "source": [
    "*Visualize subsampled graph of the original graph in order in reduce run time.*"
   ]
  },
  {
   "cell_type": "code",
   "execution_count": 18,
   "id": "8f433824-7c61-4bdb-8d33-62f7b7c66d38",
   "metadata": {},
   "outputs": [],
   "source": [
    "# Assuming you have your original graph 'G'\n",
    "nodes = list(G_.nodes())\n",
    "subsampled_nodes = random.sample(nodes, int(len(G_) * 0.05)) \n",
    "subsampled_graph = G_.subgraph(subsampled_nodes)"
   ]
  },
  {
   "cell_type": "code",
   "execution_count": 19,
   "id": "46246dbd-5d35-41b2-93f8-dacddec4af4f",
   "metadata": {},
   "outputs": [
    {
     "data": {
      "image/png": "[encoded data removed]",
      "text/plain": [
       "<Figure size 640x480 with 1 Axes>"
      ]
     },
     "metadata": {},
     "output_type": "display_data"
    }
   ],
   "source": [
    "import matplotlib.pyplot as plt\n",
    "\n",
    "# Assuming you have your subsampled graph 'subsampled_graph'\n",
    "layout = nx.spring_layout(subsampled_graph)\n",
    "\n",
    "# Draw the nodes\n",
    "nx.draw_networkx_nodes(subsampled_graph, layout, node_size=5)\n",
    "\n",
    "# Draw the edges (if needed)\n",
    "nx.draw_networkx_edges(subsampled_graph, layout)\n",
    "\n",
    "# Show the graph\n",
    "plt.title(\"Subsampled graph of G=(P,E)\") # 'P' stands for proteins, 'E' stand for edges\n",
    "plt.axis('off')\n",
    "plt.show()"
   ]
  },
  {
   "cell_type": "markdown",
   "id": "76734949-466d-456d-810f-2d1202fe4f46",
   "metadata": {},
   "source": [
    "As we can see in the graph above, there are some nodes (i.e. proteins) which are not connected to any other node. \n",
    "One of the reasons for that can be our divided data in graph G, that graph does not contain all of the edges in\n",
    "our data set. Therefore, there can be some edges that does not exist in graph G.\n",
    "Another reason can be the cause of our `subsampled` graph of G that we generated for faster graph plotting time."
   ]
  },
  {
   "cell_type": "markdown",
   "id": "597a0482-6251-417a-a182-283e5e16586e",
   "metadata": {
    "tags": []
   },
   "source": [
    "## Creating text file that mapps index to unique protein ##\n",
    "\n",
    "Before moving forward, we need to create `.txt` file that mapps unique `index`\n",
    "for each unique `protein`. \n",
    "The reason behind that step -> prepare for creating `.edgelist` file for the graph embedding input."
   ]
  },
  {
   "cell_type": "code",
   "execution_count": 20,
   "id": "0aeebe14-a0e6-472b-a97b-42ffe9aa1b96",
   "metadata": {
    "tags": []
   },
   "outputs": [],
   "source": [
    "# Helper function to make .txt that contains of 'index protein_id' rows\n",
    "def write_graph_to_txt(graph, filename):\n",
    "    with open(filename, 'w') as file:\n",
    "        for index, node in enumerate(graph.nodes):\n",
    "            file.write(f\"{index} {node}\\n\")"
   ]
  },
  {
   "cell_type": "code",
   "execution_count": 21,
   "id": "53a150f6-138a-4470-b6bf-a3d8babd9fa7",
   "metadata": {
    "tags": []
   },
   "outputs": [],
   "source": [
    "output_file_ = \"indx_to_protein.txt\"\n",
    "\n",
    "write_graph_to_txt(G_, output_file_)"
   ]
  },
  {
   "cell_type": "markdown",
   "id": "e7d2045b-e9ec-4439-9d4a-6304100e5ef8",
   "metadata": {},
   "source": [
    "## Write the graph G=(P,E) as `edgelist` ##\n",
    "\n",
    "The next step is to convert (i.e. write) the graph `G=(P,E)` to\n",
    "name `edgelist`, that is simply going to convert the graph into `.txt`\n",
    "file with the next format:\n",
    "\n",
    "`protein1` `protein2` \n",
    "\n",
    "`protein3` `protein4`\n",
    "\n",
    "`protein5` `protein6`\n",
    "        .\n",
    "        .\n",
    "        .\n",
    "\n",
    "*Note* - we dont want to include the `combined_score` data in our `proteint_edgelist.txt`. Therefore, turn `data=Flase`"
   ]
  },
  {
   "cell_type": "code",
   "execution_count": 22,
   "id": "9406fa94-d745-4a1f-b929-4156cfd7dc20",
   "metadata": {},
   "outputs": [],
   "source": [
    "p_edgelist_ = nx.write_edgelist(G_, \"STRING_PPI_11_0.edgelist\", data=False)"
   ]
  },
  {
   "cell_type": "code",
   "execution_count": 23,
   "id": "cecb42e0-aabe-4572-9f0d-83e6f6ff60c7",
   "metadata": {
    "tags": []
   },
   "outputs": [],
   "source": [
    "# Load the node index mapping from \"node_list.txt\"\n",
    "index_to_protein = {}\n",
    "with open(\"indx_to_protein.txt\", 'r') as node_list_file:\n",
    "    for line in node_list_file:\n",
    "        parts = line.strip().split(' ')\n",
    "        if len(parts) == 2:\n",
    "            index, protein = parts\n",
    "            index_to_protein[protein] = index\n",
    "\n",
    "# Create a new file to write the updated edge list for the data:\n",
    "with open(\"STRING_PPI_11_0_.edgelist\", 'w') as updated_file:\n",
    "    with open(\"STRING_PPI_11_0.edgelist\", 'r') as proteins_file:\n",
    "        for line in proteins_file:\n",
    "            source_protein, target_protein = line.strip().split(' ')\n",
    "            source_index = index_to_protein.get(source_protein)\n",
    "            target_index = index_to_protein.get(target_protein)\n",
    "            if source_index is not None and target_index is not None:\n",
    "                updated_file.write(f\"{source_index} {target_index}\\n\")"
   ]
  },
  {
   "cell_type": "markdown",
   "id": "e4a8b3fc-1f5a-44d2-9b7e-995496177ba3",
   "metadata": {},
   "source": [
    "## Graph Embedding ##\n",
    "\n",
    "The next steps, will include downloading BioNEV repository from GitHub and making graph embeddings using\n",
    "our proteins edgelist data structure we created above."
   ]
  },
  {
   "cell_type": "markdown",
   "id": "8d7e0d36-ff69-4401-a2c5-227288bfe6e6",
   "metadata": {},
   "source": [
    "## Downloading BioNEV repository ##\n",
    "\n",
    "The BioNEV repository is taken from GitHun linked:\n",
    "\n",
    "https://github.com/xiangyue9607/BioNEV/tree/master"
   ]
  },
  {
   "cell_type": "code",
   "execution_count": 24,
   "id": "c34fb278-ae96-4d5e-a003-1ef9b2967474",
   "metadata": {
    "tags": []
   },
   "outputs": [
    {
     "name": "stderr",
     "output_type": "stream",
     "text": [
      "fatal: destination path 'BioNEV' already exists and is not an empty directory.\n"
     ]
    }
   ],
   "source": [
    "!git clone https://github.com/xiangyue9607/BioNEV.git"
   ]
  },
  {
   "cell_type": "markdown",
   "id": "22389224-6369-4fa0-9c64-ac0198bfd934",
   "metadata": {},
   "source": [
    "Next, move the STRING PPI edgelist to the `data` dir that located in `BioNEV` repository in order\n",
    "to execute the graph embedding later on."
   ]
  },
  {
   "cell_type": "code",
   "execution_count": 25,
   "id": "26161dfa-a93e-45e8-aa09-e9087bf3cb6a",
   "metadata": {
    "tags": []
   },
   "outputs": [
    {
     "data": {
      "text/plain": [
       "'C:/Users/gavvi/Desktop/Programming/Python/DeepLearning Research/BioNEV/data\\\\STRING_PPI_11_0_.edgelist'"
      ]
     },
     "execution_count": 25,
     "metadata": {},
     "output_type": "execute_result"
    }
   ],
   "source": [
    "import shutil\n",
    "\n",
    "source_file = \"STRING_PPI_11_0_.edgelist\"\n",
    "destination_directory = \"C:/Users/gavvi/Desktop/Programming/Python/DeepLearning Research/BioNEV/data\"\n",
    "\n",
    "shutil.copy(source_file, destination_directory)"
   ]
  },
  {
   "cell_type": "code",
   "execution_count": 26,
   "id": "3e77753f-e9e3-48b0-a6f3-0f927d36bf6b",
   "metadata": {},
   "outputs": [
    {
     "name": "stdout",
     "output_type": "stream",
     "text": [
      "C:\\Users\\gavvi\\Desktop\\Programming\\Python\\DeepLearning Research\\BioNEV\n"
     ]
    }
   ],
   "source": [
    "cd BioNEV"
   ]
  },
  {
   "cell_type": "markdown",
   "id": "206943f1-080b-4314-90ea-642c3547c591",
   "metadata": {},
   "source": [
    "The next step will be downloading the BioNEV repository and then downloading the `code` from it."
   ]
  },
  {
   "cell_type": "code",
   "execution_count": 27,
   "id": "cebdca46-4dee-4c25-8af7-5affe463de70",
   "metadata": {},
   "outputs": [
    {
     "name": "stdout",
     "output_type": "stream",
     "text": [
      "Obtaining file:///C:/Users/gavvi/Desktop/Programming/Python/DeepLearning%20Research/BioNEV\n",
      "  Preparing metadata (setup.py): started\n",
      "  Preparing metadata (setup.py): finished with status 'done'\n",
      "Requirement already satisfied: numpy in c:\\users\\gavvi\\anaconda3\\lib\\site-packages (from bionev==0.1.0.dev0) (1.24.3)\n",
      "Requirement already satisfied: networkx in c:\\users\\gavvi\\anaconda3\\lib\\site-packages (from bionev==0.1.0.dev0) (3.1)\n",
      "Requirement already satisfied: scipy in c:\\users\\gavvi\\anaconda3\\lib\\site-packages (from bionev==0.1.0.dev0) (1.11.1)\n",
      "Requirement already satisfied: tensorflow in c:\\users\\gavvi\\anaconda3\\lib\\site-packages (from bionev==0.1.0.dev0) (2.14.0)\n",
      "Requirement already satisfied: gensim in c:\\users\\gavvi\\anaconda3\\lib\\site-packages (from bionev==0.1.0.dev0) (4.3.0)\n",
      "Requirement already satisfied: scikit-learn in c:\\users\\gavvi\\anaconda3\\lib\\site-packages (from bionev==0.1.0.dev0) (1.3.0)\n",
      "Requirement already satisfied: tqdm in c:\\users\\gavvi\\anaconda3\\lib\\site-packages (from bionev==0.1.0.dev0) (4.65.0)\n",
      "Requirement already satisfied: fastdtw in c:\\users\\gavvi\\anaconda3\\lib\\site-packages (from bionev==0.1.0.dev0) (0.3.4)\n",
      "Requirement already satisfied: smart-open>=1.8.1 in c:\\users\\gavvi\\anaconda3\\lib\\site-packages (from gensim->bionev==0.1.0.dev0) (5.2.1)\n",
      "Requirement already satisfied: FuzzyTM>=0.4.0 in c:\\users\\gavvi\\anaconda3\\lib\\site-packages (from gensim->bionev==0.1.0.dev0) (2.0.5)\n",
      "Requirement already satisfied: joblib>=1.1.1 in c:\\users\\gavvi\\anaconda3\\lib\\site-packages (from scikit-learn->bionev==0.1.0.dev0) (1.2.0)\n",
      "Requirement already satisfied: threadpoolctl>=2.0.0 in c:\\users\\gavvi\\anaconda3\\lib\\site-packages (from scikit-learn->bionev==0.1.0.dev0) (2.2.0)\n",
      "Requirement already satisfied: tensorflow-intel==2.14.0 in c:\\users\\gavvi\\anaconda3\\lib\\site-packages (from tensorflow->bionev==0.1.0.dev0) (2.14.0)\n",
      "Requirement already satisfied: absl-py>=1.0.0 in c:\\users\\gavvi\\anaconda3\\lib\\site-packages (from tensorflow-intel==2.14.0->tensorflow->bionev==0.1.0.dev0) (2.0.0)\n",
      "Requirement already satisfied: astunparse>=1.6.0 in c:\\users\\gavvi\\anaconda3\\lib\\site-packages (from tensorflow-intel==2.14.0->tensorflow->bionev==0.1.0.dev0) (1.6.3)\n",
      "Requirement already satisfied: flatbuffers>=23.5.26 in c:\\users\\gavvi\\anaconda3\\lib\\site-packages (from tensorflow-intel==2.14.0->tensorflow->bionev==0.1.0.dev0) (23.5.26)\n",
      "Requirement already satisfied: gast!=0.5.0,!=0.5.1,!=0.5.2,>=0.2.1 in c:\\users\\gavvi\\anaconda3\\lib\\site-packages (from tensorflow-intel==2.14.0->tensorflow->bionev==0.1.0.dev0) (0.5.4)\n",
      "Requirement already satisfied: google-pasta>=0.1.1 in c:\\users\\gavvi\\anaconda3\\lib\\site-packages (from tensorflow-intel==2.14.0->tensorflow->bionev==0.1.0.dev0) (0.2.0)\n",
      "Requirement already satisfied: h5py>=2.9.0 in c:\\users\\gavvi\\anaconda3\\lib\\site-packages (from tensorflow-intel==2.14.0->tensorflow->bionev==0.1.0.dev0) (3.9.0)\n",
      "Requirement already satisfied: libclang>=13.0.0 in c:\\users\\gavvi\\anaconda3\\lib\\site-packages (from tensorflow-intel==2.14.0->tensorflow->bionev==0.1.0.dev0) (16.0.6)\n",
      "Requirement already satisfied: ml-dtypes==0.2.0 in c:\\users\\gavvi\\anaconda3\\lib\\site-packages (from tensorflow-intel==2.14.0->tensorflow->bionev==0.1.0.dev0) (0.2.0)\n",
      "Requirement already satisfied: opt-einsum>=2.3.2 in c:\\users\\gavvi\\anaconda3\\lib\\site-packages (from tensorflow-intel==2.14.0->tensorflow->bionev==0.1.0.dev0) (3.3.0)\n",
      "Requirement already satisfied: packaging in c:\\users\\gavvi\\anaconda3\\lib\\site-packages (from tensorflow-intel==2.14.0->tensorflow->bionev==0.1.0.dev0) (23.1)\n",
      "Requirement already satisfied: protobuf!=4.21.0,!=4.21.1,!=4.21.2,!=4.21.3,!=4.21.4,!=4.21.5,<5.0.0dev,>=3.20.3 in c:\\users\\gavvi\\anaconda3\\lib\\site-packages (from tensorflow-intel==2.14.0->tensorflow->bionev==0.1.0.dev0) (4.24.4)\n",
      "Requirement already satisfied: setuptools in c:\\users\\gavvi\\anaconda3\\lib\\site-packages (from tensorflow-intel==2.14.0->tensorflow->bionev==0.1.0.dev0) (68.0.0)\n",
      "Requirement already satisfied: six>=1.12.0 in c:\\users\\gavvi\\anaconda3\\lib\\site-packages (from tensorflow-intel==2.14.0->tensorflow->bionev==0.1.0.dev0) (1.16.0)\n",
      "Requirement already satisfied: termcolor>=1.1.0 in c:\\users\\gavvi\\anaconda3\\lib\\site-packages (from tensorflow-intel==2.14.0->tensorflow->bionev==0.1.0.dev0) (2.3.0)\n",
      "Requirement already satisfied: typing-extensions>=3.6.6 in c:\\users\\gavvi\\anaconda3\\lib\\site-packages (from tensorflow-intel==2.14.0->tensorflow->bionev==0.1.0.dev0) (4.7.1)\n",
      "Requirement already satisfied: wrapt<1.15,>=1.11.0 in c:\\users\\gavvi\\anaconda3\\lib\\site-packages (from tensorflow-intel==2.14.0->tensorflow->bionev==0.1.0.dev0) (1.14.1)\n",
      "Requirement already satisfied: tensorflow-io-gcs-filesystem>=0.23.1 in c:\\users\\gavvi\\anaconda3\\lib\\site-packages (from tensorflow-intel==2.14.0->tensorflow->bionev==0.1.0.dev0) (0.31.0)\n",
      "Requirement already satisfied: grpcio<2.0,>=1.24.3 in c:\\users\\gavvi\\anaconda3\\lib\\site-packages (from tensorflow-intel==2.14.0->tensorflow->bionev==0.1.0.dev0) (1.59.0)\n",
      "Requirement already satisfied: tensorboard<2.15,>=2.14 in c:\\users\\gavvi\\anaconda3\\lib\\site-packages (from tensorflow-intel==2.14.0->tensorflow->bionev==0.1.0.dev0) (2.14.1)\n",
      "Requirement already satisfied: tensorflow-estimator<2.15,>=2.14.0 in c:\\users\\gavvi\\anaconda3\\lib\\site-packages (from tensorflow-intel==2.14.0->tensorflow->bionev==0.1.0.dev0) (2.14.0)\n",
      "Requirement already satisfied: keras<2.15,>=2.14.0 in c:\\users\\gavvi\\anaconda3\\lib\\site-packages (from tensorflow-intel==2.14.0->tensorflow->bionev==0.1.0.dev0) (2.14.0)\n",
      "Requirement already satisfied: colorama in c:\\users\\gavvi\\anaconda3\\lib\\site-packages (from tqdm->bionev==0.1.0.dev0) (0.4.6)\n",
      "Requirement already satisfied: pandas in c:\\users\\gavvi\\anaconda3\\lib\\site-packages (from FuzzyTM>=0.4.0->gensim->bionev==0.1.0.dev0) (2.0.3)\n",
      "Requirement already satisfied: pyfume in c:\\users\\gavvi\\anaconda3\\lib\\site-packages (from FuzzyTM>=0.4.0->gensim->bionev==0.1.0.dev0) (0.2.25)\n",
      "Requirement already satisfied: wheel<1.0,>=0.23.0 in c:\\users\\gavvi\\anaconda3\\lib\\site-packages (from astunparse>=1.6.0->tensorflow-intel==2.14.0->tensorflow->bionev==0.1.0.dev0) (0.38.4)\n",
      "Requirement already satisfied: google-auth<3,>=1.6.3 in c:\\users\\gavvi\\anaconda3\\lib\\site-packages (from tensorboard<2.15,>=2.14->tensorflow-intel==2.14.0->tensorflow->bionev==0.1.0.dev0) (2.23.3)\n",
      "Requirement already satisfied: google-auth-oauthlib<1.1,>=0.5 in c:\\users\\gavvi\\anaconda3\\lib\\site-packages (from tensorboard<2.15,>=2.14->tensorflow-intel==2.14.0->tensorflow->bionev==0.1.0.dev0) (1.0.0)\n",
      "Requirement already satisfied: markdown>=2.6.8 in c:\\users\\gavvi\\anaconda3\\lib\\site-packages (from tensorboard<2.15,>=2.14->tensorflow-intel==2.14.0->tensorflow->bionev==0.1.0.dev0) (3.4.1)\n",
      "Requirement already satisfied: requests<3,>=2.21.0 in c:\\users\\gavvi\\anaconda3\\lib\\site-packages (from tensorboard<2.15,>=2.14->tensorflow-intel==2.14.0->tensorflow->bionev==0.1.0.dev0) (2.31.0)\n",
      "Requirement already satisfied: tensorboard-data-server<0.8.0,>=0.7.0 in c:\\users\\gavvi\\anaconda3\\lib\\site-packages (from tensorboard<2.15,>=2.14->tensorflow-intel==2.14.0->tensorflow->bionev==0.1.0.dev0) (0.7.2)\n",
      "Requirement already satisfied: werkzeug>=1.0.1 in c:\\users\\gavvi\\anaconda3\\lib\\site-packages (from tensorboard<2.15,>=2.14->tensorflow-intel==2.14.0->tensorflow->bionev==0.1.0.dev0) (2.2.3)\n",
      "Requirement already satisfied: python-dateutil>=2.8.2 in c:\\users\\gavvi\\anaconda3\\lib\\site-packages (from pandas->FuzzyTM>=0.4.0->gensim->bionev==0.1.0.dev0) (2.8.2)\n",
      "Requirement already satisfied: pytz>=2020.1 in c:\\users\\gavvi\\anaconda3\\lib\\site-packages (from pandas->FuzzyTM>=0.4.0->gensim->bionev==0.1.0.dev0) (2023.3.post1)\n",
      "Requirement already satisfied: tzdata>=2022.1 in c:\\users\\gavvi\\anaconda3\\lib\\site-packages (from pandas->FuzzyTM>=0.4.0->gensim->bionev==0.1.0.dev0) (2023.3)\n",
      "Requirement already satisfied: simpful in c:\\users\\gavvi\\anaconda3\\lib\\site-packages (from pyfume->FuzzyTM>=0.4.0->gensim->bionev==0.1.0.dev0) (2.11.0)\n",
      "Requirement already satisfied: fst-pso in c:\\users\\gavvi\\anaconda3\\lib\\site-packages (from pyfume->FuzzyTM>=0.4.0->gensim->bionev==0.1.0.dev0) (1.8.1)\n",
      "Requirement already satisfied: cachetools<6.0,>=2.0.0 in c:\\users\\gavvi\\anaconda3\\lib\\site-packages (from google-auth<3,>=1.6.3->tensorboard<2.15,>=2.14->tensorflow-intel==2.14.0->tensorflow->bionev==0.1.0.dev0) (5.3.2)\n",
      "Requirement already satisfied: pyasn1-modules>=0.2.1 in c:\\users\\gavvi\\anaconda3\\lib\\site-packages (from google-auth<3,>=1.6.3->tensorboard<2.15,>=2.14->tensorflow-intel==2.14.0->tensorflow->bionev==0.1.0.dev0) (0.2.8)\n",
      "Requirement already satisfied: rsa<5,>=3.1.4 in c:\\users\\gavvi\\anaconda3\\lib\\site-packages (from google-auth<3,>=1.6.3->tensorboard<2.15,>=2.14->tensorflow-intel==2.14.0->tensorflow->bionev==0.1.0.dev0) (4.9)\n",
      "Requirement already satisfied: requests-oauthlib>=0.7.0 in c:\\users\\gavvi\\anaconda3\\lib\\site-packages (from google-auth-oauthlib<1.1,>=0.5->tensorboard<2.15,>=2.14->tensorflow-intel==2.14.0->tensorflow->bionev==0.1.0.dev0) (1.3.1)\n",
      "Requirement already satisfied: charset-normalizer<4,>=2 in c:\\users\\gavvi\\anaconda3\\lib\\site-packages (from requests<3,>=2.21.0->tensorboard<2.15,>=2.14->tensorflow-intel==2.14.0->tensorflow->bionev==0.1.0.dev0) (2.0.4)\n",
      "Requirement already satisfied: idna<4,>=2.5 in c:\\users\\gavvi\\anaconda3\\lib\\site-packages (from requests<3,>=2.21.0->tensorboard<2.15,>=2.14->tensorflow-intel==2.14.0->tensorflow->bionev==0.1.0.dev0) (3.4)\n",
      "Requirement already satisfied: urllib3<3,>=1.21.1 in c:\\users\\gavvi\\anaconda3\\lib\\site-packages (from requests<3,>=2.21.0->tensorboard<2.15,>=2.14->tensorflow-intel==2.14.0->tensorflow->bionev==0.1.0.dev0) (1.26.16)\n",
      "Requirement already satisfied: certifi>=2017.4.17 in c:\\users\\gavvi\\anaconda3\\lib\\site-packages (from requests<3,>=2.21.0->tensorboard<2.15,>=2.14->tensorflow-intel==2.14.0->tensorflow->bionev==0.1.0.dev0) (2023.7.22)\n",
      "Requirement already satisfied: MarkupSafe>=2.1.1 in c:\\users\\gavvi\\anaconda3\\lib\\site-packages (from werkzeug>=1.0.1->tensorboard<2.15,>=2.14->tensorflow-intel==2.14.0->tensorflow->bionev==0.1.0.dev0) (2.1.1)\n",
      "Requirement already satisfied: miniful in c:\\users\\gavvi\\anaconda3\\lib\\site-packages (from fst-pso->pyfume->FuzzyTM>=0.4.0->gensim->bionev==0.1.0.dev0) (0.0.6)\n",
      "Requirement already satisfied: pyasn1<0.5.0,>=0.4.6 in c:\\users\\gavvi\\anaconda3\\lib\\site-packages (from pyasn1-modules>=0.2.1->google-auth<3,>=1.6.3->tensorboard<2.15,>=2.14->tensorflow-intel==2.14.0->tensorflow->bionev==0.1.0.dev0) (0.4.8)\n",
      "Requirement already satisfied: oauthlib>=3.0.0 in c:\\users\\gavvi\\anaconda3\\lib\\site-packages (from requests-oauthlib>=0.7.0->google-auth-oauthlib<1.1,>=0.5->tensorboard<2.15,>=2.14->tensorflow-intel==2.14.0->tensorflow->bionev==0.1.0.dev0) (3.2.2)\n",
      "Installing collected packages: bionev\n",
      "  Attempting uninstall: bionev\n",
      "    Found existing installation: bionev 0.1.0.dev0\n",
      "    Uninstalling bionev-0.1.0.dev0:\n",
      "      Successfully uninstalled bionev-0.1.0.dev0\n",
      "  Running setup.py develop for bionev\n",
      "Successfully installed bionev-0.1.0.dev0\n",
      "Note: you may need to restart the kernel to use updated packages.\n"
     ]
    }
   ],
   "source": [
    "pip install -e."
   ]
  },
  {
   "cell_type": "markdown",
   "id": "5b33c926-6cc9-433b-a7ff-6d26ee638f7b",
   "metadata": {},
   "source": [
    "## Final step - Graph Embedding using GAE ##\n",
    "\n",
    "Finally, we can generate the embedding for our PPI data set."
   ]
  },
  {
   "cell_type": "code",
   "execution_count": 28,
   "id": "436b4f54-8166-41da-8d87-b5370281a223",
   "metadata": {},
   "outputs": [
    {
     "name": "stdout",
     "output_type": "stream",
     "text": [
      "######################################################################\n",
      "Embedding Method: GAE, Evaluation Task: link-prediction\n",
      "######################################################################\n",
      "Original Graph: nodes: 16063 edges: 389682\n",
      "Training Graph: nodes: 16063 edges: 312155\n",
      "Loading training graph for learning embedding...\n",
      "Graph Loaded...\n",
      "Epoch: 0001 train_loss= 0.70204 train_acc= 0.00251 time= 10.11277\n",
      "Epoch: 0101 train_loss= 0.45719 train_acc= 0.42561 time= 7.46074\n",
      "Epoch: 0201 train_loss= 0.41140 train_acc= 0.55163 time= 7.61360\n",
      "Epoch: 0301 train_loss= 0.39203 train_acc= 0.55422 time= 9.91761\n",
      "Epoch: 0401 train_loss= 0.38518 train_acc= 0.55972 time= 7.58276\n",
      "Epoch: 0501 train_loss= 0.38140 train_acc= 0.55640 time= 7.55426\n",
      "Epoch: 0601 train_loss= 0.37903 train_acc= 0.55745 time= 7.96345\n",
      "Epoch: 0701 train_loss= 0.37775 train_acc= 0.55773 time= 7.83173\n",
      "Optimization Finished!\n",
      "(16063, 500)\n",
      "Embedding Learning Time: 6503.92 s\n",
      "Nodes with embedding: 16063\n",
      "Begin evaluation...\n",
      "######### Link Prediction Performance #########\n",
      "AUC-ROC: 0.874, AUC-PR: 0.863, Accuracy: 0.800, F1: 0.801\n",
      "##################################################\n",
      "Prediction Task Time: 1888.33 s\n"
     ]
    },
    {
     "name": "stderr",
     "output_type": "stream",
     "text": [
      "WARNING:tensorflow:From C:\\Users\\gavvi\\anaconda3\\Lib\\site-packages\\tensorflow\\python\\util\\dispatch.py:1260: calling dropout (from tensorflow.python.ops.nn_ops) with keep_prob is deprecated and will be removed in a future version.\n",
      "Instructions for updating:\n",
      "Please use `rate` instead of `keep_prob`. Rate should be set to `rate = 1 - keep_prob`.\n",
      "WARNING:tensorflow:From C:\\Users\\gavvi\\anaconda3\\Lib\\site-packages\\tensorflow\\python\\util\\dispatch.py:1260: calling weighted_cross_entropy_with_logits (from tensorflow.python.ops.nn_impl) with targets is deprecated and will be removed in a future version.\n",
      "Instructions for updating:\n",
      "targets is deprecated, use labels instead\n",
      "2023-11-01 16:45:26.277158: I tensorflow/core/platform/cpu_feature_guard.cc:182] This TensorFlow binary is optimized to use available CPU instructions in performance-critical operations.\n",
      "To enable the following instructions: SSE SSE2 SSE3 SSE4.1 SSE4.2 AVX AVX2 AVX512F AVX512_VNNI FMA, in other operations, rebuild TensorFlow with the appropriate compiler flags.\n",
      "2023-11-01 16:45:26.292088: I tensorflow/compiler/mlir/mlir_graph_optimization_pass.cc:382] MLIR V1 optimization pass is not enabled\n",
      "2023-11-01 16:45:26.486551: W tensorflow/tsl/framework/cpu_allocator_impl.cc:83] Allocation of 1032079876 exceeds 10% of free system memory.\n",
      "2023-11-01 16:45:26.670178: W tensorflow/tsl/framework/cpu_allocator_impl.cc:83] Allocation of 1032079876 exceeds 10% of free system memory.\n",
      "2023-11-01 16:45:26.670202: W tensorflow/tsl/framework/cpu_allocator_impl.cc:83] Allocation of 1032079876 exceeds 10% of free system memory.\n",
      "2023-11-01 16:45:26.670254: W tensorflow/tsl/framework/cpu_allocator_impl.cc:83] Allocation of 1032079876 exceeds 10% of free system memory.\n",
      "2023-11-01 16:45:27.071435: W tensorflow/tsl/framework/cpu_allocator_impl.cc:83] Allocation of 1032079876 exceeds 10% of free system memory.\n",
      "c:\\users\\gavvi\\desktop\\programming\\python\\deeplearning research\\bionev\\src\\bionev\\utils.py:127: RuntimeWarning: invalid value encountered in divide\n",
      "  emb = emb / np.linalg.norm(emb)\n"
     ]
    }
   ],
   "source": [
    "!bionev --input ./data/STRING_PPI_11_0_.edgelist \\\n",
    "       --output ./embeddings/STRING_PPI_11_0_embeddings.txt \\\n",
    "       --dimensions 500 \\\n",
    "       --method GAE \\\n",
    "       --epochs 800 \\\n",
    "       --task link-prediction \\\n",
    "       --eval-result-file eval_result.txt"
   ]
  },
  {
   "cell_type": "markdown",
   "id": "50a23fec-f964-4754-9d8a-9a0af969c26d",
   "metadata": {},
   "source": [
    "## Retrieve proteins actual id back to the embedding .txt file ##\n",
    "\n",
    "The final step after we generated the embeddings for our proteins, is to get the proteins to thier\n",
    "actual format before we changed that to `int` format for our task.\n",
    "\n",
    "For example: for the protein with the id number `7539` will turn into -> `9606.ENSP00000350012`\n"
   ]
  },
  {
   "cell_type": "code",
   "execution_count": 4,
   "id": "24078d99-6505-47e1-8d94-c9623a0024c8",
   "metadata": {
    "tags": []
   },
   "outputs": [
    {
     "name": "stdout",
     "output_type": "stream",
     "text": [
      "C:\\Users\\gavvi\\Desktop\\Programming\\Python\\DeepLearning Research\\BioNEV\\embeddings\n"
     ]
    }
   ],
   "source": [
    "cd embeddings"
   ]
  },
  {
   "cell_type": "code",
   "execution_count": 5,
   "id": "2c9a2bc6-cf2f-49d5-9c39-86cd7ec8fa03",
   "metadata": {
    "tags": []
   },
   "outputs": [
    {
     "data": {
      "text/plain": [
       "'C:/Users/gavvi/Desktop/Programming/Python/DeepLearning Research\\\\STRING_PPI_11_0_embeddings.txt'"
      ]
     },
     "execution_count": 5,
     "metadata": {},
     "output_type": "execute_result"
    }
   ],
   "source": [
    "import shutil\n",
    "\n",
    "source_file = \"STRING_PPI_11_0_embeddings.txt\"\n",
    "destination_directory = \"C:/Users/gavvi/Desktop/Programming/Python/DeepLearning Research\"\n",
    "\n",
    "shutil.copy(source_file, destination_directory)"
   ]
  },
  {
   "cell_type": "code",
   "execution_count": 6,
   "id": "db6ee484-50d3-4c7c-9b99-43d5f1f8bf85",
   "metadata": {
    "tags": []
   },
   "outputs": [
    {
     "name": "stdout",
     "output_type": "stream",
     "text": [
      "Current directory: C:\\Users\\gavvi\\Desktop\\Programming\\Python\\DeepLearning Research\n"
     ]
    }
   ],
   "source": [
    "import os\n",
    "\n",
    "os.chdir(destination_directory)\n",
    "current_directory = os.getcwd()\n",
    "print(\"Current directory:\", current_directory)"
   ]
  },
  {
   "cell_type": "code",
   "execution_count": 7,
   "id": "68834b45-f8cd-42ce-bcfa-4186bbd22142",
   "metadata": {
    "tags": []
   },
   "outputs": [],
   "source": [
    "def replace_mapped_ids(embeddings_file, node_list_file):\n",
    "    \"\"\"\n",
    "    The function takes the embedding file and return the proteins integer id to their original\n",
    "    id as originated from STRING PPI dataset\n",
    "    \"\"\"\n",
    "    \n",
    "    # Create a dictionary to map mapped IDs to real protein IDs\n",
    "    id_mapping = {}\n",
    "\n",
    "    with open(node_list_file, 'r') as node_list:\n",
    "        for line in node_list:\n",
    "            mapped_id, real_id = line.strip().split()\n",
    "            id_mapping[mapped_id] = real_id\n",
    "\n",
    "    # Read the embeddings file, replace mapped IDs with real IDs, and write to a new file\n",
    "    with open(embeddings_file, 'r') as embeddings:\n",
    "        lines = embeddings.readlines()\n",
    "\n",
    "    with open(embeddings_file, 'w') as embeddings:\n",
    "        for line in lines:\n",
    "            if not line.strip():  # Skip empty lines\n",
    "                continue\n",
    "            tokens = line.strip().split()\n",
    "            mapped_id = tokens[0]\n",
    "            if mapped_id in id_mapping:\n",
    "                real_id = id_mapping[mapped_id]\n",
    "                tokens[0] = real_id\n",
    "                new_line = ' '.join(tokens)\n",
    "                embeddings.write(new_line + '\\n')\n",
    "            else:\n",
    "                embeddings.write(line)"
   ]
  },
  {
   "cell_type": "code",
   "execution_count": 8,
   "id": "33351c79-4998-4784-bbce-c4c212a1d30b",
   "metadata": {
    "tags": []
   },
   "outputs": [],
   "source": [
    "# Usage example\n",
    "embeddings_file = \"STRING_PPI_11_0_embeddings.txt\"\n",
    "node_list_file = \"indx_to_protein.txt\"\n",
    "replace_mapped_ids(embeddings_file, node_list_file)"
   ]
  },
  {
   "cell_type": "markdown",
   "id": "f41ef412-89e6-45ca-a84a-0700d93d3ce7",
   "metadata": {},
   "source": [
    "The next step is to convert the `.txt` file into `.csv` file, so we can visualize our embedding `.txt` file in more\n",
    "informative way with the format:\n",
    "\n",
    "`protein1_id` _ `protein1_embedding_vector`\n",
    "\n",
    "`protein2_id` _ `protein2_embedding_vector`\n",
    "\n",
    "`protein3_id` _ `protein3_embedding_vector`\n",
    "\n",
    "...."
   ]
  },
  {
   "cell_type": "code",
   "execution_count": 9,
   "id": "40f18664-c890-48be-977b-27d0ed32e3b0",
   "metadata": {
    "tags": []
   },
   "outputs": [],
   "source": [
    "import csv\n",
    "\n",
    "def create_csv_from_embeddings(embeddings_file, csv_output_file):\n",
    "    \"\"\"\n",
    "    The function takes '.txt' file of proteins and their corresponding \n",
    "    embeddings vectors, and turns that into '.csv' file\n",
    "    \"\"\"\n",
    "    data = []\n",
    "    \n",
    "    # Read the modified embeddings file and extract the data\n",
    "    with open(embeddings_file, 'r') as embeddings:\n",
    "        for line in embeddings:\n",
    "            line = line.strip()\n",
    "            if line:\n",
    "                values = line.split()\n",
    "                data.append(values)\n",
    "\n",
    "    # Write the data to a CSV file\n",
    "    with open(csv_output_file, 'w', newline='') as csvfile:\n",
    "        csvwriter = csv.writer(csvfile)\n",
    "        \n",
    "        # Write the header (column names)\n",
    "        header = [\"Protein\"] + [f\"Embedding_{i}\" for i in range(1, len(data[0]))]\n",
    "        csvwriter.writerow(header)\n",
    "\n",
    "        # Write the data rows\n",
    "        for values in data:\n",
    "            protein_id, embeddings = values[0], values[1:]\n",
    "            csvwriter.writerow([protein_id] + embeddings)"
   ]
  },
  {
   "cell_type": "code",
   "execution_count": 10,
   "id": "190023bc-ad79-4e93-b2ab-e8df46129cc7",
   "metadata": {
    "tags": []
   },
   "outputs": [],
   "source": [
    "# Usage example\n",
    "embeddings_file = \"STRING_PPI_11_0_embeddings.txt\"\n",
    "csv_output_file = \"output_embeddings.csv\"\n",
    "create_csv_from_embeddings(embeddings_file, csv_output_file)"
   ]
  },
  {
   "cell_type": "markdown",
   "id": "3f188cbc-46a9-459b-8fcd-f4df528927ef",
   "metadata": {},
   "source": [
    "## Graph Embedding using Struc2vev ##\n",
    "\n",
    "After generating graph embeddingd for STRING PPI version 11.0 with GAE method, we will try also generating graph embeddings with `struc2vec` method.\n",
    "The reason is due to the most accurate results of those two methods that shown in the article :\n",
    "\n",
    "https://academic.oup.com/bioinformatics/article/36/4/1241/5581350?login=false"
   ]
  },
  {
   "cell_type": "code",
   "execution_count": 1,
   "id": "2b93dcc9-aea9-4da7-aad5-73ca5f997ccd",
   "metadata": {
    "tags": []
   },
   "outputs": [
    {
     "name": "stdout",
     "output_type": "stream",
     "text": [
      "Current directory: C:\\Users\\gavvi\\Desktop\\Programming\\Python\\DeepLearning Research\n"
     ]
    }
   ],
   "source": [
    "import os\n",
    "\n",
    "current_directory = os.getcwd()\n",
    "print(\"Current directory:\", current_directory)"
   ]
  },
  {
   "cell_type": "code",
   "execution_count": 2,
   "id": "47c0f278-a24a-4fbb-ac99-3d73ff63956e",
   "metadata": {
    "tags": []
   },
   "outputs": [
    {
     "name": "stdout",
     "output_type": "stream",
     "text": [
      "C:\\Users\\gavvi\\Desktop\\Programming\\Python\\DeepLearning Research\\BioNEV\n"
     ]
    }
   ],
   "source": [
    "cd BioNEV"
   ]
  },
  {
   "cell_type": "code",
   "execution_count": null,
   "id": "9fb00850-0817-4ddc-b760-fa1e3d7d4901",
   "metadata": {
    "tags": []
   },
   "outputs": [],
   "source": [
    "!bionev --input ./data/STRING_PPI_11_0_.edgelist \\\n",
    "       --output ./embeddings/STRING_PPI_11_0_s2vec_embeddings.txt \\\n",
    "       --dimensions 500 \\\n",
    "       --method struc2vec \\\n",
    "       --task link-prediction \\\n",
    "       --eval-result-file eval_result.txt"
   ]
  },
  {
   "cell_type": "code",
   "execution_count": null,
   "id": "d26322fa-5f47-466d-bfa3-0eed40772304",
   "metadata": {},
   "outputs": [],
   "source": []
  }
 ],
 "metadata": {
  "kernelspec": {
   "display_name": "Python 3 (ipykernel)",
   "language": "python",
   "name": "python3"
  },
  "language_info": {
   "codemirror_mode": {
    "name": "ipython",
    "version": 3
   },
   "file_extension": ".py",
   "mimetype": "text/x-python",
   "name": "python",
   "nbconvert_exporter": "python",
   "pygments_lexer": "ipython3",
   "version": "3.11.5"
  }
 },
 "nbformat": 4,
 "nbformat_minor": 5
}
