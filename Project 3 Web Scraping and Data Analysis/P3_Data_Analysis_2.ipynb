{
 "cells": [
  {
   "cell_type": "markdown",
   "id": "1d587c49-de80-4864-84fe-20b5bdc61748",
   "metadata": {},
   "source": [
    "# Project 3.2 - Data Analysis and Web Scraping #\n",
    "\n",
    "The second part of the third project is similar to the first part. However, while the first part dealt with `Target Pref. Name = Integrins`, which appeared many times in the *DLiP* database, and therefore, we switched those values with more specific ones from the *chEMBL* database, obtaining even more data because many molecules with `Target Pref. Name = Integrins` had more than one match with the corresponding values in the *chEMBL* database (as a reminder, we joined the data frames by the SMILES molecule values). In this part of the project (i.e., 3.2), we are going to deal with `Target Pref. Name = BCL2-Like_BAX`."
   ]
  },
  {
   "cell_type": "markdown",
   "id": "959477b4-71e1-42b4-8891-c3b0853646d5",
   "metadata": {},
   "source": [
    "## Import Libraries ##"
   ]
  },
  {
   "cell_type": "code",
   "execution_count": 109,
   "id": "bcb810f3-4d6c-47a9-be4f-4c33c629d729",
   "metadata": {
    "tags": []
   },
   "outputs": [],
   "source": [
    "import os\n",
    "import pandas as pd\n",
    "\n",
    "def PRINT(sent) -> None : print(f\"{'-'*80}\\n{sent}\\n{'-'*80}\")"
   ]
  },
  {
   "cell_type": "markdown",
   "id": "cfc102b5-0968-489d-9003-4efb1488dcaa",
   "metadata": {},
   "source": [
    "## Merge the Data ##\n",
    "\n",
    "In this phase of the project, our approach involves merging the enhanced data frame (following the addition of more informative target pref. names in the previous project, *3.1*) with another data frame obtained from a GitHub repository that also utilizes the *DLiP* database for their research.\n",
    "\n",
    "The merging process encompasses several steps:\n",
    "\n",
    "- Clone the relevant GitHub repository.\n",
    "- Extract the desired data frame.\n",
    "- Retain only the *dlip-id* and *Target_Pref_Name* columns, discarding all others.\n",
    "- Merge it with our data frame, i.e., *ppi_cs1033_df_extended*.\n",
    "\n",
    "Following the merge, the resulting data frame will consist of three columns:\n",
    "\n",
    "* Target Pref Name == BCL2-Like_BAX derived from our data frame.\n",
    "* DLiP-ID from our data frame.\n",
    "* Informative Target Pref Name extracted from the external data frame.\n",
    "\n",
    "Similar to the previous project (*3.1*), we anticipate Null values where there is no match between corresponding *DLiP-ID* values."
   ]
  },
  {
   "cell_type": "markdown",
   "id": "bdbd606a-2c99-415a-9064-11330da2471b",
   "metadata": {},
   "source": [
    "### Clone to the Correct GitHub Repository ###"
   ]
  },
  {
   "cell_type": "code",
   "execution_count": 2,
   "id": "19987a4b-362e-4645-83de-9b5e10a5eace",
   "metadata": {
    "tags": []
   },
   "outputs": [
    {
     "name": "stderr",
     "output_type": "stream",
     "text": [
      "Cloning into 'MultiPPIMI'...\n"
     ]
    }
   ],
   "source": [
    "!git clone https://github.com/sun-heqi/MultiPPIMI.git"
   ]
  },
  {
   "cell_type": "markdown",
   "id": "f5397a91-f29f-4b1e-a4ad-067f5bc79ef8",
   "metadata": {},
   "source": [
    "### Generate Wanted Data Frame ###"
   ]
  },
  {
   "cell_type": "code",
   "execution_count": 39,
   "id": "9ebf2b2f-677c-4c4c-85f7-6350d7f2ab9b",
   "metadata": {
    "tags": []
   },
   "outputs": [],
   "source": [
    "file_path = 'MultiPPIMI\\\\data\\\\folds\\\\S1'  # Replace with your file path\n",
    "fold = 1\n",
    "train_path = os.path.join(file_path, f'train_fold{fold}.csv')\n",
    "valid_path = os.path.join(file_path, f'valid_fold{fold}.csv')\n",
    "test_path = os.path.join(file_path, f'test_fold{fold}.csv')\n",
    "\n",
    "train_df = pd.read_csv(train_path)\n",
    "valid_df = pd.read_csv(valid_path)\n",
    "test_df = pd.read_csv(test_path)\n",
    "\n",
    "full_ppim_dataset = pd.concat([train_df, valid_df, test_df], axis = 0).drop_duplicates()"
   ]
  },
  {
   "cell_type": "code",
   "execution_count": 40,
   "id": "cc4df853-6d8c-4d9e-98d8-98c7c9fcfeaa",
   "metadata": {
    "tags": []
   },
   "outputs": [
    {
     "data": {
      "text/html": [
       "<div>\n",
       "<style scoped>\n",
       "    .dataframe tbody tr th:only-of-type {\n",
       "        vertical-align: middle;\n",
       "    }\n",
       "\n",
       "    .dataframe tbody tr th {\n",
       "        vertical-align: top;\n",
       "    }\n",
       "\n",
       "    .dataframe thead th {\n",
       "        text-align: right;\n",
       "    }\n",
       "</style>\n",
       "<table border=\"1\" class=\"dataframe\">\n",
       "  <thead>\n",
       "    <tr style=\"text-align: right;\">\n",
       "      <th></th>\n",
       "      <th>dlip_id</th>\n",
       "      <th>SMILES</th>\n",
       "      <th>Target_Pref_Name</th>\n",
       "      <th>Common_Target_Pref_Name</th>\n",
       "      <th>uniprot_id1</th>\n",
       "      <th>uniprot_id2</th>\n",
       "      <th>uniprot_id3</th>\n",
       "      <th>uniprot_id4</th>\n",
       "      <th>uniprot_id5</th>\n",
       "      <th>ppi_label</th>\n",
       "      <th>label</th>\n",
       "    </tr>\n",
       "  </thead>\n",
       "  <tbody>\n",
       "    <tr>\n",
       "      <th>0</th>\n",
       "      <td>C004CP</td>\n",
       "      <td>Cc1ccnc(N2C(=O)[C@](C)(CC(=O)O)C[C@@H](c3cccc(...</td>\n",
       "      <td>Tumour suppressor p53/oncoprotein Mdm2</td>\n",
       "      <td>P53/HDM2</td>\n",
       "      <td>P04637</td>\n",
       "      <td>Q00987</td>\n",
       "      <td>NaN</td>\n",
       "      <td>NaN</td>\n",
       "      <td>NaN</td>\n",
       "      <td>6.0</td>\n",
       "      <td>1</td>\n",
       "    </tr>\n",
       "    <tr>\n",
       "      <th>1</th>\n",
       "      <td>T0036J</td>\n",
       "      <td>O=C(/C=C/c1ccc(Sc2ccc(Cl)cc2Cl)c(Cl)c1)NCCCN1C...</td>\n",
       "      <td>Intercellular adhesion molecule (ICAM-1), Inte...</td>\n",
       "      <td>Integrins</td>\n",
       "      <td>P05362</td>\n",
       "      <td>P20701</td>\n",
       "      <td>P05107</td>\n",
       "      <td>NaN</td>\n",
       "      <td>NaN</td>\n",
       "      <td>102.0</td>\n",
       "      <td>1</td>\n",
       "    </tr>\n",
       "    <tr>\n",
       "      <th>2</th>\n",
       "      <td>C00459</td>\n",
       "      <td>CCOc1ccccc1N1CCN(C(=O)C2(Oc3ccc(C(F)(F)F)cc3)C...</td>\n",
       "      <td>Tumour suppressor p53/oncoprotein Mdm2</td>\n",
       "      <td>P53/HDM2</td>\n",
       "      <td>P04637</td>\n",
       "      <td>Q00987</td>\n",
       "      <td>NaN</td>\n",
       "      <td>NaN</td>\n",
       "      <td>NaN</td>\n",
       "      <td>6.0</td>\n",
       "      <td>1</td>\n",
       "    </tr>\n",
       "    <tr>\n",
       "      <th>3</th>\n",
       "      <td>T006CF</td>\n",
       "      <td>N=C(N)NCCC[C@@H]1NC(=O)CNC(=O)CSC[C@@H](C(=O)O...</td>\n",
       "      <td>Integrin alpha-IIb/beta-3</td>\n",
       "      <td>Integrins</td>\n",
       "      <td>P08514</td>\n",
       "      <td>P05106</td>\n",
       "      <td>NaN</td>\n",
       "      <td>NaN</td>\n",
       "      <td>NaN</td>\n",
       "      <td>104.0</td>\n",
       "      <td>1</td>\n",
       "    </tr>\n",
       "    <tr>\n",
       "      <th>4</th>\n",
       "      <td>T000GZ</td>\n",
       "      <td>CCOC(=O)NC(=N)c1ccc(C(=O)N[C@@H](Cc2ccc(O)cc2)...</td>\n",
       "      <td>Integrin alpha-IIb/beta-3</td>\n",
       "      <td>Integrins</td>\n",
       "      <td>P08514</td>\n",
       "      <td>P05106</td>\n",
       "      <td>NaN</td>\n",
       "      <td>NaN</td>\n",
       "      <td>NaN</td>\n",
       "      <td>104.0</td>\n",
       "      <td>1</td>\n",
       "    </tr>\n",
       "    <tr>\n",
       "      <th>...</th>\n",
       "      <td>...</td>\n",
       "      <td>...</td>\n",
       "      <td>...</td>\n",
       "      <td>...</td>\n",
       "      <td>...</td>\n",
       "      <td>...</td>\n",
       "      <td>...</td>\n",
       "      <td>...</td>\n",
       "      <td>...</td>\n",
       "      <td>...</td>\n",
       "      <td>...</td>\n",
       "    </tr>\n",
       "    <tr>\n",
       "      <th>4647</th>\n",
       "      <td>T00734</td>\n",
       "      <td>CC(C)(C)C[C@@H]1C=C(C(=O)NCCN2CCOCC2)[C@@H](c2...</td>\n",
       "      <td>FKBP1A/FK506</td>\n",
       "      <td>FKBP1A/FK506</td>\n",
       "      <td>P62942</td>\n",
       "      <td>na</td>\n",
       "      <td>NaN</td>\n",
       "      <td>NaN</td>\n",
       "      <td>NaN</td>\n",
       "      <td>4.0</td>\n",
       "      <td>0</td>\n",
       "    </tr>\n",
       "    <tr>\n",
       "      <th>4648</th>\n",
       "      <td>T0073W</td>\n",
       "      <td>CN(C)c1ccc(-c2cn3c(n2)CCC3)cc1CNC(=O)Cc1ccc(Cl...</td>\n",
       "      <td>FKBP1A/FK506</td>\n",
       "      <td>FKBP1A/FK506</td>\n",
       "      <td>P62942</td>\n",
       "      <td>na</td>\n",
       "      <td>NaN</td>\n",
       "      <td>NaN</td>\n",
       "      <td>NaN</td>\n",
       "      <td>4.0</td>\n",
       "      <td>0</td>\n",
       "    </tr>\n",
       "    <tr>\n",
       "      <th>4649</th>\n",
       "      <td>T0075T</td>\n",
       "      <td>Cl.O=C(/C=C/c1ccc(C(F)(F)F)cc1)c1ccc(OCCCN2CCO...</td>\n",
       "      <td>FKBP1A/FK506</td>\n",
       "      <td>FKBP1A/FK506</td>\n",
       "      <td>P62942</td>\n",
       "      <td>na</td>\n",
       "      <td>NaN</td>\n",
       "      <td>NaN</td>\n",
       "      <td>NaN</td>\n",
       "      <td>4.0</td>\n",
       "      <td>0</td>\n",
       "    </tr>\n",
       "    <tr>\n",
       "      <th>4650</th>\n",
       "      <td>T0076M</td>\n",
       "      <td>CCS(=O)(=O)N(C[C@@H](C1CC1)N1C(=O)[C@](C)(CC(=...</td>\n",
       "      <td>FKBP1A/FK506</td>\n",
       "      <td>FKBP1A/FK506</td>\n",
       "      <td>P62942</td>\n",
       "      <td>na</td>\n",
       "      <td>NaN</td>\n",
       "      <td>NaN</td>\n",
       "      <td>NaN</td>\n",
       "      <td>4.0</td>\n",
       "      <td>0</td>\n",
       "    </tr>\n",
       "    <tr>\n",
       "      <th>4651</th>\n",
       "      <td>T0079E</td>\n",
       "      <td>COc1cnc2n1C(C)(Cc1ccc(Br)cc1)C(=O)N2c1cc(Cl)cc...</td>\n",
       "      <td>FKBP1A/FK506</td>\n",
       "      <td>FKBP1A/FK506</td>\n",
       "      <td>P62942</td>\n",
       "      <td>na</td>\n",
       "      <td>NaN</td>\n",
       "      <td>NaN</td>\n",
       "      <td>NaN</td>\n",
       "      <td>4.0</td>\n",
       "      <td>0</td>\n",
       "    </tr>\n",
       "  </tbody>\n",
       "</table>\n",
       "<p>23260 rows × 11 columns</p>\n",
       "</div>"
      ],
      "text/plain": [
       "     dlip_id                                             SMILES  \\\n",
       "0     C004CP  Cc1ccnc(N2C(=O)[C@](C)(CC(=O)O)C[C@@H](c3cccc(...   \n",
       "1     T0036J  O=C(/C=C/c1ccc(Sc2ccc(Cl)cc2Cl)c(Cl)c1)NCCCN1C...   \n",
       "2     C00459  CCOc1ccccc1N1CCN(C(=O)C2(Oc3ccc(C(F)(F)F)cc3)C...   \n",
       "3     T006CF  N=C(N)NCCC[C@@H]1NC(=O)CNC(=O)CSC[C@@H](C(=O)O...   \n",
       "4     T000GZ  CCOC(=O)NC(=N)c1ccc(C(=O)N[C@@H](Cc2ccc(O)cc2)...   \n",
       "...      ...                                                ...   \n",
       "4647  T00734  CC(C)(C)C[C@@H]1C=C(C(=O)NCCN2CCOCC2)[C@@H](c2...   \n",
       "4648  T0073W  CN(C)c1ccc(-c2cn3c(n2)CCC3)cc1CNC(=O)Cc1ccc(Cl...   \n",
       "4649  T0075T  Cl.O=C(/C=C/c1ccc(C(F)(F)F)cc1)c1ccc(OCCCN2CCO...   \n",
       "4650  T0076M  CCS(=O)(=O)N(C[C@@H](C1CC1)N1C(=O)[C@](C)(CC(=...   \n",
       "4651  T0079E  COc1cnc2n1C(C)(Cc1ccc(Br)cc1)C(=O)N2c1cc(Cl)cc...   \n",
       "\n",
       "                                       Target_Pref_Name  \\\n",
       "0                Tumour suppressor p53/oncoprotein Mdm2   \n",
       "1     Intercellular adhesion molecule (ICAM-1), Inte...   \n",
       "2                Tumour suppressor p53/oncoprotein Mdm2   \n",
       "3                             Integrin alpha-IIb/beta-3   \n",
       "4                             Integrin alpha-IIb/beta-3   \n",
       "...                                                 ...   \n",
       "4647                                       FKBP1A/FK506   \n",
       "4648                                       FKBP1A/FK506   \n",
       "4649                                       FKBP1A/FK506   \n",
       "4650                                       FKBP1A/FK506   \n",
       "4651                                       FKBP1A/FK506   \n",
       "\n",
       "     Common_Target_Pref_Name uniprot_id1 uniprot_id2 uniprot_id3 uniprot_id4  \\\n",
       "0                   P53/HDM2      P04637      Q00987         NaN         NaN   \n",
       "1                  Integrins      P05362      P20701      P05107         NaN   \n",
       "2                   P53/HDM2      P04637      Q00987         NaN         NaN   \n",
       "3                  Integrins      P08514      P05106         NaN         NaN   \n",
       "4                  Integrins      P08514      P05106         NaN         NaN   \n",
       "...                      ...         ...         ...         ...         ...   \n",
       "4647            FKBP1A/FK506      P62942          na         NaN         NaN   \n",
       "4648            FKBP1A/FK506      P62942          na         NaN         NaN   \n",
       "4649            FKBP1A/FK506      P62942          na         NaN         NaN   \n",
       "4650            FKBP1A/FK506      P62942          na         NaN         NaN   \n",
       "4651            FKBP1A/FK506      P62942          na         NaN         NaN   \n",
       "\n",
       "      uniprot_id5  ppi_label  label  \n",
       "0             NaN        6.0      1  \n",
       "1             NaN      102.0      1  \n",
       "2             NaN        6.0      1  \n",
       "3             NaN      104.0      1  \n",
       "4             NaN      104.0      1  \n",
       "...           ...        ...    ...  \n",
       "4647          NaN        4.0      0  \n",
       "4648          NaN        4.0      0  \n",
       "4649          NaN        4.0      0  \n",
       "4650          NaN        4.0      0  \n",
       "4651          NaN        4.0      0  \n",
       "\n",
       "[23260 rows x 11 columns]"
      ]
     },
     "execution_count": 40,
     "metadata": {},
     "output_type": "execute_result"
    }
   ],
   "source": [
    "full_ppim_dataset"
   ]
  },
  {
   "cell_type": "code",
   "execution_count": 42,
   "id": "e1700887-c40a-4200-b464-750a192eef44",
   "metadata": {
    "tags": []
   },
   "outputs": [],
   "source": [
    "full_ppim_dataset.to_csv('full_ppim_dataset.csv', index=False)"
   ]
  },
  {
   "cell_type": "markdown",
   "id": "050ed6a7-d28f-4604-b977-39c417125b21",
   "metadata": {},
   "source": [
    "#### Drop Redundant Columns ####"
   ]
  },
  {
   "cell_type": "code",
   "execution_count": 43,
   "id": "7617d47f-17cc-4bdf-8af8-0e6f8ac60c95",
   "metadata": {
    "tags": []
   },
   "outputs": [],
   "source": [
    "full_ppim_dataset_ = full_ppim_dataset[['dlip_id', 'Target_Pref_Name']]"
   ]
  },
  {
   "cell_type": "code",
   "execution_count": 44,
   "id": "767442f7-f077-4d73-bea5-e80cf54ceae5",
   "metadata": {
    "tags": []
   },
   "outputs": [
    {
     "data": {
      "text/html": [
       "<div>\n",
       "<style scoped>\n",
       "    .dataframe tbody tr th:only-of-type {\n",
       "        vertical-align: middle;\n",
       "    }\n",
       "\n",
       "    .dataframe tbody tr th {\n",
       "        vertical-align: top;\n",
       "    }\n",
       "\n",
       "    .dataframe thead th {\n",
       "        text-align: right;\n",
       "    }\n",
       "</style>\n",
       "<table border=\"1\" class=\"dataframe\">\n",
       "  <thead>\n",
       "    <tr style=\"text-align: right;\">\n",
       "      <th></th>\n",
       "      <th>dlip_id</th>\n",
       "      <th>Target_Pref_Name</th>\n",
       "    </tr>\n",
       "  </thead>\n",
       "  <tbody>\n",
       "    <tr>\n",
       "      <th>0</th>\n",
       "      <td>C004CP</td>\n",
       "      <td>Tumour suppressor p53/oncoprotein Mdm2</td>\n",
       "    </tr>\n",
       "    <tr>\n",
       "      <th>1</th>\n",
       "      <td>T0036J</td>\n",
       "      <td>Intercellular adhesion molecule (ICAM-1), Inte...</td>\n",
       "    </tr>\n",
       "    <tr>\n",
       "      <th>2</th>\n",
       "      <td>C00459</td>\n",
       "      <td>Tumour suppressor p53/oncoprotein Mdm2</td>\n",
       "    </tr>\n",
       "    <tr>\n",
       "      <th>3</th>\n",
       "      <td>T006CF</td>\n",
       "      <td>Integrin alpha-IIb/beta-3</td>\n",
       "    </tr>\n",
       "    <tr>\n",
       "      <th>4</th>\n",
       "      <td>T000GZ</td>\n",
       "      <td>Integrin alpha-IIb/beta-3</td>\n",
       "    </tr>\n",
       "    <tr>\n",
       "      <th>...</th>\n",
       "      <td>...</td>\n",
       "      <td>...</td>\n",
       "    </tr>\n",
       "    <tr>\n",
       "      <th>4647</th>\n",
       "      <td>T00734</td>\n",
       "      <td>FKBP1A/FK506</td>\n",
       "    </tr>\n",
       "    <tr>\n",
       "      <th>4648</th>\n",
       "      <td>T0073W</td>\n",
       "      <td>FKBP1A/FK506</td>\n",
       "    </tr>\n",
       "    <tr>\n",
       "      <th>4649</th>\n",
       "      <td>T0075T</td>\n",
       "      <td>FKBP1A/FK506</td>\n",
       "    </tr>\n",
       "    <tr>\n",
       "      <th>4650</th>\n",
       "      <td>T0076M</td>\n",
       "      <td>FKBP1A/FK506</td>\n",
       "    </tr>\n",
       "    <tr>\n",
       "      <th>4651</th>\n",
       "      <td>T0079E</td>\n",
       "      <td>FKBP1A/FK506</td>\n",
       "    </tr>\n",
       "  </tbody>\n",
       "</table>\n",
       "<p>23260 rows × 2 columns</p>\n",
       "</div>"
      ],
      "text/plain": [
       "     dlip_id                                   Target_Pref_Name\n",
       "0     C004CP             Tumour suppressor p53/oncoprotein Mdm2\n",
       "1     T0036J  Intercellular adhesion molecule (ICAM-1), Inte...\n",
       "2     C00459             Tumour suppressor p53/oncoprotein Mdm2\n",
       "3     T006CF                          Integrin alpha-IIb/beta-3\n",
       "4     T000GZ                          Integrin alpha-IIb/beta-3\n",
       "...      ...                                                ...\n",
       "4647  T00734                                       FKBP1A/FK506\n",
       "4648  T0073W                                       FKBP1A/FK506\n",
       "4649  T0075T                                       FKBP1A/FK506\n",
       "4650  T0076M                                       FKBP1A/FK506\n",
       "4651  T0079E                                       FKBP1A/FK506\n",
       "\n",
       "[23260 rows x 2 columns]"
      ]
     },
     "execution_count": 44,
     "metadata": {},
     "output_type": "execute_result"
    }
   ],
   "source": [
    "full_ppim_dataset_"
   ]
  },
  {
   "cell_type": "markdown",
   "id": "4c0ff524-df57-479d-8231-a61d838283b2",
   "metadata": {},
   "source": [
    "##### Rename the Name of the Columns ####"
   ]
  },
  {
   "cell_type": "code",
   "execution_count": 45,
   "id": "030a6f51-011b-4bed-93f6-b1d34a5c11ca",
   "metadata": {
    "tags": []
   },
   "outputs": [
    {
     "name": "stderr",
     "output_type": "stream",
     "text": [
      "C:\\Users\\gavvi\\AppData\\Local\\Temp\\ipykernel_36912\\111510329.py:1: SettingWithCopyWarning: \n",
      "A value is trying to be set on a copy of a slice from a DataFrame\n",
      "\n",
      "See the caveats in the documentation: https://pandas.pydata.org/pandas-docs/stable/user_guide/indexing.html#returning-a-view-versus-a-copy\n",
      "  full_ppim_dataset_.rename(columns={'dlip_id': 'DLiP-ID', 'Target_Pref_Name':'Informative Target Pref Name'}, inplace=True)\n"
     ]
    },
    {
     "data": {
      "text/html": [
       "<div>\n",
       "<style scoped>\n",
       "    .dataframe tbody tr th:only-of-type {\n",
       "        vertical-align: middle;\n",
       "    }\n",
       "\n",
       "    .dataframe tbody tr th {\n",
       "        vertical-align: top;\n",
       "    }\n",
       "\n",
       "    .dataframe thead th {\n",
       "        text-align: right;\n",
       "    }\n",
       "</style>\n",
       "<table border=\"1\" class=\"dataframe\">\n",
       "  <thead>\n",
       "    <tr style=\"text-align: right;\">\n",
       "      <th></th>\n",
       "      <th>DLiP-ID</th>\n",
       "      <th>Informative Target Pref Name</th>\n",
       "    </tr>\n",
       "  </thead>\n",
       "  <tbody>\n",
       "    <tr>\n",
       "      <th>0</th>\n",
       "      <td>C004CP</td>\n",
       "      <td>Tumour suppressor p53/oncoprotein Mdm2</td>\n",
       "    </tr>\n",
       "    <tr>\n",
       "      <th>1</th>\n",
       "      <td>T0036J</td>\n",
       "      <td>Intercellular adhesion molecule (ICAM-1), Inte...</td>\n",
       "    </tr>\n",
       "    <tr>\n",
       "      <th>2</th>\n",
       "      <td>C00459</td>\n",
       "      <td>Tumour suppressor p53/oncoprotein Mdm2</td>\n",
       "    </tr>\n",
       "    <tr>\n",
       "      <th>3</th>\n",
       "      <td>T006CF</td>\n",
       "      <td>Integrin alpha-IIb/beta-3</td>\n",
       "    </tr>\n",
       "    <tr>\n",
       "      <th>4</th>\n",
       "      <td>T000GZ</td>\n",
       "      <td>Integrin alpha-IIb/beta-3</td>\n",
       "    </tr>\n",
       "  </tbody>\n",
       "</table>\n",
       "</div>"
      ],
      "text/plain": [
       "  DLiP-ID                       Informative Target Pref Name\n",
       "0  C004CP             Tumour suppressor p53/oncoprotein Mdm2\n",
       "1  T0036J  Intercellular adhesion molecule (ICAM-1), Inte...\n",
       "2  C00459             Tumour suppressor p53/oncoprotein Mdm2\n",
       "3  T006CF                          Integrin alpha-IIb/beta-3\n",
       "4  T000GZ                          Integrin alpha-IIb/beta-3"
      ]
     },
     "execution_count": 45,
     "metadata": {},
     "output_type": "execute_result"
    }
   ],
   "source": [
    "full_ppim_dataset_.rename(columns={'dlip_id': 'DLiP-ID', 'Target_Pref_Name':'Informative Target Pref Name'}, inplace=True)\n",
    "\n",
    "full_ppim_dataset_.head(5)"
   ]
  },
  {
   "cell_type": "markdown",
   "id": "7f10ce70-524f-4b3d-888f-886834472a5f",
   "metadata": {},
   "source": [
    "### Load out Data Frame ###\n",
    "\n",
    "Next, we can load our extended data frame after project *3.1* "
   ]
  },
  {
   "cell_type": "code",
   "execution_count": 46,
   "id": "c11ef620-c88d-46b9-83a4-81317f93680f",
   "metadata": {
    "tags": []
   },
   "outputs": [],
   "source": [
    "ppi_cs1033_df_extended = pd.read_csv('ppi_cs1033_extended.csv')"
   ]
  },
  {
   "cell_type": "code",
   "execution_count": 47,
   "id": "006f2e5a-dfcd-4925-8bcc-d1583d5efe10",
   "metadata": {
    "tags": []
   },
   "outputs": [
    {
     "data": {
      "text/html": [
       "<div>\n",
       "<style scoped>\n",
       "    .dataframe tbody tr th:only-of-type {\n",
       "        vertical-align: middle;\n",
       "    }\n",
       "\n",
       "    .dataframe tbody tr th {\n",
       "        vertical-align: top;\n",
       "    }\n",
       "\n",
       "    .dataframe thead th {\n",
       "        text-align: right;\n",
       "    }\n",
       "</style>\n",
       "<table border=\"1\" class=\"dataframe\">\n",
       "  <thead>\n",
       "    <tr style=\"text-align: right;\">\n",
       "      <th></th>\n",
       "      <th>DLiP-ID</th>\n",
       "      <th>Canonical SMILES(RDKit)</th>\n",
       "      <th>MW</th>\n",
       "      <th>XLogP</th>\n",
       "      <th>HBA</th>\n",
       "      <th>HBD</th>\n",
       "      <th>PSA</th>\n",
       "      <th>nRotatableBonds</th>\n",
       "      <th>nRings</th>\n",
       "      <th>Target Pref Name</th>\n",
       "      <th>Common Target Pref Name</th>\n",
       "      <th>Active</th>\n",
       "    </tr>\n",
       "  </thead>\n",
       "  <tbody>\n",
       "    <tr>\n",
       "      <th>0</th>\n",
       "      <td>T00000</td>\n",
       "      <td>CCC(C)(C)C(=O)C(=O)N1CCCCC1C(=O)OCCCc1cc(OC)cc...</td>\n",
       "      <td>433.545</td>\n",
       "      <td>3.548</td>\n",
       "      <td>6</td>\n",
       "      <td>0</td>\n",
       "      <td>82.14</td>\n",
       "      <td>10</td>\n",
       "      <td>2</td>\n",
       "      <td>FKBP1A/FK506</td>\n",
       "      <td>FKBP1A/FK506</td>\n",
       "      <td>Active</td>\n",
       "    </tr>\n",
       "    <tr>\n",
       "      <th>1</th>\n",
       "      <td>T00001</td>\n",
       "      <td>COc1ccccc1C1C2=C(N=c3s/c(=C\\c4ccc(/C=C/C(=O)O)...</td>\n",
       "      <td>520.610</td>\n",
       "      <td>5.492</td>\n",
       "      <td>6</td>\n",
       "      <td>1</td>\n",
       "      <td>80.89</td>\n",
       "      <td>5</td>\n",
       "      <td>6</td>\n",
       "      <td>Bcl-2 and Bcl-XL with BAX; BAK and BID</td>\n",
       "      <td>BCL-like/BAX,BAK</td>\n",
       "      <td>Inactive</td>\n",
       "    </tr>\n",
       "    <tr>\n",
       "      <th>2</th>\n",
       "      <td>T00002</td>\n",
       "      <td>CSc1ccc(-c2c(C#N)c3cccc(Cl)n3c2NCCc2ccccc2)cc1</td>\n",
       "      <td>417.965</td>\n",
       "      <td>7.388</td>\n",
       "      <td>4</td>\n",
       "      <td>1</td>\n",
       "      <td>40.23</td>\n",
       "      <td>6</td>\n",
       "      <td>4</td>\n",
       "      <td>Neuropilin-1/VEGF-A</td>\n",
       "      <td>Neuropilin-1/VEGF-A</td>\n",
       "      <td>Active</td>\n",
       "    </tr>\n",
       "    <tr>\n",
       "      <th>3</th>\n",
       "      <td>T00003</td>\n",
       "      <td>COc1cccc(OC)c1-c1ccc(C[C@H](NC(=O)[C@@H]2CCCN2...</td>\n",
       "      <td>519.554</td>\n",
       "      <td>5.147</td>\n",
       "      <td>7</td>\n",
       "      <td>2</td>\n",
       "      <td>131.24</td>\n",
       "      <td>10</td>\n",
       "      <td>4</td>\n",
       "      <td>Integrin alpha-4/beta-7</td>\n",
       "      <td>Integrins</td>\n",
       "      <td>Active</td>\n",
       "    </tr>\n",
       "    <tr>\n",
       "      <th>4</th>\n",
       "      <td>T00003</td>\n",
       "      <td>COc1cccc(OC)c1-c1ccc(C[C@H](NC(=O)[C@@H]2CCCN2...</td>\n",
       "      <td>519.554</td>\n",
       "      <td>5.147</td>\n",
       "      <td>7</td>\n",
       "      <td>2</td>\n",
       "      <td>131.24</td>\n",
       "      <td>10</td>\n",
       "      <td>4</td>\n",
       "      <td>Integrin alpha-4/beta-1</td>\n",
       "      <td>Integrins</td>\n",
       "      <td>Active</td>\n",
       "    </tr>\n",
       "    <tr>\n",
       "      <th>...</th>\n",
       "      <td>...</td>\n",
       "      <td>...</td>\n",
       "      <td>...</td>\n",
       "      <td>...</td>\n",
       "      <td>...</td>\n",
       "      <td>...</td>\n",
       "      <td>...</td>\n",
       "      <td>...</td>\n",
       "      <td>...</td>\n",
       "      <td>...</td>\n",
       "      <td>...</td>\n",
       "      <td>...</td>\n",
       "    </tr>\n",
       "    <tr>\n",
       "      <th>65560</th>\n",
       "      <td>T00014</td>\n",
       "      <td>Cc1cc(C)cc(S(=O)(=O)N2CCC[C@H]2C(=O)N[C@@H](CN...</td>\n",
       "      <td>502.593</td>\n",
       "      <td>2.100</td>\n",
       "      <td>5</td>\n",
       "      <td>4</td>\n",
       "      <td>144.91</td>\n",
       "      <td>9</td>\n",
       "      <td>3</td>\n",
       "      <td>Integrin alpha2/beta1</td>\n",
       "      <td>Integrins</td>\n",
       "      <td>Inactive</td>\n",
       "    </tr>\n",
       "    <tr>\n",
       "      <th>65561</th>\n",
       "      <td>T00014</td>\n",
       "      <td>Cc1cc(C)cc(S(=O)(=O)N2CCC[C@H]2C(=O)N[C@@H](CN...</td>\n",
       "      <td>502.593</td>\n",
       "      <td>2.100</td>\n",
       "      <td>5</td>\n",
       "      <td>4</td>\n",
       "      <td>144.91</td>\n",
       "      <td>9</td>\n",
       "      <td>3</td>\n",
       "      <td>Integrin alpha1/beta1 complex</td>\n",
       "      <td>Integrins</td>\n",
       "      <td>Inactive</td>\n",
       "    </tr>\n",
       "    <tr>\n",
       "      <th>65562</th>\n",
       "      <td>T00014</td>\n",
       "      <td>Cc1cc(C)cc(S(=O)(=O)N2CCC[C@H]2C(=O)N[C@@H](CN...</td>\n",
       "      <td>502.593</td>\n",
       "      <td>2.100</td>\n",
       "      <td>5</td>\n",
       "      <td>4</td>\n",
       "      <td>144.91</td>\n",
       "      <td>9</td>\n",
       "      <td>3</td>\n",
       "      <td>Integrin alpha-5/beta-1</td>\n",
       "      <td>Integrins</td>\n",
       "      <td>Inactive</td>\n",
       "    </tr>\n",
       "    <tr>\n",
       "      <th>65563</th>\n",
       "      <td>T00014</td>\n",
       "      <td>Cc1cc(C)cc(S(=O)(=O)N2CCC[C@H]2C(=O)N[C@@H](CN...</td>\n",
       "      <td>502.593</td>\n",
       "      <td>2.100</td>\n",
       "      <td>5</td>\n",
       "      <td>4</td>\n",
       "      <td>144.91</td>\n",
       "      <td>9</td>\n",
       "      <td>3</td>\n",
       "      <td>Integrin alpha-4/beta-1</td>\n",
       "      <td>Integrins</td>\n",
       "      <td>Inactive</td>\n",
       "    </tr>\n",
       "    <tr>\n",
       "      <th>65564</th>\n",
       "      <td>T00014</td>\n",
       "      <td>Cc1cc(C)cc(S(=O)(=O)N2CCC[C@H]2C(=O)N[C@@H](CN...</td>\n",
       "      <td>502.593</td>\n",
       "      <td>2.100</td>\n",
       "      <td>5</td>\n",
       "      <td>4</td>\n",
       "      <td>144.91</td>\n",
       "      <td>9</td>\n",
       "      <td>3</td>\n",
       "      <td>Integrin alpha2/beta1</td>\n",
       "      <td>Integrins</td>\n",
       "      <td>Inactive</td>\n",
       "    </tr>\n",
       "  </tbody>\n",
       "</table>\n",
       "<p>65565 rows × 12 columns</p>\n",
       "</div>"
      ],
      "text/plain": [
       "      DLiP-ID                            Canonical SMILES(RDKit)       MW  \\\n",
       "0      T00000  CCC(C)(C)C(=O)C(=O)N1CCCCC1C(=O)OCCCc1cc(OC)cc...  433.545   \n",
       "1      T00001  COc1ccccc1C1C2=C(N=c3s/c(=C\\c4ccc(/C=C/C(=O)O)...  520.610   \n",
       "2      T00002     CSc1ccc(-c2c(C#N)c3cccc(Cl)n3c2NCCc2ccccc2)cc1  417.965   \n",
       "3      T00003  COc1cccc(OC)c1-c1ccc(C[C@H](NC(=O)[C@@H]2CCCN2...  519.554   \n",
       "4      T00003  COc1cccc(OC)c1-c1ccc(C[C@H](NC(=O)[C@@H]2CCCN2...  519.554   \n",
       "...       ...                                                ...      ...   \n",
       "65560  T00014  Cc1cc(C)cc(S(=O)(=O)N2CCC[C@H]2C(=O)N[C@@H](CN...  502.593   \n",
       "65561  T00014  Cc1cc(C)cc(S(=O)(=O)N2CCC[C@H]2C(=O)N[C@@H](CN...  502.593   \n",
       "65562  T00014  Cc1cc(C)cc(S(=O)(=O)N2CCC[C@H]2C(=O)N[C@@H](CN...  502.593   \n",
       "65563  T00014  Cc1cc(C)cc(S(=O)(=O)N2CCC[C@H]2C(=O)N[C@@H](CN...  502.593   \n",
       "65564  T00014  Cc1cc(C)cc(S(=O)(=O)N2CCC[C@H]2C(=O)N[C@@H](CN...  502.593   \n",
       "\n",
       "       XLogP  HBA  HBD     PSA  nRotatableBonds  nRings  \\\n",
       "0      3.548    6    0   82.14               10       2   \n",
       "1      5.492    6    1   80.89                5       6   \n",
       "2      7.388    4    1   40.23                6       4   \n",
       "3      5.147    7    2  131.24               10       4   \n",
       "4      5.147    7    2  131.24               10       4   \n",
       "...      ...  ...  ...     ...              ...     ...   \n",
       "65560  2.100    5    4  144.91                9       3   \n",
       "65561  2.100    5    4  144.91                9       3   \n",
       "65562  2.100    5    4  144.91                9       3   \n",
       "65563  2.100    5    4  144.91                9       3   \n",
       "65564  2.100    5    4  144.91                9       3   \n",
       "\n",
       "                             Target Pref Name Common Target Pref Name  \\\n",
       "0                                FKBP1A/FK506            FKBP1A/FK506   \n",
       "1      Bcl-2 and Bcl-XL with BAX; BAK and BID        BCL-like/BAX,BAK   \n",
       "2                         Neuropilin-1/VEGF-A     Neuropilin-1/VEGF-A   \n",
       "3                     Integrin alpha-4/beta-7               Integrins   \n",
       "4                     Integrin alpha-4/beta-1               Integrins   \n",
       "...                                       ...                     ...   \n",
       "65560                   Integrin alpha2/beta1               Integrins   \n",
       "65561           Integrin alpha1/beta1 complex               Integrins   \n",
       "65562                 Integrin alpha-5/beta-1               Integrins   \n",
       "65563                 Integrin alpha-4/beta-1               Integrins   \n",
       "65564                   Integrin alpha2/beta1               Integrins   \n",
       "\n",
       "         Active  \n",
       "0        Active  \n",
       "1      Inactive  \n",
       "2        Active  \n",
       "3        Active  \n",
       "4        Active  \n",
       "...         ...  \n",
       "65560  Inactive  \n",
       "65561  Inactive  \n",
       "65562  Inactive  \n",
       "65563  Inactive  \n",
       "65564  Inactive  \n",
       "\n",
       "[65565 rows x 12 columns]"
      ]
     },
     "execution_count": 47,
     "metadata": {},
     "output_type": "execute_result"
    }
   ],
   "source": [
    "ppi_cs1033_df_extended"
   ]
  },
  {
   "cell_type": "code",
   "execution_count": 48,
   "id": "462485ae-f304-4ef5-a9d7-28d675d35f80",
   "metadata": {
    "tags": []
   },
   "outputs": [],
   "source": [
    "# Check the number of rows in partial_ppi_cs1033_df_ containing 'BCL2-Like_BAX before the merge\n",
    "before_merge_count_initial = ppi_cs1033_df_extended[ppi_cs1033_df_extended['Target Pref Name'] == 'BCL2-Like_BAX'].shape[0]"
   ]
  },
  {
   "cell_type": "code",
   "execution_count": 49,
   "id": "dadd275e-9f66-477f-bb11-e94d09ada254",
   "metadata": {
    "tags": []
   },
   "outputs": [
    {
     "name": "stdout",
     "output_type": "stream",
     "text": [
      "----------------------------------------------------------------------------------------------------\n",
      "Number of rows contain target pref. name -> BCL2-Like_BAX : 518\n",
      "Number of rows in total -> 65565\n",
      "----------------------------------------------------------------------------------------------------\n"
     ]
    }
   ],
   "source": [
    "PRINT(f'Number of rows contain target pref. name -> BCL2-Like_BAX : {before_merge_count_initial}\\nNumber of rows in total -> {ppi_cs1033_df_extended.shape[0]}')"
   ]
  },
  {
   "cell_type": "markdown",
   "id": "afc97b67-f21f-4d64-ab82-2a4f9f9e7db2",
   "metadata": {},
   "source": [
    "### Merge Step ###"
   ]
  },
  {
   "cell_type": "code",
   "execution_count": 50,
   "id": "a85683e2-7f6a-401e-b6fe-c13eb15e8463",
   "metadata": {
    "tags": []
   },
   "outputs": [],
   "source": [
    "# Select rows in ppi_cs1033_df_extended where 'Target Pref Name' is 'BCL2-Like_BAX'\n",
    "bcl2like_bax_cs1033_rows = ppi_cs1033_df_extended[ppi_cs1033_df_extended['Target Pref Name'] == 'BCL2-Like_BAX'].copy()\n",
    "\n",
    "# Merge the selected rows from ppi_cs1033_df_extended with full_ppim_dataset\n",
    "result_df = pd.merge(bcl2like_bax_cs1033_rows[['Target Pref Name', 'DLiP-ID']],\n",
    "                     full_ppim_dataset_[['DLiP-ID', 'Informative Target Pref Name']],\n",
    "                     how='left',\n",
    "                     left_on='DLiP-ID',\n",
    "                     right_on='DLiP-ID'\n",
    "                    )\n",
    "\n",
    "# Check for missing values in the merged data frame\n",
    "missing_values = result_df[result_df['Target Pref Name'].isnull()]"
   ]
  },
  {
   "cell_type": "code",
   "execution_count": 51,
   "id": "5d6ec417-7979-4515-9954-6ed3f750923f",
   "metadata": {
    "tags": []
   },
   "outputs": [
    {
     "data": {
      "text/html": [
       "<div>\n",
       "<style scoped>\n",
       "    .dataframe tbody tr th:only-of-type {\n",
       "        vertical-align: middle;\n",
       "    }\n",
       "\n",
       "    .dataframe tbody tr th {\n",
       "        vertical-align: top;\n",
       "    }\n",
       "\n",
       "    .dataframe thead th {\n",
       "        text-align: right;\n",
       "    }\n",
       "</style>\n",
       "<table border=\"1\" class=\"dataframe\">\n",
       "  <thead>\n",
       "    <tr style=\"text-align: right;\">\n",
       "      <th></th>\n",
       "      <th>Target Pref Name</th>\n",
       "      <th>DLiP-ID</th>\n",
       "      <th>Informative Target Pref Name</th>\n",
       "    </tr>\n",
       "  </thead>\n",
       "  <tbody>\n",
       "    <tr>\n",
       "      <th>0</th>\n",
       "      <td>BCL2-Like_BAX</td>\n",
       "      <td>I0011I</td>\n",
       "      <td>NaN</td>\n",
       "    </tr>\n",
       "    <tr>\n",
       "      <th>1</th>\n",
       "      <td>BCL2-Like_BAX</td>\n",
       "      <td>I00006</td>\n",
       "      <td>BCL2/BAX</td>\n",
       "    </tr>\n",
       "    <tr>\n",
       "      <th>2</th>\n",
       "      <td>BCL2-Like_BAX</td>\n",
       "      <td>I00006</td>\n",
       "      <td>BCL2/BAX</td>\n",
       "    </tr>\n",
       "    <tr>\n",
       "      <th>3</th>\n",
       "      <td>BCL2-Like_BAX</td>\n",
       "      <td>I00009</td>\n",
       "      <td>BCL2/BAX</td>\n",
       "    </tr>\n",
       "    <tr>\n",
       "      <th>4</th>\n",
       "      <td>BCL2-Like_BAX</td>\n",
       "      <td>I00009</td>\n",
       "      <td>MCL1/BAX</td>\n",
       "    </tr>\n",
       "    <tr>\n",
       "      <th>...</th>\n",
       "      <td>...</td>\n",
       "      <td>...</td>\n",
       "      <td>...</td>\n",
       "    </tr>\n",
       "    <tr>\n",
       "      <th>1226</th>\n",
       "      <td>BCL2-Like_BAX</td>\n",
       "      <td>I000AB</td>\n",
       "      <td>NaN</td>\n",
       "    </tr>\n",
       "    <tr>\n",
       "      <th>1227</th>\n",
       "      <td>BCL2-Like_BAX</td>\n",
       "      <td>I0019J</td>\n",
       "      <td>MCL1/BAX</td>\n",
       "    </tr>\n",
       "    <tr>\n",
       "      <th>1228</th>\n",
       "      <td>BCL2-Like_BAX</td>\n",
       "      <td>I0019J</td>\n",
       "      <td>MCL1/BAX</td>\n",
       "    </tr>\n",
       "    <tr>\n",
       "      <th>1229</th>\n",
       "      <td>BCL2-Like_BAX</td>\n",
       "      <td>I0019J</td>\n",
       "      <td>BCL2/BAX</td>\n",
       "    </tr>\n",
       "    <tr>\n",
       "      <th>1230</th>\n",
       "      <td>BCL2-Like_BAX</td>\n",
       "      <td>I0019J</td>\n",
       "      <td>BCL2/BAX</td>\n",
       "    </tr>\n",
       "  </tbody>\n",
       "</table>\n",
       "<p>1231 rows × 3 columns</p>\n",
       "</div>"
      ],
      "text/plain": [
       "     Target Pref Name DLiP-ID Informative Target Pref Name\n",
       "0       BCL2-Like_BAX  I0011I                          NaN\n",
       "1       BCL2-Like_BAX  I00006                     BCL2/BAX\n",
       "2       BCL2-Like_BAX  I00006                     BCL2/BAX\n",
       "3       BCL2-Like_BAX  I00009                     BCL2/BAX\n",
       "4       BCL2-Like_BAX  I00009                     MCL1/BAX\n",
       "...               ...     ...                          ...\n",
       "1226    BCL2-Like_BAX  I000AB                          NaN\n",
       "1227    BCL2-Like_BAX  I0019J                     MCL1/BAX\n",
       "1228    BCL2-Like_BAX  I0019J                     MCL1/BAX\n",
       "1229    BCL2-Like_BAX  I0019J                     BCL2/BAX\n",
       "1230    BCL2-Like_BAX  I0019J                     BCL2/BAX\n",
       "\n",
       "[1231 rows x 3 columns]"
      ]
     },
     "execution_count": 51,
     "metadata": {},
     "output_type": "execute_result"
    }
   ],
   "source": [
    "result_df"
   ]
  },
  {
   "cell_type": "markdown",
   "id": "1dee9838-d20a-495a-8029-c04c8a1b6ebc",
   "metadata": {},
   "source": [
    "### Explore the Results ###"
   ]
  },
  {
   "cell_type": "code",
   "execution_count": 55,
   "id": "8bcd47fe-4433-4cb3-b2d9-e628bbca2047",
   "metadata": {
    "tags": []
   },
   "outputs": [],
   "source": [
    "result_df.to_csv('merged_df_BCL2-Like_BAX.csv', index=False)"
   ]
  },
  {
   "cell_type": "code",
   "execution_count": 62,
   "id": "b202026b-88f9-4bb8-a1d3-3fbe95f9027a",
   "metadata": {
    "tags": []
   },
   "outputs": [],
   "source": [
    "number_of_unmatched_DLiP_ID = result_df['Informative Target Pref Name'].isnull().sum()"
   ]
  },
  {
   "cell_type": "code",
   "execution_count": 68,
   "id": "4ca39496-eefb-4efa-94dc-59190d285ff8",
   "metadata": {
    "tags": []
   },
   "outputs": [],
   "source": [
    "number_of_matches = result_df.shape[0] - number_of_unmatched_DLiP_ID"
   ]
  },
  {
   "cell_type": "code",
   "execution_count": 112,
   "id": "138f168f-5b8e-49b5-aa42-90f53f261170",
   "metadata": {
    "tags": []
   },
   "outputs": [
    {
     "name": "stdout",
     "output_type": "stream",
     "text": [
      "--------------------------------------------------------------------------------\n",
      "The number of unmatched values in \"DLiP-ID\" -> 195\n",
      "--------------------------------------------------------------------------------\n",
      "--------------------------------------------------------------------------------\n",
      "The number of time \"Target Pref Name\" = BCL2-Like_BAX in ppi_cs1033_df_extended -> 518\n",
      "--------------------------------------------------------------------------------\n",
      "--------------------------------------------------------------------------------\n",
      "The number of matched DLiP-ID that found for them unique target pref. name for BCL2-Like_BAX -> 1036\n",
      "--------------------------------------------------------------------------------\n",
      "--------------------------------------------------------------------------------\n",
      "The number of added rows to our data frame -> 518\n",
      "--------------------------------------------------------------------------------\n"
     ]
    }
   ],
   "source": [
    "PRINT(f'The number of unmatched values in \"DLiP-ID\" -> {number_of_unmatched_DLiP_ID}')\n",
    "PRINT(f'The number of time \"Target Pref Name\" = BCL2-Like_BAX in ppi_cs1033_df_extended -> {before_merge_count_initial}')\n",
    "PRINT(f'The number of matched DLiP-ID that found for them unique target pref. name for BCL2-Like_BAX -> {number_of_matches}')\n",
    "PRINT(f'The number of added rows to our data frame -> {number_of_matches - before_merge_count_initial}')"
   ]
  },
  {
   "cell_type": "markdown",
   "id": "a6f2cf90-7b69-4136-a0de-a6c9061a5ca9",
   "metadata": {},
   "source": [
    "From the results, it's apparent that we have additional rows in our data frame, doubling the count from the initial data frame rows with *BCL2-Like_BAX* as their target pref. name.\n",
    "\n",
    "Possible reasons for this discrepancy include:\n",
    "\n",
    "- One explanation could be that the *full_ppim_dataset* data frame contained more informative values for the same molecules with matching *DLiP-ID*.\n",
    "- Additionally, the *full_ppi_dataset* included instances of molecules appearing multiple times but with different *Target Pref. Names*. Consequently, when searching for matches based on the molecules' *DLiP-ID*, we obtained more than one match for some molecules, resulting in duplicated data."
   ]
  },
  {
   "cell_type": "markdown",
   "id": "03cc867c-9824-4dd2-9bb2-c86e20ff14e2",
   "metadata": {},
   "source": [
    "## Generate New Extended Data Frame ##\n",
    "\n",
    "The next step is to create a new extended data frame that will also include all the matches obtained from the previous merge step. We anticipate obtaining a larger data frame."
   ]
  },
  {
   "cell_type": "code",
   "execution_count": 73,
   "id": "b2138585-6088-4b41-b678-dbbe473aff53",
   "metadata": {
    "tags": []
   },
   "outputs": [],
   "source": [
    "# Create an empty list to store the modified rows\n",
    "modified_rows = []\n",
    "\n",
    "# Variable in order ro verify we indeed visited in each row\n",
    "count = 0\n",
    "count_unmatched_rows = 0\n",
    "# Loop through each row in ppi_cs1033_df_extended\n",
    "for index, row in ppi_cs1033_df_extended.iterrows():\n",
    "    target_pref_name = row['Target Pref Name']\n",
    "\n",
    "    # Check if the 'Target Pref Name' is 'BCL2-Like_BAX'\n",
    "    if target_pref_name == 'BCL2-Like_BAX':\n",
    "        # Find matches in result_df based on 'DLiP-ID'\n",
    "        matches = result_df[result_df['DLiP-ID'] == row['DLiP-ID']]['Informative Target Pref Name'].tolist()\n",
    "        #print(matches)\n",
    "        count+=1\n",
    "        \n",
    "        if pd.isna(matches[0]):\n",
    "            modified_rows.append(row)\n",
    "            count_unmatched_rows+=1\n",
    "            continue\n",
    "        # Duplicate the row for each match and update 'Target Pref Name'\n",
    "        for match_value in matches:\n",
    "            duplicated_row = row.copy()\n",
    "            duplicated_row['Target Pref Name'] = match_value\n",
    "            modified_rows.append(duplicated_row)\n",
    "    else:\n",
    "        count+=1\n",
    "        # If 'Target Pref Name' is not 'BCL2-Like_BAX', keep the original row\n",
    "        modified_rows.append(row)\n",
    "        \n",
    "\n",
    "# Create a new data frame with the modified rows\n",
    "modified_df = pd.DataFrame(modified_rows)\n",
    "modified_df.reset_index(drop=True, inplace=True)"
   ]
  },
  {
   "cell_type": "code",
   "execution_count": 76,
   "id": "7fd06800-d837-4180-98db-278dd9881281",
   "metadata": {
    "tags": []
   },
   "outputs": [
    {
     "name": "stdout",
     "output_type": "stream",
     "text": [
      "----------------------------------------------------------------------------------------------------\n",
      "Done.\n",
      "Visited in :65565 rows, which means skipped over 0 rows (should be 0)\n",
      "----------------------------------------------------------------------------------------------------\n",
      "----------------------------------------------------------------------------------------------------\n",
      "Number of unmatched rows we got is -> 195, and we know we should get 195\n",
      "----------------------------------------------------------------------------------------------------\n"
     ]
    }
   ],
   "source": [
    "PRINT(f'Done.\\nVisited in :{count} rows, which means skipped over {ppi_cs1033_df_extended.shape[0]-count} rows (should be 0)')\n",
    "PRINT(f'Number of unmatched rows we got is -> {count_unmatched_rows}, and we know we should get 195')"
   ]
  },
  {
   "cell_type": "code",
   "execution_count": 77,
   "id": "0ea6a82d-41dd-45b5-a231-b4910ebf7892",
   "metadata": {
    "tags": []
   },
   "outputs": [
    {
     "data": {
      "text/plain": [
       "(66278, 65565)"
      ]
     },
     "execution_count": 77,
     "metadata": {},
     "output_type": "execute_result"
    }
   ],
   "source": [
    "modified_df.shape[0], ppi_cs1033_df_extended.shape[0]"
   ]
  },
  {
   "cell_type": "code",
   "execution_count": 82,
   "id": "8bc8b360-4409-45cb-a3a9-2c28d20fabbc",
   "metadata": {
    "tags": []
   },
   "outputs": [
    {
     "data": {
      "text/plain": [
       "518"
      ]
     },
     "execution_count": 82,
     "metadata": {},
     "output_type": "execute_result"
    }
   ],
   "source": [
    "#modified_df.shape[0] - ppi_cs1033_df_extended.shape[0] - 195"
   ]
  },
  {
   "cell_type": "markdown",
   "id": "764bc3d9-74a8-4d63-861b-ad41b6ae1fae",
   "metadata": {},
   "source": [
    "### Save the Data Frame ###"
   ]
  },
  {
   "cell_type": "code",
   "execution_count": 83,
   "id": "451b99a1-73b1-426d-b7d6-d1d0c1935bc8",
   "metadata": {
    "tags": []
   },
   "outputs": [],
   "source": [
    "modified_df.to_csv('ppi_cs_1033_extended_f.csv', index=False)"
   ]
  },
  {
   "cell_type": "markdown",
   "id": "f171e7ee-da05-46e2-90a4-fe5df6694643",
   "metadata": {},
   "source": [
    "## Explore the Results ##"
   ]
  },
  {
   "cell_type": "markdown",
   "id": "51d57a3a-0f49-46ec-874d-1d3eb72314e0",
   "metadata": {},
   "source": [
    "### Check How Many Unique SMILES Got Unmatched ### "
   ]
  },
  {
   "cell_type": "code",
   "execution_count": 86,
   "id": "35050ef7-6bd3-4f85-bae1-c6c6f4ac86b9",
   "metadata": {
    "tags": []
   },
   "outputs": [],
   "source": [
    "unmatched_DLiP_ID_df = result_df[result_df['Informative Target Pref Name'].isnull()][['DLiP-ID']]"
   ]
  },
  {
   "cell_type": "code",
   "execution_count": 87,
   "id": "27926cf4-af5c-445a-b8d9-27a3b633dea9",
   "metadata": {
    "tags": []
   },
   "outputs": [
    {
     "data": {
      "text/html": [
       "<div>\n",
       "<style scoped>\n",
       "    .dataframe tbody tr th:only-of-type {\n",
       "        vertical-align: middle;\n",
       "    }\n",
       "\n",
       "    .dataframe tbody tr th {\n",
       "        vertical-align: top;\n",
       "    }\n",
       "\n",
       "    .dataframe thead th {\n",
       "        text-align: right;\n",
       "    }\n",
       "</style>\n",
       "<table border=\"1\" class=\"dataframe\">\n",
       "  <thead>\n",
       "    <tr style=\"text-align: right;\">\n",
       "      <th></th>\n",
       "      <th>DLiP-ID</th>\n",
       "    </tr>\n",
       "  </thead>\n",
       "  <tbody>\n",
       "    <tr>\n",
       "      <th>0</th>\n",
       "      <td>I0011I</td>\n",
       "    </tr>\n",
       "    <tr>\n",
       "      <th>7</th>\n",
       "      <td>I0000A</td>\n",
       "    </tr>\n",
       "    <tr>\n",
       "      <th>12</th>\n",
       "      <td>I0000C</td>\n",
       "    </tr>\n",
       "    <tr>\n",
       "      <th>13</th>\n",
       "      <td>I0000F</td>\n",
       "    </tr>\n",
       "    <tr>\n",
       "      <th>28</th>\n",
       "      <td>I0001E</td>\n",
       "    </tr>\n",
       "    <tr>\n",
       "      <th>...</th>\n",
       "      <td>...</td>\n",
       "    </tr>\n",
       "    <tr>\n",
       "      <th>1196</th>\n",
       "      <td>I001IG</td>\n",
       "    </tr>\n",
       "    <tr>\n",
       "      <th>1201</th>\n",
       "      <td>I001IK</td>\n",
       "    </tr>\n",
       "    <tr>\n",
       "      <th>1210</th>\n",
       "      <td>I001IV</td>\n",
       "    </tr>\n",
       "    <tr>\n",
       "      <th>1219</th>\n",
       "      <td>I001JR</td>\n",
       "    </tr>\n",
       "    <tr>\n",
       "      <th>1226</th>\n",
       "      <td>I000AB</td>\n",
       "    </tr>\n",
       "  </tbody>\n",
       "</table>\n",
       "<p>195 rows × 1 columns</p>\n",
       "</div>"
      ],
      "text/plain": [
       "     DLiP-ID\n",
       "0     I0011I\n",
       "7     I0000A\n",
       "12    I0000C\n",
       "13    I0000F\n",
       "28    I0001E\n",
       "...      ...\n",
       "1196  I001IG\n",
       "1201  I001IK\n",
       "1210  I001IV\n",
       "1219  I001JR\n",
       "1226  I000AB\n",
       "\n",
       "[195 rows x 1 columns]"
      ]
     },
     "execution_count": 87,
     "metadata": {},
     "output_type": "execute_result"
    }
   ],
   "source": [
    "unmatched_DLiP_ID_df "
   ]
  },
  {
   "cell_type": "code",
   "execution_count": 88,
   "id": "a4f4c7b4-6ebc-4e0f-84b0-3a4e2b317d0c",
   "metadata": {
    "tags": []
   },
   "outputs": [
    {
     "name": "stdout",
     "output_type": "stream",
     "text": [
      "Number of unique DLiP-ID values: 195\n"
     ]
    }
   ],
   "source": [
    "# Check the number of unique values\n",
    "num_unique_values = unmatched_DLiP_ID_df['DLiP-ID'].nunique()\n",
    "\n",
    "# Print the result\n",
    "print(f\"Number of unique DLiP-ID values: {num_unique_values}\")\n",
    "\n",
    "# Save the unique DLiP-ID values to a new DataFrame\n",
    "unique_DLiP_ID_df = pd.DataFrame({'DLiP-ID': unmatched_DLiP_ID_df['DLiP-ID'].unique()})\n"
   ]
  },
  {
   "cell_type": "code",
   "execution_count": 92,
   "id": "dd753103-3610-42b3-a46c-f2eb8ea6c832",
   "metadata": {
    "tags": []
   },
   "outputs": [
    {
     "data": {
      "text/html": [
       "<div>\n",
       "<style scoped>\n",
       "    .dataframe tbody tr th:only-of-type {\n",
       "        vertical-align: middle;\n",
       "    }\n",
       "\n",
       "    .dataframe tbody tr th {\n",
       "        vertical-align: top;\n",
       "    }\n",
       "\n",
       "    .dataframe thead th {\n",
       "        text-align: right;\n",
       "    }\n",
       "</style>\n",
       "<table border=\"1\" class=\"dataframe\">\n",
       "  <thead>\n",
       "    <tr style=\"text-align: right;\">\n",
       "      <th></th>\n",
       "      <th>DLiP-ID</th>\n",
       "    </tr>\n",
       "  </thead>\n",
       "  <tbody>\n",
       "    <tr>\n",
       "      <th>0</th>\n",
       "      <td>I0011I</td>\n",
       "    </tr>\n",
       "    <tr>\n",
       "      <th>1</th>\n",
       "      <td>I0000A</td>\n",
       "    </tr>\n",
       "    <tr>\n",
       "      <th>2</th>\n",
       "      <td>I0000C</td>\n",
       "    </tr>\n",
       "    <tr>\n",
       "      <th>3</th>\n",
       "      <td>I0000F</td>\n",
       "    </tr>\n",
       "    <tr>\n",
       "      <th>4</th>\n",
       "      <td>I0001E</td>\n",
       "    </tr>\n",
       "    <tr>\n",
       "      <th>...</th>\n",
       "      <td>...</td>\n",
       "    </tr>\n",
       "    <tr>\n",
       "      <th>190</th>\n",
       "      <td>I001IG</td>\n",
       "    </tr>\n",
       "    <tr>\n",
       "      <th>191</th>\n",
       "      <td>I001IK</td>\n",
       "    </tr>\n",
       "    <tr>\n",
       "      <th>192</th>\n",
       "      <td>I001IV</td>\n",
       "    </tr>\n",
       "    <tr>\n",
       "      <th>193</th>\n",
       "      <td>I001JR</td>\n",
       "    </tr>\n",
       "    <tr>\n",
       "      <th>194</th>\n",
       "      <td>I000AB</td>\n",
       "    </tr>\n",
       "  </tbody>\n",
       "</table>\n",
       "<p>195 rows × 1 columns</p>\n",
       "</div>"
      ],
      "text/plain": [
       "    DLiP-ID\n",
       "0    I0011I\n",
       "1    I0000A\n",
       "2    I0000C\n",
       "3    I0000F\n",
       "4    I0001E\n",
       "..      ...\n",
       "190  I001IG\n",
       "191  I001IK\n",
       "192  I001IV\n",
       "193  I001JR\n",
       "194  I000AB\n",
       "\n",
       "[195 rows x 1 columns]"
      ]
     },
     "execution_count": 92,
     "metadata": {},
     "output_type": "execute_result"
    }
   ],
   "source": [
    "unique_DLiP_ID_df"
   ]
  },
  {
   "cell_type": "code",
   "execution_count": 90,
   "id": "1a3ca344-7172-49aa-b83c-0eb4c807d3ed",
   "metadata": {
    "tags": []
   },
   "outputs": [],
   "source": [
    "unmatched_DLiP_r = modified_df[['DLiP-ID', 'Canonical SMILES(RDKit)']]"
   ]
  },
  {
   "cell_type": "code",
   "execution_count": 91,
   "id": "d9eb11a3-60ef-4e78-9254-dcc737c2a2d7",
   "metadata": {
    "tags": []
   },
   "outputs": [
    {
     "data": {
      "text/html": [
       "<div>\n",
       "<style scoped>\n",
       "    .dataframe tbody tr th:only-of-type {\n",
       "        vertical-align: middle;\n",
       "    }\n",
       "\n",
       "    .dataframe tbody tr th {\n",
       "        vertical-align: top;\n",
       "    }\n",
       "\n",
       "    .dataframe thead th {\n",
       "        text-align: right;\n",
       "    }\n",
       "</style>\n",
       "<table border=\"1\" class=\"dataframe\">\n",
       "  <thead>\n",
       "    <tr style=\"text-align: right;\">\n",
       "      <th></th>\n",
       "      <th>DLiP-ID</th>\n",
       "      <th>Canonical SMILES(RDKit)</th>\n",
       "    </tr>\n",
       "  </thead>\n",
       "  <tbody>\n",
       "    <tr>\n",
       "      <th>0</th>\n",
       "      <td>T00000</td>\n",
       "      <td>CCC(C)(C)C(=O)C(=O)N1CCCCC1C(=O)OCCCc1cc(OC)cc...</td>\n",
       "    </tr>\n",
       "    <tr>\n",
       "      <th>1</th>\n",
       "      <td>T00001</td>\n",
       "      <td>COc1ccccc1C1C2=C(N=c3s/c(=C\\c4ccc(/C=C/C(=O)O)...</td>\n",
       "    </tr>\n",
       "    <tr>\n",
       "      <th>2</th>\n",
       "      <td>T00002</td>\n",
       "      <td>CSc1ccc(-c2c(C#N)c3cccc(Cl)n3c2NCCc2ccccc2)cc1</td>\n",
       "    </tr>\n",
       "    <tr>\n",
       "      <th>3</th>\n",
       "      <td>T00003</td>\n",
       "      <td>COc1cccc(OC)c1-c1ccc(C[C@H](NC(=O)[C@@H]2CCCN2...</td>\n",
       "    </tr>\n",
       "    <tr>\n",
       "      <th>4</th>\n",
       "      <td>T00003</td>\n",
       "      <td>COc1cccc(OC)c1-c1ccc(C[C@H](NC(=O)[C@@H]2CCCN2...</td>\n",
       "    </tr>\n",
       "    <tr>\n",
       "      <th>...</th>\n",
       "      <td>...</td>\n",
       "      <td>...</td>\n",
       "    </tr>\n",
       "    <tr>\n",
       "      <th>66273</th>\n",
       "      <td>T00014</td>\n",
       "      <td>Cc1cc(C)cc(S(=O)(=O)N2CCC[C@H]2C(=O)N[C@@H](CN...</td>\n",
       "    </tr>\n",
       "    <tr>\n",
       "      <th>66274</th>\n",
       "      <td>T00014</td>\n",
       "      <td>Cc1cc(C)cc(S(=O)(=O)N2CCC[C@H]2C(=O)N[C@@H](CN...</td>\n",
       "    </tr>\n",
       "    <tr>\n",
       "      <th>66275</th>\n",
       "      <td>T00014</td>\n",
       "      <td>Cc1cc(C)cc(S(=O)(=O)N2CCC[C@H]2C(=O)N[C@@H](CN...</td>\n",
       "    </tr>\n",
       "    <tr>\n",
       "      <th>66276</th>\n",
       "      <td>T00014</td>\n",
       "      <td>Cc1cc(C)cc(S(=O)(=O)N2CCC[C@H]2C(=O)N[C@@H](CN...</td>\n",
       "    </tr>\n",
       "    <tr>\n",
       "      <th>66277</th>\n",
       "      <td>T00014</td>\n",
       "      <td>Cc1cc(C)cc(S(=O)(=O)N2CCC[C@H]2C(=O)N[C@@H](CN...</td>\n",
       "    </tr>\n",
       "  </tbody>\n",
       "</table>\n",
       "<p>66278 rows × 2 columns</p>\n",
       "</div>"
      ],
      "text/plain": [
       "      DLiP-ID                            Canonical SMILES(RDKit)\n",
       "0      T00000  CCC(C)(C)C(=O)C(=O)N1CCCCC1C(=O)OCCCc1cc(OC)cc...\n",
       "1      T00001  COc1ccccc1C1C2=C(N=c3s/c(=C\\c4ccc(/C=C/C(=O)O)...\n",
       "2      T00002     CSc1ccc(-c2c(C#N)c3cccc(Cl)n3c2NCCc2ccccc2)cc1\n",
       "3      T00003  COc1cccc(OC)c1-c1ccc(C[C@H](NC(=O)[C@@H]2CCCN2...\n",
       "4      T00003  COc1cccc(OC)c1-c1ccc(C[C@H](NC(=O)[C@@H]2CCCN2...\n",
       "...       ...                                                ...\n",
       "66273  T00014  Cc1cc(C)cc(S(=O)(=O)N2CCC[C@H]2C(=O)N[C@@H](CN...\n",
       "66274  T00014  Cc1cc(C)cc(S(=O)(=O)N2CCC[C@H]2C(=O)N[C@@H](CN...\n",
       "66275  T00014  Cc1cc(C)cc(S(=O)(=O)N2CCC[C@H]2C(=O)N[C@@H](CN...\n",
       "66276  T00014  Cc1cc(C)cc(S(=O)(=O)N2CCC[C@H]2C(=O)N[C@@H](CN...\n",
       "66277  T00014  Cc1cc(C)cc(S(=O)(=O)N2CCC[C@H]2C(=O)N[C@@H](CN...\n",
       "\n",
       "[66278 rows x 2 columns]"
      ]
     },
     "execution_count": 91,
     "metadata": {},
     "output_type": "execute_result"
    }
   ],
   "source": [
    "unmatched_DLiP_r"
   ]
  },
  {
   "cell_type": "code",
   "execution_count": 94,
   "id": "7bd38a95-4572-4bdc-97c3-87bbde497f92",
   "metadata": {
    "tags": []
   },
   "outputs": [],
   "source": [
    "# Create an empty list to store the modified rows\n",
    "rows = []\n",
    "\n",
    "# Loop through each row in ppi_cs1033_df\n",
    "for index, row in unique_DLiP_ID_df.iterrows():\n",
    "    DLiP_ID_195 = row['DLiP-ID']\n",
    "    \n",
    "    for idx, r in unmatched_DLiP_r.iterrows():\n",
    "        DLiP_ID_ppi_cs = r['DLiP-ID']\n",
    "        \n",
    "        if DLiP_ID_195 == DLiP_ID_ppi_cs:\n",
    "            rows.append(r)        \n",
    "\n",
    "r_df = pd.DataFrame(rows)\n",
    "r_df.reset_index(drop=True, inplace=True)"
   ]
  },
  {
   "cell_type": "code",
   "execution_count": 97,
   "id": "4deabe19-7380-4d19-bc90-37722b1b4df4",
   "metadata": {
    "tags": []
   },
   "outputs": [
    {
     "data": {
      "text/html": [
       "<div>\n",
       "<style scoped>\n",
       "    .dataframe tbody tr th:only-of-type {\n",
       "        vertical-align: middle;\n",
       "    }\n",
       "\n",
       "    .dataframe tbody tr th {\n",
       "        vertical-align: top;\n",
       "    }\n",
       "\n",
       "    .dataframe thead th {\n",
       "        text-align: right;\n",
       "    }\n",
       "</style>\n",
       "<table border=\"1\" class=\"dataframe\">\n",
       "  <thead>\n",
       "    <tr style=\"text-align: right;\">\n",
       "      <th></th>\n",
       "      <th>DLiP-ID</th>\n",
       "      <th>Canonical SMILES(RDKit)</th>\n",
       "    </tr>\n",
       "  </thead>\n",
       "  <tbody>\n",
       "    <tr>\n",
       "      <th>0</th>\n",
       "      <td>I0011I</td>\n",
       "      <td>COC1=CC(c2cc3ccccc3[nH]2)=N/C1=C/c1[nH]c(C)cc1C</td>\n",
       "    </tr>\n",
       "    <tr>\n",
       "      <th>1</th>\n",
       "      <td>I0000A</td>\n",
       "      <td>CC(C)CN(Cc1cccc(CN(Cc2ccc(-c3ccc(F)cc3)cc2)S(=...</td>\n",
       "    </tr>\n",
       "    <tr>\n",
       "      <th>2</th>\n",
       "      <td>I0000C</td>\n",
       "      <td>Cc1cc(=O)c2c(O)c(O)c(O)c(CC(C)C)c2o1</td>\n",
       "    </tr>\n",
       "    <tr>\n",
       "      <th>3</th>\n",
       "      <td>I0000F</td>\n",
       "      <td>COC1(CC(C)C)CCN(c2ccc(C(=O)NS(=O)(=O)c3ccc(N[C...</td>\n",
       "    </tr>\n",
       "    <tr>\n",
       "      <th>4</th>\n",
       "      <td>I0001E</td>\n",
       "      <td>CN(C)CC[C@H](CSc1ccccc1)Nc1ccc(S(=O)(=O)NC(=O)...</td>\n",
       "    </tr>\n",
       "    <tr>\n",
       "      <th>...</th>\n",
       "      <td>...</td>\n",
       "      <td>...</td>\n",
       "    </tr>\n",
       "    <tr>\n",
       "      <th>190</th>\n",
       "      <td>I001IG</td>\n",
       "      <td>CCOc1ccc(-c2sc(-c3ccc4c(c3)N(C(=O)Nc3nc5ccccc5...</td>\n",
       "    </tr>\n",
       "    <tr>\n",
       "      <th>191</th>\n",
       "      <td>I001IK</td>\n",
       "      <td>O=C(N[C@H]1C[C@@H]1c1ccccc1)c1ccc(CN(Cc2ccc(F)...</td>\n",
       "    </tr>\n",
       "    <tr>\n",
       "      <th>192</th>\n",
       "      <td>I001IV</td>\n",
       "      <td>CC(C)CCNC(=O)c1ccc(CN(Cc2ccc(F)cc2)S(=O)(=O)c2...</td>\n",
       "    </tr>\n",
       "    <tr>\n",
       "      <th>193</th>\n",
       "      <td>I001JR</td>\n",
       "      <td>CCOC(=O)[C@@H]1Cc2ccccc2CN1C(=O)c1ccccc1-n1nc(...</td>\n",
       "    </tr>\n",
       "    <tr>\n",
       "      <th>194</th>\n",
       "      <td>I000AB</td>\n",
       "      <td>CC(C)C[C@@H](C(=O)O)N1C(=O)/C(=C/c2ccc(Br)cc2)...</td>\n",
       "    </tr>\n",
       "  </tbody>\n",
       "</table>\n",
       "<p>195 rows × 2 columns</p>\n",
       "</div>"
      ],
      "text/plain": [
       "    DLiP-ID                            Canonical SMILES(RDKit)\n",
       "0    I0011I    COC1=CC(c2cc3ccccc3[nH]2)=N/C1=C/c1[nH]c(C)cc1C\n",
       "1    I0000A  CC(C)CN(Cc1cccc(CN(Cc2ccc(-c3ccc(F)cc3)cc2)S(=...\n",
       "2    I0000C               Cc1cc(=O)c2c(O)c(O)c(O)c(CC(C)C)c2o1\n",
       "3    I0000F  COC1(CC(C)C)CCN(c2ccc(C(=O)NS(=O)(=O)c3ccc(N[C...\n",
       "4    I0001E  CN(C)CC[C@H](CSc1ccccc1)Nc1ccc(S(=O)(=O)NC(=O)...\n",
       "..      ...                                                ...\n",
       "190  I001IG  CCOc1ccc(-c2sc(-c3ccc4c(c3)N(C(=O)Nc3nc5ccccc5...\n",
       "191  I001IK  O=C(N[C@H]1C[C@@H]1c1ccccc1)c1ccc(CN(Cc2ccc(F)...\n",
       "192  I001IV  CC(C)CCNC(=O)c1ccc(CN(Cc2ccc(F)cc2)S(=O)(=O)c2...\n",
       "193  I001JR  CCOC(=O)[C@@H]1Cc2ccccc2CN1C(=O)c1ccccc1-n1nc(...\n",
       "194  I000AB  CC(C)C[C@@H](C(=O)O)N1C(=O)/C(=C/c2ccc(Br)cc2)...\n",
       "\n",
       "[195 rows x 2 columns]"
      ]
     },
     "execution_count": 97,
     "metadata": {},
     "output_type": "execute_result"
    }
   ],
   "source": [
    "r_df"
   ]
  },
  {
   "cell_type": "code",
   "execution_count": 98,
   "id": "fa289a71-d508-4333-bcdf-ed53619a22ee",
   "metadata": {
    "tags": []
   },
   "outputs": [],
   "source": [
    "r_df_ = r_df"
   ]
  },
  {
   "cell_type": "code",
   "execution_count": 99,
   "id": "f957f939-66e1-40a3-b727-5c67878bc652",
   "metadata": {
    "tags": []
   },
   "outputs": [],
   "source": [
    "r_df_ = r_df_['Canonical SMILES(RDKit)'].drop_duplicates()"
   ]
  },
  {
   "cell_type": "code",
   "execution_count": 103,
   "id": "5d5e482d-b38e-486e-a85a-a26eb03c1fb5",
   "metadata": {
    "tags": []
   },
   "outputs": [],
   "source": [
    "r_df_.to_csv('unmatched_df_only_SMILES.csv',index=False)"
   ]
  },
  {
   "cell_type": "code",
   "execution_count": 102,
   "id": "abe30b81-f3bd-46fb-bb69-204918ab9593",
   "metadata": {
    "tags": []
   },
   "outputs": [
    {
     "data": {
      "text/plain": [
       "166"
      ]
     },
     "execution_count": 102,
     "metadata": {},
     "output_type": "execute_result"
    }
   ],
   "source": [
    "len(r_df_)"
   ]
  }
 ],
 "metadata": {
  "kernelspec": {
   "display_name": "Python 3 (ipykernel)",
   "language": "python",
   "name": "python3"
  },
  "language_info": {
   "codemirror_mode": {
    "name": "ipython",
    "version": 3
   },
   "file_extension": ".py",
   "mimetype": "text/x-python",
   "name": "python",
   "nbconvert_exporter": "python",
   "pygments_lexer": "ipython3",
   "version": "3.11.5"
  }
 },
 "nbformat": 4,
 "nbformat_minor": 5
}
